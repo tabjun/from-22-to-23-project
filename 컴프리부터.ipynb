{
 "cells": [
  {
   "cell_type": "markdown",
   "metadata": {},
   "source": [
    "### Comprehension 문법\n",
    "\n",
    "- 파이썬 고유의 아름다운 문법 ,, 코딩을 함에 있어 편리하게 해준다는 뜻\n",
    "- 반복문(for ~ in)과 조건문 그리고 변수에 대한 연산까지 모두 갖춘 편리한 문법. , 아름답기보단 나중에 익숙해지면 편해서 좋음\n",
    "- comprehension의 종류로는 `list`, `set`, `dict`등이 존재"
   ]
  },
  {
   "cell_type": "code",
   "execution_count": 2,
   "metadata": {},
   "outputs": [
    {
     "name": "stdout",
     "output_type": "stream",
     "text": [
      "2\n",
      "4\n",
      "6\n",
      "8\n",
      "10\n"
     ]
    }
   ],
   "source": [
    "a = [1,2,3,4,5,6,7,8,9,10]\n",
    "\n",
    "for i in a:\n",
    "    if i % 2 == 0: #짝수일 때만 추출하게 해주는 조건\n",
    "        print(i)\n",
    "    "
   ]
  },
  {
   "cell_type": "markdown",
   "metadata": {},
   "source": [
    "### 추출한 짝수값들을 별도로 다시 리스트로 넣고 싶을때는?"
   ]
  },
  {
   "cell_type": "code",
   "execution_count": 3,
   "metadata": {},
   "outputs": [
    {
     "data": {
      "text/plain": [
       "[2, 4, 6, 8, 10]"
      ]
     },
     "execution_count": 3,
     "metadata": {},
     "output_type": "execute_result"
    }
   ],
   "source": [
    "b = []\n",
    "\n",
    "for i in a:\n",
    "    if i % 2 == 0 :\n",
    "        b.append(i) # b는 빈 리스트 형식인데 여기에 리스트에서 단일 값추가 .append()함수를 이용하여 하나씩 담아줌\n",
    "        \n",
    "b"
   ]
  },
  {
   "cell_type": "code",
   "execution_count": null,
   "metadata": {},
   "outputs": [],
   "source": [
    "a = [i for i in a if i % 2 == 0] # for구문을 이용해 추출한 데이터를 최종적으로 젤 앞에 있는 i에 담아서 변수 a에 담아줌\n",
    "a"
   ]
  },
  {
   "cell_type": "markdown",
   "metadata": {},
   "source": [
    "### 컴프리헨션 단계 \n",
    "- 1 반복문 생성\n",
    "- 2 조건 필터 걸기\n",
    "- 3 변수 값에 별도의 연산 추가"
   ]
  },
  {
   "cell_type": "code",
   "execution_count": 10,
   "metadata": {},
   "outputs": [
    {
     "data": {
      "text/plain": [
       "[1, 2, 3, 4, 5, 6, 7, 8, 9, 10]"
      ]
     },
     "execution_count": 10,
     "metadata": {},
     "output_type": "execute_result"
    }
   ],
   "source": [
    "# 반복문 생성\n",
    "a = [1,2,3,4,5,6,7,8,9,10]\n",
    "a = [i for i in a] # for 문을 담아줄 변수 i를 한번 더 지정\n",
    "a"
   ]
  },
  {
   "cell_type": "code",
   "execution_count": 12,
   "metadata": {},
   "outputs": [
    {
     "data": {
      "text/plain": [
       "[2, 4, 6, 8, 10]"
      ]
     },
     "execution_count": 12,
     "metadata": {},
     "output_type": "execute_result"
    }
   ],
   "source": [
    "# 2 조건문\n",
    "a = [i for i in a if i % 2 == 0 ]\n",
    "a"
   ]
  },
  {
   "cell_type": "code",
   "execution_count": 15,
   "metadata": {},
   "outputs": [
    {
     "data": {
      "text/plain": [
       "[1, 27, 125, 343, 729]"
      ]
     },
     "execution_count": 15,
     "metadata": {},
     "output_type": "execute_result"
    }
   ],
   "source": [
    "a = [1,2,3,4,5,6,7,8,9,10]\n",
    "b = [i**3 for i in a if i % 2 ==1 ] # 최종 추출값에 연산을 걸어서 추출 가능\n",
    "b"
   ]
  },
  {
   "cell_type": "markdown",
   "metadata": {},
   "source": [
    "### set은 괄호만 바꿔주면 되고 세트의 특징인 중복값허용안하는거 명심"
   ]
  },
  {
   "cell_type": "code",
   "execution_count": 17,
   "metadata": {},
   "outputs": [
    {
     "data": {
      "text/plain": [
       "{2: 4, 4: 8, 6: 12, 8: 16, 10: 20}"
      ]
     },
     "execution_count": 17,
     "metadata": {},
     "output_type": "execute_result"
    }
   ],
   "source": [
    "da = {i:i*2 for i in a if i % 2 == 0}\n",
    "da"
   ]
  },
  {
   "cell_type": "markdown",
   "metadata": {},
   "source": [
    "### 함수(function)\n",
    "\n",
    "- 자주 사용되는 코드 및 **반복되는 코드를 모아 하나의 기능**으로 만들고 이름을 붙인 것입니다.\n",
    "- 즉, 함수의 가장 중요한 기능은 바로 **코드의 재사용성**입니다."
   ]
  },
  {
   "cell_type": "markdown",
   "metadata": {},
   "source": [
    "### 함수의 기본 구조\n",
    "\n",
    "- `def` 키워드로 시작합니다.\n",
    "- 함수명을 기입합니다.\n",
    "- () 안에 매개변수를 지정할 수 있고, 생략도 가능합니다.\n",
    "- 끝에는 `:`으로 끝납니다.\n",
    "- 함수의 범위 안에서는 **들여쓰기**를 합니다. 들여쓰기가 끝난 지점이 함수의 범위가 끝나는 지점입니다."
   ]
  },
  {
   "cell_type": "code",
   "execution_count": 20,
   "metadata": {},
   "outputs": [
    {
     "data": {
      "text/plain": [
       "4"
      ]
     },
     "execution_count": 20,
     "metadata": {},
     "output_type": "execute_result"
    }
   ],
   "source": [
    "def acd(a, b):\n",
    "    result = a + b\n",
    "    return result\n",
    "acd(1, 3)"
   ]
  },
  {
   "cell_type": "markdown",
   "metadata": {},
   "source": [
    "### 일반 형태\n",
    "\n",
    "- 입력 매개변수: O\n",
    "- return: O"
   ]
  },
  {
   "cell_type": "code",
   "execution_count": 24,
   "metadata": {},
   "outputs": [
    {
     "data": {
      "text/plain": [
       "6"
      ]
     },
     "execution_count": 24,
     "metadata": {},
     "output_type": "execute_result"
    }
   ],
   "source": [
    "def acd(a, b): # 입력 매개변수\n",
    "    c = a + b\n",
    "    return c # 리턴값 존재\n",
    "acd('가','나')\n",
    "acd(1,5)"
   ]
  },
  {
   "cell_type": "markdown",
   "metadata": {},
   "source": [
    "### 입력 매개변수 없을 때"
   ]
  },
  {
   "cell_type": "code",
   "execution_count": 28,
   "metadata": {},
   "outputs": [
    {
     "data": {
      "text/plain": [
       "3"
      ]
     },
     "execution_count": 28,
     "metadata": {},
     "output_type": "execute_result"
    }
   ],
   "source": [
    "def acd(): # 매개변수를 직접 설정해줘야 함\n",
    "    a = 1\n",
    "    b = 2\n",
    "    c = a + b\n",
    "    return c\n",
    "acd()"
   ]
  },
  {
   "cell_type": "markdown",
   "metadata": {},
   "source": [
    "### 리턴이 없을 때"
   ]
  },
  {
   "cell_type": "code",
   "execution_count": 30,
   "metadata": {},
   "outputs": [
    {
     "name": "stdout",
     "output_type": "stream",
     "text": [
      "result: 3\n"
     ]
    }
   ],
   "source": [
    "def acd(a,b):\n",
    "    c = a + b\n",
    "    print(f'result: {c}') # 딕셔너리 형태로 포맷팅을 이용하여 출력\n",
    "        \n",
    "acd(1,2)"
   ]
  },
  {
   "cell_type": "code",
   "execution_count": 31,
   "metadata": {},
   "outputs": [
    {
     "name": "stdout",
     "output_type": "stream",
     "text": [
      "3\n"
     ]
    }
   ],
   "source": [
    "def acd(a,b):\n",
    "    c = a + b\n",
    "    print(c)\n",
    "        \n",
    "acd(1,2)"
   ]
  },
  {
   "cell_type": "markdown",
   "metadata": {},
   "source": [
    "### 둘다 없을 때"
   ]
  },
  {
   "cell_type": "code",
   "execution_count": 35,
   "metadata": {},
   "outputs": [
    {
     "name": "stdout",
     "output_type": "stream",
     "text": [
      "aaa\n"
     ]
    }
   ],
   "source": [
    "def acd():\n",
    "    print('aaa')\n",
    "\n",
    "acd()"
   ]
  },
  {
   "cell_type": "markdown",
   "metadata": {},
   "source": [
    "### 함수의 이름 및 호출\n",
    "\n",
    "- 함수의 이름은 알파벳이나 `_`로 시작해야 합니다.\n",
    "- 함수의 지정된 이름과 () 로 **호출** 할 수 있습니다.`"
   ]
  },
  {
   "cell_type": "code",
   "execution_count": 36,
   "metadata": {},
   "outputs": [
    {
     "data": {
      "text/plain": [
       "<function __main__.acd()>"
      ]
     },
     "execution_count": 36,
     "metadata": {},
     "output_type": "execute_result"
    }
   ],
   "source": [
    "def acd():\n",
    "    print('r') \n",
    "acd"
   ]
  },
  {
   "cell_type": "markdown",
   "metadata": {},
   "source": [
    "### **호출(call)**: 함수의 이름과 함께 `()`를 같이 실행"
   ]
  },
  {
   "cell_type": "code",
   "execution_count": 38,
   "metadata": {},
   "outputs": [
    {
     "name": "stdout",
     "output_type": "stream",
     "text": [
      "r\n"
     ]
    }
   ],
   "source": [
    "    acd()"
   ]
  },
  {
   "cell_type": "code",
   "execution_count": 39,
   "metadata": {},
   "outputs": [
    {
     "name": "stdout",
     "output_type": "stream",
     "text": [
      "r\n"
     ]
    }
   ],
   "source": [
    "a = acd()\n",
    "a"
   ]
  },
  {
   "cell_type": "code",
   "execution_count": 40,
   "metadata": {},
   "outputs": [
    {
     "data": {
      "text/plain": [
       "<function __main__.acd()>"
      ]
     },
     "execution_count": 40,
     "metadata": {},
     "output_type": "execute_result"
    }
   ],
   "source": [
    "a = acd\n",
    "a"
   ]
  },
  {
   "cell_type": "code",
   "execution_count": 41,
   "metadata": {},
   "outputs": [
    {
     "name": "stdout",
     "output_type": "stream",
     "text": [
      "r\n"
     ]
    }
   ],
   "source": [
    "a()"
   ]
  },
  {
   "cell_type": "markdown",
   "metadata": {},
   "source": [
    "### 리턴값이 존재할 경우"
   ]
  },
  {
   "cell_type": "code",
   "execution_count": 1,
   "metadata": {},
   "outputs": [],
   "source": [
    "def acd():\n",
    "    print('acdcas')\n",
    "    return 123"
   ]
  },
  {
   "cell_type": "markdown",
   "metadata": {},
   "source": [
    "### **return 값이 존재**하는 경우 함수는 결과 값을 **반환** 하며 반환된 결과를 변수에 대입할 수 있습니다."
   ]
  },
  {
   "cell_type": "code",
   "execution_count": 2,
   "metadata": {},
   "outputs": [
    {
     "name": "stdout",
     "output_type": "stream",
     "text": [
      "acdcas\n"
     ]
    }
   ],
   "source": [
    "a = acd()"
   ]
  },
  {
   "cell_type": "code",
   "execution_count": 3,
   "metadata": {},
   "outputs": [
    {
     "data": {
      "text/plain": [
       "123"
      ]
     },
     "execution_count": 3,
     "metadata": {},
     "output_type": "execute_result"
    }
   ],
   "source": [
    "a"
   ]
  },
  {
   "cell_type": "markdown",
   "metadata": {},
   "source": [
    "### ??????/"
   ]
  },
  {
   "cell_type": "code",
   "execution_count": 4,
   "metadata": {},
   "outputs": [
    {
     "name": "stdout",
     "output_type": "stream",
     "text": [
      "acdcas\n"
     ]
    },
    {
     "data": {
      "text/plain": [
       "123"
      ]
     },
     "execution_count": 4,
     "metadata": {},
     "output_type": "execute_result"
    }
   ],
   "source": [
    "a = acd()\n",
    "a"
   ]
  },
  {
   "cell_type": "code",
   "execution_count": 5,
   "metadata": {},
   "outputs": [
    {
     "name": "stdout",
     "output_type": "stream",
     "text": [
      "123\n"
     ]
    }
   ],
   "source": [
    "print(a)"
   ]
  },
  {
   "cell_type": "code",
   "execution_count": 45,
   "metadata": {},
   "outputs": [],
   "source": [
    "# return 이 존재하는 경우\n",
    "def sample_function():\n",
    "    print('함수가 호출 되었습니다!')\n",
    "    return 123"
   ]
  },
  {
   "cell_type": "code",
   "execution_count": 46,
   "metadata": {},
   "outputs": [
    {
     "name": "stdout",
     "output_type": "stream",
     "text": [
      "함수가 호출 되었습니다!\n"
     ]
    }
   ],
   "source": [
    "result = sample_function() # 반환되는 값을 result에 담아준다?"
   ]
  },
  {
   "cell_type": "code",
   "execution_count": 47,
   "metadata": {},
   "outputs": [
    {
     "data": {
      "text/plain": [
       "123"
      ]
     },
     "execution_count": 47,
     "metadata": {},
     "output_type": "execute_result"
    }
   ],
   "source": [
    "result"
   ]
  },
  {
   "cell_type": "markdown",
   "metadata": {},
   "source": [
    "### docstring \n",
    "- 함수에 대한 설명을 기록\n",
    "- 사실 우리가 사용할 일이 잘 없음 남들이 만들어준것도 쓰기 힘든데 그냥 알아만 놓자"
   ]
  },
  {
   "cell_type": "code",
   "execution_count": 58,
   "metadata": {},
   "outputs": [],
   "source": [
    "def a():\n",
    "    \"\"\"\n",
    "    함수에 대한 설명을 기록합니다.\n",
    "    a은 함수를 설명하기 위한 예제 함수 입니다.\n",
    "    \n",
    "    (예시)\n",
    "    호출의 예.\n",
    "    a()\n",
    "    \"\"\"\n",
    "    print('함수가 호출 되었습니다.')"
   ]
  },
  {
   "cell_type": "code",
   "execution_count": 59,
   "metadata": {},
   "outputs": [
    {
     "name": "stdout",
     "output_type": "stream",
     "text": [
      "함수가 호출 되었습니다.\n"
     ]
    }
   ],
   "source": [
    "a()"
   ]
  },
  {
   "cell_type": "code",
   "execution_count": 62,
   "metadata": {},
   "outputs": [
    {
     "name": "stdout",
     "output_type": "stream",
     "text": [
      "\n",
      "    함수에 대한 설명을 기록합니다.\n",
      "    a은 함수를 설명하기 위한 예제 함수 입니다.\n",
      "    \n",
      "    (예시)\n",
      "    호출의 예.\n",
      "    a()\n",
      "    \n"
     ]
    }
   ],
   "source": [
    "print(a.__doc__)"
   ]
  },
  {
   "cell_type": "code",
   "execution_count": 63,
   "metadata": {},
   "outputs": [],
   "source": [
    "a?"
   ]
  },
  {
   "cell_type": "markdown",
   "metadata": {},
   "source": [
    "### 함수의 인수(매개변수)\n",
    "\n",
    "**[참고]**\n",
    "- **인수(argument)**: 값, 변수, 참조 등 전달되는 값\n",
    "- **매개변수(parameter)**: 함수 등에서 사용되는 전달된 값을 받는 변수"
   ]
  },
  {
   "cell_type": "code",
   "execution_count": 3,
   "metadata": {},
   "outputs": [
    {
     "data": {
      "text/plain": [
       "30"
      ]
     },
     "execution_count": 3,
     "metadata": {},
     "output_type": "execute_result"
    }
   ],
   "source": [
    "def acd(a,b):\n",
    "    c = a + b\n",
    "    return c\n",
    "\n",
    "acd(10,20)"
   ]
  },
  {
   "cell_type": "code",
   "execution_count": 4,
   "metadata": {},
   "outputs": [
    {
     "ename": "TypeError",
     "evalue": "acd() takes 0 positional arguments but 2 were given",
     "output_type": "error",
     "traceback": [
      "\u001b[1;31m---------------------------------------------------------------------------\u001b[0m",
      "\u001b[1;31mTypeError\u001b[0m                                 Traceback (most recent call last)",
      "\u001b[1;32m<ipython-input-4-7dae8995c471>\u001b[0m in \u001b[0;36m<module>\u001b[1;34m\u001b[0m\n\u001b[0;32m      3\u001b[0m     \u001b[1;32mreturn\u001b[0m \u001b[0mc\u001b[0m\u001b[1;33m\u001b[0m\u001b[1;33m\u001b[0m\u001b[0m\n\u001b[0;32m      4\u001b[0m \u001b[1;33m\u001b[0m\u001b[0m\n\u001b[1;32m----> 5\u001b[1;33m \u001b[0macd\u001b[0m\u001b[1;33m(\u001b[0m\u001b[1;36m10\u001b[0m\u001b[1;33m,\u001b[0m\u001b[1;36m20\u001b[0m\u001b[1;33m)\u001b[0m\u001b[1;33m\u001b[0m\u001b[1;33m\u001b[0m\u001b[0m\n\u001b[0m",
      "\u001b[1;31mTypeError\u001b[0m: acd() takes 0 positional arguments but 2 were given"
     ]
    }
   ],
   "source": [
    "def acd():  # 변수 지정안해줌\n",
    "    c = a + b\n",
    "    return c\n",
    "\n",
    "acd(10,20)"
   ]
  },
  {
   "cell_type": "markdown",
   "metadata": {},
   "source": [
    "### 위치 인수(positional arguments)\n",
    "\n",
    "- 변수명을 인수로 지정합니다.\n",
    "- 위치가 중요합니다.\n",
    "\n",
    "- 위치 인수라고 해서 이해하기 어려울 수도 있는데 함수값을 실행시켜주기 위해 인자 받는 거 어떻게 받는지 설정해주는 매개변수임\n",
    "- 그냥 acd라는 함수가 있으면 acd(a,b,c) 에서 괄호 내에 있는 a,b,c가 위치변수 즉 그냥 매개변수"
   ]
  },
  {
   "cell_type": "code",
   "execution_count": 8,
   "metadata": {},
   "outputs": [
    {
     "name": "stdout",
     "output_type": "stream",
     "text": [
      "a:10,b:20,c:30\n",
      "sum: 60\n"
     ]
    },
    {
     "data": {
      "text/plain": [
       "60"
      ]
     },
     "execution_count": 8,
     "metadata": {},
     "output_type": "execute_result"
    }
   ],
   "source": [
    "def acd(a,b,c):\n",
    "    d = a + b + c\n",
    "    print(f'a:{a},b:{b},c:{c}')\n",
    "    print(f'sum: {d}')\n",
    "    return d\n",
    "\n",
    "acd(10,20,30)"
   ]
  },
  {
   "cell_type": "code",
   "execution_count": 12,
   "metadata": {},
   "outputs": [
    {
     "ename": "TypeError",
     "evalue": "acd() missing 3 required positional arguments: 'a', 'b', and 'c'",
     "output_type": "error",
     "traceback": [
      "\u001b[1;31m---------------------------------------------------------------------------\u001b[0m",
      "\u001b[1;31mTypeError\u001b[0m                                 Traceback (most recent call last)",
      "\u001b[1;32m<ipython-input-12-5ae44aab95cc>\u001b[0m in \u001b[0;36m<module>\u001b[1;34m\u001b[0m\n\u001b[1;32m----> 1\u001b[1;33m \u001b[0ma\u001b[0m \u001b[1;33m=\u001b[0m \u001b[0macd\u001b[0m\u001b[1;33m(\u001b[0m\u001b[1;33m)\u001b[0m\u001b[1;33m\u001b[0m\u001b[1;33m\u001b[0m\u001b[0m\n\u001b[0m",
      "\u001b[1;31mTypeError\u001b[0m: acd() missing 3 required positional arguments: 'a', 'b', and 'c'"
     ]
    }
   ],
   "source": [
    "a = acd()"
   ]
  },
  {
   "cell_type": "code",
   "execution_count": 13,
   "metadata": {},
   "outputs": [
    {
     "name": "stdout",
     "output_type": "stream",
     "text": [
      "a:1,b:2,c:3\n",
      "sum: 6\n"
     ]
    },
    {
     "data": {
      "text/plain": [
       "6"
      ]
     },
     "execution_count": 13,
     "metadata": {},
     "output_type": "execute_result"
    }
   ],
   "source": [
    "a(1,2,3)"
   ]
  },
  {
   "cell_type": "markdown",
   "metadata": {},
   "source": [
    "### 키워드 인수(keyword arguments)\n",
    "\n",
    "- 위치 인수의 위치를 정확히 기억 하지 못하고 혼란을 야기할 수 있기 때문에 **인수명에 값을 직접 지정**합니다."
   ]
  },
  {
   "cell_type": "code",
   "execution_count": 14,
   "metadata": {},
   "outputs": [],
   "source": [
    "def acd(a, b, c):\n",
    "    d = a + b + c\n",
    "    print(f'a: {a}, b: {b}, c: {c}')\n",
    "    print(f'sum: {d}')\n",
    "    return d"
   ]
  },
  {
   "cell_type": "code",
   "execution_count": 16,
   "metadata": {},
   "outputs": [
    {
     "name": "stdout",
     "output_type": "stream",
     "text": [
      "a: 5, b: 3, c: 1\n",
      "sum: 9\n"
     ]
    },
    {
     "data": {
      "text/plain": [
       "9"
      ]
     },
     "execution_count": 16,
     "metadata": {},
     "output_type": "execute_result"
    }
   ],
   "source": [
    "acd(b=3, c=1, a=5) # 직접 지정함으로 굳이 위치를 안지킴"
   ]
  },
  {
   "cell_type": "markdown",
   "metadata": {},
   "source": [
    "### 기본 매개변수(default parameter)\n",
    "\n",
    "- 우리가 함수를 사용하여 괄호 앞에 인수를 따로 넣기 전에 그냥 얘는 뭐다라고 미리 지정해준거"
   ]
  },
  {
   "cell_type": "code",
   "execution_count": 17,
   "metadata": {},
   "outputs": [],
   "source": [
    "def acd(a, b=0, c=0):\n",
    "    d = a + b + c\n",
    "    print(f'a: {a}, b: {b}, c: {c}')\n",
    "    print(f'sum: {d}')\n",
    "    return d"
   ]
  },
  {
   "cell_type": "code",
   "execution_count": 18,
   "metadata": {},
   "outputs": [
    {
     "name": "stdout",
     "output_type": "stream",
     "text": [
      "a: 1, b: 0, c: 0\n",
      "sum: 1\n"
     ]
    },
    {
     "data": {
      "text/plain": [
       "1"
      ]
     },
     "execution_count": 18,
     "metadata": {},
     "output_type": "execute_result"
    }
   ],
   "source": [
    "acd(1)"
   ]
  },
  {
   "cell_type": "code",
   "execution_count": 19,
   "metadata": {},
   "outputs": [
    {
     "name": "stdout",
     "output_type": "stream",
     "text": [
      "a: 1, b: 3, c: 0\n",
      "sum: 4\n"
     ]
    },
    {
     "data": {
      "text/plain": [
       "4"
      ]
     },
     "execution_count": 19,
     "metadata": {},
     "output_type": "execute_result"
    }
   ],
   "source": [
    "acd(1,3)"
   ]
  },
  {
   "cell_type": "markdown",
   "metadata": {},
   "source": [
    "### 기본 매개변수가 **위치 인수보다 앞 쪽에 위치한 경우 Error**가 발생합니다.\n",
    "- 함수를 만들 때 그냥 매개변수가 앞에 먼저 와야 함 (a, a=0) 이런식으로 ,, (a=0,a) 이런식이면 안됨"
   ]
  },
  {
   "cell_type": "code",
   "execution_count": 21,
   "metadata": {},
   "outputs": [
    {
     "ename": "SyntaxError",
     "evalue": "non-default argument follows default argument (<ipython-input-21-acabe780a25c>, line 1)",
     "output_type": "error",
     "traceback": [
      "\u001b[1;36m  File \u001b[1;32m\"<ipython-input-21-acabe780a25c>\"\u001b[1;36m, line \u001b[1;32m1\u001b[0m\n\u001b[1;33m    def acd(a=0, b, c=0):\u001b[0m\n\u001b[1;37m            ^\u001b[0m\n\u001b[1;31mSyntaxError\u001b[0m\u001b[1;31m:\u001b[0m non-default argument follows default argument\n"
     ]
    }
   ],
   "source": [
    "def acd(a=0, b, c=0):\n",
    "    d = a + b + c\n",
    "    print(f'a: {a}, b: {b}, c: {c}')\n",
    "    print(f'sum: {d}')\n",
    "    return d"
   ]
  },
  {
   "cell_type": "code",
   "execution_count": 22,
   "metadata": {},
   "outputs": [],
   "source": [
    "def acd( b,a=2, c=0):\n",
    "    d = a + b + c\n",
    "    print(f'a: {a}, b: {b}, c: {c}')\n",
    "    print(f'sum: {d}')\n",
    "    return d"
   ]
  },
  {
   "cell_type": "markdown",
   "metadata": {},
   "source": [
    "### *tuple 인수 \n",
    "\n",
    "- 가변 매개변수에 대한 설명인데 튜플형식으로 받음\n",
    "- 여러 개의 인수를 전달 받을 수 있습니다.\n",
    "- 여러 개의 인수를 전달 받은 `*args`에는 튜플(tuple) 형식으로 데이터가 저장됩니다.\n",
    "- `*args`로 받은 인수는 반복문으로 처리하는 것이 일반 적입니다.\n",
    "- 대체적으로 `*args` 변수가 많이 사용됩니다.\n",
    "- 좀 어려움  나중에 말로 설명들으러 오세요\n",
    "- 꼭 args가 아니여도 됨 그냥 *a로 해도 됨"
   ]
  },
  {
   "cell_type": "code",
   "execution_count": 4,
   "metadata": {},
   "outputs": [],
   "source": [
    "def acd(*a):    # 넣어주는 값의 길이가 바뀔 수 있음 그리고 *이 중요함 *을 붙여줌으로써 튜플형태 가변 매개변수임을 선언\n",
    "    c = 0\n",
    "    print(f'args의 타입: {type(a)}')\n",
    "    for b in a:\n",
    "        print(b)\n",
    "        c += b\n",
    "    print('==='* 5)\n",
    "    print(f'sum: {c}')"
   ]
  },
  {
   "cell_type": "code",
   "execution_count": 39,
   "metadata": {},
   "outputs": [
    {
     "name": "stdout",
     "output_type": "stream",
     "text": [
      "args의 타입: <class 'tuple'>\n",
      "1\n",
      "2\n",
      "3\n",
      "===============\n",
      "sum: 6\n"
     ]
    }
   ],
   "source": [
    "acd(1,2,3)"
   ]
  },
  {
   "cell_type": "markdown",
   "metadata": {},
   "source": [
    "### 위치 매개변수와 *tuple 매개변수의 혼용\n",
    "\n",
    "- *tuple 매개변수는 위치 매개변수의 뒤에 위치해야 합니다.\n",
    "- 이해하기 참 어려움 나중에 설명들으러 오세요"
   ]
  },
  {
   "cell_type": "code",
   "execution_count": 42,
   "metadata": {},
   "outputs": [],
   "source": [
    "def acd(a , *args):\n",
    "    print(f'a: {a}')\n",
    "    print('==='* 5)\n",
    "    result = 0\n",
    "    for arg in args:\n",
    "        print(arg)\n",
    "        result += arg\n",
    "    print('==='* 5)\n",
    "    print(f'sum: {result}')"
   ]
  },
  {
   "cell_type": "code",
   "execution_count": 43,
   "metadata": {},
   "outputs": [
    {
     "ename": "TypeError",
     "evalue": "acd() missing 1 required positional argument: 'a'",
     "output_type": "error",
     "traceback": [
      "\u001b[1;31m---------------------------------------------------------------------------\u001b[0m",
      "\u001b[1;31mTypeError\u001b[0m                                 Traceback (most recent call last)",
      "\u001b[1;32m<ipython-input-43-c1f5ba118f8b>\u001b[0m in \u001b[0;36m<module>\u001b[1;34m\u001b[0m\n\u001b[1;32m----> 1\u001b[1;33m \u001b[0macd\u001b[0m\u001b[1;33m(\u001b[0m\u001b[1;33m)\u001b[0m\u001b[1;33m\u001b[0m\u001b[1;33m\u001b[0m\u001b[0m\n\u001b[0m",
      "\u001b[1;31mTypeError\u001b[0m: acd() missing 1 required positional argument: 'a'"
     ]
    }
   ],
   "source": [
    "acd()"
   ]
  },
  {
   "cell_type": "code",
   "execution_count": 45,
   "metadata": {},
   "outputs": [
    {
     "name": "stdout",
     "output_type": "stream",
     "text": [
      "a: 1\n",
      "===============\n",
      "===============\n",
      "sum: 0\n"
     ]
    }
   ],
   "source": [
    "acd(1)"
   ]
  },
  {
   "cell_type": "code",
   "execution_count": 46,
   "metadata": {},
   "outputs": [
    {
     "name": "stdout",
     "output_type": "stream",
     "text": [
      "a: 1\n",
      "===============\n",
      "2\n",
      "3\n",
      "4\n",
      "5\n",
      "67\n",
      "===============\n",
      "sum: 81\n"
     ]
    }
   ],
   "source": [
    "acd(1,2,3,4,5,67)"
   ]
  },
  {
   "cell_type": "markdown",
   "metadata": {},
   "source": [
    "### **dict 인수\n",
    "\n",
    "- 여러 개의 인수를 전달 받을 수 있습니다.\n",
    "- 여러 개의 인수를 전달 받은 `**kwargs`에는 딕셔너리(dict) 형식으로 데이터가 저장됩니다.\n",
    "- `**kwargs`로 받은 인수 역시 반복문으로 처리하는 것이 일반 적입니다.\n",
    "- 대체적으로 `**kwargs` 변수가 많이 사용됩니다."
   ]
  },
  {
   "cell_type": "code",
   "execution_count": 5,
   "metadata": {},
   "outputs": [],
   "source": [
    "def acd(**kwargs):  # **가 중요함 **을 이용하여 딕셔너리 형태의 가변 매개변수임을 지정해줌\n",
    "    total_age = 0\n",
    "    for name, age in kwargs.items():\n",
    "        print(f'이름: {name}, 나이: {age}')\n",
    "        total_age += age\n",
    "    print('==='* 5)\n",
    "    print(f'전체 나이의 합계: {total_age}')"
   ]
  },
  {
   "cell_type": "code",
   "execution_count": 48,
   "metadata": {},
   "outputs": [
    {
     "name": "stdout",
     "output_type": "stream",
     "text": [
      "===============\n",
      "전체 나이의 합계: 0\n"
     ]
    }
   ],
   "source": [
    "acd()"
   ]
  },
  {
   "cell_type": "code",
   "execution_count": 52,
   "metadata": {},
   "outputs": [
    {
     "name": "stdout",
     "output_type": "stream",
     "text": [
      "이름: k, 나이: 5\n",
      "이름: a, 나이: 0\n",
      "이름: cd, 나이: 21\n",
      "이름: ccdd, 나이: dfads\n"
     ]
    },
    {
     "ename": "TypeError",
     "evalue": "unsupported operand type(s) for +=: 'int' and 'str'",
     "output_type": "error",
     "traceback": [
      "\u001b[1;31m---------------------------------------------------------------------------\u001b[0m",
      "\u001b[1;31mTypeError\u001b[0m                                 Traceback (most recent call last)",
      "\u001b[1;32m<ipython-input-52-e5022c0ef395>\u001b[0m in \u001b[0;36m<module>\u001b[1;34m\u001b[0m\n\u001b[1;32m----> 1\u001b[1;33m \u001b[0macd\u001b[0m\u001b[1;33m(\u001b[0m\u001b[0mk\u001b[0m\u001b[1;33m=\u001b[0m\u001b[1;36m5\u001b[0m\u001b[1;33m,\u001b[0m\u001b[0ma\u001b[0m\u001b[1;33m=\u001b[0m\u001b[1;36m0\u001b[0m\u001b[1;33m,\u001b[0m\u001b[0mcd\u001b[0m\u001b[1;33m=\u001b[0m\u001b[1;36m21\u001b[0m\u001b[1;33m,\u001b[0m\u001b[0mccdd\u001b[0m\u001b[1;33m=\u001b[0m\u001b[1;34m'dfads'\u001b[0m\u001b[1;33m)\u001b[0m\u001b[1;33m\u001b[0m\u001b[1;33m\u001b[0m\u001b[0m\n\u001b[0m",
      "\u001b[1;32m<ipython-input-47-59d7bb837b05>\u001b[0m in \u001b[0;36macd\u001b[1;34m(**kwargs)\u001b[0m\n\u001b[0;32m      3\u001b[0m     \u001b[1;32mfor\u001b[0m \u001b[0mname\u001b[0m\u001b[1;33m,\u001b[0m \u001b[0mage\u001b[0m \u001b[1;32min\u001b[0m \u001b[0mkwargs\u001b[0m\u001b[1;33m.\u001b[0m\u001b[0mitems\u001b[0m\u001b[1;33m(\u001b[0m\u001b[1;33m)\u001b[0m\u001b[1;33m:\u001b[0m\u001b[1;33m\u001b[0m\u001b[1;33m\u001b[0m\u001b[0m\n\u001b[0;32m      4\u001b[0m         \u001b[0mprint\u001b[0m\u001b[1;33m(\u001b[0m\u001b[1;34mf'이름: {name}, 나이: {age}'\u001b[0m\u001b[1;33m)\u001b[0m\u001b[1;33m\u001b[0m\u001b[1;33m\u001b[0m\u001b[0m\n\u001b[1;32m----> 5\u001b[1;33m         \u001b[0mtotal_age\u001b[0m \u001b[1;33m+=\u001b[0m \u001b[0mage\u001b[0m\u001b[1;33m\u001b[0m\u001b[1;33m\u001b[0m\u001b[0m\n\u001b[0m\u001b[0;32m      6\u001b[0m     \u001b[0mprint\u001b[0m\u001b[1;33m(\u001b[0m\u001b[1;34m'==='\u001b[0m\u001b[1;33m*\u001b[0m \u001b[1;36m5\u001b[0m\u001b[1;33m)\u001b[0m\u001b[1;33m\u001b[0m\u001b[1;33m\u001b[0m\u001b[0m\n\u001b[0;32m      7\u001b[0m     \u001b[0mprint\u001b[0m\u001b[1;33m(\u001b[0m\u001b[1;34mf'전체 나이의 합계: {total_age}'\u001b[0m\u001b[1;33m)\u001b[0m\u001b[1;33m\u001b[0m\u001b[1;33m\u001b[0m\u001b[0m\n",
      "\u001b[1;31mTypeError\u001b[0m: unsupported operand type(s) for +=: 'int' and 'str'"
     ]
    }
   ],
   "source": [
    "acd(k=5,a=0,cd=21,ccdd='dfads')"
   ]
  },
  {
   "cell_type": "code",
   "execution_count": 53,
   "metadata": {},
   "outputs": [
    {
     "name": "stdout",
     "output_type": "stream",
     "text": [
      "이름: john, 나이: 10\n",
      "이름: peter, 나이: 12\n",
      "이름: lee, 나이: 5\n",
      "===============\n",
      "전체 나이의 합계: 27\n"
     ]
    }
   ],
   "source": [
    "person = {'john': 10, 'peter': 12, 'lee': 5}\n",
    "person\n",
    "acd(**person)"
   ]
  },
  {
   "cell_type": "markdown",
   "metadata": {},
   "source": [
    "### lambda : 익명 함수(annonymous function)\n",
    "\n",
    "- 이름 없이 정의된 함수 입니다.\n",
    "- **단일 문장(1줄)**의 코드로 작성되어야 합니다.\n",
    "- 함수 내부에서는 return문이 포함하지 않지만 값을 반환합니다.\n",
    "- 들여쓰기를 이용해 여러 행을 이용하지 않고 그냥 한줄로 적어서 사용할 수 있는데 \n",
    "- 익숙해지면 쓰기 편하지만 아니면 헷갈림"
   ]
  },
  {
   "cell_type": "code",
   "execution_count": 54,
   "metadata": {},
   "outputs": [
    {
     "data": {
      "text/plain": [
       "20"
      ]
     },
     "execution_count": 54,
     "metadata": {},
     "output_type": "execute_result"
    }
   ],
   "source": [
    "a = lambda x, y: x * y\n",
    "a(4,5)"
   ]
  },
  {
   "cell_type": "code",
   "execution_count": 55,
   "metadata": {},
   "outputs": [
    {
     "data": {
      "text/plain": [
       "4"
      ]
     },
     "execution_count": 55,
     "metadata": {},
     "output_type": "execute_result"
    }
   ],
   "source": [
    "a = lambda x: x*2\n",
    "a(2)"
   ]
  },
  {
   "cell_type": "code",
   "execution_count": 56,
   "metadata": {},
   "outputs": [
    {
     "data": {
      "text/plain": [
       "20"
      ]
     },
     "execution_count": 56,
     "metadata": {},
     "output_type": "execute_result"
    }
   ],
   "source": [
    "a = lambda x,y=10:x*y\n",
    "a(2)"
   ]
  },
  {
   "cell_type": "code",
   "execution_count": 57,
   "metadata": {},
   "outputs": [
    {
     "data": {
      "text/plain": [
       "6"
      ]
     },
     "execution_count": 57,
     "metadata": {},
     "output_type": "execute_result"
    }
   ],
   "source": [
    "a(2,3)"
   ]
  },
  {
   "cell_type": "markdown",
   "metadata": {},
   "source": [
    "### if 조건이 참일시 if 앞에 지정해준 x*y가 실행되고 아니면 y값 출력"
   ]
  },
  {
   "cell_type": "code",
   "execution_count": 58,
   "metadata": {},
   "outputs": [],
   "source": [
    "a = lambda x, y: x * y if x > 0 else y"
   ]
  },
  {
   "cell_type": "code",
   "execution_count": 59,
   "metadata": {},
   "outputs": [
    {
     "data": {
      "text/plain": [
       "32"
      ]
     },
     "execution_count": 59,
     "metadata": {},
     "output_type": "execute_result"
    }
   ],
   "source": [
    "a(4,8)"
   ]
  },
  {
   "cell_type": "code",
   "execution_count": 60,
   "metadata": {},
   "outputs": [
    {
     "data": {
      "text/plain": [
       "8"
      ]
     },
     "execution_count": 60,
     "metadata": {},
     "output_type": "execute_result"
    }
   ],
   "source": [
    "a(-1,8)"
   ]
  },
  {
   "cell_type": "code",
   "execution_count": 61,
   "metadata": {},
   "outputs": [],
   "source": [
    "a = lambda x: x * 10 if x < 2 else (x**2 if x < 4 else x + 10)"
   ]
  },
  {
   "cell_type": "code",
   "execution_count": 62,
   "metadata": {},
   "outputs": [
    {
     "data": {
      "text/plain": [
       "10"
      ]
     },
     "execution_count": 62,
     "metadata": {},
     "output_type": "execute_result"
    }
   ],
   "source": [
    "a(1)"
   ]
  },
  {
   "cell_type": "code",
   "execution_count": 63,
   "metadata": {},
   "outputs": [
    {
     "data": {
      "text/plain": [
       "15"
      ]
     },
     "execution_count": 63,
     "metadata": {},
     "output_type": "execute_result"
    }
   ],
   "source": [
    "a(5)"
   ]
  },
  {
   "cell_type": "markdown",
   "metadata": {},
   "source": [
    "### 연습문제\n",
    "- 어려울겁니다 그냥 바로 설명들으러 오세요"
   ]
  },
  {
   "cell_type": "markdown",
   "metadata": {},
   "source": [
    "### 알파벳 문자열을 인수로 넣으면  함수를 구현하세요\n",
    "\n",
    "- 함수의 이름은 `capital_letter` 로 선언합니다.\n",
    "- 함수는 **letter**라는 위치인수를 가집니다.\n",
    "- 함수는 **letter**인수에 받은 문자열을 모두 대문자로 바꾸고, 바꾼 값을 `return` 합니다."
   ]
  },
  {
   "cell_type": "code",
   "execution_count": 89,
   "metadata": {},
   "outputs": [],
   "source": [
    "def c_l(letter):\n",
    "    print(f'소문자값:{letter}')\n",
    "    result = letter.upper()\n",
    "    return(result)"
   ]
  },
  {
   "cell_type": "code",
   "execution_count": 94,
   "metadata": {},
   "outputs": [
    {
     "name": "stdout",
     "output_type": "stream",
     "text": [
      "소문자값:avdcd\n"
     ]
    },
    {
     "data": {
      "text/plain": [
       "'AVDCD'"
      ]
     },
     "execution_count": 94,
     "metadata": {},
     "output_type": "execute_result"
    }
   ],
   "source": [
    "c_l('avdcd')"
   ]
  },
  {
   "cell_type": "markdown",
   "metadata": {},
   "source": [
    "### def calc_many(choice, *args) 함수에서 \n",
    "- choice가 `sum` 이면 **합**을 구해서 return 합니다.\n",
    "- choice 가 `mul` 이면 **곱**한 결과를 return 합니다.\n",
    "\n",
    "함수를 구현하세요"
   ]
  },
  {
   "cell_type": "code",
   "execution_count": 139,
   "metadata": {},
   "outputs": [],
   "source": [
    "def acd(c,*args):\n",
    "    if c == 'sum':\n",
    "        a = 0\n",
    "    elif c == 'mul':\n",
    "        a = 1\n",
    "    for i in args:\n",
    "        if c =='sum':\n",
    "            a += i\n",
    "        elif c == 'mul':\n",
    "            a *= i\n",
    "    return a"
   ]
  },
  {
   "cell_type": "code",
   "execution_count": 140,
   "metadata": {},
   "outputs": [
    {
     "data": {
      "text/plain": [
       "21"
      ]
     },
     "execution_count": 140,
     "metadata": {},
     "output_type": "execute_result"
    }
   ],
   "source": [
    "acd('sum',1,2,3,4,5,6)"
   ]
  },
  {
   "cell_type": "code",
   "execution_count": 141,
   "metadata": {},
   "outputs": [
    {
     "data": {
      "text/plain": [
       "720"
      ]
     },
     "execution_count": 141,
     "metadata": {},
     "output_type": "execute_result"
    }
   ],
   "source": [
    "acd('mul',1,2,3,4,5,6)"
   ]
  },
  {
   "cell_type": "code",
   "execution_count": null,
   "metadata": {},
   "outputs": [],
   "source": [
    "def c_l(choice,*args):\n",
    "    if choice == 'sum':\n",
    "        sum(args)\n",
    "    if choice == 'mul':\n",
    "        args *=args"
   ]
  },
  {
   "cell_type": "code",
   "execution_count": null,
   "metadata": {},
   "outputs": [],
   "source": [
    "def acd(*a):    # 넣어주는 값의 길이가 바뀔 수 있음\n",
    "    c = 0\n",
    "    print(f'args의 타입: {type(a)}')\n",
    "    for b in a:\n",
    "        print(b)\n",
    "        c += b\n",
    "    print('==='* 5)\n",
    "    print(f'sum: {c}')\n",
    "    "
   ]
  },
  {
   "cell_type": "code",
   "execution_count": null,
   "metadata": {},
   "outputs": [],
   "source": [
    "# 결과: 10 ?????????\n",
    "print(calc_many('sum', 0, 1, 2, 3, 4))\n",
    "# 결과: 120\n",
    "print(calc_many('mul', 1, 2, 3, 4, 5))"
   ]
  },
  {
   "cell_type": "markdown",
   "metadata": {},
   "source": [
    "## map\n",
    "\n",
    "- 문법: **map(function, iterable)**\n",
    "- map은 함수(f)와 순회 가능한(iterable) 자료형을 입력으로 받습니다. \n",
    "- map은 입력받은 자료형의 각 요소를 함수(function)가 수행한 결과를 묶어서 돌려줍니다."
   ]
  },
  {
   "cell_type": "code",
   "execution_count": 102,
   "metadata": {},
   "outputs": [],
   "source": [
    "a = [1,2,3,4,5,6,7,8,9,10]"
   ]
  },
  {
   "cell_type": "code",
   "execution_count": 103,
   "metadata": {},
   "outputs": [
    {
     "data": {
      "text/plain": [
       "<map at 0x2395352d2b0>"
      ]
     },
     "execution_count": 103,
     "metadata": {},
     "output_type": "execute_result"
    }
   ],
   "source": [
    "map(str,a)"
   ]
  },
  {
   "cell_type": "code",
   "execution_count": 104,
   "metadata": {},
   "outputs": [
    {
     "data": {
      "text/plain": [
       "['1', '2', '3', '4', '5', '6', '7', '8', '9', '10']"
      ]
     },
     "execution_count": 104,
     "metadata": {},
     "output_type": "execute_result"
    }
   ],
   "source": [
    "list(map(str,a))"
   ]
  },
  {
   "cell_type": "code",
   "execution_count": 112,
   "metadata": {},
   "outputs": [
    {
     "data": {
      "text/plain": [
       "[1, 2, 3, 4, 5, 6, 7, 8, 9, 10]"
      ]
     },
     "execution_count": 112,
     "metadata": {},
     "output_type": "execute_result"
    }
   ],
   "source": [
    "ab = map(lambda x:x*2,a)\n",
    "a"
   ]
  },
  {
   "cell_type": "code",
   "execution_count": 115,
   "metadata": {},
   "outputs": [
    {
     "data": {
      "text/plain": [
       "[1, 3, 5, 7, 10, 14, 62, 85, 97, 90]"
      ]
     },
     "execution_count": 115,
     "metadata": {},
     "output_type": "execute_result"
    }
   ],
   "source": [
    "a = [1,2,3,4,5,6,7,8,9,10]\n",
    "b = [0,1,2,3,5,8,55,77,88,80]\n",
    "list(map(lambda x,y: x+y, a, b))"
   ]
  },
  {
   "cell_type": "markdown",
   "metadata": {},
   "source": [
    "### size가 안 맞을 경우 size가 작은 쪽으로 맞춤"
   ]
  },
  {
   "cell_type": "markdown",
   "metadata": {},
   "source": [
    "### fIlter\n",
    "\n",
    "- 문법: **fIlter(function, iterable)**\n",
    "- `filter` 내장함수는 값을 filter 할 때 사용합니다.\n",
    "- True인 값을 가지는 요소만 filter 합니다."
   ]
  },
  {
   "cell_type": "code",
   "execution_count": 121,
   "metadata": {},
   "outputs": [
    {
     "data": {
      "text/plain": [
       "[1, 2, 3, 4, 5, 6, 7, 8, 9, 10]"
      ]
     },
     "execution_count": 121,
     "metadata": {},
     "output_type": "execute_result"
    }
   ],
   "source": [
    "a = [1,2,3,4,5,6,7,8,9,10]\n",
    "a"
   ]
  },
  {
   "cell_type": "code",
   "execution_count": 123,
   "metadata": {},
   "outputs": [
    {
     "data": {
      "text/plain": [
       "[1, 3, 5, 7, 9]"
      ]
     },
     "execution_count": 123,
     "metadata": {},
     "output_type": "execute_result"
    }
   ],
   "source": [
    "b = filter(lambda x: True if(x % 2 == 1)else False, a ) # True인 값만 X에 담아서 추출하겠다, 즉 홀수인 값을 내보내겠다\n",
    "list(b)"
   ]
  },
  {
   "cell_type": "code",
   "execution_count": 124,
   "metadata": {},
   "outputs": [],
   "source": [
    "def mul(x):\n",
    "    if x % 3 == 0:  # 3의 배수인것만 True값으로 \n",
    "        return True\n",
    "    else:\n",
    "        return False"
   ]
  },
  {
   "cell_type": "code",
   "execution_count": 126,
   "metadata": {},
   "outputs": [
    {
     "data": {
      "text/plain": [
       "[3, 6, 9]"
      ]
     },
     "execution_count": 126,
     "metadata": {},
     "output_type": "execute_result"
    }
   ],
   "source": [
    "res = filter(mul,a) # 위의 조건을 적용시키면 3의 배수인것만 추출하는 것이므로 3,6,9 추출\n",
    "list(res)"
   ]
  },
  {
   "cell_type": "markdown",
   "metadata": {},
   "source": [
    "### zip\n",
    "\n",
    "- 문법: **zip(*iterable)**\n",
    "- 동일한 개수로 이루어진 자료형을 묶어 주는 역할을 합니다."
   ]
  },
  {
   "cell_type": "code",
   "execution_count": 127,
   "metadata": {},
   "outputs": [],
   "source": [
    "a1 = [1,2,3,4,5,6,7,8,9,10]  # 같은 인덱스상에 위치한 데이터를 튜플형태로 묶어줌\n",
    "a2 = [0,1,2,3,5,8,13,21,34,55]\n",
    "a3 = [5,7,9]"
   ]
  },
  {
   "cell_type": "code",
   "execution_count": 130,
   "metadata": {},
   "outputs": [
    {
     "data": {
      "text/plain": [
       "[(1, 0),\n",
       " (2, 1),\n",
       " (3, 2),\n",
       " (4, 3),\n",
       " (5, 5),\n",
       " (6, 8),\n",
       " (7, 13),\n",
       " (8, 21),\n",
       " (9, 34),\n",
       " (10, 55)]"
      ]
     },
     "execution_count": 130,
     "metadata": {},
     "output_type": "execute_result"
    }
   ],
   "source": [
    "d = zip(a1,a2)\n",
    "list(d)"
   ]
  },
  {
   "cell_type": "code",
   "execution_count": 132,
   "metadata": {},
   "outputs": [
    {
     "data": {
      "text/plain": [
       "[(1, 0, 5), (2, 1, 7), (3, 2, 9)]"
      ]
     },
     "execution_count": 132,
     "metadata": {},
     "output_type": "execute_result"
    }
   ],
   "source": [
    "d = zip(a1,a2,a3) #가장 작은값에 맞추어 추출\n",
    "list(d)"
   ]
  },
  {
   "cell_type": "markdown",
   "metadata": {},
   "source": [
    "### zip응용"
   ]
  },
  {
   "cell_type": "code",
   "execution_count": 133,
   "metadata": {},
   "outputs": [],
   "source": [
    "n = [1,2,3,4]\n",
    "nam = ['a','v','cd','dfd']"
   ]
  },
  {
   "cell_type": "code",
   "execution_count": 134,
   "metadata": {},
   "outputs": [
    {
     "data": {
      "text/plain": [
       "[(1, 'a'), (2, 'v'), (3, 'cd'), (4, 'dfd')]"
      ]
     },
     "execution_count": 134,
     "metadata": {},
     "output_type": "execute_result"
    }
   ],
   "source": [
    "n_n = list(zip(n,nam))\n",
    "n_n"
   ]
  },
  {
   "cell_type": "code",
   "execution_count": 2,
   "metadata": {},
   "outputs": [],
   "source": [
    "nu = [1,2,3,4]\n",
    "nam = ['dfd','dfadf','cdscad','asdf']\n",
    "dic = {}\n",
    "\n",
    "for n1, n2 in zip(nu,nam):\n",
    "    dic[n1] = n2"
   ]
  },
  {
   "cell_type": "code",
   "execution_count": 3,
   "metadata": {},
   "outputs": [
    {
     "data": {
      "text/plain": [
       "{1: 'dfd', 2: 'dfadf', 3: 'cdscad', 4: 'asdf'}"
      ]
     },
     "execution_count": 3,
     "metadata": {},
     "output_type": "execute_result"
    }
   ],
   "source": [
    "dic"
   ]
  },
  {
   "cell_type": "code",
   "execution_count": 4,
   "metadata": {},
   "outputs": [
    {
     "data": {
      "text/plain": [
       "'dfd'"
      ]
     },
     "execution_count": 4,
     "metadata": {},
     "output_type": "execute_result"
    }
   ],
   "source": [
    "dic[1]"
   ]
  },
  {
   "cell_type": "markdown",
   "metadata": {},
   "source": [
    "### enumerate\n",
    "\n",
    "- [문법]: **enumerate(iterable, start=0)**\n",
    "- 순서가 있는 자료형을 입력 받아 index를 포함하는 객체로 return 합니다."
   ]
  },
  {
   "cell_type": "code",
   "execution_count": 144,
   "metadata": {},
   "outputs": [
    {
     "name": "stdout",
     "output_type": "stream",
     "text": [
      "1\n",
      "3\n",
      "5\n",
      "7\n",
      "9\n"
     ]
    }
   ],
   "source": [
    "for a in range(1,10,2):\n",
    "    print(a)"
   ]
  },
  {
   "cell_type": "markdown",
   "metadata": {},
   "source": [
    "### 요소에 해당하는 인덱스 같이 리턴해줌"
   ]
  },
  {
   "cell_type": "code",
   "execution_count": 150,
   "metadata": {},
   "outputs": [
    {
     "name": "stdout",
     "output_type": "stream",
     "text": [
      "index: 100,value:1\n",
      "=====\n",
      "100\n",
      "index: 101,value:3\n",
      "=====\n",
      "101\n",
      "index: 102,value:5\n",
      "=====\n",
      "102\n",
      "index: 103,value:7\n",
      "=====\n",
      "103\n",
      "index: 104,value:9\n",
      "=====\n",
      "104\n"
     ]
    }
   ],
   "source": [
    "for idx, value in enumerate(range(1,10,2),start=100):  # 인덱싱값설정\n",
    "    print(f'index: {idx},value:{value}')\n",
    "    print('=====')\n",
    "    print(idx)"
   ]
  },
  {
   "cell_type": "markdown",
   "metadata": {},
   "source": [
    "### 패키지 모듈 라이브러리"
   ]
  },
  {
   "cell_type": "markdown",
   "metadata": {},
   "source": [
    "* **함수**/**변수**/**클래스**들이 뭉쳐진 하나의 .py 파일 안에 이루어진 것을 **모듈**이라고 합니다.\n",
    "* 여러 개의 모듈을 그룹화 하면 **패키지**가 됩니다.\n",
    "* **라이브러리**는 **패키지**와 **모듈**의 집합체입니다."
   ]
  },
  {
   "cell_type": "code",
   "execution_count": 6,
   "metadata": {},
   "outputs": [
    {
     "data": {
      "image/png": "[encoded data removed]",
      "text/plain": [
       "<IPython.core.display.Image object>"
      ]
     },
     "execution_count": 6,
     "metadata": {},
     "output_type": "execute_result"
    }
   ],
   "source": [
    "from IPython.display import Image\n",
    "# 출처: pythonstudy.xyz\n",
    "Image('http://pythonstudy.xyz/images/basics/python-package.png')"
   ]
  },
  {
   "cell_type": "markdown",
   "metadata": {},
   "source": [
    "### 모듈 import\n",
    "\n",
    "- 모듈 import는 외장 라이브러리의 모듈을 불러오는 유용한 기능입니다.\n",
    "- 모듈 import를 통해 는 다른 누군가가 이미 만들어 놓은 기능을 쉽게 가져와 사용할 수 있습니다.\n",
    "- 파이썬 모듈을 가져와 사용하기 위해서는 `import` 구문을 사용합니다.\n",
    "- 파이썬 모듈을 import 하는 방법은 여러가지 방식이 존재합니다."
   ]
  },
  {
   "cell_type": "code",
   "execution_count": 9,
   "metadata": {},
   "outputs": [
    {
     "data": {
      "text/plain": [
       "[5, 3, 1, 4, 2]"
      ]
     },
     "execution_count": 9,
     "metadata": {},
     "output_type": "execute_result"
    }
   ],
   "source": [
    "import random\n",
    "a = [1,2,3,4,5]\n",
    "random.shuffle(a)\n",
    "a"
   ]
  },
  {
   "cell_type": "code",
   "execution_count": 10,
   "metadata": {},
   "outputs": [],
   "source": [
    "import random as rd"
   ]
  },
  {
   "cell_type": "code",
   "execution_count": 11,
   "metadata": {},
   "outputs": [],
   "source": [
    "from random import shuffle"
   ]
  },
  {
   "cell_type": "code",
   "execution_count": 14,
   "metadata": {},
   "outputs": [
    {
     "data": {
      "text/plain": [
       "[1, 5, 3, 2, 4]"
      ]
     },
     "execution_count": 14,
     "metadata": {},
     "output_type": "execute_result"
    }
   ],
   "source": [
    "a = [ 1,2,3,4,5]\n",
    "shuffle(a)\n",
    "a"
   ]
  },
  {
   "cell_type": "code",
   "execution_count": 15,
   "metadata": {},
   "outputs": [],
   "source": [
    "import numpy as np\n",
    "import pandas as pd\n",
    "import matplotlib.pyplot as plt\n",
    "import seaborn as sns\n",
    "import random"
   ]
  },
  {
   "cell_type": "code",
   "execution_count": null,
   "metadata": {},
   "outputs": [],
   "source": []
  }
 ],
 "metadata": {
  "kernelspec": {
   "display_name": "Python 3",
   "language": "python",
   "name": "python3"
  },
  "language_info": {
   "codemirror_mode": {
    "name": "ipython",
    "version": 3
   },
   "file_extension": ".py",
   "mimetype": "text/x-python",
   "name": "python",
   "nbconvert_exporter": "python",
   "pygments_lexer": "ipython3",
   "version": "3.8.3"
  }
 },
 "nbformat": 4,
 "nbformat_minor": 4
}
