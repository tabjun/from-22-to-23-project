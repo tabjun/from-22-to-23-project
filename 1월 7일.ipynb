{
 "cells": [
  {
   "cell_type": "markdown",
   "metadata": {},
   "source": [
    "# 문제1 : 속도와 거리를 입력을 받아서 시간을 계산하는 프로그램을 작성하시오.\n",
    "# 속도 = 거리 / 시간\n",
    "# eval함수를 이용할 것."
   ]
  },
  {
   "cell_type": "code",
   "execution_count": 4,
   "metadata": {},
   "outputs": [
    {
     "name": "stdout",
     "output_type": "stream",
     "text": [
      "속도를 입력하세요 :100\n",
      "거리를 입력하세요 :200\n"
     ]
    },
    {
     "data": {
      "text/plain": [
       "2.0"
      ]
     },
     "execution_count": 4,
     "metadata": {},
     "output_type": "execute_result"
    }
   ],
   "source": [
    "V = input('속도를 입력하세요 :')\n",
    "S = input('거리를 입력하세요 :')\n",
    "\n",
    "T = eval(S + '/' + V)\n",
    "\n",
    "T\n",
    "\n"
   ]
  },
  {
   "cell_type": "markdown",
   "metadata": {},
   "source": [
    "## 문제2: 길이와 너비를 입력받아 면적과 둘레를 계산하여 출력하시오.\n",
    "## 면적 = 길이 * 너비¶\n",
    "## 둘레 = 길이 * 2 + 너비 * 2"
   ]
  },
  {
   "cell_type": "code",
   "execution_count": 7,
   "metadata": {},
   "outputs": [
    {
     "name": "stdout",
     "output_type": "stream",
     "text": [
      "길이를 입력하세요:30\n",
      "너비를 입력하세요:30\n",
      "900\n",
      "120\n"
     ]
    }
   ],
   "source": [
    "L = input('길이를 입력하세요:')\n",
    "W = input('너비를 입력하세요:')\n",
    "\n",
    "Area = eval(L + '*' + W)\n",
    "print(Area)\n",
    "\n",
    "Boundary = eval(L + '*' + '2' + '+' + W + '*' + '2')\n",
    "print(Boundary)"
   ]
  },
  {
   "cell_type": "markdown",
   "metadata": {},
   "source": [
    "## 문제 3: 화씨 온도를 입력받아 섭씨 온도로 변환하시오\n",
    "## 섭씨 = (화씨 - 32) / 1.8"
   ]
  },
  {
   "cell_type": "code",
   "execution_count": 8,
   "metadata": {},
   "outputs": [
    {
     "name": "stdout",
     "output_type": "stream",
     "text": [
      "온도를 입력하세요:80\n"
     ]
    },
    {
     "data": {
      "text/plain": [
       "26.666666666666664"
      ]
     },
     "execution_count": 8,
     "metadata": {},
     "output_type": "execute_result"
    }
   ],
   "source": [
    "F = input('온도를 입력하세요:')\n",
    "Express = eval('(' + F + '-' + '32' + ')' + '/' + '1.8')\n",
    "Express"
   ]
  },
  {
   "cell_type": "markdown",
   "metadata": {},
   "source": [
    "### 함수 : 복잡한 계산 작업을 단순화 시켜줌. 동일한 알고리즘의 반복수행가능. 호출전까지 실행되지 않음\n",
    "### 매개변수 : 함수 내부에서 사용되는 변수 값을 전달받음.\n",
    "### return으로 함수 결과값을 반환  <br> <br>\n",
    "\n",
    "def 함수명(매개변수):<br>\n",
    "    실행할 코드<br>\n",
    "    return 결과값"
   ]
  },
  {
   "cell_type": "code",
   "execution_count": 10,
   "metadata": {},
   "outputs": [
    {
     "name": "stdout",
     "output_type": "stream",
     "text": [
      "None\n"
     ]
    }
   ],
   "source": [
    "def add(a, b):\n",
    "    return a+b\n",
    "\n",
    "print(add(4, 6))"
   ]
  },
  {
   "cell_type": "code",
   "execution_count": 13,
   "metadata": {},
   "outputs": [
    {
     "name": "stdout",
     "output_type": "stream",
     "text": [
      "-7\n"
     ]
    }
   ],
   "source": [
    "def substract(c, d):\n",
    "    return d - c\n",
    "\n",
    "print(substract(14,7))"
   ]
  },
  {
   "cell_type": "code",
   "execution_count": 15,
   "metadata": {},
   "outputs": [
    {
     "name": "stdout",
     "output_type": "stream",
     "text": [
      "11\n"
     ]
    }
   ],
   "source": [
    "# 람다 함수 표현식 : 함수 표현이 간결\n",
    "\n",
    "print((lambda a, b : a + b)(6,5))"
   ]
  },
  {
   "cell_type": "code",
   "execution_count": 16,
   "metadata": {},
   "outputs": [],
   "source": [
    "x = (lambda a, b : a + b)(6,5)"
   ]
  },
  {
   "cell_type": "code",
   "execution_count": 17,
   "metadata": {},
   "outputs": [
    {
     "data": {
      "text/plain": [
       "11"
      ]
     },
     "execution_count": 17,
     "metadata": {},
     "output_type": "execute_result"
    }
   ],
   "source": [
    "x"
   ]
  },
  {
   "cell_type": "markdown",
   "metadata": {},
   "source": [
    "## 함수 문제 \n",
    "### 표준 체중을 구하여라\n",
    "### 표준 체중 : std_weight = height(m) * height(m) * 22 (남자)\n",
    "###            std_weight = height(m) * height(m) * 21 (여자)\n",
    "\n",
    "### 매개변수 : height, gender\n",
    "### std_weight 구해서 소수점 이하 둘째자리까지 반올림하시오."
   ]
  },
  {
   "cell_type": "code",
   "execution_count": 19,
   "metadata": {},
   "outputs": [],
   "source": [
    "def std_weight(height, gender):\n",
    "    if gender == 'M':\n",
    "        return height * height * 22\n",
    "    else:\n",
    "        return height * height * 21"
   ]
  },
  {
   "cell_type": "code",
   "execution_count": 21,
   "metadata": {},
   "outputs": [
    {
     "name": "stdout",
     "output_type": "stream",
     "text": [
      "키가 178cm인 여자의 표준체중은 66.54kg입니다\n"
     ]
    }
   ],
   "source": [
    "height = 178\n",
    "gender ='여자'\n",
    "\n",
    "weight = round(std_weight(height/100, gender), 2)\n",
    "print('키가 {0}cm인 {1}의 표준체중은 {2}kg입니다'.format(height, gender, weight))"
   ]
  },
  {
   "cell_type": "code",
   "execution_count": 25,
   "metadata": {},
   "outputs": [
    {
     "name": "stdout",
     "output_type": "stream",
     "text": [
      "500500\n"
     ]
    }
   ],
   "source": [
    "# 1부터 n까지 합을 구하는 함수\n",
    "\n",
    "def sum_func(n):\n",
    "    s = 0\n",
    "    for x in range(1,n+1):\n",
    "        s = s + x\n",
    "    return s\n",
    "\n",
    "print(sum_func(1000))"
   ]
  },
  {
   "cell_type": "code",
   "execution_count": 39,
   "metadata": {},
   "outputs": [],
   "source": [
    "### 선그리기 : 빨강, 파랑, 노랑색을 가지는 태극무늬 그리기\n",
    "\n",
    "import turtle as t\n",
    "\n",
    "t.bgcolor('black')\n",
    "t.speed(0)\n",
    "\n",
    "for x in range(200):\n",
    "    if x % 3 == 0:\n",
    "        t.color('red')\n",
    "    if x % 3 == 1:\n",
    "        t.color('blue')\n",
    "    if x % 3 == 2:\n",
    "        t.color('yellow')\n",
    "        \n",
    "    t.forward(x*2)\n",
    "    t.left(1020)\n",
    "t.exitonclick()"
   ]
  },
  {
   "cell_type": "code",
   "execution_count": null,
   "metadata": {},
   "outputs": [],
   "source": []
  }
 ],
 "metadata": {
  "kernelspec": {
   "display_name": "Python 3",
   "language": "python",
   "name": "python3"
  },
  "language_info": {
   "codemirror_mode": {
    "name": "ipython",
    "version": 3
   },
   "file_extension": ".py",
   "mimetype": "text/x-python",
   "name": "python",
   "nbconvert_exporter": "python",
   "pygments_lexer": "ipython3",
   "version": "3.7.4"
  }
 },
 "nbformat": 4,
 "nbformat_minor": 2
}
