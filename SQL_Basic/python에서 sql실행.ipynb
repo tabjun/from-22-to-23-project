{
 "cells": [
  {
   "cell_type": "markdown",
   "metadata": {},
   "source": [
    "# pymysql 사용"
   ]
  },
  {
   "cell_type": "markdown",
   "metadata": {},
   "source": [
    "1. mysql 연결 : pymysql.connect()\n",
    "2. 커서 생성 : 연결자.cursor()\n",
    "3. 테이블 만들기 : execute(create table)\n",
    "4. 데이터 입력 : execute(insert)\n",
    "5. 데이터 저장 : commit()\n",
    "6. mysql 연결 종료 : close()"
   ]
  },
  {
   "cell_type": "code",
   "execution_count": 2,
   "metadata": {},
   "outputs": [
    {
     "data": {
      "text/plain": [
       "0"
      ]
     },
     "execution_count": 2,
     "metadata": {},
     "output_type": "execute_result"
    }
   ],
   "source": [
    "import pymysql\n",
    "\n",
    "# connection 하기\n",
    "# 처음에 연결할 때 conn(대부분 사용하는 이름)\n",
    "conn = pymysql.connect(host='127.0.0.1', user='root', password='8858', db='soloDB',charset='utf8') \n",
    "\n",
    "# 커서 연결\n",
    "cur = conn.cursor()\n",
    "\n",
    "# 테이블 만들기\n",
    "cur.execute('create table usertable (id char(4), username char(15), email char(20), birthyear int)')\n"
   ]
  },
  {
   "cell_type": "code",
   "execution_count": null,
   "metadata": {},
   "outputs": [],
   "source": [
    "# 데이터 입력\n",
    "cur.execute('insert into usertable values(\"hong\", \"홍지윤\", \"hong@naver.com\", 1996)')\n",
    "cur.execute('insert into usertable values(\"kim\", \"김태연\", \"kim@naver.com\", 2011)')\n",
    "cur.execute('insert into usertable values(\"star\", \"별사랑\", \"star@naver.com\", 1990)')\n",
    "cur.execute('insert into usertable values(\"yang\", \"양지은\", \"yang@naver.com\", 1993)')\n",
    "\n",
    "conn.commit()\n",
    "conn.close()"
   ]
  },
  {
   "cell_type": "markdown",
   "metadata": {},
   "source": [
    "# 입력해보기"
   ]
  },
  {
   "cell_type": "code",
   "execution_count": 12,
   "metadata": {},
   "outputs": [],
   "source": [
    "import pymysql\n",
    "\n",
    "# 전역변수 선언부\n",
    "# 연결자와 커서 미리 선언\n",
    "conn, cur = None, None\n",
    "data1, data2, data3, data4 = \"\", \"\", \"\", \"\"\n",
    "sql=\"\"\n",
    "\n",
    "# 메인 코드\n",
    "conn = pymysql.connect(host='127.0.0.1', user='root', password='8858', db='soloDB', charset='utf8')\n",
    "cur = conn.cursor()\n",
    "\n",
    "# while문을 이용하여 사용자로부터 입력받아 DB에 저장\n",
    "# 만약 사용자id를 입력받으면 계속 입력받고, 사용자id를 입력하지 않으면 입력을 중단 \n",
    "while (True) :\n",
    "    data1 = input(\"사용자 ID ==> \")\n",
    "    if data1 == \"\" :\n",
    "        break;\n",
    "    data2 = input(\"사용자 이름 ==> \")\n",
    "    data3 = input(\"사용자 이메일 ==> \")\n",
    "    data4 = input(\"사용자 출생연도 ==> \")\n",
    "    sql = \"INSERT INTO userTable VALUES('\" + data1 + \"','\" + data2 + \"','\" + data3 + \"',\" + data4 + \")\"\n",
    "    cur.execute(sql)\n",
    "\n",
    "conn.commit()\n",
    "conn.close()"
   ]
  },
  {
   "cell_type": "markdown",
   "metadata": {},
   "source": [
    "# 입력 데이터 조회"
   ]
  },
  {
   "cell_type": "code",
   "execution_count": 17,
   "metadata": {},
   "outputs": [
    {
     "name": "stdout",
     "output_type": "stream",
     "text": [
      "사용자ID    사용자이름    이메일        출생연도\n",
      "----------------------------------------------------\n",
      " hong               홍지윤         hong@naver.com   1996\n",
      "  kim               김태연          kim@naver.com   2011\n",
      " star               별사랑         star@naver.com   1990\n",
      " yang               양지은         yang@naver.com   1993\n",
      "   su                수지         sugi@naver.com   1994\n"
     ]
    }
   ],
   "source": [
    "import pymysql\n",
    "\n",
    "# 전역변수 선언부\n",
    "con, cur = None, None\n",
    "data1, data2, data3, data4 = \"\", \"\", \"\", \"\"\n",
    "row=None\n",
    "\n",
    "# 메인 코드\n",
    "conn = pymysql.connect(host='127.0.0.1', user='root', password='8858', db='soloDB', charset='utf8')\n",
    "cur = conn.cursor()\n",
    "\n",
    "# sql문은 고정\n",
    "cur.execute(\"SELECT * FROM userTable\")\n",
    "\n",
    "print(\"사용자ID    사용자이름    이메일        출생연도\")\n",
    "print(\"----------------------------------------------------\")\n",
    "\n",
    "while (True) :\n",
    "    # row에 하나씩 저장\n",
    "    row = cur.fetchone()\n",
    "    if row== None :\n",
    "        break\n",
    "    data1 = row[0]\n",
    "    data2 = row[1]\n",
    "    data3 = row[2]\n",
    "    data4 = row[3]\n",
    "    # 글자 형식 5글자 15글자 20글자 5글자\n",
    "    print(\"%5s   %15s   %20s   %d\" % (data1, data2, data3, data4))\n",
    "\n",
    "conn.close()"
   ]
  },
  {
   "cell_type": "markdown",
   "metadata": {},
   "source": [
    "# GUI를 이용한 데이터베이스 프로그램"
   ]
  },
  {
   "cell_type": "code",
   "execution_count": 18,
   "metadata": {},
   "outputs": [],
   "source": [
    "from tkinter import *\n",
    "\n",
    "# 윈도우 창 생성성\n",
    "root = Tk()\n",
    "\n",
    "# 이 부분에서 화면을 구성하고 처리\n",
    "\n",
    "root.mainloop()\n",
    "\n",
    "# 지금은 아무것도 업성서 아무 것도 안보임\n"
   ]
  },
  {
   "cell_type": "code",
   "execution_count": null,
   "metadata": {},
   "outputs": [],
   "source": [
    "from tkinter import *\n",
    "\n",
    "# 창 크기와 제목 설정\n",
    "root = Tk()\n",
    "root.title(\"혼공 GUI 연습\")\n",
    "root.geometry(\"400x200\")\n",
    "\n",
    "root.mainloop()"
   ]
  },
  {
   "cell_type": "code",
   "execution_count": 19,
   "metadata": {},
   "outputs": [],
   "source": [
    "from tkinter import *\n",
    "# 크기\n",
    "root = Tk()\n",
    "root.geometry(\"300x100\")\n",
    "\n",
    "# 라벨 설정 : 생성된 윈도우 창 내 출력 메세지 같은 것\n",
    "label1 = Label(root, text=\"혼공 SQL은\")\n",
    "# 폰트 설정 가능\n",
    "label2 = Label(root, text=\"쉽습니다.\", font=(\"궁서체\", 30), bg=\"blue\", fg=\"yellow\")\n",
    "\n",
    "label1.pack()\n",
    "label2.pack()\n",
    "\n",
    "root.mainloop()"
   ]
  },
  {
   "cell_type": "code",
   "execution_count": 20,
   "metadata": {},
   "outputs": [],
   "source": [
    "from tkinter import *\n",
    "from tkinter import messagebox # 버튼 만들기\n",
    "\n",
    "# 실행할 함수 미리 설정정\n",
    "def clickButton() :\n",
    "    messagebox.showinfo('버튼 클릭', '버튼을 눌렀습니다..')\n",
    "\n",
    "root = Tk()\n",
    "root.geometry(\"200x200\")\n",
    "\n",
    "# command를 이용해서 버튼을 눌렀을 때 실행할 함수를 지정\n",
    "button1 = Button(root, text=\"여기를 클릭하세요\", fg=\"red\", bg=\"yellow\", command=clickButton)\n",
    "button1.pack(expand = 1)\n",
    "\n",
    "root.mainloop()\n",
    "# 화면 중앙에 버튼 누르면 메세지 창 뜸"
   ]
  },
  {
   "cell_type": "markdown",
   "metadata": {},
   "source": [
    "## 버튼 위치 왼쪽 설정"
   ]
  },
  {
   "cell_type": "code",
   "execution_count": 22,
   "metadata": {},
   "outputs": [],
   "source": [
    "from tkinter import *\n",
    "root = Tk()\n",
    "\n",
    "button1 = Button(root, text=\"혼공1\")\n",
    "button2 = Button(root, text=\"혼공2\")\n",
    "button3 = Button(root, text=\"혼공3\")\n",
    "\n",
    "# 정렬 위치\n",
    "# RIGHTM LEFT, TOP, BOTTOM  \n",
    "button1.pack(side=LEFT)\n",
    "button2.pack(side=LEFT)\n",
    "button3.pack(side=LEFT)\n",
    "\n",
    "root.mainloop()"
   ]
  },
  {
   "cell_type": "code",
   "execution_count": 26,
   "metadata": {},
   "outputs": [],
   "source": [
    "from tkinter import *\n",
    "root = Tk()\n",
    "\n",
    "button1 = Button(root, text=\"혼공1\")\n",
    "button2 = Button(root, text=\"혼공2\")\n",
    "button3 = Button(root, text=\"혼공3\")\n",
    "\n",
    "# 버튼 사이 간격 등 조절\n",
    "button1.pack(side=TOP, fill=X, padx=10, pady=10)\n",
    "button2.pack(side=TOP, fill=X, padx=10, pady=10)\n",
    "button3.pack(side=TOP, fill=X, padx=10, pady=10)\n",
    "\n",
    "root.mainloop()"
   ]
  },
  {
   "cell_type": "code",
   "execution_count": 27,
   "metadata": {},
   "outputs": [],
   "source": [
    "from tkinter import *\n",
    "root = Tk()\n",
    "root.geometry(\"200x250\")\n",
    "\n",
    "# frame을 이용해서 레이아웃을 구성\n",
    "upFrame = Frame(root)\n",
    "upFrame.pack()\n",
    "downFrame = Frame(root)\n",
    "downFrame.pack()\n",
    "\n",
    "editBox = Entry(upFrame, width = 10, )\n",
    "editBox.pack(padx = 20, pady = 20)\n",
    "\n",
    "listbox = Listbox(downFrame, bg = 'yellow');\n",
    "listbox.pack()\n",
    "\n",
    "listbox.insert(END, \"하나\")\n",
    "listbox.insert(END, \"둘\")\n",
    "listbox.insert(END, \"셋\")\n",
    "\n",
    "root.mainloop()"
   ]
  },
  {
   "cell_type": "code",
   "execution_count": 31,
   "metadata": {},
   "outputs": [],
   "source": [
    "import pymysql\n",
    "from tkinter import *\n",
    "from tkinter import messagebox\n",
    "\n",
    "## 메인 코드부\n",
    "def insertData() :\n",
    "    con, cur = None, None\n",
    "    data1, data2, data3, data4 = \"\", \"\", \"\", \"\"\n",
    "    sql=\"\"\n",
    "\n",
    "    conn = pymysql.connect(host='127.0.0.1', user='root', password='0000', db='soloDB', charset='utf8')\n",
    "    cur = conn.cursor()\n",
    "\n",
    "    data1 = edt1.get();    data2 = edt2.get();    data3 = edt3.get();    data4 = edt4.get()\n",
    "    sql = \"INSERT INTO userTable VALUES('\" + data1 + \"','\" + data2 + \"','\" + data3 + \"',\" + data4 + \")\"\n",
    "    cur.execute(sql)\n",
    "\n",
    "    conn.commit()\n",
    "    conn.close()\n",
    "\n",
    "    messagebox.showinfo('성공', '데이터 입력 성공')\n",
    "\n",
    "\n",
    "def selectData() :\n",
    "    strData1, strData2, strData3, strData4  = [], [], [], []\n",
    "\n",
    "    conn = pymysql.connect(host='127.0.0.1', user='root', password='8858', db='soloDB', charset='utf8')\n",
    "    cur = conn.cursor()\n",
    "    cur.execute(\"SELECT * FROM userTable\")\n",
    "    # 데이터 입력\n",
    "    strData1.append(\"사용자 ID\");      strData2.append(\"사용자 이름\")\n",
    "    strData3.append(\"사용자 이메일\");   strData4.append(\"사용자 출생연도\")\n",
    "    strData1.append(\"-----------\");    strData2.append(\"-----------\")\n",
    "    strData3.append(\"-----------\");    strData4.append(\"-----------\")\n",
    "    \n",
    "    while (True) :\n",
    "        row = cur.fetchone()\n",
    "        if row== None :\n",
    "            break;\n",
    "        strData1.append(row[0]);        strData2.append(row[1])\n",
    "        strData3.append(row[2]);        strData4.append(row[3])\n",
    "\n",
    "    listData1.delete(0,listData1.size() - 1);    listData2.delete(0,listData2.size() - 1)\n",
    "    listData3.delete(0,listData3.size() - 1);    listData4.delete(0,listData4.size() - 1)\n",
    "    \n",
    "    for item1, item2, item3, item4 in zip(strData1, strData2, strData3, strData4 ):\n",
    "        listData1.insert(END, item1);        listData2.insert(END, item2)\n",
    "        listData3.insert(END, item3);        listData4.insert(END, item4)\n",
    "        \n",
    "    conn.close()    \n",
    "\n",
    "\n",
    "## 메인 코드부\n",
    "root = Tk()\n",
    "root.geometry(\"600x300\")\n",
    "root.title(\"완전한 GUI 응용 프로그램\")\n",
    "\n",
    "edtFrame = Frame(root);\n",
    "edtFrame.pack()\n",
    "listFrame = Frame(root)\n",
    "listFrame.pack(side = BOTTOM,fill=BOTH, expand=1)\n",
    "\n",
    "edt1= Entry(edtFrame, width=10);    edt1.pack(side=LEFT,padx=10,pady=10)\n",
    "edt2= Entry(edtFrame, width=10);    edt2.pack(side=LEFT,padx=10,pady=10)\n",
    "edt3= Entry(edtFrame, width=10);    edt3.pack(side=LEFT,padx=10,pady=10)\n",
    "edt4= Entry(edtFrame, width=10);    edt4.pack(side=LEFT,padx=10,pady=10)\n",
    "\n",
    "btnInsert = Button(edtFrame, text=\"입력\", command = insertData)\n",
    "btnInsert.pack(side=LEFT,padx=10,pady=10)\n",
    "btnSelect = Button(edtFrame, text=\"조회\", command =selectData )\n",
    "btnSelect.pack(side=LEFT,padx=10,pady=10)\n",
    "\n",
    "listData1 = Listbox(listFrame,bg = 'yellow');\n",
    "listData1.pack(side=LEFT,fill=BOTH, expand=1)\n",
    "listData2 = Listbox(listFrame,bg = 'yellow')\n",
    "listData2.pack(side=LEFT,fill=BOTH, expand=1)\n",
    "listData3 = Listbox(listFrame,bg = 'yellow')\n",
    "listData3.pack(side=LEFT,fill=BOTH, expand=1)\n",
    "listData4 = Listbox(listFrame,bg = 'yellow')\n",
    "listData4.pack(side=LEFT,fill=BOTH, expand=1)\n",
    "\n",
    "root.mainloop()"
   ]
  },
  {
   "cell_type": "code",
   "execution_count": null,
   "metadata": {},
   "outputs": [],
   "source": []
  }
 ],
 "metadata": {
  "kernelspec": {
   "display_name": "Python 3",
   "language": "python",
   "name": "python3"
  },
  "language_info": {
   "codemirror_mode": {
    "name": "ipython",
    "version": 3
   },
   "file_extension": ".py",
   "mimetype": "text/x-python",
   "name": "python",
   "nbconvert_exporter": "python",
   "pygments_lexer": "ipython3",
   "version": "3.10.16"
  }
 },
 "nbformat": 4,
 "nbformat_minor": 2
}
