{
 "cells": [
  {
   "cell_type": "code",
   "execution_count": 1,
   "metadata": {},
   "outputs": [],
   "source": [
    "import pandas as pd\n",
    "import numpy as np\n",
    "import os\n",
    "import matplotlib.pyplot as plt\n",
    "import seaborn as sns\n",
    "import statsmodels.api as sm\n",
    "from datetime import datetime\n",
    "import matplotlib.dates as mdates\n",
    "import xgboost\n",
    "from scipy import stats\n",
    "from sklearn.impute import KNNImputer\n",
    "from sklearn.preprocessing import LabelEncoder\n",
    "from pycaret.regression import *"
   ]
  },
  {
   "cell_type": "code",
   "execution_count": 2,
   "metadata": {},
   "outputs": [],
   "source": [
    "from matplotlib import font_manager, rc\n",
    "font_path = \"C:/Windows/Fonts/NGULIM.TTF\"\n",
    "font = font_manager.FontProperties(fname=font_path).get_name()\n",
    "rc('font', family=font)"
   ]
  },
  {
   "cell_type": "code",
   "execution_count": 3,
   "metadata": {},
   "outputs": [
    {
     "name": "stdout",
     "output_type": "stream",
     "text": [
      "Unnamed: 0      0\n",
      "stn             0\n",
      "year            0\n",
      "mmddhh          0\n",
      "ta              0\n",
      "td              0\n",
      "hm              0\n",
      "ws              0\n",
      "rn             82\n",
      "re             82\n",
      "ww              0\n",
      "ts              0\n",
      "si              0\n",
      "ss              0\n",
      "sn              0\n",
      "month           0\n",
      "day             0\n",
      "hour            0\n",
      "spring          0\n",
      "summer          0\n",
      "autumn          0\n",
      "winter          0\n",
      "season          0\n",
      "year_num        0\n",
      "ymd             0\n",
      "ymdh            0\n",
      "day_split       0\n",
      "re_interval     0\n",
      "inflection      0\n",
      "dtype: int64\n",
      "(437373, 29)\n"
     ]
    }
   ],
   "source": [
    "train = pd.read_csv('data/train_0704f.csv')\n",
    "print(train.isnull().sum())\n",
    "print(train.shape)"
   ]
  },
  {
   "cell_type": "code",
   "execution_count": 4,
   "metadata": {},
   "outputs": [
    {
     "name": "stdout",
     "output_type": "stream",
     "text": [
      "Unnamed: 0     0\n",
      "stn            0\n",
      "year           0\n",
      "mmddhh         0\n",
      "ta             0\n",
      "td             0\n",
      "hm             0\n",
      "ws             0\n",
      "rn             4\n",
      "re             4\n",
      "ww             0\n",
      "si             0\n",
      "ss             0\n",
      "sn             0\n",
      "year_num       0\n",
      "month          0\n",
      "day            0\n",
      "hour           0\n",
      "ymd            0\n",
      "ymdh           0\n",
      "day_split      0\n",
      "re_interval    0\n",
      "inflection     0\n",
      "dtype: int64\n",
      "(26280, 23)\n"
     ]
    }
   ],
   "source": [
    "test = pd.read_csv('data/test_0704f.csv')\n",
    "print(test.isnull().sum())\n",
    "print(test.shape)"
   ]
  },
  {
   "attachments": {},
   "cell_type": "markdown",
   "metadata": {},
   "source": [
    "##### Imputation\n",
    "1. labelencoder\n",
    "2. knnimputer"
   ]
  },
  {
   "cell_type": "code",
   "execution_count": 5,
   "metadata": {},
   "outputs": [
    {
     "data": {
      "text/plain": [
       "Index(['Unnamed: 0', 'stn', 'year', 'mmddhh', 'ta', 'td', 'hm', 'ws', 'rn',\n",
       "       're', 'ww', 'ts', 'si', 'ss', 'sn', 'month', 'day', 'hour', 'spring',\n",
       "       'summer', 'autumn', 'winter', 'season', 'year_num', 'ymd', 'ymdh',\n",
       "       'day_split', 're_interval', 'inflection'],\n",
       "      dtype='object')"
      ]
     },
     "execution_count": 5,
     "metadata": {},
     "output_type": "execute_result"
    }
   ],
   "source": [
    "train.columns"
   ]
  },
  {
   "cell_type": "code",
   "execution_count": 6,
   "metadata": {},
   "outputs": [
    {
     "data": {
      "text/plain": [
       "Index(['Unnamed: 0', 'stn', 'year', 'mmddhh', 'ta', 'td', 'hm', 'ws', 'rn',\n",
       "       're', 'ww', 'si', 'ss', 'sn', 'year_num', 'month', 'day', 'hour', 'ymd',\n",
       "       'ymdh', 'day_split', 're_interval', 'inflection'],\n",
       "      dtype='object')"
      ]
     },
     "execution_count": 6,
     "metadata": {},
     "output_type": "execute_result"
    }
   ],
   "source": [
    "test.columns"
   ]
  },
  {
   "cell_type": "code",
   "execution_count": 7,
   "metadata": {},
   "outputs": [
    {
     "name": "stdout",
     "output_type": "stream",
     "text": [
      "stn             int64\n",
      "mmddhh          int64\n",
      "ta            float64\n",
      "hm            float64\n",
      "ws            float64\n",
      "rn            float64\n",
      "re            float64\n",
      "ts            float64\n",
      "si            float64\n",
      "ss            float64\n",
      "sn            float64\n",
      "month           int64\n",
      "day             int64\n",
      "hour            int64\n",
      "year_num        int64\n",
      "day_split      object\n",
      "inflection     object\n",
      "dtype: object\n",
      "stn            object\n",
      "mmddhh          int64\n",
      "ta            float64\n",
      "hm            float64\n",
      "ws            float64\n",
      "rn            float64\n",
      "re            float64\n",
      "si            float64\n",
      "ss            float64\n",
      "sn            float64\n",
      "month           int64\n",
      "day             int64\n",
      "hour            int64\n",
      "year_num        int64\n",
      "day_split      object\n",
      "inflection     object\n",
      "dtype: object\n"
     ]
    }
   ],
   "source": [
    "train_copy = train[['stn', 'mmddhh', 'ta', 'hm', 'ws', 'rn',\n",
    "       're', 'ts', 'si', 'ss', 'sn','month', 'day', 'hour','year_num',\n",
    "       'day_split', 'inflection']].copy()\n",
    "test_copy = test[['stn', 'mmddhh', 'ta', 'hm', 'ws',\n",
    "       'rn', 're', 'si', 'ss', 'sn', 'month', 'day', 'hour','year_num',\n",
    "       'day_split', 'inflection']].copy()\n",
    "\n",
    "print(train_copy.dtypes)\n",
    "print(test_copy.dtypes)"
   ]
  },
  {
   "cell_type": "code",
   "execution_count": 8,
   "metadata": {},
   "outputs": [],
   "source": [
    "test_copy['stn'] = test_copy.stn.apply(lambda x: 1 if x == 'a'\n",
    "                                               else 2 if x== 'b'\n",
    "                                               else 3 if x=='c'\n",
    "                                            else x)"
   ]
  },
  {
   "cell_type": "code",
   "execution_count": 9,
   "metadata": {},
   "outputs": [
    {
     "name": "stdout",
     "output_type": "stream",
     "text": [
      "Index(['day_split', 'inflection'], dtype='object')\n",
      "   stn  mmddhh    ta    hm   ws   rn   re   ts   si   ss   sn  month  day  \\\n",
      "0    1   20100  -9.9  93.9  0.6  0.0  0.0 -1.3  0.0  0.0  0.0      2    1   \n",
      "1    1   20101 -10.8  93.8  0.6  0.0  0.0 -1.5  0.0  0.0  0.0      2    1   \n",
      "2    1   20102 -11.4  94.6  0.7  0.0  0.0 -1.7  0.0  0.0  0.0      2    1   \n",
      "\n",
      "   hour  year_num  day_split  inflection  \n",
      "0     0      2016          2           1  \n",
      "1     1      2016          2           1  \n",
      "2     2      2016          2           1  \n",
      "   stn  mmddhh   ta    hm   ws   rn   re   si   ss   sn  month  day  hour  \\\n",
      "0    1   20100  0.6  82.5  2.7  0.0  0.0  0.0  0.0  3.1      2    1     0   \n",
      "1    1   20101  0.0  68.3  3.2  0.0  0.0  0.0  0.0  3.1      2    1     1   \n",
      "2    1   20102 -0.3  63.7  2.7  0.0  0.0  0.0  0.0  3.1      2    1     2   \n",
      "\n",
      "   year_num  day_split  inflection  \n",
      "0      2021          2           1  \n",
      "1      2021          2           1  \n",
      "2      2021          2           1  \n"
     ]
    }
   ],
   "source": [
    "non_numeric_cols = train_copy.select_dtypes(exclude=['float', 'int']).columns\n",
    "print(non_numeric_cols)\n",
    "le = LabelEncoder()\n",
    "for col in non_numeric_cols:\n",
    "    train_copy[col] = le.fit_transform(train_copy[col])\n",
    "    test_copy[col] = le.transform(test_copy[col])\n",
    "    \n",
    "print(train_copy.head(3))\n",
    "print(test_copy.head(3))"
   ]
  },
  {
   "cell_type": "code",
   "execution_count": 10,
   "metadata": {},
   "outputs": [],
   "source": [
    "train_copy['day_split'] = train_copy['day_split'] + 1\n",
    "\n",
    "test_copy['day_split'] = test_copy['day_split'] + 1 "
   ]
  },
  {
   "cell_type": "code",
   "execution_count": 11,
   "metadata": {},
   "outputs": [],
   "source": [
    "X = train_copy.drop(['ts'], axis=1)\n",
    "Y = train_copy['ts']"
   ]
  },
  {
   "cell_type": "code",
   "execution_count": 12,
   "metadata": {},
   "outputs": [
    {
     "name": "stdout",
     "output_type": "stream",
     "text": [
      "Index(['stn', 'mmddhh', 'ta', 'hm', 'ws', 'rn', 're', 'si', 'ss', 'sn',\n",
      "       'month', 'day', 'hour', 'year_num', 'day_split', 'inflection'],\n",
      "      dtype='object')\n",
      "Index(['stn', 'mmddhh', 'ta', 'hm', 'ws', 'rn', 're', 'si', 'ss', 'sn',\n",
      "       'month', 'day', 'hour', 'year_num', 'day_split', 'inflection'],\n",
      "      dtype='object')\n"
     ]
    }
   ],
   "source": [
    "print(X.columns)\n",
    "print(test_copy.columns)"
   ]
  },
  {
   "cell_type": "code",
   "execution_count": 13,
   "metadata": {},
   "outputs": [
    {
     "name": "stdout",
     "output_type": "stream",
     "text": [
      "stn           0\n",
      "mmddhh        0\n",
      "ta            0\n",
      "hm            0\n",
      "ws            0\n",
      "rn            0\n",
      "re            0\n",
      "si            0\n",
      "ss            0\n",
      "sn            0\n",
      "month         0\n",
      "day           0\n",
      "hour          0\n",
      "year_num      0\n",
      "day_split     0\n",
      "inflection    0\n",
      "dtype: int64\n",
      "stn           0\n",
      "mmddhh        0\n",
      "ta            0\n",
      "hm            0\n",
      "ws            0\n",
      "rn            0\n",
      "re            0\n",
      "si            0\n",
      "ss            0\n",
      "sn            0\n",
      "month         0\n",
      "day           0\n",
      "hour          0\n",
      "year_num      0\n",
      "day_split     0\n",
      "inflection    0\n",
      "dtype: int64\n"
     ]
    }
   ],
   "source": [
    "imp=KNNImputer(n_neighbors=5, weights='distance')\n",
    "\n",
    "imp_train = imp.fit_transform(X)\n",
    "imp_test = imp.transform(test_copy)\n",
    "\n",
    "train_imp=pd.DataFrame(imp_train, columns=X.columns)\n",
    "test_imp=pd.DataFrame(imp_test, columns=test_copy.columns)\n",
    "\n",
    "print(train_imp.isnull().sum())\n",
    "print(test_imp.isnull().sum())"
   ]
  },
  {
   "attachments": {},
   "cell_type": "markdown",
   "metadata": {},
   "source": [
    "##### 스케일링"
   ]
  },
  {
   "cell_type": "code",
   "execution_count": 14,
   "metadata": {},
   "outputs": [
    {
     "name": "stdout",
     "output_type": "stream",
     "text": [
      "        stn    mmddhh        ta        hm        ws        rn        re  \\\n",
      "0 -1.566476 -1.354646 -2.330543  1.306805 -0.987598 -0.120021 -0.240619   \n",
      "1 -1.566476 -1.354617 -2.418987  1.302180 -0.987598 -0.120021 -0.240619   \n",
      "2 -1.566476 -1.354588 -2.477949  1.339174 -0.926544 -0.120021 -0.240619   \n",
      "3 -1.566476 -1.354559 -2.497603  1.283683 -0.987598 -0.120021 -0.240619   \n",
      "4 -1.566476 -1.354530 -2.517258  1.265186 -0.987598 -0.120021 -0.240619   \n",
      "\n",
      "        si       ss        sn     month       day      hour  year_num  \\\n",
      "0 -0.65999 -0.67377 -0.073284 -1.312481 -1.673144 -1.660738 -1.446405   \n",
      "1 -0.65999 -0.67377 -0.073284 -1.312481 -1.673144 -1.516309 -1.446405   \n",
      "2 -0.65999 -0.67377 -0.073284 -1.312481 -1.673144 -1.371879 -1.446405   \n",
      "3 -0.65999 -0.67377 -0.073284 -1.312481 -1.673144 -1.227449 -1.446405   \n",
      "4 -0.65999 -0.67377 -0.073284 -1.312481 -1.673144 -1.083019 -1.446405   \n",
      "\n",
      "   day_split inflection   ts  \n",
      "0  -0.030786         up -1.3  \n",
      "1  -0.030786         up -1.5  \n",
      "2  -0.030786         up -1.7  \n",
      "3  -0.030786         up -1.8  \n",
      "4  -0.030786         up -2.0  \n",
      "        stn    mmddhh        ta        hm        ws        rn        re  \\\n",
      "0 -1.566476 -1.354646 -1.298700  0.779640  0.294541 -0.120021 -0.240619   \n",
      "1 -1.566476 -1.354617 -1.357662  0.122997  0.599812 -0.120021 -0.240619   \n",
      "2 -1.566476 -1.354588 -1.387143 -0.089718  0.294541 -0.120021 -0.240619   \n",
      "3 -1.566476 -1.354559 -1.455933  0.534555 -0.071785  0.045248  0.386729   \n",
      "4 -1.566476 -1.354530 -1.495241  1.047847  0.416649  0.375784  0.028245   \n",
      "\n",
      "        si       ss        sn     month       day      hour  year_num  \\\n",
      "0 -0.65999 -0.67377  4.109306 -1.312481 -1.673144 -1.660738  2.021978   \n",
      "1 -0.65999 -0.67377  4.109306 -1.312481 -1.673144 -1.516309  2.021978   \n",
      "2 -0.65999 -0.67377  4.109306 -1.312481 -1.673144 -1.371879  2.021978   \n",
      "3 -0.65999 -0.67377  5.458529 -1.312481 -1.673144 -1.227449  2.021978   \n",
      "4 -0.65999 -0.67377  6.268062 -1.312481 -1.673144 -1.083019  2.021978   \n",
      "\n",
      "   day_split inflection  \n",
      "0  -0.030786         up  \n",
      "1  -0.030786         up  \n",
      "2  -0.030786         up  \n",
      "3  -0.030786         up  \n",
      "4  -0.030786         up  \n"
     ]
    }
   ],
   "source": [
    "# standard\n",
    "from sklearn.preprocessing import StandardScaler\n",
    "\n",
    "st = StandardScaler()\n",
    "\n",
    "scaled_train = st.fit_transform(train_imp)\n",
    "scaled_test = st.transform(test_imp)\n",
    "\n",
    "s_train=pd.DataFrame(scaled_train, columns=train_imp.columns)\n",
    "s_test=pd.DataFrame(scaled_test, columns=test_imp.columns)\n",
    "\n",
    "s_train['inflection'] = train['inflection']\n",
    "s_test['inflection'] = test['inflection']\n",
    "\n",
    "s_train['ts'] = train['ts']\n",
    "print(s_train.head())\n",
    "print(s_test.head())"
   ]
  },
  {
   "cell_type": "code",
   "execution_count": 15,
   "metadata": {},
   "outputs": [
    {
     "name": "stdout",
     "output_type": "stream",
     "text": [
      "   stn    mmddhh        ta        hm        ws   rn   re   si   ss   sn  \\\n",
      "0  0.0  0.088478  0.191803  0.937113  0.024390  0.0  0.0  0.0  0.0  0.0   \n",
      "1  0.0  0.088486  0.177049  0.936082  0.024390  0.0  0.0  0.0  0.0  0.0   \n",
      "2  0.0  0.088495  0.167213  0.944330  0.028455  0.0  0.0  0.0  0.0  0.0   \n",
      "3  0.0  0.088504  0.163934  0.931959  0.024390  0.0  0.0  0.0  0.0  0.0   \n",
      "4  0.0  0.088513  0.160656  0.927835  0.024390  0.0  0.0  0.0  0.0  0.0   \n",
      "\n",
      "      month  day      hour  year_num  day_split inflection   ts  \n",
      "0  0.090909  0.0  0.000000       0.0        0.5         up -1.3  \n",
      "1  0.090909  0.0  0.043478       0.0        0.5         up -1.5  \n",
      "2  0.090909  0.0  0.086957       0.0        0.5         up -1.7  \n",
      "3  0.090909  0.0  0.130435       0.0        0.5         up -1.8  \n",
      "4  0.090909  0.0  0.173913       0.0        0.5         up -2.0  \n",
      "   stn    mmddhh        ta        hm        ws        rn        re   si   ss  \\\n",
      "0  0.0  0.088478  0.363934  0.819588  0.109756  0.000000  0.000000  0.0  0.0   \n",
      "1  0.0  0.088486  0.354098  0.673196  0.130081  0.000000  0.000000  0.0  0.0   \n",
      "2  0.0  0.088495  0.349180  0.625773  0.109756  0.000000  0.000000  0.0  0.0   \n",
      "3  0.0  0.088504  0.337705  0.764948  0.085366  0.002454  0.116667  0.0  0.0   \n",
      "4  0.0  0.088513  0.331148  0.879381  0.117886  0.007362  0.050000  0.0  0.0   \n",
      "\n",
      "         sn     month  day      hour  year_num  day_split inflection  \n",
      "0  0.082888  0.090909  0.0  0.000000       1.0        0.5         up  \n",
      "1  0.082888  0.090909  0.0  0.043478       1.0        0.5         up  \n",
      "2  0.082888  0.090909  0.0  0.086957       1.0        0.5         up  \n",
      "3  0.109626  0.090909  0.0  0.130435       1.0        0.5         up  \n",
      "4  0.125668  0.090909  0.0  0.173913       1.0        0.5         up  \n"
     ]
    }
   ],
   "source": [
    "from sklearn.preprocessing import MinMaxScaler\n",
    "\n",
    "mms = MinMaxScaler()\n",
    "\n",
    "scaled_train = mms.fit_transform(train_imp)\n",
    "scaled_test = mms.transform(test_imp)\n",
    "\n",
    "m_train=pd.DataFrame(scaled_train, columns=train_imp.columns)\n",
    "m_test=pd.DataFrame(scaled_test, columns=test_imp.columns)\n",
    "\n",
    "m_train['inflection'] = train['inflection']\n",
    "m_test['inflection'] = test['inflection']\n",
    "\n",
    "m_train['ts'] = train['ts']\n",
    "print(m_train.head())\n",
    "print(m_test.head())"
   ]
  },
  {
   "cell_type": "code",
   "execution_count": 16,
   "metadata": {},
   "outputs": [
    {
     "name": "stdout",
     "output_type": "stream",
     "text": [
      "   stn    mmddhh        ta        hm    ws   rn   re        si   ss   sn  \\\n",
      "0 -1.0 -0.836396 -1.500000  0.789017 -0.60  0.0  0.0 -0.010101  0.0  0.0   \n",
      "1 -1.0 -0.836379 -1.554878  0.786127 -0.60  0.0  0.0 -0.010101  0.0  0.0   \n",
      "2 -1.0 -0.836363 -1.591463  0.809249 -0.55  0.0  0.0 -0.010101  0.0  0.0   \n",
      "3 -1.0 -0.836346 -1.603659  0.774566 -0.60  0.0  0.0 -0.010101  0.0  0.0   \n",
      "4 -1.0 -0.836329 -1.615854  0.763006 -0.60  0.0  0.0 -0.010101  0.0  0.0   \n",
      "\n",
      "      month  day      hour  year_num  day_split inflection   ts  \n",
      "0 -0.833333 -1.0 -0.846154      -1.0        0.0         up -1.3  \n",
      "1 -0.833333 -1.0 -0.769231      -1.0        0.0         up -1.5  \n",
      "2 -0.833333 -1.0 -0.692308      -1.0        0.0         up -1.7  \n",
      "3 -0.833333 -1.0 -0.615385      -1.0        0.0         up -1.8  \n",
      "4 -0.833333 -1.0 -0.538462      -1.0        0.0         up -2.0  \n",
      "   stn    mmddhh        ta        hm    ws   rn   re        si   ss   sn  \\\n",
      "0 -1.0 -0.836396 -0.859756  0.459538  0.45  0.0  0.0 -0.010101  0.0  3.1   \n",
      "1 -1.0 -0.836379 -0.896341  0.049133  0.70  0.0  0.0 -0.010101  0.0  3.1   \n",
      "2 -1.0 -0.836363 -0.914634 -0.083815  0.45  0.0  0.0 -0.010101  0.0  3.1   \n",
      "3 -1.0 -0.836346 -0.957317  0.306358  0.15  0.2  7.0 -0.010101  0.0  4.1   \n",
      "4 -1.0 -0.836329 -0.981707  0.627168  0.55  0.6  3.0 -0.010101  0.0  4.7   \n",
      "\n",
      "      month  day      hour  year_num  day_split inflection  \n",
      "0 -0.833333 -1.0 -0.846154       1.5        0.0         up  \n",
      "1 -0.833333 -1.0 -0.769231       1.5        0.0         up  \n",
      "2 -0.833333 -1.0 -0.692308       1.5        0.0         up  \n",
      "3 -0.833333 -1.0 -0.615385       1.5        0.0         up  \n",
      "4 -0.833333 -1.0 -0.538462       1.5        0.0         up  \n"
     ]
    }
   ],
   "source": [
    "from sklearn.preprocessing import RobustScaler\n",
    "\n",
    "rs = RobustScaler()\n",
    "\n",
    "scaled_train = rs.fit_transform(train_imp)\n",
    "scaled_test = rs.transform(test_imp)\n",
    "\n",
    "r_train=pd.DataFrame(scaled_train, columns=train_imp.columns)\n",
    "r_test=pd.DataFrame(scaled_test, columns=test_imp.columns)\n",
    "\n",
    "r_train['inflection'] = train['inflection']\n",
    "r_test['inflection'] = test['inflection']\n",
    "\n",
    "r_train['ts'] = train['ts']\n",
    "print(r_train.head())\n",
    "print(r_test.head())"
   ]
  },
  {
   "attachments": {},
   "cell_type": "markdown",
   "metadata": {},
   "source": [
    "##### pycaret"
   ]
  },
  {
   "cell_type": "code",
   "execution_count": 17,
   "metadata": {},
   "outputs": [
    {
     "data": {
      "text/html": [
       "<style type=\"text/css\">\n",
       "#T_11728_row10_col1 {\n",
       "  background-color: lightgreen;\n",
       "}\n",
       "</style>\n",
       "<table id=\"T_11728\">\n",
       "  <thead>\n",
       "    <tr>\n",
       "      <th class=\"blank level0\" >&nbsp;</th>\n",
       "      <th id=\"T_11728_level0_col0\" class=\"col_heading level0 col0\" >Description</th>\n",
       "      <th id=\"T_11728_level0_col1\" class=\"col_heading level0 col1\" >Value</th>\n",
       "    </tr>\n",
       "  </thead>\n",
       "  <tbody>\n",
       "    <tr>\n",
       "      <th id=\"T_11728_level0_row0\" class=\"row_heading level0 row0\" >0</th>\n",
       "      <td id=\"T_11728_row0_col0\" class=\"data row0 col0\" >Session id</td>\n",
       "      <td id=\"T_11728_row0_col1\" class=\"data row0 col1\" >2023</td>\n",
       "    </tr>\n",
       "    <tr>\n",
       "      <th id=\"T_11728_level0_row1\" class=\"row_heading level0 row1\" >1</th>\n",
       "      <td id=\"T_11728_row1_col0\" class=\"data row1 col0\" >Target</td>\n",
       "      <td id=\"T_11728_row1_col1\" class=\"data row1 col1\" >ts</td>\n",
       "    </tr>\n",
       "    <tr>\n",
       "      <th id=\"T_11728_level0_row2\" class=\"row_heading level0 row2\" >2</th>\n",
       "      <td id=\"T_11728_row2_col0\" class=\"data row2 col0\" >Target type</td>\n",
       "      <td id=\"T_11728_row2_col1\" class=\"data row2 col1\" >Regression</td>\n",
       "    </tr>\n",
       "    <tr>\n",
       "      <th id=\"T_11728_level0_row3\" class=\"row_heading level0 row3\" >3</th>\n",
       "      <td id=\"T_11728_row3_col0\" class=\"data row3 col0\" >Original data shape</td>\n",
       "      <td id=\"T_11728_row3_col1\" class=\"data row3 col1\" >(437373, 17)</td>\n",
       "    </tr>\n",
       "    <tr>\n",
       "      <th id=\"T_11728_level0_row4\" class=\"row_heading level0 row4\" >4</th>\n",
       "      <td id=\"T_11728_row4_col0\" class=\"data row4 col0\" >Transformed data shape</td>\n",
       "      <td id=\"T_11728_row4_col1\" class=\"data row4 col1\" >(437373, 17)</td>\n",
       "    </tr>\n",
       "    <tr>\n",
       "      <th id=\"T_11728_level0_row5\" class=\"row_heading level0 row5\" >5</th>\n",
       "      <td id=\"T_11728_row5_col0\" class=\"data row5 col0\" >Transformed train set shape</td>\n",
       "      <td id=\"T_11728_row5_col1\" class=\"data row5 col1\" >(306161, 17)</td>\n",
       "    </tr>\n",
       "    <tr>\n",
       "      <th id=\"T_11728_level0_row6\" class=\"row_heading level0 row6\" >6</th>\n",
       "      <td id=\"T_11728_row6_col0\" class=\"data row6 col0\" >Transformed test set shape</td>\n",
       "      <td id=\"T_11728_row6_col1\" class=\"data row6 col1\" >(131212, 17)</td>\n",
       "    </tr>\n",
       "    <tr>\n",
       "      <th id=\"T_11728_level0_row7\" class=\"row_heading level0 row7\" >7</th>\n",
       "      <td id=\"T_11728_row7_col0\" class=\"data row7 col0\" >Ordinal features</td>\n",
       "      <td id=\"T_11728_row7_col1\" class=\"data row7 col1\" >1</td>\n",
       "    </tr>\n",
       "    <tr>\n",
       "      <th id=\"T_11728_level0_row8\" class=\"row_heading level0 row8\" >8</th>\n",
       "      <td id=\"T_11728_row8_col0\" class=\"data row8 col0\" >Numeric features</td>\n",
       "      <td id=\"T_11728_row8_col1\" class=\"data row8 col1\" >15</td>\n",
       "    </tr>\n",
       "    <tr>\n",
       "      <th id=\"T_11728_level0_row9\" class=\"row_heading level0 row9\" >9</th>\n",
       "      <td id=\"T_11728_row9_col0\" class=\"data row9 col0\" >Categorical features</td>\n",
       "      <td id=\"T_11728_row9_col1\" class=\"data row9 col1\" >1</td>\n",
       "    </tr>\n",
       "    <tr>\n",
       "      <th id=\"T_11728_level0_row10\" class=\"row_heading level0 row10\" >10</th>\n",
       "      <td id=\"T_11728_row10_col0\" class=\"data row10 col0\" >Preprocess</td>\n",
       "      <td id=\"T_11728_row10_col1\" class=\"data row10 col1\" >True</td>\n",
       "    </tr>\n",
       "    <tr>\n",
       "      <th id=\"T_11728_level0_row11\" class=\"row_heading level0 row11\" >11</th>\n",
       "      <td id=\"T_11728_row11_col0\" class=\"data row11 col0\" >Imputation type</td>\n",
       "      <td id=\"T_11728_row11_col1\" class=\"data row11 col1\" >simple</td>\n",
       "    </tr>\n",
       "    <tr>\n",
       "      <th id=\"T_11728_level0_row12\" class=\"row_heading level0 row12\" >12</th>\n",
       "      <td id=\"T_11728_row12_col0\" class=\"data row12 col0\" >Numeric imputation</td>\n",
       "      <td id=\"T_11728_row12_col1\" class=\"data row12 col1\" >mean</td>\n",
       "    </tr>\n",
       "    <tr>\n",
       "      <th id=\"T_11728_level0_row13\" class=\"row_heading level0 row13\" >13</th>\n",
       "      <td id=\"T_11728_row13_col0\" class=\"data row13 col0\" >Categorical imputation</td>\n",
       "      <td id=\"T_11728_row13_col1\" class=\"data row13 col1\" >mode</td>\n",
       "    </tr>\n",
       "    <tr>\n",
       "      <th id=\"T_11728_level0_row14\" class=\"row_heading level0 row14\" >14</th>\n",
       "      <td id=\"T_11728_row14_col0\" class=\"data row14 col0\" >Maximum one-hot encoding</td>\n",
       "      <td id=\"T_11728_row14_col1\" class=\"data row14 col1\" >25</td>\n",
       "    </tr>\n",
       "    <tr>\n",
       "      <th id=\"T_11728_level0_row15\" class=\"row_heading level0 row15\" >15</th>\n",
       "      <td id=\"T_11728_row15_col0\" class=\"data row15 col0\" >Encoding method</td>\n",
       "      <td id=\"T_11728_row15_col1\" class=\"data row15 col1\" >None</td>\n",
       "    </tr>\n",
       "    <tr>\n",
       "      <th id=\"T_11728_level0_row16\" class=\"row_heading level0 row16\" >16</th>\n",
       "      <td id=\"T_11728_row16_col0\" class=\"data row16 col0\" >Fold Generator</td>\n",
       "      <td id=\"T_11728_row16_col1\" class=\"data row16 col1\" >KFold</td>\n",
       "    </tr>\n",
       "    <tr>\n",
       "      <th id=\"T_11728_level0_row17\" class=\"row_heading level0 row17\" >17</th>\n",
       "      <td id=\"T_11728_row17_col0\" class=\"data row17 col0\" >Fold Number</td>\n",
       "      <td id=\"T_11728_row17_col1\" class=\"data row17 col1\" >10</td>\n",
       "    </tr>\n",
       "    <tr>\n",
       "      <th id=\"T_11728_level0_row18\" class=\"row_heading level0 row18\" >18</th>\n",
       "      <td id=\"T_11728_row18_col0\" class=\"data row18 col0\" >CPU Jobs</td>\n",
       "      <td id=\"T_11728_row18_col1\" class=\"data row18 col1\" >-1</td>\n",
       "    </tr>\n",
       "    <tr>\n",
       "      <th id=\"T_11728_level0_row19\" class=\"row_heading level0 row19\" >19</th>\n",
       "      <td id=\"T_11728_row19_col0\" class=\"data row19 col0\" >Use GPU</td>\n",
       "      <td id=\"T_11728_row19_col1\" class=\"data row19 col1\" >False</td>\n",
       "    </tr>\n",
       "    <tr>\n",
       "      <th id=\"T_11728_level0_row20\" class=\"row_heading level0 row20\" >20</th>\n",
       "      <td id=\"T_11728_row20_col0\" class=\"data row20 col0\" >Log Experiment</td>\n",
       "      <td id=\"T_11728_row20_col1\" class=\"data row20 col1\" >False</td>\n",
       "    </tr>\n",
       "    <tr>\n",
       "      <th id=\"T_11728_level0_row21\" class=\"row_heading level0 row21\" >21</th>\n",
       "      <td id=\"T_11728_row21_col0\" class=\"data row21 col0\" >Experiment Name</td>\n",
       "      <td id=\"T_11728_row21_col1\" class=\"data row21 col1\" >reg-default-name</td>\n",
       "    </tr>\n",
       "    <tr>\n",
       "      <th id=\"T_11728_level0_row22\" class=\"row_heading level0 row22\" >22</th>\n",
       "      <td id=\"T_11728_row22_col0\" class=\"data row22 col0\" >USI</td>\n",
       "      <td id=\"T_11728_row22_col1\" class=\"data row22 col1\" >34fe</td>\n",
       "    </tr>\n",
       "  </tbody>\n",
       "</table>\n"
      ],
      "text/plain": [
       "<pandas.io.formats.style.Styler at 0x25eb45be490>"
      ]
     },
     "metadata": {},
     "output_type": "display_data"
    },
    {
     "data": {
      "text/html": [],
      "text/plain": [
       "<IPython.core.display.HTML object>"
      ]
     },
     "metadata": {},
     "output_type": "display_data"
    },
    {
     "data": {
      "text/html": [
       "<style type=\"text/css\">\n",
       "#T_cd6af th {\n",
       "  text-align: left;\n",
       "}\n",
       "#T_cd6af_row0_col0, #T_cd6af_row1_col0, #T_cd6af_row1_col1, #T_cd6af_row1_col2, #T_cd6af_row1_col3, #T_cd6af_row1_col4, #T_cd6af_row1_col5, #T_cd6af_row1_col6 {\n",
       "  text-align: left;\n",
       "}\n",
       "#T_cd6af_row0_col1, #T_cd6af_row0_col2, #T_cd6af_row0_col3, #T_cd6af_row0_col4, #T_cd6af_row0_col5, #T_cd6af_row0_col6 {\n",
       "  text-align: left;\n",
       "  background-color: yellow;\n",
       "}\n",
       "#T_cd6af_row0_col7 {\n",
       "  text-align: left;\n",
       "  background-color: lightgrey;\n",
       "}\n",
       "#T_cd6af_row1_col7 {\n",
       "  text-align: left;\n",
       "  background-color: yellow;\n",
       "  background-color: lightgrey;\n",
       "}\n",
       "</style>\n",
       "<table id=\"T_cd6af\">\n",
       "  <thead>\n",
       "    <tr>\n",
       "      <th class=\"blank level0\" >&nbsp;</th>\n",
       "      <th id=\"T_cd6af_level0_col0\" class=\"col_heading level0 col0\" >Model</th>\n",
       "      <th id=\"T_cd6af_level0_col1\" class=\"col_heading level0 col1\" >MAE</th>\n",
       "      <th id=\"T_cd6af_level0_col2\" class=\"col_heading level0 col2\" >MSE</th>\n",
       "      <th id=\"T_cd6af_level0_col3\" class=\"col_heading level0 col3\" >RMSE</th>\n",
       "      <th id=\"T_cd6af_level0_col4\" class=\"col_heading level0 col4\" >R2</th>\n",
       "      <th id=\"T_cd6af_level0_col5\" class=\"col_heading level0 col5\" >RMSLE</th>\n",
       "      <th id=\"T_cd6af_level0_col6\" class=\"col_heading level0 col6\" >MAPE</th>\n",
       "      <th id=\"T_cd6af_level0_col7\" class=\"col_heading level0 col7\" >TT (Sec)</th>\n",
       "    </tr>\n",
       "  </thead>\n",
       "  <tbody>\n",
       "    <tr>\n",
       "      <th id=\"T_cd6af_level0_row0\" class=\"row_heading level0 row0\" >et</th>\n",
       "      <td id=\"T_cd6af_row0_col0\" class=\"data row0 col0\" >Extra Trees Regressor</td>\n",
       "      <td id=\"T_cd6af_row0_col1\" class=\"data row0 col1\" >1.0213</td>\n",
       "      <td id=\"T_cd6af_row0_col2\" class=\"data row0 col2\" >2.5099</td>\n",
       "      <td id=\"T_cd6af_row0_col3\" class=\"data row0 col3\" >1.5842</td>\n",
       "      <td id=\"T_cd6af_row0_col4\" class=\"data row0 col4\" >0.9843</td>\n",
       "      <td id=\"T_cd6af_row0_col5\" class=\"data row0 col5\" >0.1777</td>\n",
       "      <td id=\"T_cd6af_row0_col6\" class=\"data row0 col6\" >0.2638</td>\n",
       "      <td id=\"T_cd6af_row0_col7\" class=\"data row0 col7\" >22.3160</td>\n",
       "    </tr>\n",
       "    <tr>\n",
       "      <th id=\"T_cd6af_level0_row1\" class=\"row_heading level0 row1\" >catboost</th>\n",
       "      <td id=\"T_cd6af_row1_col0\" class=\"data row1 col0\" >CatBoost Regressor</td>\n",
       "      <td id=\"T_cd6af_row1_col1\" class=\"data row1 col1\" >1.1375</td>\n",
       "      <td id=\"T_cd6af_row1_col2\" class=\"data row1 col2\" >2.8151</td>\n",
       "      <td id=\"T_cd6af_row1_col3\" class=\"data row1 col3\" >1.6778</td>\n",
       "      <td id=\"T_cd6af_row1_col4\" class=\"data row1 col4\" >0.9824</td>\n",
       "      <td id=\"T_cd6af_row1_col5\" class=\"data row1 col5\" >0.2103</td>\n",
       "      <td id=\"T_cd6af_row1_col6\" class=\"data row1 col6\" >0.3483</td>\n",
       "      <td id=\"T_cd6af_row1_col7\" class=\"data row1 col7\" >9.9180</td>\n",
       "    </tr>\n",
       "  </tbody>\n",
       "</table>\n"
      ],
      "text/plain": [
       "<pandas.io.formats.style.Styler at 0x25ec778b850>"
      ]
     },
     "metadata": {},
     "output_type": "display_data"
    },
    {
     "data": {
      "application/vnd.jupyter.widget-view+json": {
       "model_id": "7174c656beb0466db717b5326564f81d",
       "version_major": 2,
       "version_minor": 0
      },
      "text/plain": [
       "Processing:   0%|          | 0/14 [00:00<?, ?it/s]"
      ]
     },
     "metadata": {},
     "output_type": "display_data"
    },
    {
     "data": {
      "text/plain": [
       "[ExtraTreesRegressor(n_jobs=-1, random_state=2023),\n",
       " <catboost.core.CatBoostRegressor at 0x25ec75b1f70>]"
      ]
     },
     "execution_count": 17,
     "metadata": {},
     "output_type": "execute_result"
    }
   ],
   "source": [
    "tr1 = setup(r_train, target = 'ts', train_size = 0.7, session_id=2023)\n",
    "model1 = compare_models(n_select=2, sort='RMSE', include=['et','catboost'])\n",
    "# model1 = compare_models(n_select=6, sort='RMSE', include=['lr','ridge','et','xgboost','lightgbm','catboost'])\n",
    "model1"
   ]
  },
  {
   "cell_type": "code",
   "execution_count": null,
   "metadata": {},
   "outputs": [],
   "source": [
    "# tr2 = setup(m_train, target = 'ts', train_size = 0.7, session_id=2023)\n",
    "# model2 = compare_models(n_select=7, sort='RMSE', include=['lr','lasso','ridge','et','xgboost','lightgbm','catboost'])\n",
    "# model2"
   ]
  },
  {
   "cell_type": "code",
   "execution_count": null,
   "metadata": {},
   "outputs": [],
   "source": [
    "# tr3 = setup(s_train, target = 'ts', train_size = 0.7, session_id=2023)\n",
    "# model3 = compare_models(n_select=7, sort='RMSE', include=['lr','lasso','ridge','et','xgboost','lightgbm','catboost'])\n",
    "# model3"
   ]
  },
  {
   "cell_type": "code",
   "execution_count": 18,
   "metadata": {},
   "outputs": [
    {
     "data": {
      "text/html": [],
      "text/plain": [
       "<IPython.core.display.HTML object>"
      ]
     },
     "metadata": {},
     "output_type": "display_data"
    },
    {
     "data": {
      "text/html": [
       "<style type=\"text/css\">\n",
       "#T_6150a_row10_col0, #T_6150a_row10_col1, #T_6150a_row10_col2, #T_6150a_row10_col3, #T_6150a_row10_col4, #T_6150a_row10_col5 {\n",
       "  background: yellow;\n",
       "}\n",
       "</style>\n",
       "<table id=\"T_6150a\">\n",
       "  <thead>\n",
       "    <tr>\n",
       "      <th class=\"blank level0\" >&nbsp;</th>\n",
       "      <th id=\"T_6150a_level0_col0\" class=\"col_heading level0 col0\" >MAE</th>\n",
       "      <th id=\"T_6150a_level0_col1\" class=\"col_heading level0 col1\" >MSE</th>\n",
       "      <th id=\"T_6150a_level0_col2\" class=\"col_heading level0 col2\" >RMSE</th>\n",
       "      <th id=\"T_6150a_level0_col3\" class=\"col_heading level0 col3\" >R2</th>\n",
       "      <th id=\"T_6150a_level0_col4\" class=\"col_heading level0 col4\" >RMSLE</th>\n",
       "      <th id=\"T_6150a_level0_col5\" class=\"col_heading level0 col5\" >MAPE</th>\n",
       "    </tr>\n",
       "    <tr>\n",
       "      <th class=\"index_name level0\" >Fold</th>\n",
       "      <th class=\"blank col0\" >&nbsp;</th>\n",
       "      <th class=\"blank col1\" >&nbsp;</th>\n",
       "      <th class=\"blank col2\" >&nbsp;</th>\n",
       "      <th class=\"blank col3\" >&nbsp;</th>\n",
       "      <th class=\"blank col4\" >&nbsp;</th>\n",
       "      <th class=\"blank col5\" >&nbsp;</th>\n",
       "    </tr>\n",
       "  </thead>\n",
       "  <tbody>\n",
       "    <tr>\n",
       "      <th id=\"T_6150a_level0_row0\" class=\"row_heading level0 row0\" >0</th>\n",
       "      <td id=\"T_6150a_row0_col0\" class=\"data row0 col0\" >1.0259</td>\n",
       "      <td id=\"T_6150a_row0_col1\" class=\"data row0 col1\" >2.5656</td>\n",
       "      <td id=\"T_6150a_row0_col2\" class=\"data row0 col2\" >1.6018</td>\n",
       "      <td id=\"T_6150a_row0_col3\" class=\"data row0 col3\" >0.9839</td>\n",
       "      <td id=\"T_6150a_row0_col4\" class=\"data row0 col4\" >0.1786</td>\n",
       "      <td id=\"T_6150a_row0_col5\" class=\"data row0 col5\" >0.2673</td>\n",
       "    </tr>\n",
       "    <tr>\n",
       "      <th id=\"T_6150a_level0_row1\" class=\"row_heading level0 row1\" >1</th>\n",
       "      <td id=\"T_6150a_row1_col0\" class=\"data row1 col0\" >1.0149</td>\n",
       "      <td id=\"T_6150a_row1_col1\" class=\"data row1 col1\" >2.4390</td>\n",
       "      <td id=\"T_6150a_row1_col2\" class=\"data row1 col2\" >1.5617</td>\n",
       "      <td id=\"T_6150a_row1_col3\" class=\"data row1 col3\" >0.9848</td>\n",
       "      <td id=\"T_6150a_row1_col4\" class=\"data row1 col4\" >0.1773</td>\n",
       "      <td id=\"T_6150a_row1_col5\" class=\"data row1 col5\" >0.2670</td>\n",
       "    </tr>\n",
       "    <tr>\n",
       "      <th id=\"T_6150a_level0_row2\" class=\"row_heading level0 row2\" >2</th>\n",
       "      <td id=\"T_6150a_row2_col0\" class=\"data row2 col0\" >1.0147</td>\n",
       "      <td id=\"T_6150a_row2_col1\" class=\"data row2 col1\" >2.5161</td>\n",
       "      <td id=\"T_6150a_row2_col2\" class=\"data row2 col2\" >1.5862</td>\n",
       "      <td id=\"T_6150a_row2_col3\" class=\"data row2 col3\" >0.9842</td>\n",
       "      <td id=\"T_6150a_row2_col4\" class=\"data row2 col4\" >0.1777</td>\n",
       "      <td id=\"T_6150a_row2_col5\" class=\"data row2 col5\" >0.2762</td>\n",
       "    </tr>\n",
       "    <tr>\n",
       "      <th id=\"T_6150a_level0_row3\" class=\"row_heading level0 row3\" >3</th>\n",
       "      <td id=\"T_6150a_row3_col0\" class=\"data row3 col0\" >1.0228</td>\n",
       "      <td id=\"T_6150a_row3_col1\" class=\"data row3 col1\" >2.4997</td>\n",
       "      <td id=\"T_6150a_row3_col2\" class=\"data row3 col2\" >1.5810</td>\n",
       "      <td id=\"T_6150a_row3_col3\" class=\"data row3 col3\" >0.9843</td>\n",
       "      <td id=\"T_6150a_row3_col4\" class=\"data row3 col4\" >0.1770</td>\n",
       "      <td id=\"T_6150a_row3_col5\" class=\"data row3 col5\" >0.2553</td>\n",
       "    </tr>\n",
       "    <tr>\n",
       "      <th id=\"T_6150a_level0_row4\" class=\"row_heading level0 row4\" >4</th>\n",
       "      <td id=\"T_6150a_row4_col0\" class=\"data row4 col0\" >1.0266</td>\n",
       "      <td id=\"T_6150a_row4_col1\" class=\"data row4 col1\" >2.4667</td>\n",
       "      <td id=\"T_6150a_row4_col2\" class=\"data row4 col2\" >1.5706</td>\n",
       "      <td id=\"T_6150a_row4_col3\" class=\"data row4 col3\" >0.9844</td>\n",
       "      <td id=\"T_6150a_row4_col4\" class=\"data row4 col4\" >0.1797</td>\n",
       "      <td id=\"T_6150a_row4_col5\" class=\"data row4 col5\" >0.2640</td>\n",
       "    </tr>\n",
       "    <tr>\n",
       "      <th id=\"T_6150a_level0_row5\" class=\"row_heading level0 row5\" >5</th>\n",
       "      <td id=\"T_6150a_row5_col0\" class=\"data row5 col0\" >1.0256</td>\n",
       "      <td id=\"T_6150a_row5_col1\" class=\"data row5 col1\" >2.5422</td>\n",
       "      <td id=\"T_6150a_row5_col2\" class=\"data row5 col2\" >1.5944</td>\n",
       "      <td id=\"T_6150a_row5_col3\" class=\"data row5 col3\" >0.9840</td>\n",
       "      <td id=\"T_6150a_row5_col4\" class=\"data row5 col4\" >0.1780</td>\n",
       "      <td id=\"T_6150a_row5_col5\" class=\"data row5 col5\" >0.2557</td>\n",
       "    </tr>\n",
       "    <tr>\n",
       "      <th id=\"T_6150a_level0_row6\" class=\"row_heading level0 row6\" >6</th>\n",
       "      <td id=\"T_6150a_row6_col0\" class=\"data row6 col0\" >1.0227</td>\n",
       "      <td id=\"T_6150a_row6_col1\" class=\"data row6 col1\" >2.5294</td>\n",
       "      <td id=\"T_6150a_row6_col2\" class=\"data row6 col2\" >1.5904</td>\n",
       "      <td id=\"T_6150a_row6_col3\" class=\"data row6 col3\" >0.9842</td>\n",
       "      <td id=\"T_6150a_row6_col4\" class=\"data row6 col4\" >0.1766</td>\n",
       "      <td id=\"T_6150a_row6_col5\" class=\"data row6 col5\" >0.2523</td>\n",
       "    </tr>\n",
       "    <tr>\n",
       "      <th id=\"T_6150a_level0_row7\" class=\"row_heading level0 row7\" >7</th>\n",
       "      <td id=\"T_6150a_row7_col0\" class=\"data row7 col0\" >1.0223</td>\n",
       "      <td id=\"T_6150a_row7_col1\" class=\"data row7 col1\" >2.5575</td>\n",
       "      <td id=\"T_6150a_row7_col2\" class=\"data row7 col2\" >1.5992</td>\n",
       "      <td id=\"T_6150a_row7_col3\" class=\"data row7 col3\" >0.9842</td>\n",
       "      <td id=\"T_6150a_row7_col4\" class=\"data row7 col4\" >0.1759</td>\n",
       "      <td id=\"T_6150a_row7_col5\" class=\"data row7 col5\" >0.2636</td>\n",
       "    </tr>\n",
       "    <tr>\n",
       "      <th id=\"T_6150a_level0_row8\" class=\"row_heading level0 row8\" >8</th>\n",
       "      <td id=\"T_6150a_row8_col0\" class=\"data row8 col0\" >1.0152</td>\n",
       "      <td id=\"T_6150a_row8_col1\" class=\"data row8 col1\" >2.4821</td>\n",
       "      <td id=\"T_6150a_row8_col2\" class=\"data row8 col2\" >1.5755</td>\n",
       "      <td id=\"T_6150a_row8_col3\" class=\"data row8 col3\" >0.9846</td>\n",
       "      <td id=\"T_6150a_row8_col4\" class=\"data row8 col4\" >0.1770</td>\n",
       "      <td id=\"T_6150a_row8_col5\" class=\"data row8 col5\" >0.2672</td>\n",
       "    </tr>\n",
       "    <tr>\n",
       "      <th id=\"T_6150a_level0_row9\" class=\"row_heading level0 row9\" >9</th>\n",
       "      <td id=\"T_6150a_row9_col0\" class=\"data row9 col0\" >1.0224</td>\n",
       "      <td id=\"T_6150a_row9_col1\" class=\"data row9 col1\" >2.5007</td>\n",
       "      <td id=\"T_6150a_row9_col2\" class=\"data row9 col2\" >1.5813</td>\n",
       "      <td id=\"T_6150a_row9_col3\" class=\"data row9 col3\" >0.9844</td>\n",
       "      <td id=\"T_6150a_row9_col4\" class=\"data row9 col4\" >0.1790</td>\n",
       "      <td id=\"T_6150a_row9_col5\" class=\"data row9 col5\" >0.2692</td>\n",
       "    </tr>\n",
       "    <tr>\n",
       "      <th id=\"T_6150a_level0_row10\" class=\"row_heading level0 row10\" >Mean</th>\n",
       "      <td id=\"T_6150a_row10_col0\" class=\"data row10 col0\" >1.0213</td>\n",
       "      <td id=\"T_6150a_row10_col1\" class=\"data row10 col1\" >2.5099</td>\n",
       "      <td id=\"T_6150a_row10_col2\" class=\"data row10 col2\" >1.5842</td>\n",
       "      <td id=\"T_6150a_row10_col3\" class=\"data row10 col3\" >0.9843</td>\n",
       "      <td id=\"T_6150a_row10_col4\" class=\"data row10 col4\" >0.1777</td>\n",
       "      <td id=\"T_6150a_row10_col5\" class=\"data row10 col5\" >0.2638</td>\n",
       "    </tr>\n",
       "    <tr>\n",
       "      <th id=\"T_6150a_level0_row11\" class=\"row_heading level0 row11\" >Std</th>\n",
       "      <td id=\"T_6150a_row11_col0\" class=\"data row11 col0\" >0.0044</td>\n",
       "      <td id=\"T_6150a_row11_col1\" class=\"data row11 col1\" >0.0383</td>\n",
       "      <td id=\"T_6150a_row11_col2\" class=\"data row11 col2\" >0.0121</td>\n",
       "      <td id=\"T_6150a_row11_col3\" class=\"data row11 col3\" >0.0003</td>\n",
       "      <td id=\"T_6150a_row11_col4\" class=\"data row11 col4\" >0.0011</td>\n",
       "      <td id=\"T_6150a_row11_col5\" class=\"data row11 col5\" >0.0070</td>\n",
       "    </tr>\n",
       "  </tbody>\n",
       "</table>\n"
      ],
      "text/plain": [
       "<pandas.io.formats.style.Styler at 0x25ec75b3af0>"
      ]
     },
     "metadata": {},
     "output_type": "display_data"
    },
    {
     "data": {
      "application/vnd.jupyter.widget-view+json": {
       "model_id": "4eef0cbd92c4411fa40670b07a0cb2c3",
       "version_major": 2,
       "version_minor": 0
      },
      "text/plain": [
       "Processing:   0%|          | 0/4 [00:00<?, ?it/s]"
      ]
     },
     "metadata": {},
     "output_type": "display_data"
    }
   ],
   "source": [
    "et = create_model('et')\n",
    "# ct = create_model('catboost')\n",
    "# xb = create_model('xgboost')"
   ]
  },
  {
   "cell_type": "code",
   "execution_count": 26,
   "metadata": {},
   "outputs": [],
   "source": [
    "interpret_model(et, plot='summary')"
   ]
  },
  {
   "cell_type": "code",
   "execution_count": 19,
   "metadata": {},
   "outputs": [
    {
     "data": {
      "text/html": [],
      "text/plain": [
       "<IPython.core.display.HTML object>"
      ]
     },
     "metadata": {},
     "output_type": "display_data"
    }
   ],
   "source": [
    "pred_et = predict_model(et, data = r_test)\n",
    "# pred_ct = predict_model(ct, data = r_test)\n",
    "# pred_xb = predict_model(xb, data = r_test)"
   ]
  },
  {
   "cell_type": "code",
   "execution_count": 20,
   "metadata": {},
   "outputs": [
    {
     "data": {
      "text/plain": [
       "26280"
      ]
     },
     "execution_count": 20,
     "metadata": {},
     "output_type": "execute_result"
    }
   ],
   "source": [
    "len(pred_et)"
   ]
  },
  {
   "cell_type": "code",
   "execution_count": 23,
   "metadata": {},
   "outputs": [
    {
     "data": {
      "text/plain": [
       "count    26280.000000\n",
       "mean        15.122655\n",
       "std         12.056468\n",
       "min        -15.132000\n",
       "25%          5.017750\n",
       "50%         15.660000\n",
       "75%         24.498250\n",
       "max         50.352000\n",
       "Name: prediction_label, dtype: float64"
      ]
     },
     "execution_count": 23,
     "metadata": {},
     "output_type": "execute_result"
    }
   ],
   "source": [
    "pred_et['prediction_label'].describe()"
   ]
  },
  {
   "cell_type": "code",
   "execution_count": 24,
   "metadata": {},
   "outputs": [],
   "source": [
    "test['ts'] = pred_et['prediction_label']"
   ]
  },
  {
   "cell_type": "code",
   "execution_count": 25,
   "metadata": {},
   "outputs": [],
   "source": [
    "final1 = test[['stn','year','mmddhh','ts']]\n",
    "final1.to_csv('final1_0705.csv',index=False, encoding='cp949')"
   ]
  }
 ],
 "metadata": {
  "kernelspec": {
   "display_name": "venvtemp",
   "language": "python",
   "name": "python3"
  },
  "language_info": {
   "codemirror_mode": {
    "name": "ipython",
    "version": 3
   },
   "file_extension": ".py",
   "mimetype": "text/x-python",
   "name": "python",
   "nbconvert_exporter": "python",
   "pygments_lexer": "ipython3",
   "version": "3.11.3"
  },
  "orig_nbformat": 4
 },
 "nbformat": 4,
 "nbformat_minor": 2
}
