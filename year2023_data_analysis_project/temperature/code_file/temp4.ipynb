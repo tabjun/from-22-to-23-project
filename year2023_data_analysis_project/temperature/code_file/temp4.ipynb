{
 "cells": [
  {
   "cell_type": "code",
   "execution_count": 1,
   "metadata": {},
   "outputs": [],
   "source": [
    "import pandas as pd\n",
    "import numpy as np\n",
    "import os\n",
    "import matplotlib.pyplot as plt\n",
    "import seaborn as sns\n",
    "import statsmodels.api as sm\n",
    "from datetime import datetime\n",
    "from dateutil.parser import parse"
   ]
  },
  {
   "cell_type": "code",
   "execution_count": 27,
   "metadata": {},
   "outputs": [
    {
     "data": {
      "text/plain": [
       "(438240, 15)"
      ]
     },
     "execution_count": 27,
     "metadata": {},
     "output_type": "execute_result"
    }
   ],
   "source": [
    "train = pd.read_csv('surface_cp_train.csv', encoding='cp949')\n",
    "train.shape"
   ]
  },
  {
   "cell_type": "code",
   "execution_count": 3,
   "metadata": {},
   "outputs": [
    {
     "data": {
      "text/plain": [
       "Series([], Name: surface_tp_train.rn, dtype: float64)"
      ]
     },
     "execution_count": 3,
     "metadata": {},
     "output_type": "execute_result"
    }
   ],
   "source": [
    "train[train['surface_tp_train.rn']==-90]['surface_tp_train.rn']"
   ]
  },
  {
   "cell_type": "code",
   "execution_count": 11,
   "metadata": {},
   "outputs": [
    {
     "data": {
      "text/plain": [
       "array([-99], dtype=int64)"
      ]
     },
     "execution_count": 11,
     "metadata": {},
     "output_type": "execute_result"
    }
   ],
   "source": [
    "train[train['surface_tp_train.re']<=-90]['surface_tp_train.re'].unique()"
   ]
  },
  {
   "cell_type": "code",
   "execution_count": null,
   "metadata": {},
   "outputs": [],
   "source": [
    "train_copy = train.copy()\n",
    "\n",
    "train_copy['month'] = train_copy['surface_tp_train.mmddhh']//10000\n",
    "\n",
    "train_int = train_copy['surface_tp_train.mmddhh'].astype(str)\n",
    "\n",
    "train_copy['day'] = np.nan\n",
    "train_copy['hour'] = np.nan\n",
    "\n",
    "# 슬라이싱\n",
    "# 역슬라이싱으로 day부분 추출\n",
    "train_copy['day'] = train_int.apply(lambda x: int(x[-4:-2])) \n",
    "# 역슬라이싱으로 hour추출\n",
    "train_copy['hour'] = train_int.apply(lambda x: int(x[-2:]))\n",
    "\n",
    "print(train_copy.month.value_counts().sort_index())\n",
    "print('\\n')\n",
    "print(train_copy.day.value_counts().sort_index())\n",
    "print('\\n')\n",
    "print(train_copy.hour.value_counts().sort_index())\n"
   ]
  },
  {
   "cell_type": "code",
   "execution_count": 14,
   "metadata": {},
   "outputs": [
    {
     "name": "stdout",
     "output_type": "stream",
     "text": [
      "<class 'pandas.core.frame.DataFrame'>\n",
      "RangeIndex: 438240 entries, 0 to 438239\n",
      "Data columns (total 15 columns):\n",
      " #   Column                   Non-Null Count   Dtype  \n",
      "---  ------                   --------------   -----  \n",
      " 0   Unnamed: 0               438240 non-null  int64  \n",
      " 1   surface_tp_train.stn     438240 non-null  int64  \n",
      " 2   surface_tp_train.year    438240 non-null  object \n",
      " 3   surface_tp_train.mmddhh  438240 non-null  int64  \n",
      " 4   surface_tp_train.ta      438240 non-null  float64\n",
      " 5   surface_tp_train.td      438240 non-null  float64\n",
      " 6   surface_tp_train.hm      438240 non-null  float64\n",
      " 7   surface_tp_train.ws      438240 non-null  float64\n",
      " 8   surface_tp_train.rn      438240 non-null  float64\n",
      " 9   surface_tp_train.re      438240 non-null  int64  \n",
      " 10  surface_tp_train.ww      438240 non-null  object \n",
      " 11  surface_tp_train.ts      438240 non-null  float64\n",
      " 12  surface_tp_train.si      438240 non-null  float64\n",
      " 13  surface_tp_train.ss      438240 non-null  float64\n",
      " 14  surface_tp_train.sn      438240 non-null  float64\n",
      "dtypes: float64(9), int64(4), object(2)\n",
      "memory usage: 50.2+ MB\n",
      "None\n",
      "<class 'pandas.core.frame.DataFrame'>\n",
      "RangeIndex: 438240 entries, 0 to 438239\n",
      "Data columns (total 18 columns):\n",
      " #   Column                   Non-Null Count   Dtype \n",
      "---  ------                   --------------   ----- \n",
      " 0   Unnamed: 0               438240 non-null  int64 \n",
      " 1   surface_tp_train.stn     438240 non-null  int64 \n",
      " 2   surface_tp_train.year    438240 non-null  object\n",
      " 3   surface_tp_train.mmddhh  438240 non-null  int64 \n",
      " 4   surface_tp_train.ta      437610 non-null  object\n",
      " 5   surface_tp_train.td      437594 non-null  object\n",
      " 6   surface_tp_train.hm      437662 non-null  object\n",
      " 7   surface_tp_train.ws      437233 non-null  object\n",
      " 8   surface_tp_train.rn      430824 non-null  object\n",
      " 9   surface_tp_train.re      438240 non-null  int64 \n",
      " 10  surface_tp_train.ww      438240 non-null  object\n",
      " 11  surface_tp_train.ts      437613 non-null  object\n",
      " 12  surface_tp_train.si      238214 non-null  object\n",
      " 13  surface_tp_train.ss      239177 non-null  object\n",
      " 14  surface_tp_train.sn      7194 non-null    object\n",
      " 15  month                    438240 non-null  int64 \n",
      " 16  day                      438240 non-null  int64 \n",
      " 17  hour                     438240 non-null  int64 \n",
      "dtypes: int64(7), object(11)\n",
      "memory usage: 60.2+ MB\n"
     ]
    }
   ],
   "source": [
    "train_copy.replace(-99.9, pd.NA, inplace=True)\n",
    "print(train.info())\n",
    "train_copy.info()"
   ]
  },
  {
   "cell_type": "code",
   "execution_count": 15,
   "metadata": {},
   "outputs": [],
   "source": [
    "train_copy['surface_tp_train.mmddhh'] = pd.to_datetime(train_copy['surface_tp_train.mmddhh'].astype(str).str[-8:], format=\"%m%d%H\", errors='coerce')"
   ]
  },
  {
   "cell_type": "code",
   "execution_count": 16,
   "metadata": {},
   "outputs": [
    {
     "data": {
      "text/plain": [
       "0        1900-02-01 00:00:00\n",
       "1        1900-02-01 01:00:00\n",
       "2        1900-02-01 02:00:00\n",
       "3        1900-02-01 03:00:00\n",
       "4        1900-02-01 04:00:00\n",
       "                 ...        \n",
       "438235   1900-01-31 19:00:00\n",
       "438236   1900-01-31 20:00:00\n",
       "438237   1900-01-31 21:00:00\n",
       "438238   1900-01-31 22:00:00\n",
       "438239   1900-01-31 23:00:00\n",
       "Name: surface_tp_train.mmddhh, Length: 438240, dtype: datetime64[ns]"
      ]
     },
     "execution_count": 16,
     "metadata": {},
     "output_type": "execute_result"
    }
   ],
   "source": [
    "train_copy['surface_tp_train.mmddhh']"
   ]
  },
  {
   "cell_type": "code",
   "execution_count": 17,
   "metadata": {},
   "outputs": [],
   "source": [
    "train_copy['surface_tp_train.mmddhh'].unique()\n",
    "year_a = train_copy[train_copy['surface_tp_train.year']=='A']\n",
    "\n",
    "\n",
    "year_a.set_index('surface_tp_train.mmddhh',inplace=True)"
   ]
  },
  {
   "cell_type": "code",
   "execution_count": 18,
   "metadata": {},
   "outputs": [
    {
     "data": {
      "text/plain": [
       "0         0.0\n",
       "1         0.0\n",
       "2         0.0\n",
       "3         0.0\n",
       "4         0.0\n",
       "         ... \n",
       "438235    0.0\n",
       "438236    0.0\n",
       "438237    0.0\n",
       "438238    0.0\n",
       "438239    0.0\n",
       "Name: surface_tp_train.rn, Length: 438240, dtype: object"
      ]
     },
     "execution_count": 18,
     "metadata": {},
     "output_type": "execute_result"
    }
   ],
   "source": [
    "train_copy['surface_tp_train.rn']"
   ]
  },
  {
   "cell_type": "code",
   "execution_count": 19,
   "metadata": {},
   "outputs": [
    {
     "data": {
      "text/html": [
       "<div>\n",
       "<style scoped>\n",
       "    .dataframe tbody tr th:only-of-type {\n",
       "        vertical-align: middle;\n",
       "    }\n",
       "\n",
       "    .dataframe tbody tr th {\n",
       "        vertical-align: top;\n",
       "    }\n",
       "\n",
       "    .dataframe thead th {\n",
       "        text-align: right;\n",
       "    }\n",
       "</style>\n",
       "<table border=\"1\" class=\"dataframe\">\n",
       "  <thead>\n",
       "    <tr style=\"text-align: right;\">\n",
       "      <th></th>\n",
       "      <th>Unnamed: 0</th>\n",
       "      <th>surface_tp_test.stn</th>\n",
       "      <th>surface_tp_test.year</th>\n",
       "      <th>surface_tp_test.mmddhh</th>\n",
       "      <th>surface_tp_test.ta</th>\n",
       "      <th>surface_tp_test.td</th>\n",
       "      <th>surface_tp_test.hm</th>\n",
       "      <th>surface_tp_test.ws</th>\n",
       "      <th>surface_tp_test.rn</th>\n",
       "      <th>surface_tp_test.re</th>\n",
       "      <th>surface_tp_test.ww</th>\n",
       "      <th>surface_tp_test.si</th>\n",
       "      <th>surface_tp_test.ss</th>\n",
       "      <th>surface_tp_test.sn</th>\n",
       "    </tr>\n",
       "  </thead>\n",
       "  <tbody>\n",
       "    <tr>\n",
       "      <th>0</th>\n",
       "      <td>1</td>\n",
       "      <td>a</td>\n",
       "      <td>F</td>\n",
       "      <td>20100</td>\n",
       "      <td>0.6</td>\n",
       "      <td>-2.0</td>\n",
       "      <td>82.5</td>\n",
       "      <td>2.7</td>\n",
       "      <td>0.0</td>\n",
       "      <td>0</td>\n",
       "      <td>G</td>\n",
       "      <td>-99.9</td>\n",
       "      <td>-99.9</td>\n",
       "      <td>3.1</td>\n",
       "    </tr>\n",
       "    <tr>\n",
       "      <th>1</th>\n",
       "      <td>2</td>\n",
       "      <td>a</td>\n",
       "      <td>F</td>\n",
       "      <td>20101</td>\n",
       "      <td>0.0</td>\n",
       "      <td>-5.2</td>\n",
       "      <td>68.3</td>\n",
       "      <td>3.2</td>\n",
       "      <td>0.0</td>\n",
       "      <td>0</td>\n",
       "      <td>R</td>\n",
       "      <td>-99.9</td>\n",
       "      <td>-99.9</td>\n",
       "      <td>3.1</td>\n",
       "    </tr>\n",
       "    <tr>\n",
       "      <th>2</th>\n",
       "      <td>3</td>\n",
       "      <td>a</td>\n",
       "      <td>F</td>\n",
       "      <td>20102</td>\n",
       "      <td>-0.3</td>\n",
       "      <td>-6.4</td>\n",
       "      <td>63.7</td>\n",
       "      <td>2.7</td>\n",
       "      <td>0.0</td>\n",
       "      <td>0</td>\n",
       "      <td>C</td>\n",
       "      <td>-99.9</td>\n",
       "      <td>-99.9</td>\n",
       "      <td>3.1</td>\n",
       "    </tr>\n",
       "    <tr>\n",
       "      <th>3</th>\n",
       "      <td>4</td>\n",
       "      <td>a</td>\n",
       "      <td>F</td>\n",
       "      <td>20103</td>\n",
       "      <td>-1.0</td>\n",
       "      <td>-4.5</td>\n",
       "      <td>77.2</td>\n",
       "      <td>2.1</td>\n",
       "      <td>0.2</td>\n",
       "      <td>7</td>\n",
       "      <td>R</td>\n",
       "      <td>-99.9</td>\n",
       "      <td>-99.9</td>\n",
       "      <td>4.1</td>\n",
       "    </tr>\n",
       "    <tr>\n",
       "      <th>4</th>\n",
       "      <td>5</td>\n",
       "      <td>a</td>\n",
       "      <td>F</td>\n",
       "      <td>20104</td>\n",
       "      <td>-1.4</td>\n",
       "      <td>-3.1</td>\n",
       "      <td>88.3</td>\n",
       "      <td>2.9</td>\n",
       "      <td>0.6</td>\n",
       "      <td>3</td>\n",
       "      <td>R</td>\n",
       "      <td>-99.9</td>\n",
       "      <td>-99.9</td>\n",
       "      <td>4.7</td>\n",
       "    </tr>\n",
       "  </tbody>\n",
       "</table>\n",
       "</div>"
      ],
      "text/plain": [
       "   Unnamed: 0 surface_tp_test.stn surface_tp_test.year  \\\n",
       "0           1                   a                    F   \n",
       "1           2                   a                    F   \n",
       "2           3                   a                    F   \n",
       "3           4                   a                    F   \n",
       "4           5                   a                    F   \n",
       "\n",
       "   surface_tp_test.mmddhh  surface_tp_test.ta  surface_tp_test.td  \\\n",
       "0                   20100                 0.6                -2.0   \n",
       "1                   20101                 0.0                -5.2   \n",
       "2                   20102                -0.3                -6.4   \n",
       "3                   20103                -1.0                -4.5   \n",
       "4                   20104                -1.4                -3.1   \n",
       "\n",
       "   surface_tp_test.hm  surface_tp_test.ws  surface_tp_test.rn  \\\n",
       "0                82.5                 2.7                 0.0   \n",
       "1                68.3                 3.2                 0.0   \n",
       "2                63.7                 2.7                 0.0   \n",
       "3                77.2                 2.1                 0.2   \n",
       "4                88.3                 2.9                 0.6   \n",
       "\n",
       "   surface_tp_test.re surface_tp_test.ww  surface_tp_test.si  \\\n",
       "0                   0                  G               -99.9   \n",
       "1                   0                  R               -99.9   \n",
       "2                   0                  C               -99.9   \n",
       "3                   7                  R               -99.9   \n",
       "4                   3                  R               -99.9   \n",
       "\n",
       "   surface_tp_test.ss  surface_tp_test.sn  \n",
       "0               -99.9                 3.1  \n",
       "1               -99.9                 3.1  \n",
       "2               -99.9                 3.1  \n",
       "3               -99.9                 4.1  \n",
       "4               -99.9                 4.7  "
      ]
     },
     "execution_count": 19,
     "metadata": {},
     "output_type": "execute_result"
    }
   ],
   "source": [
    "test = pd.read_csv('cp_test.csv', encoding='cp949')\n",
    "test.head()"
   ]
  },
  {
   "cell_type": "code",
   "execution_count": 20,
   "metadata": {},
   "outputs": [
    {
     "data": {
      "text/plain": [
       "0        201\n",
       "1        201\n",
       "2        201\n",
       "3        201\n",
       "4        201\n",
       "        ... \n",
       "26275    131\n",
       "26276    131\n",
       "26277    131\n",
       "26278    131\n",
       "26279    131\n",
       "Name: mmdd, Length: 26280, dtype: int64"
      ]
     },
     "execution_count": 20,
     "metadata": {},
     "output_type": "execute_result"
    }
   ],
   "source": [
    "test['mmdd'] = test['surface_tp_test.mmddhh']//100\n",
    "test.mmdd"
   ]
  },
  {
   "cell_type": "code",
   "execution_count": 21,
   "metadata": {},
   "outputs": [
    {
     "data": {
      "text/html": [
       "<div>\n",
       "<style scoped>\n",
       "    .dataframe tbody tr th:only-of-type {\n",
       "        vertical-align: middle;\n",
       "    }\n",
       "\n",
       "    .dataframe tbody tr th {\n",
       "        vertical-align: top;\n",
       "    }\n",
       "\n",
       "    .dataframe thead th {\n",
       "        text-align: right;\n",
       "    }\n",
       "</style>\n",
       "<table border=\"1\" class=\"dataframe\">\n",
       "  <thead>\n",
       "    <tr style=\"text-align: right;\">\n",
       "      <th></th>\n",
       "      <th>Unnamed: 0</th>\n",
       "      <th>surface_tp_test.stn</th>\n",
       "      <th>surface_tp_test.year</th>\n",
       "      <th>surface_tp_test.mmddhh</th>\n",
       "      <th>surface_tp_test.ta</th>\n",
       "      <th>surface_tp_test.td</th>\n",
       "      <th>surface_tp_test.hm</th>\n",
       "      <th>surface_tp_test.ws</th>\n",
       "      <th>surface_tp_test.rn</th>\n",
       "      <th>surface_tp_test.re</th>\n",
       "      <th>surface_tp_test.ww</th>\n",
       "      <th>surface_tp_test.si</th>\n",
       "      <th>surface_tp_test.ss</th>\n",
       "      <th>surface_tp_test.sn</th>\n",
       "      <th>mmdd</th>\n",
       "    </tr>\n",
       "  </thead>\n",
       "  <tbody>\n",
       "  </tbody>\n",
       "</table>\n",
       "</div>"
      ],
      "text/plain": [
       "Empty DataFrame\n",
       "Columns: [Unnamed: 0, surface_tp_test.stn, surface_tp_test.year, surface_tp_test.mmddhh, surface_tp_test.ta, surface_tp_test.td, surface_tp_test.hm, surface_tp_test.ws, surface_tp_test.rn, surface_tp_test.re, surface_tp_test.ww, surface_tp_test.si, surface_tp_test.ss, surface_tp_test.sn, mmdd]\n",
       "Index: []"
      ]
     },
     "execution_count": 21,
     "metadata": {},
     "output_type": "execute_result"
    }
   ],
   "source": [
    "test[test['mmdd']==229]"
   ]
  }
 ],
 "metadata": {
  "kernelspec": {
   "display_name": "venvtemp",
   "language": "python",
   "name": "python3"
  },
  "language_info": {
   "codemirror_mode": {
    "name": "ipython",
    "version": 3
   },
   "file_extension": ".py",
   "mimetype": "text/x-python",
   "name": "python",
   "nbconvert_exporter": "python",
   "pygments_lexer": "ipython3",
   "version": "3.11.3"
  },
  "orig_nbformat": 4
 },
 "nbformat": 4,
 "nbformat_minor": 2
}
