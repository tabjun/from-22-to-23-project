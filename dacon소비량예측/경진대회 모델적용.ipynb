{
 "cells": [
  {
   "cell_type": "code",
   "execution_count": 1,
   "metadata": {},
   "outputs": [
    {
     "name": "stdout",
     "output_type": "stream",
     "text": [
      "C:\\Users\\user\\Desktop\\경진대회\\마켓 캠페인\n"
     ]
    }
   ],
   "source": [
    "import os\n",
    "os.chdir(\"C:\\\\Users\\\\user\\\\Desktop\\\\경진대회\\\\마켓 캠페인\")\n",
    "print(os.getcwd())"
   ]
  },
  {
   "cell_type": "code",
   "execution_count": 2,
   "metadata": {},
   "outputs": [],
   "source": [
    "import numpy as np\n",
    "import statsmodels as stats\n",
    "import pandas as pd\n",
    "import matplotlib.pyplot as plt\n",
    "from scipy.stats import skew, kurtosis\n",
    "import scipy.stats as stats\n",
    "import seaborn as sns"
   ]
  },
  {
   "cell_type": "code",
   "execution_count": 3,
   "metadata": {},
   "outputs": [
    {
     "data": {
      "text/html": [
       "<div>\n",
       "<style scoped>\n",
       "    .dataframe tbody tr th:only-of-type {\n",
       "        vertical-align: middle;\n",
       "    }\n",
       "\n",
       "    .dataframe tbody tr th {\n",
       "        vertical-align: top;\n",
       "    }\n",
       "\n",
       "    .dataframe thead th {\n",
       "        text-align: right;\n",
       "    }\n",
       "</style>\n",
       "<table border=\"1\" class=\"dataframe\">\n",
       "  <thead>\n",
       "    <tr style=\"text-align: right;\">\n",
       "      <th></th>\n",
       "      <th>id</th>\n",
       "      <th>Year_Birth</th>\n",
       "      <th>Education</th>\n",
       "      <th>Marital_Status</th>\n",
       "      <th>Income</th>\n",
       "      <th>Kidhome</th>\n",
       "      <th>Teenhome</th>\n",
       "      <th>Dt_Customer</th>\n",
       "      <th>Recency</th>\n",
       "      <th>NumDealsPurchases</th>\n",
       "      <th>...</th>\n",
       "      <th>NumStorePurchases</th>\n",
       "      <th>NumWebVisitsMonth</th>\n",
       "      <th>AcceptedCmp3</th>\n",
       "      <th>AcceptedCmp4</th>\n",
       "      <th>AcceptedCmp5</th>\n",
       "      <th>AcceptedCmp1</th>\n",
       "      <th>AcceptedCmp2</th>\n",
       "      <th>Complain</th>\n",
       "      <th>Response</th>\n",
       "      <th>target</th>\n",
       "    </tr>\n",
       "  </thead>\n",
       "  <tbody>\n",
       "    <tr>\n",
       "      <th>0</th>\n",
       "      <td>0</td>\n",
       "      <td>1974</td>\n",
       "      <td>Master</td>\n",
       "      <td>Together</td>\n",
       "      <td>46014.0</td>\n",
       "      <td>1</td>\n",
       "      <td>1</td>\n",
       "      <td>21-01-2013</td>\n",
       "      <td>21</td>\n",
       "      <td>10</td>\n",
       "      <td>...</td>\n",
       "      <td>8</td>\n",
       "      <td>7</td>\n",
       "      <td>0</td>\n",
       "      <td>0</td>\n",
       "      <td>0</td>\n",
       "      <td>0</td>\n",
       "      <td>0</td>\n",
       "      <td>0</td>\n",
       "      <td>0</td>\n",
       "      <td>541</td>\n",
       "    </tr>\n",
       "    <tr>\n",
       "      <th>1</th>\n",
       "      <td>1</td>\n",
       "      <td>1962</td>\n",
       "      <td>Graduation</td>\n",
       "      <td>Single</td>\n",
       "      <td>76624.0</td>\n",
       "      <td>0</td>\n",
       "      <td>1</td>\n",
       "      <td>24-05-2014</td>\n",
       "      <td>68</td>\n",
       "      <td>1</td>\n",
       "      <td>...</td>\n",
       "      <td>7</td>\n",
       "      <td>1</td>\n",
       "      <td>1</td>\n",
       "      <td>0</td>\n",
       "      <td>0</td>\n",
       "      <td>0</td>\n",
       "      <td>0</td>\n",
       "      <td>0</td>\n",
       "      <td>0</td>\n",
       "      <td>899</td>\n",
       "    </tr>\n",
       "    <tr>\n",
       "      <th>2</th>\n",
       "      <td>2</td>\n",
       "      <td>1951</td>\n",
       "      <td>Graduation</td>\n",
       "      <td>Married</td>\n",
       "      <td>75903.0</td>\n",
       "      <td>0</td>\n",
       "      <td>1</td>\n",
       "      <td>08-04-2013</td>\n",
       "      <td>50</td>\n",
       "      <td>2</td>\n",
       "      <td>...</td>\n",
       "      <td>9</td>\n",
       "      <td>3</td>\n",
       "      <td>0</td>\n",
       "      <td>0</td>\n",
       "      <td>0</td>\n",
       "      <td>0</td>\n",
       "      <td>0</td>\n",
       "      <td>0</td>\n",
       "      <td>0</td>\n",
       "      <td>901</td>\n",
       "    </tr>\n",
       "    <tr>\n",
       "      <th>3</th>\n",
       "      <td>3</td>\n",
       "      <td>1974</td>\n",
       "      <td>Basic</td>\n",
       "      <td>Married</td>\n",
       "      <td>18393.0</td>\n",
       "      <td>1</td>\n",
       "      <td>0</td>\n",
       "      <td>29-03-2014</td>\n",
       "      <td>2</td>\n",
       "      <td>2</td>\n",
       "      <td>...</td>\n",
       "      <td>3</td>\n",
       "      <td>8</td>\n",
       "      <td>0</td>\n",
       "      <td>0</td>\n",
       "      <td>0</td>\n",
       "      <td>0</td>\n",
       "      <td>0</td>\n",
       "      <td>0</td>\n",
       "      <td>0</td>\n",
       "      <td>50</td>\n",
       "    </tr>\n",
       "    <tr>\n",
       "      <th>4</th>\n",
       "      <td>4</td>\n",
       "      <td>1946</td>\n",
       "      <td>PhD</td>\n",
       "      <td>Together</td>\n",
       "      <td>64014.0</td>\n",
       "      <td>2</td>\n",
       "      <td>1</td>\n",
       "      <td>10-06-2014</td>\n",
       "      <td>56</td>\n",
       "      <td>7</td>\n",
       "      <td>...</td>\n",
       "      <td>5</td>\n",
       "      <td>7</td>\n",
       "      <td>0</td>\n",
       "      <td>0</td>\n",
       "      <td>0</td>\n",
       "      <td>1</td>\n",
       "      <td>0</td>\n",
       "      <td>0</td>\n",
       "      <td>0</td>\n",
       "      <td>444</td>\n",
       "    </tr>\n",
       "  </tbody>\n",
       "</table>\n",
       "<p>5 rows × 22 columns</p>\n",
       "</div>"
      ],
      "text/plain": [
       "   id  Year_Birth   Education Marital_Status   Income  Kidhome  Teenhome  \\\n",
       "0   0        1974      Master       Together  46014.0        1         1   \n",
       "1   1        1962  Graduation         Single  76624.0        0         1   \n",
       "2   2        1951  Graduation        Married  75903.0        0         1   \n",
       "3   3        1974       Basic        Married  18393.0        1         0   \n",
       "4   4        1946         PhD       Together  64014.0        2         1   \n",
       "\n",
       "  Dt_Customer  Recency  NumDealsPurchases  ...  NumStorePurchases  \\\n",
       "0  21-01-2013       21                 10  ...                  8   \n",
       "1  24-05-2014       68                  1  ...                  7   \n",
       "2  08-04-2013       50                  2  ...                  9   \n",
       "3  29-03-2014        2                  2  ...                  3   \n",
       "4  10-06-2014       56                  7  ...                  5   \n",
       "\n",
       "   NumWebVisitsMonth  AcceptedCmp3  AcceptedCmp4  AcceptedCmp5  AcceptedCmp1  \\\n",
       "0                  7             0             0             0             0   \n",
       "1                  1             1             0             0             0   \n",
       "2                  3             0             0             0             0   \n",
       "3                  8             0             0             0             0   \n",
       "4                  7             0             0             0             1   \n",
       "\n",
       "   AcceptedCmp2  Complain  Response  target  \n",
       "0             0         0         0     541  \n",
       "1             0         0         0     899  \n",
       "2             0         0         0     901  \n",
       "3             0         0         0      50  \n",
       "4             0         0         0     444  \n",
       "\n",
       "[5 rows x 22 columns]"
      ]
     },
     "execution_count": 3,
     "metadata": {},
     "output_type": "execute_result"
    }
   ],
   "source": [
    "a = pd.read_csv(\"train123.csv\")\n",
    "a.head()"
   ]
  },
  {
   "cell_type": "code",
   "execution_count": 4,
   "metadata": {},
   "outputs": [
    {
     "name": "stdout",
     "output_type": "stream",
     "text": [
      "Index(['id', 'Year_Birth', 'Education', 'Marital_Status', 'Income', 'Kidhome',\n",
      "       'Teenhome', 'Dt_Customer', 'Recency', 'NumDealsPurchases',\n",
      "       'NumWebPurchases', 'NumCatalogPurchases', 'NumStorePurchases',\n",
      "       'NumWebVisitsMonth', 'AcceptedCmp3', 'AcceptedCmp4', 'AcceptedCmp5',\n",
      "       'AcceptedCmp1', 'AcceptedCmp2', 'Complain', 'Response', 'target'],\n",
      "      dtype='object')\n"
     ]
    }
   ],
   "source": [
    "print(a.columns)"
   ]
  },
  {
   "cell_type": "code",
   "execution_count": 5,
   "metadata": {},
   "outputs": [],
   "source": [
    "a.columns = ['id','birth','edu','maritial','income','kid','teen','dt_cus','recency','sales',\n",
    "             'webpur','catalog','store','webvisit','cmp3','cmp4','cmp5','cmp1','cmp2',\n",
    "             'complain','response','target']"
   ]
  },
  {
   "cell_type": "code",
   "execution_count": 6,
   "metadata": {},
   "outputs": [
    {
     "name": "stdout",
     "output_type": "stream",
     "text": [
      "변경한 변수명:Index(['id', 'birth', 'edu', 'maritial', 'income', 'kid', 'teen', 'dt_cus',\n",
      "       'recency', 'sales', 'webpur', 'catalog', 'store', 'webvisit', 'cmp3',\n",
      "       'cmp4', 'cmp5', 'cmp1', 'cmp2', 'complain', 'response', 'target'],\n",
      "      dtype='object')\n"
     ]
    }
   ],
   "source": [
    "print(f'변경한 변수명:{a.columns}')"
   ]
  },
  {
   "cell_type": "markdown",
   "metadata": {},
   "source": [
    "# 결측치가 없음"
   ]
  },
  {
   "cell_type": "code",
   "execution_count": 7,
   "metadata": {},
   "outputs": [
    {
     "name": "stdout",
     "output_type": "stream",
     "text": [
      "<class 'pandas.core.frame.DataFrame'>\n",
      "RangeIndex: 1108 entries, 0 to 1107\n",
      "Data columns (total 22 columns):\n",
      " #   Column    Non-Null Count  Dtype  \n",
      "---  ------    --------------  -----  \n",
      " 0   id        1108 non-null   int64  \n",
      " 1   birth     1108 non-null   int64  \n",
      " 2   edu       1108 non-null   object \n",
      " 3   maritial  1108 non-null   object \n",
      " 4   income    1108 non-null   float64\n",
      " 5   kid       1108 non-null   int64  \n",
      " 6   teen      1108 non-null   int64  \n",
      " 7   dt_cus    1108 non-null   object \n",
      " 8   recency   1108 non-null   int64  \n",
      " 9   sales     1108 non-null   int64  \n",
      " 10  webpur    1108 non-null   int64  \n",
      " 11  catalog   1108 non-null   int64  \n",
      " 12  store     1108 non-null   int64  \n",
      " 13  webvisit  1108 non-null   int64  \n",
      " 14  cmp3      1108 non-null   int64  \n",
      " 15  cmp4      1108 non-null   int64  \n",
      " 16  cmp5      1108 non-null   int64  \n",
      " 17  cmp1      1108 non-null   int64  \n",
      " 18  cmp2      1108 non-null   int64  \n",
      " 19  complain  1108 non-null   int64  \n",
      " 20  response  1108 non-null   int64  \n",
      " 21  target    1108 non-null   int64  \n",
      "dtypes: float64(1), int64(18), object(3)\n",
      "memory usage: 190.6+ KB\n",
      "None\n"
     ]
    }
   ],
   "source": [
    "print(a.info()) #전체 데이터형 파악"
   ]
  },
  {
   "cell_type": "code",
   "execution_count": 8,
   "metadata": {},
   "outputs": [
    {
     "name": "stdout",
     "output_type": "stream",
     "text": [
      "id          0\n",
      "birth       0\n",
      "edu         0\n",
      "maritial    0\n",
      "income      0\n",
      "kid         0\n",
      "teen        0\n",
      "dt_cus      0\n",
      "recency     0\n",
      "sales       0\n",
      "webpur      0\n",
      "catalog     0\n",
      "store       0\n",
      "webvisit    0\n",
      "cmp3        0\n",
      "cmp4        0\n",
      "cmp5        0\n",
      "cmp1        0\n",
      "cmp2        0\n",
      "complain    0\n",
      "response    0\n",
      "target      0\n",
      "dtype: int64\n"
     ]
    }
   ],
   "source": [
    "print(a.isnull().sum())"
   ]
  },
  {
   "cell_type": "markdown",
   "metadata": {},
   "source": [
    "# 범주값인지 확인"
   ]
  },
  {
   "cell_type": "code",
   "execution_count": 9,
   "metadata": {},
   "outputs": [
    {
     "name": "stdout",
     "output_type": "stream",
     "text": [
      "['Master' 'Graduation' 'Basic' 'PhD' '2n Cycle']\n",
      "[0 1]\n",
      "['Together' 'Single' 'Married' 'Widow' 'Divorced' 'Alone' 'YOLO' 'Absurd']\n",
      "[0 1]\n",
      "[0 1]\n"
     ]
    }
   ],
   "source": [
    "print(a['edu'].unique())\n",
    "print(a['cmp1'].unique())\n",
    "print(a['maritial'].unique())\n",
    "print(a['complain'].unique())\n",
    "print(a['response'].unique())"
   ]
  },
  {
   "cell_type": "code",
   "execution_count": 10,
   "metadata": {},
   "outputs": [],
   "source": [
    "a_copy = a.copy()"
   ]
  },
  {
   "cell_type": "code",
   "execution_count": 11,
   "metadata": {},
   "outputs": [
    {
     "data": {
      "text/html": [
       "<div>\n",
       "<style scoped>\n",
       "    .dataframe tbody tr th:only-of-type {\n",
       "        vertical-align: middle;\n",
       "    }\n",
       "\n",
       "    .dataframe tbody tr th {\n",
       "        vertical-align: top;\n",
       "    }\n",
       "\n",
       "    .dataframe thead th {\n",
       "        text-align: right;\n",
       "    }\n",
       "</style>\n",
       "<table border=\"1\" class=\"dataframe\">\n",
       "  <thead>\n",
       "    <tr style=\"text-align: right;\">\n",
       "      <th></th>\n",
       "      <th>id</th>\n",
       "      <th>birth</th>\n",
       "      <th>income</th>\n",
       "      <th>kid</th>\n",
       "      <th>teen</th>\n",
       "      <th>recency</th>\n",
       "      <th>sales</th>\n",
       "      <th>webpur</th>\n",
       "      <th>catalog</th>\n",
       "      <th>store</th>\n",
       "      <th>webvisit</th>\n",
       "      <th>cmp3</th>\n",
       "      <th>cmp4</th>\n",
       "      <th>cmp5</th>\n",
       "      <th>cmp1</th>\n",
       "      <th>cmp2</th>\n",
       "      <th>complain</th>\n",
       "      <th>response</th>\n",
       "      <th>target</th>\n",
       "    </tr>\n",
       "  </thead>\n",
       "  <tbody>\n",
       "    <tr>\n",
       "      <th>count</th>\n",
       "      <td>1108.000000</td>\n",
       "      <td>1108.000000</td>\n",
       "      <td>1108.000000</td>\n",
       "      <td>1108.000000</td>\n",
       "      <td>1108.000000</td>\n",
       "      <td>1108.000000</td>\n",
       "      <td>1108.00000</td>\n",
       "      <td>1108.000000</td>\n",
       "      <td>1108.000000</td>\n",
       "      <td>1108.000000</td>\n",
       "      <td>1108.000000</td>\n",
       "      <td>1108.000000</td>\n",
       "      <td>1108.000000</td>\n",
       "      <td>1108.000000</td>\n",
       "      <td>1108.000000</td>\n",
       "      <td>1108.000000</td>\n",
       "      <td>1108.000000</td>\n",
       "      <td>1108.000000</td>\n",
       "      <td>1108.000000</td>\n",
       "    </tr>\n",
       "    <tr>\n",
       "      <th>mean</th>\n",
       "      <td>553.500000</td>\n",
       "      <td>1968.701264</td>\n",
       "      <td>52075.809567</td>\n",
       "      <td>0.429603</td>\n",
       "      <td>0.511733</td>\n",
       "      <td>50.156137</td>\n",
       "      <td>2.33935</td>\n",
       "      <td>4.184116</td>\n",
       "      <td>2.690433</td>\n",
       "      <td>5.905235</td>\n",
       "      <td>5.348375</td>\n",
       "      <td>0.069495</td>\n",
       "      <td>0.085740</td>\n",
       "      <td>0.072202</td>\n",
       "      <td>0.068592</td>\n",
       "      <td>0.015343</td>\n",
       "      <td>0.009025</td>\n",
       "      <td>0.141697</td>\n",
       "      <td>617.121841</td>\n",
       "    </tr>\n",
       "    <tr>\n",
       "      <th>std</th>\n",
       "      <td>319.996354</td>\n",
       "      <td>12.225380</td>\n",
       "      <td>21310.093395</td>\n",
       "      <td>0.545582</td>\n",
       "      <td>0.551624</td>\n",
       "      <td>29.085582</td>\n",
       "      <td>1.94328</td>\n",
       "      <td>2.810556</td>\n",
       "      <td>2.792236</td>\n",
       "      <td>3.306812</td>\n",
       "      <td>2.405115</td>\n",
       "      <td>0.254408</td>\n",
       "      <td>0.280106</td>\n",
       "      <td>0.258939</td>\n",
       "      <td>0.252873</td>\n",
       "      <td>0.122968</td>\n",
       "      <td>0.094614</td>\n",
       "      <td>0.348896</td>\n",
       "      <td>603.587972</td>\n",
       "    </tr>\n",
       "    <tr>\n",
       "      <th>min</th>\n",
       "      <td>0.000000</td>\n",
       "      <td>1893.000000</td>\n",
       "      <td>1730.000000</td>\n",
       "      <td>0.000000</td>\n",
       "      <td>0.000000</td>\n",
       "      <td>0.000000</td>\n",
       "      <td>0.00000</td>\n",
       "      <td>0.000000</td>\n",
       "      <td>0.000000</td>\n",
       "      <td>0.000000</td>\n",
       "      <td>0.000000</td>\n",
       "      <td>0.000000</td>\n",
       "      <td>0.000000</td>\n",
       "      <td>0.000000</td>\n",
       "      <td>0.000000</td>\n",
       "      <td>0.000000</td>\n",
       "      <td>0.000000</td>\n",
       "      <td>0.000000</td>\n",
       "      <td>6.000000</td>\n",
       "    </tr>\n",
       "    <tr>\n",
       "      <th>25%</th>\n",
       "      <td>276.750000</td>\n",
       "      <td>1959.000000</td>\n",
       "      <td>35768.500000</td>\n",
       "      <td>0.000000</td>\n",
       "      <td>0.000000</td>\n",
       "      <td>25.000000</td>\n",
       "      <td>1.00000</td>\n",
       "      <td>2.000000</td>\n",
       "      <td>0.000000</td>\n",
       "      <td>3.000000</td>\n",
       "      <td>3.000000</td>\n",
       "      <td>0.000000</td>\n",
       "      <td>0.000000</td>\n",
       "      <td>0.000000</td>\n",
       "      <td>0.000000</td>\n",
       "      <td>0.000000</td>\n",
       "      <td>0.000000</td>\n",
       "      <td>0.000000</td>\n",
       "      <td>70.750000</td>\n",
       "    </tr>\n",
       "    <tr>\n",
       "      <th>50%</th>\n",
       "      <td>553.500000</td>\n",
       "      <td>1970.000000</td>\n",
       "      <td>51609.500000</td>\n",
       "      <td>0.000000</td>\n",
       "      <td>0.000000</td>\n",
       "      <td>51.000000</td>\n",
       "      <td>2.00000</td>\n",
       "      <td>4.000000</td>\n",
       "      <td>2.000000</td>\n",
       "      <td>5.000000</td>\n",
       "      <td>6.000000</td>\n",
       "      <td>0.000000</td>\n",
       "      <td>0.000000</td>\n",
       "      <td>0.000000</td>\n",
       "      <td>0.000000</td>\n",
       "      <td>0.000000</td>\n",
       "      <td>0.000000</td>\n",
       "      <td>0.000000</td>\n",
       "      <td>412.000000</td>\n",
       "    </tr>\n",
       "    <tr>\n",
       "      <th>75%</th>\n",
       "      <td>830.250000</td>\n",
       "      <td>1977.000000</td>\n",
       "      <td>68325.000000</td>\n",
       "      <td>1.000000</td>\n",
       "      <td>1.000000</td>\n",
       "      <td>76.000000</td>\n",
       "      <td>3.00000</td>\n",
       "      <td>6.000000</td>\n",
       "      <td>4.000000</td>\n",
       "      <td>8.000000</td>\n",
       "      <td>7.000000</td>\n",
       "      <td>0.000000</td>\n",
       "      <td>0.000000</td>\n",
       "      <td>0.000000</td>\n",
       "      <td>0.000000</td>\n",
       "      <td>0.000000</td>\n",
       "      <td>0.000000</td>\n",
       "      <td>0.000000</td>\n",
       "      <td>1068.750000</td>\n",
       "    </tr>\n",
       "    <tr>\n",
       "      <th>max</th>\n",
       "      <td>1107.000000</td>\n",
       "      <td>1996.000000</td>\n",
       "      <td>162397.000000</td>\n",
       "      <td>2.000000</td>\n",
       "      <td>2.000000</td>\n",
       "      <td>99.000000</td>\n",
       "      <td>15.00000</td>\n",
       "      <td>27.000000</td>\n",
       "      <td>11.000000</td>\n",
       "      <td>13.000000</td>\n",
       "      <td>20.000000</td>\n",
       "      <td>1.000000</td>\n",
       "      <td>1.000000</td>\n",
       "      <td>1.000000</td>\n",
       "      <td>1.000000</td>\n",
       "      <td>1.000000</td>\n",
       "      <td>1.000000</td>\n",
       "      <td>1.000000</td>\n",
       "      <td>2525.000000</td>\n",
       "    </tr>\n",
       "  </tbody>\n",
       "</table>\n",
       "</div>"
      ],
      "text/plain": [
       "                id        birth         income          kid         teen  \\\n",
       "count  1108.000000  1108.000000    1108.000000  1108.000000  1108.000000   \n",
       "mean    553.500000  1968.701264   52075.809567     0.429603     0.511733   \n",
       "std     319.996354    12.225380   21310.093395     0.545582     0.551624   \n",
       "min       0.000000  1893.000000    1730.000000     0.000000     0.000000   \n",
       "25%     276.750000  1959.000000   35768.500000     0.000000     0.000000   \n",
       "50%     553.500000  1970.000000   51609.500000     0.000000     0.000000   \n",
       "75%     830.250000  1977.000000   68325.000000     1.000000     1.000000   \n",
       "max    1107.000000  1996.000000  162397.000000     2.000000     2.000000   \n",
       "\n",
       "           recency       sales       webpur      catalog        store  \\\n",
       "count  1108.000000  1108.00000  1108.000000  1108.000000  1108.000000   \n",
       "mean     50.156137     2.33935     4.184116     2.690433     5.905235   \n",
       "std      29.085582     1.94328     2.810556     2.792236     3.306812   \n",
       "min       0.000000     0.00000     0.000000     0.000000     0.000000   \n",
       "25%      25.000000     1.00000     2.000000     0.000000     3.000000   \n",
       "50%      51.000000     2.00000     4.000000     2.000000     5.000000   \n",
       "75%      76.000000     3.00000     6.000000     4.000000     8.000000   \n",
       "max      99.000000    15.00000    27.000000    11.000000    13.000000   \n",
       "\n",
       "          webvisit         cmp3         cmp4         cmp5         cmp1  \\\n",
       "count  1108.000000  1108.000000  1108.000000  1108.000000  1108.000000   \n",
       "mean      5.348375     0.069495     0.085740     0.072202     0.068592   \n",
       "std       2.405115     0.254408     0.280106     0.258939     0.252873   \n",
       "min       0.000000     0.000000     0.000000     0.000000     0.000000   \n",
       "25%       3.000000     0.000000     0.000000     0.000000     0.000000   \n",
       "50%       6.000000     0.000000     0.000000     0.000000     0.000000   \n",
       "75%       7.000000     0.000000     0.000000     0.000000     0.000000   \n",
       "max      20.000000     1.000000     1.000000     1.000000     1.000000   \n",
       "\n",
       "              cmp2     complain     response       target  \n",
       "count  1108.000000  1108.000000  1108.000000  1108.000000  \n",
       "mean      0.015343     0.009025     0.141697   617.121841  \n",
       "std       0.122968     0.094614     0.348896   603.587972  \n",
       "min       0.000000     0.000000     0.000000     6.000000  \n",
       "25%       0.000000     0.000000     0.000000    70.750000  \n",
       "50%       0.000000     0.000000     0.000000   412.000000  \n",
       "75%       0.000000     0.000000     0.000000  1068.750000  \n",
       "max       1.000000     1.000000     1.000000  2525.000000  "
      ]
     },
     "execution_count": 11,
     "metadata": {},
     "output_type": "execute_result"
    }
   ],
   "source": [
    "a_copy.describe()"
   ]
  },
  {
   "cell_type": "code",
   "execution_count": 12,
   "metadata": {},
   "outputs": [
    {
     "data": {
      "text/plain": [
       "0       21-01-2013\n",
       "1       24-05-2014\n",
       "2       08-04-2013\n",
       "3       29-03-2014\n",
       "4       10-06-2014\n",
       "           ...    \n",
       "1103    31-03-2013\n",
       "1104    21-10-2013\n",
       "1105    16-12-2013\n",
       "1106    30-05-2013\n",
       "1107    29-10-2012\n",
       "Name: dt_cus, Length: 1108, dtype: object"
      ]
     },
     "execution_count": 12,
     "metadata": {},
     "output_type": "execute_result"
    }
   ],
   "source": [
    "a['dt_cus']"
   ]
  },
  {
   "cell_type": "code",
   "execution_count": 13,
   "metadata": {},
   "outputs": [],
   "source": [
    "a_copy['dt_cus'] = pd.to_datetime(a['dt_cus'])"
   ]
  },
  {
   "cell_type": "code",
   "execution_count": 14,
   "metadata": {},
   "outputs": [
    {
     "data": {
      "text/html": [
       "<div>\n",
       "<style scoped>\n",
       "    .dataframe tbody tr th:only-of-type {\n",
       "        vertical-align: middle;\n",
       "    }\n",
       "\n",
       "    .dataframe tbody tr th {\n",
       "        vertical-align: top;\n",
       "    }\n",
       "\n",
       "    .dataframe thead th {\n",
       "        text-align: right;\n",
       "    }\n",
       "</style>\n",
       "<table border=\"1\" class=\"dataframe\">\n",
       "  <thead>\n",
       "    <tr style=\"text-align: right;\">\n",
       "      <th></th>\n",
       "      <th>edu</th>\n",
       "      <th>maritial</th>\n",
       "    </tr>\n",
       "  </thead>\n",
       "  <tbody>\n",
       "    <tr>\n",
       "      <th>count</th>\n",
       "      <td>1108</td>\n",
       "      <td>1108</td>\n",
       "    </tr>\n",
       "    <tr>\n",
       "      <th>unique</th>\n",
       "      <td>5</td>\n",
       "      <td>8</td>\n",
       "    </tr>\n",
       "    <tr>\n",
       "      <th>top</th>\n",
       "      <td>Graduation</td>\n",
       "      <td>Married</td>\n",
       "    </tr>\n",
       "    <tr>\n",
       "      <th>freq</th>\n",
       "      <td>570</td>\n",
       "      <td>415</td>\n",
       "    </tr>\n",
       "  </tbody>\n",
       "</table>\n",
       "</div>"
      ],
      "text/plain": [
       "               edu maritial\n",
       "count         1108     1108\n",
       "unique           5        8\n",
       "top     Graduation  Married\n",
       "freq           570      415"
      ]
     },
     "execution_count": 14,
     "metadata": {},
     "output_type": "execute_result"
    }
   ],
   "source": [
    "a_copy.describe(include = ['object','category'])"
   ]
  },
  {
   "cell_type": "code",
   "execution_count": 15,
   "metadata": {},
   "outputs": [
    {
     "data": {
      "image/png": "[encoded data removed]",
      "text/plain": [
       "<Figure size 432x288 with 1 Axes>"
      ]
     },
     "metadata": {
      "needs_background": "light"
     },
     "output_type": "display_data"
    }
   ],
   "source": [
    "import numpy as np\n",
    "import matplotlib.pyplot as plt\n",
    "from math import factorial, exp\n",
    "\n",
    "# Probability density of the Poisson distribution\n",
    "def pois_dist(n, lamb):\n",
    "    pd = (lamb ** n) * exp(-lamb) / factorial(n)\n",
    "    return pd\n",
    "\n",
    "\n",
    "x = np.arange(40)\n",
    "pd1 = np.array([pois_dist(n, 10) for n in range(40)])\n",
    "plt.ylim(0, 0.15)\n",
    "plt.text(33.5, 0.14, 'lamb = 10')\n",
    "plt.plot(x, pd1, color='lightcoral')\n",
    "plt.show()\n",
    "\n",
    "import numpy as np\n",
    "import matplotlib.pyplot as plt\n",
    "from math import factorial, exp"
   ]
  },
  {
   "cell_type": "code",
   "execution_count": 16,
   "metadata": {},
   "outputs": [],
   "source": [
    "import matplotlib.pyplot as plt\n",
    "from matplotlib import font_manager, rc\n",
    "font_path = \"C:/Windows/Fonts/NGULIM.TTF\"\n",
    "font = font_manager.FontProperties(fname=font_path).get_name()\n",
    "rc('font', family=font)"
   ]
  },
  {
   "cell_type": "code",
   "execution_count": 17,
   "metadata": {},
   "outputs": [
    {
     "data": {
      "image/png": "[encoded data removed]",
      "text/plain": [
       "<Figure size 432x288 with 1 Axes>"
      ]
     },
     "metadata": {
      "needs_background": "light"
     },
     "output_type": "display_data"
    }
   ],
   "source": [
    "sns.distplot(a_copy['sales'])\n",
    "plt.title('할인 품목 구매수')\n",
    "plt.show()"
   ]
  },
  {
   "cell_type": "code",
   "execution_count": 18,
   "metadata": {},
   "outputs": [
    {
     "data": {
      "image/png": "[encoded data removed]",
      "text/plain": [
       "<Figure size 432x288 with 1 Axes>"
      ]
     },
     "metadata": {
      "needs_background": "light"
     },
     "output_type": "display_data"
    }
   ],
   "source": [
    "sns.distplot(a_copy['target'])\n",
    "plt.title('소비량')\n",
    "plt.show()"
   ]
  },
  {
   "cell_type": "code",
   "execution_count": 19,
   "metadata": {},
   "outputs": [
    {
     "data": {
      "image/png": "[encoded data removed]",
      "text/plain": [
       "<Figure size 432x288 with 1 Axes>"
      ]
     },
     "metadata": {
      "needs_background": "light"
     },
     "output_type": "display_data"
    }
   ],
   "source": [
    "sns.distplot(a_copy['webpur'])\n",
    "plt.title('웹 구매 수')\n",
    "plt.show()"
   ]
  },
  {
   "cell_type": "code",
   "execution_count": 20,
   "metadata": {},
   "outputs": [
    {
     "data": {
      "image/png": "[encoded data removed]",
      "text/plain": [
       "<Figure size 432x288 with 1 Axes>"
      ]
     },
     "metadata": {
      "needs_background": "light"
     },
     "output_type": "display_data"
    }
   ],
   "source": [
    "sns.distplot(a_copy['catalog'])\n",
    "plt.title('카탈로그 통한 구매 수')\n",
    "plt.show()"
   ]
  },
  {
   "cell_type": "code",
   "execution_count": 21,
   "metadata": {},
   "outputs": [
    {
     "data": {
      "image/png": "[encoded data removed]",
      "text/plain": [
       "<Figure size 432x288 with 1 Axes>"
      ]
     },
     "metadata": {
      "needs_background": "light"
     },
     "output_type": "display_data"
    }
   ],
   "source": [
    "sns.distplot(a_copy['webvisit'])\n",
    "plt.title('웹 방문 수')\n",
    "plt.show()"
   ]
  },
  {
   "cell_type": "code",
   "execution_count": 22,
   "metadata": {},
   "outputs": [
    {
     "data": {
      "image/png": "[encoded data removed]",
      "text/plain": [
       "<Figure size 432x288 with 1 Axes>"
      ]
     },
     "metadata": {
      "needs_background": "light"
     },
     "output_type": "display_data"
    }
   ],
   "source": [
    "sns.distplot(a_copy['store'])\n",
    "plt.title('매장 방문 구매 수')\n",
    "plt.show()"
   ]
  },
  {
   "cell_type": "markdown",
   "metadata": {},
   "source": [
    "# 포아송분포 \n",
    "- 등분산성을 만족하면 안됨 검정 해줌\n",
    "- 정규성 만족하는지 안하는지 따라\n",
    "- 정규성 만족: Bartlett - Test\n",
    "- 정규성 만족하지 못하면: Levene - Test"
   ]
  },
  {
   "cell_type": "code",
   "execution_count": 23,
   "metadata": {},
   "outputs": [
    {
     "name": "stdout",
     "output_type": "stream",
     "text": [
      "\n",
      "귀무가설 H0: 데이터셋이 정규분포를 따른다.\n",
      "대립가설 H1: 데이터셋이 정규분포를 따르지 않는다.\n",
      "\n",
      "income 레빈 계수:0.9784586429595947,유의확률:9.067319811650876e-12)\n",
      "================================================================================\n",
      "birth 레빈 계수:0.9727323651313782,유의확률:1.3710502188863521e-13)\n",
      "================================================================================\n",
      "recency 레빈 계수:0.9522725939750671,유의확률:1.6803879460921535e-18)\n",
      "================================================================================\n",
      "kid 레빈 계수:0.6746238470077515,유의확률:1.1462621438177004e-41)\n",
      "================================================================================\n",
      "teen 레빈 계수:0.69938063621521,유의확률:1.616481856506536e-40)\n",
      "================================================================================\n",
      "sales 레빈 계수:0.7539214491844177,유의확률:1.0996871307069978e-37)\n",
      "================================================================================\n",
      "webpur 레빈 계수:0.9059257507324219,유의확률:1.4355106503104044e-25)\n",
      "================================================================================\n",
      "catalog 레빈 계수:0.85223788022995,유의확률:5.955000778723311e-31)\n",
      "================================================================================\n",
      "store 레빈 계수:0.9040588736534119,유의확률:8.591599366409912e-26)\n",
      "================================================================================\n",
      "webvisit 레빈 계수:0.9296861886978149,유의확률:2.1843492832342503e-22)\n",
      "================================================================================\n",
      "target 레빈 계수:0.8695711493492126,유의확률:2.0726594750760848e-29)\n",
      "\n",
      "\n",
      "모두 정규성을 만족하지 못함\n"
     ]
    }
   ],
   "source": [
    "# 정규성 검정해주기\n",
    "from scipy.stats import shapiro\n",
    "print('''\n",
    "귀무가설 H0: 데이터셋이 정규분포를 따른다.\n",
    "대립가설 H1: 데이터셋이 정규분포를 따르지 않는다.\n",
    "''')\n",
    "\n",
    "통계량,pval=shapiro(a['income'])\n",
    "print(f'income 레빈 계수:{통계량},유의확률:{pval})')\n",
    "print('========'*10)\n",
    "통계량,pval=shapiro(a['birth'])\n",
    "print(f'birth 레빈 계수:{통계량},유의확률:{pval})')\n",
    "print('========'*10)\n",
    "통계량,pval=shapiro(a['recency'])\n",
    "print(f'recency 레빈 계수:{통계량},유의확률:{pval})')\n",
    "print('========'*10)\n",
    "통계량,pval=shapiro(a['kid'])\n",
    "print(f'kid 레빈 계수:{통계량},유의확률:{pval})')\n",
    "print('========'*10)\n",
    "통계량,pval=shapiro(a['teen'])\n",
    "print(f'teen 레빈 계수:{통계량},유의확률:{pval})')\n",
    "print('========'*10)\n",
    "통계량,pval=shapiro(a['sales'])\n",
    "print(f'sales 레빈 계수:{통계량},유의확률:{pval})')\n",
    "print('========'*10)\n",
    "통계량,pval=shapiro(a['webpur'])\n",
    "print(f'webpur 레빈 계수:{통계량},유의확률:{pval})')\n",
    "print('========'*10)\n",
    "통계량,pval=shapiro(a['catalog'])\n",
    "print(f'catalog 레빈 계수:{통계량},유의확률:{pval})')\n",
    "print('========'*10)\n",
    "통계량,pval=shapiro(a['store'])\n",
    "print(f'store 레빈 계수:{통계량},유의확률:{pval})')\n",
    "print('========'*10)\n",
    "통계량,pval=shapiro(a['webvisit'])\n",
    "print(f'webvisit 레빈 계수:{통계량},유의확률:{pval})')\n",
    "print('========'*10)\n",
    "통계량,pval=shapiro(a['target'])\n",
    "print(f'target 레빈 계수:{통계량},유의확률:{pval})')\n",
    "print('\\n')\n",
    "print('모두 정규성을 만족하지 못함')"
   ]
  },
  {
   "cell_type": "code",
   "execution_count": 24,
   "metadata": {},
   "outputs": [
    {
     "name": "stdout",
     "output_type": "stream",
     "text": [
      "\n",
      "      H_{0} : 등분산성을 만족한다\n",
      "      H_{1} : 등분산성을 만족하지 못한다\n",
      "      \n",
      "레빈 계수:2303.0184317944445,유의확률:0.0)\n",
      "================================================================================\n",
      "레빈 계수:1679.9296178633826,유의확률:9.195819682650659e-274)\n",
      "================================================================================\n",
      "레빈 계수:2303.0184317944445,유의확률:0.0)\n",
      "================================================================================\n",
      "레빈 계수:1575.480565891293,유의확률:1.1054057203294415e-260)\n",
      "================================================================================\n",
      "레빈 계수:1746.155394764016,유의확률:7.096661669432355e-282)\n",
      "================================================================================\n",
      "레빈 계수:1745.5797072166717,유의확률:8.336576990368346e-282)\n",
      "================================================================================\n",
      "레빈 계수:1740.0414778063657,유의확률:3.929019365884687e-281)\n",
      "================================================================================\n",
      "레빈 계수:1733.8103496979131,유의확률:2.253968321206237e-280)\n",
      "================================================================================\n",
      "레빈 계수:1734.1133734075627,유의확률:2.0702642669529035e-280)\n",
      "================================================================================\n",
      "레빈 계수:1730.173700071103,유의확률:6.255731145797619e-280)\n",
      "================================================================================\n",
      "레빈 계수:1735.5832674132228,유의확률:1.3707754968978938e-280)\n"
     ]
    }
   ],
   "source": [
    "#%%\n",
    "# 등분산검정\n",
    "print('''\n",
    "      H_{0} : 등분산성을 만족한다\n",
    "      H_{1} : 등분산성을 만족하지 못한다\n",
    "      ''')\n",
    "\n",
    "from scipy.stats import levene\n",
    "sta,pval=levene(a['income'],a['target'])\n",
    "print(f'레빈 계수:{sta},유의확률:{pval})')\n",
    "print('========'*10)\n",
    "sta,pval=levene(a['birth'],a['target'])\n",
    "print(f'레빈 계수:{sta},유의확률:{pval})')\n",
    "print('========'*10)\n",
    "sta,pval=levene(a['income'],a['target'])\n",
    "print(f'레빈 계수:{sta},유의확률:{pval})')\n",
    "print('========'*10)\n",
    "sta,pval=levene(a['recency'],a['target'])\n",
    "print(f'레빈 계수:{sta},유의확률:{pval})')\n",
    "print('========'*10)\n",
    "sta,pval=levene(a['kid'],a['target'])\n",
    "print(f'레빈 계수:{sta},유의확률:{pval})')\n",
    "print('========'*10)\n",
    "sta,pval=levene(a['teen'],a['target'])\n",
    "print(f'레빈 계수:{sta},유의확률:{pval})')\n",
    "print('========'*10)\n",
    "sta,pval=levene(a['sales'],a['target'])\n",
    "print(f'레빈 계수:{sta},유의확률:{pval})')\n",
    "print('========'*10)\n",
    "sta,pval=levene(a['webpur'],a['target'])\n",
    "print(f'레빈 계수:{sta},유의확률:{pval})')\n",
    "print('========'*10)\n",
    "sta,pval=levene(a['catalog'],a['target'])\n",
    "print(f'레빈 계수:{sta},유의확률:{pval})')\n",
    "print('========'*10)\n",
    "sta,pval=levene(a['store'],a['target'])\n",
    "print(f'레빈 계수:{sta},유의확률:{pval})')\n",
    "print('========'*10)\n",
    "sta,pval=levene(a['webvisit'],a['target'])\n",
    "print(f'레빈 계수:{sta},유의확률:{pval})')\n"
   ]
  },
  {
   "cell_type": "markdown",
   "metadata": {},
   "source": [
    "- 포아송분포 사용 가능"
   ]
  },
  {
   "cell_type": "markdown",
   "metadata": {},
   "source": [
    "# income의 이상치"
   ]
  },
  {
   "cell_type": "code",
   "execution_count": 25,
   "metadata": {},
   "outputs": [
    {
     "name": "stdout",
     "output_type": "stream",
     "text": [
      "count      1108.000000\n",
      "mean      52075.809567\n",
      "std       21310.093395\n",
      "min        1730.000000\n",
      "25%       35768.500000\n",
      "50%       51609.500000\n",
      "75%       68325.000000\n",
      "max      162397.000000\n",
      "Name: income, dtype: float64\n"
     ]
    }
   ],
   "source": [
    "print(a['income'].describe())"
   ]
  },
  {
   "cell_type": "code",
   "execution_count": 26,
   "metadata": {},
   "outputs": [
    {
     "name": "stdout",
     "output_type": "stream",
     "text": [
      "low이상치:-13066.25\n",
      "high이상치:117159.75\n"
     ]
    }
   ],
   "source": [
    "print(f'low이상치:{35768.5-(1.5*(68325-35768.5))}')\n",
    "print(f'high이상치:{68325+(1.5*(68325-35768.5))}')"
   ]
  },
  {
   "cell_type": "code",
   "execution_count": 27,
   "metadata": {},
   "outputs": [
    {
     "data": {
      "text/plain": [
       "Index(['id', 'birth', 'edu', 'maritial', 'income', 'kid', 'teen', 'dt_cus',\n",
       "       'recency', 'sales', 'webpur', 'catalog', 'store', 'webvisit', 'cmp3',\n",
       "       'cmp4', 'cmp5', 'cmp1', 'cmp2', 'complain', 'response', 'target'],\n",
       "      dtype='object')"
      ]
     },
     "execution_count": 27,
     "metadata": {},
     "output_type": "execute_result"
    }
   ],
   "source": [
    "a_copy.columns"
   ]
  },
  {
   "cell_type": "code",
   "execution_count": 28,
   "metadata": {},
   "outputs": [
    {
     "data": {
      "image/png": "[encoded data removed]",
      "text/plain": [
       "<Figure size 432x288 with 1 Axes>"
      ]
     },
     "metadata": {
      "needs_background": "light"
     },
     "output_type": "display_data"
    }
   ],
   "source": [
    "plt.scatter(a_copy['income'],a_copy['sales'],alpha=0.2)\n",
    "plt.xlabel('소득')\n",
    "plt.ylabel('할인구매')\n",
    "plt.show()"
   ]
  },
  {
   "cell_type": "code",
   "execution_count": 29,
   "metadata": {},
   "outputs": [
    {
     "data": {
      "image/png": "[encoded data removed]",
      "text/plain": [
       "<Figure size 432x288 with 1 Axes>"
      ]
     },
     "metadata": {
      "needs_background": "light"
     },
     "output_type": "display_data"
    }
   ],
   "source": [
    "plt.scatter(a['income'],a['target'],alpha=0.2)\n",
    "plt.show()"
   ]
  },
  {
   "cell_type": "code",
   "execution_count": 30,
   "metadata": {},
   "outputs": [
    {
     "data": {
      "image/png": "[encoded data removed]",
      "text/plain": [
       "<Figure size 432x288 with 1 Axes>"
      ]
     },
     "metadata": {
      "needs_background": "light"
     },
     "output_type": "display_data"
    }
   ],
   "source": [
    "plt.scatter(a_copy['catalog'],a_copy['target'],alpha=0.2)\n",
    "plt.show()"
   ]
  },
  {
   "cell_type": "code",
   "execution_count": 31,
   "metadata": {},
   "outputs": [
    {
     "data": {
      "image/png": "[encoded data removed]",
      "text/plain": [
       "<Figure size 432x288 with 1 Axes>"
      ]
     },
     "metadata": {
      "needs_background": "light"
     },
     "output_type": "display_data"
    }
   ],
   "source": [
    "plt.scatter(a_copy['birth'],a_copy['income'],alpha=0.2)\n",
    "plt.show()"
   ]
  },
  {
   "cell_type": "markdown",
   "metadata": {},
   "source": [
    "### 카탈로그는 상품을 구매할 것이 예상되는 손님에게 구입상 참고가 될 만한 사항을 나타내 보이는 것. (특징,가격,사진 등)\n",
    "### 소비량과 카탈로그의 구매수를 상관계수가 높은 것을 볼 수 있는데 참고가 될 만한 것들이 있을수록 더 많이 구매하는 것으로 생각할 수 있다. \n",
    "\n",
    "## 소비량과 매장에서 직접 구매한 수도 상관계수가 높은데 매장에서 직접 제품을 보는 것은 카탈로그가 제공되는 것이기 때문에 카탈로그를 만들어 주는게 좋다."
   ]
  },
  {
   "cell_type": "markdown",
   "metadata": {},
   "source": [
    "- 피어슨은 연속형 연속형에 정규성을 만족하는 변수들에 대하여 구해주는 것\n",
    "- 앞에 과정에서 정규성을 검정했을 때 "
   ]
  },
  {
   "cell_type": "markdown",
   "metadata": {},
   "source": [
    "- 결국 정규성을 만족하지 않아 비모수적 방법인 스피어만 상관계수로 분석함"
   ]
  },
  {
   "cell_type": "code",
   "execution_count": 32,
   "metadata": {},
   "outputs": [
    {
     "name": "stdout",
     "output_type": "stream",
     "text": [
      "상관계수:-0.23543150121737183,유의확률:2.0260652093645097e-15\n"
     ]
    }
   ],
   "source": [
    "pear_r,pear_pval = stats.spearmanr(a_copy['birth'],a_copy['income'])\n",
    "print(f'상관계수:{pear_r},유의확률:{pear_pval}')"
   ]
  },
  {
   "cell_type": "markdown",
   "metadata": {},
   "source": [
    "- 이상치 소득을 가진 사람들은 캠페인 참여도 적고 소비량도 작아서 별로 필요없는 애들이라 판단함"
   ]
  },
  {
   "cell_type": "code",
   "execution_count": 33,
   "metadata": {},
   "outputs": [
    {
     "name": "stdout",
     "output_type": "stream",
     "text": [
      "     cmp1  cmp2  cmp3  cmp4  cmp5  response  target\n",
      "246     0     0     0     0     0         0     107\n",
      "686     0     0     0     0     0         0       6\n",
      "730     0     0     0     0     0         0      59\n"
     ]
    }
   ],
   "source": [
    "print(a_copy[a_copy['income']>=117159.75][['cmp1','cmp2','cmp3','cmp4','cmp5','response','target']])"
   ]
  },
  {
   "cell_type": "code",
   "execution_count": 34,
   "metadata": {},
   "outputs": [
    {
     "name": "stdout",
     "output_type": "stream",
     "text": [
      "상관계수:-0.1361638829928517,유의확률:8.637342701705195e-10\n"
     ]
    }
   ],
   "source": [
    "pear_r,pear_pval = stats.kendalltau(a_copy['income'],a_copy['sales'])\n",
    "print(f'상관계수:{pear_r},유의확률:{pear_pval}')"
   ]
  },
  {
   "cell_type": "markdown",
   "metadata": {},
   "source": [
    "- 유의확률은 0.000으로 귀무가설 기각 상관성이 있으며 상관계수는 -0.136으로 음의 상관계수가 존재한다."
   ]
  },
  {
   "cell_type": "code",
   "execution_count": 136,
   "metadata": {},
   "outputs": [
    {
     "name": "stdout",
     "output_type": "stream",
     "text": [
      "상관계수:0.6553694046063225,유의확률:9.788145116043386e-234\n"
     ]
    }
   ],
   "source": [
    "pear_r,pear_pval = stats.kendalltau(a_copy['income'],a_copy['target'])\n",
    "print(f'상관계수:{pear_r},유의확률:{pear_pval}')"
   ]
  },
  {
   "cell_type": "markdown",
   "metadata": {},
   "source": [
    "- 유의확률은 0.000으로 귀무가설 기각 상관성이 있으며 상관계수는 0.78으로 양의 상관계수가 존재한다"
   ]
  },
  {
   "cell_type": "code",
   "execution_count": 137,
   "metadata": {},
   "outputs": [
    {
     "name": "stdout",
     "output_type": "stream",
     "text": [
      "상관계수:0.7317731228914435,유의확률:9.901925557111417e-255\n"
     ]
    }
   ],
   "source": [
    "pear_r,pear_pval = stats.kendalltau(a_copy['catalog'],a_copy['target'])\n",
    "print(f'상관계수:{pear_r},유의확률:{pear_pval}')"
   ]
  },
  {
   "cell_type": "markdown",
   "metadata": {},
   "source": [
    "- 유의확률은 0.000으로 귀무가설 기각 상관성이 있으며 상관계수는 0.80으로 양의 상관계수가 존재한다"
   ]
  },
  {
   "cell_type": "code",
   "execution_count": 138,
   "metadata": {},
   "outputs": [
    {
     "name": "stdout",
     "output_type": "stream",
     "text": [
      "상관계수:0.6306431772257192,유의확률:2.4393212902544775e-196\n"
     ]
    }
   ],
   "source": [
    "pear_r,pear_pval = stats.kendalltau(a_copy['store'],a_copy['target'])\n",
    "print(f'상관계수:{pear_r},유의확률:{pear_pval}')"
   ]
  },
  {
   "cell_type": "markdown",
   "metadata": {},
   "source": [
    "- 유의확률은 0.000으로 귀무가설 기각 상관성이 있으며 상관계수는 0.68으로 양의 상관계수가 존재한다"
   ]
  },
  {
   "cell_type": "code",
   "execution_count": 139,
   "metadata": {},
   "outputs": [
    {
     "name": "stdout",
     "output_type": "stream",
     "text": [
      "상관계수:-0.07896995033355966,유의확률:0.0004243707228330622\n"
     ]
    }
   ],
   "source": [
    "pear_r,pear_pval = stats.kendalltau(a_copy['webvisit'],a_copy['webpur'])\n",
    "print(f'상관계수:{pear_r},유의확률:{pear_pval}')"
   ]
  },
  {
   "cell_type": "code",
   "execution_count": 140,
   "metadata": {},
   "outputs": [
    {
     "name": "stdout",
     "output_type": "stream",
     "text": [
      "상관계수:-0.4869350467605102,유의확률:3.746655589180171e-116\n"
     ]
    }
   ],
   "source": [
    "pear_r,pear_pval = stats.kendalltau(a_copy['webvisit'],a_copy['income'])\n",
    "print(f'상관계수:{pear_r},유의확률:{pear_pval}')"
   ]
  },
  {
   "cell_type": "code",
   "execution_count": 141,
   "metadata": {},
   "outputs": [
    {
     "name": "stdout",
     "output_type": "stream",
     "text": [
      "상관계수:-0.16350544802772524,유의확률:7.830201401681893e-16\n"
     ]
    }
   ],
   "source": [
    "pear_r,pear_pval = stats.kendalltau(a_copy['birth'],a_copy['income'])\n",
    "print(f'상관계수:{pear_r},유의확률:{pear_pval}')"
   ]
  },
  {
   "cell_type": "markdown",
   "metadata": {},
   "source": [
    "- 유의확률은 0.004으로 귀무가설 기각 상관성이 있으며 상관계수는 -0.08으로 음의 상관계수가 존재한다"
   ]
  },
  {
   "cell_type": "markdown",
   "metadata": {},
   "source": [
    "- 웹 방문 상관계수 넣고 이유 설명해주기"
   ]
  },
  {
   "cell_type": "code",
   "execution_count": 37,
   "metadata": {},
   "outputs": [
    {
     "data": {
      "text/plain": [
       "(1105, 21)"
      ]
     },
     "execution_count": 37,
     "metadata": {},
     "output_type": "execute_result"
    }
   ],
   "source": [
    "a_del = a_copy.copy()\n",
    "a_del = a_del[a_del['income']<117159.75]\n",
    "a_del=a_del.drop(['webvisit'],axis=1)\n",
    "a_del.shape"
   ]
  },
  {
   "cell_type": "markdown",
   "metadata": {},
   "source": [
    "- 이상치 3개 제거"
   ]
  },
  {
   "cell_type": "code",
   "execution_count": 38,
   "metadata": {},
   "outputs": [
    {
     "name": "stdout",
     "output_type": "stream",
     "text": [
      "   id  birth         edu  maritial   income  kid  teen     dt_cus  recency  \\\n",
      "0   0   1974      Master  Together  46014.0    1     1 2013-01-21       21   \n",
      "1   1   1962  Graduation    Single  76624.0    0     1 2014-05-24       68   \n",
      "2   2   1951  Graduation   Married  75903.0    0     1 2013-08-04       50   \n",
      "3   3   1974       Basic   Married  18393.0    1     0 2014-03-29        2   \n",
      "4   4   1946         PhD  Together  64014.0    2     1 2014-10-06       56   \n",
      "\n",
      "   sales  ...  store  cmp3  cmp4  cmp5  cmp1  cmp2  complain  response  \\\n",
      "0     10  ...      8     0     0     0     0     0         0         0   \n",
      "1      1  ...      7     1     0     0     0     0         0         0   \n",
      "2      2  ...      9     0     0     0     0     0         0         0   \n",
      "3      2  ...      3     0     0     0     0     0         0         0   \n",
      "4      7  ...      5     0     0     0     1     0         0         0   \n",
      "\n",
      "   target  birth_level  \n",
      "0     541    1970년대 출생  \n",
      "1     899    1960년대 출생  \n",
      "2     901    1950년대 출생  \n",
      "3      50    1970년대 출생  \n",
      "4     444    1940년대 출생  \n",
      "\n",
      "[5 rows x 22 columns]\n"
     ]
    }
   ],
   "source": [
    "#%%\n",
    "conditionlist = [\n",
    "    (a_del['birth'] >= 1890) & (a_del['birth'] < 1900),\n",
    "    (a_del['birth'] >= 1900) & (a_del['birth'] < 1910),\n",
    "    (a_del['birth'] >= 1910) & (a_del['birth'] < 1920),\n",
    "    (a_del['birth'] >= 1920) & (a_del['birth'] < 1930),\n",
    "    (a_del['birth'] >= 1930) & (a_del['birth'] < 1940),\n",
    "    (a_del['birth'] >= 1940) & (a_del['birth'] < 1950),\n",
    "    (a_del['birth'] >= 1950) & (a_del['birth'] < 1960),\n",
    "    (a_del['birth'] >= 1960) & (a_del['birth'] < 1970),\n",
    "    (a_del['birth'] >= 1970) & (a_del['birth'] < 1980),\n",
    "    (a_del['birth'] >= 1980) & (a_del['birth'] < 1990),\n",
    "    (a_del['birth'] >= 1990) & (a_del['birth'] < 2000)]\n",
    "choicelist = ['1890년대 출생', '1900년대 출생','1910년대 출생','1920년대 출생','1930년대 출생',\n",
    "              '1940년대 출생','1950년대 출생','1960년대 출생','1970년대 출생','1980년대 출생',\n",
    "              '1990년대 출생']\n",
    "a_del['birth_level'] = np.select(conditionlist, choicelist,default=0)\n",
    "print(a_del.head())"
   ]
  },
  {
   "cell_type": "code",
   "execution_count": 144,
   "metadata": {},
   "outputs": [
    {
     "name": "stdout",
     "output_type": "stream",
     "text": [
      "상관계수:-0.16595813032845302,유의확률:3.165326098878036e-16\n"
     ]
    }
   ],
   "source": [
    "pear_r,pear_pval = stats.kendalltau(a_del['birth'],a_del['income'])\n",
    "print(f'상관계수:{pear_r},유의확률:{pear_pval}')"
   ]
  },
  {
   "cell_type": "code",
   "execution_count": 145,
   "metadata": {},
   "outputs": [
    {
     "name": "stdout",
     "output_type": "stream",
     "text": [
      "상관계수:0.6624728675817441,유의확률:3.8552138566395597e-238\n"
     ]
    }
   ],
   "source": [
    "pear_r,pear_pval = stats.kendalltau(a_del['income'],a_del['target'])\n",
    "print(f'상관계수:{pear_r},유의확률:{pear_pval}')"
   ]
  },
  {
   "cell_type": "code",
   "execution_count": 146,
   "metadata": {},
   "outputs": [
    {
     "name": "stdout",
     "output_type": "stream",
     "text": [
      "상관계수:0.7315590286150044,유의확률:5.4858411931504315e-254\n"
     ]
    }
   ],
   "source": [
    "pear_r,pear_pval = stats.kendalltau(a_del['catalog'],a_del['target'])\n",
    "print(f'상관계수:{pear_r},유의확률:{pear_pval}')"
   ]
  },
  {
   "cell_type": "code",
   "execution_count": 147,
   "metadata": {},
   "outputs": [
    {
     "name": "stdout",
     "output_type": "stream",
     "text": [
      "상관계수:-0.13083826292478826,유의확률:4.048446789335438e-09\n"
     ]
    }
   ],
   "source": [
    "pear_r,pear_pval = stats.kendalltau(a_del['income'],a_del['sales'])\n",
    "print(f'상관계수:{pear_r},유의확률:{pear_pval}')"
   ]
  },
  {
   "cell_type": "markdown",
   "metadata": {},
   "source": [
    "- 폰트 한글가능하게"
   ]
  },
  {
   "cell_type": "code",
   "execution_count": 39,
   "metadata": {},
   "outputs": [],
   "source": [
    "from matplotlib import font_manager, rc\n",
    "font_path = \"C:/Windows/Fonts/NGULIM.TTF\"\n",
    "font = font_manager.FontProperties(fname=font_path).get_name()\n",
    "rc('font', family=font)"
   ]
  },
  {
   "cell_type": "code",
   "execution_count": 149,
   "metadata": {},
   "outputs": [
    {
     "data": {
      "image/png": "[encoded data removed]",
      "text/plain": [
       "<Figure size 864x360 with 1 Axes>"
      ]
     },
     "metadata": {
      "needs_background": "light"
     },
     "output_type": "display_data"
    },
    {
     "name": "stdout",
     "output_type": "stream",
     "text": [
      "1900,1890,1940,1990 거의 없음 묶어주는게\n"
     ]
    }
   ],
   "source": [
    "# 많음, 이산화\n",
    "plt.figure(figsize=(12,5))\n",
    "sns.countplot(x='birth_level',data=a_del)\n",
    "plt.xticks(rotation=90);plt.title('Year_Birth distribution')\n",
    "plt.title('나이 이산화 박스플랏')\n",
    "plt.show()\n",
    "print('1900,1890,1940,1990 거의 없음 묶어주는게')"
   ]
  },
  {
   "cell_type": "code",
   "execution_count": 40,
   "metadata": {},
   "outputs": [
    {
     "name": "stdout",
     "output_type": "stream",
     "text": [
      "1970년대 출생    360\n",
      "1960년대 출생    251\n",
      "1950년대 출생    225\n",
      "1980년대 출생    183\n",
      "1940년대 출생     58\n",
      "1990년대 출생     26\n",
      "1890년대 출생      1\n",
      "1900년대 출생      1\n",
      "Name: birth_level, dtype: int64\n"
     ]
    }
   ],
   "source": [
    "print(a_del['birth_level'].value_counts())"
   ]
  },
  {
   "cell_type": "code",
   "execution_count": 41,
   "metadata": {},
   "outputs": [
    {
     "data": {
      "text/plain": [
       "0       1970년대 출생\n",
       "1       1960년대 출생\n",
       "2       1950년대 출생\n",
       "3       1970년대 출생\n",
       "4          others\n",
       "          ...    \n",
       "1103    1950년대 출생\n",
       "1104    1980년대 출생\n",
       "1105    1970년대 출생\n",
       "1106    1970년대 출생\n",
       "1107    1950년대 출생\n",
       "Name: birth_level, Length: 1105, dtype: object"
      ]
     },
     "execution_count": 41,
     "metadata": {},
     "output_type": "execute_result"
    }
   ],
   "source": [
    "a_del.loc[a_del.birth_level == '1890년대 출생', 'birth_level'] = 'others'\n",
    "a_del.loc[a_del.birth_level == '1900년대 출생', 'birth_level']= 'others'\n",
    "a_del.loc[a_del.birth_level == '1940년대 출생', 'birth_level'] = 'others'\n",
    "a_del.loc[a_del.birth_level == '1990년대 출생', 'birth_level'] = 'others'\n",
    "a_del['birth_level']"
   ]
  },
  {
   "cell_type": "code",
   "execution_count": 42,
   "metadata": {},
   "outputs": [
    {
     "data": {
      "text/plain": [
       "array(['1970년대 출생', '1960년대 출생', '1950년대 출생', 'others', '1980년대 출생'],\n",
       "      dtype=object)"
      ]
     },
     "execution_count": 42,
     "metadata": {},
     "output_type": "execute_result"
    }
   ],
   "source": [
    "a_del['birth_level'].unique()"
   ]
  },
  {
   "cell_type": "code",
   "execution_count": 43,
   "metadata": {
    "scrolled": true
   },
   "outputs": [
    {
     "data": {
      "image/png": "[encoded data removed]",
      "text/plain": [
       "<Figure size 432x288 with 1 Axes>"
      ]
     },
     "metadata": {
      "needs_background": "light"
     },
     "output_type": "display_data"
    }
   ],
   "source": [
    "# 많음, 이산화\n",
    "\n",
    "sns.countplot(x='birth_level',data=a_del)\n",
    "plt.xticks(rotation=90);plt.title('Year_Birth distribution')\n",
    "plt.title('나이 이산화 박스플랏')\n",
    "plt.show()"
   ]
  },
  {
   "cell_type": "code",
   "execution_count": 44,
   "metadata": {},
   "outputs": [
    {
     "name": "stdout",
     "output_type": "stream",
     "text": [
      "상관계수:0.6624728675817441,유의확률:3.8552138566395597e-238\n"
     ]
    }
   ],
   "source": [
    "pear_r,pear_pval = stats.kendalltau(a_del['income'],a_del['target'])\n",
    "print(f'상관계수:{pear_r},유의확률:{pear_pval}')"
   ]
  },
  {
   "cell_type": "code",
   "execution_count": 45,
   "metadata": {},
   "outputs": [],
   "source": [
    "a_del.loc[a_del['dt_cus'] <= '2012-05-31', 'dt_group'] = '2012_half1'\n",
    "a_del.loc[(a_del['dt_cus'] > '2012-05-31') & (a_del['dt_cus'] <= '2012-12-31'), 'dt_group'] = '2012_half2'\n",
    "a_del.loc[(a_del['dt_cus'] > '2012-12-31') & (a_del['dt_cus'] <= '2013-05-31'), 'dt_group'] = '2013_half1'\n",
    "a_del.loc[(a_del['dt_cus'] > '2013-05-31') & (a_del['dt_cus'] <= '2013-12-31'), 'dt_group'] = '2013_half2'\n",
    "a_del.loc[(a_del['dt_cus'] > '2013-12-31') & (a_del['dt_cus'] <= '2014-5-31'), 'dt_group'] = '2014_half1'\n",
    "a_del.loc[(a_del['dt_cus'] > '2014-05-31') & (a_del['dt_cus'] <= '2014-12-31'), 'dt_group'] = '2014_half2'"
   ]
  },
  {
   "cell_type": "code",
   "execution_count": 46,
   "metadata": {},
   "outputs": [
    {
     "data": {
      "text/plain": [
       "2013_half2    351\n",
       "2013_half1    262\n",
       "2012_half2    202\n",
       "2014_half1    174\n",
       "2014_half2     74\n",
       "2012_half1     42\n",
       "Name: dt_group, dtype: int64"
      ]
     },
     "execution_count": 46,
     "metadata": {},
     "output_type": "execute_result"
    }
   ],
   "source": [
    "a_del['dt_group'].value_counts()"
   ]
  },
  {
   "cell_type": "code",
   "execution_count": 47,
   "metadata": {},
   "outputs": [],
   "source": [
    "dt_cmp = a_del[['dt_group', 'cmp1', 'cmp2', 'cmp3','cmp4','cmp5','response','target' ]]"
   ]
  },
  {
   "cell_type": "code",
   "execution_count": 48,
   "metadata": {},
   "outputs": [
    {
     "name": "stderr",
     "output_type": "stream",
     "text": [
      "<ipython-input-48-447be7cc31a7>:1: SettingWithCopyWarning: \n",
      "A value is trying to be set on a copy of a slice from a DataFrame.\n",
      "Try using .loc[row_indexer,col_indexer] = value instead\n",
      "\n",
      "See the caveats in the documentation: https://pandas.pydata.org/pandas-docs/stable/user_guide/indexing.html#returning-a-view-versus-a-copy\n",
      "  dt_cmp['total_cmp'] = dt_cmp['cmp1'] + dt_cmp['cmp2'] + dt_cmp['cmp3'] + dt_cmp['cmp4'] + dt_cmp['cmp5']  + dt_cmp['response']\n"
     ]
    }
   ],
   "source": [
    "dt_cmp['total_cmp'] = dt_cmp['cmp1'] + dt_cmp['cmp2'] + dt_cmp['cmp3'] + dt_cmp['cmp4'] + dt_cmp['cmp5']  + dt_cmp['response']"
   ]
  },
  {
   "cell_type": "code",
   "execution_count": 49,
   "metadata": {},
   "outputs": [
    {
     "data": {
      "text/html": [
       "<div>\n",
       "<style scoped>\n",
       "    .dataframe tbody tr th:only-of-type {\n",
       "        vertical-align: middle;\n",
       "    }\n",
       "\n",
       "    .dataframe tbody tr th {\n",
       "        vertical-align: top;\n",
       "    }\n",
       "\n",
       "    .dataframe thead th {\n",
       "        text-align: right;\n",
       "    }\n",
       "</style>\n",
       "<table border=\"1\" class=\"dataframe\">\n",
       "  <thead>\n",
       "    <tr style=\"text-align: right;\">\n",
       "      <th></th>\n",
       "      <th>cmp1</th>\n",
       "      <th>cmp2</th>\n",
       "      <th>cmp3</th>\n",
       "      <th>cmp4</th>\n",
       "      <th>cmp5</th>\n",
       "      <th>response</th>\n",
       "      <th>target</th>\n",
       "      <th>total_cmp</th>\n",
       "    </tr>\n",
       "    <tr>\n",
       "      <th>dt_group</th>\n",
       "      <th></th>\n",
       "      <th></th>\n",
       "      <th></th>\n",
       "      <th></th>\n",
       "      <th></th>\n",
       "      <th></th>\n",
       "      <th></th>\n",
       "      <th></th>\n",
       "    </tr>\n",
       "  </thead>\n",
       "  <tbody>\n",
       "    <tr>\n",
       "      <th>2013_half2</th>\n",
       "      <td>19</td>\n",
       "      <td>6</td>\n",
       "      <td>25</td>\n",
       "      <td>26</td>\n",
       "      <td>23</td>\n",
       "      <td>37</td>\n",
       "      <td>196241</td>\n",
       "      <td>136</td>\n",
       "    </tr>\n",
       "    <tr>\n",
       "      <th>2013_half1</th>\n",
       "      <td>22</td>\n",
       "      <td>4</td>\n",
       "      <td>20</td>\n",
       "      <td>18</td>\n",
       "      <td>20</td>\n",
       "      <td>41</td>\n",
       "      <td>178087</td>\n",
       "      <td>125</td>\n",
       "    </tr>\n",
       "    <tr>\n",
       "      <th>2012_half2</th>\n",
       "      <td>12</td>\n",
       "      <td>5</td>\n",
       "      <td>13</td>\n",
       "      <td>21</td>\n",
       "      <td>16</td>\n",
       "      <td>48</td>\n",
       "      <td>160398</td>\n",
       "      <td>115</td>\n",
       "    </tr>\n",
       "    <tr>\n",
       "      <th>2014_half1</th>\n",
       "      <td>14</td>\n",
       "      <td>2</td>\n",
       "      <td>13</td>\n",
       "      <td>14</td>\n",
       "      <td>15</td>\n",
       "      <td>18</td>\n",
       "      <td>88752</td>\n",
       "      <td>76</td>\n",
       "    </tr>\n",
       "    <tr>\n",
       "      <th>2014_half2</th>\n",
       "      <td>9</td>\n",
       "      <td>0</td>\n",
       "      <td>4</td>\n",
       "      <td>8</td>\n",
       "      <td>4</td>\n",
       "      <td>4</td>\n",
       "      <td>31885</td>\n",
       "      <td>29</td>\n",
       "    </tr>\n",
       "    <tr>\n",
       "      <th>2012_half1</th>\n",
       "      <td>0</td>\n",
       "      <td>0</td>\n",
       "      <td>2</td>\n",
       "      <td>8</td>\n",
       "      <td>2</td>\n",
       "      <td>9</td>\n",
       "      <td>28236</td>\n",
       "      <td>21</td>\n",
       "    </tr>\n",
       "  </tbody>\n",
       "</table>\n",
       "</div>"
      ],
      "text/plain": [
       "            cmp1  cmp2  cmp3  cmp4  cmp5  response  target  total_cmp\n",
       "dt_group                                                             \n",
       "2013_half2    19     6    25    26    23        37  196241        136\n",
       "2013_half1    22     4    20    18    20        41  178087        125\n",
       "2012_half2    12     5    13    21    16        48  160398        115\n",
       "2014_half1    14     2    13    14    15        18   88752         76\n",
       "2014_half2     9     0     4     8     4         4   31885         29\n",
       "2012_half1     0     0     2     8     2         9   28236         21"
      ]
     },
     "execution_count": 49,
     "metadata": {},
     "output_type": "execute_result"
    }
   ],
   "source": [
    "pi_cmp = dt_cmp.groupby('dt_group').sum()\n",
    "pi_cmp.sort_values(by = ['target'],ascending = False)"
   ]
  },
  {
   "cell_type": "markdown",
   "metadata": {},
   "source": [
    "- 전체적으로 캠페인 참여가 높은 대로 소비량 또한 높은 것을 볼 수 있으며 cmp2는 낮은 참여율을 나타내고 있으므로\n",
    "- 좋은 사례의 캠페인이라고는 볼 수 없다 그래서 뺀다"
   ]
  },
  {
   "cell_type": "code",
   "execution_count": 50,
   "metadata": {},
   "outputs": [
    {
     "data": {
      "image/png": "[encoded data removed]",
      "text/plain": [
       "<Figure size 432x288 with 1 Axes>"
      ]
     },
     "metadata": {
      "needs_background": "light"
     },
     "output_type": "display_data"
    }
   ],
   "source": [
    "sns.stripplot(y = a_del['sales'],x = a_del['kid'])\n",
    "plt.title('아이와 할인품목 구매 수')\n",
    "plt.show()"
   ]
  },
  {
   "cell_type": "code",
   "execution_count": 51,
   "metadata": {},
   "outputs": [
    {
     "data": {
      "image/png": "[encoded data removed]",
      "text/plain": [
       "<Figure size 432x288 with 1 Axes>"
      ]
     },
     "metadata": {
      "needs_background": "light"
     },
     "output_type": "display_data"
    }
   ],
   "source": [
    "sns.stripplot(y = a_del['sales'],x = a_del['teen'])\n",
    "plt.title('아이와 할인품목 구매 수')\n",
    "plt.show()"
   ]
  },
  {
   "cell_type": "code",
   "execution_count": 52,
   "metadata": {},
   "outputs": [
    {
     "data": {
      "image/png": "[encoded data removed]",
      "text/plain": [
       "<Figure size 432x288 with 1 Axes>"
      ]
     },
     "metadata": {
      "needs_background": "light"
     },
     "output_type": "display_data"
    }
   ],
   "source": [
    "sns.stripplot(y = a_del['webpur'],x = a_del['teen'])\n",
    "plt.title('청소년과 웹 구매 수')\n",
    "plt.show()"
   ]
  },
  {
   "cell_type": "code",
   "execution_count": 53,
   "metadata": {},
   "outputs": [
    {
     "data": {
      "image/png": "[encoded data removed]",
      "text/plain": [
       "<Figure size 432x288 with 1 Axes>"
      ]
     },
     "metadata": {
      "needs_background": "light"
     },
     "output_type": "display_data"
    }
   ],
   "source": [
    "# 육아 중이면 바쁘니까 웹 구매횟수가 많지 않을까?\n",
    "sns.stripplot(y = a_del['webpur'],x = a_del['kid'])\n",
    "plt.title('아이와 웹 구매 수')\n",
    "plt.show()"
   ]
  },
  {
   "cell_type": "code",
   "execution_count": 54,
   "metadata": {},
   "outputs": [
    {
     "name": "stdout",
     "output_type": "stream",
     "text": [
      "0    2\n",
      "1    1\n",
      "2    1\n",
      "3    1\n",
      "4    3\n",
      "Name: parch, dtype: int64\n"
     ]
    }
   ],
   "source": [
    "# 뭔가 전체적으로 분포도 비슷하고 0 1 2 값도 똑같고 그냥 보유자녀로 묶자 괜히 변수 갯수 늘리지 말고\n",
    "a_del['parch'] = a_del['kid'] + a_del['teen']\n",
    "print(a_del['parch'].head())"
   ]
  },
  {
   "cell_type": "code",
   "execution_count": 55,
   "metadata": {},
   "outputs": [
    {
     "name": "stdout",
     "output_type": "stream",
     "text": [
      "     count\n",
      "    target\n",
      "kid       \n",
      "0      660\n",
      "1      416\n",
      "2       29\n"
     ]
    }
   ],
   "source": [
    "# In[84]:\n",
    "print(pd.pivot_table(a_del,\n",
    "    index = ['kid'],\n",
    "    values = ['target'],\n",
    "    aggfunc = ['count']))"
   ]
  },
  {
   "cell_type": "code",
   "execution_count": 56,
   "metadata": {},
   "outputs": [
    {
     "name": "stdout",
     "output_type": "stream",
     "text": [
      "      count\n",
      "     target\n",
      "teen       \n",
      "0       569\n",
      "1       506\n",
      "2        30\n"
     ]
    }
   ],
   "source": [
    "# In[84]:\n",
    "print(pd.pivot_table(a_del,\n",
    "    index = ['teen'],\n",
    "    values = ['target'],\n",
    "    aggfunc = ['count']))"
   ]
  },
  {
   "cell_type": "code",
   "execution_count": 57,
   "metadata": {},
   "outputs": [
    {
     "data": {
      "image/png": "[encoded data removed]",
      "text/plain": [
       "<Figure size 432x288 with 1 Axes>"
      ]
     },
     "metadata": {
      "needs_background": "light"
     },
     "output_type": "display_data"
    }
   ],
   "source": [
    "plt.bar(a_del['teen'].unique(),a_del['teen'].value_counts())\n",
    "plt.xlabel('청소년')\n",
    "plt.ylabel('빈도')\n",
    "plt.title('청소년 수에 따른 빈도')\n",
    "plt.show()"
   ]
  },
  {
   "cell_type": "code",
   "execution_count": 58,
   "metadata": {},
   "outputs": [
    {
     "data": {
      "image/png": "[encoded data removed]",
      "text/plain": [
       "<Figure size 432x288 with 1 Axes>"
      ]
     },
     "metadata": {
      "needs_background": "light"
     },
     "output_type": "display_data"
    }
   ],
   "source": [
    "plt.bar(a_del['kid'].unique(),a_del['kid'].value_counts())\n",
    "plt.xlabel('아이')\n",
    "plt.ylabel('빈도')\n",
    "plt.title('아이 수에 따른 빈도')\n",
    "plt.show()"
   ]
  },
  {
   "cell_type": "code",
   "execution_count": 59,
   "metadata": {},
   "outputs": [
    {
     "data": {
      "image/png": "[encoded data removed]",
      "text/plain": [
       "<Figure size 432x288 with 1 Axes>"
      ]
     },
     "metadata": {
      "needs_background": "light"
     },
     "output_type": "display_data"
    }
   ],
   "source": [
    "sns.stripplot(y = a_del['webpur'],x = a_del['parch'])\n",
    "plt.title('청소년과 웹 구매 수')\n",
    "plt.show()"
   ]
  },
  {
   "cell_type": "code",
   "execution_count": 60,
   "metadata": {},
   "outputs": [
    {
     "data": {
      "image/png": "[encoded data removed]",
      "text/plain": [
       "<Figure size 432x288 with 1 Axes>"
      ]
     },
     "metadata": {
      "needs_background": "light"
     },
     "output_type": "display_data"
    }
   ],
   "source": [
    "plt.bar(a_del['parch'].unique(),a_del['parch'].value_counts())\n",
    "plt.xlabel('자녀')\n",
    "plt.ylabel('빈도')\n",
    "plt.title('자녀 수에 따른 빈도')\n",
    "plt.show()"
   ]
  },
  {
   "cell_type": "code",
   "execution_count": 61,
   "metadata": {},
   "outputs": [
    {
     "name": "stdout",
     "output_type": "stream",
     "text": [
      "       count\n",
      "      target\n",
      "parch       \n",
      "0        315\n",
      "1        571\n",
      "2        188\n",
      "3         31\n"
     ]
    }
   ],
   "source": [
    "# In[84]:\n",
    "print(pd.pivot_table(a_del,\n",
    "    index = ['parch'],\n",
    "    values = ['target'],\n",
    "    aggfunc = ['count']))"
   ]
  },
  {
   "cell_type": "markdown",
   "metadata": {},
   "source": [
    "- 전체적으로 아이나 청소년 수가 적을수록 소비량이 많음\n",
    "- 그리고 아이나 청소년 수의 분포가 비슷해서 그냥 합쳐서 파생변수 만들어서 분석 진행해도 될듯"
   ]
  },
  {
   "cell_type": "code",
   "execution_count": 62,
   "metadata": {},
   "outputs": [
    {
     "name": "stdout",
     "output_type": "stream",
     "text": [
      "Married     415\n",
      "Together    294\n",
      "Single      234\n",
      "Divorced    119\n",
      "Widow        39\n",
      "Alone         2\n",
      "YOLO          1\n",
      "Absurd        1\n",
      "Name: maritial, dtype: int64\n"
     ]
    }
   ],
   "source": [
    "# 결혼상태 각 개수 파악\n",
    "print(a_del['maritial'].value_counts()) "
   ]
  },
  {
   "cell_type": "code",
   "execution_count": 63,
   "metadata": {},
   "outputs": [
    {
     "name": "stdout",
     "output_type": "stream",
     "text": [
      "Married     415\n",
      "Together    294\n",
      "Single      234\n",
      "Divorced    119\n",
      "Widow        39\n",
      "Alone         2\n",
      "YOLO          1\n",
      "Absurd        1\n",
      "Name: maritial, dtype: int64\n"
     ]
    }
   ],
   "source": [
    "# 결혼상태 각 개수 파악\n",
    "print(a_del['maritial'].value_counts()) "
   ]
  },
  {
   "cell_type": "code",
   "execution_count": 64,
   "metadata": {},
   "outputs": [
    {
     "data": {
      "text/plain": [
       "Index(['id', 'birth', 'edu', 'maritial', 'income', 'kid', 'teen', 'dt_cus',\n",
       "       'recency', 'sales', 'webpur', 'catalog', 'store', 'cmp3', 'cmp4',\n",
       "       'cmp5', 'cmp1', 'cmp2', 'complain', 'response', 'target', 'birth_level',\n",
       "       'dt_group', 'parch'],\n",
       "      dtype='object')"
      ]
     },
     "execution_count": 64,
     "metadata": {},
     "output_type": "execute_result"
    }
   ],
   "source": [
    "a_del.columns"
   ]
  },
  {
   "cell_type": "code",
   "execution_count": 85,
   "metadata": {},
   "outputs": [
    {
     "data": {
      "text/plain": [
       "(1105, 24)"
      ]
     },
     "execution_count": 85,
     "metadata": {},
     "output_type": "execute_result"
    }
   ],
   "source": [
    "a_del.shape"
   ]
  },
  {
   "cell_type": "code",
   "execution_count": 66,
   "metadata": {},
   "outputs": [
    {
     "data": {
      "text/plain": [
       "id                      int64\n",
       "birth                   int64\n",
       "edu                    object\n",
       "maritial               object\n",
       "income                float64\n",
       "kid                     int64\n",
       "teen                    int64\n",
       "dt_cus         datetime64[ns]\n",
       "recency                 int64\n",
       "sales                   int64\n",
       "webpur                  int64\n",
       "catalog                 int64\n",
       "store                   int64\n",
       "cmp3                    int64\n",
       "cmp4                    int64\n",
       "cmp5                    int64\n",
       "cmp1                    int64\n",
       "cmp2                    int64\n",
       "complain                int64\n",
       "response                int64\n",
       "target                  int64\n",
       "birth_level            object\n",
       "dt_group               object\n",
       "parch                   int64\n",
       "dtype: object"
      ]
     },
     "execution_count": 66,
     "metadata": {},
     "output_type": "execute_result"
    }
   ],
   "source": [
    "a_del.dtypes"
   ]
  },
  {
   "cell_type": "markdown",
   "metadata": {},
   "source": [
    "# 포아송 회귀분석\n",
    "- 지수분포족 형태를 하고 있으며 2년이내에 소비한 횟수이므로 단위시간당 시행횟수인 포아송분포를 이용한 분석방법이 필요하다고 판단\n",
    "- 포아송분포를 사용하기 위한 검정을 끝냈음\n",
    "- 회귀식 유의성 검정하고 식 세우고\n",
    "- 이런 식이 세워졌습니다 하고\n",
    "- 해석 좀  해주고 "
   ]
  },
  {
   "cell_type": "markdown",
   "metadata": {},
   "source": [
    "# 모델링 \n",
    "- 모델링 좀 해주고 \n",
    "- 결과 및 해석 \n",
    "- 모델 개선"
   ]
  },
  {
   "cell_type": "code",
   "execution_count": 83,
   "metadata": {},
   "outputs": [
    {
     "data": {
      "text/html": [
       "<div>\n",
       "<style scoped>\n",
       "    .dataframe tbody tr th:only-of-type {\n",
       "        vertical-align: middle;\n",
       "    }\n",
       "\n",
       "    .dataframe tbody tr th {\n",
       "        vertical-align: top;\n",
       "    }\n",
       "\n",
       "    .dataframe thead th {\n",
       "        text-align: right;\n",
       "    }\n",
       "</style>\n",
       "<table border=\"1\" class=\"dataframe\">\n",
       "  <thead>\n",
       "    <tr style=\"text-align: right;\">\n",
       "      <th></th>\n",
       "      <th>id</th>\n",
       "      <th>birth</th>\n",
       "      <th>edu</th>\n",
       "      <th>maritial</th>\n",
       "      <th>income</th>\n",
       "      <th>kid</th>\n",
       "      <th>teen</th>\n",
       "      <th>dt_cus</th>\n",
       "      <th>recency</th>\n",
       "      <th>sales</th>\n",
       "      <th>...</th>\n",
       "      <th>maritial_YOLO</th>\n",
       "      <th>birth_level_1960년대 출생</th>\n",
       "      <th>birth_level_1970년대 출생</th>\n",
       "      <th>birth_level_1980년대 출생</th>\n",
       "      <th>birth_level_others</th>\n",
       "      <th>dt_group_2012_half2</th>\n",
       "      <th>dt_group_2013_half1</th>\n",
       "      <th>dt_group_2013_half2</th>\n",
       "      <th>dt_group_2014_half1</th>\n",
       "      <th>dt_group_2014_half2</th>\n",
       "    </tr>\n",
       "  </thead>\n",
       "  <tbody>\n",
       "    <tr>\n",
       "      <th>0</th>\n",
       "      <td>0</td>\n",
       "      <td>1974</td>\n",
       "      <td>Master</td>\n",
       "      <td>Together</td>\n",
       "      <td>46014.0</td>\n",
       "      <td>1</td>\n",
       "      <td>1</td>\n",
       "      <td>2013-01-21</td>\n",
       "      <td>21</td>\n",
       "      <td>10</td>\n",
       "      <td>...</td>\n",
       "      <td>0</td>\n",
       "      <td>0</td>\n",
       "      <td>1</td>\n",
       "      <td>0</td>\n",
       "      <td>0</td>\n",
       "      <td>0</td>\n",
       "      <td>1</td>\n",
       "      <td>0</td>\n",
       "      <td>0</td>\n",
       "      <td>0</td>\n",
       "    </tr>\n",
       "    <tr>\n",
       "      <th>1</th>\n",
       "      <td>1</td>\n",
       "      <td>1962</td>\n",
       "      <td>Graduation</td>\n",
       "      <td>Single</td>\n",
       "      <td>76624.0</td>\n",
       "      <td>0</td>\n",
       "      <td>1</td>\n",
       "      <td>2014-05-24</td>\n",
       "      <td>68</td>\n",
       "      <td>1</td>\n",
       "      <td>...</td>\n",
       "      <td>0</td>\n",
       "      <td>1</td>\n",
       "      <td>0</td>\n",
       "      <td>0</td>\n",
       "      <td>0</td>\n",
       "      <td>0</td>\n",
       "      <td>0</td>\n",
       "      <td>0</td>\n",
       "      <td>1</td>\n",
       "      <td>0</td>\n",
       "    </tr>\n",
       "    <tr>\n",
       "      <th>2</th>\n",
       "      <td>2</td>\n",
       "      <td>1951</td>\n",
       "      <td>Graduation</td>\n",
       "      <td>Married</td>\n",
       "      <td>75903.0</td>\n",
       "      <td>0</td>\n",
       "      <td>1</td>\n",
       "      <td>2013-08-04</td>\n",
       "      <td>50</td>\n",
       "      <td>2</td>\n",
       "      <td>...</td>\n",
       "      <td>0</td>\n",
       "      <td>0</td>\n",
       "      <td>0</td>\n",
       "      <td>0</td>\n",
       "      <td>0</td>\n",
       "      <td>0</td>\n",
       "      <td>0</td>\n",
       "      <td>1</td>\n",
       "      <td>0</td>\n",
       "      <td>0</td>\n",
       "    </tr>\n",
       "    <tr>\n",
       "      <th>3</th>\n",
       "      <td>3</td>\n",
       "      <td>1974</td>\n",
       "      <td>Basic</td>\n",
       "      <td>Married</td>\n",
       "      <td>18393.0</td>\n",
       "      <td>1</td>\n",
       "      <td>0</td>\n",
       "      <td>2014-03-29</td>\n",
       "      <td>2</td>\n",
       "      <td>2</td>\n",
       "      <td>...</td>\n",
       "      <td>0</td>\n",
       "      <td>0</td>\n",
       "      <td>1</td>\n",
       "      <td>0</td>\n",
       "      <td>0</td>\n",
       "      <td>0</td>\n",
       "      <td>0</td>\n",
       "      <td>0</td>\n",
       "      <td>1</td>\n",
       "      <td>0</td>\n",
       "    </tr>\n",
       "    <tr>\n",
       "      <th>4</th>\n",
       "      <td>4</td>\n",
       "      <td>1946</td>\n",
       "      <td>PhD</td>\n",
       "      <td>Together</td>\n",
       "      <td>64014.0</td>\n",
       "      <td>2</td>\n",
       "      <td>1</td>\n",
       "      <td>2014-10-06</td>\n",
       "      <td>56</td>\n",
       "      <td>7</td>\n",
       "      <td>...</td>\n",
       "      <td>0</td>\n",
       "      <td>0</td>\n",
       "      <td>0</td>\n",
       "      <td>0</td>\n",
       "      <td>1</td>\n",
       "      <td>0</td>\n",
       "      <td>0</td>\n",
       "      <td>0</td>\n",
       "      <td>0</td>\n",
       "      <td>1</td>\n",
       "    </tr>\n",
       "    <tr>\n",
       "      <th>5</th>\n",
       "      <td>5</td>\n",
       "      <td>1952</td>\n",
       "      <td>Graduation</td>\n",
       "      <td>Single</td>\n",
       "      <td>47958.0</td>\n",
       "      <td>0</td>\n",
       "      <td>1</td>\n",
       "      <td>2013-01-19</td>\n",
       "      <td>8</td>\n",
       "      <td>2</td>\n",
       "      <td>...</td>\n",
       "      <td>0</td>\n",
       "      <td>0</td>\n",
       "      <td>0</td>\n",
       "      <td>0</td>\n",
       "      <td>0</td>\n",
       "      <td>0</td>\n",
       "      <td>1</td>\n",
       "      <td>0</td>\n",
       "      <td>0</td>\n",
       "      <td>0</td>\n",
       "    </tr>\n",
       "    <tr>\n",
       "      <th>6</th>\n",
       "      <td>6</td>\n",
       "      <td>1971</td>\n",
       "      <td>Graduation</td>\n",
       "      <td>Single</td>\n",
       "      <td>22804.0</td>\n",
       "      <td>1</td>\n",
       "      <td>0</td>\n",
       "      <td>2013-07-31</td>\n",
       "      <td>75</td>\n",
       "      <td>1</td>\n",
       "      <td>...</td>\n",
       "      <td>0</td>\n",
       "      <td>0</td>\n",
       "      <td>1</td>\n",
       "      <td>0</td>\n",
       "      <td>0</td>\n",
       "      <td>0</td>\n",
       "      <td>0</td>\n",
       "      <td>1</td>\n",
       "      <td>0</td>\n",
       "      <td>0</td>\n",
       "    </tr>\n",
       "    <tr>\n",
       "      <th>7</th>\n",
       "      <td>7</td>\n",
       "      <td>1978</td>\n",
       "      <td>Graduation</td>\n",
       "      <td>Widow</td>\n",
       "      <td>54162.0</td>\n",
       "      <td>1</td>\n",
       "      <td>1</td>\n",
       "      <td>2013-03-18</td>\n",
       "      <td>31</td>\n",
       "      <td>1</td>\n",
       "      <td>...</td>\n",
       "      <td>0</td>\n",
       "      <td>0</td>\n",
       "      <td>1</td>\n",
       "      <td>0</td>\n",
       "      <td>0</td>\n",
       "      <td>0</td>\n",
       "      <td>1</td>\n",
       "      <td>0</td>\n",
       "      <td>0</td>\n",
       "      <td>0</td>\n",
       "    </tr>\n",
       "    <tr>\n",
       "      <th>8</th>\n",
       "      <td>8</td>\n",
       "      <td>1968</td>\n",
       "      <td>Graduation</td>\n",
       "      <td>Married</td>\n",
       "      <td>45688.0</td>\n",
       "      <td>0</td>\n",
       "      <td>1</td>\n",
       "      <td>2014-01-25</td>\n",
       "      <td>20</td>\n",
       "      <td>2</td>\n",
       "      <td>...</td>\n",
       "      <td>0</td>\n",
       "      <td>1</td>\n",
       "      <td>0</td>\n",
       "      <td>0</td>\n",
       "      <td>0</td>\n",
       "      <td>0</td>\n",
       "      <td>0</td>\n",
       "      <td>0</td>\n",
       "      <td>1</td>\n",
       "      <td>0</td>\n",
       "    </tr>\n",
       "    <tr>\n",
       "      <th>9</th>\n",
       "      <td>9</td>\n",
       "      <td>1952</td>\n",
       "      <td>Graduation</td>\n",
       "      <td>Single</td>\n",
       "      <td>61823.0</td>\n",
       "      <td>0</td>\n",
       "      <td>1</td>\n",
       "      <td>2013-02-18</td>\n",
       "      <td>26</td>\n",
       "      <td>4</td>\n",
       "      <td>...</td>\n",
       "      <td>0</td>\n",
       "      <td>0</td>\n",
       "      <td>0</td>\n",
       "      <td>0</td>\n",
       "      <td>0</td>\n",
       "      <td>0</td>\n",
       "      <td>1</td>\n",
       "      <td>0</td>\n",
       "      <td>0</td>\n",
       "      <td>0</td>\n",
       "    </tr>\n",
       "  </tbody>\n",
       "</table>\n",
       "<p>10 rows × 50 columns</p>\n",
       "</div>"
      ],
      "text/plain": [
       "   id  birth         edu  maritial   income  kid  teen     dt_cus  recency  \\\n",
       "0   0   1974      Master  Together  46014.0    1     1 2013-01-21       21   \n",
       "1   1   1962  Graduation    Single  76624.0    0     1 2014-05-24       68   \n",
       "2   2   1951  Graduation   Married  75903.0    0     1 2013-08-04       50   \n",
       "3   3   1974       Basic   Married  18393.0    1     0 2014-03-29        2   \n",
       "4   4   1946         PhD  Together  64014.0    2     1 2014-10-06       56   \n",
       "5   5   1952  Graduation    Single  47958.0    0     1 2013-01-19        8   \n",
       "6   6   1971  Graduation    Single  22804.0    1     0 2013-07-31       75   \n",
       "7   7   1978  Graduation     Widow  54162.0    1     1 2013-03-18       31   \n",
       "8   8   1968  Graduation   Married  45688.0    0     1 2014-01-25       20   \n",
       "9   9   1952  Graduation    Single  61823.0    0     1 2013-02-18       26   \n",
       "\n",
       "   sales  ...  maritial_YOLO  birth_level_1960년대 출생  birth_level_1970년대 출생  \\\n",
       "0     10  ...              0                      0                      1   \n",
       "1      1  ...              0                      1                      0   \n",
       "2      2  ...              0                      0                      0   \n",
       "3      2  ...              0                      0                      1   \n",
       "4      7  ...              0                      0                      0   \n",
       "5      2  ...              0                      0                      0   \n",
       "6      1  ...              0                      0                      1   \n",
       "7      1  ...              0                      0                      1   \n",
       "8      2  ...              0                      1                      0   \n",
       "9      4  ...              0                      0                      0   \n",
       "\n",
       "   birth_level_1980년대 출생  birth_level_others  dt_group_2012_half2  \\\n",
       "0                      0                   0                    0   \n",
       "1                      0                   0                    0   \n",
       "2                      0                   0                    0   \n",
       "3                      0                   0                    0   \n",
       "4                      0                   1                    0   \n",
       "5                      0                   0                    0   \n",
       "6                      0                   0                    0   \n",
       "7                      0                   0                    0   \n",
       "8                      0                   0                    0   \n",
       "9                      0                   0                    0   \n",
       "\n",
       "   dt_group_2013_half1  dt_group_2013_half2  dt_group_2014_half1  \\\n",
       "0                    1                    0                    0   \n",
       "1                    0                    0                    1   \n",
       "2                    0                    1                    0   \n",
       "3                    0                    0                    1   \n",
       "4                    0                    0                    0   \n",
       "5                    1                    0                    0   \n",
       "6                    0                    1                    0   \n",
       "7                    1                    0                    0   \n",
       "8                    0                    0                    1   \n",
       "9                    1                    0                    0   \n",
       "\n",
       "   dt_group_2014_half2  \n",
       "0                    0  \n",
       "1                    0  \n",
       "2                    0  \n",
       "3                    0  \n",
       "4                    1  \n",
       "5                    0  \n",
       "6                    0  \n",
       "7                    0  \n",
       "8                    0  \n",
       "9                    0  \n",
       "\n",
       "[10 rows x 50 columns]"
      ]
     },
     "execution_count": 83,
     "metadata": {},
     "output_type": "execute_result"
    }
   ],
   "source": [
    "a_del_dum = pd.get_dummies(a_del[['cmp1','cmp3','cmp4','cmp5','response','edu','maritial','birth_level','dt_group','complain']],drop_first = True)\n",
    "aaa = pd.concat([a_del,a_del_dum],axis = 1)\n",
    "aaa.head(10)"
   ]
  },
  {
   "cell_type": "code",
   "execution_count": 87,
   "metadata": {},
   "outputs": [],
   "source": [
    "aaa = aaa.drop(['id','birth','kid','teen','dt_cus','cmp2','birth_level','dt_group','maritial','edu','cmp1','cmp3','cmp4','cmp5','response','complain'], axis = 1 )"
   ]
  },
  {
   "cell_type": "code",
   "execution_count": 88,
   "metadata": {},
   "outputs": [
    {
     "name": "stdout",
     "output_type": "stream",
     "text": [
      "<class 'pandas.core.frame.DataFrame'>\n",
      "Int64Index: 1105 entries, 0 to 1107\n",
      "Data columns (total 28 columns):\n",
      " #   Column                 Non-Null Count  Dtype  \n",
      "---  ------                 --------------  -----  \n",
      " 0   income                 1105 non-null   float64\n",
      " 1   recency                1105 non-null   int64  \n",
      " 2   sales                  1105 non-null   int64  \n",
      " 3   webpur                 1105 non-null   int64  \n",
      " 4   catalog                1105 non-null   int64  \n",
      " 5   store                  1105 non-null   int64  \n",
      " 6   target                 1105 non-null   int64  \n",
      " 7   parch                  1105 non-null   int64  \n",
      " 8   edu_Basic              1105 non-null   uint8  \n",
      " 9   edu_Graduation         1105 non-null   uint8  \n",
      " 10  edu_Master             1105 non-null   uint8  \n",
      " 11  edu_PhD                1105 non-null   uint8  \n",
      " 12  maritial_Alone         1105 non-null   uint8  \n",
      " 13  maritial_Divorced      1105 non-null   uint8  \n",
      " 14  maritial_Married       1105 non-null   uint8  \n",
      " 15  maritial_Single        1105 non-null   uint8  \n",
      " 16  maritial_Together      1105 non-null   uint8  \n",
      " 17  maritial_Widow         1105 non-null   uint8  \n",
      " 18  maritial_YOLO          1105 non-null   uint8  \n",
      " 19  birth_level_1960년대 출생  1105 non-null   uint8  \n",
      " 20  birth_level_1970년대 출생  1105 non-null   uint8  \n",
      " 21  birth_level_1980년대 출생  1105 non-null   uint8  \n",
      " 22  birth_level_others     1105 non-null   uint8  \n",
      " 23  dt_group_2012_half2    1105 non-null   uint8  \n",
      " 24  dt_group_2013_half1    1105 non-null   uint8  \n",
      " 25  dt_group_2013_half2    1105 non-null   uint8  \n",
      " 26  dt_group_2014_half1    1105 non-null   uint8  \n",
      " 27  dt_group_2014_half2    1105 non-null   uint8  \n",
      "dtypes: float64(1), int64(7), uint8(20)\n",
      "memory usage: 139.3 KB\n"
     ]
    }
   ],
   "source": [
    "aaa.info()"
   ]
  },
  {
   "cell_type": "code",
   "execution_count": 89,
   "metadata": {},
   "outputs": [
    {
     "data": {
      "text/plain": [
       "(1105, 28)"
      ]
     },
     "execution_count": 89,
     "metadata": {},
     "output_type": "execute_result"
    }
   ],
   "source": [
    "aaa.shape"
   ]
  },
  {
   "cell_type": "code",
   "execution_count": 90,
   "metadata": {},
   "outputs": [],
   "source": [
    "from sklearn.model_selection import train_test_split\n",
    "target = aaa['target']"
   ]
  },
  {
   "cell_type": "markdown",
   "metadata": {},
   "source": [
    "# 회귀트리"
   ]
  },
  {
   "cell_type": "code",
   "execution_count": 98,
   "metadata": {},
   "outputs": [],
   "source": [
    " #필요없는 id열 삭제\n",
    "train_data, val_data = train_test_split(aaa, test_size=0.2,random_state =  42) #20프로로 설정\n",
    "train_data.reset_index(inplace=True) #전처리 과정에서 데이터가 뒤섞이지 않도록 인덱스를 초기화\n",
    "val_data.reset_index(inplace=True)"
   ]
  },
  {
   "cell_type": "code",
   "execution_count": 99,
   "metadata": {},
   "outputs": [
    {
     "name": "stdout",
     "output_type": "stream",
     "text": [
      "학습시킬 train 셋 :  (884, 29)\n",
      "검증할 val 셋 :  (221, 29)\n"
     ]
    }
   ],
   "source": [
    "print('학습시킬 train 셋 : ', train_data.shape)\n",
    "print('검증할 val 셋 : ', val_data.shape)"
   ]
  },
  {
   "cell_type": "code",
   "execution_count": 100,
   "metadata": {},
   "outputs": [],
   "source": [
    "train_data_X = train_data.drop(['target', 'index'], axis = 1) #training 데이터에서 피쳐 추출\n",
    "train_data_Y = train_data.target #training 데이터에서 소비량 추출"
   ]
  },
  {
   "cell_type": "code",
   "execution_count": 101,
   "metadata": {},
   "outputs": [],
   "source": [
    "val_data_X = val_data.drop(['target', 'index'], axis = 1) #training 데이터에서 피쳐 추출\n",
    "val_data_Y = val_data.target #training 데이터에서 소비량 추출"
   ]
  },
  {
   "cell_type": "code",
   "execution_count": 102,
   "metadata": {},
   "outputs": [
    {
     "data": {
      "text/plain": [
       "DecisionTreeRegressor()"
      ]
     },
     "execution_count": 102,
     "metadata": {},
     "output_type": "execute_result"
    }
   ],
   "source": [
    "from sklearn.tree import DecisionTreeRegressor\n",
    "tree_reg = DecisionTreeRegressor()\n",
    "tree_reg.fit(train_data_X,train_data_Y)"
   ]
  },
  {
   "cell_type": "code",
   "execution_count": 103,
   "metadata": {},
   "outputs": [
    {
     "data": {
      "text/plain": [
       "array([  30.,  849.,  493.,  244.,   72., 1695.,   90.,   13.,   50.,\n",
       "         18.,  486.,  106.,   41.,  195.,   78.,  900.,   48.,   57.,\n",
       "        841.,   32.,  685., 1006., 1893., 1538.,  137.,  993.,  401.,\n",
       "         64.,  398.,   29.,   72., 1313.,   65., 1141.,  188., 1529.,\n",
       "       1792.,   48., 1540.,  730., 1367.,  769.,  450.,  500.,  473.,\n",
       "       2525.,  884., 2279., 2279.,  170.,  882.,  530., 1141.,   90.,\n",
       "       1377.,  169.,  882.,   90.,  926.,  315.,  993., 2053.,  155.,\n",
       "        137.,  125.,  320., 1380.,   32.,  491., 1092.,   67.,   63.,\n",
       "         26., 1588.,   45.,  960.,  900.,   59.,  497.,  981.,  787.,\n",
       "       1231.,  369., 2211.,   27., 1597.,   77.,  758.,   26.,   49.,\n",
       "        692.,  406.,  258., 1502., 1580., 2008., 1750.,  147.,   59.,\n",
       "        270.,   62.,  258., 1736., 1062.,   93., 1102., 1382., 1169.,\n",
       "         64., 1241.,  100.,   25.,  882., 1490., 1798.,  211., 1062.,\n",
       "        495.,  103.,  218.,  258., 1815.,   46.,  335., 1232.,   72.,\n",
       "        377.,  125.,  906.,  299.,   32.,   22.,   46.,   66.,  968.,\n",
       "        305.,  692.,   46., 1544.,   88.,  125.,   64.,  863.,   23.,\n",
       "        793.,  861.,  442.,  606., 1533.,  841.,   49.,   27., 1598.,\n",
       "       1676.,  170.,   33.,  406., 1588.,   22.,   66.,   46.,   43.,\n",
       "         45.,   31.,   52.,  615.,  369.,   84.,   22.,  908.,  373.,\n",
       "        191.,   22.,   74.,   44., 1173., 1371.,   43.,  506.,  825.,\n",
       "        316.,   49.,   44., 1348.,  480.,   60.,   62.,   38.,   22.,\n",
       "         65., 1157.,  629.,  960., 1117.,  170.,  306.,  312.,  273.,\n",
       "        902.,  169.,   32.,  841., 1438.,  957., 1178.,  130., 1371.,\n",
       "        574.,   13.,  491.,  629.,  450.,  131.,  138., 1182., 2440.,\n",
       "       1490., 1109.,  491., 1958., 1232.])"
      ]
     },
     "execution_count": 103,
     "metadata": {},
     "output_type": "execute_result"
    }
   ],
   "source": [
    "predd = tree_reg.predict(val_data_X)\n",
    "predd"
   ]
  },
  {
   "cell_type": "code",
   "execution_count": 104,
   "metadata": {},
   "outputs": [
    {
     "name": "stdout",
     "output_type": "stream",
     "text": [
      "rmse:298.36471350084855\n"
     ]
    }
   ],
   "source": [
    "from sklearn.metrics import mean_squared_error \n",
    "tree_mse = mean_squared_error(val_data_Y,predd)\n",
    "tree_rmse = np.sqrt(tree_mse)\n",
    "print(f'rmse:{tree_rmse}')"
   ]
  },
  {
   "cell_type": "code",
   "execution_count": 105,
   "metadata": {},
   "outputs": [
    {
     "name": "stdout",
     "output_type": "stream",
     "text": [
      "mae:159.7737556561086\n"
     ]
    }
   ],
   "source": [
    "from sklearn.metrics import mean_absolute_error\n",
    "tree_mae = mean_absolute_error(val_data_Y,predd)\n",
    "print(f'mae:{tree_mae}')"
   ]
  },
  {
   "cell_type": "code",
   "execution_count": 106,
   "metadata": {},
   "outputs": [
    {
     "data": {
      "text/plain": [
       "count    1105.000000\n",
       "mean      618.641629\n",
       "std       603.696918\n",
       "min         6.000000\n",
       "25%        71.000000\n",
       "50%       415.000000\n",
       "75%      1071.000000\n",
       "max      2525.000000\n",
       "Name: target, dtype: float64"
      ]
     },
     "execution_count": 106,
     "metadata": {},
     "output_type": "execute_result"
    }
   ],
   "source": [
    "a_del['target'].describe()"
   ]
  },
  {
   "cell_type": "code",
   "execution_count": 107,
   "metadata": {},
   "outputs": [
    {
     "data": {
      "text/plain": [
       "89021.50226244344"
      ]
     },
     "execution_count": 107,
     "metadata": {},
     "output_type": "execute_result"
    }
   ],
   "source": [
    "tree_mse"
   ]
  },
  {
   "cell_type": "code",
   "execution_count": 108,
   "metadata": {},
   "outputs": [],
   "source": [
    "train_data_X = aaa.drop(['target'], axis = 1) #training 데이터에서 피쳐 추출\n",
    "train_data_Y = aaa['target'] #training 데이터에서 소비량 추출"
   ]
  },
  {
   "cell_type": "markdown",
   "metadata": {},
   "source": [
    "# 랜덤포레스트회귀"
   ]
  },
  {
   "cell_type": "code",
   "execution_count": 110,
   "metadata": {},
   "outputs": [
    {
     "data": {
      "text/plain": [
       "RandomForestRegressor()"
      ]
     },
     "execution_count": 110,
     "metadata": {},
     "output_type": "execute_result"
    }
   ],
   "source": [
    "from sklearn.ensemble import RandomForestRegressor\n",
    "forest_reg = RandomForestRegressor()\n",
    "forest_reg.fit(train_data_X,train_data_Y)"
   ]
  },
  {
   "cell_type": "markdown",
   "metadata": {},
   "source": [
    "- 매개변수 조합"
   ]
  },
  {
   "cell_type": "code",
   "execution_count": 111,
   "metadata": {},
   "outputs": [],
   "source": [
    "from sklearn.model_selection import GridSearchCV\n",
    "\n",
    "param_grid = [\n",
    "    {'n_estimators': [3,10,30], 'max_features': [2,4,6,8]},\n",
    "    {'bootstrap':[False], 'n_estimators':[3,10], 'max_features':[2,3,4]},\n",
    "]"
   ]
  },
  {
   "cell_type": "code",
   "execution_count": 112,
   "metadata": {},
   "outputs": [
    {
     "data": {
      "text/plain": [
       "GridSearchCV(cv=5, estimator=RandomForestRegressor(),\n",
       "             param_grid=[{'max_features': [2, 4, 6, 8],\n",
       "                          'n_estimators': [3, 10, 30]},\n",
       "                         {'bootstrap': [False], 'max_features': [2, 3, 4],\n",
       "                          'n_estimators': [3, 10]}],\n",
       "             return_train_score=True, scoring='neg_mean_absolute_error')"
      ]
     },
     "execution_count": 112,
     "metadata": {},
     "output_type": "execute_result"
    }
   ],
   "source": [
    "forest_reg = RandomForestRegressor()\n",
    "\n",
    "grid_search = GridSearchCV(forest_reg, param_grid, cv = 5,\n",
    "                          scoring='neg_mean_absolute_error',\n",
    "                          return_train_score = True)\n",
    "grid_search.fit(train_data_X,train_data_Y)"
   ]
  },
  {
   "cell_type": "code",
   "execution_count": 113,
   "metadata": {},
   "outputs": [
    {
     "data": {
      "text/plain": [
       "{'max_features': 8, 'n_estimators': 30}"
      ]
     },
     "execution_count": 113,
     "metadata": {},
     "output_type": "execute_result"
    }
   ],
   "source": [
    "grid_search.best_params_"
   ]
  },
  {
   "cell_type": "code",
   "execution_count": 114,
   "metadata": {},
   "outputs": [],
   "source": [
    "from sklearn.linear_model import LinearRegression\n",
    "from sklearn.ensemble import RandomForestRegressor\n",
    "from sklearn.ensemble import GradientBoostingRegressor"
   ]
  },
  {
   "cell_type": "code",
   "execution_count": 115,
   "metadata": {},
   "outputs": [],
   "source": [
    "def NMAE(true, pred):\n",
    "    score = np.mean(np.abs(true - pred) / true)\n",
    "    return score"
   ]
  },
  {
   "cell_type": "code",
   "execution_count": 116,
   "metadata": {},
   "outputs": [],
   "source": [
    "from sklearn.model_selection import KFold\n",
    "from sklearn import tree\n",
    "from sklearn.metrics import accuracy_score"
   ]
  },
  {
   "cell_type": "code",
   "execution_count": 117,
   "metadata": {},
   "outputs": [
    {
     "data": {
      "text/html": [
       "<div>\n",
       "<style scoped>\n",
       "    .dataframe tbody tr th:only-of-type {\n",
       "        vertical-align: middle;\n",
       "    }\n",
       "\n",
       "    .dataframe tbody tr th {\n",
       "        vertical-align: top;\n",
       "    }\n",
       "\n",
       "    .dataframe thead th {\n",
       "        text-align: right;\n",
       "    }\n",
       "</style>\n",
       "<table border=\"1\" class=\"dataframe\">\n",
       "  <thead>\n",
       "    <tr style=\"text-align: right;\">\n",
       "      <th></th>\n",
       "      <th>id</th>\n",
       "      <th>Year_Birth</th>\n",
       "      <th>Education</th>\n",
       "      <th>Marital_Status</th>\n",
       "      <th>Income</th>\n",
       "      <th>Kidhome</th>\n",
       "      <th>Teenhome</th>\n",
       "      <th>Dt_Customer</th>\n",
       "      <th>Recency</th>\n",
       "      <th>NumDealsPurchases</th>\n",
       "      <th>...</th>\n",
       "      <th>NumCatalogPurchases</th>\n",
       "      <th>NumStorePurchases</th>\n",
       "      <th>NumWebVisitsMonth</th>\n",
       "      <th>AcceptedCmp3</th>\n",
       "      <th>AcceptedCmp4</th>\n",
       "      <th>AcceptedCmp5</th>\n",
       "      <th>AcceptedCmp1</th>\n",
       "      <th>AcceptedCmp2</th>\n",
       "      <th>Complain</th>\n",
       "      <th>Response</th>\n",
       "    </tr>\n",
       "  </thead>\n",
       "  <tbody>\n",
       "    <tr>\n",
       "      <th>0</th>\n",
       "      <td>0</td>\n",
       "      <td>1979</td>\n",
       "      <td>Graduation</td>\n",
       "      <td>Single</td>\n",
       "      <td>57537.0</td>\n",
       "      <td>1</td>\n",
       "      <td>0</td>\n",
       "      <td>10-06-2013</td>\n",
       "      <td>83</td>\n",
       "      <td>4</td>\n",
       "      <td>...</td>\n",
       "      <td>3</td>\n",
       "      <td>8</td>\n",
       "      <td>4</td>\n",
       "      <td>0</td>\n",
       "      <td>0</td>\n",
       "      <td>0</td>\n",
       "      <td>0</td>\n",
       "      <td>0</td>\n",
       "      <td>0</td>\n",
       "      <td>0</td>\n",
       "    </tr>\n",
       "    <tr>\n",
       "      <th>1</th>\n",
       "      <td>1</td>\n",
       "      <td>1955</td>\n",
       "      <td>Graduation</td>\n",
       "      <td>Together</td>\n",
       "      <td>65748.0</td>\n",
       "      <td>0</td>\n",
       "      <td>1</td>\n",
       "      <td>15-04-2013</td>\n",
       "      <td>58</td>\n",
       "      <td>2</td>\n",
       "      <td>...</td>\n",
       "      <td>4</td>\n",
       "      <td>10</td>\n",
       "      <td>1</td>\n",
       "      <td>0</td>\n",
       "      <td>0</td>\n",
       "      <td>0</td>\n",
       "      <td>0</td>\n",
       "      <td>0</td>\n",
       "      <td>1</td>\n",
       "      <td>0</td>\n",
       "    </tr>\n",
       "    <tr>\n",
       "      <th>2</th>\n",
       "      <td>2</td>\n",
       "      <td>1984</td>\n",
       "      <td>Graduation</td>\n",
       "      <td>Married</td>\n",
       "      <td>55434.0</td>\n",
       "      <td>1</td>\n",
       "      <td>0</td>\n",
       "      <td>05-10-2013</td>\n",
       "      <td>21</td>\n",
       "      <td>3</td>\n",
       "      <td>...</td>\n",
       "      <td>3</td>\n",
       "      <td>13</td>\n",
       "      <td>4</td>\n",
       "      <td>0</td>\n",
       "      <td>0</td>\n",
       "      <td>0</td>\n",
       "      <td>0</td>\n",
       "      <td>0</td>\n",
       "      <td>0</td>\n",
       "      <td>0</td>\n",
       "    </tr>\n",
       "    <tr>\n",
       "      <th>3</th>\n",
       "      <td>3</td>\n",
       "      <td>1960</td>\n",
       "      <td>Graduation</td>\n",
       "      <td>Married</td>\n",
       "      <td>67716.0</td>\n",
       "      <td>0</td>\n",
       "      <td>1</td>\n",
       "      <td>10-01-2013</td>\n",
       "      <td>8</td>\n",
       "      <td>4</td>\n",
       "      <td>...</td>\n",
       "      <td>4</td>\n",
       "      <td>13</td>\n",
       "      <td>5</td>\n",
       "      <td>0</td>\n",
       "      <td>1</td>\n",
       "      <td>0</td>\n",
       "      <td>0</td>\n",
       "      <td>0</td>\n",
       "      <td>0</td>\n",
       "      <td>0</td>\n",
       "    </tr>\n",
       "    <tr>\n",
       "      <th>4</th>\n",
       "      <td>4</td>\n",
       "      <td>1976</td>\n",
       "      <td>Graduation</td>\n",
       "      <td>Together</td>\n",
       "      <td>85606.0</td>\n",
       "      <td>0</td>\n",
       "      <td>1</td>\n",
       "      <td>12-11-2012</td>\n",
       "      <td>89</td>\n",
       "      <td>2</td>\n",
       "      <td>...</td>\n",
       "      <td>7</td>\n",
       "      <td>9</td>\n",
       "      <td>3</td>\n",
       "      <td>0</td>\n",
       "      <td>0</td>\n",
       "      <td>0</td>\n",
       "      <td>1</td>\n",
       "      <td>0</td>\n",
       "      <td>0</td>\n",
       "      <td>0</td>\n",
       "    </tr>\n",
       "  </tbody>\n",
       "</table>\n",
       "<p>5 rows × 21 columns</p>\n",
       "</div>"
      ],
      "text/plain": [
       "   id  Year_Birth   Education Marital_Status   Income  Kidhome  Teenhome  \\\n",
       "0   0        1979  Graduation         Single  57537.0        1         0   \n",
       "1   1        1955  Graduation       Together  65748.0        0         1   \n",
       "2   2        1984  Graduation        Married  55434.0        1         0   \n",
       "3   3        1960  Graduation        Married  67716.0        0         1   \n",
       "4   4        1976  Graduation       Together  85606.0        0         1   \n",
       "\n",
       "  Dt_Customer  Recency  NumDealsPurchases  ...  NumCatalogPurchases  \\\n",
       "0  10-06-2013       83                  4  ...                    3   \n",
       "1  15-04-2013       58                  2  ...                    4   \n",
       "2  05-10-2013       21                  3  ...                    3   \n",
       "3  10-01-2013        8                  4  ...                    4   \n",
       "4  12-11-2012       89                  2  ...                    7   \n",
       "\n",
       "   NumStorePurchases  NumWebVisitsMonth  AcceptedCmp3  AcceptedCmp4  \\\n",
       "0                  8                  4             0             0   \n",
       "1                 10                  1             0             0   \n",
       "2                 13                  4             0             0   \n",
       "3                 13                  5             0             1   \n",
       "4                  9                  3             0             0   \n",
       "\n",
       "   AcceptedCmp5  AcceptedCmp1  AcceptedCmp2  Complain  Response  \n",
       "0             0             0             0         0         0  \n",
       "1             0             0             0         1         0  \n",
       "2             0             0             0         0         0  \n",
       "3             0             0             0         0         0  \n",
       "4             0             1             0         0         0  \n",
       "\n",
       "[5 rows x 21 columns]"
      ]
     },
     "execution_count": 117,
     "metadata": {},
     "output_type": "execute_result"
    }
   ],
   "source": [
    "test_1 = pd.read_csv(\"test123.csv\")\n",
    "test_1.head()"
   ]
  },
  {
   "cell_type": "code",
   "execution_count": 118,
   "metadata": {},
   "outputs": [
    {
     "name": "stdout",
     "output_type": "stream",
     "text": [
      "<class 'pandas.core.frame.DataFrame'>\n",
      "RangeIndex: 1108 entries, 0 to 1107\n",
      "Data columns (total 21 columns):\n",
      " #   Column               Non-Null Count  Dtype  \n",
      "---  ------               --------------  -----  \n",
      " 0   id                   1108 non-null   int64  \n",
      " 1   Year_Birth           1108 non-null   int64  \n",
      " 2   Education            1108 non-null   object \n",
      " 3   Marital_Status       1108 non-null   object \n",
      " 4   Income               1108 non-null   float64\n",
      " 5   Kidhome              1108 non-null   int64  \n",
      " 6   Teenhome             1108 non-null   int64  \n",
      " 7   Dt_Customer          1108 non-null   object \n",
      " 8   Recency              1108 non-null   int64  \n",
      " 9   NumDealsPurchases    1108 non-null   int64  \n",
      " 10  NumWebPurchases      1108 non-null   int64  \n",
      " 11  NumCatalogPurchases  1108 non-null   int64  \n",
      " 12  NumStorePurchases    1108 non-null   int64  \n",
      " 13  NumWebVisitsMonth    1108 non-null   int64  \n",
      " 14  AcceptedCmp3         1108 non-null   int64  \n",
      " 15  AcceptedCmp4         1108 non-null   int64  \n",
      " 16  AcceptedCmp5         1108 non-null   int64  \n",
      " 17  AcceptedCmp1         1108 non-null   int64  \n",
      " 18  AcceptedCmp2         1108 non-null   int64  \n",
      " 19  Complain             1108 non-null   int64  \n",
      " 20  Response             1108 non-null   int64  \n",
      "dtypes: float64(1), int64(17), object(3)\n",
      "memory usage: 181.9+ KB\n"
     ]
    }
   ],
   "source": [
    "test_1.info()"
   ]
  },
  {
   "cell_type": "code",
   "execution_count": 119,
   "metadata": {},
   "outputs": [],
   "source": [
    "test_1.columns = ['id','birth','edu','maritial','income','kid','teen','dt_cus','recency','sales',\n",
    "             'webpur','catalog','store','webvisit','cmp3','cmp4','cmp5','cmp1','cmp2',\n",
    "             'complain','response']"
   ]
  },
  {
   "cell_type": "code",
   "execution_count": 120,
   "metadata": {},
   "outputs": [
    {
     "data": {
      "text/plain": [
       "(1108, 20)"
      ]
     },
     "execution_count": 120,
     "metadata": {},
     "output_type": "execute_result"
    }
   ],
   "source": [
    "tt = test_1.copy()\n",
    "#tt = tt[tt['income']<117159.75]\n",
    "tt=tt.drop(['webvisit'],axis=1)\n",
    "tt.shape"
   ]
  },
  {
   "cell_type": "code",
   "execution_count": 121,
   "metadata": {},
   "outputs": [],
   "source": [
    "tt['dt_cus'] = pd.to_datetime(tt['dt_cus'])"
   ]
  },
  {
   "cell_type": "code",
   "execution_count": 122,
   "metadata": {},
   "outputs": [
    {
     "name": "stdout",
     "output_type": "stream",
     "text": [
      "   id  birth         edu  maritial   income  kid  teen     dt_cus  recency  \\\n",
      "0   0   1979  Graduation    Single  57537.0    1     0 2013-10-06       83   \n",
      "1   1   1955  Graduation  Together  65748.0    0     1 2013-04-15       58   \n",
      "2   2   1984  Graduation   Married  55434.0    1     0 2013-05-10       21   \n",
      "3   3   1960  Graduation   Married  67716.0    0     1 2013-10-01        8   \n",
      "4   4   1976  Graduation  Together  85606.0    0     1 2012-12-11       89   \n",
      "\n",
      "   sales  ...  catalog  store  cmp3  cmp4  cmp5  cmp1  cmp2  complain  \\\n",
      "0      4  ...        3      8     0     0     0     0     0         0   \n",
      "1      2  ...        4     10     0     0     0     0     0         1   \n",
      "2      3  ...        3     13     0     0     0     0     0         0   \n",
      "3      4  ...        4     13     0     1     0     0     0         0   \n",
      "4      2  ...        7      9     0     0     0     1     0         0   \n",
      "\n",
      "   response  birth_level  \n",
      "0         0    1970년대 출생  \n",
      "1         0    1950년대 출생  \n",
      "2         0    1980년대 출생  \n",
      "3         0    1960년대 출생  \n",
      "4         0    1970년대 출생  \n",
      "\n",
      "[5 rows x 21 columns]\n"
     ]
    }
   ],
   "source": [
    "conditionlist = [\n",
    "    (tt['birth'] >= 1890) & (tt['birth'] < 1900),\n",
    "    (tt['birth'] >= 1900) & (tt['birth'] < 1910),\n",
    "    (tt['birth'] >= 1910) & (tt['birth'] < 1920),\n",
    "    (tt['birth'] >= 1920) & (tt['birth'] < 1930),\n",
    "    (tt['birth'] >= 1930) & (tt['birth'] < 1940),\n",
    "    (tt['birth'] >= 1940) & (tt['birth'] < 1950),\n",
    "    (tt['birth'] >= 1950) & (tt['birth'] < 1960),\n",
    "    (tt['birth'] >= 1960) & (tt['birth'] < 1970),\n",
    "    (tt['birth'] >= 1970) & (tt['birth'] < 1980),\n",
    "    (tt['birth'] >= 1980) & (tt['birth'] < 1990),\n",
    "    (tt['birth'] >= 1990) & (tt['birth'] < 2000)]\n",
    "choicelist = ['1890년대 출생', '1900년대 출생','1910년대 출생','1920년대 출생','1930년대 출생',\n",
    "              '1940년대 출생','1950년대 출생','1960년대 출생','1970년대 출생','1980년대 출생',\n",
    "              '1990년대 출생']\n",
    "tt['birth_level'] = np.select(conditionlist, choicelist,default=0)\n",
    "print(tt.head())"
   ]
  },
  {
   "cell_type": "code",
   "execution_count": 123,
   "metadata": {},
   "outputs": [
    {
     "data": {
      "text/plain": [
       "0       1970년대 출생\n",
       "1       1950년대 출생\n",
       "2       1980년대 출생\n",
       "3       1960년대 출생\n",
       "4       1970년대 출생\n",
       "          ...    \n",
       "1103    1950년대 출생\n",
       "1104    1960년대 출생\n",
       "1105    1980년대 출생\n",
       "1106    1970년대 출생\n",
       "1107    1970년대 출생\n",
       "Name: birth_level, Length: 1108, dtype: object"
      ]
     },
     "execution_count": 123,
     "metadata": {},
     "output_type": "execute_result"
    }
   ],
   "source": [
    "tt.loc[tt.birth_level == '1890년대 출생', 'birth_level'] = 'others'\n",
    "tt.loc[tt.birth_level == '1900년대 출생', 'birth_level']= 'others'\n",
    "tt.loc[tt.birth_level == '1940년대 출생', 'birth_level'] = 'others'\n",
    "tt.loc[tt.birth_level == '1990년대 출생', 'birth_level'] = 'others'\n",
    "tt['birth_level']"
   ]
  },
  {
   "cell_type": "code",
   "execution_count": 124,
   "metadata": {},
   "outputs": [
    {
     "data": {
      "text/plain": [
       "0      2013-10-06\n",
       "1      2013-04-15\n",
       "2      2013-05-10\n",
       "3      2013-10-01\n",
       "4      2012-12-11\n",
       "          ...    \n",
       "1103   2014-03-01\n",
       "1104   2014-03-23\n",
       "1105   2013-11-09\n",
       "1106   2013-08-04\n",
       "1107   2012-08-18\n",
       "Name: dt_cus, Length: 1108, dtype: datetime64[ns]"
      ]
     },
     "execution_count": 124,
     "metadata": {},
     "output_type": "execute_result"
    }
   ],
   "source": [
    "tt['dt_cus']"
   ]
  },
  {
   "cell_type": "code",
   "execution_count": 125,
   "metadata": {},
   "outputs": [],
   "source": [
    "tt.loc[tt['dt_cus'] <= '2012-05-31', 'dt_group'] = '2012_half1'\n",
    "tt.loc[(tt['dt_cus'] > '2012-05-31') & (tt['dt_cus'] <= '2012-12-31'), 'dt_group'] = '2012_half2'\n",
    "tt.loc[(tt['dt_cus'] > '2012-12-31') & (tt['dt_cus'] <= '2013-05-31'), 'dt_group'] = '2013_half1'\n",
    "tt.loc[(tt['dt_cus'] > '2013-05-31') & (tt['dt_cus'] <= '2013-12-31'), 'dt_group'] = '2013_half2'\n",
    "tt.loc[(tt['dt_cus'] > '2013-12-31') & (tt['dt_cus'] <= '2014-5-31'), 'dt_group'] = '2014_half1'\n",
    "tt.loc[(tt['dt_cus'] > '2014-05-31') & (tt['dt_cus'] <= '2014-12-31'), 'dt_group'] = '2014_half2'"
   ]
  },
  {
   "cell_type": "code",
   "execution_count": 126,
   "metadata": {},
   "outputs": [
    {
     "name": "stdout",
     "output_type": "stream",
     "text": [
      "0    1\n",
      "1    1\n",
      "2    1\n",
      "3    1\n",
      "4    1\n",
      "Name: parch, dtype: int64\n"
     ]
    }
   ],
   "source": [
    "tt['parch'] = tt['kid'] + tt['teen']\n",
    "print(tt['parch'].head())"
   ]
  },
  {
   "cell_type": "code",
   "execution_count": 127,
   "metadata": {},
   "outputs": [
    {
     "data": {
      "text/html": [
       "<div>\n",
       "<style scoped>\n",
       "    .dataframe tbody tr th:only-of-type {\n",
       "        vertical-align: middle;\n",
       "    }\n",
       "\n",
       "    .dataframe tbody tr th {\n",
       "        vertical-align: top;\n",
       "    }\n",
       "\n",
       "    .dataframe thead th {\n",
       "        text-align: right;\n",
       "    }\n",
       "</style>\n",
       "<table border=\"1\" class=\"dataframe\">\n",
       "  <thead>\n",
       "    <tr style=\"text-align: right;\">\n",
       "      <th></th>\n",
       "      <th>id</th>\n",
       "      <th>birth</th>\n",
       "      <th>edu</th>\n",
       "      <th>maritial</th>\n",
       "      <th>income</th>\n",
       "      <th>kid</th>\n",
       "      <th>teen</th>\n",
       "      <th>dt_cus</th>\n",
       "      <th>recency</th>\n",
       "      <th>sales</th>\n",
       "      <th>...</th>\n",
       "      <th>maritial_YOLO</th>\n",
       "      <th>birth_level_1960년대 출생</th>\n",
       "      <th>birth_level_1970년대 출생</th>\n",
       "      <th>birth_level_1980년대 출생</th>\n",
       "      <th>birth_level_others</th>\n",
       "      <th>dt_group_2012_half2</th>\n",
       "      <th>dt_group_2013_half1</th>\n",
       "      <th>dt_group_2013_half2</th>\n",
       "      <th>dt_group_2014_half1</th>\n",
       "      <th>dt_group_2014_half2</th>\n",
       "    </tr>\n",
       "  </thead>\n",
       "  <tbody>\n",
       "    <tr>\n",
       "      <th>0</th>\n",
       "      <td>0</td>\n",
       "      <td>1974</td>\n",
       "      <td>Master</td>\n",
       "      <td>Together</td>\n",
       "      <td>46014.0</td>\n",
       "      <td>1</td>\n",
       "      <td>1</td>\n",
       "      <td>2013-01-21</td>\n",
       "      <td>21</td>\n",
       "      <td>10</td>\n",
       "      <td>...</td>\n",
       "      <td>0</td>\n",
       "      <td>0</td>\n",
       "      <td>1</td>\n",
       "      <td>0</td>\n",
       "      <td>0</td>\n",
       "      <td>0</td>\n",
       "      <td>1</td>\n",
       "      <td>0</td>\n",
       "      <td>0</td>\n",
       "      <td>0</td>\n",
       "    </tr>\n",
       "    <tr>\n",
       "      <th>1</th>\n",
       "      <td>1</td>\n",
       "      <td>1962</td>\n",
       "      <td>Graduation</td>\n",
       "      <td>Single</td>\n",
       "      <td>76624.0</td>\n",
       "      <td>0</td>\n",
       "      <td>1</td>\n",
       "      <td>2014-05-24</td>\n",
       "      <td>68</td>\n",
       "      <td>1</td>\n",
       "      <td>...</td>\n",
       "      <td>0</td>\n",
       "      <td>1</td>\n",
       "      <td>0</td>\n",
       "      <td>0</td>\n",
       "      <td>0</td>\n",
       "      <td>0</td>\n",
       "      <td>0</td>\n",
       "      <td>0</td>\n",
       "      <td>1</td>\n",
       "      <td>0</td>\n",
       "    </tr>\n",
       "    <tr>\n",
       "      <th>2</th>\n",
       "      <td>2</td>\n",
       "      <td>1951</td>\n",
       "      <td>Graduation</td>\n",
       "      <td>Married</td>\n",
       "      <td>75903.0</td>\n",
       "      <td>0</td>\n",
       "      <td>1</td>\n",
       "      <td>2013-08-04</td>\n",
       "      <td>50</td>\n",
       "      <td>2</td>\n",
       "      <td>...</td>\n",
       "      <td>0</td>\n",
       "      <td>0</td>\n",
       "      <td>0</td>\n",
       "      <td>0</td>\n",
       "      <td>0</td>\n",
       "      <td>0</td>\n",
       "      <td>0</td>\n",
       "      <td>1</td>\n",
       "      <td>0</td>\n",
       "      <td>0</td>\n",
       "    </tr>\n",
       "    <tr>\n",
       "      <th>3</th>\n",
       "      <td>3</td>\n",
       "      <td>1974</td>\n",
       "      <td>Basic</td>\n",
       "      <td>Married</td>\n",
       "      <td>18393.0</td>\n",
       "      <td>1</td>\n",
       "      <td>0</td>\n",
       "      <td>2014-03-29</td>\n",
       "      <td>2</td>\n",
       "      <td>2</td>\n",
       "      <td>...</td>\n",
       "      <td>0</td>\n",
       "      <td>0</td>\n",
       "      <td>1</td>\n",
       "      <td>0</td>\n",
       "      <td>0</td>\n",
       "      <td>0</td>\n",
       "      <td>0</td>\n",
       "      <td>0</td>\n",
       "      <td>1</td>\n",
       "      <td>0</td>\n",
       "    </tr>\n",
       "    <tr>\n",
       "      <th>4</th>\n",
       "      <td>4</td>\n",
       "      <td>1946</td>\n",
       "      <td>PhD</td>\n",
       "      <td>Together</td>\n",
       "      <td>64014.0</td>\n",
       "      <td>2</td>\n",
       "      <td>1</td>\n",
       "      <td>2014-10-06</td>\n",
       "      <td>56</td>\n",
       "      <td>7</td>\n",
       "      <td>...</td>\n",
       "      <td>0</td>\n",
       "      <td>0</td>\n",
       "      <td>0</td>\n",
       "      <td>0</td>\n",
       "      <td>1</td>\n",
       "      <td>0</td>\n",
       "      <td>0</td>\n",
       "      <td>0</td>\n",
       "      <td>0</td>\n",
       "      <td>1</td>\n",
       "    </tr>\n",
       "    <tr>\n",
       "      <th>5</th>\n",
       "      <td>5</td>\n",
       "      <td>1952</td>\n",
       "      <td>Graduation</td>\n",
       "      <td>Single</td>\n",
       "      <td>47958.0</td>\n",
       "      <td>0</td>\n",
       "      <td>1</td>\n",
       "      <td>2013-01-19</td>\n",
       "      <td>8</td>\n",
       "      <td>2</td>\n",
       "      <td>...</td>\n",
       "      <td>0</td>\n",
       "      <td>0</td>\n",
       "      <td>0</td>\n",
       "      <td>0</td>\n",
       "      <td>0</td>\n",
       "      <td>0</td>\n",
       "      <td>1</td>\n",
       "      <td>0</td>\n",
       "      <td>0</td>\n",
       "      <td>0</td>\n",
       "    </tr>\n",
       "    <tr>\n",
       "      <th>6</th>\n",
       "      <td>6</td>\n",
       "      <td>1971</td>\n",
       "      <td>Graduation</td>\n",
       "      <td>Single</td>\n",
       "      <td>22804.0</td>\n",
       "      <td>1</td>\n",
       "      <td>0</td>\n",
       "      <td>2013-07-31</td>\n",
       "      <td>75</td>\n",
       "      <td>1</td>\n",
       "      <td>...</td>\n",
       "      <td>0</td>\n",
       "      <td>0</td>\n",
       "      <td>1</td>\n",
       "      <td>0</td>\n",
       "      <td>0</td>\n",
       "      <td>0</td>\n",
       "      <td>0</td>\n",
       "      <td>1</td>\n",
       "      <td>0</td>\n",
       "      <td>0</td>\n",
       "    </tr>\n",
       "    <tr>\n",
       "      <th>7</th>\n",
       "      <td>7</td>\n",
       "      <td>1978</td>\n",
       "      <td>Graduation</td>\n",
       "      <td>Widow</td>\n",
       "      <td>54162.0</td>\n",
       "      <td>1</td>\n",
       "      <td>1</td>\n",
       "      <td>2013-03-18</td>\n",
       "      <td>31</td>\n",
       "      <td>1</td>\n",
       "      <td>...</td>\n",
       "      <td>0</td>\n",
       "      <td>0</td>\n",
       "      <td>1</td>\n",
       "      <td>0</td>\n",
       "      <td>0</td>\n",
       "      <td>0</td>\n",
       "      <td>1</td>\n",
       "      <td>0</td>\n",
       "      <td>0</td>\n",
       "      <td>0</td>\n",
       "    </tr>\n",
       "    <tr>\n",
       "      <th>8</th>\n",
       "      <td>8</td>\n",
       "      <td>1968</td>\n",
       "      <td>Graduation</td>\n",
       "      <td>Married</td>\n",
       "      <td>45688.0</td>\n",
       "      <td>0</td>\n",
       "      <td>1</td>\n",
       "      <td>2014-01-25</td>\n",
       "      <td>20</td>\n",
       "      <td>2</td>\n",
       "      <td>...</td>\n",
       "      <td>0</td>\n",
       "      <td>1</td>\n",
       "      <td>0</td>\n",
       "      <td>0</td>\n",
       "      <td>0</td>\n",
       "      <td>0</td>\n",
       "      <td>0</td>\n",
       "      <td>0</td>\n",
       "      <td>1</td>\n",
       "      <td>0</td>\n",
       "    </tr>\n",
       "    <tr>\n",
       "      <th>9</th>\n",
       "      <td>9</td>\n",
       "      <td>1952</td>\n",
       "      <td>Graduation</td>\n",
       "      <td>Single</td>\n",
       "      <td>61823.0</td>\n",
       "      <td>0</td>\n",
       "      <td>1</td>\n",
       "      <td>2013-02-18</td>\n",
       "      <td>26</td>\n",
       "      <td>4</td>\n",
       "      <td>...</td>\n",
       "      <td>0</td>\n",
       "      <td>0</td>\n",
       "      <td>0</td>\n",
       "      <td>0</td>\n",
       "      <td>0</td>\n",
       "      <td>0</td>\n",
       "      <td>1</td>\n",
       "      <td>0</td>\n",
       "      <td>0</td>\n",
       "      <td>0</td>\n",
       "    </tr>\n",
       "  </tbody>\n",
       "</table>\n",
       "<p>10 rows × 50 columns</p>\n",
       "</div>"
      ],
      "text/plain": [
       "   id  birth         edu  maritial   income  kid  teen     dt_cus  recency  \\\n",
       "0   0   1974      Master  Together  46014.0    1     1 2013-01-21       21   \n",
       "1   1   1962  Graduation    Single  76624.0    0     1 2014-05-24       68   \n",
       "2   2   1951  Graduation   Married  75903.0    0     1 2013-08-04       50   \n",
       "3   3   1974       Basic   Married  18393.0    1     0 2014-03-29        2   \n",
       "4   4   1946         PhD  Together  64014.0    2     1 2014-10-06       56   \n",
       "5   5   1952  Graduation    Single  47958.0    0     1 2013-01-19        8   \n",
       "6   6   1971  Graduation    Single  22804.0    1     0 2013-07-31       75   \n",
       "7   7   1978  Graduation     Widow  54162.0    1     1 2013-03-18       31   \n",
       "8   8   1968  Graduation   Married  45688.0    0     1 2014-01-25       20   \n",
       "9   9   1952  Graduation    Single  61823.0    0     1 2013-02-18       26   \n",
       "\n",
       "   sales  ...  maritial_YOLO  birth_level_1960년대 출생  birth_level_1970년대 출생  \\\n",
       "0     10  ...              0                      0                      1   \n",
       "1      1  ...              0                      1                      0   \n",
       "2      2  ...              0                      0                      0   \n",
       "3      2  ...              0                      0                      1   \n",
       "4      7  ...              0                      0                      0   \n",
       "5      2  ...              0                      0                      0   \n",
       "6      1  ...              0                      0                      1   \n",
       "7      1  ...              0                      0                      1   \n",
       "8      2  ...              0                      1                      0   \n",
       "9      4  ...              0                      0                      0   \n",
       "\n",
       "   birth_level_1980년대 출생  birth_level_others  dt_group_2012_half2  \\\n",
       "0                      0                   0                    0   \n",
       "1                      0                   0                    0   \n",
       "2                      0                   0                    0   \n",
       "3                      0                   0                    0   \n",
       "4                      0                   1                    0   \n",
       "5                      0                   0                    0   \n",
       "6                      0                   0                    0   \n",
       "7                      0                   0                    0   \n",
       "8                      0                   0                    0   \n",
       "9                      0                   0                    0   \n",
       "\n",
       "   dt_group_2013_half1  dt_group_2013_half2  dt_group_2014_half1  \\\n",
       "0                    1                    0                    0   \n",
       "1                    0                    0                    1   \n",
       "2                    0                    1                    0   \n",
       "3                    0                    0                    1   \n",
       "4                    0                    0                    0   \n",
       "5                    1                    0                    0   \n",
       "6                    0                    1                    0   \n",
       "7                    1                    0                    0   \n",
       "8                    0                    0                    1   \n",
       "9                    1                    0                    0   \n",
       "\n",
       "   dt_group_2014_half2  \n",
       "0                    0  \n",
       "1                    0  \n",
       "2                    0  \n",
       "3                    0  \n",
       "4                    1  \n",
       "5                    0  \n",
       "6                    0  \n",
       "7                    0  \n",
       "8                    0  \n",
       "9                    0  \n",
       "\n",
       "[10 rows x 50 columns]"
      ]
     },
     "execution_count": 127,
     "metadata": {},
     "output_type": "execute_result"
    }
   ],
   "source": [
    "a_del_dum = pd.get_dummies(a_del[['cmp1','cmp3','cmp4','cmp5','response','edu','maritial','birth_level','dt_group','complain']],drop_first = True)\n",
    "aaa = pd.concat([a_del,a_del_dum],axis = 1)\n",
    "aaa.head(10)"
   ]
  },
  {
   "cell_type": "code",
   "execution_count": 128,
   "metadata": {},
   "outputs": [
    {
     "data": {
      "text/html": [
       "<div>\n",
       "<style scoped>\n",
       "    .dataframe tbody tr th:only-of-type {\n",
       "        vertical-align: middle;\n",
       "    }\n",
       "\n",
       "    .dataframe tbody tr th {\n",
       "        vertical-align: top;\n",
       "    }\n",
       "\n",
       "    .dataframe thead th {\n",
       "        text-align: right;\n",
       "    }\n",
       "</style>\n",
       "<table border=\"1\" class=\"dataframe\">\n",
       "  <thead>\n",
       "    <tr style=\"text-align: right;\">\n",
       "      <th></th>\n",
       "      <th>id</th>\n",
       "      <th>birth</th>\n",
       "      <th>edu</th>\n",
       "      <th>maritial</th>\n",
       "      <th>income</th>\n",
       "      <th>kid</th>\n",
       "      <th>teen</th>\n",
       "      <th>dt_cus</th>\n",
       "      <th>recency</th>\n",
       "      <th>sales</th>\n",
       "      <th>...</th>\n",
       "      <th>maritial_YOLO</th>\n",
       "      <th>birth_level_1960년대 출생</th>\n",
       "      <th>birth_level_1970년대 출생</th>\n",
       "      <th>birth_level_1980년대 출생</th>\n",
       "      <th>birth_level_others</th>\n",
       "      <th>dt_group_2012_half2</th>\n",
       "      <th>dt_group_2013_half1</th>\n",
       "      <th>dt_group_2013_half2</th>\n",
       "      <th>dt_group_2014_half1</th>\n",
       "      <th>dt_group_2014_half2</th>\n",
       "    </tr>\n",
       "  </thead>\n",
       "  <tbody>\n",
       "    <tr>\n",
       "      <th>0</th>\n",
       "      <td>0</td>\n",
       "      <td>1979</td>\n",
       "      <td>Graduation</td>\n",
       "      <td>Single</td>\n",
       "      <td>57537.0</td>\n",
       "      <td>1</td>\n",
       "      <td>0</td>\n",
       "      <td>2013-10-06</td>\n",
       "      <td>83</td>\n",
       "      <td>4</td>\n",
       "      <td>...</td>\n",
       "      <td>0</td>\n",
       "      <td>0</td>\n",
       "      <td>1</td>\n",
       "      <td>0</td>\n",
       "      <td>0</td>\n",
       "      <td>0</td>\n",
       "      <td>0</td>\n",
       "      <td>1</td>\n",
       "      <td>0</td>\n",
       "      <td>0</td>\n",
       "    </tr>\n",
       "    <tr>\n",
       "      <th>1</th>\n",
       "      <td>1</td>\n",
       "      <td>1955</td>\n",
       "      <td>Graduation</td>\n",
       "      <td>Together</td>\n",
       "      <td>65748.0</td>\n",
       "      <td>0</td>\n",
       "      <td>1</td>\n",
       "      <td>2013-04-15</td>\n",
       "      <td>58</td>\n",
       "      <td>2</td>\n",
       "      <td>...</td>\n",
       "      <td>0</td>\n",
       "      <td>0</td>\n",
       "      <td>0</td>\n",
       "      <td>0</td>\n",
       "      <td>0</td>\n",
       "      <td>0</td>\n",
       "      <td>1</td>\n",
       "      <td>0</td>\n",
       "      <td>0</td>\n",
       "      <td>0</td>\n",
       "    </tr>\n",
       "    <tr>\n",
       "      <th>2</th>\n",
       "      <td>2</td>\n",
       "      <td>1984</td>\n",
       "      <td>Graduation</td>\n",
       "      <td>Married</td>\n",
       "      <td>55434.0</td>\n",
       "      <td>1</td>\n",
       "      <td>0</td>\n",
       "      <td>2013-05-10</td>\n",
       "      <td>21</td>\n",
       "      <td>3</td>\n",
       "      <td>...</td>\n",
       "      <td>0</td>\n",
       "      <td>0</td>\n",
       "      <td>0</td>\n",
       "      <td>1</td>\n",
       "      <td>0</td>\n",
       "      <td>0</td>\n",
       "      <td>1</td>\n",
       "      <td>0</td>\n",
       "      <td>0</td>\n",
       "      <td>0</td>\n",
       "    </tr>\n",
       "    <tr>\n",
       "      <th>3</th>\n",
       "      <td>3</td>\n",
       "      <td>1960</td>\n",
       "      <td>Graduation</td>\n",
       "      <td>Married</td>\n",
       "      <td>67716.0</td>\n",
       "      <td>0</td>\n",
       "      <td>1</td>\n",
       "      <td>2013-10-01</td>\n",
       "      <td>8</td>\n",
       "      <td>4</td>\n",
       "      <td>...</td>\n",
       "      <td>0</td>\n",
       "      <td>1</td>\n",
       "      <td>0</td>\n",
       "      <td>0</td>\n",
       "      <td>0</td>\n",
       "      <td>0</td>\n",
       "      <td>0</td>\n",
       "      <td>1</td>\n",
       "      <td>0</td>\n",
       "      <td>0</td>\n",
       "    </tr>\n",
       "    <tr>\n",
       "      <th>4</th>\n",
       "      <td>4</td>\n",
       "      <td>1976</td>\n",
       "      <td>Graduation</td>\n",
       "      <td>Together</td>\n",
       "      <td>85606.0</td>\n",
       "      <td>0</td>\n",
       "      <td>1</td>\n",
       "      <td>2012-12-11</td>\n",
       "      <td>89</td>\n",
       "      <td>2</td>\n",
       "      <td>...</td>\n",
       "      <td>0</td>\n",
       "      <td>0</td>\n",
       "      <td>1</td>\n",
       "      <td>0</td>\n",
       "      <td>0</td>\n",
       "      <td>1</td>\n",
       "      <td>0</td>\n",
       "      <td>0</td>\n",
       "      <td>0</td>\n",
       "      <td>0</td>\n",
       "    </tr>\n",
       "    <tr>\n",
       "      <th>5</th>\n",
       "      <td>5</td>\n",
       "      <td>1975</td>\n",
       "      <td>Graduation</td>\n",
       "      <td>Widow</td>\n",
       "      <td>58330.0</td>\n",
       "      <td>0</td>\n",
       "      <td>1</td>\n",
       "      <td>2013-12-25</td>\n",
       "      <td>87</td>\n",
       "      <td>1</td>\n",
       "      <td>...</td>\n",
       "      <td>0</td>\n",
       "      <td>0</td>\n",
       "      <td>1</td>\n",
       "      <td>0</td>\n",
       "      <td>0</td>\n",
       "      <td>0</td>\n",
       "      <td>0</td>\n",
       "      <td>1</td>\n",
       "      <td>0</td>\n",
       "      <td>0</td>\n",
       "    </tr>\n",
       "    <tr>\n",
       "      <th>6</th>\n",
       "      <td>6</td>\n",
       "      <td>1973</td>\n",
       "      <td>Graduation</td>\n",
       "      <td>Married</td>\n",
       "      <td>31814.0</td>\n",
       "      <td>1</td>\n",
       "      <td>0</td>\n",
       "      <td>2013-09-02</td>\n",
       "      <td>73</td>\n",
       "      <td>2</td>\n",
       "      <td>...</td>\n",
       "      <td>0</td>\n",
       "      <td>0</td>\n",
       "      <td>1</td>\n",
       "      <td>0</td>\n",
       "      <td>0</td>\n",
       "      <td>0</td>\n",
       "      <td>0</td>\n",
       "      <td>1</td>\n",
       "      <td>0</td>\n",
       "      <td>0</td>\n",
       "    </tr>\n",
       "    <tr>\n",
       "      <th>7</th>\n",
       "      <td>7</td>\n",
       "      <td>1957</td>\n",
       "      <td>Graduation</td>\n",
       "      <td>Single</td>\n",
       "      <td>58138.0</td>\n",
       "      <td>0</td>\n",
       "      <td>0</td>\n",
       "      <td>2012-04-09</td>\n",
       "      <td>58</td>\n",
       "      <td>3</td>\n",
       "      <td>...</td>\n",
       "      <td>0</td>\n",
       "      <td>0</td>\n",
       "      <td>0</td>\n",
       "      <td>0</td>\n",
       "      <td>0</td>\n",
       "      <td>0</td>\n",
       "      <td>0</td>\n",
       "      <td>0</td>\n",
       "      <td>0</td>\n",
       "      <td>0</td>\n",
       "    </tr>\n",
       "    <tr>\n",
       "      <th>8</th>\n",
       "      <td>8</td>\n",
       "      <td>1977</td>\n",
       "      <td>Graduation</td>\n",
       "      <td>Married</td>\n",
       "      <td>72117.0</td>\n",
       "      <td>0</td>\n",
       "      <td>1</td>\n",
       "      <td>2013-08-20</td>\n",
       "      <td>34</td>\n",
       "      <td>1</td>\n",
       "      <td>...</td>\n",
       "      <td>0</td>\n",
       "      <td>0</td>\n",
       "      <td>1</td>\n",
       "      <td>0</td>\n",
       "      <td>0</td>\n",
       "      <td>0</td>\n",
       "      <td>0</td>\n",
       "      <td>1</td>\n",
       "      <td>0</td>\n",
       "      <td>0</td>\n",
       "    </tr>\n",
       "    <tr>\n",
       "      <th>9</th>\n",
       "      <td>9</td>\n",
       "      <td>1975</td>\n",
       "      <td>Master</td>\n",
       "      <td>Together</td>\n",
       "      <td>17459.0</td>\n",
       "      <td>1</td>\n",
       "      <td>0</td>\n",
       "      <td>2013-09-19</td>\n",
       "      <td>12</td>\n",
       "      <td>3</td>\n",
       "      <td>...</td>\n",
       "      <td>0</td>\n",
       "      <td>0</td>\n",
       "      <td>1</td>\n",
       "      <td>0</td>\n",
       "      <td>0</td>\n",
       "      <td>0</td>\n",
       "      <td>0</td>\n",
       "      <td>1</td>\n",
       "      <td>0</td>\n",
       "      <td>0</td>\n",
       "    </tr>\n",
       "  </tbody>\n",
       "</table>\n",
       "<p>10 rows × 49 columns</p>\n",
       "</div>"
      ],
      "text/plain": [
       "   id  birth         edu  maritial   income  kid  teen     dt_cus  recency  \\\n",
       "0   0   1979  Graduation    Single  57537.0    1     0 2013-10-06       83   \n",
       "1   1   1955  Graduation  Together  65748.0    0     1 2013-04-15       58   \n",
       "2   2   1984  Graduation   Married  55434.0    1     0 2013-05-10       21   \n",
       "3   3   1960  Graduation   Married  67716.0    0     1 2013-10-01        8   \n",
       "4   4   1976  Graduation  Together  85606.0    0     1 2012-12-11       89   \n",
       "5   5   1975  Graduation     Widow  58330.0    0     1 2013-12-25       87   \n",
       "6   6   1973  Graduation   Married  31814.0    1     0 2013-09-02       73   \n",
       "7   7   1957  Graduation    Single  58138.0    0     0 2012-04-09       58   \n",
       "8   8   1977  Graduation   Married  72117.0    0     1 2013-08-20       34   \n",
       "9   9   1975      Master  Together  17459.0    1     0 2013-09-19       12   \n",
       "\n",
       "   sales  ...  maritial_YOLO  birth_level_1960년대 출생  birth_level_1970년대 출생  \\\n",
       "0      4  ...              0                      0                      1   \n",
       "1      2  ...              0                      0                      0   \n",
       "2      3  ...              0                      0                      0   \n",
       "3      4  ...              0                      1                      0   \n",
       "4      2  ...              0                      0                      1   \n",
       "5      1  ...              0                      0                      1   \n",
       "6      2  ...              0                      0                      1   \n",
       "7      3  ...              0                      0                      0   \n",
       "8      1  ...              0                      0                      1   \n",
       "9      3  ...              0                      0                      1   \n",
       "\n",
       "   birth_level_1980년대 출생  birth_level_others  dt_group_2012_half2  \\\n",
       "0                      0                   0                    0   \n",
       "1                      0                   0                    0   \n",
       "2                      1                   0                    0   \n",
       "3                      0                   0                    0   \n",
       "4                      0                   0                    1   \n",
       "5                      0                   0                    0   \n",
       "6                      0                   0                    0   \n",
       "7                      0                   0                    0   \n",
       "8                      0                   0                    0   \n",
       "9                      0                   0                    0   \n",
       "\n",
       "   dt_group_2013_half1  dt_group_2013_half2  dt_group_2014_half1  \\\n",
       "0                    0                    1                    0   \n",
       "1                    1                    0                    0   \n",
       "2                    1                    0                    0   \n",
       "3                    0                    1                    0   \n",
       "4                    0                    0                    0   \n",
       "5                    0                    1                    0   \n",
       "6                    0                    1                    0   \n",
       "7                    0                    0                    0   \n",
       "8                    0                    1                    0   \n",
       "9                    0                    1                    0   \n",
       "\n",
       "   dt_group_2014_half2  \n",
       "0                    0  \n",
       "1                    0  \n",
       "2                    0  \n",
       "3                    0  \n",
       "4                    0  \n",
       "5                    0  \n",
       "6                    0  \n",
       "7                    0  \n",
       "8                    0  \n",
       "9                    0  \n",
       "\n",
       "[10 rows x 49 columns]"
      ]
     },
     "execution_count": 128,
     "metadata": {},
     "output_type": "execute_result"
    }
   ],
   "source": [
    "tt_dum = pd.get_dummies(tt[['cmp1','cmp3','cmp4','cmp5','response','edu','maritial','birth_level','dt_group','complain']],drop_first = True)\n",
    "ttt = pd.concat([tt,tt_dum],axis = 1)\n",
    "ttt.head(10)"
   ]
  },
  {
   "cell_type": "code",
   "execution_count": 129,
   "metadata": {},
   "outputs": [
    {
     "data": {
      "text/plain": [
       "(1108, 49)"
      ]
     },
     "execution_count": 129,
     "metadata": {},
     "output_type": "execute_result"
    }
   ],
   "source": [
    "ttt.shape"
   ]
  },
  {
   "cell_type": "code",
   "execution_count": 130,
   "metadata": {},
   "outputs": [],
   "source": [
    "ttt = ttt.drop(['id','birth','kid','teen','dt_cus','cmp2','birth_level','dt_group','maritial','edu','cmp1','cmp3','cmp4','cmp5','response','complain'], axis = 1 )"
   ]
  },
  {
   "cell_type": "code",
   "execution_count": 131,
   "metadata": {},
   "outputs": [
    {
     "data": {
      "text/plain": [
       "(1108, 27)"
      ]
     },
     "execution_count": 131,
     "metadata": {},
     "output_type": "execute_result"
    }
   ],
   "source": [
    "ttt.shape"
   ]
  },
  {
   "cell_type": "code",
   "execution_count": 132,
   "metadata": {},
   "outputs": [
    {
     "data": {
      "text/plain": [
       "RandomForestRegressor()"
      ]
     },
     "execution_count": 132,
     "metadata": {},
     "output_type": "execute_result"
    }
   ],
   "source": [
    "forest_reg.fit(train_data_X,train_data_Y)"
   ]
  },
  {
   "cell_type": "code",
   "execution_count": 137,
   "metadata": {},
   "outputs": [],
   "source": [
    "abcd = pd.DataFrame(forest_reg.predict(ttt))"
   ]
  },
  {
   "cell_type": "code",
   "execution_count": 138,
   "metadata": {},
   "outputs": [],
   "source": [
    "abcd.to_csv('C:\\\\Users\\\\user\\\\Desktop\\\\경진대회\\\\마켓 캠페인\\\\예측값.csv',sep = ',')"
   ]
  },
  {
   "cell_type": "code",
   "execution_count": null,
   "metadata": {},
   "outputs": [],
   "source": [
    "tree_mae = mean_absolute_error(,predd)\n",
    "print(f'mae:{tree_mae}')"
   ]
  }
 ],
 "metadata": {
  "kernelspec": {
   "display_name": "Python 3",
   "language": "python",
   "name": "python3"
  },
  "language_info": {
   "codemirror_mode": {
    "name": "ipython",
    "version": 3
   },
   "file_extension": ".py",
   "mimetype": "text/x-python",
   "name": "python",
   "nbconvert_exporter": "python",
   "pygments_lexer": "ipython3",
   "version": "3.8.3"
  }
 },
 "nbformat": 4,
 "nbformat_minor": 4
}
