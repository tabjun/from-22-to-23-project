{
 "cells": [
  {
   "cell_type": "code",
   "execution_count": 1,
   "metadata": {},
   "outputs": [],
   "source": [
    "import pandas as pd\n",
    "import numpy as np\n",
    "import os\n",
    "import matplotlib.pyplot as plt\n",
    "import seaborn as sns\n",
    "import statsmodels.api as sm"
   ]
  },
  {
   "cell_type": "markdown",
   "metadata": {},
   "source": [
    "##### SAS Data import"
   ]
  },
  {
   "cell_type": "code",
   "execution_count": 2,
   "metadata": {},
   "outputs": [
    {
     "name": "stdout",
     "output_type": "stream",
     "text": [
      "c:\\Users\\Owner\\Desktop\\윤태준\\고용패널\\고용패널 파이썬 분석\\2023_04_06_변수추가\n"
     ]
    }
   ],
   "source": [
    "print(os.getcwd())"
   ]
  },
  {
   "cell_type": "code",
   "execution_count": 3,
   "metadata": {},
   "outputs": [
    {
     "name": "stderr",
     "output_type": "stream",
     "text": [
      "c:\\Users\\Owner\\anaconda3\\envs\\'pannel'\\lib\\site-packages\\pandas\\core\\tools\\datetimes.py:557: RuntimeWarning: invalid value encountered in cast\n",
      "  arr, tz_parsed = tslib.array_with_unit_to_datetime(arg, unit, errors=errors)\n",
      "c:\\Users\\Owner\\anaconda3\\envs\\'pannel'\\lib\\site-packages\\pandas\\core\\tools\\datetimes.py:557: RuntimeWarning: invalid value encountered in cast\n",
      "  arr, tz_parsed = tslib.array_with_unit_to_datetime(arg, unit, errors=errors)\n",
      "c:\\Users\\Owner\\anaconda3\\envs\\'pannel'\\lib\\site-packages\\pandas\\core\\tools\\datetimes.py:557: RuntimeWarning: invalid value encountered in cast\n",
      "  arr, tz_parsed = tslib.array_with_unit_to_datetime(arg, unit, errors=errors)\n"
     ]
    },
    {
     "data": {
      "text/html": [
       "<div>\n",
       "<style scoped>\n",
       "    .dataframe tbody tr th:only-of-type {\n",
       "        vertical-align: middle;\n",
       "    }\n",
       "\n",
       "    .dataframe tbody tr th {\n",
       "        vertical-align: top;\n",
       "    }\n",
       "\n",
       "    .dataframe thead th {\n",
       "        text-align: right;\n",
       "    }\n",
       "</style>\n",
       "<table border=\"1\" class=\"dataframe\">\n",
       "  <thead>\n",
       "    <tr style=\"text-align: right;\">\n",
       "      <th></th>\n",
       "      <th>pid</th>\n",
       "      <th>majorcat</th>\n",
       "      <th>province</th>\n",
       "      <th>area</th>\n",
       "      <th>sex</th>\n",
       "      <th>age</th>\n",
       "      <th>a003</th>\n",
       "      <th>a010</th>\n",
       "      <th>a141</th>\n",
       "      <th>a144</th>\n",
       "      <th>...</th>\n",
       "      <th>p001G</th>\n",
       "      <th>provinceG</th>\n",
       "      <th>major_sameG</th>\n",
       "      <th>major_helpG</th>\n",
       "      <th>majorcatG</th>\n",
       "      <th>q015G</th>\n",
       "      <th>q016G</th>\n",
       "      <th>q017G</th>\n",
       "      <th>big_companyG</th>\n",
       "      <th>work_satiG</th>\n",
       "    </tr>\n",
       "  </thead>\n",
       "  <tbody>\n",
       "    <tr>\n",
       "      <th>0</th>\n",
       "      <td>100166.0</td>\n",
       "      <td>1.0</td>\n",
       "      <td>2.0</td>\n",
       "      <td>8.0</td>\n",
       "      <td>2.0</td>\n",
       "      <td>22.500000</td>\n",
       "      <td>NaN</td>\n",
       "      <td>NaN</td>\n",
       "      <td>NaN</td>\n",
       "      <td>NaN</td>\n",
       "      <td>...</td>\n",
       "      <td>1.0</td>\n",
       "      <td>1.0</td>\n",
       "      <td>2.0</td>\n",
       "      <td>2.0</td>\n",
       "      <td>1.0</td>\n",
       "      <td>1.0</td>\n",
       "      <td>3.0</td>\n",
       "      <td>3.0</td>\n",
       "      <td>2.0</td>\n",
       "      <td>3.0</td>\n",
       "    </tr>\n",
       "    <tr>\n",
       "      <th>1</th>\n",
       "      <td>100191.0</td>\n",
       "      <td>1.0</td>\n",
       "      <td>4.0</td>\n",
       "      <td>7.0</td>\n",
       "      <td>2.0</td>\n",
       "      <td>26.916667</td>\n",
       "      <td>NaN</td>\n",
       "      <td>NaN</td>\n",
       "      <td>NaN</td>\n",
       "      <td>NaN</td>\n",
       "      <td>...</td>\n",
       "      <td>1.0</td>\n",
       "      <td>2.0</td>\n",
       "      <td>2.0</td>\n",
       "      <td>3.0</td>\n",
       "      <td>1.0</td>\n",
       "      <td>2.0</td>\n",
       "      <td>3.0</td>\n",
       "      <td>3.0</td>\n",
       "      <td>2.0</td>\n",
       "      <td>2.0</td>\n",
       "    </tr>\n",
       "    <tr>\n",
       "      <th>2</th>\n",
       "      <td>100212.0</td>\n",
       "      <td>1.0</td>\n",
       "      <td>2.0</td>\n",
       "      <td>8.0</td>\n",
       "      <td>2.0</td>\n",
       "      <td>24.666667</td>\n",
       "      <td>NaN</td>\n",
       "      <td>NaN</td>\n",
       "      <td>NaN</td>\n",
       "      <td>NaN</td>\n",
       "      <td>...</td>\n",
       "      <td>1.0</td>\n",
       "      <td>1.0</td>\n",
       "      <td>1.0</td>\n",
       "      <td>1.0</td>\n",
       "      <td>1.0</td>\n",
       "      <td>2.0</td>\n",
       "      <td>2.0</td>\n",
       "      <td>2.0</td>\n",
       "      <td>NaN</td>\n",
       "      <td>2.0</td>\n",
       "    </tr>\n",
       "    <tr>\n",
       "      <th>3</th>\n",
       "      <td>100221.0</td>\n",
       "      <td>1.0</td>\n",
       "      <td>2.0</td>\n",
       "      <td>8.0</td>\n",
       "      <td>2.0</td>\n",
       "      <td>25.250000</td>\n",
       "      <td>NaN</td>\n",
       "      <td>NaN</td>\n",
       "      <td>NaN</td>\n",
       "      <td>NaN</td>\n",
       "      <td>...</td>\n",
       "      <td>1.0</td>\n",
       "      <td>1.0</td>\n",
       "      <td>1.0</td>\n",
       "      <td>2.0</td>\n",
       "      <td>1.0</td>\n",
       "      <td>3.0</td>\n",
       "      <td>3.0</td>\n",
       "      <td>3.0</td>\n",
       "      <td>2.0</td>\n",
       "      <td>2.0</td>\n",
       "    </tr>\n",
       "    <tr>\n",
       "      <th>4</th>\n",
       "      <td>100232.0</td>\n",
       "      <td>1.0</td>\n",
       "      <td>3.0</td>\n",
       "      <td>11.0</td>\n",
       "      <td>1.0</td>\n",
       "      <td>25.250000</td>\n",
       "      <td>2.0</td>\n",
       "      <td>9.0</td>\n",
       "      <td>3.0</td>\n",
       "      <td>2.0</td>\n",
       "      <td>...</td>\n",
       "      <td>1.0</td>\n",
       "      <td>2.0</td>\n",
       "      <td>1.0</td>\n",
       "      <td>1.0</td>\n",
       "      <td>1.0</td>\n",
       "      <td>3.0</td>\n",
       "      <td>3.0</td>\n",
       "      <td>3.0</td>\n",
       "      <td>1.0</td>\n",
       "      <td>2.0</td>\n",
       "    </tr>\n",
       "  </tbody>\n",
       "</table>\n",
       "<p>5 rows × 62 columns</p>\n",
       "</div>"
      ],
      "text/plain": [
       "        pid  majorcat  province  area  sex        age  a003  a010  a141  a144  \\\n",
       "0  100166.0       1.0       2.0   8.0  2.0  22.500000   NaN   NaN   NaN   NaN   \n",
       "1  100191.0       1.0       4.0   7.0  2.0  26.916667   NaN   NaN   NaN   NaN   \n",
       "2  100212.0       1.0       2.0   8.0  2.0  24.666667   NaN   NaN   NaN   NaN   \n",
       "3  100221.0       1.0       2.0   8.0  2.0  25.250000   NaN   NaN   NaN   NaN   \n",
       "4  100232.0       1.0       3.0  11.0  1.0  25.250000   2.0   9.0   3.0   2.0   \n",
       "\n",
       "   ...  p001G  provinceG  major_sameG  major_helpG  majorcatG  q015G  q016G  \\\n",
       "0  ...    1.0        1.0          2.0          2.0        1.0    1.0    3.0   \n",
       "1  ...    1.0        2.0          2.0          3.0        1.0    2.0    3.0   \n",
       "2  ...    1.0        1.0          1.0          1.0        1.0    2.0    2.0   \n",
       "3  ...    1.0        1.0          1.0          2.0        1.0    3.0    3.0   \n",
       "4  ...    1.0        2.0          1.0          1.0        1.0    3.0    3.0   \n",
       "\n",
       "   q017G  big_companyG  work_satiG  \n",
       "0    3.0           2.0         3.0  \n",
       "1    3.0           2.0         2.0  \n",
       "2    2.0           NaN         2.0  \n",
       "3    3.0           2.0         2.0  \n",
       "4    3.0           1.0         2.0  \n",
       "\n",
       "[5 rows x 62 columns]"
      ]
     },
     "execution_count": 3,
     "metadata": {},
     "output_type": "execute_result"
    }
   ],
   "source": [
    "df = pd.read_sas('data.sas7bdat', format='sas7bdat')\n",
    "df.head()"
   ]
  },
  {
   "cell_type": "code",
   "execution_count": 4,
   "metadata": {},
   "outputs": [
    {
     "data": {
      "text/plain": [
       "Index(['pid', 'majorcat', 'province', 'area', 'sex', 'age', 'a003', 'a010',\n",
       "       'a141', 'a144', 'a146', 'd016', 'd131', 'd134', 'd136', 'f073', 'f074',\n",
       "       'h001', 'q001', 'q015', 'q016', 'q017', 'p001', 'First_Work', 'year',\n",
       "       'Resign', 'a038', 'a039', 'a043', 'a045', 'g191a046', 'a048', 'a392',\n",
       "       'a140', 'd130', 'Admission', 'Graduation', 'Cur', 'Cur_Work_date',\n",
       "       'Start_Work1_date', 'End_Work1_date', 'Work_to_Cur', 'Start_to_End',\n",
       "       'FirstWorkPeriod', 'LongWork', 'LongWork2', 'major_same', 'major_help',\n",
       "       'big_company', 'work_sati', 'score', 'q001G', 'p001G', 'provinceG',\n",
       "       'major_sameG', 'major_helpG', 'majorcatG', 'q015G', 'q016G', 'q017G',\n",
       "       'big_companyG', 'work_satiG'],\n",
       "      dtype='object')"
      ]
     },
     "execution_count": 4,
     "metadata": {},
     "output_type": "execute_result"
    }
   ],
   "source": [
    "df.columns"
   ]
  },
  {
   "cell_type": "markdown",
   "metadata": {},
   "source": [
    "##### 변수 변환\n",
    "- 변수명 한글\n",
    "- 값 한글"
   ]
  },
  {
   "cell_type": "code",
   "execution_count": 5,
   "metadata": {},
   "outputs": [],
   "source": [
    "df_copy = df.copy()"
   ]
  },
  {
   "cell_type": "code",
   "execution_count": 6,
   "metadata": {},
   "outputs": [],
   "source": [
    "df_copy['나이'] = df_copy['age']\n",
    "df_copy['학점'] = df_copy['score']"
   ]
  },
  {
   "cell_type": "code",
   "execution_count": 7,
   "metadata": {},
   "outputs": [
    {
     "name": "stdout",
     "output_type": "stream",
     "text": [
      "변경 전 sex unique 및 counts\n",
      "1.0    2741\n",
      "2.0    3067\n",
      "Name: sex, dtype: int64\n",
      "\n",
      "\n",
      "변경 후 sex unique 및 counts\n",
      "여자    3067\n",
      "남자    2741\n",
      "Name: 성별, dtype: int64\n"
     ]
    }
   ],
   "source": [
    "# 성별 한글 변경\n",
    "df_copy['성별'] = df_copy['sex'].apply(lambda x: '남자' if x == 1 else '여자' if x==2 else x)\n",
    "print('변경 전 sex unique 및 counts')\n",
    "print(df_copy.sex.value_counts().sort_index())\n",
    "print('\\n')\n",
    "print('변경 후 sex unique 및 counts')\n",
    "print(df_copy.성별.value_counts())"
   ]
  },
  {
   "cell_type": "code",
   "execution_count": 8,
   "metadata": {},
   "outputs": [
    {
     "name": "stdout",
     "output_type": "stream",
     "text": [
      "변경 전 q001G unique 및 counts\n",
      "1.0     708\n",
      "2.0    1588\n",
      "3.0    3512\n",
      "Name: q001G, dtype: int64\n",
      "\n",
      "\n",
      "변경 후 건강상태 unique 및 counts\n",
      "건강하다      3512\n",
      "보통이다      1588\n",
      "건강하지않다     708\n",
      "Name: 건강상태, dtype: int64\n"
     ]
    }
   ],
   "source": [
    "# 건강상태 한글 변경\n",
    "df_copy['건강상태'] = df_copy['q001G'].apply(lambda x: '건강하지않다' if x == 1 else '보통이다' if x==2 else '건강하다' if x==3 else x)\n",
    "print('변경 전 q001G unique 및 counts')\n",
    "print(df_copy.q001G.value_counts().sort_index())\n",
    "print('\\n')\n",
    "print('변경 후 건강상태 unique 및 counts')\n",
    "print(df_copy.건강상태.value_counts())"
   ]
  },
  {
   "cell_type": "code",
   "execution_count": 9,
   "metadata": {},
   "outputs": [
    {
     "name": "stdout",
     "output_type": "stream",
     "text": [
      "변경 전 p001G unique 및 counts\n",
      "1.0    5694\n",
      "2.0     114\n",
      "Name: p001G, dtype: int64\n",
      "\n",
      "\n",
      "변경 후 결혼상태 unique 및 counts\n",
      "미혼    5694\n",
      "기혼     114\n",
      "Name: 결혼상태, dtype: int64\n"
     ]
    }
   ],
   "source": [
    "# 결혼상태 한글 변경\n",
    "df_copy['결혼상태'] = df_copy['p001G'].apply(lambda x: '미혼' if x == 1 else '기혼' if x==2 else x)\n",
    "print('변경 전 p001G unique 및 counts')\n",
    "print(df_copy.p001G.value_counts().sort_index())\n",
    "print('\\n')\n",
    "print('변경 후 결혼상태 unique 및 counts')\n",
    "print(df_copy.결혼상태.value_counts())"
   ]
  },
  {
   "cell_type": "code",
   "execution_count": 10,
   "metadata": {},
   "outputs": [
    {
     "name": "stdout",
     "output_type": "stream",
     "text": [
      "변경 전 provinceG unique 및 counts\n",
      "1.0    2586\n",
      "2.0    3222\n",
      "Name: provinceG, dtype: int64\n",
      "\n",
      "\n",
      "변경 후 대학지역 unique 및 counts\n",
      "비수도권    3222\n",
      "수도권     2586\n",
      "Name: 대학지역, dtype: int64\n"
     ]
    }
   ],
   "source": [
    "# 대학지역 한글 변경\n",
    "df_copy['대학지역'] = df_copy['provinceG'].apply(lambda x: '수도권' if x == 1 else '비수도권' if x==2 else x)\n",
    "print('변경 전 provinceG unique 및 counts')\n",
    "print(df_copy.provinceG.value_counts().sort_index())\n",
    "print('\\n')\n",
    "print('변경 후 대학지역 unique 및 counts')\n",
    "print(df_copy.대학지역.value_counts())"
   ]
  },
  {
   "cell_type": "code",
   "execution_count": 11,
   "metadata": {},
   "outputs": [
    {
     "name": "stdout",
     "output_type": "stream",
     "text": [
      "변경 전 major_sameG unique 및 counts\n",
      "1.0    2348\n",
      "2.0    1493\n",
      "3.0    1967\n",
      "Name: major_sameG, dtype: int64\n",
      "\n",
      "\n",
      "변경 후 전공일치 unique 및 counts\n",
      "맞지않다    2348\n",
      "잘맞다     1967\n",
      "보통이다    1493\n",
      "Name: 전공일치, dtype: int64\n"
     ]
    }
   ],
   "source": [
    "# 전공일치 한글 변경\n",
    "df_copy['전공일치'] = df_copy['major_sameG'].apply(lambda x: '맞지않다' if x == 1 else '보통이다' if x==2 else '잘맞다' if x==3 else x)\n",
    "print('변경 전 major_sameG unique 및 counts')\n",
    "print(df_copy.major_sameG.value_counts().sort_index())\n",
    "print('\\n')\n",
    "print('변경 후 전공일치 unique 및 counts')\n",
    "print(df_copy.전공일치.value_counts())"
   ]
  },
  {
   "cell_type": "code",
   "execution_count": 12,
   "metadata": {},
   "outputs": [
    {
     "name": "stdout",
     "output_type": "stream",
     "text": [
      "변경 전 majorcatG unique 및 counts\n",
      "1.0    2470\n",
      "2.0    2599\n",
      "3.0     739\n",
      "Name: majorcatG, dtype: int64\n",
      "\n",
      "\n",
      "변경 후 본전공 unique 및 counts\n",
      "이공계    2599\n",
      "문과     2470\n",
      "예체능     739\n",
      "Name: 본전공, dtype: int64\n"
     ]
    }
   ],
   "source": [
    "# 본전공 한글 변경\n",
    "df_copy['본전공'] = df_copy['majorcatG'].apply(lambda x: '문과' if x == 1 else '이공계' if x==2 else '예체능' if x==3 else x)\n",
    "print('변경 전 majorcatG unique 및 counts')\n",
    "print(df_copy.majorcatG.value_counts().sort_index())\n",
    "print('\\n')\n",
    "print('변경 후 본전공 unique 및 counts')\n",
    "print(df_copy.본전공.value_counts())"
   ]
  },
  {
   "cell_type": "code",
   "execution_count": 13,
   "metadata": {},
   "outputs": [
    {
     "name": "stdout",
     "output_type": "stream",
     "text": [
      "변경 전 h001 unique 및 counts\n",
      "1.0    3529\n",
      "2.0    2279\n",
      "Name: h001, dtype: int64\n",
      "\n",
      "\n",
      "변경 후 재학중일자리경험 unique 및 counts\n",
      "있다    3529\n",
      "없다    2279\n",
      "Name: 재학중일자리경험, dtype: int64\n"
     ]
    }
   ],
   "source": [
    "# 전공일치 한글 변경\n",
    "df_copy['재학중일자리경험'] = df_copy['h001'].apply(lambda x: '있다' if x == 1 else '없다' if x==2 else x)\n",
    "print('변경 전 h001 unique 및 counts')\n",
    "print(df_copy.h001.value_counts().sort_index())\n",
    "print('\\n')\n",
    "print('변경 후 재학중일자리경험 unique 및 counts')\n",
    "print(df_copy.재학중일자리경험.value_counts())"
   ]
  },
  {
   "cell_type": "code",
   "execution_count": 14,
   "metadata": {},
   "outputs": [
    {
     "name": "stdout",
     "output_type": "stream",
     "text": [
      "변경 전 q015G unique 및 counts\n",
      "1.0     869\n",
      "2.0    1113\n",
      "3.0    3826\n",
      "Name: q015G, dtype: int64\n",
      "\n",
      "\n",
      "변경 후 삶의만족도_개인 unique 및 counts\n",
      "그렇다      3826\n",
      "보통이다     1113\n",
      "그렇지않다     869\n",
      "Name: 삶의만족도_개인, dtype: int64\n"
     ]
    }
   ],
   "source": [
    "# 삶의만족도 한글 변경\n",
    "df_copy['삶의만족도_개인'] = df_copy['q015G'].apply(lambda x: '그렇지않다' if x == 1 else '보통이다' if x==2 else '그렇다' if x==3 else x)\n",
    "print('변경 전 q015G unique 및 counts')\n",
    "print(df_copy.q015G.value_counts().sort_index())\n",
    "print('\\n')\n",
    "print('변경 후 삶의만족도_개인 unique 및 counts')\n",
    "print(df_copy['삶의만족도_개인'].value_counts())"
   ]
  },
  {
   "cell_type": "code",
   "execution_count": 15,
   "metadata": {},
   "outputs": [
    {
     "name": "stdout",
     "output_type": "stream",
     "text": [
      "변경 전 q016G unique 및 counts\n",
      "1.0     583\n",
      "2.0    1065\n",
      "3.0    4160\n",
      "Name: q016G, dtype: int64\n",
      "\n",
      "\n",
      "변경 후 삶의만족도_관계 unique 및 counts\n",
      "그렇다      4160\n",
      "보통이다     1065\n",
      "그렇지않다     583\n",
      "Name: 삶의만족도_관계, dtype: int64\n"
     ]
    }
   ],
   "source": [
    "# 삶의만족도 한글 변경\n",
    "df_copy['삶의만족도_관계'] = df_copy['q016G'].apply(lambda x: '그렇지않다' if x == 1 else '보통이다' if x==2 else '그렇다' if x==3 else x)\n",
    "print('변경 전 q016G unique 및 counts')\n",
    "print(df_copy.q016G.value_counts().sort_index())\n",
    "print('\\n')\n",
    "print('변경 후 삶의만족도_관계 unique 및 counts')\n",
    "print(df_copy['삶의만족도_관계'].value_counts())"
   ]
  },
  {
   "cell_type": "code",
   "execution_count": 16,
   "metadata": {},
   "outputs": [
    {
     "name": "stdout",
     "output_type": "stream",
     "text": [
      "변경 전 q017G unique 및 counts\n",
      "1.0     687\n",
      "2.0    1369\n",
      "3.0    3752\n",
      "Name: q017G, dtype: int64\n",
      "\n",
      "\n",
      "변경 후 삶의만족도_소속집단 unique 및 counts\n",
      "그렇다      3752\n",
      "보통이다     1369\n",
      "그렇지않다     687\n",
      "Name: 삶의만족도_소속집단, dtype: int64\n"
     ]
    }
   ],
   "source": [
    "# 삶의만족도 한글 변경\n",
    "df_copy['삶의만족도_소속집단'] = df_copy['q017G'].apply(lambda x: '그렇지않다' if x == 1 else '보통이다' if x==2 else '그렇다' if x==3 else x)\n",
    "print('변경 전 q017G unique 및 counts')\n",
    "print(df_copy.q017G.value_counts().sort_index())\n",
    "print('\\n')\n",
    "print('변경 후 삶의만족도_소속집단 unique 및 counts')\n",
    "print(df_copy['삶의만족도_소속집단'].value_counts())"
   ]
  },
  {
   "cell_type": "code",
   "execution_count": 17,
   "metadata": {},
   "outputs": [
    {
     "name": "stdout",
     "output_type": "stream",
     "text": [
      "변경 전 big_companyG unique 및 counts\n",
      "1.0     913\n",
      "2.0    3585\n",
      "Name: big_companyG, dtype: int64\n",
      "\n",
      "\n",
      "변경 후 종사자수 unique 및 counts\n",
      "1000명미만    3585\n",
      "1000명이상     913\n",
      "Name: 종사자수, dtype: int64\n"
     ]
    }
   ],
   "source": [
    "# 종사자수 한글 변경\n",
    "df_copy['종사자수'] = df_copy['big_companyG'].apply(lambda x: '1000명이상' if x == 1 else '1000명미만' if x==2 else x)\n",
    "print('변경 전 big_companyG unique 및 counts')\n",
    "print(df_copy.big_companyG.value_counts().sort_index())\n",
    "print('\\n')\n",
    "print('변경 후 종사자수 unique 및 counts')\n",
    "print(df_copy['종사자수'].value_counts())"
   ]
  },
  {
   "cell_type": "code",
   "execution_count": 18,
   "metadata": {},
   "outputs": [
    {
     "name": "stdout",
     "output_type": "stream",
     "text": [
      "변경 전 work_satiG unique 및 counts\n",
      "1.0    1036\n",
      "2.0    2157\n",
      "3.0    2615\n",
      "Name: work_satiG, dtype: int64\n",
      "\n",
      "\n",
      "변경 후 업무만족도 unique 및 counts\n",
      "그렇다      2615\n",
      "보통이다     2157\n",
      "그렇지않다    1036\n",
      "Name: 업무만족도, dtype: int64\n"
     ]
    }
   ],
   "source": [
    "# 업무만족도 한글 변경\n",
    "df_copy['업무만족도'] = df_copy['work_satiG'].apply(lambda x: '그렇지않다' if x == 1 else '보통이다' if x==2 else '그렇다' if x==3 else x)\n",
    "print('변경 전 work_satiG unique 및 counts')\n",
    "print(df_copy.work_satiG.value_counts().sort_index())\n",
    "print('\\n')\n",
    "print('변경 후 업무만족도 unique 및 counts')\n",
    "print(df_copy['업무만족도'].value_counts())"
   ]
  },
  {
   "cell_type": "code",
   "execution_count": 19,
   "metadata": {},
   "outputs": [
    {
     "data": {
      "text/plain": [
       "Index(['pid', 'majorcat', 'province', 'area', 'sex', 'age', 'a003', 'a010',\n",
       "       'a141', 'a144', 'a146', 'd016', 'd131', 'd134', 'd136', 'f073', 'f074',\n",
       "       'h001', 'q001', 'q015', 'q016', 'q017', 'p001', 'First_Work', 'year',\n",
       "       'Resign', 'a038', 'a039', 'a043', 'a045', 'g191a046', 'a048', 'a392',\n",
       "       'a140', 'd130', 'Admission', 'Graduation', 'Cur', 'Cur_Work_date',\n",
       "       'Start_Work1_date', 'End_Work1_date', 'Work_to_Cur', 'Start_to_End',\n",
       "       'FirstWorkPeriod', 'LongWork', 'LongWork2', 'major_same', 'major_help',\n",
       "       'big_company', 'work_sati', 'score', 'q001G', 'p001G', 'provinceG',\n",
       "       'major_sameG', 'major_helpG', 'majorcatG', 'q015G', 'q016G', 'q017G',\n",
       "       'big_companyG', 'work_satiG', '나이', '학점', '성별', '건강상태', '결혼상태', '대학지역',\n",
       "       '전공일치', '본전공', '재학중일자리경험', '삶의만족도_개인', '삶의만족도_관계', '삶의만족도_소속집단', '종사자수',\n",
       "       '업무만족도'],\n",
       "      dtype='object')"
      ]
     },
     "execution_count": 19,
     "metadata": {},
     "output_type": "execute_result"
    }
   ],
   "source": [
    "df_copy.columns"
   ]
  },
  {
   "cell_type": "code",
   "execution_count": 20,
   "metadata": {},
   "outputs": [],
   "source": [
    "df_copy.to_csv('2023_04_06_data_step.csv', index=False, encoding='cp949')"
   ]
  }
 ],
 "metadata": {
  "kernelspec": {
   "display_name": "'pannel'",
   "language": "python",
   "name": "python3"
  },
  "language_info": {
   "codemirror_mode": {
    "name": "ipython",
    "version": 3
   },
   "file_extension": ".py",
   "mimetype": "text/x-python",
   "name": "python",
   "nbconvert_exporter": "python",
   "pygments_lexer": "ipython3",
   "version": "3.10.0"
  },
  "orig_nbformat": 4
 },
 "nbformat": 4,
 "nbformat_minor": 2
}
