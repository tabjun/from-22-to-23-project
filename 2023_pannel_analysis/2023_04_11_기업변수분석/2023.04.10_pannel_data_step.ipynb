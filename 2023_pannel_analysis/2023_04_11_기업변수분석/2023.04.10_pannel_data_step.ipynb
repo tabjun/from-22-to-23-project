{
 "cells": [
  {
   "cell_type": "code",
   "execution_count": 1,
   "metadata": {},
   "outputs": [],
   "source": [
    "import pandas as pd\n",
    "import numpy as np\n",
    "import os\n",
    "import matplotlib.pyplot as plt\n",
    "import seaborn as sns\n",
    "import statsmodels.api as sm"
   ]
  },
  {
   "cell_type": "markdown",
   "metadata": {},
   "source": [
    "##### SAS Data import"
   ]
  },
  {
   "cell_type": "code",
   "execution_count": 2,
   "metadata": {},
   "outputs": [
    {
     "name": "stdout",
     "output_type": "stream",
     "text": [
      "c:\\Users\\Owner\\Desktop\\윤태준\\고용패널\\고용패널 파이썬 분석\\2023_04_06_변수추가\\변수추가\n"
     ]
    }
   ],
   "source": [
    "print(os.getcwd())"
   ]
  },
  {
   "cell_type": "code",
   "execution_count": 3,
   "metadata": {},
   "outputs": [
    {
     "name": "stderr",
     "output_type": "stream",
     "text": [
      "c:\\Users\\Owner\\anaconda3\\envs\\'pannel'\\lib\\site-packages\\pandas\\core\\tools\\datetimes.py:557: RuntimeWarning: invalid value encountered in cast\n",
      "  arr, tz_parsed = tslib.array_with_unit_to_datetime(arg, unit, errors=errors)\n",
      "c:\\Users\\Owner\\anaconda3\\envs\\'pannel'\\lib\\site-packages\\pandas\\core\\tools\\datetimes.py:557: RuntimeWarning: invalid value encountered in cast\n",
      "  arr, tz_parsed = tslib.array_with_unit_to_datetime(arg, unit, errors=errors)\n",
      "c:\\Users\\Owner\\anaconda3\\envs\\'pannel'\\lib\\site-packages\\pandas\\core\\tools\\datetimes.py:557: RuntimeWarning: invalid value encountered in cast\n",
      "  arr, tz_parsed = tslib.array_with_unit_to_datetime(arg, unit, errors=errors)\n"
     ]
    },
    {
     "data": {
      "text/html": [
       "<div>\n",
       "<style scoped>\n",
       "    .dataframe tbody tr th:only-of-type {\n",
       "        vertical-align: middle;\n",
       "    }\n",
       "\n",
       "    .dataframe tbody tr th {\n",
       "        vertical-align: top;\n",
       "    }\n",
       "\n",
       "    .dataframe thead th {\n",
       "        text-align: right;\n",
       "    }\n",
       "</style>\n",
       "<table border=\"1\" class=\"dataframe\">\n",
       "  <thead>\n",
       "    <tr style=\"text-align: right;\">\n",
       "      <th></th>\n",
       "      <th>pid</th>\n",
       "      <th>majorcat</th>\n",
       "      <th>province</th>\n",
       "      <th>area</th>\n",
       "      <th>sex</th>\n",
       "      <th>age</th>\n",
       "      <th>a003</th>\n",
       "      <th>a010</th>\n",
       "      <th>a038</th>\n",
       "      <th>a039</th>\n",
       "      <th>...</th>\n",
       "      <th>major_helpG</th>\n",
       "      <th>majorcatG</th>\n",
       "      <th>q015G</th>\n",
       "      <th>q016G</th>\n",
       "      <th>q017G</th>\n",
       "      <th>big_companyG</th>\n",
       "      <th>work_satiG</th>\n",
       "      <th>company_satiG</th>\n",
       "      <th>supply</th>\n",
       "      <th>insurance</th>\n",
       "    </tr>\n",
       "  </thead>\n",
       "  <tbody>\n",
       "    <tr>\n",
       "      <th>0</th>\n",
       "      <td>100166.0</td>\n",
       "      <td>1.0</td>\n",
       "      <td>2.0</td>\n",
       "      <td>8.0</td>\n",
       "      <td>2.0</td>\n",
       "      <td>22.500000</td>\n",
       "      <td>NaN</td>\n",
       "      <td>NaN</td>\n",
       "      <td>NaN</td>\n",
       "      <td>NaN</td>\n",
       "      <td>...</td>\n",
       "      <td>2.0</td>\n",
       "      <td>1.0</td>\n",
       "      <td>1.0</td>\n",
       "      <td>3.0</td>\n",
       "      <td>3.0</td>\n",
       "      <td>2.0</td>\n",
       "      <td>3.0</td>\n",
       "      <td>3.0</td>\n",
       "      <td>1.0</td>\n",
       "      <td>1.0</td>\n",
       "    </tr>\n",
       "    <tr>\n",
       "      <th>1</th>\n",
       "      <td>100191.0</td>\n",
       "      <td>1.0</td>\n",
       "      <td>4.0</td>\n",
       "      <td>7.0</td>\n",
       "      <td>2.0</td>\n",
       "      <td>26.916667</td>\n",
       "      <td>NaN</td>\n",
       "      <td>NaN</td>\n",
       "      <td>NaN</td>\n",
       "      <td>NaN</td>\n",
       "      <td>...</td>\n",
       "      <td>3.0</td>\n",
       "      <td>1.0</td>\n",
       "      <td>2.0</td>\n",
       "      <td>3.0</td>\n",
       "      <td>3.0</td>\n",
       "      <td>2.0</td>\n",
       "      <td>2.0</td>\n",
       "      <td>2.0</td>\n",
       "      <td>0.0</td>\n",
       "      <td>0.0</td>\n",
       "    </tr>\n",
       "    <tr>\n",
       "      <th>2</th>\n",
       "      <td>100212.0</td>\n",
       "      <td>1.0</td>\n",
       "      <td>2.0</td>\n",
       "      <td>8.0</td>\n",
       "      <td>2.0</td>\n",
       "      <td>24.666667</td>\n",
       "      <td>NaN</td>\n",
       "      <td>NaN</td>\n",
       "      <td>NaN</td>\n",
       "      <td>NaN</td>\n",
       "      <td>...</td>\n",
       "      <td>1.0</td>\n",
       "      <td>1.0</td>\n",
       "      <td>2.0</td>\n",
       "      <td>2.0</td>\n",
       "      <td>2.0</td>\n",
       "      <td>NaN</td>\n",
       "      <td>2.0</td>\n",
       "      <td>2.0</td>\n",
       "      <td>0.0</td>\n",
       "      <td>0.0</td>\n",
       "    </tr>\n",
       "    <tr>\n",
       "      <th>3</th>\n",
       "      <td>100221.0</td>\n",
       "      <td>1.0</td>\n",
       "      <td>2.0</td>\n",
       "      <td>8.0</td>\n",
       "      <td>2.0</td>\n",
       "      <td>25.250000</td>\n",
       "      <td>NaN</td>\n",
       "      <td>NaN</td>\n",
       "      <td>NaN</td>\n",
       "      <td>NaN</td>\n",
       "      <td>...</td>\n",
       "      <td>2.0</td>\n",
       "      <td>1.0</td>\n",
       "      <td>3.0</td>\n",
       "      <td>3.0</td>\n",
       "      <td>3.0</td>\n",
       "      <td>2.0</td>\n",
       "      <td>2.0</td>\n",
       "      <td>2.0</td>\n",
       "      <td>0.0</td>\n",
       "      <td>0.0</td>\n",
       "    </tr>\n",
       "    <tr>\n",
       "      <th>4</th>\n",
       "      <td>100232.0</td>\n",
       "      <td>1.0</td>\n",
       "      <td>3.0</td>\n",
       "      <td>11.0</td>\n",
       "      <td>1.0</td>\n",
       "      <td>25.250000</td>\n",
       "      <td>2.0</td>\n",
       "      <td>9.0</td>\n",
       "      <td>1.0</td>\n",
       "      <td>1.0</td>\n",
       "      <td>...</td>\n",
       "      <td>1.0</td>\n",
       "      <td>1.0</td>\n",
       "      <td>3.0</td>\n",
       "      <td>3.0</td>\n",
       "      <td>3.0</td>\n",
       "      <td>1.0</td>\n",
       "      <td>2.0</td>\n",
       "      <td>2.0</td>\n",
       "      <td>0.0</td>\n",
       "      <td>1.0</td>\n",
       "    </tr>\n",
       "  </tbody>\n",
       "</table>\n",
       "<p>5 rows × 101 columns</p>\n",
       "</div>"
      ],
      "text/plain": [
       "        pid  majorcat  province  area  sex        age  a003  a010  a038  a039  \\\n",
       "0  100166.0       1.0       2.0   8.0  2.0  22.500000   NaN   NaN   NaN   NaN   \n",
       "1  100191.0       1.0       4.0   7.0  2.0  26.916667   NaN   NaN   NaN   NaN   \n",
       "2  100212.0       1.0       2.0   8.0  2.0  24.666667   NaN   NaN   NaN   NaN   \n",
       "3  100221.0       1.0       2.0   8.0  2.0  25.250000   NaN   NaN   NaN   NaN   \n",
       "4  100232.0       1.0       3.0  11.0  1.0  25.250000   2.0   9.0   1.0   1.0   \n",
       "\n",
       "   ...  major_helpG  majorcatG  q015G  q016G  q017G  big_companyG  work_satiG  \\\n",
       "0  ...          2.0        1.0    1.0    3.0    3.0           2.0         3.0   \n",
       "1  ...          3.0        1.0    2.0    3.0    3.0           2.0         2.0   \n",
       "2  ...          1.0        1.0    2.0    2.0    2.0           NaN         2.0   \n",
       "3  ...          2.0        1.0    3.0    3.0    3.0           2.0         2.0   \n",
       "4  ...          1.0        1.0    3.0    3.0    3.0           1.0         2.0   \n",
       "\n",
       "   company_satiG  supply  insurance  \n",
       "0            3.0     1.0        1.0  \n",
       "1            2.0     0.0        0.0  \n",
       "2            2.0     0.0        0.0  \n",
       "3            2.0     0.0        0.0  \n",
       "4            2.0     0.0        1.0  \n",
       "\n",
       "[5 rows x 101 columns]"
      ]
     },
     "execution_count": 3,
     "metadata": {},
     "output_type": "execute_result"
    }
   ],
   "source": [
    "df = pd.read_sas('data.sas7bdat', format='sas7bdat')\n",
    "df.head()"
   ]
  },
  {
   "cell_type": "code",
   "execution_count": 4,
   "metadata": {},
   "outputs": [
    {
     "data": {
      "text/plain": [
       "Index(['pid', 'majorcat', 'province', 'area', 'sex', 'age', 'a003', 'a010',\n",
       "       'a038', 'a039',\n",
       "       ...\n",
       "       'major_helpG', 'majorcatG', 'q015G', 'q016G', 'q017G', 'big_companyG',\n",
       "       'work_satiG', 'company_satiG', 'supply', 'insurance'],\n",
       "      dtype='object', length=101)"
      ]
     },
     "execution_count": 4,
     "metadata": {},
     "output_type": "execute_result"
    }
   ],
   "source": [
    "df.columns"
   ]
  },
  {
   "cell_type": "markdown",
   "metadata": {},
   "source": [
    "##### 변수 변환\n",
    "- 변수명 한글\n",
    "- 값 한글"
   ]
  },
  {
   "cell_type": "code",
   "execution_count": 5,
   "metadata": {},
   "outputs": [],
   "source": [
    "df_copy = df.copy()"
   ]
  },
  {
   "cell_type": "code",
   "execution_count": 6,
   "metadata": {},
   "outputs": [],
   "source": [
    "df_copy['주당근로일'] = df_copy['work_day']\n",
    "df_copy['주당근로시간'] = df_copy['work_time']"
   ]
  },
  {
   "cell_type": "code",
   "execution_count": 8,
   "metadata": {},
   "outputs": [
    {
     "name": "stdout",
     "output_type": "stream",
     "text": [
      "변경 전 supply unique 및 counts\n",
      "0.0    4547\n",
      "1.0    1261\n",
      "Name: supply, dtype: int64\n",
      "\n",
      "\n",
      "변경 후 supply unique 및 counts\n",
      "제공하지않는다    4547\n",
      "제공한다       1261\n",
      "Name: 직장에서의복리후생제공여부, dtype: int64\n"
     ]
    }
   ],
   "source": [
    "# 직장에서의복리후생제공여부 한글 변경\n",
    "df_copy['직장에서의복리후생제공여부'] = df_copy['supply'].apply(lambda x: '제공하지않는다' if x == 0 else '제공한다' if x==1 else x)\n",
    "print('변경 전 supply unique 및 counts')\n",
    "print(df_copy.supply.value_counts().sort_index())\n",
    "print('\\n')\n",
    "print('변경 후 supply unique 및 counts')\n",
    "print(df_copy.직장에서의복리후생제공여부.value_counts())"
   ]
  },
  {
   "cell_type": "code",
   "execution_count": 10,
   "metadata": {},
   "outputs": [
    {
     "name": "stdout",
     "output_type": "stream",
     "text": [
      "변경 전 insurance unique 및 counts\n",
      "0.0    2428\n",
      "1.0    3380\n",
      "Name: insurance, dtype: int64\n",
      "\n",
      "\n",
      "변경 후 보험가입여부 unique 및 counts\n",
      "가입했다      3380\n",
      "가입하지않음    2428\n",
      "Name: 보험가입여부, dtype: int64\n"
     ]
    }
   ],
   "source": [
    "# 보험가입여부 한글 변경\n",
    "df_copy['보험가입여부'] = df_copy['insurance'].apply(lambda x: '가입하지않음' if x == 0 else '가입했다' if x==1 else x)\n",
    "print('변경 전 insurance unique 및 counts')\n",
    "print(df_copy.insurance.value_counts().sort_index())\n",
    "print('\\n')\n",
    "print('변경 후 보험가입여부 unique 및 counts')\n",
    "print(df_copy.보험가입여부.value_counts())"
   ]
  },
  {
   "cell_type": "code",
   "execution_count": 11,
   "metadata": {},
   "outputs": [
    {
     "name": "stdout",
     "output_type": "stream",
     "text": [
      "변경 전 company_satiG unique 및 counts\n",
      "1.0    1226\n",
      "2.0    2136\n",
      "3.0    2446\n",
      "Name: company_satiG, dtype: int64\n",
      "\n",
      "\n",
      "변경 후 직장만족도 unique 및 counts\n",
      "그렇다      2446\n",
      "보통이다     2136\n",
      "그렇지않다    1226\n",
      "Name: 직장만족도, dtype: int64\n"
     ]
    }
   ],
   "source": [
    "# 직장만족도 한글 변경\n",
    "df_copy['직장만족도'] = df_copy['company_satiG'].apply(lambda x: '그렇지않다' if x == 1 else '보통이다' if x==2 else '그렇다' if x==3 else x)\n",
    "print('변경 전 company_satiG unique 및 counts')\n",
    "print(df_copy.company_satiG.value_counts().sort_index())\n",
    "print('\\n')\n",
    "print('변경 후 직장만족도 unique 및 counts')\n",
    "print(df_copy.직장만족도.value_counts())"
   ]
  },
  {
   "cell_type": "code",
   "execution_count": 12,
   "metadata": {},
   "outputs": [
    {
     "data": {
      "text/plain": [
       "Index(['pid', 'majorcat', 'province', 'area', 'sex', 'age', 'a003', 'a010',\n",
       "       'a038', 'a039',\n",
       "       ...\n",
       "       'big_companyG', 'work_satiG', 'company_satiG', 'supply', 'insurance',\n",
       "       '주당근로일', '주당근로시간', '직장에서의복리후생제공여부', '보험가입여부', '직장만족도'],\n",
       "      dtype='object', length=106)"
      ]
     },
     "execution_count": 12,
     "metadata": {},
     "output_type": "execute_result"
    }
   ],
   "source": [
    "df_copy.columns"
   ]
  },
  {
   "cell_type": "code",
   "execution_count": 13,
   "metadata": {},
   "outputs": [],
   "source": [
    "df_copy.to_csv('2023_04_10_data_step.csv', index=False, encoding='cp949')"
   ]
  }
 ],
 "metadata": {
  "kernelspec": {
   "display_name": "'pannel'",
   "language": "python",
   "name": "python3"
  },
  "language_info": {
   "codemirror_mode": {
    "name": "ipython",
    "version": 3
   },
   "file_extension": ".py",
   "mimetype": "text/x-python",
   "name": "python",
   "nbconvert_exporter": "python",
   "pygments_lexer": "ipython3",
   "version": "3.10.0"
  },
  "orig_nbformat": 4
 },
 "nbformat": 4,
 "nbformat_minor": 2
}
