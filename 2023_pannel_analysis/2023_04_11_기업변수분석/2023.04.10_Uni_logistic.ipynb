{
 "cells": [
  {
   "cell_type": "code",
   "execution_count": 1,
   "metadata": {},
   "outputs": [],
   "source": [
    "import pandas as pd\n",
    "import numpy as np\n",
    "import os\n",
    "import matplotlib.pyplot as plt\n",
    "import seaborn as sns\n",
    "import statsmodels.api as sm"
   ]
  },
  {
   "cell_type": "markdown",
   "metadata": {},
   "source": [
    "##### SAS Data import"
   ]
  },
  {
   "cell_type": "code",
   "execution_count": 2,
   "metadata": {},
   "outputs": [
    {
     "name": "stdout",
     "output_type": "stream",
     "text": [
      "c:\\Users\\Owner\\Desktop\\윤태준\\고용패널\\고용패널 파이썬 분석\\2023_04_06_변수추가\\변수추가\n"
     ]
    }
   ],
   "source": [
    "print(os.getcwd())"
   ]
  },
  {
   "cell_type": "code",
   "execution_count": 3,
   "metadata": {},
   "outputs": [
    {
     "data": {
      "text/plain": [
       "Index(['pid', 'majorcat', 'province', 'area', 'sex', 'age', 'a003', 'a010',\n",
       "       'a038', 'a039',\n",
       "       ...\n",
       "       'big_companyG', 'work_satiG', 'company_satiG', 'supply', 'insurance',\n",
       "       '주당근로일', '주당근로시간', '직장에서의복리후생제공여부', '보험가입여부', '직장만족도'],\n",
       "      dtype='object', length=106)"
      ]
     },
     "execution_count": 3,
     "metadata": {},
     "output_type": "execute_result"
    }
   ],
   "source": [
    "df = pd.read_csv('2023_04_10_data_step.csv', encoding='cp949')\n",
    "df.columns"
   ]
  },
  {
   "cell_type": "code",
   "execution_count": 4,
   "metadata": {},
   "outputs": [],
   "source": [
    "df_1 = df.copy()"
   ]
  },
  {
   "attachments": {},
   "cell_type": "markdown",
   "metadata": {},
   "source": [
    "모델 Logistic Regression\n",
    "1. 단변량\n",
    "---------------------------------------------------\n",
    "- 근속 종속변수 : :LongWork, LongWork2가 존재\n",
    "    - LongWork2가 2년 이상 일한 사람 \n",
    "    - 2년 ~ 3년 사이 기간을 분석하기로 했으니 Target : LongWork2로 지정해서 사용"
   ]
  },
  {
   "cell_type": "markdown",
   "metadata": {},
   "source": [
    "##### 단변량"
   ]
  },
  {
   "cell_type": "code",
   "execution_count": null,
   "metadata": {},
   "outputs": [],
   "source": [
    "# 반복문으로 한번에, 장점: 편함, 단점: treatment를 지정할 수 없음.\n",
    "# for i in range(42,54):\n",
    "#     print(f'순서:{i+1}번째 변수')\n",
    "#     model = sm.Logit.from_formula('LongWork2 ~ df_1.iloc[:,i]', df_1).fit()\n",
    "#     print(f'독립변수 이름: {df_1.columns[i]}')\n",
    "#     print(model.summary())\n",
    "#     print('==================================Odds Ratio=========================================')\n",
    "\n",
    "# # 오즈비 계산(Confidence interval 포함)\n",
    "#     odds_ratios = pd.DataFrame(\n",
    "#         {\n",
    "#             \"OR\": model.params,\n",
    "#             \"Lower CI\": model.conf_int()[0],\n",
    "#             \"Upper CI\": model.conf_int()[1],\n",
    "#         }\n",
    "#     )\n",
    "#     odds_ratios = np.exp(odds_ratios)\n",
    "#     print(odds_ratios)\n",
    "#     print('\\n')"
   ]
  },
  {
   "cell_type": "code",
   "execution_count": 6,
   "metadata": {},
   "outputs": [
    {
     "name": "stdout",
     "output_type": "stream",
     "text": [
      "Optimization terminated successfully.\n",
      "         Current function value: 0.572725\n",
      "         Iterations 6\n"
     ]
    },
    {
     "data": {
      "text/html": [
       "<table class=\"simpletable\">\n",
       "<caption>Logit Regression Results</caption>\n",
       "<tr>\n",
       "  <th>Dep. Variable:</th>       <td>LongWork2</td>    <th>  No. Observations:  </th>  <td>  5808</td>  \n",
       "</tr>\n",
       "<tr>\n",
       "  <th>Model:</th>                 <td>Logit</td>      <th>  Df Residuals:      </th>  <td>  5806</td>  \n",
       "</tr>\n",
       "<tr>\n",
       "  <th>Method:</th>                 <td>MLE</td>       <th>  Df Model:          </th>  <td>     1</td>  \n",
       "</tr>\n",
       "<tr>\n",
       "  <th>Date:</th>            <td>Mon, 10 Apr 2023</td> <th>  Pseudo R-squ.:     </th>  <td>0.01275</td> \n",
       "</tr>\n",
       "<tr>\n",
       "  <th>Time:</th>                <td>17:29:20</td>     <th>  Log-Likelihood:    </th> <td> -3326.4</td> \n",
       "</tr>\n",
       "<tr>\n",
       "  <th>converged:</th>             <td>True</td>       <th>  LL-Null:           </th> <td> -3369.4</td> \n",
       "</tr>\n",
       "<tr>\n",
       "  <th>Covariance Type:</th>     <td>nonrobust</td>    <th>  LLR p-value:       </th> <td>1.849e-20</td>\n",
       "</tr>\n",
       "</table>\n",
       "<table class=\"simpletable\">\n",
       "<tr>\n",
       "      <td></td>         <th>coef</th>     <th>std err</th>      <th>z</th>      <th>P>|z|</th>  <th>[0.025</th>    <th>0.975]</th>  \n",
       "</tr>\n",
       "<tr>\n",
       "  <th>Intercept</th> <td>   -2.4601</td> <td>    0.173</td> <td>  -14.257</td> <td> 0.000</td> <td>   -2.798</td> <td>   -2.122</td>\n",
       "</tr>\n",
       "<tr>\n",
       "  <th>주당근로일</th>     <td>    0.3028</td> <td>    0.035</td> <td>    8.658</td> <td> 0.000</td> <td>    0.234</td> <td>    0.371</td>\n",
       "</tr>\n",
       "</table>"
      ],
      "text/plain": [
       "<class 'statsmodels.iolib.summary.Summary'>\n",
       "\"\"\"\n",
       "                           Logit Regression Results                           \n",
       "==============================================================================\n",
       "Dep. Variable:              LongWork2   No. Observations:                 5808\n",
       "Model:                          Logit   Df Residuals:                     5806\n",
       "Method:                           MLE   Df Model:                            1\n",
       "Date:                Mon, 10 Apr 2023   Pseudo R-squ.:                 0.01275\n",
       "Time:                        17:29:20   Log-Likelihood:                -3326.4\n",
       "converged:                       True   LL-Null:                       -3369.4\n",
       "Covariance Type:            nonrobust   LLR p-value:                 1.849e-20\n",
       "==============================================================================\n",
       "                 coef    std err          z      P>|z|      [0.025      0.975]\n",
       "------------------------------------------------------------------------------\n",
       "Intercept     -2.4601      0.173    -14.257      0.000      -2.798      -2.122\n",
       "주당근로일          0.3028      0.035      8.658      0.000       0.234       0.371\n",
       "==============================================================================\n",
       "\"\"\""
      ]
     },
     "execution_count": 6,
     "metadata": {},
     "output_type": "execute_result"
    }
   ],
   "source": [
    "# 주당근로일\n",
    "model_day = sm.Logit.from_formula('LongWork2 ~ 주당근로일', df_1).fit()\n",
    "model_day.summary()"
   ]
  },
  {
   "cell_type": "code",
   "execution_count": 15,
   "metadata": {},
   "outputs": [
    {
     "name": "stdout",
     "output_type": "stream",
     "text": [
      "==================================Odds Ratio=========================================\n"
     ]
    },
    {
     "data": {
      "text/html": [
       "<div>\n",
       "<style scoped>\n",
       "    .dataframe tbody tr th:only-of-type {\n",
       "        vertical-align: middle;\n",
       "    }\n",
       "\n",
       "    .dataframe tbody tr th {\n",
       "        vertical-align: top;\n",
       "    }\n",
       "\n",
       "    .dataframe thead th {\n",
       "        text-align: right;\n",
       "    }\n",
       "</style>\n",
       "<table border=\"1\" class=\"dataframe\">\n",
       "  <thead>\n",
       "    <tr style=\"text-align: right;\">\n",
       "      <th></th>\n",
       "      <th>OR</th>\n",
       "      <th>Lower CI</th>\n",
       "      <th>Upper CI</th>\n",
       "    </tr>\n",
       "  </thead>\n",
       "  <tbody>\n",
       "    <tr>\n",
       "      <th>Intercept</th>\n",
       "      <td>0.085423</td>\n",
       "      <td>0.060911</td>\n",
       "      <td>0.119798</td>\n",
       "    </tr>\n",
       "    <tr>\n",
       "      <th>주당근로일</th>\n",
       "      <td>1.353584</td>\n",
       "      <td>1.263926</td>\n",
       "      <td>1.449602</td>\n",
       "    </tr>\n",
       "  </tbody>\n",
       "</table>\n",
       "</div>"
      ],
      "text/plain": [
       "                 OR  Lower CI  Upper CI\n",
       "Intercept  0.085423  0.060911  0.119798\n",
       "주당근로일      1.353584  1.263926  1.449602"
      ]
     },
     "execution_count": 15,
     "metadata": {},
     "output_type": "execute_result"
    }
   ],
   "source": [
    "print('==================================Odds Ratio=========================================')\n",
    "# 오즈비 계산(Confidence interval 포함)\n",
    "odds_ratios_day = pd.DataFrame(\n",
    "    {\n",
    "        \"OR\": model_day.params,\n",
    "        \"Lower CI\": model_day.conf_int()[0],\n",
    "        \"Upper CI\": model_day.conf_int()[1],\n",
    "    }\n",
    ")\n",
    "odds_ratios_day = np.exp(odds_ratios_day)\n",
    "odds_ratios_day"
   ]
  },
  {
   "cell_type": "code",
   "execution_count": 8,
   "metadata": {},
   "outputs": [
    {
     "name": "stdout",
     "output_type": "stream",
     "text": [
      "Optimization terminated successfully.\n",
      "         Current function value: 0.566370\n",
      "         Iterations 6\n"
     ]
    },
    {
     "data": {
      "text/html": [
       "<table class=\"simpletable\">\n",
       "<caption>Logit Regression Results</caption>\n",
       "<tr>\n",
       "  <th>Dep. Variable:</th>       <td>LongWork2</td>    <th>  No. Observations:  </th>  <td>  5808</td>  \n",
       "</tr>\n",
       "<tr>\n",
       "  <th>Model:</th>                 <td>Logit</td>      <th>  Df Residuals:      </th>  <td>  5806</td>  \n",
       "</tr>\n",
       "<tr>\n",
       "  <th>Method:</th>                 <td>MLE</td>       <th>  Df Model:          </th>  <td>     1</td>  \n",
       "</tr>\n",
       "<tr>\n",
       "  <th>Date:</th>            <td>Mon, 10 Apr 2023</td> <th>  Pseudo R-squ.:     </th>  <td>0.02371</td> \n",
       "</tr>\n",
       "<tr>\n",
       "  <th>Time:</th>                <td>17:30:56</td>     <th>  Log-Likelihood:    </th> <td> -3289.5</td> \n",
       "</tr>\n",
       "<tr>\n",
       "  <th>converged:</th>             <td>True</td>       <th>  LL-Null:           </th> <td> -3369.4</td> \n",
       "</tr>\n",
       "<tr>\n",
       "  <th>Covariance Type:</th>     <td>nonrobust</td>    <th>  LLR p-value:       </th> <td>1.275e-36</td>\n",
       "</tr>\n",
       "</table>\n",
       "<table class=\"simpletable\">\n",
       "<tr>\n",
       "      <td></td>         <th>coef</th>     <th>std err</th>      <th>z</th>      <th>P>|z|</th>  <th>[0.025</th>    <th>0.975]</th>  \n",
       "</tr>\n",
       "<tr>\n",
       "  <th>Intercept</th> <td>   -2.2569</td> <td>    0.112</td> <td>  -20.194</td> <td> 0.000</td> <td>   -2.476</td> <td>   -2.038</td>\n",
       "</tr>\n",
       "<tr>\n",
       "  <th>주당근로시간</th>    <td>    0.0335</td> <td>    0.003</td> <td>   11.922</td> <td> 0.000</td> <td>    0.028</td> <td>    0.039</td>\n",
       "</tr>\n",
       "</table>"
      ],
      "text/plain": [
       "<class 'statsmodels.iolib.summary.Summary'>\n",
       "\"\"\"\n",
       "                           Logit Regression Results                           \n",
       "==============================================================================\n",
       "Dep. Variable:              LongWork2   No. Observations:                 5808\n",
       "Model:                          Logit   Df Residuals:                     5806\n",
       "Method:                           MLE   Df Model:                            1\n",
       "Date:                Mon, 10 Apr 2023   Pseudo R-squ.:                 0.02371\n",
       "Time:                        17:30:56   Log-Likelihood:                -3289.5\n",
       "converged:                       True   LL-Null:                       -3369.4\n",
       "Covariance Type:            nonrobust   LLR p-value:                 1.275e-36\n",
       "==============================================================================\n",
       "                 coef    std err          z      P>|z|      [0.025      0.975]\n",
       "------------------------------------------------------------------------------\n",
       "Intercept     -2.2569      0.112    -20.194      0.000      -2.476      -2.038\n",
       "주당근로시간         0.0335      0.003     11.922      0.000       0.028       0.039\n",
       "==============================================================================\n",
       "\"\"\""
      ]
     },
     "execution_count": 8,
     "metadata": {},
     "output_type": "execute_result"
    }
   ],
   "source": [
    "# 주당근로시간\n",
    "model_time = sm.Logit.from_formula('LongWork2 ~ 주당근로시간', df_1).fit()\n",
    "model_time.summary()"
   ]
  },
  {
   "cell_type": "code",
   "execution_count": 16,
   "metadata": {},
   "outputs": [
    {
     "name": "stdout",
     "output_type": "stream",
     "text": [
      "==================================Odds Ratio=========================================\n"
     ]
    },
    {
     "data": {
      "text/html": [
       "<div>\n",
       "<style scoped>\n",
       "    .dataframe tbody tr th:only-of-type {\n",
       "        vertical-align: middle;\n",
       "    }\n",
       "\n",
       "    .dataframe tbody tr th {\n",
       "        vertical-align: top;\n",
       "    }\n",
       "\n",
       "    .dataframe thead th {\n",
       "        text-align: right;\n",
       "    }\n",
       "</style>\n",
       "<table border=\"1\" class=\"dataframe\">\n",
       "  <thead>\n",
       "    <tr style=\"text-align: right;\">\n",
       "      <th></th>\n",
       "      <th>OR</th>\n",
       "      <th>Lower CI</th>\n",
       "      <th>Upper CI</th>\n",
       "    </tr>\n",
       "  </thead>\n",
       "  <tbody>\n",
       "    <tr>\n",
       "      <th>Intercept</th>\n",
       "      <td>0.104674</td>\n",
       "      <td>0.084083</td>\n",
       "      <td>0.130308</td>\n",
       "    </tr>\n",
       "    <tr>\n",
       "      <th>주당근로시간</th>\n",
       "      <td>1.034077</td>\n",
       "      <td>1.028395</td>\n",
       "      <td>1.039789</td>\n",
       "    </tr>\n",
       "  </tbody>\n",
       "</table>\n",
       "</div>"
      ],
      "text/plain": [
       "                 OR  Lower CI  Upper CI\n",
       "Intercept  0.104674  0.084083  0.130308\n",
       "주당근로시간     1.034077  1.028395  1.039789"
      ]
     },
     "execution_count": 16,
     "metadata": {},
     "output_type": "execute_result"
    }
   ],
   "source": [
    "print('==================================Odds Ratio=========================================')\n",
    "# 오즈비 계산(Confidence interval 포함)\n",
    "odds_ratios_time = pd.DataFrame(\n",
    "    {\n",
    "        \"OR\": model_time.params,\n",
    "        \"Lower CI\": model_time.conf_int()[0],\n",
    "        \"Upper CI\": model_time.conf_int()[1],\n",
    "    }\n",
    ")\n",
    "odds_ratios_time = np.exp(odds_ratios_time)\n",
    "odds_ratios_time"
   ]
  },
  {
   "cell_type": "code",
   "execution_count": 13,
   "metadata": {},
   "outputs": [
    {
     "name": "stdout",
     "output_type": "stream",
     "text": [
      "Optimization terminated successfully.\n",
      "         Current function value: 0.551706\n",
      "         Iterations 5\n"
     ]
    },
    {
     "data": {
      "text/html": [
       "<table class=\"simpletable\">\n",
       "<caption>Logit Regression Results</caption>\n",
       "<tr>\n",
       "  <th>Dep. Variable:</th>       <td>LongWork2</td>    <th>  No. Observations:  </th>  <td>  5808</td>  \n",
       "</tr>\n",
       "<tr>\n",
       "  <th>Model:</th>                 <td>Logit</td>      <th>  Df Residuals:      </th>  <td>  5806</td>  \n",
       "</tr>\n",
       "<tr>\n",
       "  <th>Method:</th>                 <td>MLE</td>       <th>  Df Model:          </th>  <td>     1</td>  \n",
       "</tr>\n",
       "<tr>\n",
       "  <th>Date:</th>            <td>Mon, 10 Apr 2023</td> <th>  Pseudo R-squ.:     </th>  <td>0.04899</td> \n",
       "</tr>\n",
       "<tr>\n",
       "  <th>Time:</th>                <td>17:38:18</td>     <th>  Log-Likelihood:    </th> <td> -3204.3</td> \n",
       "</tr>\n",
       "<tr>\n",
       "  <th>converged:</th>             <td>True</td>       <th>  LL-Null:           </th> <td> -3369.4</td> \n",
       "</tr>\n",
       "<tr>\n",
       "  <th>Covariance Type:</th>     <td>nonrobust</td>    <th>  LLR p-value:       </th> <td>9.115e-74</td>\n",
       "</tr>\n",
       "</table>\n",
       "<table class=\"simpletable\">\n",
       "<tr>\n",
       "                         <td></td>                           <th>coef</th>     <th>std err</th>      <th>z</th>      <th>P>|z|</th>  <th>[0.025</th>    <th>0.975]</th>  \n",
       "</tr>\n",
       "<tr>\n",
       "  <th>Intercept</th>                                      <td>   -1.3301</td> <td>    0.036</td> <td>  -36.476</td> <td> 0.000</td> <td>   -1.402</td> <td>   -1.259</td>\n",
       "</tr>\n",
       "<tr>\n",
       "  <th>C(직장에서의복리후생제공여부, Treatment(\"제공하지않는다\"))[T.제공한다]</th> <td>    1.2301</td> <td>    0.067</td> <td>   18.317</td> <td> 0.000</td> <td>    1.098</td> <td>    1.362</td>\n",
       "</tr>\n",
       "</table>"
      ],
      "text/plain": [
       "<class 'statsmodels.iolib.summary.Summary'>\n",
       "\"\"\"\n",
       "                           Logit Regression Results                           \n",
       "==============================================================================\n",
       "Dep. Variable:              LongWork2   No. Observations:                 5808\n",
       "Model:                          Logit   Df Residuals:                     5806\n",
       "Method:                           MLE   Df Model:                            1\n",
       "Date:                Mon, 10 Apr 2023   Pseudo R-squ.:                 0.04899\n",
       "Time:                        17:38:18   Log-Likelihood:                -3204.3\n",
       "converged:                       True   LL-Null:                       -3369.4\n",
       "Covariance Type:            nonrobust   LLR p-value:                 9.115e-74\n",
       "==================================================================================================================\n",
       "                                                     coef    std err          z      P>|z|      [0.025      0.975]\n",
       "------------------------------------------------------------------------------------------------------------------\n",
       "Intercept                                         -1.3301      0.036    -36.476      0.000      -1.402      -1.259\n",
       "C(직장에서의복리후생제공여부, Treatment(\"제공하지않는다\"))[T.제공한다]     1.2301      0.067     18.317      0.000       1.098       1.362\n",
       "==================================================================================================================\n",
       "\"\"\""
      ]
     },
     "execution_count": 13,
     "metadata": {},
     "output_type": "execute_result"
    }
   ],
   "source": [
    "# 직장에서의복리후생제공여부\n",
    "model_supply = sm.Logit.from_formula('LongWork2 ~ C(직장에서의복리후생제공여부,Treatment(\"제공하지않는다\"))', df_1).fit()\n",
    "model_supply.summary()"
   ]
  },
  {
   "cell_type": "code",
   "execution_count": 14,
   "metadata": {},
   "outputs": [
    {
     "name": "stdout",
     "output_type": "stream",
     "text": [
      "==================================Odds Ratio=========================================\n"
     ]
    },
    {
     "data": {
      "text/html": [
       "<div>\n",
       "<style scoped>\n",
       "    .dataframe tbody tr th:only-of-type {\n",
       "        vertical-align: middle;\n",
       "    }\n",
       "\n",
       "    .dataframe tbody tr th {\n",
       "        vertical-align: top;\n",
       "    }\n",
       "\n",
       "    .dataframe thead th {\n",
       "        text-align: right;\n",
       "    }\n",
       "</style>\n",
       "<table border=\"1\" class=\"dataframe\">\n",
       "  <thead>\n",
       "    <tr style=\"text-align: right;\">\n",
       "      <th></th>\n",
       "      <th>OR</th>\n",
       "      <th>Lower CI</th>\n",
       "      <th>Upper CI</th>\n",
       "    </tr>\n",
       "  </thead>\n",
       "  <tbody>\n",
       "    <tr>\n",
       "      <th>Intercept</th>\n",
       "      <td>0.264461</td>\n",
       "      <td>0.246220</td>\n",
       "      <td>0.284053</td>\n",
       "    </tr>\n",
       "    <tr>\n",
       "      <th>C(직장에서의복리후생제공여부, Treatment(\"제공하지않는다\"))[T.제공한다]</th>\n",
       "      <td>3.421433</td>\n",
       "      <td>2.999484</td>\n",
       "      <td>3.902738</td>\n",
       "    </tr>\n",
       "  </tbody>\n",
       "</table>\n",
       "</div>"
      ],
      "text/plain": [
       "                                                      OR  Lower CI  Upper CI\n",
       "Intercept                                       0.264461  0.246220  0.284053\n",
       "C(직장에서의복리후생제공여부, Treatment(\"제공하지않는다\"))[T.제공한다]  3.421433  2.999484  3.902738"
      ]
     },
     "execution_count": 14,
     "metadata": {},
     "output_type": "execute_result"
    }
   ],
   "source": [
    "print('==================================Odds Ratio=========================================')\n",
    "# 오즈비 계산(Confidence interval 포함)\n",
    "odds_ratios_supply = pd.DataFrame(\n",
    "    {\n",
    "        \"OR\": model_supply.params,\n",
    "        \"Lower CI\": model_supply.conf_int()[0],\n",
    "        \"Upper CI\": model_supply.conf_int()[1],\n",
    "    }\n",
    ")\n",
    "odds_ratios_supply = np.exp(odds_ratios_supply)\n",
    "odds_ratios_supply"
   ]
  },
  {
   "cell_type": "code",
   "execution_count": 18,
   "metadata": {},
   "outputs": [
    {
     "data": {
      "text/plain": [
       "Index(['pid', 'majorcat', 'province', 'area', 'sex', 'age', 'a003', 'a010',\n",
       "       'a038', 'a039',\n",
       "       ...\n",
       "       'big_companyG', 'work_satiG', 'company_satiG', 'supply', 'insurance',\n",
       "       '주당근로일', '주당근로시간', '직장에서의복리후생제공여부', '보험가입여부', '직장만족도'],\n",
       "      dtype='object', length=106)"
      ]
     },
     "execution_count": 18,
     "metadata": {},
     "output_type": "execute_result"
    }
   ],
   "source": [
    "df_1.columns"
   ]
  },
  {
   "cell_type": "code",
   "execution_count": 20,
   "metadata": {},
   "outputs": [
    {
     "name": "stdout",
     "output_type": "stream",
     "text": [
      "Optimization terminated successfully.\n",
      "         Current function value: 0.564692\n",
      "         Iterations 5\n"
     ]
    },
    {
     "data": {
      "text/html": [
       "<table class=\"simpletable\">\n",
       "<caption>Logit Regression Results</caption>\n",
       "<tr>\n",
       "  <th>Dep. Variable:</th>       <td>LongWork2</td>    <th>  No. Observations:  </th>  <td>  5808</td>  \n",
       "</tr>\n",
       "<tr>\n",
       "  <th>Model:</th>                 <td>Logit</td>      <th>  Df Residuals:      </th>  <td>  5806</td>  \n",
       "</tr>\n",
       "<tr>\n",
       "  <th>Method:</th>                 <td>MLE</td>       <th>  Df Model:          </th>  <td>     1</td>  \n",
       "</tr>\n",
       "<tr>\n",
       "  <th>Date:</th>            <td>Mon, 10 Apr 2023</td> <th>  Pseudo R-squ.:     </th>  <td>0.02660</td> \n",
       "</tr>\n",
       "<tr>\n",
       "  <th>Time:</th>                <td>19:48:22</td>     <th>  Log-Likelihood:    </th> <td> -3279.7</td> \n",
       "</tr>\n",
       "<tr>\n",
       "  <th>converged:</th>             <td>True</td>       <th>  LL-Null:           </th> <td> -3369.4</td> \n",
       "</tr>\n",
       "<tr>\n",
       "  <th>Covariance Type:</th>     <td>nonrobust</td>    <th>  LLR p-value:       </th> <td>7.026e-41</td>\n",
       "</tr>\n",
       "</table>\n",
       "<table class=\"simpletable\">\n",
       "<tr>\n",
       "                     <td></td>                       <th>coef</th>     <th>std err</th>      <th>z</th>      <th>P>|z|</th>  <th>[0.025</th>    <th>0.975]</th>  \n",
       "</tr>\n",
       "<tr>\n",
       "  <th>Intercept</th>                              <td>   -1.5389</td> <td>    0.053</td> <td>  -28.922</td> <td> 0.000</td> <td>   -1.643</td> <td>   -1.435</td>\n",
       "</tr>\n",
       "<tr>\n",
       "  <th>C(보험가입여부, Treatment(\"가입하지않음\"))[T.가입했다]</th> <td>    0.8382</td> <td>    0.065</td> <td>   12.987</td> <td> 0.000</td> <td>    0.712</td> <td>    0.965</td>\n",
       "</tr>\n",
       "</table>"
      ],
      "text/plain": [
       "<class 'statsmodels.iolib.summary.Summary'>\n",
       "\"\"\"\n",
       "                           Logit Regression Results                           \n",
       "==============================================================================\n",
       "Dep. Variable:              LongWork2   No. Observations:                 5808\n",
       "Model:                          Logit   Df Residuals:                     5806\n",
       "Method:                           MLE   Df Model:                            1\n",
       "Date:                Mon, 10 Apr 2023   Pseudo R-squ.:                 0.02660\n",
       "Time:                        19:48:22   Log-Likelihood:                -3279.7\n",
       "converged:                       True   LL-Null:                       -3369.4\n",
       "Covariance Type:            nonrobust   LLR p-value:                 7.026e-41\n",
       "==========================================================================================================\n",
       "                                             coef    std err          z      P>|z|      [0.025      0.975]\n",
       "----------------------------------------------------------------------------------------------------------\n",
       "Intercept                                 -1.5389      0.053    -28.922      0.000      -1.643      -1.435\n",
       "C(보험가입여부, Treatment(\"가입하지않음\"))[T.가입했다]     0.8382      0.065     12.987      0.000       0.712       0.965\n",
       "==========================================================================================================\n",
       "\"\"\""
      ]
     },
     "execution_count": 20,
     "metadata": {},
     "output_type": "execute_result"
    }
   ],
   "source": [
    "# 보험가입여부\n",
    "model_insurance = sm.Logit.from_formula('LongWork2 ~ C(보험가입여부,Treatment(\"가입하지않음\"))', df_1).fit()\n",
    "model_insurance.summary()"
   ]
  },
  {
   "cell_type": "code",
   "execution_count": 21,
   "metadata": {},
   "outputs": [
    {
     "name": "stdout",
     "output_type": "stream",
     "text": [
      "==================================Odds Ratio=========================================\n"
     ]
    },
    {
     "data": {
      "text/html": [
       "<div>\n",
       "<style scoped>\n",
       "    .dataframe tbody tr th:only-of-type {\n",
       "        vertical-align: middle;\n",
       "    }\n",
       "\n",
       "    .dataframe tbody tr th {\n",
       "        vertical-align: top;\n",
       "    }\n",
       "\n",
       "    .dataframe thead th {\n",
       "        text-align: right;\n",
       "    }\n",
       "</style>\n",
       "<table border=\"1\" class=\"dataframe\">\n",
       "  <thead>\n",
       "    <tr style=\"text-align: right;\">\n",
       "      <th></th>\n",
       "      <th>OR</th>\n",
       "      <th>Lower CI</th>\n",
       "      <th>Upper CI</th>\n",
       "    </tr>\n",
       "  </thead>\n",
       "  <tbody>\n",
       "    <tr>\n",
       "      <th>Intercept</th>\n",
       "      <td>0.214607</td>\n",
       "      <td>0.193354</td>\n",
       "      <td>0.238197</td>\n",
       "    </tr>\n",
       "    <tr>\n",
       "      <th>C(보험가입여부, Treatment(\"가입하지않음\"))[T.가입했다]</th>\n",
       "      <td>2.312304</td>\n",
       "      <td>2.037532</td>\n",
       "      <td>2.624129</td>\n",
       "    </tr>\n",
       "  </tbody>\n",
       "</table>\n",
       "</div>"
      ],
      "text/plain": [
       "                                              OR  Lower CI  Upper CI\n",
       "Intercept                               0.214607  0.193354  0.238197\n",
       "C(보험가입여부, Treatment(\"가입하지않음\"))[T.가입했다]  2.312304  2.037532  2.624129"
      ]
     },
     "execution_count": 21,
     "metadata": {},
     "output_type": "execute_result"
    }
   ],
   "source": [
    "print('==================================Odds Ratio=========================================')\n",
    "\n",
    "# 오즈비 계산(Confidence interval 포함)\n",
    "odds_ratios_ins = pd.DataFrame(\n",
    "    {\n",
    "        \"OR\": model_insurance.params,\n",
    "        \"Lower CI\": model_insurance.conf_int()[0],\n",
    "        \"Upper CI\": model_insurance.conf_int()[1],\n",
    "    }\n",
    ")\n",
    "odds_ratios_ins = np.exp(odds_ratios_ins)\n",
    "odds_ratios_ins"
   ]
  },
  {
   "cell_type": "code",
   "execution_count": 23,
   "metadata": {},
   "outputs": [
    {
     "name": "stdout",
     "output_type": "stream",
     "text": [
      "Optimization terminated successfully.\n",
      "         Current function value: 0.559932\n",
      "         Iterations 6\n"
     ]
    },
    {
     "data": {
      "text/html": [
       "<table class=\"simpletable\">\n",
       "<caption>Logit Regression Results</caption>\n",
       "<tr>\n",
       "  <th>Dep. Variable:</th>       <td>LongWork2</td>    <th>  No. Observations:  </th>  <td>  5808</td>  \n",
       "</tr>\n",
       "<tr>\n",
       "  <th>Model:</th>                 <td>Logit</td>      <th>  Df Residuals:      </th>  <td>  5805</td>  \n",
       "</tr>\n",
       "<tr>\n",
       "  <th>Method:</th>                 <td>MLE</td>       <th>  Df Model:          </th>  <td>     2</td>  \n",
       "</tr>\n",
       "<tr>\n",
       "  <th>Date:</th>            <td>Mon, 10 Apr 2023</td> <th>  Pseudo R-squ.:     </th>  <td>0.03481</td> \n",
       "</tr>\n",
       "<tr>\n",
       "  <th>Time:</th>                <td>19:55:03</td>     <th>  Log-Likelihood:    </th> <td> -3252.1</td> \n",
       "</tr>\n",
       "<tr>\n",
       "  <th>converged:</th>             <td>True</td>       <th>  LL-Null:           </th> <td> -3369.4</td> \n",
       "</tr>\n",
       "<tr>\n",
       "  <th>Covariance Type:</th>     <td>nonrobust</td>    <th>  LLR p-value:       </th> <td>1.169e-51</td>\n",
       "</tr>\n",
       "</table>\n",
       "<table class=\"simpletable\">\n",
       "<tr>\n",
       "                    <td></td>                      <th>coef</th>     <th>std err</th>      <th>z</th>      <th>P>|z|</th>  <th>[0.025</th>    <th>0.975]</th>  \n",
       "</tr>\n",
       "<tr>\n",
       "  <th>Intercept</th>                            <td>   -1.7468</td> <td>    0.080</td> <td>  -21.746</td> <td> 0.000</td> <td>   -1.904</td> <td>   -1.589</td>\n",
       "</tr>\n",
       "<tr>\n",
       "  <th>C(직장만족도, Treatment(\"그렇지않다\"))[T.그렇다]</th>  <td>    1.1935</td> <td>    0.091</td> <td>   13.167</td> <td> 0.000</td> <td>    1.016</td> <td>    1.371</td>\n",
       "</tr>\n",
       "<tr>\n",
       "  <th>C(직장만족도, Treatment(\"그렇지않다\"))[T.보통이다]</th> <td>    0.4949</td> <td>    0.096</td> <td>    5.172</td> <td> 0.000</td> <td>    0.307</td> <td>    0.683</td>\n",
       "</tr>\n",
       "</table>"
      ],
      "text/plain": [
       "<class 'statsmodels.iolib.summary.Summary'>\n",
       "\"\"\"\n",
       "                           Logit Regression Results                           \n",
       "==============================================================================\n",
       "Dep. Variable:              LongWork2   No. Observations:                 5808\n",
       "Model:                          Logit   Df Residuals:                     5805\n",
       "Method:                           MLE   Df Model:                            2\n",
       "Date:                Mon, 10 Apr 2023   Pseudo R-squ.:                 0.03481\n",
       "Time:                        19:55:03   Log-Likelihood:                -3252.1\n",
       "converged:                       True   LL-Null:                       -3369.4\n",
       "Covariance Type:            nonrobust   LLR p-value:                 1.169e-51\n",
       "========================================================================================================\n",
       "                                           coef    std err          z      P>|z|      [0.025      0.975]\n",
       "--------------------------------------------------------------------------------------------------------\n",
       "Intercept                               -1.7468      0.080    -21.746      0.000      -1.904      -1.589\n",
       "C(직장만족도, Treatment(\"그렇지않다\"))[T.그렇다]      1.1935      0.091     13.167      0.000       1.016       1.371\n",
       "C(직장만족도, Treatment(\"그렇지않다\"))[T.보통이다]     0.4949      0.096      5.172      0.000       0.307       0.683\n",
       "========================================================================================================\n",
       "\"\"\""
      ]
     },
     "execution_count": 23,
     "metadata": {},
     "output_type": "execute_result"
    }
   ],
   "source": [
    "# 직장만족도\n",
    "model_satis = sm.Logit.from_formula('LongWork2 ~ C(직장만족도,Treatment(\"그렇지않다\"))', df_1).fit()\n",
    "model_satis.summary()"
   ]
  },
  {
   "cell_type": "code",
   "execution_count": 24,
   "metadata": {},
   "outputs": [
    {
     "name": "stdout",
     "output_type": "stream",
     "text": [
      "==================================Odds Ratio=========================================\n"
     ]
    },
    {
     "data": {
      "text/html": [
       "<div>\n",
       "<style scoped>\n",
       "    .dataframe tbody tr th:only-of-type {\n",
       "        vertical-align: middle;\n",
       "    }\n",
       "\n",
       "    .dataframe tbody tr th {\n",
       "        vertical-align: top;\n",
       "    }\n",
       "\n",
       "    .dataframe thead th {\n",
       "        text-align: right;\n",
       "    }\n",
       "</style>\n",
       "<table border=\"1\" class=\"dataframe\">\n",
       "  <thead>\n",
       "    <tr style=\"text-align: right;\">\n",
       "      <th></th>\n",
       "      <th>OR</th>\n",
       "      <th>Lower CI</th>\n",
       "      <th>Upper CI</th>\n",
       "    </tr>\n",
       "  </thead>\n",
       "  <tbody>\n",
       "    <tr>\n",
       "      <th>Intercept</th>\n",
       "      <td>0.174330</td>\n",
       "      <td>0.148935</td>\n",
       "      <td>0.204054</td>\n",
       "    </tr>\n",
       "    <tr>\n",
       "      <th>C(직장만족도, Treatment(\"그렇지않다\"))[T.그렇다]</th>\n",
       "      <td>3.298444</td>\n",
       "      <td>2.761556</td>\n",
       "      <td>3.939710</td>\n",
       "    </tr>\n",
       "    <tr>\n",
       "      <th>C(직장만족도, Treatment(\"그렇지않다\"))[T.보통이다]</th>\n",
       "      <td>1.640413</td>\n",
       "      <td>1.359840</td>\n",
       "      <td>1.978875</td>\n",
       "    </tr>\n",
       "  </tbody>\n",
       "</table>\n",
       "</div>"
      ],
      "text/plain": [
       "                                            OR  Lower CI  Upper CI\n",
       "Intercept                             0.174330  0.148935  0.204054\n",
       "C(직장만족도, Treatment(\"그렇지않다\"))[T.그렇다]   3.298444  2.761556  3.939710\n",
       "C(직장만족도, Treatment(\"그렇지않다\"))[T.보통이다]  1.640413  1.359840  1.978875"
      ]
     },
     "execution_count": 24,
     "metadata": {},
     "output_type": "execute_result"
    }
   ],
   "source": [
    "print('==================================Odds Ratio=========================================')\n",
    "\n",
    "# 오즈비 계산(Confidence interval 포함)\n",
    "odds_ratios_satis = pd.DataFrame(\n",
    "    {\n",
    "        \"OR\": model_satis.params,\n",
    "        \"Lower CI\": model_satis.conf_int()[0],\n",
    "        \"Upper CI\": model_satis.conf_int()[1],\n",
    "    }\n",
    ")\n",
    "odds_ratios_satis = np.exp(odds_ratios_satis)\n",
    "odds_ratios_satis"
   ]
  }
 ],
 "metadata": {
  "kernelspec": {
   "display_name": "'pannel'",
   "language": "python",
   "name": "python3"
  },
  "language_info": {
   "codemirror_mode": {
    "name": "ipython",
    "version": 3
   },
   "file_extension": ".py",
   "mimetype": "text/x-python",
   "name": "python",
   "nbconvert_exporter": "python",
   "pygments_lexer": "ipython3",
   "version": "3.10.0"
  },
  "orig_nbformat": 4,
  "vscode": {
   "interpreter": {
    "hash": "567688ddcb0ff0e569682700137e8323bc710a8b8e628cd09dfd9151c691837d"
   }
  }
 },
 "nbformat": 4,
 "nbformat_minor": 2
}
