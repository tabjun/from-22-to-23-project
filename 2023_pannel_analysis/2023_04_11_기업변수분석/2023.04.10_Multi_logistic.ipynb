{
 "cells": [
  {
   "cell_type": "markdown",
   "metadata": {},
   "source": [
    "##### Module import"
   ]
  },
  {
   "cell_type": "code",
   "execution_count": 1,
   "metadata": {},
   "outputs": [],
   "source": [
    "import pandas as pd\n",
    "import numpy as np\n",
    "import os\n",
    "import matplotlib.pyplot as plt\n",
    "import seaborn as sns\n",
    "import statsmodels.api as sm\n",
    "from statsmodels.stats.outliers_influence import variance_inflation_factor # 다중공선성"
   ]
  },
  {
   "cell_type": "code",
   "execution_count": 2,
   "metadata": {},
   "outputs": [],
   "source": [
    "from matplotlib import font_manager, rc\n",
    "font_path = \"C:/Windows/Fonts/NGULIM.TTF\"\n",
    "font = font_manager.FontProperties(fname=font_path).get_name()\n",
    "rc('font', family=font)"
   ]
  },
  {
   "attachments": {},
   "cell_type": "markdown",
   "metadata": {},
   "source": [
    "##### Data import"
   ]
  },
  {
   "cell_type": "code",
   "execution_count": 5,
   "metadata": {},
   "outputs": [
    {
     "name": "stdout",
     "output_type": "stream",
     "text": [
      "c:\\Users\\Owner\\Desktop\\윤태준\\고용패널\\고용패널 파이썬 분석\\2023_04_06_변수추가\\변수추가\n"
     ]
    }
   ],
   "source": [
    "print(os.getcwd())"
   ]
  },
  {
   "cell_type": "code",
   "execution_count": null,
   "metadata": {},
   "outputs": [],
   "source": [
    "df = pd.read_csv('2023_04_10_data_step.csv', encoding='cp949')"
   ]
  },
  {
   "cell_type": "code",
   "execution_count": 7,
   "metadata": {},
   "outputs": [
    {
     "data": {
      "text/plain": [
       "Index(['pid', 'majorcat', 'province', 'area', 'sex', 'age', 'a003', 'a010',\n",
       "       'a038', 'a039',\n",
       "       ...\n",
       "       'big_companyG', 'work_satiG', 'company_satiG', 'supply', 'insurance',\n",
       "       '주당근로일', '주당근로시간', '직장에서의복리후생제공여부', '보험가입여부', '직장만족도'],\n",
       "      dtype='object', length=106)"
      ]
     },
     "execution_count": 7,
     "metadata": {},
     "output_type": "execute_result"
    }
   ],
   "source": [
    "df_1 = df.copy()\n",
    "df_1.columns"
   ]
  },
  {
   "attachments": {},
   "cell_type": "markdown",
   "metadata": {},
   "source": [
    "##### 다변량 모델"
   ]
  },
  {
   "cell_type": "code",
   "execution_count": 9,
   "metadata": {},
   "outputs": [
    {
     "name": "stdout",
     "output_type": "stream",
     "text": [
      "Optimization terminated successfully.\n",
      "         Current function value: 0.520133\n",
      "         Iterations 6\n",
      "==================================Model Summary=========================================\n"
     ]
    },
    {
     "data": {
      "text/html": [
       "<table class=\"simpletable\">\n",
       "<caption>Logit Regression Results</caption>\n",
       "<tr>\n",
       "  <th>Dep. Variable:</th>       <td>LongWork2</td>    <th>  No. Observations:  </th>   <td>  5808</td>  \n",
       "</tr>\n",
       "<tr>\n",
       "  <th>Model:</th>                 <td>Logit</td>      <th>  Df Residuals:      </th>   <td>  5801</td>  \n",
       "</tr>\n",
       "<tr>\n",
       "  <th>Method:</th>                 <td>MLE</td>       <th>  Df Model:          </th>   <td>     6</td>  \n",
       "</tr>\n",
       "<tr>\n",
       "  <th>Date:</th>            <td>Mon, 10 Apr 2023</td> <th>  Pseudo R-squ.:     </th>   <td>0.1034</td>  \n",
       "</tr>\n",
       "<tr>\n",
       "  <th>Time:</th>                <td>20:07:10</td>     <th>  Log-Likelihood:    </th>  <td> -3020.9</td> \n",
       "</tr>\n",
       "<tr>\n",
       "  <th>converged:</th>             <td>True</td>       <th>  LL-Null:           </th>  <td> -3369.4</td> \n",
       "</tr>\n",
       "<tr>\n",
       "  <th>Covariance Type:</th>     <td>nonrobust</td>    <th>  LLR p-value:       </th> <td>2.913e-147</td>\n",
       "</tr>\n",
       "</table>\n",
       "<table class=\"simpletable\">\n",
       "<tr>\n",
       "                         <td></td>                           <th>coef</th>     <th>std err</th>      <th>z</th>      <th>P>|z|</th>  <th>[0.025</th>    <th>0.975]</th>  \n",
       "</tr>\n",
       "<tr>\n",
       "  <th>Intercept</th>                                      <td>   -3.2877</td> <td>    0.209</td> <td>  -15.741</td> <td> 0.000</td> <td>   -3.697</td> <td>   -2.878</td>\n",
       "</tr>\n",
       "<tr>\n",
       "  <th>C(직장에서의복리후생제공여부, Treatment('제공하지않는다'))[T.제공한다]</th> <td>    0.9087</td> <td>    0.071</td> <td>   12.759</td> <td> 0.000</td> <td>    0.769</td> <td>    1.048</td>\n",
       "</tr>\n",
       "<tr>\n",
       "  <th>C(직장만족도, Treatment('그렇지않다'))[T.그렇다]</th>            <td>    1.2584</td> <td>    0.095</td> <td>   13.304</td> <td> 0.000</td> <td>    1.073</td> <td>    1.444</td>\n",
       "</tr>\n",
       "<tr>\n",
       "  <th>C(직장만족도, Treatment('그렇지않다'))[T.보통이다]</th>           <td>    0.5867</td> <td>    0.099</td> <td>    5.945</td> <td> 0.000</td> <td>    0.393</td> <td>    0.780</td>\n",
       "</tr>\n",
       "<tr>\n",
       "  <th>C(보험가입여부, Treatment('가입하지않음'))[T.가입했다]</th>         <td>    0.4706</td> <td>    0.072</td> <td>    6.521</td> <td> 0.000</td> <td>    0.329</td> <td>    0.612</td>\n",
       "</tr>\n",
       "<tr>\n",
       "  <th>주당근로일</th>                                          <td>   -0.0509</td> <td>    0.057</td> <td>   -0.899</td> <td> 0.369</td> <td>   -0.162</td> <td>    0.060</td>\n",
       "</tr>\n",
       "<tr>\n",
       "  <th>주당근로시간</th>                                         <td>    0.0319</td> <td>    0.005</td> <td>    6.896</td> <td> 0.000</td> <td>    0.023</td> <td>    0.041</td>\n",
       "</tr>\n",
       "</table>"
      ],
      "text/plain": [
       "<class 'statsmodels.iolib.summary.Summary'>\n",
       "\"\"\"\n",
       "                           Logit Regression Results                           \n",
       "==============================================================================\n",
       "Dep. Variable:              LongWork2   No. Observations:                 5808\n",
       "Model:                          Logit   Df Residuals:                     5801\n",
       "Method:                           MLE   Df Model:                            6\n",
       "Date:                Mon, 10 Apr 2023   Pseudo R-squ.:                  0.1034\n",
       "Time:                        20:07:10   Log-Likelihood:                -3020.9\n",
       "converged:                       True   LL-Null:                       -3369.4\n",
       "Covariance Type:            nonrobust   LLR p-value:                2.913e-147\n",
       "==================================================================================================================\n",
       "                                                     coef    std err          z      P>|z|      [0.025      0.975]\n",
       "------------------------------------------------------------------------------------------------------------------\n",
       "Intercept                                         -3.2877      0.209    -15.741      0.000      -3.697      -2.878\n",
       "C(직장에서의복리후생제공여부, Treatment('제공하지않는다'))[T.제공한다]     0.9087      0.071     12.759      0.000       0.769       1.048\n",
       "C(직장만족도, Treatment('그렇지않다'))[T.그렇다]                1.2584      0.095     13.304      0.000       1.073       1.444\n",
       "C(직장만족도, Treatment('그렇지않다'))[T.보통이다]               0.5867      0.099      5.945      0.000       0.393       0.780\n",
       "C(보험가입여부, Treatment('가입하지않음'))[T.가입했다]             0.4706      0.072      6.521      0.000       0.329       0.612\n",
       "주당근로일                                             -0.0509      0.057     -0.899      0.369      -0.162       0.060\n",
       "주당근로시간                                             0.0319      0.005      6.896      0.000       0.023       0.041\n",
       "==================================================================================================================\n",
       "\"\"\""
      ]
     },
     "execution_count": 9,
     "metadata": {},
     "output_type": "execute_result"
    }
   ],
   "source": [
    "model_1 = sm.Logit.from_formula('''LongWork2 ~ 주당근로일 + 주당근로시간\n",
    "    + C(직장에서의복리후생제공여부,Treatment('제공하지않는다'))\n",
    "    + C(직장만족도,Treatment('그렇지않다')) + C(보험가입여부,Treatment('가입하지않음'))''', df_1).fit()\n",
    "print('==================================Model Summary=========================================')\n",
    "model_1.summary()"
   ]
  },
  {
   "cell_type": "code",
   "execution_count": 10,
   "metadata": {},
   "outputs": [
    {
     "name": "stdout",
     "output_type": "stream",
     "text": [
      "==================================Odds Ratio=========================================\n"
     ]
    },
    {
     "data": {
      "text/html": [
       "<div>\n",
       "<style scoped>\n",
       "    .dataframe tbody tr th:only-of-type {\n",
       "        vertical-align: middle;\n",
       "    }\n",
       "\n",
       "    .dataframe tbody tr th {\n",
       "        vertical-align: top;\n",
       "    }\n",
       "\n",
       "    .dataframe thead th {\n",
       "        text-align: right;\n",
       "    }\n",
       "</style>\n",
       "<table border=\"1\" class=\"dataframe\">\n",
       "  <thead>\n",
       "    <tr style=\"text-align: right;\">\n",
       "      <th></th>\n",
       "      <th>OR</th>\n",
       "      <th>Lower CI</th>\n",
       "      <th>Upper CI</th>\n",
       "    </tr>\n",
       "  </thead>\n",
       "  <tbody>\n",
       "    <tr>\n",
       "      <th>Intercept</th>\n",
       "      <td>0.037339</td>\n",
       "      <td>0.024795</td>\n",
       "      <td>0.056227</td>\n",
       "    </tr>\n",
       "    <tr>\n",
       "      <th>C(직장에서의복리후생제공여부, Treatment('제공하지않는다'))[T.제공한다]</th>\n",
       "      <td>2.481013</td>\n",
       "      <td>2.157781</td>\n",
       "      <td>2.852664</td>\n",
       "    </tr>\n",
       "    <tr>\n",
       "      <th>C(직장만족도, Treatment('그렇지않다'))[T.그렇다]</th>\n",
       "      <td>3.519785</td>\n",
       "      <td>2.924169</td>\n",
       "      <td>4.236719</td>\n",
       "    </tr>\n",
       "    <tr>\n",
       "      <th>C(직장만족도, Treatment('그렇지않다'))[T.보통이다]</th>\n",
       "      <td>1.798068</td>\n",
       "      <td>1.481818</td>\n",
       "      <td>2.181812</td>\n",
       "    </tr>\n",
       "    <tr>\n",
       "      <th>C(보험가입여부, Treatment('가입하지않음'))[T.가입했다]</th>\n",
       "      <td>1.600951</td>\n",
       "      <td>1.389806</td>\n",
       "      <td>1.844175</td>\n",
       "    </tr>\n",
       "    <tr>\n",
       "      <th>주당근로일</th>\n",
       "      <td>0.950415</td>\n",
       "      <td>0.850624</td>\n",
       "      <td>1.061913</td>\n",
       "    </tr>\n",
       "    <tr>\n",
       "      <th>주당근로시간</th>\n",
       "      <td>1.032438</td>\n",
       "      <td>1.023113</td>\n",
       "      <td>1.041848</td>\n",
       "    </tr>\n",
       "  </tbody>\n",
       "</table>\n",
       "</div>"
      ],
      "text/plain": [
       "                                                      OR  Lower CI  Upper CI\n",
       "Intercept                                       0.037339  0.024795  0.056227\n",
       "C(직장에서의복리후생제공여부, Treatment('제공하지않는다'))[T.제공한다]  2.481013  2.157781  2.852664\n",
       "C(직장만족도, Treatment('그렇지않다'))[T.그렇다]             3.519785  2.924169  4.236719\n",
       "C(직장만족도, Treatment('그렇지않다'))[T.보통이다]            1.798068  1.481818  2.181812\n",
       "C(보험가입여부, Treatment('가입하지않음'))[T.가입했다]          1.600951  1.389806  1.844175\n",
       "주당근로일                                           0.950415  0.850624  1.061913\n",
       "주당근로시간                                          1.032438  1.023113  1.041848"
      ]
     },
     "execution_count": 10,
     "metadata": {},
     "output_type": "execute_result"
    }
   ],
   "source": [
    "print('==================================Odds Ratio=========================================')\n",
    "# 오즈비 계산(Confidence interval 포함)\n",
    "odds_ratios_1 = pd.DataFrame(\n",
    "    {\n",
    "        \"OR\": model_1.params,\n",
    "        \"Lower CI\": model_1.conf_int()[0],\n",
    "        \"Upper CI\": model_1.conf_int()[1],\n",
    "    }\n",
    ")\n",
    "odds_ratios_1 = np.exp(odds_ratios_1)\n",
    "odds_ratios_1"
   ]
  }
 ],
 "metadata": {
  "kernelspec": {
   "display_name": "'pannel'",
   "language": "python",
   "name": "python3"
  },
  "language_info": {
   "codemirror_mode": {
    "name": "ipython",
    "version": 3
   },
   "file_extension": ".py",
   "mimetype": "text/x-python",
   "name": "python",
   "nbconvert_exporter": "python",
   "pygments_lexer": "ipython3",
   "version": "3.10.0"
  },
  "orig_nbformat": 4,
  "vscode": {
   "interpreter": {
    "hash": "567688ddcb0ff0e569682700137e8323bc710a8b8e628cd09dfd9151c691837d"
   }
  }
 },
 "nbformat": 4,
 "nbformat_minor": 2
}
