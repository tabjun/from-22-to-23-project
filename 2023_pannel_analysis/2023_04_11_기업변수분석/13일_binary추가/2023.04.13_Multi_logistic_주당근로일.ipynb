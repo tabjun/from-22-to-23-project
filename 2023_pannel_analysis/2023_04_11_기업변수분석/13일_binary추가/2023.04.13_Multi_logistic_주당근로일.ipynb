{
 "cells": [
  {
   "cell_type": "markdown",
   "metadata": {},
   "source": [
    "##### Module import"
   ]
  },
  {
   "cell_type": "code",
   "execution_count": 1,
   "metadata": {},
   "outputs": [],
   "source": [
    "import pandas as pd\n",
    "import numpy as np\n",
    "import os\n",
    "import matplotlib.pyplot as plt\n",
    "import seaborn as sns\n",
    "import statsmodels.api as sm\n",
    "from statsmodels.stats.outliers_influence import variance_inflation_factor # 다중공선성"
   ]
  },
  {
   "cell_type": "code",
   "execution_count": 2,
   "metadata": {},
   "outputs": [],
   "source": [
    "from matplotlib import font_manager, rc\n",
    "font_path = \"C:/Windows/Fonts/NGULIM.TTF\"\n",
    "font = font_manager.FontProperties(fname=font_path).get_name()\n",
    "rc('font', family=font)"
   ]
  },
  {
   "attachments": {},
   "cell_type": "markdown",
   "metadata": {},
   "source": [
    "##### Data import"
   ]
  },
  {
   "cell_type": "code",
   "execution_count": 3,
   "metadata": {},
   "outputs": [
    {
     "name": "stdout",
     "output_type": "stream",
     "text": [
      "c:\\Users\\Owner\\Desktop\\윤태준\\고용패널\\고용패널 파이썬 분석\\2023_04_06_변수추가\\변수추가\n"
     ]
    }
   ],
   "source": [
    "print(os.getcwd())"
   ]
  },
  {
   "cell_type": "code",
   "execution_count": 4,
   "metadata": {},
   "outputs": [],
   "source": [
    "df = pd.read_csv('2023_04_10_data_step.csv', encoding='cp949')"
   ]
  },
  {
   "cell_type": "code",
   "execution_count": 5,
   "metadata": {},
   "outputs": [
    {
     "data": {
      "text/plain": [
       "Index(['pid', 'majorcat', 'province', 'area', 'sex', 'age', 'a003', 'a010',\n",
       "       'a038', 'a039',\n",
       "       ...\n",
       "       'big_companyG', 'work_satiG', 'company_satiG', 'supply', 'insurance',\n",
       "       '주당근로일', '주당근로시간', '직장에서의복리후생제공여부', '보험가입여부', '직장만족도'],\n",
       "      dtype='object', length=106)"
      ]
     },
     "execution_count": 5,
     "metadata": {},
     "output_type": "execute_result"
    }
   ],
   "source": [
    "df_1 = df.copy()\n",
    "df_1.columns"
   ]
  },
  {
   "attachments": {},
   "cell_type": "markdown",
   "metadata": {},
   "source": [
    "##### 다변량 모델"
   ]
  },
  {
   "cell_type": "markdown",
   "metadata": {},
   "source": [
    "#### 복지 모델"
   ]
  },
  {
   "cell_type": "code",
   "execution_count": 6,
   "metadata": {},
   "outputs": [
    {
     "name": "stdout",
     "output_type": "stream",
     "text": [
      "Optimization terminated successfully.\n",
      "         Current function value: 0.544362\n",
      "         Iterations 5\n",
      "==================================Model Summary=========================================\n"
     ]
    },
    {
     "data": {
      "text/html": [
       "<table class=\"simpletable\">\n",
       "<caption>Logit Regression Results</caption>\n",
       "<tr>\n",
       "  <th>Dep. Variable:</th>       <td>LongWork2</td>    <th>  No. Observations:  </th>  <td>  5808</td>  \n",
       "</tr>\n",
       "<tr>\n",
       "  <th>Model:</th>                 <td>Logit</td>      <th>  Df Residuals:      </th>  <td>  5805</td>  \n",
       "</tr>\n",
       "<tr>\n",
       "  <th>Method:</th>                 <td>MLE</td>       <th>  Df Model:          </th>  <td>     2</td>  \n",
       "</tr>\n",
       "<tr>\n",
       "  <th>Date:</th>            <td>Tue, 11 Apr 2023</td> <th>  Pseudo R-squ.:     </th>  <td>0.06165</td> \n",
       "</tr>\n",
       "<tr>\n",
       "  <th>Time:</th>                <td>20:19:01</td>     <th>  Log-Likelihood:    </th> <td> -3161.7</td> \n",
       "</tr>\n",
       "<tr>\n",
       "  <th>converged:</th>             <td>True</td>       <th>  LL-Null:           </th> <td> -3369.4</td> \n",
       "</tr>\n",
       "<tr>\n",
       "  <th>Covariance Type:</th>     <td>nonrobust</td>    <th>  LLR p-value:       </th> <td>6.229e-91</td>\n",
       "</tr>\n",
       "</table>\n",
       "<table class=\"simpletable\">\n",
       "<tr>\n",
       "                         <td></td>                           <th>coef</th>     <th>std err</th>      <th>z</th>      <th>P>|z|</th>  <th>[0.025</th>    <th>0.975]</th>  \n",
       "</tr>\n",
       "<tr>\n",
       "  <th>Intercept</th>                                      <td>   -1.6740</td> <td>    0.055</td> <td>  -30.503</td> <td> 0.000</td> <td>   -1.782</td> <td>   -1.566</td>\n",
       "</tr>\n",
       "<tr>\n",
       "  <th>C(직장에서의복리후생제공여부, Treatment('제공하지않는다'))[T.제공한다]</th> <td>    1.0717</td> <td>    0.069</td> <td>   15.474</td> <td> 0.000</td> <td>    0.936</td> <td>    1.207</td>\n",
       "</tr>\n",
       "<tr>\n",
       "  <th>C(보험가입여부, Treatment('가입하지않음'))[T.가입했다]</th>         <td>    0.6123</td> <td>    0.067</td> <td>    9.104</td> <td> 0.000</td> <td>    0.481</td> <td>    0.744</td>\n",
       "</tr>\n",
       "</table>"
      ],
      "text/plain": [
       "<class 'statsmodels.iolib.summary.Summary'>\n",
       "\"\"\"\n",
       "                           Logit Regression Results                           \n",
       "==============================================================================\n",
       "Dep. Variable:              LongWork2   No. Observations:                 5808\n",
       "Model:                          Logit   Df Residuals:                     5805\n",
       "Method:                           MLE   Df Model:                            2\n",
       "Date:                Tue, 11 Apr 2023   Pseudo R-squ.:                 0.06165\n",
       "Time:                        20:19:01   Log-Likelihood:                -3161.7\n",
       "converged:                       True   LL-Null:                       -3369.4\n",
       "Covariance Type:            nonrobust   LLR p-value:                 6.229e-91\n",
       "==================================================================================================================\n",
       "                                                     coef    std err          z      P>|z|      [0.025      0.975]\n",
       "------------------------------------------------------------------------------------------------------------------\n",
       "Intercept                                         -1.6740      0.055    -30.503      0.000      -1.782      -1.566\n",
       "C(직장에서의복리후생제공여부, Treatment('제공하지않는다'))[T.제공한다]     1.0717      0.069     15.474      0.000       0.936       1.207\n",
       "C(보험가입여부, Treatment('가입하지않음'))[T.가입했다]             0.6123      0.067      9.104      0.000       0.481       0.744\n",
       "==================================================================================================================\n",
       "\"\"\""
      ]
     },
     "execution_count": 6,
     "metadata": {},
     "output_type": "execute_result"
    }
   ],
   "source": [
    "model_1 = sm.Logit.from_formula('''LongWork2 ~ C(직장에서의복리후생제공여부,Treatment('제공하지않는다'))\n",
    "    + C(보험가입여부,Treatment('가입하지않음'))''', df_1).fit()\n",
    "print('==================================Model Summary=========================================')\n",
    "model_1.summary()"
   ]
  },
  {
   "cell_type": "code",
   "execution_count": 7,
   "metadata": {},
   "outputs": [
    {
     "name": "stdout",
     "output_type": "stream",
     "text": [
      "==================================Odds Ratio=========================================\n"
     ]
    },
    {
     "data": {
      "text/html": [
       "<div>\n",
       "<style scoped>\n",
       "    .dataframe tbody tr th:only-of-type {\n",
       "        vertical-align: middle;\n",
       "    }\n",
       "\n",
       "    .dataframe tbody tr th {\n",
       "        vertical-align: top;\n",
       "    }\n",
       "\n",
       "    .dataframe thead th {\n",
       "        text-align: right;\n",
       "    }\n",
       "</style>\n",
       "<table border=\"1\" class=\"dataframe\">\n",
       "  <thead>\n",
       "    <tr style=\"text-align: right;\">\n",
       "      <th></th>\n",
       "      <th>OR</th>\n",
       "      <th>Lower CI</th>\n",
       "      <th>Upper CI</th>\n",
       "    </tr>\n",
       "  </thead>\n",
       "  <tbody>\n",
       "    <tr>\n",
       "      <th>Intercept</th>\n",
       "      <td>0.187490</td>\n",
       "      <td>0.168370</td>\n",
       "      <td>0.208782</td>\n",
       "    </tr>\n",
       "    <tr>\n",
       "      <th>C(직장에서의복리후생제공여부, Treatment('제공하지않는다'))[T.제공한다]</th>\n",
       "      <td>2.920222</td>\n",
       "      <td>2.549571</td>\n",
       "      <td>3.344757</td>\n",
       "    </tr>\n",
       "    <tr>\n",
       "      <th>C(보험가입여부, Treatment('가입하지않음'))[T.가입했다]</th>\n",
       "      <td>1.844752</td>\n",
       "      <td>1.616896</td>\n",
       "      <td>2.104717</td>\n",
       "    </tr>\n",
       "  </tbody>\n",
       "</table>\n",
       "</div>"
      ],
      "text/plain": [
       "                                                      OR  Lower CI  Upper CI\n",
       "Intercept                                       0.187490  0.168370  0.208782\n",
       "C(직장에서의복리후생제공여부, Treatment('제공하지않는다'))[T.제공한다]  2.920222  2.549571  3.344757\n",
       "C(보험가입여부, Treatment('가입하지않음'))[T.가입했다]          1.844752  1.616896  2.104717"
      ]
     },
     "execution_count": 7,
     "metadata": {},
     "output_type": "execute_result"
    }
   ],
   "source": [
    "print('==================================Odds Ratio=========================================')\n",
    "# 오즈비 계산(Confidence interval 포함)\n",
    "odds_ratios_1 = pd.DataFrame(\n",
    "    {\n",
    "        \"OR\": model_1.params,\n",
    "        \"Lower CI\": model_1.conf_int()[0],\n",
    "        \"Upper CI\": model_1.conf_int()[1],\n",
    "    }\n",
    ")\n",
    "odds_ratios_1 = np.exp(odds_ratios_1)\n",
    "odds_ratios_1"
   ]
  },
  {
   "cell_type": "code",
   "execution_count": 8,
   "metadata": {},
   "outputs": [
    {
     "name": "stdout",
     "output_type": "stream",
     "text": [
      "Optimization terminated successfully.\n",
      "         Current function value: 0.542397\n",
      "         Iterations 6\n",
      "==================================Model Summary=========================================\n"
     ]
    },
    {
     "data": {
      "text/html": [
       "<table class=\"simpletable\">\n",
       "<caption>Logit Regression Results</caption>\n",
       "<tr>\n",
       "  <th>Dep. Variable:</th>       <td>LongWork2</td>    <th>  No. Observations:  </th>  <td>  5808</td>  \n",
       "</tr>\n",
       "<tr>\n",
       "  <th>Model:</th>                 <td>Logit</td>      <th>  Df Residuals:      </th>  <td>  5804</td>  \n",
       "</tr>\n",
       "<tr>\n",
       "  <th>Method:</th>                 <td>MLE</td>       <th>  Df Model:          </th>  <td>     3</td>  \n",
       "</tr>\n",
       "<tr>\n",
       "  <th>Date:</th>            <td>Tue, 11 Apr 2023</td> <th>  Pseudo R-squ.:     </th>  <td>0.06503</td> \n",
       "</tr>\n",
       "<tr>\n",
       "  <th>Time:</th>                <td>20:19:20</td>     <th>  Log-Likelihood:    </th> <td> -3150.2</td> \n",
       "</tr>\n",
       "<tr>\n",
       "  <th>converged:</th>             <td>True</td>       <th>  LL-Null:           </th> <td> -3369.4</td> \n",
       "</tr>\n",
       "<tr>\n",
       "  <th>Covariance Type:</th>     <td>nonrobust</td>    <th>  LLR p-value:       </th> <td>1.154e-94</td>\n",
       "</tr>\n",
       "</table>\n",
       "<table class=\"simpletable\">\n",
       "<tr>\n",
       "                         <td></td>                           <th>coef</th>     <th>std err</th>      <th>z</th>      <th>P>|z|</th>  <th>[0.025</th>    <th>0.975]</th>  \n",
       "</tr>\n",
       "<tr>\n",
       "  <th>Intercept</th>                                      <td>   -2.4654</td> <td>    0.183</td> <td>  -13.468</td> <td> 0.000</td> <td>   -2.824</td> <td>   -2.107</td>\n",
       "</tr>\n",
       "<tr>\n",
       "  <th>C(직장에서의복리후생제공여부, Treatment('제공하지않는다'))[T.제공한다]</th> <td>    1.0545</td> <td>    0.069</td> <td>   15.230</td> <td> 0.000</td> <td>    0.919</td> <td>    1.190</td>\n",
       "</tr>\n",
       "<tr>\n",
       "  <th>C(보험가입여부, Treatment('가입하지않음'))[T.가입했다]</th>         <td>    0.5193</td> <td>    0.070</td> <td>    7.468</td> <td> 0.000</td> <td>    0.383</td> <td>    0.656</td>\n",
       "</tr>\n",
       "<tr>\n",
       "  <th>주당근로일</th>                                          <td>    0.1781</td> <td>    0.038</td> <td>    4.636</td> <td> 0.000</td> <td>    0.103</td> <td>    0.253</td>\n",
       "</tr>\n",
       "</table>"
      ],
      "text/plain": [
       "<class 'statsmodels.iolib.summary.Summary'>\n",
       "\"\"\"\n",
       "                           Logit Regression Results                           \n",
       "==============================================================================\n",
       "Dep. Variable:              LongWork2   No. Observations:                 5808\n",
       "Model:                          Logit   Df Residuals:                     5804\n",
       "Method:                           MLE   Df Model:                            3\n",
       "Date:                Tue, 11 Apr 2023   Pseudo R-squ.:                 0.06503\n",
       "Time:                        20:19:20   Log-Likelihood:                -3150.2\n",
       "converged:                       True   LL-Null:                       -3369.4\n",
       "Covariance Type:            nonrobust   LLR p-value:                 1.154e-94\n",
       "==================================================================================================================\n",
       "                                                     coef    std err          z      P>|z|      [0.025      0.975]\n",
       "------------------------------------------------------------------------------------------------------------------\n",
       "Intercept                                         -2.4654      0.183    -13.468      0.000      -2.824      -2.107\n",
       "C(직장에서의복리후생제공여부, Treatment('제공하지않는다'))[T.제공한다]     1.0545      0.069     15.230      0.000       0.919       1.190\n",
       "C(보험가입여부, Treatment('가입하지않음'))[T.가입했다]             0.5193      0.070      7.468      0.000       0.383       0.656\n",
       "주당근로일                                              0.1781      0.038      4.636      0.000       0.103       0.253\n",
       "==================================================================================================================\n",
       "\"\"\""
      ]
     },
     "execution_count": 8,
     "metadata": {},
     "output_type": "execute_result"
    }
   ],
   "source": [
    "model_2 = sm.Logit.from_formula('''LongWork2 ~ + C(직장에서의복리후생제공여부,Treatment('제공하지않는다'))\n",
    "    +  C(보험가입여부,Treatment('가입하지않음')) + 주당근로일 ''', df_1).fit()\n",
    "print('==================================Model Summary=========================================')\n",
    "model_2.summary()"
   ]
  },
  {
   "cell_type": "code",
   "execution_count": 9,
   "metadata": {},
   "outputs": [
    {
     "name": "stdout",
     "output_type": "stream",
     "text": [
      "==================================Odds Ratio=========================================\n"
     ]
    },
    {
     "data": {
      "text/html": [
       "<div>\n",
       "<style scoped>\n",
       "    .dataframe tbody tr th:only-of-type {\n",
       "        vertical-align: middle;\n",
       "    }\n",
       "\n",
       "    .dataframe tbody tr th {\n",
       "        vertical-align: top;\n",
       "    }\n",
       "\n",
       "    .dataframe thead th {\n",
       "        text-align: right;\n",
       "    }\n",
       "</style>\n",
       "<table border=\"1\" class=\"dataframe\">\n",
       "  <thead>\n",
       "    <tr style=\"text-align: right;\">\n",
       "      <th></th>\n",
       "      <th>OR</th>\n",
       "      <th>Lower CI</th>\n",
       "      <th>Upper CI</th>\n",
       "    </tr>\n",
       "  </thead>\n",
       "  <tbody>\n",
       "    <tr>\n",
       "      <th>Intercept</th>\n",
       "      <td>0.084973</td>\n",
       "      <td>0.059356</td>\n",
       "      <td>0.121645</td>\n",
       "    </tr>\n",
       "    <tr>\n",
       "      <th>C(직장에서의복리후생제공여부, Treatment('제공하지않는다'))[T.제공한다]</th>\n",
       "      <td>2.870668</td>\n",
       "      <td>2.506366</td>\n",
       "      <td>3.287921</td>\n",
       "    </tr>\n",
       "    <tr>\n",
       "      <th>C(보험가입여부, Treatment('가입하지않음'))[T.가입했다]</th>\n",
       "      <td>1.680887</td>\n",
       "      <td>1.466717</td>\n",
       "      <td>1.926329</td>\n",
       "    </tr>\n",
       "    <tr>\n",
       "      <th>주당근로일</th>\n",
       "      <td>1.194893</td>\n",
       "      <td>1.108240</td>\n",
       "      <td>1.288322</td>\n",
       "    </tr>\n",
       "  </tbody>\n",
       "</table>\n",
       "</div>"
      ],
      "text/plain": [
       "                                                      OR  Lower CI  Upper CI\n",
       "Intercept                                       0.084973  0.059356  0.121645\n",
       "C(직장에서의복리후생제공여부, Treatment('제공하지않는다'))[T.제공한다]  2.870668  2.506366  3.287921\n",
       "C(보험가입여부, Treatment('가입하지않음'))[T.가입했다]          1.680887  1.466717  1.926329\n",
       "주당근로일                                           1.194893  1.108240  1.288322"
      ]
     },
     "execution_count": 9,
     "metadata": {},
     "output_type": "execute_result"
    }
   ],
   "source": [
    "print('==================================Odds Ratio=========================================')\n",
    "# 오즈비 계산(Confidence interval 포함)\n",
    "odds_ratios_2 = pd.DataFrame(\n",
    "    {\n",
    "        \"OR\": model_2.params,\n",
    "        \"Lower CI\": model_2.conf_int()[0],\n",
    "        \"Upper CI\": model_2.conf_int()[1],\n",
    "    }\n",
    ")\n",
    "odds_ratios_2 = np.exp(odds_ratios_2)\n",
    "odds_ratios_2"
   ]
  },
  {
   "cell_type": "code",
   "execution_count": 10,
   "metadata": {},
   "outputs": [
    {
     "name": "stdout",
     "output_type": "stream",
     "text": [
      "Optimization terminated successfully.\n",
      "         Current function value: 0.524463\n",
      "         Iterations 6\n",
      "==================================Model Summary=========================================\n"
     ]
    },
    {
     "data": {
      "text/html": [
       "<table class=\"simpletable\">\n",
       "<caption>Logit Regression Results</caption>\n",
       "<tr>\n",
       "  <th>Dep. Variable:</th>       <td>LongWork2</td>    <th>  No. Observations:  </th>   <td>  5808</td>  \n",
       "</tr>\n",
       "<tr>\n",
       "  <th>Model:</th>                 <td>Logit</td>      <th>  Df Residuals:      </th>   <td>  5802</td>  \n",
       "</tr>\n",
       "<tr>\n",
       "  <th>Method:</th>                 <td>MLE</td>       <th>  Df Model:          </th>   <td>     5</td>  \n",
       "</tr>\n",
       "<tr>\n",
       "  <th>Date:</th>            <td>Tue, 11 Apr 2023</td> <th>  Pseudo R-squ.:     </th>   <td>0.09595</td> \n",
       "</tr>\n",
       "<tr>\n",
       "  <th>Time:</th>                <td>20:20:32</td>     <th>  Log-Likelihood:    </th>  <td> -3046.1</td> \n",
       "</tr>\n",
       "<tr>\n",
       "  <th>converged:</th>             <td>True</td>       <th>  LL-Null:           </th>  <td> -3369.4</td> \n",
       "</tr>\n",
       "<tr>\n",
       "  <th>Covariance Type:</th>     <td>nonrobust</td>    <th>  LLR p-value:       </th> <td>1.753e-137</td>\n",
       "</tr>\n",
       "</table>\n",
       "<table class=\"simpletable\">\n",
       "<tr>\n",
       "                         <td></td>                           <th>coef</th>     <th>std err</th>      <th>z</th>      <th>P>|z|</th>  <th>[0.025</th>    <th>0.975]</th>  \n",
       "</tr>\n",
       "<tr>\n",
       "  <th>Intercept</th>                                      <td>   -3.4564</td> <td>    0.208</td> <td>  -16.637</td> <td> 0.000</td> <td>   -3.864</td> <td>   -3.049</td>\n",
       "</tr>\n",
       "<tr>\n",
       "  <th>C(직장에서의복리후생제공여부, Treatment('제공하지않는다'))[T.제공한다]</th> <td>    0.9262</td> <td>    0.071</td> <td>   13.046</td> <td> 0.000</td> <td>    0.787</td> <td>    1.065</td>\n",
       "</tr>\n",
       "<tr>\n",
       "  <th>C(보험가입여부, Treatment('가입하지않음'))[T.가입했다]</th>         <td>    0.5731</td> <td>    0.071</td> <td>    8.095</td> <td> 0.000</td> <td>    0.434</td> <td>    0.712</td>\n",
       "</tr>\n",
       "<tr>\n",
       "  <th>C(직장만족도, Treatment('그렇지않다'))[T.그렇다]</th>            <td>    1.2023</td> <td>    0.094</td> <td>   12.795</td> <td> 0.000</td> <td>    1.018</td> <td>    1.386</td>\n",
       "</tr>\n",
       "<tr>\n",
       "  <th>C(직장만족도, Treatment('그렇지않다'))[T.보통이다]</th>           <td>    0.5473</td> <td>    0.098</td> <td>    5.565</td> <td> 0.000</td> <td>    0.355</td> <td>    0.740</td>\n",
       "</tr>\n",
       "<tr>\n",
       "  <th>주당근로일</th>                                          <td>    0.2268</td> <td>    0.039</td> <td>    5.790</td> <td> 0.000</td> <td>    0.150</td> <td>    0.304</td>\n",
       "</tr>\n",
       "</table>"
      ],
      "text/plain": [
       "<class 'statsmodels.iolib.summary.Summary'>\n",
       "\"\"\"\n",
       "                           Logit Regression Results                           \n",
       "==============================================================================\n",
       "Dep. Variable:              LongWork2   No. Observations:                 5808\n",
       "Model:                          Logit   Df Residuals:                     5802\n",
       "Method:                           MLE   Df Model:                            5\n",
       "Date:                Tue, 11 Apr 2023   Pseudo R-squ.:                 0.09595\n",
       "Time:                        20:20:32   Log-Likelihood:                -3046.1\n",
       "converged:                       True   LL-Null:                       -3369.4\n",
       "Covariance Type:            nonrobust   LLR p-value:                1.753e-137\n",
       "==================================================================================================================\n",
       "                                                     coef    std err          z      P>|z|      [0.025      0.975]\n",
       "------------------------------------------------------------------------------------------------------------------\n",
       "Intercept                                         -3.4564      0.208    -16.637      0.000      -3.864      -3.049\n",
       "C(직장에서의복리후생제공여부, Treatment('제공하지않는다'))[T.제공한다]     0.9262      0.071     13.046      0.000       0.787       1.065\n",
       "C(보험가입여부, Treatment('가입하지않음'))[T.가입했다]             0.5731      0.071      8.095      0.000       0.434       0.712\n",
       "C(직장만족도, Treatment('그렇지않다'))[T.그렇다]                1.2023      0.094     12.795      0.000       1.018       1.386\n",
       "C(직장만족도, Treatment('그렇지않다'))[T.보통이다]               0.5473      0.098      5.565      0.000       0.355       0.740\n",
       "주당근로일                                              0.2268      0.039      5.790      0.000       0.150       0.304\n",
       "==================================================================================================================\n",
       "\"\"\""
      ]
     },
     "execution_count": 10,
     "metadata": {},
     "output_type": "execute_result"
    }
   ],
   "source": [
    "model_3 = sm.Logit.from_formula('''LongWork2 ~ \n",
    "    + C(직장에서의복리후생제공여부,Treatment('제공하지않는다'))\n",
    "    + C(보험가입여부,Treatment('가입하지않음'))\n",
    "    + 주당근로일 + C(직장만족도,Treatment('그렇지않다'))''', df_1).fit()\n",
    "print('==================================Model Summary=========================================')\n",
    "model_3.summary()"
   ]
  },
  {
   "cell_type": "code",
   "execution_count": 11,
   "metadata": {},
   "outputs": [
    {
     "name": "stdout",
     "output_type": "stream",
     "text": [
      "==================================Odds Ratio=========================================\n"
     ]
    },
    {
     "data": {
      "text/html": [
       "<div>\n",
       "<style scoped>\n",
       "    .dataframe tbody tr th:only-of-type {\n",
       "        vertical-align: middle;\n",
       "    }\n",
       "\n",
       "    .dataframe tbody tr th {\n",
       "        vertical-align: top;\n",
       "    }\n",
       "\n",
       "    .dataframe thead th {\n",
       "        text-align: right;\n",
       "    }\n",
       "</style>\n",
       "<table border=\"1\" class=\"dataframe\">\n",
       "  <thead>\n",
       "    <tr style=\"text-align: right;\">\n",
       "      <th></th>\n",
       "      <th>OR</th>\n",
       "      <th>Lower CI</th>\n",
       "      <th>Upper CI</th>\n",
       "    </tr>\n",
       "  </thead>\n",
       "  <tbody>\n",
       "    <tr>\n",
       "      <th>Intercept</th>\n",
       "      <td>0.031544</td>\n",
       "      <td>0.020993</td>\n",
       "      <td>0.047397</td>\n",
       "    </tr>\n",
       "    <tr>\n",
       "      <th>C(직장에서의복리후생제공여부, Treatment('제공하지않는다'))[T.제공한다]</th>\n",
       "      <td>2.524935</td>\n",
       "      <td>2.196945</td>\n",
       "      <td>2.901892</td>\n",
       "    </tr>\n",
       "    <tr>\n",
       "      <th>C(보험가입여부, Treatment('가입하지않음'))[T.가입했다]</th>\n",
       "      <td>1.773803</td>\n",
       "      <td>1.543968</td>\n",
       "      <td>2.037851</td>\n",
       "    </tr>\n",
       "    <tr>\n",
       "      <th>C(직장만족도, Treatment('그렇지않다'))[T.그렇다]</th>\n",
       "      <td>3.327845</td>\n",
       "      <td>2.768079</td>\n",
       "      <td>4.000808</td>\n",
       "    </tr>\n",
       "    <tr>\n",
       "      <th>C(직장만족도, Treatment('그렇지않다'))[T.보통이다]</th>\n",
       "      <td>1.728622</td>\n",
       "      <td>1.425571</td>\n",
       "      <td>2.096097</td>\n",
       "    </tr>\n",
       "    <tr>\n",
       "      <th>주당근로일</th>\n",
       "      <td>1.254535</td>\n",
       "      <td>1.161838</td>\n",
       "      <td>1.354628</td>\n",
       "    </tr>\n",
       "  </tbody>\n",
       "</table>\n",
       "</div>"
      ],
      "text/plain": [
       "                                                      OR  Lower CI  Upper CI\n",
       "Intercept                                       0.031544  0.020993  0.047397\n",
       "C(직장에서의복리후생제공여부, Treatment('제공하지않는다'))[T.제공한다]  2.524935  2.196945  2.901892\n",
       "C(보험가입여부, Treatment('가입하지않음'))[T.가입했다]          1.773803  1.543968  2.037851\n",
       "C(직장만족도, Treatment('그렇지않다'))[T.그렇다]             3.327845  2.768079  4.000808\n",
       "C(직장만족도, Treatment('그렇지않다'))[T.보통이다]            1.728622  1.425571  2.096097\n",
       "주당근로일                                           1.254535  1.161838  1.354628"
      ]
     },
     "execution_count": 11,
     "metadata": {},
     "output_type": "execute_result"
    }
   ],
   "source": [
    "print('==================================Odds Ratio=========================================')\n",
    "# 오즈비 계산(Confidence interval 포함)\n",
    "odds_ratios_3 = pd.DataFrame(\n",
    "    {\n",
    "        \"OR\": model_3.params,\n",
    "        \"Lower CI\": model_3.conf_int()[0],\n",
    "        \"Upper CI\": model_3.conf_int()[1],\n",
    "    }\n",
    ")\n",
    "odds_ratios_3 = np.exp(odds_ratios_3)\n",
    "odds_ratios_3"
   ]
  }
 ],
 "metadata": {
  "kernelspec": {
   "display_name": "'pannel'",
   "language": "python",
   "name": "python3"
  },
  "language_info": {
   "codemirror_mode": {
    "name": "ipython",
    "version": 3
   },
   "file_extension": ".py",
   "mimetype": "text/x-python",
   "name": "python",
   "nbconvert_exporter": "python",
   "pygments_lexer": "ipython3",
   "version": "3.10.0"
  },
  "orig_nbformat": 4,
  "vscode": {
   "interpreter": {
    "hash": "567688ddcb0ff0e569682700137e8323bc710a8b8e628cd09dfd9151c691837d"
   }
  }
 },
 "nbformat": 4,
 "nbformat_minor": 2
}
