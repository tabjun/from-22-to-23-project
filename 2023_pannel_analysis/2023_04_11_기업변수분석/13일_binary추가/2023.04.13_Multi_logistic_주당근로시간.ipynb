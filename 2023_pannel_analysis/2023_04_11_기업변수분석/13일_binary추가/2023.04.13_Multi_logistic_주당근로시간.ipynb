{
 "cells": [
  {
   "cell_type": "markdown",
   "metadata": {},
   "source": [
    "##### Module import"
   ]
  },
  {
   "cell_type": "code",
   "execution_count": 1,
   "metadata": {},
   "outputs": [],
   "source": [
    "import pandas as pd\n",
    "import numpy as np\n",
    "import os\n",
    "import matplotlib.pyplot as plt\n",
    "import seaborn as sns\n",
    "import statsmodels.api as sm\n",
    "from statsmodels.stats.outliers_influence import variance_inflation_factor # 다중공선성"
   ]
  },
  {
   "cell_type": "code",
   "execution_count": 2,
   "metadata": {},
   "outputs": [],
   "source": [
    "from matplotlib import font_manager, rc\n",
    "font_path = \"C:/Windows/Fonts/NGULIM.TTF\"\n",
    "font = font_manager.FontProperties(fname=font_path).get_name()\n",
    "rc('font', family=font)"
   ]
  },
  {
   "attachments": {},
   "cell_type": "markdown",
   "metadata": {},
   "source": [
    "##### Data import"
   ]
  },
  {
   "cell_type": "code",
   "execution_count": 3,
   "metadata": {},
   "outputs": [
    {
     "name": "stdout",
     "output_type": "stream",
     "text": [
      "c:\\Users\\Owner\\Desktop\\윤태준\\고용패널\\고용패널 파이썬 분석\\2023_04_06_변수추가\\변수추가\n"
     ]
    }
   ],
   "source": [
    "print(os.getcwd())"
   ]
  },
  {
   "cell_type": "code",
   "execution_count": 4,
   "metadata": {},
   "outputs": [],
   "source": [
    "df = pd.read_csv('2023_04_10_data_step.csv', encoding='cp949')"
   ]
  },
  {
   "cell_type": "code",
   "execution_count": 5,
   "metadata": {},
   "outputs": [
    {
     "data": {
      "text/plain": [
       "Index(['pid', 'majorcat', 'province', 'area', 'sex', 'age', 'a003', 'a010',\n",
       "       'a038', 'a039',\n",
       "       ...\n",
       "       'big_companyG', 'work_satiG', 'company_satiG', 'supply', 'insurance',\n",
       "       '주당근로일', '주당근로시간', '직장에서의복리후생제공여부', '보험가입여부', '직장만족도'],\n",
       "      dtype='object', length=106)"
      ]
     },
     "execution_count": 5,
     "metadata": {},
     "output_type": "execute_result"
    }
   ],
   "source": [
    "df_1 = df.copy()\n",
    "df_1.columns"
   ]
  },
  {
   "attachments": {},
   "cell_type": "markdown",
   "metadata": {},
   "source": [
    "##### 다변량 모델"
   ]
  },
  {
   "cell_type": "markdown",
   "metadata": {},
   "source": [
    "#### 복지 모델"
   ]
  },
  {
   "cell_type": "code",
   "execution_count": 6,
   "metadata": {},
   "outputs": [
    {
     "name": "stdout",
     "output_type": "stream",
     "text": [
      "Optimization terminated successfully.\n",
      "         Current function value: 0.544362\n",
      "         Iterations 5\n",
      "==================================Model Summary=========================================\n"
     ]
    },
    {
     "data": {
      "text/html": [
       "<table class=\"simpletable\">\n",
       "<caption>Logit Regression Results</caption>\n",
       "<tr>\n",
       "  <th>Dep. Variable:</th>       <td>LongWork2</td>    <th>  No. Observations:  </th>  <td>  5808</td>  \n",
       "</tr>\n",
       "<tr>\n",
       "  <th>Model:</th>                 <td>Logit</td>      <th>  Df Residuals:      </th>  <td>  5805</td>  \n",
       "</tr>\n",
       "<tr>\n",
       "  <th>Method:</th>                 <td>MLE</td>       <th>  Df Model:          </th>  <td>     2</td>  \n",
       "</tr>\n",
       "<tr>\n",
       "  <th>Date:</th>            <td>Tue, 11 Apr 2023</td> <th>  Pseudo R-squ.:     </th>  <td>0.06165</td> \n",
       "</tr>\n",
       "<tr>\n",
       "  <th>Time:</th>                <td>20:22:17</td>     <th>  Log-Likelihood:    </th> <td> -3161.7</td> \n",
       "</tr>\n",
       "<tr>\n",
       "  <th>converged:</th>             <td>True</td>       <th>  LL-Null:           </th> <td> -3369.4</td> \n",
       "</tr>\n",
       "<tr>\n",
       "  <th>Covariance Type:</th>     <td>nonrobust</td>    <th>  LLR p-value:       </th> <td>6.229e-91</td>\n",
       "</tr>\n",
       "</table>\n",
       "<table class=\"simpletable\">\n",
       "<tr>\n",
       "                         <td></td>                           <th>coef</th>     <th>std err</th>      <th>z</th>      <th>P>|z|</th>  <th>[0.025</th>    <th>0.975]</th>  \n",
       "</tr>\n",
       "<tr>\n",
       "  <th>Intercept</th>                                      <td>   -1.6740</td> <td>    0.055</td> <td>  -30.503</td> <td> 0.000</td> <td>   -1.782</td> <td>   -1.566</td>\n",
       "</tr>\n",
       "<tr>\n",
       "  <th>C(직장에서의복리후생제공여부, Treatment('제공하지않는다'))[T.제공한다]</th> <td>    1.0717</td> <td>    0.069</td> <td>   15.474</td> <td> 0.000</td> <td>    0.936</td> <td>    1.207</td>\n",
       "</tr>\n",
       "<tr>\n",
       "  <th>C(보험가입여부, Treatment('가입하지않음'))[T.가입했다]</th>         <td>    0.6123</td> <td>    0.067</td> <td>    9.104</td> <td> 0.000</td> <td>    0.481</td> <td>    0.744</td>\n",
       "</tr>\n",
       "</table>"
      ],
      "text/plain": [
       "<class 'statsmodels.iolib.summary.Summary'>\n",
       "\"\"\"\n",
       "                           Logit Regression Results                           \n",
       "==============================================================================\n",
       "Dep. Variable:              LongWork2   No. Observations:                 5808\n",
       "Model:                          Logit   Df Residuals:                     5805\n",
       "Method:                           MLE   Df Model:                            2\n",
       "Date:                Tue, 11 Apr 2023   Pseudo R-squ.:                 0.06165\n",
       "Time:                        20:22:17   Log-Likelihood:                -3161.7\n",
       "converged:                       True   LL-Null:                       -3369.4\n",
       "Covariance Type:            nonrobust   LLR p-value:                 6.229e-91\n",
       "==================================================================================================================\n",
       "                                                     coef    std err          z      P>|z|      [0.025      0.975]\n",
       "------------------------------------------------------------------------------------------------------------------\n",
       "Intercept                                         -1.6740      0.055    -30.503      0.000      -1.782      -1.566\n",
       "C(직장에서의복리후생제공여부, Treatment('제공하지않는다'))[T.제공한다]     1.0717      0.069     15.474      0.000       0.936       1.207\n",
       "C(보험가입여부, Treatment('가입하지않음'))[T.가입했다]             0.6123      0.067      9.104      0.000       0.481       0.744\n",
       "==================================================================================================================\n",
       "\"\"\""
      ]
     },
     "execution_count": 6,
     "metadata": {},
     "output_type": "execute_result"
    }
   ],
   "source": [
    "model_1 = sm.Logit.from_formula('''LongWork2 ~ C(직장에서의복리후생제공여부,Treatment('제공하지않는다'))\n",
    "    + C(보험가입여부,Treatment('가입하지않음'))''', df_1).fit()\n",
    "print('==================================Model Summary=========================================')\n",
    "model_1.summary()"
   ]
  },
  {
   "cell_type": "code",
   "execution_count": 7,
   "metadata": {},
   "outputs": [
    {
     "name": "stdout",
     "output_type": "stream",
     "text": [
      "==================================Odds Ratio=========================================\n"
     ]
    },
    {
     "data": {
      "text/html": [
       "<div>\n",
       "<style scoped>\n",
       "    .dataframe tbody tr th:only-of-type {\n",
       "        vertical-align: middle;\n",
       "    }\n",
       "\n",
       "    .dataframe tbody tr th {\n",
       "        vertical-align: top;\n",
       "    }\n",
       "\n",
       "    .dataframe thead th {\n",
       "        text-align: right;\n",
       "    }\n",
       "</style>\n",
       "<table border=\"1\" class=\"dataframe\">\n",
       "  <thead>\n",
       "    <tr style=\"text-align: right;\">\n",
       "      <th></th>\n",
       "      <th>OR</th>\n",
       "      <th>Lower CI</th>\n",
       "      <th>Upper CI</th>\n",
       "    </tr>\n",
       "  </thead>\n",
       "  <tbody>\n",
       "    <tr>\n",
       "      <th>Intercept</th>\n",
       "      <td>0.187490</td>\n",
       "      <td>0.168370</td>\n",
       "      <td>0.208782</td>\n",
       "    </tr>\n",
       "    <tr>\n",
       "      <th>C(직장에서의복리후생제공여부, Treatment('제공하지않는다'))[T.제공한다]</th>\n",
       "      <td>2.920222</td>\n",
       "      <td>2.549571</td>\n",
       "      <td>3.344757</td>\n",
       "    </tr>\n",
       "    <tr>\n",
       "      <th>C(보험가입여부, Treatment('가입하지않음'))[T.가입했다]</th>\n",
       "      <td>1.844752</td>\n",
       "      <td>1.616896</td>\n",
       "      <td>2.104717</td>\n",
       "    </tr>\n",
       "  </tbody>\n",
       "</table>\n",
       "</div>"
      ],
      "text/plain": [
       "                                                      OR  Lower CI  Upper CI\n",
       "Intercept                                       0.187490  0.168370  0.208782\n",
       "C(직장에서의복리후생제공여부, Treatment('제공하지않는다'))[T.제공한다]  2.920222  2.549571  3.344757\n",
       "C(보험가입여부, Treatment('가입하지않음'))[T.가입했다]          1.844752  1.616896  2.104717"
      ]
     },
     "execution_count": 7,
     "metadata": {},
     "output_type": "execute_result"
    }
   ],
   "source": [
    "print('==================================Odds Ratio=========================================')\n",
    "# 오즈비 계산(Confidence interval 포함)\n",
    "odds_ratios_1 = pd.DataFrame(\n",
    "    {\n",
    "        \"OR\": model_1.params,\n",
    "        \"Lower CI\": model_1.conf_int()[0],\n",
    "        \"Upper CI\": model_1.conf_int()[1],\n",
    "    }\n",
    ")\n",
    "odds_ratios_1 = np.exp(odds_ratios_1)\n",
    "odds_ratios_1"
   ]
  },
  {
   "cell_type": "code",
   "execution_count": 8,
   "metadata": {},
   "outputs": [
    {
     "name": "stdout",
     "output_type": "stream",
     "text": [
      "Optimization terminated successfully.\n",
      "         Current function value: 0.539437\n",
      "         Iterations 6\n",
      "==================================Model Summary=========================================\n"
     ]
    },
    {
     "data": {
      "text/html": [
       "<table class=\"simpletable\">\n",
       "<caption>Logit Regression Results</caption>\n",
       "<tr>\n",
       "  <th>Dep. Variable:</th>       <td>LongWork2</td>    <th>  No. Observations:  </th>   <td>  5808</td>  \n",
       "</tr>\n",
       "<tr>\n",
       "  <th>Model:</th>                 <td>Logit</td>      <th>  Df Residuals:      </th>   <td>  5804</td>  \n",
       "</tr>\n",
       "<tr>\n",
       "  <th>Method:</th>                 <td>MLE</td>       <th>  Df Model:          </th>   <td>     3</td>  \n",
       "</tr>\n",
       "<tr>\n",
       "  <th>Date:</th>            <td>Tue, 11 Apr 2023</td> <th>  Pseudo R-squ.:     </th>   <td>0.07014</td> \n",
       "</tr>\n",
       "<tr>\n",
       "  <th>Time:</th>                <td>20:22:24</td>     <th>  Log-Likelihood:    </th>  <td> -3133.0</td> \n",
       "</tr>\n",
       "<tr>\n",
       "  <th>converged:</th>             <td>True</td>       <th>  LL-Null:           </th>  <td> -3369.4</td> \n",
       "</tr>\n",
       "<tr>\n",
       "  <th>Covariance Type:</th>     <td>nonrobust</td>    <th>  LLR p-value:       </th> <td>4.083e-102</td>\n",
       "</tr>\n",
       "</table>\n",
       "<table class=\"simpletable\">\n",
       "<tr>\n",
       "                         <td></td>                           <th>coef</th>     <th>std err</th>      <th>z</th>      <th>P>|z|</th>  <th>[0.025</th>    <th>0.975]</th>  \n",
       "</tr>\n",
       "<tr>\n",
       "  <th>Intercept</th>                                      <td>   -2.4188</td> <td>    0.119</td> <td>  -20.292</td> <td> 0.000</td> <td>   -2.652</td> <td>   -2.185</td>\n",
       "</tr>\n",
       "<tr>\n",
       "  <th>C(직장에서의복리후생제공여부, Treatment('제공하지않는다'))[T.제공한다]</th> <td>    1.0437</td> <td>    0.069</td> <td>   15.061</td> <td> 0.000</td> <td>    0.908</td> <td>    1.180</td>\n",
       "</tr>\n",
       "<tr>\n",
       "  <th>C(보험가입여부, Treatment('가입하지않음'))[T.가입했다]</th>         <td>    0.4319</td> <td>    0.071</td> <td>    6.106</td> <td> 0.000</td> <td>    0.293</td> <td>    0.571</td>\n",
       "</tr>\n",
       "<tr>\n",
       "  <th>주당근로시간</th>                                         <td>    0.0232</td> <td>    0.003</td> <td>    7.417</td> <td> 0.000</td> <td>    0.017</td> <td>    0.029</td>\n",
       "</tr>\n",
       "</table>"
      ],
      "text/plain": [
       "<class 'statsmodels.iolib.summary.Summary'>\n",
       "\"\"\"\n",
       "                           Logit Regression Results                           \n",
       "==============================================================================\n",
       "Dep. Variable:              LongWork2   No. Observations:                 5808\n",
       "Model:                          Logit   Df Residuals:                     5804\n",
       "Method:                           MLE   Df Model:                            3\n",
       "Date:                Tue, 11 Apr 2023   Pseudo R-squ.:                 0.07014\n",
       "Time:                        20:22:24   Log-Likelihood:                -3133.0\n",
       "converged:                       True   LL-Null:                       -3369.4\n",
       "Covariance Type:            nonrobust   LLR p-value:                4.083e-102\n",
       "==================================================================================================================\n",
       "                                                     coef    std err          z      P>|z|      [0.025      0.975]\n",
       "------------------------------------------------------------------------------------------------------------------\n",
       "Intercept                                         -2.4188      0.119    -20.292      0.000      -2.652      -2.185\n",
       "C(직장에서의복리후생제공여부, Treatment('제공하지않는다'))[T.제공한다]     1.0437      0.069     15.061      0.000       0.908       1.180\n",
       "C(보험가입여부, Treatment('가입하지않음'))[T.가입했다]             0.4319      0.071      6.106      0.000       0.293       0.571\n",
       "주당근로시간                                             0.0232      0.003      7.417      0.000       0.017       0.029\n",
       "==================================================================================================================\n",
       "\"\"\""
      ]
     },
     "execution_count": 8,
     "metadata": {},
     "output_type": "execute_result"
    }
   ],
   "source": [
    "model_2 = sm.Logit.from_formula('''LongWork2 ~ + C(직장에서의복리후생제공여부,Treatment('제공하지않는다'))\n",
    "    +  C(보험가입여부,Treatment('가입하지않음')) + 주당근로시간''', df_1).fit()\n",
    "print('==================================Model Summary=========================================')\n",
    "model_2.summary()"
   ]
  },
  {
   "cell_type": "code",
   "execution_count": 9,
   "metadata": {},
   "outputs": [
    {
     "name": "stdout",
     "output_type": "stream",
     "text": [
      "==================================Odds Ratio=========================================\n"
     ]
    },
    {
     "data": {
      "text/html": [
       "<div>\n",
       "<style scoped>\n",
       "    .dataframe tbody tr th:only-of-type {\n",
       "        vertical-align: middle;\n",
       "    }\n",
       "\n",
       "    .dataframe tbody tr th {\n",
       "        vertical-align: top;\n",
       "    }\n",
       "\n",
       "    .dataframe thead th {\n",
       "        text-align: right;\n",
       "    }\n",
       "</style>\n",
       "<table border=\"1\" class=\"dataframe\">\n",
       "  <thead>\n",
       "    <tr style=\"text-align: right;\">\n",
       "      <th></th>\n",
       "      <th>OR</th>\n",
       "      <th>Lower CI</th>\n",
       "      <th>Upper CI</th>\n",
       "    </tr>\n",
       "  </thead>\n",
       "  <tbody>\n",
       "    <tr>\n",
       "      <th>Intercept</th>\n",
       "      <td>0.089032</td>\n",
       "      <td>0.070483</td>\n",
       "      <td>0.112463</td>\n",
       "    </tr>\n",
       "    <tr>\n",
       "      <th>C(직장에서의복리후생제공여부, Treatment('제공하지않는다'))[T.제공한다]</th>\n",
       "      <td>2.839760</td>\n",
       "      <td>2.479109</td>\n",
       "      <td>3.252877</td>\n",
       "    </tr>\n",
       "    <tr>\n",
       "      <th>C(보험가입여부, Treatment('가입하지않음'))[T.가입했다]</th>\n",
       "      <td>1.540141</td>\n",
       "      <td>1.340775</td>\n",
       "      <td>1.769152</td>\n",
       "    </tr>\n",
       "    <tr>\n",
       "      <th>주당근로시간</th>\n",
       "      <td>1.023425</td>\n",
       "      <td>1.017182</td>\n",
       "      <td>1.029706</td>\n",
       "    </tr>\n",
       "  </tbody>\n",
       "</table>\n",
       "</div>"
      ],
      "text/plain": [
       "                                                      OR  Lower CI  Upper CI\n",
       "Intercept                                       0.089032  0.070483  0.112463\n",
       "C(직장에서의복리후생제공여부, Treatment('제공하지않는다'))[T.제공한다]  2.839760  2.479109  3.252877\n",
       "C(보험가입여부, Treatment('가입하지않음'))[T.가입했다]          1.540141  1.340775  1.769152\n",
       "주당근로시간                                          1.023425  1.017182  1.029706"
      ]
     },
     "execution_count": 9,
     "metadata": {},
     "output_type": "execute_result"
    }
   ],
   "source": [
    "print('==================================Odds Ratio=========================================')\n",
    "# 오즈비 계산(Confidence interval 포함)\n",
    "odds_ratios_2 = pd.DataFrame(\n",
    "    {\n",
    "        \"OR\": model_2.params,\n",
    "        \"Lower CI\": model_2.conf_int()[0],\n",
    "        \"Upper CI\": model_2.conf_int()[1],\n",
    "    }\n",
    ")\n",
    "odds_ratios_2 = np.exp(odds_ratios_2)\n",
    "odds_ratios_2"
   ]
  },
  {
   "cell_type": "code",
   "execution_count": 10,
   "metadata": {},
   "outputs": [
    {
     "name": "stdout",
     "output_type": "stream",
     "text": [
      "Optimization terminated successfully.\n",
      "         Current function value: 0.520202\n",
      "         Iterations 6\n",
      "==================================Model Summary=========================================\n"
     ]
    },
    {
     "data": {
      "text/html": [
       "<table class=\"simpletable\">\n",
       "<caption>Logit Regression Results</caption>\n",
       "<tr>\n",
       "  <th>Dep. Variable:</th>       <td>LongWork2</td>    <th>  No. Observations:  </th>   <td>  5808</td>  \n",
       "</tr>\n",
       "<tr>\n",
       "  <th>Model:</th>                 <td>Logit</td>      <th>  Df Residuals:      </th>   <td>  5802</td>  \n",
       "</tr>\n",
       "<tr>\n",
       "  <th>Method:</th>                 <td>MLE</td>       <th>  Df Model:          </th>   <td>     5</td>  \n",
       "</tr>\n",
       "<tr>\n",
       "  <th>Date:</th>            <td>Tue, 11 Apr 2023</td> <th>  Pseudo R-squ.:     </th>   <td>0.1033</td>  \n",
       "</tr>\n",
       "<tr>\n",
       "  <th>Time:</th>                <td>20:24:50</td>     <th>  Log-Likelihood:    </th>  <td> -3021.3</td> \n",
       "</tr>\n",
       "<tr>\n",
       "  <th>converged:</th>             <td>True</td>       <th>  LL-Null:           </th>  <td> -3369.4</td> \n",
       "</tr>\n",
       "<tr>\n",
       "  <th>Covariance Type:</th>     <td>nonrobust</td>    <th>  LLR p-value:       </th> <td>3.505e-148</td>\n",
       "</tr>\n",
       "</table>\n",
       "<table class=\"simpletable\">\n",
       "<tr>\n",
       "                         <td></td>                           <th>coef</th>     <th>std err</th>      <th>z</th>      <th>P>|z|</th>  <th>[0.025</th>    <th>0.975]</th>  \n",
       "</tr>\n",
       "<tr>\n",
       "  <th>Intercept</th>                                      <td>   -3.4184</td> <td>    0.152</td> <td>  -22.460</td> <td> 0.000</td> <td>   -3.717</td> <td>   -3.120</td>\n",
       "</tr>\n",
       "<tr>\n",
       "  <th>C(직장에서의복리후생제공여부, Treatment('제공하지않는다'))[T.제공한다]</th> <td>    0.9074</td> <td>    0.071</td> <td>   12.747</td> <td> 0.000</td> <td>    0.768</td> <td>    1.047</td>\n",
       "</tr>\n",
       "<tr>\n",
       "  <th>C(보험가입여부, Treatment('가입하지않음'))[T.가입했다]</th>         <td>    0.4681</td> <td>    0.072</td> <td>    6.496</td> <td> 0.000</td> <td>    0.327</td> <td>    0.609</td>\n",
       "</tr>\n",
       "<tr>\n",
       "  <th>C(직장만족도, Treatment('그렇지않다'))[T.그렇다]</th>            <td>    1.2579</td> <td>    0.095</td> <td>   13.304</td> <td> 0.000</td> <td>    1.073</td> <td>    1.443</td>\n",
       "</tr>\n",
       "<tr>\n",
       "  <th>C(직장만족도, Treatment('그렇지않다'))[T.보통이다]</th>           <td>    0.5859</td> <td>    0.099</td> <td>    5.938</td> <td> 0.000</td> <td>    0.393</td> <td>    0.779</td>\n",
       "</tr>\n",
       "<tr>\n",
       "  <th>주당근로시간</th>                                         <td>    0.0290</td> <td>    0.003</td> <td>    9.012</td> <td> 0.000</td> <td>    0.023</td> <td>    0.035</td>\n",
       "</tr>\n",
       "</table>"
      ],
      "text/plain": [
       "<class 'statsmodels.iolib.summary.Summary'>\n",
       "\"\"\"\n",
       "                           Logit Regression Results                           \n",
       "==============================================================================\n",
       "Dep. Variable:              LongWork2   No. Observations:                 5808\n",
       "Model:                          Logit   Df Residuals:                     5802\n",
       "Method:                           MLE   Df Model:                            5\n",
       "Date:                Tue, 11 Apr 2023   Pseudo R-squ.:                  0.1033\n",
       "Time:                        20:24:50   Log-Likelihood:                -3021.3\n",
       "converged:                       True   LL-Null:                       -3369.4\n",
       "Covariance Type:            nonrobust   LLR p-value:                3.505e-148\n",
       "==================================================================================================================\n",
       "                                                     coef    std err          z      P>|z|      [0.025      0.975]\n",
       "------------------------------------------------------------------------------------------------------------------\n",
       "Intercept                                         -3.4184      0.152    -22.460      0.000      -3.717      -3.120\n",
       "C(직장에서의복리후생제공여부, Treatment('제공하지않는다'))[T.제공한다]     0.9074      0.071     12.747      0.000       0.768       1.047\n",
       "C(보험가입여부, Treatment('가입하지않음'))[T.가입했다]             0.4681      0.072      6.496      0.000       0.327       0.609\n",
       "C(직장만족도, Treatment('그렇지않다'))[T.그렇다]                1.2579      0.095     13.304      0.000       1.073       1.443\n",
       "C(직장만족도, Treatment('그렇지않다'))[T.보통이다]               0.5859      0.099      5.938      0.000       0.393       0.779\n",
       "주당근로시간                                             0.0290      0.003      9.012      0.000       0.023       0.035\n",
       "==================================================================================================================\n",
       "\"\"\""
      ]
     },
     "execution_count": 10,
     "metadata": {},
     "output_type": "execute_result"
    }
   ],
   "source": [
    "model_3 = sm.Logit.from_formula('''LongWork2 ~ \n",
    "    + C(직장에서의복리후생제공여부,Treatment('제공하지않는다'))\n",
    "    + C(보험가입여부,Treatment('가입하지않음'))\n",
    "    + 주당근로시간 + C(직장만족도,Treatment('그렇지않다'))''', df_1).fit()\n",
    "print('==================================Model Summary=========================================')\n",
    "model_3.summary()"
   ]
  },
  {
   "cell_type": "code",
   "execution_count": 11,
   "metadata": {},
   "outputs": [
    {
     "name": "stdout",
     "output_type": "stream",
     "text": [
      "==================================Odds Ratio=========================================\n"
     ]
    },
    {
     "data": {
      "text/html": [
       "<div>\n",
       "<style scoped>\n",
       "    .dataframe tbody tr th:only-of-type {\n",
       "        vertical-align: middle;\n",
       "    }\n",
       "\n",
       "    .dataframe tbody tr th {\n",
       "        vertical-align: top;\n",
       "    }\n",
       "\n",
       "    .dataframe thead th {\n",
       "        text-align: right;\n",
       "    }\n",
       "</style>\n",
       "<table border=\"1\" class=\"dataframe\">\n",
       "  <thead>\n",
       "    <tr style=\"text-align: right;\">\n",
       "      <th></th>\n",
       "      <th>OR</th>\n",
       "      <th>Lower CI</th>\n",
       "      <th>Upper CI</th>\n",
       "    </tr>\n",
       "  </thead>\n",
       "  <tbody>\n",
       "    <tr>\n",
       "      <th>Intercept</th>\n",
       "      <td>0.032766</td>\n",
       "      <td>0.024314</td>\n",
       "      <td>0.044154</td>\n",
       "    </tr>\n",
       "    <tr>\n",
       "      <th>C(직장에서의복리후생제공여부, Treatment('제공하지않는다'))[T.제공한다]</th>\n",
       "      <td>2.477768</td>\n",
       "      <td>2.155117</td>\n",
       "      <td>2.848726</td>\n",
       "    </tr>\n",
       "    <tr>\n",
       "      <th>C(보험가입여부, Treatment('가입하지않음'))[T.가입했다]</th>\n",
       "      <td>1.596935</td>\n",
       "      <td>1.386601</td>\n",
       "      <td>1.839175</td>\n",
       "    </tr>\n",
       "    <tr>\n",
       "      <th>C(직장만족도, Treatment('그렇지않다'))[T.그렇다]</th>\n",
       "      <td>3.517925</td>\n",
       "      <td>2.922834</td>\n",
       "      <td>4.234177</td>\n",
       "    </tr>\n",
       "    <tr>\n",
       "      <th>C(직장만족도, Treatment('그렇지않다'))[T.보통이다]</th>\n",
       "      <td>1.796595</td>\n",
       "      <td>1.480702</td>\n",
       "      <td>2.179882</td>\n",
       "    </tr>\n",
       "    <tr>\n",
       "      <th>주당근로시간</th>\n",
       "      <td>1.029374</td>\n",
       "      <td>1.022913</td>\n",
       "      <td>1.035876</td>\n",
       "    </tr>\n",
       "  </tbody>\n",
       "</table>\n",
       "</div>"
      ],
      "text/plain": [
       "                                                      OR  Lower CI  Upper CI\n",
       "Intercept                                       0.032766  0.024314  0.044154\n",
       "C(직장에서의복리후생제공여부, Treatment('제공하지않는다'))[T.제공한다]  2.477768  2.155117  2.848726\n",
       "C(보험가입여부, Treatment('가입하지않음'))[T.가입했다]          1.596935  1.386601  1.839175\n",
       "C(직장만족도, Treatment('그렇지않다'))[T.그렇다]             3.517925  2.922834  4.234177\n",
       "C(직장만족도, Treatment('그렇지않다'))[T.보통이다]            1.796595  1.480702  2.179882\n",
       "주당근로시간                                          1.029374  1.022913  1.035876"
      ]
     },
     "execution_count": 11,
     "metadata": {},
     "output_type": "execute_result"
    }
   ],
   "source": [
    "print('==================================Odds Ratio=========================================')\n",
    "# 오즈비 계산(Confidence interval 포함)\n",
    "odds_ratios_3 = pd.DataFrame(\n",
    "    {\n",
    "        \"OR\": model_3.params,\n",
    "        \"Lower CI\": model_3.conf_int()[0],\n",
    "        \"Upper CI\": model_3.conf_int()[1],\n",
    "    }\n",
    ")\n",
    "odds_ratios_3 = np.exp(odds_ratios_3)\n",
    "odds_ratios_3"
   ]
  }
 ],
 "metadata": {
  "kernelspec": {
   "display_name": "'pannel'",
   "language": "python",
   "name": "python3"
  },
  "language_info": {
   "codemirror_mode": {
    "name": "ipython",
    "version": 3
   },
   "file_extension": ".py",
   "mimetype": "text/x-python",
   "name": "python",
   "nbconvert_exporter": "python",
   "pygments_lexer": "ipython3",
   "version": "3.10.0"
  },
  "orig_nbformat": 4,
  "vscode": {
   "interpreter": {
    "hash": "567688ddcb0ff0e569682700137e8323bc710a8b8e628cd09dfd9151c691837d"
   }
  }
 },
 "nbformat": 4,
 "nbformat_minor": 2
}
