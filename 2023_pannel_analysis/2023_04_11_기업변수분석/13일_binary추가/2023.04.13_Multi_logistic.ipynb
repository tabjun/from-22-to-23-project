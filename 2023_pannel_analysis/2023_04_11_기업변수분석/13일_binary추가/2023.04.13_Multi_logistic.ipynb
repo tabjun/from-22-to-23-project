{
 "cells": [
  {
   "cell_type": "markdown",
   "metadata": {},
   "source": [
    "##### Module import"
   ]
  },
  {
   "cell_type": "code",
   "execution_count": 1,
   "metadata": {},
   "outputs": [],
   "source": [
    "import pandas as pd\n",
    "import numpy as np\n",
    "import os\n",
    "import matplotlib.pyplot as plt\n",
    "import seaborn as sns\n",
    "import statsmodels.api as sm\n",
    "from statsmodels.stats.outliers_influence import variance_inflation_factor # 다중공선성"
   ]
  },
  {
   "cell_type": "code",
   "execution_count": 3,
   "metadata": {},
   "outputs": [],
   "source": [
    "from matplotlib import font_manager, rc\n",
    "font_path = \"C:/Windows/Fonts/NGULIM.TTF\"\n",
    "font = font_manager.FontProperties(fname=font_path).get_name()\n",
    "rc('font', family=font)"
   ]
  },
  {
   "attachments": {},
   "cell_type": "markdown",
   "metadata": {},
   "source": [
    "##### Data import"
   ]
  },
  {
   "cell_type": "code",
   "execution_count": 4,
   "metadata": {},
   "outputs": [
    {
     "name": "stdout",
     "output_type": "stream",
     "text": [
      "c:\\Users\\Owner\\Desktop\\윤태준\\고용패널\\고용패널 파이썬 분석\\기업변수모형_근무시간_binary\n"
     ]
    }
   ],
   "source": [
    "print(os.getcwd())"
   ]
  },
  {
   "cell_type": "code",
   "execution_count": 5,
   "metadata": {},
   "outputs": [],
   "source": [
    "df = pd.read_csv('2023_04_13_data_step.csv', encoding='cp949')"
   ]
  },
  {
   "cell_type": "code",
   "execution_count": 6,
   "metadata": {},
   "outputs": [
    {
     "data": {
      "text/plain": [
       "Index(['pid', 'majorcat', 'province', 'area', 'sex', 'age', 'a003', 'a010',\n",
       "       'a038', 'a039',\n",
       "       ...\n",
       "       'company_satiG', 'supply', 'insurance', 'work_timeB', '주당근로일', '주당근로시간',\n",
       "       '직장에서의복리후생제공여부', '보험가입여부', '직장만족도', '주당근로시간_binary'],\n",
       "      dtype='object', length=108)"
      ]
     },
     "execution_count": 6,
     "metadata": {},
     "output_type": "execute_result"
    }
   ],
   "source": [
    "df_1 = df.copy()\n",
    "df_1.columns"
   ]
  },
  {
   "cell_type": "code",
   "execution_count": 8,
   "metadata": {},
   "outputs": [
    {
     "data": {
      "text/plain": [
       "40시간이하    4758\n",
       "40시간초과    1050\n",
       "Name: 주당근로시간_binary, dtype: int64"
      ]
     },
     "execution_count": 8,
     "metadata": {},
     "output_type": "execute_result"
    }
   ],
   "source": [
    "df_1.주당근로시간_binary.value_counts()"
   ]
  },
  {
   "attachments": {},
   "cell_type": "markdown",
   "metadata": {},
   "source": [
    "##### 다변량 모델"
   ]
  },
  {
   "cell_type": "markdown",
   "metadata": {},
   "source": [
    "#### 복지 모델"
   ]
  },
  {
   "cell_type": "code",
   "execution_count": 6,
   "metadata": {},
   "outputs": [
    {
     "name": "stdout",
     "output_type": "stream",
     "text": [
      "Optimization terminated successfully.\n",
      "         Current function value: 0.544362\n",
      "         Iterations 5\n",
      "==================================Model Summary=========================================\n"
     ]
    },
    {
     "data": {
      "text/html": [
       "<table class=\"simpletable\">\n",
       "<caption>Logit Regression Results</caption>\n",
       "<tr>\n",
       "  <th>Dep. Variable:</th>       <td>LongWork2</td>    <th>  No. Observations:  </th>  <td>  5808</td>  \n",
       "</tr>\n",
       "<tr>\n",
       "  <th>Model:</th>                 <td>Logit</td>      <th>  Df Residuals:      </th>  <td>  5805</td>  \n",
       "</tr>\n",
       "<tr>\n",
       "  <th>Method:</th>                 <td>MLE</td>       <th>  Df Model:          </th>  <td>     2</td>  \n",
       "</tr>\n",
       "<tr>\n",
       "  <th>Date:</th>            <td>Thu, 13 Apr 2023</td> <th>  Pseudo R-squ.:     </th>  <td>0.06165</td> \n",
       "</tr>\n",
       "<tr>\n",
       "  <th>Time:</th>                <td>21:03:51</td>     <th>  Log-Likelihood:    </th> <td> -3161.7</td> \n",
       "</tr>\n",
       "<tr>\n",
       "  <th>converged:</th>             <td>True</td>       <th>  LL-Null:           </th> <td> -3369.4</td> \n",
       "</tr>\n",
       "<tr>\n",
       "  <th>Covariance Type:</th>     <td>nonrobust</td>    <th>  LLR p-value:       </th> <td>6.229e-91</td>\n",
       "</tr>\n",
       "</table>\n",
       "<table class=\"simpletable\">\n",
       "<tr>\n",
       "                         <td></td>                           <th>coef</th>     <th>std err</th>      <th>z</th>      <th>P>|z|</th>  <th>[0.025</th>    <th>0.975]</th>  \n",
       "</tr>\n",
       "<tr>\n",
       "  <th>Intercept</th>                                      <td>   -1.6740</td> <td>    0.055</td> <td>  -30.503</td> <td> 0.000</td> <td>   -1.782</td> <td>   -1.566</td>\n",
       "</tr>\n",
       "<tr>\n",
       "  <th>C(직장에서의복리후생제공여부, Treatment('제공하지않는다'))[T.제공한다]</th> <td>    1.0717</td> <td>    0.069</td> <td>   15.474</td> <td> 0.000</td> <td>    0.936</td> <td>    1.207</td>\n",
       "</tr>\n",
       "<tr>\n",
       "  <th>C(보험가입여부, Treatment('가입하지않음'))[T.가입했다]</th>         <td>    0.6123</td> <td>    0.067</td> <td>    9.104</td> <td> 0.000</td> <td>    0.481</td> <td>    0.744</td>\n",
       "</tr>\n",
       "</table>"
      ],
      "text/plain": [
       "<class 'statsmodels.iolib.summary.Summary'>\n",
       "\"\"\"\n",
       "                           Logit Regression Results                           \n",
       "==============================================================================\n",
       "Dep. Variable:              LongWork2   No. Observations:                 5808\n",
       "Model:                          Logit   Df Residuals:                     5805\n",
       "Method:                           MLE   Df Model:                            2\n",
       "Date:                Thu, 13 Apr 2023   Pseudo R-squ.:                 0.06165\n",
       "Time:                        21:03:51   Log-Likelihood:                -3161.7\n",
       "converged:                       True   LL-Null:                       -3369.4\n",
       "Covariance Type:            nonrobust   LLR p-value:                 6.229e-91\n",
       "==================================================================================================================\n",
       "                                                     coef    std err          z      P>|z|      [0.025      0.975]\n",
       "------------------------------------------------------------------------------------------------------------------\n",
       "Intercept                                         -1.6740      0.055    -30.503      0.000      -1.782      -1.566\n",
       "C(직장에서의복리후생제공여부, Treatment('제공하지않는다'))[T.제공한다]     1.0717      0.069     15.474      0.000       0.936       1.207\n",
       "C(보험가입여부, Treatment('가입하지않음'))[T.가입했다]             0.6123      0.067      9.104      0.000       0.481       0.744\n",
       "==================================================================================================================\n",
       "\"\"\""
      ]
     },
     "execution_count": 6,
     "metadata": {},
     "output_type": "execute_result"
    }
   ],
   "source": [
    "model_1 = sm.Logit.from_formula('''LongWork2 ~ C(직장에서의복리후생제공여부,Treatment('제공하지않는다'))\n",
    "    + C(보험가입여부,Treatment('가입하지않음'))''', df_1).fit()\n",
    "print('==================================Model Summary=========================================')\n",
    "model_1.summary()"
   ]
  },
  {
   "cell_type": "code",
   "execution_count": 7,
   "metadata": {},
   "outputs": [
    {
     "name": "stdout",
     "output_type": "stream",
     "text": [
      "==================================Odds Ratio=========================================\n"
     ]
    },
    {
     "data": {
      "text/html": [
       "<div>\n",
       "<style scoped>\n",
       "    .dataframe tbody tr th:only-of-type {\n",
       "        vertical-align: middle;\n",
       "    }\n",
       "\n",
       "    .dataframe tbody tr th {\n",
       "        vertical-align: top;\n",
       "    }\n",
       "\n",
       "    .dataframe thead th {\n",
       "        text-align: right;\n",
       "    }\n",
       "</style>\n",
       "<table border=\"1\" class=\"dataframe\">\n",
       "  <thead>\n",
       "    <tr style=\"text-align: right;\">\n",
       "      <th></th>\n",
       "      <th>OR</th>\n",
       "      <th>Lower CI</th>\n",
       "      <th>Upper CI</th>\n",
       "    </tr>\n",
       "  </thead>\n",
       "  <tbody>\n",
       "    <tr>\n",
       "      <th>Intercept</th>\n",
       "      <td>0.187490</td>\n",
       "      <td>0.168370</td>\n",
       "      <td>0.208782</td>\n",
       "    </tr>\n",
       "    <tr>\n",
       "      <th>C(직장에서의복리후생제공여부, Treatment('제공하지않는다'))[T.제공한다]</th>\n",
       "      <td>2.920222</td>\n",
       "      <td>2.549571</td>\n",
       "      <td>3.344757</td>\n",
       "    </tr>\n",
       "    <tr>\n",
       "      <th>C(보험가입여부, Treatment('가입하지않음'))[T.가입했다]</th>\n",
       "      <td>1.844752</td>\n",
       "      <td>1.616896</td>\n",
       "      <td>2.104717</td>\n",
       "    </tr>\n",
       "  </tbody>\n",
       "</table>\n",
       "</div>"
      ],
      "text/plain": [
       "                                                      OR  Lower CI  Upper CI\n",
       "Intercept                                       0.187490  0.168370  0.208782\n",
       "C(직장에서의복리후생제공여부, Treatment('제공하지않는다'))[T.제공한다]  2.920222  2.549571  3.344757\n",
       "C(보험가입여부, Treatment('가입하지않음'))[T.가입했다]          1.844752  1.616896  2.104717"
      ]
     },
     "execution_count": 7,
     "metadata": {},
     "output_type": "execute_result"
    }
   ],
   "source": [
    "print('==================================Odds Ratio=========================================')\n",
    "# 오즈비 계산(Confidence interval 포함)\n",
    "odds_ratios_1 = pd.DataFrame(\n",
    "    {\n",
    "        \"OR\": model_1.params,\n",
    "        \"Lower CI\": model_1.conf_int()[0],\n",
    "        \"Upper CI\": model_1.conf_int()[1],\n",
    "    }\n",
    ")\n",
    "odds_ratios_1 = np.exp(odds_ratios_1)\n",
    "odds_ratios_1"
   ]
  },
  {
   "cell_type": "code",
   "execution_count": 10,
   "metadata": {},
   "outputs": [
    {
     "name": "stdout",
     "output_type": "stream",
     "text": [
      "Optimization terminated successfully.\n",
      "         Current function value: 0.542080\n",
      "         Iterations 6\n",
      "==================================Model Summary=========================================\n"
     ]
    },
    {
     "data": {
      "text/html": [
       "<table class=\"simpletable\">\n",
       "<caption>Logit Regression Results</caption>\n",
       "<tr>\n",
       "  <th>Dep. Variable:</th>       <td>LongWork2</td>    <th>  No. Observations:  </th>  <td>  5808</td>  \n",
       "</tr>\n",
       "<tr>\n",
       "  <th>Model:</th>                 <td>Logit</td>      <th>  Df Residuals:      </th>  <td>  5803</td>  \n",
       "</tr>\n",
       "<tr>\n",
       "  <th>Method:</th>                 <td>MLE</td>       <th>  Df Model:          </th>  <td>     4</td>  \n",
       "</tr>\n",
       "<tr>\n",
       "  <th>Date:</th>            <td>Thu, 13 Apr 2023</td> <th>  Pseudo R-squ.:     </th>  <td>0.06558</td> \n",
       "</tr>\n",
       "<tr>\n",
       "  <th>Time:</th>                <td>21:14:12</td>     <th>  Log-Likelihood:    </th> <td> -3148.4</td> \n",
       "</tr>\n",
       "<tr>\n",
       "  <th>converged:</th>             <td>True</td>       <th>  LL-Null:           </th> <td> -3369.4</td> \n",
       "</tr>\n",
       "<tr>\n",
       "  <th>Covariance Type:</th>     <td>nonrobust</td>    <th>  LLR p-value:       </th> <td>2.424e-94</td>\n",
       "</tr>\n",
       "</table>\n",
       "<table class=\"simpletable\">\n",
       "<tr>\n",
       "                         <td></td>                            <th>coef</th>     <th>std err</th>      <th>z</th>      <th>P>|z|</th>  <th>[0.025</th>    <th>0.975]</th>  \n",
       "</tr>\n",
       "<tr>\n",
       "  <th>Intercept</th>                                       <td>   -2.7046</td> <td>    0.223</td> <td>  -12.109</td> <td> 0.000</td> <td>   -3.142</td> <td>   -2.267</td>\n",
       "</tr>\n",
       "<tr>\n",
       "  <th>C(직장에서의복리후생제공여부, Treatment('제공하지않는다'))[T.제공한다]</th>  <td>    1.0424</td> <td>    0.070</td> <td>   14.998</td> <td> 0.000</td> <td>    0.906</td> <td>    1.179</td>\n",
       "</tr>\n",
       "<tr>\n",
       "  <th>C(보험가입여부, Treatment('가입하지않음'))[T.가입했다]</th>          <td>    0.5155</td> <td>    0.070</td> <td>    7.411</td> <td> 0.000</td> <td>    0.379</td> <td>    0.652</td>\n",
       "</tr>\n",
       "<tr>\n",
       "  <th>C(주당근로시간_binary, Treatment('40시간초과'))[T.40시간이하]</th> <td>    0.1609</td> <td>    0.084</td> <td>    1.909</td> <td> 0.056</td> <td>   -0.004</td> <td>    0.326</td>\n",
       "</tr>\n",
       "<tr>\n",
       "  <th>주당근로일</th>                                           <td>    0.2016</td> <td>    0.041</td> <td>    4.957</td> <td> 0.000</td> <td>    0.122</td> <td>    0.281</td>\n",
       "</tr>\n",
       "</table>"
      ],
      "text/plain": [
       "<class 'statsmodels.iolib.summary.Summary'>\n",
       "\"\"\"\n",
       "                           Logit Regression Results                           \n",
       "==============================================================================\n",
       "Dep. Variable:              LongWork2   No. Observations:                 5808\n",
       "Model:                          Logit   Df Residuals:                     5803\n",
       "Method:                           MLE   Df Model:                            4\n",
       "Date:                Thu, 13 Apr 2023   Pseudo R-squ.:                 0.06558\n",
       "Time:                        21:14:12   Log-Likelihood:                -3148.4\n",
       "converged:                       True   LL-Null:                       -3369.4\n",
       "Covariance Type:            nonrobust   LLR p-value:                 2.424e-94\n",
       "===================================================================================================================\n",
       "                                                      coef    std err          z      P>|z|      [0.025      0.975]\n",
       "-------------------------------------------------------------------------------------------------------------------\n",
       "Intercept                                          -2.7046      0.223    -12.109      0.000      -3.142      -2.267\n",
       "C(직장에서의복리후생제공여부, Treatment('제공하지않는다'))[T.제공한다]      1.0424      0.070     14.998      0.000       0.906       1.179\n",
       "C(보험가입여부, Treatment('가입하지않음'))[T.가입했다]              0.5155      0.070      7.411      0.000       0.379       0.652\n",
       "C(주당근로시간_binary, Treatment('40시간초과'))[T.40시간이하]     0.1609      0.084      1.909      0.056      -0.004       0.326\n",
       "주당근로일                                               0.2016      0.041      4.957      0.000       0.122       0.281\n",
       "===================================================================================================================\n",
       "\"\"\""
      ]
     },
     "execution_count": 10,
     "metadata": {},
     "output_type": "execute_result"
    }
   ],
   "source": [
    "model_2 = sm.Logit.from_formula('''LongWork2 ~ C(직장에서의복리후생제공여부,Treatment('제공하지않는다'))\n",
    "    + C(보험가입여부,Treatment('가입하지않음')) + 주당근로일 \n",
    "    + C(주당근로시간_binary,Treatment('40시간초과'))''', df_1).fit()\n",
    "print('==================================Model Summary=========================================')\n",
    "model_2.summary()"
   ]
  },
  {
   "cell_type": "code",
   "execution_count": 11,
   "metadata": {},
   "outputs": [
    {
     "name": "stdout",
     "output_type": "stream",
     "text": [
      "==================================Odds Ratio=========================================\n"
     ]
    },
    {
     "data": {
      "text/html": [
       "<div>\n",
       "<style scoped>\n",
       "    .dataframe tbody tr th:only-of-type {\n",
       "        vertical-align: middle;\n",
       "    }\n",
       "\n",
       "    .dataframe tbody tr th {\n",
       "        vertical-align: top;\n",
       "    }\n",
       "\n",
       "    .dataframe thead th {\n",
       "        text-align: right;\n",
       "    }\n",
       "</style>\n",
       "<table border=\"1\" class=\"dataframe\">\n",
       "  <thead>\n",
       "    <tr style=\"text-align: right;\">\n",
       "      <th></th>\n",
       "      <th>OR</th>\n",
       "      <th>Lower CI</th>\n",
       "      <th>Upper CI</th>\n",
       "    </tr>\n",
       "  </thead>\n",
       "  <tbody>\n",
       "    <tr>\n",
       "      <th>Intercept</th>\n",
       "      <td>0.066896</td>\n",
       "      <td>0.043180</td>\n",
       "      <td>0.103640</td>\n",
       "    </tr>\n",
       "    <tr>\n",
       "      <th>C(직장에서의복리후생제공여부, Treatment('제공하지않는다'))[T.제공한다]</th>\n",
       "      <td>2.835931</td>\n",
       "      <td>2.474771</td>\n",
       "      <td>3.249797</td>\n",
       "    </tr>\n",
       "    <tr>\n",
       "      <th>C(보험가입여부, Treatment('가입하지않음'))[T.가입했다]</th>\n",
       "      <td>1.674411</td>\n",
       "      <td>1.461022</td>\n",
       "      <td>1.918967</td>\n",
       "    </tr>\n",
       "    <tr>\n",
       "      <th>C(주당근로시간_binary, Treatment('40시간초과'))[T.40시간이하]</th>\n",
       "      <td>1.174557</td>\n",
       "      <td>0.995697</td>\n",
       "      <td>1.385547</td>\n",
       "    </tr>\n",
       "    <tr>\n",
       "      <th>주당근로일</th>\n",
       "      <td>1.223331</td>\n",
       "      <td>1.129606</td>\n",
       "      <td>1.324832</td>\n",
       "    </tr>\n",
       "  </tbody>\n",
       "</table>\n",
       "</div>"
      ],
      "text/plain": [
       "                                                       OR  Lower CI  Upper CI\n",
       "Intercept                                        0.066896  0.043180  0.103640\n",
       "C(직장에서의복리후생제공여부, Treatment('제공하지않는다'))[T.제공한다]   2.835931  2.474771  3.249797\n",
       "C(보험가입여부, Treatment('가입하지않음'))[T.가입했다]           1.674411  1.461022  1.918967\n",
       "C(주당근로시간_binary, Treatment('40시간초과'))[T.40시간이하]  1.174557  0.995697  1.385547\n",
       "주당근로일                                            1.223331  1.129606  1.324832"
      ]
     },
     "execution_count": 11,
     "metadata": {},
     "output_type": "execute_result"
    }
   ],
   "source": [
    "print('==================================Odds Ratio=========================================')\n",
    "# 오즈비 계산(Confidence interval 포함)\n",
    "odds_ratios_2 = pd.DataFrame(\n",
    "    {\n",
    "        \"OR\": model_2.params,\n",
    "        \"Lower CI\": model_2.conf_int()[0],\n",
    "        \"Upper CI\": model_2.conf_int()[1],\n",
    "    }\n",
    ")\n",
    "odds_ratios_2 = np.exp(odds_ratios_2)\n",
    "odds_ratios_2"
   ]
  },
  {
   "cell_type": "code",
   "execution_count": 12,
   "metadata": {},
   "outputs": [
    {
     "name": "stdout",
     "output_type": "stream",
     "text": [
      "Optimization terminated successfully.\n",
      "         Current function value: 0.524364\n",
      "         Iterations 6\n",
      "==================================Model Summary=========================================\n"
     ]
    },
    {
     "data": {
      "text/html": [
       "<table class=\"simpletable\">\n",
       "<caption>Logit Regression Results</caption>\n",
       "<tr>\n",
       "  <th>Dep. Variable:</th>       <td>LongWork2</td>    <th>  No. Observations:  </th>   <td>  5808</td>  \n",
       "</tr>\n",
       "<tr>\n",
       "  <th>Model:</th>                 <td>Logit</td>      <th>  Df Residuals:      </th>   <td>  5801</td>  \n",
       "</tr>\n",
       "<tr>\n",
       "  <th>Method:</th>                 <td>MLE</td>       <th>  Df Model:          </th>   <td>     6</td>  \n",
       "</tr>\n",
       "<tr>\n",
       "  <th>Date:</th>            <td>Thu, 13 Apr 2023</td> <th>  Pseudo R-squ.:     </th>   <td>0.09612</td> \n",
       "</tr>\n",
       "<tr>\n",
       "  <th>Time:</th>                <td>21:19:37</td>     <th>  Log-Likelihood:    </th>  <td> -3045.5</td> \n",
       "</tr>\n",
       "<tr>\n",
       "  <th>converged:</th>             <td>True</td>       <th>  LL-Null:           </th>  <td> -3369.4</td> \n",
       "</tr>\n",
       "<tr>\n",
       "  <th>Covariance Type:</th>     <td>nonrobust</td>    <th>  LLR p-value:       </th> <td>1.186e-136</td>\n",
       "</tr>\n",
       "</table>\n",
       "<table class=\"simpletable\">\n",
       "<tr>\n",
       "                         <td></td>                            <th>coef</th>     <th>std err</th>      <th>z</th>      <th>P>|z|</th>  <th>[0.025</th>    <th>0.975]</th>  \n",
       "</tr>\n",
       "<tr>\n",
       "  <th>Intercept</th>                                       <td>   -3.5866</td> <td>    0.242</td> <td>  -14.836</td> <td> 0.000</td> <td>   -4.060</td> <td>   -3.113</td>\n",
       "</tr>\n",
       "<tr>\n",
       "  <th>C(직장에서의복리후생제공여부, Treatment('제공하지않는다'))[T.제공한다]</th>  <td>    0.9200</td> <td>    0.071</td> <td>   12.920</td> <td> 0.000</td> <td>    0.780</td> <td>    1.060</td>\n",
       "</tr>\n",
       "<tr>\n",
       "  <th>C(보험가입여부, Treatment('가입하지않음'))[T.가입했다]</th>          <td>    0.5706</td> <td>    0.071</td> <td>    8.056</td> <td> 0.000</td> <td>    0.432</td> <td>    0.709</td>\n",
       "</tr>\n",
       "<tr>\n",
       "  <th>C(주당근로시간_binary, Treatment('40시간초과'))[T.40시간이하]</th> <td>    0.0922</td> <td>    0.086</td> <td>    1.068</td> <td> 0.285</td> <td>   -0.077</td> <td>    0.261</td>\n",
       "</tr>\n",
       "<tr>\n",
       "  <th>C(직장만족도, Treatment('그렇지않다'))[T.그렇다]</th>             <td>    1.1959</td> <td>    0.094</td> <td>   12.704</td> <td> 0.000</td> <td>    1.011</td> <td>    1.380</td>\n",
       "</tr>\n",
       "<tr>\n",
       "  <th>C(직장만족도, Treatment('그렇지않다'))[T.보통이다]</th>            <td>    0.5418</td> <td>    0.098</td> <td>    5.502</td> <td> 0.000</td> <td>    0.349</td> <td>    0.735</td>\n",
       "</tr>\n",
       "<tr>\n",
       "  <th>주당근로일</th>                                           <td>    0.2398</td> <td>    0.041</td> <td>    5.820</td> <td> 0.000</td> <td>    0.159</td> <td>    0.321</td>\n",
       "</tr>\n",
       "</table>"
      ],
      "text/plain": [
       "<class 'statsmodels.iolib.summary.Summary'>\n",
       "\"\"\"\n",
       "                           Logit Regression Results                           \n",
       "==============================================================================\n",
       "Dep. Variable:              LongWork2   No. Observations:                 5808\n",
       "Model:                          Logit   Df Residuals:                     5801\n",
       "Method:                           MLE   Df Model:                            6\n",
       "Date:                Thu, 13 Apr 2023   Pseudo R-squ.:                 0.09612\n",
       "Time:                        21:19:37   Log-Likelihood:                -3045.5\n",
       "converged:                       True   LL-Null:                       -3369.4\n",
       "Covariance Type:            nonrobust   LLR p-value:                1.186e-136\n",
       "===================================================================================================================\n",
       "                                                      coef    std err          z      P>|z|      [0.025      0.975]\n",
       "-------------------------------------------------------------------------------------------------------------------\n",
       "Intercept                                          -3.5866      0.242    -14.836      0.000      -4.060      -3.113\n",
       "C(직장에서의복리후생제공여부, Treatment('제공하지않는다'))[T.제공한다]      0.9200      0.071     12.920      0.000       0.780       1.060\n",
       "C(보험가입여부, Treatment('가입하지않음'))[T.가입했다]              0.5706      0.071      8.056      0.000       0.432       0.709\n",
       "C(주당근로시간_binary, Treatment('40시간초과'))[T.40시간이하]     0.0922      0.086      1.068      0.285      -0.077       0.261\n",
       "C(직장만족도, Treatment('그렇지않다'))[T.그렇다]                 1.1959      0.094     12.704      0.000       1.011       1.380\n",
       "C(직장만족도, Treatment('그렇지않다'))[T.보통이다]                0.5418      0.098      5.502      0.000       0.349       0.735\n",
       "주당근로일                                               0.2398      0.041      5.820      0.000       0.159       0.321\n",
       "===================================================================================================================\n",
       "\"\"\""
      ]
     },
     "execution_count": 12,
     "metadata": {},
     "output_type": "execute_result"
    }
   ],
   "source": [
    "model_3 = sm.Logit.from_formula('''LongWork2 ~ \n",
    "    + C(직장에서의복리후생제공여부,Treatment('제공하지않는다'))\n",
    "    + C(보험가입여부,Treatment('가입하지않음'))\n",
    "    + 주당근로일 + C(주당근로시간_binary,Treatment('40시간초과'))\n",
    "    + C(직장만족도,Treatment('그렇지않다'))''', df_1).fit()\n",
    "print('==================================Model Summary=========================================')\n",
    "model_3.summary()"
   ]
  },
  {
   "cell_type": "code",
   "execution_count": 13,
   "metadata": {},
   "outputs": [
    {
     "name": "stdout",
     "output_type": "stream",
     "text": [
      "==================================Odds Ratio=========================================\n"
     ]
    },
    {
     "data": {
      "text/html": [
       "<div>\n",
       "<style scoped>\n",
       "    .dataframe tbody tr th:only-of-type {\n",
       "        vertical-align: middle;\n",
       "    }\n",
       "\n",
       "    .dataframe tbody tr th {\n",
       "        vertical-align: top;\n",
       "    }\n",
       "\n",
       "    .dataframe thead th {\n",
       "        text-align: right;\n",
       "    }\n",
       "</style>\n",
       "<table border=\"1\" class=\"dataframe\">\n",
       "  <thead>\n",
       "    <tr style=\"text-align: right;\">\n",
       "      <th></th>\n",
       "      <th>OR</th>\n",
       "      <th>Lower CI</th>\n",
       "      <th>Upper CI</th>\n",
       "    </tr>\n",
       "  </thead>\n",
       "  <tbody>\n",
       "    <tr>\n",
       "      <th>Intercept</th>\n",
       "      <td>0.027692</td>\n",
       "      <td>0.017242</td>\n",
       "      <td>0.044477</td>\n",
       "    </tr>\n",
       "    <tr>\n",
       "      <th>C(직장에서의복리후생제공여부, Treatment('제공하지않는다'))[T.제공한다]</th>\n",
       "      <td>2.509326</td>\n",
       "      <td>2.182457</td>\n",
       "      <td>2.885150</td>\n",
       "    </tr>\n",
       "    <tr>\n",
       "      <th>C(보험가입여부, Treatment('가입하지않음'))[T.가입했다]</th>\n",
       "      <td>1.769345</td>\n",
       "      <td>1.540011</td>\n",
       "      <td>2.032831</td>\n",
       "    </tr>\n",
       "    <tr>\n",
       "      <th>C(주당근로시간_binary, Treatment('40시간초과'))[T.40시간이하]</th>\n",
       "      <td>1.096602</td>\n",
       "      <td>0.925926</td>\n",
       "      <td>1.298739</td>\n",
       "    </tr>\n",
       "    <tr>\n",
       "      <th>C(직장만족도, Treatment('그렇지않다'))[T.그렇다]</th>\n",
       "      <td>3.306614</td>\n",
       "      <td>2.749510</td>\n",
       "      <td>3.976597</td>\n",
       "    </tr>\n",
       "    <tr>\n",
       "      <th>C(직장만족도, Treatment('그렇지않다'))[T.보통이다]</th>\n",
       "      <td>1.719137</td>\n",
       "      <td>1.417393</td>\n",
       "      <td>2.085118</td>\n",
       "    </tr>\n",
       "    <tr>\n",
       "      <th>주당근로일</th>\n",
       "      <td>1.271031</td>\n",
       "      <td>1.172414</td>\n",
       "      <td>1.377944</td>\n",
       "    </tr>\n",
       "  </tbody>\n",
       "</table>\n",
       "</div>"
      ],
      "text/plain": [
       "                                                       OR  Lower CI  Upper CI\n",
       "Intercept                                        0.027692  0.017242  0.044477\n",
       "C(직장에서의복리후생제공여부, Treatment('제공하지않는다'))[T.제공한다]   2.509326  2.182457  2.885150\n",
       "C(보험가입여부, Treatment('가입하지않음'))[T.가입했다]           1.769345  1.540011  2.032831\n",
       "C(주당근로시간_binary, Treatment('40시간초과'))[T.40시간이하]  1.096602  0.925926  1.298739\n",
       "C(직장만족도, Treatment('그렇지않다'))[T.그렇다]              3.306614  2.749510  3.976597\n",
       "C(직장만족도, Treatment('그렇지않다'))[T.보통이다]             1.719137  1.417393  2.085118\n",
       "주당근로일                                            1.271031  1.172414  1.377944"
      ]
     },
     "execution_count": 13,
     "metadata": {},
     "output_type": "execute_result"
    }
   ],
   "source": [
    "print('==================================Odds Ratio=========================================')\n",
    "# 오즈비 계산(Confidence interval 포함)\n",
    "odds_ratios_3 = pd.DataFrame(\n",
    "    {\n",
    "        \"OR\": model_3.params,\n",
    "        \"Lower CI\": model_3.conf_int()[0],\n",
    "        \"Upper CI\": model_3.conf_int()[1],\n",
    "    }\n",
    ")\n",
    "odds_ratios_3 = np.exp(odds_ratios_3)\n",
    "odds_ratios_3"
   ]
  }
 ],
 "metadata": {
  "kernelspec": {
   "display_name": "'pannel'",
   "language": "python",
   "name": "python3"
  },
  "language_info": {
   "codemirror_mode": {
    "name": "ipython",
    "version": 3
   },
   "file_extension": ".py",
   "mimetype": "text/x-python",
   "name": "python",
   "nbconvert_exporter": "python",
   "pygments_lexer": "ipython3",
   "version": "3.10.0"
  },
  "orig_nbformat": 4,
  "vscode": {
   "interpreter": {
    "hash": "567688ddcb0ff0e569682700137e8323bc710a8b8e628cd09dfd9151c691837d"
   }
  }
 },
 "nbformat": 4,
 "nbformat_minor": 2
}
