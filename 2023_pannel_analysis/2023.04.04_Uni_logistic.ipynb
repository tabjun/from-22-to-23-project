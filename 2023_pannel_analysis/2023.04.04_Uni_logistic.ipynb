{
 "cells": [
  {
   "cell_type": "code",
   "execution_count": 1,
   "metadata": {},
   "outputs": [],
   "source": [
    "import pandas as pd\n",
    "import numpy as np\n",
    "import os\n",
    "import matplotlib.pyplot as plt\n",
    "import seaborn as sns\n",
    "import statsmodels.api as sm"
   ]
  },
  {
   "cell_type": "markdown",
   "metadata": {},
   "source": [
    "##### SAS Data import"
   ]
  },
  {
   "cell_type": "code",
   "execution_count": 2,
   "metadata": {},
   "outputs": [
    {
     "name": "stdout",
     "output_type": "stream",
     "text": [
      "c:\\Users\\Owner\\Desktop\\윤태준\\고용패널\\3월 분석\n"
     ]
    }
   ],
   "source": [
    "print(os.getcwd())"
   ]
  },
  {
   "cell_type": "code",
   "execution_count": 3,
   "metadata": {},
   "outputs": [
    {
     "data": {
      "text/plain": [
       "Index(['pid', 'majorcat', 'province', 'area', 'sex', 'age', 'a003', 'a144',\n",
       "       'a146', 'd134', 'd136', 'f073', 'f074', 'h001', 'q001', 'q015', 'q016',\n",
       "       'q017', 'p001', 'First_Work', 'year', 'Admission', 'Graduation', 'Cur',\n",
       "       'Cur_Work_date', 'Start_Work1_date', 'End_Work1_date', 'Work_to_Cur',\n",
       "       'Start_to_End', 'FirstWorkPeriod', 'LongWork', 'LongWork2',\n",
       "       'major_same', 'major_help', 'score', 'q001G', 'p001G', 'provinceG',\n",
       "       'major_sameG', 'major_helpG', 'majorcatG', 'q015G', 'q016G', 'q017G',\n",
       "       '성별', '건강상태', '결혼상태', '대학지역', '전공일치', '본전공', '재학중일자리경험', '삶의만족도_개인',\n",
       "       '삶의만족도_관계', '삶의만족도_소속집단'],\n",
       "      dtype='object')"
      ]
     },
     "execution_count": 3,
     "metadata": {},
     "output_type": "execute_result"
    }
   ],
   "source": [
    "df = pd.read_csv('2023_03_30_data_step.csv', encoding='cp949')\n",
    "df.columns"
   ]
  },
  {
   "cell_type": "code",
   "execution_count": 4,
   "metadata": {},
   "outputs": [],
   "source": [
    "df_1 = df[['pid', 'majorcat', 'province', 'area', 'sex', 'a003', 'a144',\n",
    "       'a146', 'd134', 'd136', 'f073', 'f074', 'h001', 'q001', 'q015', 'q016',\n",
    "       'q017', 'p001', 'First_Work', 'year', 'Admission', 'Graduation', 'Cur',\n",
    "       'Cur_Work_date', 'Start_Work1_date', 'End_Work1_date', 'Work_to_Cur',\n",
    "       'Start_to_End', 'FirstWorkPeriod', 'LongWork', 'LongWork2',\n",
    "       'major_same', 'major_help',  'q001G', 'p001G', 'provinceG',\n",
    "       'major_sameG', 'major_helpG', 'majorcatG', 'q015G', 'q016G', 'q017G',\n",
    "       'age', '성별', '건강상태', '결혼상태', '대학지역',  '전공일치', 'score', '본전공', '재학중일자리경험', '삶의만족도_개인',\n",
    "       '삶의만족도_관계', '삶의만족도_소속집단']].copy()"
   ]
  },
  {
   "attachments": {},
   "cell_type": "markdown",
   "metadata": {},
   "source": [
    "모델 Logistic Regression\n",
    "1. 단변량\n",
    "2. 인구통계학적 특성\n",
    "3. 인구통계학 + 전공 연관성, 대학 지역, 학점, 재학 중 경험 일자리(완전 대학 관련)\n",
    "4. 삶의 만족도(개인, 관계, 소속 집단)\n",
    "    3-1 삶의 만족도 평균\n",
    "5. full model\n",
    "---------------------------------------------------\n",
    "- 근속 종속변수 : :LongWork, LongWork2가 존재\n",
    "    - LongWork2가 2년 이상 일한 사람 \n",
    "    - 2년 ~ 3년 사이 기간을 분석하기로 했으니 Target : LongWork2로 지정해서 사용"
   ]
  },
  {
   "cell_type": "markdown",
   "metadata": {},
   "source": [
    "##### 단변량"
   ]
  },
  {
   "cell_type": "code",
   "execution_count": null,
   "metadata": {},
   "outputs": [],
   "source": [
    "# 반복문으로 한번에, 장점: 편함, 단점: treatment를 지정할 수 없음.\n",
    "# for i in range(42,54):\n",
    "#     print(f'순서:{i+1}번째 변수')\n",
    "#     model = sm.Logit.from_formula('LongWork2 ~ df_1.iloc[:,i]', df_1).fit()\n",
    "#     print(f'독립변수 이름: {df_1.columns[i]}')\n",
    "#     print(model.summary())\n",
    "#     print('==================================Odds Ratio=========================================')\n",
    "\n",
    "# # 오즈비 계산(Confidence interval 포함)\n",
    "#     odds_ratios = pd.DataFrame(\n",
    "#         {\n",
    "#             \"OR\": model.params,\n",
    "#             \"Lower CI\": model.conf_int()[0],\n",
    "#             \"Upper CI\": model.conf_int()[1],\n",
    "#         }\n",
    "#     )\n",
    "#     odds_ratios = np.exp(odds_ratios)\n",
    "#     print(odds_ratios)\n",
    "#     print('\\n')"
   ]
  },
  {
   "cell_type": "code",
   "execution_count": 29,
   "metadata": {},
   "outputs": [
    {
     "name": "stdout",
     "output_type": "stream",
     "text": [
      "Optimization terminated successfully.\n",
      "         Current function value: 0.547820\n",
      "         Iterations 6\n",
      "                           Logit Regression Results                           \n",
      "==============================================================================\n",
      "Dep. Variable:              LongWork2   No. Observations:                 5808\n",
      "Model:                          Logit   Df Residuals:                     5806\n",
      "Method:                           MLE   Df Model:                            1\n",
      "Date:                Tue, 04 Apr 2023   Pseudo R-squ.:                 0.05569\n",
      "Time:                        19:47:06   Log-Likelihood:                -3181.7\n",
      "converged:                       True   LL-Null:                       -3369.4\n",
      "Covariance Type:            nonrobust   LLR p-value:                 1.347e-83\n",
      "==============================================================================\n",
      "                 coef    std err          z      P>|z|      [0.025      0.975]\n",
      "------------------------------------------------------------------------------\n",
      "Intercept     -9.7754      0.480    -20.383      0.000     -10.715      -8.835\n",
      "age            0.3364      0.018     18.470      0.000       0.301       0.372\n",
      "==============================================================================\n",
      "==================================Odds Ratio=========================================\n",
      "                 OR  Lower CI  Upper CI\n",
      "Intercept  0.000057  0.000022  0.000145\n",
      "age        1.399875  1.350788  1.450746\n"
     ]
    }
   ],
   "source": [
    "# age\n",
    "model_age = sm.Logit.from_formula('LongWork2 ~ age', df_1).fit()\n",
    "print(model_age.summary())\n",
    "print('==================================Odds Ratio=========================================')\n",
    "\n",
    "# 오즈비 계산(Confidence interval 포함)\n",
    "odds_ratios = pd.DataFrame(\n",
    "    {\n",
    "        \"OR\": model_age.params,\n",
    "        \"Lower CI\": model_age.conf_int()[0],\n",
    "        \"Upper CI\": model_age.conf_int()[1],\n",
    "    }\n",
    ")\n",
    "odds_ratios = np.exp(odds_ratios)\n",
    "print(odds_ratios)"
   ]
  },
  {
   "cell_type": "code",
   "execution_count": 30,
   "metadata": {},
   "outputs": [
    {
     "name": "stdout",
     "output_type": "stream",
     "text": [
      "Optimization terminated successfully.\n",
      "         Current function value: 0.566091\n",
      "         Iterations 5\n",
      "                           Logit Regression Results                           \n",
      "==============================================================================\n",
      "Dep. Variable:              LongWork2   No. Observations:                 5808\n",
      "Model:                          Logit   Df Residuals:                     5806\n",
      "Method:                           MLE   Df Model:                            1\n",
      "Date:                Tue, 04 Apr 2023   Pseudo R-squ.:                 0.02419\n",
      "Time:                        19:47:13   Log-Likelihood:                -3287.9\n",
      "converged:                       True   LL-Null:                       -3369.4\n",
      "Covariance Type:            nonrobust   LLR p-value:                 2.491e-37\n",
      "================================================================================================\n",
      "                                   coef    std err          z      P>|z|      [0.025      0.975]\n",
      "------------------------------------------------------------------------------------------------\n",
      "Intercept                       -1.4056      0.045    -30.956      0.000      -1.495      -1.317\n",
      "C(성별, Treatment(\"여자\"))[T.남자]     0.7650      0.061     12.619      0.000       0.646       0.884\n",
      "================================================================================================\n",
      "==================================Odds Ratio=========================================\n",
      "                                    OR  Lower CI  Upper CI\n",
      "Intercept                     0.245229  0.224349  0.268054\n",
      "C(성별, Treatment(\"여자\"))[T.남자]  2.149088  1.908302  2.420256\n"
     ]
    }
   ],
   "source": [
    "# 성별\n",
    "model_sex = sm.Logit.from_formula('LongWork2 ~ C(성별,Treatment(\"여자\"))', df_1).fit()\n",
    "print(model_sex.summary())\n",
    "print('==================================Odds Ratio=========================================')\n",
    "\n",
    "# 오즈비 계산(Confidence interval 포함)\n",
    "odds_ratios = pd.DataFrame(\n",
    "    {\n",
    "        \"OR\": model_sex.params,\n",
    "        \"Lower CI\": model_sex.conf_int()[0],\n",
    "        \"Upper CI\": model_sex.conf_int()[1],\n",
    "    }\n",
    ")\n",
    "odds_ratios = np.exp(odds_ratios)\n",
    "print(odds_ratios)"
   ]
  },
  {
   "cell_type": "code",
   "execution_count": 31,
   "metadata": {},
   "outputs": [
    {
     "name": "stdout",
     "output_type": "stream",
     "text": [
      "Optimization terminated successfully.\n",
      "         Current function value: 0.576934\n",
      "         Iterations 5\n",
      "                           Logit Regression Results                           \n",
      "==============================================================================\n",
      "Dep. Variable:              LongWork2   No. Observations:                 5808\n",
      "Model:                          Logit   Df Residuals:                     5805\n",
      "Method:                           MLE   Df Model:                            2\n",
      "Date:                Tue, 04 Apr 2023   Pseudo R-squ.:                0.005500\n",
      "Time:                        19:48:22   Log-Likelihood:                -3350.8\n",
      "converged:                       True   LL-Null:                       -3369.4\n",
      "Covariance Type:            nonrobust   LLR p-value:                 8.965e-09\n",
      "========================================================================================================\n",
      "                                           coef    std err          z      P>|z|      [0.025      0.975]\n",
      "--------------------------------------------------------------------------------------------------------\n",
      "Intercept                               -1.3307      0.092    -14.398      0.000      -1.512      -1.150\n",
      "C(건강상태, Treatment(\"건강하지않다\"))[T.건강하다]     0.4581      0.100      4.601      0.000       0.263       0.653\n",
      "C(건강상태, Treatment(\"건강하지않다\"))[T.보통이다]     0.1287      0.110      1.170      0.242      -0.087       0.344\n",
      "========================================================================================================\n",
      "==================================Odds Ratio=========================================\n",
      "                                            OR  Lower CI  Upper CI\n",
      "Intercept                             0.264286  0.220496  0.316772\n",
      "C(건강상태, Treatment(\"건강하지않다\"))[T.건강하다]  1.581032  1.300751  1.921706\n",
      "C(건강상태, Treatment(\"건강하지않다\"))[T.보통이다]  1.137304  0.916849  1.410768\n"
     ]
    }
   ],
   "source": [
    "# 건강상태\n",
    "model_status = sm.Logit.from_formula('LongWork2 ~ C(건강상태,Treatment(\"건강하지않다\"))', df_1).fit()\n",
    "print(model_status.summary())\n",
    "print('==================================Odds Ratio=========================================')\n",
    "\n",
    "# 오즈비 계산(Confidence interval 포함)\n",
    "odds_ratios = pd.DataFrame(\n",
    "    {\n",
    "        \"OR\": model_status.params,\n",
    "        \"Lower CI\": model_status.conf_int()[0],\n",
    "        \"Upper CI\": model_status.conf_int()[1],\n",
    "    }\n",
    ")\n",
    "odds_ratios = np.exp(odds_ratios)\n",
    "print(odds_ratios)"
   ]
  },
  {
   "cell_type": "code",
   "execution_count": 33,
   "metadata": {},
   "outputs": [
    {
     "name": "stdout",
     "output_type": "stream",
     "text": [
      "Optimization terminated successfully.\n",
      "         Current function value: 0.579015\n",
      "         Iterations 5\n",
      "                           Logit Regression Results                           \n",
      "==============================================================================\n",
      "Dep. Variable:              LongWork2   No. Observations:                 5808\n",
      "Model:                          Logit   Df Residuals:                     5806\n",
      "Method:                           MLE   Df Model:                            1\n",
      "Date:                Tue, 04 Apr 2023   Pseudo R-squ.:                0.001912\n",
      "Time:                        20:06:09   Log-Likelihood:                -3362.9\n",
      "converged:                       True   LL-Null:                       -3369.4\n",
      "Covariance Type:            nonrobust   LLR p-value:                 0.0003310\n",
      "==================================================================================================\n",
      "                                     coef    std err          z      P>|z|      [0.025      0.975]\n",
      "--------------------------------------------------------------------------------------------------\n",
      "Intercept                         -1.0264      0.030    -34.131      0.000      -1.085      -0.967\n",
      "C(결혼상태, Treatment(\"미혼\"))[T.기혼]     0.7079      0.192      3.686      0.000       0.331       1.084\n",
      "==================================================================================================\n",
      "==================================Odds Ratio=========================================\n",
      "                                      OR  Lower CI  Upper CI\n",
      "Intercept                       0.358302  0.337793  0.380055\n",
      "C(결혼상태, Treatment(\"미혼\"))[T.기혼]  2.029778  1.393035  2.957571\n"
     ]
    }
   ],
   "source": [
    "# 결혼상태\n",
    "model_marriage = sm.Logit.from_formula('LongWork2 ~ C(결혼상태,Treatment(\"미혼\"))', df_1).fit()\n",
    "print(model_marriage.summary())\n",
    "print('==================================Odds Ratio=========================================')\n",
    "\n",
    "# 오즈비 계산(Confidence interval 포함)\n",
    "odds_ratios = pd.DataFrame(\n",
    "    {\n",
    "        \"OR\": model_marriage.params,\n",
    "        \"Lower CI\": model_marriage.conf_int()[0],\n",
    "        \"Upper CI\": model_marriage.conf_int()[1],\n",
    "    }\n",
    ")\n",
    "odds_ratios = np.exp(odds_ratios)\n",
    "print(odds_ratios)"
   ]
  },
  {
   "cell_type": "code",
   "execution_count": 34,
   "metadata": {},
   "outputs": [
    {
     "name": "stdout",
     "output_type": "stream",
     "text": [
      "Optimization terminated successfully.\n",
      "         Current function value: 0.578365\n",
      "         Iterations 5\n",
      "                           Logit Regression Results                           \n",
      "==============================================================================\n",
      "Dep. Variable:              LongWork2   No. Observations:                 5808\n",
      "Model:                          Logit   Df Residuals:                     5806\n",
      "Method:                           MLE   Df Model:                            1\n",
      "Date:                Tue, 04 Apr 2023   Pseudo R-squ.:                0.003033\n",
      "Time:                        20:07:46   Log-Likelihood:                -3359.1\n",
      "converged:                       True   LL-Null:                       -3369.4\n",
      "Covariance Type:            nonrobust   LLR p-value:                 6.160e-06\n",
      "=====================================================================================================\n",
      "                                        coef    std err          z      P>|z|      [0.025      0.975]\n",
      "-----------------------------------------------------------------------------------------------------\n",
      "Intercept                            -1.1345      0.041    -27.633      0.000      -1.215      -1.054\n",
      "C(대학지역, Treatment(\"비수도권\"))[T.수도권]     0.2691      0.060      4.523      0.000       0.152       0.386\n",
      "=====================================================================================================\n",
      "==================================Odds Ratio=========================================\n",
      "                                         OR  Lower CI  Upper CI\n",
      "Intercept                          0.321575  0.296712  0.348522\n",
      "C(대학지역, Treatment(\"비수도권\"))[T.수도권]  1.308805  1.164732  1.470700\n"
     ]
    }
   ],
   "source": [
    "# 대학지역\n",
    "model_univer = sm.Logit.from_formula('LongWork2 ~ C(대학지역,Treatment(\"비수도권\"))', df_1).fit()\n",
    "print(model_univer.summary())\n",
    "print('==================================Odds Ratio=========================================')\n",
    "\n",
    "# 오즈비 계산(Confidence interval 포함)\n",
    "odds_ratios = pd.DataFrame(\n",
    "    {\n",
    "        \"OR\": model_univer.params,\n",
    "        \"Lower CI\": model_univer.conf_int()[0],\n",
    "        \"Upper CI\": model_univer.conf_int()[1],\n",
    "    }\n",
    ")\n",
    "odds_ratios = np.exp(odds_ratios)\n",
    "print(odds_ratios)"
   ]
  },
  {
   "cell_type": "code",
   "execution_count": 40,
   "metadata": {},
   "outputs": [
    {
     "name": "stdout",
     "output_type": "stream",
     "text": [
      "Optimization terminated successfully.\n",
      "         Current function value: 0.561151\n",
      "         Iterations 5\n",
      "                           Logit Regression Results                           \n",
      "==============================================================================\n",
      "Dep. Variable:              LongWork2   No. Observations:                 5808\n",
      "Model:                          Logit   Df Residuals:                     5805\n",
      "Method:                           MLE   Df Model:                            2\n",
      "Date:                Tue, 04 Apr 2023   Pseudo R-squ.:                 0.03271\n",
      "Time:                        20:12:26   Log-Likelihood:                -3259.2\n",
      "converged:                       True   LL-Null:                       -3369.4\n",
      "Covariance Type:            nonrobust   LLR p-value:                 1.387e-48\n",
      "======================================================================================================\n",
      "                                         coef    std err          z      P>|z|      [0.025      0.975]\n",
      "------------------------------------------------------------------------------------------------------\n",
      "Intercept                             -1.5711      0.055    -28.734      0.000      -1.678      -1.464\n",
      "C(전공일치, Treatment(\"맞지않다\"))[T.보통이다]     0.6232      0.079      7.841      0.000       0.467       0.779\n",
      "C(전공일치, Treatment(\"맞지않다\"))[T.잘맞다]      1.0415      0.072     14.486      0.000       0.901       1.182\n",
      "======================================================================================================\n",
      "==================================Odds Ratio=========================================\n",
      "                                          OR  Lower CI  Upper CI\n",
      "Intercept                           0.207819  0.186700  0.231327\n",
      "C(전공일치, Treatment(\"맞지않다\"))[T.보통이다]  1.864828  1.595824  2.179176\n",
      "C(전공일치, Treatment(\"맞지않다\"))[T.잘맞다]   2.833491  2.461065  3.262274\n"
     ]
    }
   ],
   "source": [
    "# 전공일치\n",
    "model_major = sm.Logit.from_formula('LongWork2 ~ C(전공일치,Treatment(\"맞지않다\"))', df_1).fit()\n",
    "print(model_major.summary())\n",
    "print('==================================Odds Ratio=========================================')\n",
    "\n",
    "# 오즈비 계산(Confidence interval 포함)\n",
    "odds_ratios = pd.DataFrame(\n",
    "    {\n",
    "        \"OR\": model_major.params,\n",
    "        \"Lower CI\": model_major.conf_int()[0],\n",
    "        \"Upper CI\": model_major.conf_int()[1],\n",
    "    }\n",
    ")\n",
    "odds_ratios = np.exp(odds_ratios)\n",
    "print(odds_ratios)"
   ]
  },
  {
   "cell_type": "code",
   "execution_count": 37,
   "metadata": {},
   "outputs": [
    {
     "name": "stdout",
     "output_type": "stream",
     "text": [
      "Optimization terminated successfully.\n",
      "         Current function value: 0.584030\n",
      "         Iterations 5\n",
      "                           Logit Regression Results                           \n",
      "==============================================================================\n",
      "Dep. Variable:              LongWork2   No. Observations:                 5568\n",
      "Model:                          Logit   Df Residuals:                     5566\n",
      "Method:                           MLE   Df Model:                            1\n",
      "Date:                Tue, 04 Apr 2023   Pseudo R-squ.:               9.492e-05\n",
      "Time:                        20:11:04   Log-Likelihood:                -3251.9\n",
      "converged:                       True   LL-Null:                       -3252.2\n",
      "Covariance Type:            nonrobust   LLR p-value:                    0.4320\n",
      "==============================================================================\n",
      "                 coef    std err          z      P>|z|      [0.025      0.975]\n",
      "------------------------------------------------------------------------------\n",
      "Intercept     -0.8461      0.185     -4.572      0.000      -1.209      -0.483\n",
      "score         -0.0509      0.064     -0.790      0.430      -0.177       0.075\n",
      "==============================================================================\n",
      "==================================Odds Ratio=========================================\n",
      "                 OR  Lower CI  Upper CI\n",
      "Intercept  0.429078  0.298548  0.616680\n",
      "score      0.950383  0.837594  1.078359\n"
     ]
    }
   ],
   "source": [
    "# score, 학점\n",
    "model_score = sm.Logit.from_formula('LongWork2 ~ score', df_1).fit()\n",
    "print(model_score.summary())\n",
    "print('==================================Odds Ratio=========================================')\n",
    "\n",
    "# 오즈비 계산(Confidence interval 포함)\n",
    "odds_ratios = pd.DataFrame(\n",
    "    {\n",
    "        \"OR\": model_score.params,\n",
    "        \"Lower CI\": model_score.conf_int()[0],\n",
    "        \"Upper CI\": model_score.conf_int()[1],\n",
    "    }\n",
    ")\n",
    "odds_ratios = np.exp(odds_ratios)\n",
    "print(odds_ratios)"
   ]
  },
  {
   "cell_type": "code",
   "execution_count": 38,
   "metadata": {},
   "outputs": [
    {
     "data": {
      "text/plain": [
       "array(['있다', '없다'], dtype=object)"
      ]
     },
     "execution_count": 38,
     "metadata": {},
     "output_type": "execute_result"
    }
   ],
   "source": [
    "df_1.재학중일자리경험.unique()"
   ]
  },
  {
   "cell_type": "code",
   "execution_count": 44,
   "metadata": {},
   "outputs": [
    {
     "name": "stdout",
     "output_type": "stream",
     "text": [
      "Optimization terminated successfully.\n",
      "         Current function value: 0.579861\n",
      "         Iterations 5\n",
      "                           Logit Regression Results                           \n",
      "==============================================================================\n",
      "Dep. Variable:              LongWork2   No. Observations:                 5808\n",
      "Model:                          Logit   Df Residuals:                     5806\n",
      "Method:                           MLE   Df Model:                            1\n",
      "Date:                Tue, 04 Apr 2023   Pseudo R-squ.:               0.0004527\n",
      "Time:                        20:15:00   Log-Likelihood:                -3367.8\n",
      "converged:                       True   LL-Null:                       -3369.4\n",
      "Covariance Type:            nonrobust   LLR p-value:                   0.08072\n",
      "======================================================================================================\n",
      "                                         coef    std err          z      P>|z|      [0.025      0.975]\n",
      "------------------------------------------------------------------------------------------------------\n",
      "Intercept                             -0.9469      0.047    -20.286      0.000      -1.038      -0.855\n",
      "C(재학중일자리경험, Treatment(\"없다\"))[T.있다]    -0.1058      0.060     -1.749      0.080      -0.224       0.013\n",
      "======================================================================================================\n",
      "==================================Odds Ratio=========================================\n",
      "                                          OR  Lower CI  Upper CI\n",
      "Intercept                           0.387942  0.354025  0.425108\n",
      "C(재학중일자리경험, Treatment(\"없다\"))[T.있다]  0.899636  0.799091  1.012832\n"
     ]
    }
   ],
   "source": [
    "# 재학중일자리경험\n",
    "model_work = sm.Logit.from_formula('LongWork2 ~ C(재학중일자리경험,Treatment(\"없다\"))', df_1).fit()\n",
    "print(model_work.summary())\n",
    "print('==================================Odds Ratio=========================================')\n",
    "\n",
    "# 오즈비 계산(Confidence interval 포함)\n",
    "odds_ratios = pd.DataFrame(\n",
    "    {\n",
    "        \"OR\": model_work.params,\n",
    "        \"Lower CI\": model_work.conf_int()[0],\n",
    "        \"Upper CI\": model_work.conf_int()[1],\n",
    "    }\n",
    ")\n",
    "odds_ratios = np.exp(odds_ratios)\n",
    "print(odds_ratios)"
   ]
  },
  {
   "cell_type": "code",
   "execution_count": 45,
   "metadata": {},
   "outputs": [
    {
     "name": "stdout",
     "output_type": "stream",
     "text": [
      "Optimization terminated successfully.\n",
      "         Current function value: 0.572948\n",
      "         Iterations 5\n",
      "                           Logit Regression Results                           \n",
      "==============================================================================\n",
      "Dep. Variable:              LongWork2   No. Observations:                 5808\n",
      "Model:                          Logit   Df Residuals:                     5805\n",
      "Method:                           MLE   Df Model:                            2\n",
      "Date:                Tue, 04 Apr 2023   Pseudo R-squ.:                 0.01237\n",
      "Time:                        20:15:07   Log-Likelihood:                -3327.7\n",
      "converged:                       True   LL-Null:                       -3369.4\n",
      "Covariance Type:            nonrobust   LLR p-value:                 7.910e-19\n",
      "===========================================================================================================\n",
      "                                              coef    std err          z      P>|z|      [0.025      0.975]\n",
      "-----------------------------------------------------------------------------------------------------------\n",
      "Intercept                                  -0.8309      0.035    -23.629      0.000      -0.900      -0.762\n",
      "C(삶의만족도_개인, Treatment(\"그렇지않다\"))[T.그렇다]     -0.7123      0.096     -7.439      0.000      -0.900      -0.525\n",
      "C(삶의만족도_개인, Treatment(\"그렇지않다\"))[T.보통이다]    -0.4818      0.081     -5.924      0.000      -0.641      -0.322\n",
      "===========================================================================================================\n",
      "==================================Odds Ratio=========================================\n",
      "                                               OR  Lower CI  Upper CI\n",
      "Intercept                                0.435647  0.406633  0.466732\n",
      "C(삶의만족도_개인, Treatment(\"그렇지않다\"))[T.그렇다]   0.490505  0.406571  0.591767\n",
      "C(삶의만족도_개인, Treatment(\"그렇지않다\"))[T.보통이다]  0.617700  0.526686  0.724441\n"
     ]
    }
   ],
   "source": [
    "# 삶의만족도_개인\n",
    "model_per = sm.Logit.from_formula('LongWork2 ~ C(삶의만족도_개인,Treatment(\"그렇지않다\"))', df_1).fit()\n",
    "print(model_per.summary())\n",
    "print('==================================Odds Ratio=========================================')\n",
    "\n",
    "# 오즈비 계산(Confidence interval 포함)\n",
    "odds_ratios = pd.DataFrame(\n",
    "    {\n",
    "        \"OR\": model_per.params,\n",
    "        \"Lower CI\": model_per.conf_int()[0],\n",
    "        \"Upper CI\": model_per.conf_int()[1],\n",
    "    }\n",
    ")\n",
    "odds_ratios = np.exp(odds_ratios)\n",
    "print(odds_ratios)"
   ]
  },
  {
   "cell_type": "code",
   "execution_count": 46,
   "metadata": {},
   "outputs": [
    {
     "name": "stdout",
     "output_type": "stream",
     "text": [
      "Optimization terminated successfully.\n",
      "         Current function value: 0.575508\n",
      "         Iterations 5\n",
      "                           Logit Regression Results                           \n",
      "==============================================================================\n",
      "Dep. Variable:              LongWork2   No. Observations:                 5808\n",
      "Model:                          Logit   Df Residuals:                     5805\n",
      "Method:                           MLE   Df Model:                            2\n",
      "Date:                Tue, 04 Apr 2023   Pseudo R-squ.:                0.007958\n",
      "Time:                        20:19:12   Log-Likelihood:                -3342.5\n",
      "converged:                       True   LL-Null:                       -3369.4\n",
      "Covariance Type:            nonrobust   LLR p-value:                 2.268e-12\n",
      "===========================================================================================================\n",
      "                                              coef    std err          z      P>|z|      [0.025      0.975]\n",
      "-----------------------------------------------------------------------------------------------------------\n",
      "Intercept                                  -0.8842      0.034    -25.938      0.000      -0.951      -0.817\n",
      "C(삶의만족도_관계, Treatment(\"그렇지않다\"))[T.그렇다]     -0.6431      0.113     -5.670      0.000      -0.865      -0.421\n",
      "C(삶의만족도_관계, Treatment(\"그렇지않다\"))[T.보통이다]    -0.4051      0.082     -4.947      0.000      -0.566      -0.245\n",
      "===========================================================================================================\n",
      "==================================Odds Ratio=========================================\n",
      "                                               OR  Lower CI  Upper CI\n",
      "Intercept                                0.413043  0.386349  0.441583\n",
      "C(삶의만족도_관계, Treatment(\"그렇지않다\"))[T.그렇다]   0.525657  0.420877  0.656522\n",
      "C(삶의만족도_관계, Treatment(\"그렇지않다\"))[T.보통이다]  0.666877  0.567980  0.782994\n"
     ]
    }
   ],
   "source": [
    "# 삶의만족도_관계\n",
    "model_relation = sm.Logit.from_formula('LongWork2 ~ C(삶의만족도_관계,Treatment(\"그렇지않다\"))', df_1).fit()\n",
    "print(model_relation.summary())\n",
    "print('==================================Odds Ratio=========================================')\n",
    "\n",
    "# 오즈비 계산(Confidence interval 포함)\n",
    "odds_ratios = pd.DataFrame(\n",
    "    {\n",
    "        \"OR\": model_relation.params,\n",
    "        \"Lower CI\": model_relation.conf_int()[0],\n",
    "        \"Upper CI\": model_relation.conf_int()[1],\n",
    "    }\n",
    ")\n",
    "odds_ratios = np.exp(odds_ratios)\n",
    "print(odds_ratios)"
   ]
  },
  {
   "cell_type": "code",
   "execution_count": 47,
   "metadata": {},
   "outputs": [
    {
     "name": "stdout",
     "output_type": "stream",
     "text": [
      "Optimization terminated successfully.\n",
      "         Current function value: 0.577526\n",
      "         Iterations 5\n",
      "                           Logit Regression Results                           \n",
      "==============================================================================\n",
      "Dep. Variable:              LongWork2   No. Observations:                 5808\n",
      "Model:                          Logit   Df Residuals:                     5805\n",
      "Method:                           MLE   Df Model:                            2\n",
      "Date:                Tue, 04 Apr 2023   Pseudo R-squ.:                0.004478\n",
      "Time:                        20:20:39   Log-Likelihood:                -3354.3\n",
      "converged:                       True   LL-Null:                       -3369.4\n",
      "Covariance Type:            nonrobust   LLR p-value:                 2.801e-07\n",
      "=============================================================================================================\n",
      "                                                coef    std err          z      P>|z|      [0.025      0.975]\n",
      "-------------------------------------------------------------------------------------------------------------\n",
      "Intercept                                    -0.8942      0.036    -24.860      0.000      -0.965      -0.824\n",
      "C(삶의만족도_소속집단, Treatment(\"그렇지않다\"))[T.그렇다]     -0.3642      0.099     -3.690      0.000      -0.558      -0.171\n",
      "C(삶의만족도_소속집단, Treatment(\"그렇지않다\"))[T.보통이다]    -0.3385      0.074     -4.575      0.000      -0.483      -0.193\n",
      "=============================================================================================================\n",
      "==================================Odds Ratio=========================================\n",
      "                                                 OR  Lower CI  Upper CI\n",
      "Intercept                                  0.408937  0.381101  0.438807\n",
      "C(삶의만족도_소속집단, Treatment(\"그렇지않다\"))[T.그렇다]   0.694757  0.572557  0.843039\n",
      "C(삶의만족도_소속집단, Treatment(\"그렇지않다\"))[T.보통이다]  0.712846  0.616626  0.824081\n"
     ]
    }
   ],
   "source": [
    "# 삶의만족도_소속집단\n",
    "model_group = sm.Logit.from_formula('LongWork2 ~ C(삶의만족도_소속집단,Treatment(\"그렇지않다\"))', df_1).fit()\n",
    "print(model_group.summary())\n",
    "print('==================================Odds Ratio=========================================')\n",
    "\n",
    "# 오즈비 계산(Confidence interval 포함)\n",
    "odds_ratios = pd.DataFrame(\n",
    "    {\n",
    "        \"OR\": model_group.params,\n",
    "        \"Lower CI\": model_group.conf_int()[0],\n",
    "        \"Upper CI\": model_group.conf_int()[1],\n",
    "    }\n",
    ")\n",
    "odds_ratios = np.exp(odds_ratios)\n",
    "print(odds_ratios)"
   ]
  }
 ],
 "metadata": {
  "kernelspec": {
   "display_name": "'pannel'",
   "language": "python",
   "name": "python3"
  },
  "language_info": {
   "codemirror_mode": {
    "name": "ipython",
    "version": 3
   },
   "file_extension": ".py",
   "mimetype": "text/x-python",
   "name": "python",
   "nbconvert_exporter": "python",
   "pygments_lexer": "ipython3",
   "version": "3.10.0"
  },
  "orig_nbformat": 4,
  "vscode": {
   "interpreter": {
    "hash": "567688ddcb0ff0e569682700137e8323bc710a8b8e628cd09dfd9151c691837d"
   }
  }
 },
 "nbformat": 4,
 "nbformat_minor": 2
}
