{
 "cells": [
  {
   "cell_type": "markdown",
   "metadata": {},
   "source": [
    "[과제 연습 깃허브](https://github.com/HwangJae-won/Data_project_practice)  \n",
    "[자전거 수요량 연습](https://velog.io/@juuurr/%EC%B7%A8%EC%A4%80-%EC%9D%BC%EA%B8%B0-%EB%8D%B0%EC%9D%B4%ED%84%B0-%EB%B6%84%EC%84%9D-%EA%B3%BC%EC%A0%9C-%ED%85%8C%EC%8A%A4%ED%8A%B8-%EC%A4%80%EB%B9%84-%EC%88%98%EC%9A%94%EB%9F%89-%EC%98%88%EC%B8%A11)  \n",
    "[다른 과제 연습](https://emperor-one-data-study.tistory.com/70#google_vignette)"
   ]
  },
  {
   "cell_type": "code",
   "execution_count": 1,
   "metadata": {},
   "outputs": [],
   "source": [
    "import pandas as pd\n",
    "import numpy as np\n",
    "import matplotlib.pyplot as plt\n",
    "from datetime import datetime\n",
    "\n",
    "from sklearn.model_selection import train_test_split\n",
    "from sklearn.model_selection import GridSearchCV\n",
    "from sklearn.metrics import classification_report\n",
    "from sklearn.preprocessing import LabelEncoder\n",
    "from sklearn.metrics import r2_score\n",
    "\n",
    "import statsmodels.api as sm\n",
    "from sklearn.ensemble import RandomForestClassifier\n",
    "from sklearn.linear_model import LinearRegression, LogisticRegression\n",
    "import seaborn as sns\n",
    "import datetime as dt\n",
    "import os\n",
    "\n",
    "\n",
    "import warnings\n",
    "warnings.filterwarnings(\"ignore\")"
   ]
  },
  {
   "cell_type": "code",
   "execution_count": 2,
   "metadata": {},
   "outputs": [],
   "source": [
    "from matplotlib import font_manager, rc\n",
    "font_path = \"C:/Windows/Fonts/NGULIM.TTF\"\n",
    "font = font_manager.FontProperties(fname=font_path).get_name()\n",
    "rc('font', family=font)"
   ]
  },
  {
   "cell_type": "markdown",
   "metadata": {},
   "source": [
    "# checklist"
   ]
  },
  {
   "cell_type": "markdown",
   "metadata": {},
   "source": [
    "- sklearn위주로 패키지 외우기\n",
    "- 혹시 모르니 statsmodels도 같이 외우기"
   ]
  },
  {
   "cell_type": "code",
   "execution_count": 3,
   "metadata": {},
   "outputs": [
    {
     "data": {
      "text/plain": [
       "'df[\"새로만들 변수 이름\"] = df[\"기존 변수 이름\"].apply(lambda x: 변환할 값 if x == \"기존 변수 값\" else\\n                                        변환할 값2 if x == \"다른 값\" else 0)'"
      ]
     },
     "execution_count": 3,
     "metadata": {},
     "output_type": "execute_result"
    }
   ],
   "source": [
    "# logit = LogisticRegression()\n",
    "# lin = LinearRegression()\n",
    "\n",
    "# logi = sm.Logit.from_formula('', data=).fit()\n",
    "# linee = sm.OLS.from_formula('',data=).fit()\n",
    "\n",
    "# train_copy['target1'] = train_copy['근내환산점수'].apply(lambda x: 1 if 5 == x else 0)\n",
    "'''df[\"새로만들 변수 이름\"] = df[\"기존 변수 이름\"].apply(lambda x: 변환할 값 if x == \"기존 변수 값\" else\n",
    "                                        변환할 값2 if x == \"다른 값\" else 0)'''"
   ]
  },
  {
   "cell_type": "code",
   "execution_count": 4,
   "metadata": {},
   "outputs": [
    {
     "data": {
      "text/plain": [
       "\" 메모장\\n1. groupby, pivot table 만들기 연습\\n2. 시각화 연습\\n3. 모델링 함수(하이퍼 파라미터 튜닝)\\n4. 원-핫 인코딩 같은 전처리 함수 연습\\ndf.astype({'column': 'int'})\\ndf_new = pd.get_dummies(df, columns=['column'])\\ndf_new = pd.concat([df, pd.get_dummies(df['column'])], axis=1)\\ndf['age2'] = df['age2'].fillna(df.groupby('sex')['age2'].transform('mean').apply(np.floor))\\n\""
      ]
     },
     "execution_count": 4,
     "metadata": {},
     "output_type": "execute_result"
    }
   ],
   "source": [
    "''' 메모장\n",
    "1. groupby, pivot table 만들기 연습\n",
    "2. 시각화 연습\n",
    "3. 모델링 함수(하이퍼 파라미터 튜닝)\n",
    "4. 원-핫 인코딩 같은 전처리 함수 연습\n",
    "df.astype({'column': 'int'})\n",
    "df_new = pd.get_dummies(df, columns=['column'])\n",
    "df_new = pd.concat([df, pd.get_dummies(df['column'])], axis=1)\n",
    "df['age2'] = df['age2'].fillna(df.groupby('sex')['age2'].transform('mean').apply(np.floor))\n",
    "'''"
   ]
  },
  {
   "cell_type": "markdown",
   "metadata": {},
   "source": [
    "# 코드 연습"
   ]
  },
  {
   "cell_type": "markdown",
   "metadata": {},
   "source": [
    "## 타이타닉"
   ]
  },
  {
   "cell_type": "code",
   "execution_count": 5,
   "metadata": {},
   "outputs": [],
   "source": [
    "df = sns.load_dataset('titanic')"
   ]
  },
  {
   "cell_type": "code",
   "execution_count": 6,
   "metadata": {},
   "outputs": [
    {
     "data": {
      "text/html": [
       "<div>\n",
       "<style scoped>\n",
       "    .dataframe tbody tr th:only-of-type {\n",
       "        vertical-align: middle;\n",
       "    }\n",
       "\n",
       "    .dataframe tbody tr th {\n",
       "        vertical-align: top;\n",
       "    }\n",
       "\n",
       "    .dataframe thead th {\n",
       "        text-align: right;\n",
       "    }\n",
       "</style>\n",
       "<table border=\"1\" class=\"dataframe\">\n",
       "  <thead>\n",
       "    <tr style=\"text-align: right;\">\n",
       "      <th></th>\n",
       "      <th>survived</th>\n",
       "      <th>pclass</th>\n",
       "      <th>sex</th>\n",
       "      <th>age</th>\n",
       "      <th>sibsp</th>\n",
       "      <th>parch</th>\n",
       "      <th>fare</th>\n",
       "      <th>embarked</th>\n",
       "      <th>class</th>\n",
       "      <th>who</th>\n",
       "      <th>adult_male</th>\n",
       "      <th>deck</th>\n",
       "      <th>embark_town</th>\n",
       "      <th>alive</th>\n",
       "      <th>alone</th>\n",
       "    </tr>\n",
       "  </thead>\n",
       "  <tbody>\n",
       "    <tr>\n",
       "      <th>0</th>\n",
       "      <td>0</td>\n",
       "      <td>3</td>\n",
       "      <td>male</td>\n",
       "      <td>22.0</td>\n",
       "      <td>1</td>\n",
       "      <td>0</td>\n",
       "      <td>7.2500</td>\n",
       "      <td>S</td>\n",
       "      <td>Third</td>\n",
       "      <td>man</td>\n",
       "      <td>True</td>\n",
       "      <td>NaN</td>\n",
       "      <td>Southampton</td>\n",
       "      <td>no</td>\n",
       "      <td>False</td>\n",
       "    </tr>\n",
       "    <tr>\n",
       "      <th>1</th>\n",
       "      <td>1</td>\n",
       "      <td>1</td>\n",
       "      <td>female</td>\n",
       "      <td>38.0</td>\n",
       "      <td>1</td>\n",
       "      <td>0</td>\n",
       "      <td>71.2833</td>\n",
       "      <td>C</td>\n",
       "      <td>First</td>\n",
       "      <td>woman</td>\n",
       "      <td>False</td>\n",
       "      <td>C</td>\n",
       "      <td>Cherbourg</td>\n",
       "      <td>yes</td>\n",
       "      <td>False</td>\n",
       "    </tr>\n",
       "    <tr>\n",
       "      <th>2</th>\n",
       "      <td>1</td>\n",
       "      <td>3</td>\n",
       "      <td>female</td>\n",
       "      <td>26.0</td>\n",
       "      <td>0</td>\n",
       "      <td>0</td>\n",
       "      <td>7.9250</td>\n",
       "      <td>S</td>\n",
       "      <td>Third</td>\n",
       "      <td>woman</td>\n",
       "      <td>False</td>\n",
       "      <td>NaN</td>\n",
       "      <td>Southampton</td>\n",
       "      <td>yes</td>\n",
       "      <td>True</td>\n",
       "    </tr>\n",
       "    <tr>\n",
       "      <th>3</th>\n",
       "      <td>1</td>\n",
       "      <td>1</td>\n",
       "      <td>female</td>\n",
       "      <td>35.0</td>\n",
       "      <td>1</td>\n",
       "      <td>0</td>\n",
       "      <td>53.1000</td>\n",
       "      <td>S</td>\n",
       "      <td>First</td>\n",
       "      <td>woman</td>\n",
       "      <td>False</td>\n",
       "      <td>C</td>\n",
       "      <td>Southampton</td>\n",
       "      <td>yes</td>\n",
       "      <td>False</td>\n",
       "    </tr>\n",
       "    <tr>\n",
       "      <th>4</th>\n",
       "      <td>0</td>\n",
       "      <td>3</td>\n",
       "      <td>male</td>\n",
       "      <td>35.0</td>\n",
       "      <td>0</td>\n",
       "      <td>0</td>\n",
       "      <td>8.0500</td>\n",
       "      <td>S</td>\n",
       "      <td>Third</td>\n",
       "      <td>man</td>\n",
       "      <td>True</td>\n",
       "      <td>NaN</td>\n",
       "      <td>Southampton</td>\n",
       "      <td>no</td>\n",
       "      <td>True</td>\n",
       "    </tr>\n",
       "  </tbody>\n",
       "</table>\n",
       "</div>"
      ],
      "text/plain": [
       "   survived  pclass     sex   age  sibsp  parch     fare embarked  class  \\\n",
       "0         0       3    male  22.0      1      0   7.2500        S  Third   \n",
       "1         1       1  female  38.0      1      0  71.2833        C  First   \n",
       "2         1       3  female  26.0      0      0   7.9250        S  Third   \n",
       "3         1       1  female  35.0      1      0  53.1000        S  First   \n",
       "4         0       3    male  35.0      0      0   8.0500        S  Third   \n",
       "\n",
       "     who  adult_male deck  embark_town alive  alone  \n",
       "0    man        True  NaN  Southampton    no  False  \n",
       "1  woman       False    C    Cherbourg   yes  False  \n",
       "2  woman       False  NaN  Southampton   yes   True  \n",
       "3  woman       False    C  Southampton   yes  False  \n",
       "4    man        True  NaN  Southampton    no   True  "
      ]
     },
     "execution_count": 6,
     "metadata": {},
     "output_type": "execute_result"
    }
   ],
   "source": [
    "df.head()"
   ]
  },
  {
   "cell_type": "code",
   "execution_count": 7,
   "metadata": {},
   "outputs": [
    {
     "name": "stdout",
     "output_type": "stream",
     "text": [
      "35.24%\n",
      "64.76%\n"
     ]
    }
   ],
   "source": [
    "print(f\"{round((len(df[df['sex']=='female'])/len(df))*100,2)}%\")\n",
    "print(f\"{round((len(df[df['sex']=='male'])/len(df))*100,2)}%\")"
   ]
  },
  {
   "cell_type": "code",
   "execution_count": 8,
   "metadata": {},
   "outputs": [
    {
     "name": "stdout",
     "output_type": "stream",
     "text": [
      "sex     class \n",
      "female  First     34.611765\n",
      "        Second    28.722973\n",
      "        Third     21.750000\n",
      "male    First     41.281386\n",
      "        Second    30.740707\n",
      "        Third     26.507589\n",
      "Name: age, dtype: float64\n",
      "                    mean         var\n",
      "sex    class                        \n",
      "female First   34.611765  185.287955\n",
      "       Second  28.722973  165.706451\n",
      "       Third   21.750000  162.051980\n",
      "male   First   41.281386  229.206594\n",
      "       Second  30.740707  218.859292\n",
      "       Third   26.507589  147.853777\n"
     ]
    }
   ],
   "source": [
    "print(df.groupby(['sex','class'])['age'].mean())\n",
    "\n",
    "print(df.groupby(['sex','class'])['age'].agg(['mean','var']))"
   ]
  },
  {
   "cell_type": "code",
   "execution_count": 9,
   "metadata": {},
   "outputs": [
    {
     "name": "stdout",
     "output_type": "stream",
     "text": [
      "177\n",
      "177\n",
      "     age2   age\n",
      "0    22.0  22.0\n",
      "1    38.0  38.0\n",
      "2    26.0  26.0\n",
      "3    35.0  35.0\n",
      "4    35.0  35.0\n",
      "..    ...   ...\n",
      "886  27.0  27.0\n",
      "887  19.0  19.0\n",
      "888  27.0   NaN\n",
      "889  26.0  26.0\n",
      "890  32.0  32.0\n",
      "\n",
      "[891 rows x 2 columns]\n"
     ]
    }
   ],
   "source": [
    "df['age2'] = df['age'].copy()\n",
    "print(df['age2'].isnull().sum())\n",
    "print(df['age'].isnull().sum())\n",
    "\n",
    "df['age2'] = df['age2'].fillna(df.groupby('sex')['age2'].transform('mean').apply(np.floor))\n",
    "\n",
    "print(df[['age2','age']])"
   ]
  },
  {
   "cell_type": "code",
   "execution_count": 10,
   "metadata": {},
   "outputs": [
    {
     "name": "stdout",
     "output_type": "stream",
     "text": [
      "0    0\n",
      "1    1\n",
      "2    1\n",
      "3    1\n",
      "4    0\n",
      "Name: sex2, dtype: int64\n"
     ]
    },
    {
     "data": {
      "text/plain": [
       "0      male\n",
       "1    female\n",
       "2    female\n",
       "3    female\n",
       "4      male\n",
       "Name: sex2, dtype: object"
      ]
     },
     "execution_count": 10,
     "metadata": {},
     "output_type": "execute_result"
    }
   ],
   "source": [
    "df['sex2'] = df['sex'].copy()\n",
    "\n",
    "print(df['sex2'].map({'male':0, 'female':1})[:5])\n",
    "df['sex2'].head()"
   ]
  },
  {
   "cell_type": "code",
   "execution_count": 11,
   "metadata": {},
   "outputs": [],
   "source": [
    "label_encoder = LabelEncoder()\n",
    "df['sex'] = label_encoder.fit_transform(df['sex'].astype(str))\n",
    "df['embarked'] = label_encoder.fit_transform(df['embarked'])\n",
    "df['class'] = label_encoder.fit_transform(df['class'].astype(str))\n",
    "df['who'] = label_encoder.fit_transform(df['who'].astype(str))\n",
    "df['adult_male'] = label_encoder.fit_transform(df['adult_male'].astype(str))\n",
    "df['embark_town'] = label_encoder.fit_transform(df['embark_town'].astype(str))\n",
    "df['alive'] = label_encoder.fit_transform(df['alive'].astype(str))"
   ]
  },
  {
   "cell_type": "code",
   "execution_count": 12,
   "metadata": {},
   "outputs": [],
   "source": [
    "X = df[['pclass', 'sex', 'age', 'sibsp', 'parch', 'fare', 'embarked', 'class', 'who', 'adult_male', 'embark_town']]\n",
    "y = df['survived']"
   ]
  },
  {
   "cell_type": "code",
   "execution_count": 13,
   "metadata": {},
   "outputs": [],
   "source": [
    "# 데이터 분할 및 모델 학습\n",
    "x_train, x_test, y_train, y_test = train_test_split(X,y, test_size=0.2, random_state=2024,\n",
    "                                                    shuffle=True, stratify=y)"
   ]
  },
  {
   "cell_type": "code",
   "execution_count": null,
   "metadata": {},
   "outputs": [],
   "source": [
    "rf = RandomForestClassifier(random_state=2024)\n",
    "\n",
    "grid_p = {\n",
    "    'n_estimators' : [50, 100, 150],\n",
    "    'max_depth' : [5,10,15,20]\n",
    "}"
   ]
  },
  {
   "cell_type": "code",
   "execution_count": null,
   "metadata": {},
   "outputs": [
    {
     "data": {
      "image/png": "[encoded data removed]",
      "text/plain": [
       "<Figure size 640x480 with 2 Axes>"
      ]
     },
     "metadata": {},
     "output_type": "display_data"
    }
   ],
   "source": [
    "cor_m = df[['age','fare','pclass']].corr()\n",
    "\n",
    "plt.figure()\n",
    "sns.heatmap(cor_m, annot=True)\n",
    "plt.title('correlations')\n",
    "plt.show()\n",
    "%matplotlib inline"
   ]
  }
 ],
 "metadata": {
  "kernelspec": {
   "display_name": "Python 3",
   "language": "python",
   "name": "python3"
  },
  "language_info": {
   "codemirror_mode": {
    "name": "ipython",
    "version": 3
   },
   "file_extension": ".py",
   "mimetype": "text/x-python",
   "name": "python",
   "nbconvert_exporter": "python",
   "pygments_lexer": "ipython3",
   "version": "3.11.10"
  }
 },
 "nbformat": 4,
 "nbformat_minor": 2
}
