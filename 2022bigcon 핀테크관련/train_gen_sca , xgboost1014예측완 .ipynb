{
 "cells": [
  {
   "cell_type": "code",
   "execution_count": 5,
   "id": "daeef6ff",
   "metadata": {},
   "outputs": [],
   "source": [
    "import pandas as pd\n",
    "import numpy as np\n",
    "import seaborn as sns\n",
    "import matplotlib.pyplot as plt"
   ]
  },
  {
   "cell_type": "code",
   "execution_count": 3,
   "id": "89e024cd",
   "metadata": {},
   "outputs": [
    {
     "data": {
      "text/plain": [
       "'C:\\\\Users\\\\222-04\\\\Downloads\\\\gennn'"
      ]
     },
     "execution_count": 3,
     "metadata": {},
     "output_type": "execute_result"
    }
   ],
   "source": [
    "import os\n",
    "os.chdir('C:\\\\Users\\\\222-04\\\\Downloads\\\\gennn')\n",
    "os.getcwd()"
   ]
  },
  {
   "cell_type": "code",
   "execution_count": 8,
   "id": "d518853a",
   "metadata": {},
   "outputs": [],
   "source": [
    "train_gen_sca=pd.read_csv('train_gen_drop_na_sca.csv',encoding='cp949')\n",
    "test_gen_sca=pd.read_csv('test_gen_drop_na_sca.csv',encoding='cp949')"
   ]
  },
  {
   "cell_type": "code",
   "execution_count": 9,
   "id": "6d5107f9",
   "metadata": {},
   "outputs": [
    {
     "data": {
      "text/plain": [
       "Index(['Unnamed: 0', 'level_0', 'index', 'application_id', 'is_applied',\n",
       "       'gender', 'income_type', 'employment_type', 'houseown_type', 'purpose',\n",
       "       'bank_id', 'product_id', 'loan_limit', 'loan_rate', 'credit_score',\n",
       "       'yearly_income', 'desired_amount', 'existing_loan_cnt',\n",
       "       'existing_loan_amt', '근속개월', 'age'],\n",
       "      dtype='object')"
      ]
     },
     "execution_count": 9,
     "metadata": {},
     "output_type": "execute_result"
    }
   ],
   "source": [
    "train_gen_sca.columns"
   ]
  },
  {
   "cell_type": "code",
   "execution_count": 10,
   "id": "4f499e3b",
   "metadata": {},
   "outputs": [
    {
     "data": {
      "text/plain": [
       "Index(['Unnamed: 0', 'index', 'application_id', 'is_applied', 'gender',\n",
       "       'income_type', 'employment_type', 'houseown_type', 'purpose', 'bank_id',\n",
       "       'product_id', 'loan_limit', 'loan_rate', 'credit_score',\n",
       "       'yearly_income', 'desired_amount', 'existing_loan_cnt',\n",
       "       'existing_loan_amt', '근속개월', 'age'],\n",
       "      dtype='object')"
      ]
     },
     "execution_count": 10,
     "metadata": {},
     "output_type": "execute_result"
    }
   ],
   "source": [
    "test_gen_sca.columns"
   ]
  },
  {
   "cell_type": "code",
   "execution_count": 11,
   "id": "ea433542",
   "metadata": {},
   "outputs": [],
   "source": [
    "train_gen_sca.drop(['Unnamed: 0', 'level_0', 'index'], axis=1, inplace=True)"
   ]
  },
  {
   "cell_type": "code",
   "execution_count": 13,
   "id": "68455900",
   "metadata": {},
   "outputs": [],
   "source": [
    "test_gen_sca.drop(['Unnamed: 0', 'index'], axis=1, inplace=True)"
   ]
  },
  {
   "cell_type": "markdown",
   "id": "1c932abb",
   "metadata": {},
   "source": [
    "## Sampling"
   ]
  },
  {
   "cell_type": "markdown",
   "id": "a227d3b6",
   "metadata": {},
   "source": [
    "#### 1) 더미변수 "
   ]
  },
  {
   "cell_type": "code",
   "execution_count": 20,
   "id": "d2474dba",
   "metadata": {},
   "outputs": [
    {
     "data": {
      "text/plain": [
       "Index(['application_id', 'is_applied', 'gender', 'income_type',\n",
       "       'employment_type', 'houseown_type', 'purpose', 'bank_id', 'product_id',\n",
       "       'loan_limit', 'loan_rate', 'credit_score', 'yearly_income',\n",
       "       'desired_amount', 'existing_loan_cnt', 'existing_loan_amt', '근속개월',\n",
       "       'age'],\n",
       "      dtype='object')"
      ]
     },
     "execution_count": 20,
     "metadata": {},
     "output_type": "execute_result"
    }
   ],
   "source": [
    "train_gen_sca.columns"
   ]
  },
  {
   "cell_type": "code",
   "execution_count": 21,
   "id": "cde1f26d",
   "metadata": {},
   "outputs": [],
   "source": [
    "final=pd.get_dummies(train_gen_sca, columns=['income_type', 'employment_type', 'houseown_type', 'purpose'])"
   ]
  },
  {
   "cell_type": "code",
   "execution_count": 22,
   "id": "8ec90841",
   "metadata": {},
   "outputs": [
    {
     "data": {
      "text/plain": [
       "Index(['application_id', 'is_applied', 'gender', 'bank_id', 'product_id',\n",
       "       'loan_limit', 'loan_rate', 'credit_score', 'yearly_income',\n",
       "       'desired_amount', 'existing_loan_cnt', 'existing_loan_amt', '근속개월',\n",
       "       'age', 'income_type_EARNEDINCOME', 'income_type_EARNEDINCOME2',\n",
       "       'income_type_FREELANCER', 'income_type_OTHERINCOME',\n",
       "       'income_type_PRACTITIONER', 'income_type_PRIVATEBUSINESS',\n",
       "       'employment_type_계약직', 'employment_type_기타', 'employment_type_일용직',\n",
       "       'employment_type_정규직', 'houseown_type_기타가족소유', 'houseown_type_배우자',\n",
       "       'houseown_type_자가', 'houseown_type_전월세', 'purpose_기타', 'purpose_대환대출',\n",
       "       'purpose_사업자금', 'purpose_생활비', 'purpose_자동차구입', 'purpose_전월세보증금',\n",
       "       'purpose_주택구입', 'purpose_투자'],\n",
       "      dtype='object')"
      ]
     },
     "execution_count": 22,
     "metadata": {},
     "output_type": "execute_result"
    }
   ],
   "source": [
    "final.columns"
   ]
  },
  {
   "cell_type": "markdown",
   "id": "75db97d6",
   "metadata": {},
   "source": [
    "#### 2) sampling"
   ]
  },
  {
   "cell_type": "code",
   "execution_count": 23,
   "id": "f684f683",
   "metadata": {},
   "outputs": [
    {
     "data": {
      "text/plain": [
       "0.0    8227485\n",
       "1.0     457909\n",
       "Name: is_applied, dtype: int64"
      ]
     },
     "execution_count": 23,
     "metadata": {},
     "output_type": "execute_result"
    }
   ],
   "source": [
    "final.is_applied.value_counts()"
   ]
  },
  {
   "cell_type": "code",
   "execution_count": 26,
   "id": "373f0c34",
   "metadata": {},
   "outputs": [],
   "source": [
    "import seaborn as sns"
   ]
  },
  {
   "cell_type": "code",
   "execution_count": 28,
   "id": "6b0409be",
   "metadata": {},
   "outputs": [
    {
     "data": {
      "image/png": "[encoded data removed]",
      "text/plain": [
       "<Figure size 432x288 with 1 Axes>"
      ]
     },
     "metadata": {
      "needs_background": "light"
     },
     "output_type": "display_data"
    }
   ],
   "source": [
    "sns.countplot(x=\"is_applied\", data=final)\n",
    "plt.title('is_applied')\n",
    "plt.show()"
   ]
  },
  {
   "cell_type": "markdown",
   "id": "c09cc30e",
   "metadata": {},
   "source": [
    "# 불균형 데이터 비율 추출을 위한 층화추출"
   ]
  },
  {
   "cell_type": "code",
   "execution_count": 29,
   "id": "947a22f3",
   "metadata": {},
   "outputs": [],
   "source": [
    "from sklearn.model_selection import StratifiedShuffleSplit\n",
    "split = StratifiedShuffleSplit(n_splits=1, test_size=0.25, random_state=777)\n",
    "for train_idx, test_idx in split.split(final, final[\"is_applied\"]):\n",
    "    tr = final.loc[train_idx]\n",
    "    val = final.loc[test_idx]"
   ]
  },
  {
   "cell_type": "code",
   "execution_count": 30,
   "id": "efe97500",
   "metadata": {},
   "outputs": [
    {
     "name": "stdout",
     "output_type": "stream",
     "text": [
      "0.0    0.947278\n",
      "1.0    0.052722\n",
      "Name: is_applied, dtype: float64\n"
     ]
    },
    {
     "data": {
      "text/plain": [
       "0.0    0.947278\n",
       "1.0    0.052722\n",
       "Name: is_applied, dtype: float64"
      ]
     },
     "execution_count": 30,
     "metadata": {},
     "output_type": "execute_result"
    }
   ],
   "source": [
    "print(tr[\"is_applied\"].value_counts() / len(tr))\n",
    "val[\"is_applied\"].value_counts() / len(val)"
   ]
  },
  {
   "cell_type": "code",
   "execution_count": 31,
   "id": "dfa61fa0",
   "metadata": {},
   "outputs": [],
   "source": [
    "from xgboost import XGBClassifier\n",
    "from xgboost import plot_importance ## Feature Importance를 불러오기 위함\n",
    "import shap\n",
    "from sklearn.model_selection import train_test_split\n",
    "from sklearn.metrics import confusion_matrix, classification_report, roc_auc_score\n",
    "from sklearn.metrics import classification_report"
   ]
  },
  {
   "cell_type": "code",
   "execution_count": 32,
   "id": "c499a34d",
   "metadata": {},
   "outputs": [],
   "source": [
    "x_train=tr.drop(['is_applied','houseown_type_자가'], axis=1)\n",
    "y_train=tr['is_applied']"
   ]
  },
  {
   "cell_type": "code",
   "execution_count": 33,
   "id": "fd9511ab",
   "metadata": {},
   "outputs": [],
   "source": [
    "x_val=val.drop(['is_applied','houseown_type_자가'], axis=1)\n",
    "y_val=val['is_applied']"
   ]
  },
  {
   "cell_type": "code",
   "execution_count": 34,
   "id": "17258a07",
   "metadata": {},
   "outputs": [
    {
     "data": {
      "text/plain": [
       "((6514045, 34), (2171349, 34))"
      ]
     },
     "execution_count": 34,
     "metadata": {},
     "output_type": "execute_result"
    }
   ],
   "source": [
    "x_train.shape, x_val.shape"
   ]
  },
  {
   "cell_type": "markdown",
   "id": "a393882b",
   "metadata": {},
   "source": [
    "- Grid Search 적용 X"
   ]
  },
  {
   "cell_type": "code",
   "execution_count": 35,
   "id": "b267a86d",
   "metadata": {},
   "outputs": [
    {
     "data": {
      "text/html": [
       "<style>#sk-container-id-1 {color: black;background-color: white;}#sk-container-id-1 pre{padding: 0;}#sk-container-id-1 div.sk-toggleable {background-color: white;}#sk-container-id-1 label.sk-toggleable__label {cursor: pointer;display: block;width: 100%;margin-bottom: 0;padding: 0.3em;box-sizing: border-box;text-align: center;}#sk-container-id-1 label.sk-toggleable__label-arrow:before {content: \"▸\";float: left;margin-right: 0.25em;color: #696969;}#sk-container-id-1 label.sk-toggleable__label-arrow:hover:before {color: black;}#sk-container-id-1 div.sk-estimator:hover label.sk-toggleable__label-arrow:before {color: black;}#sk-container-id-1 div.sk-toggleable__content {max-height: 0;max-width: 0;overflow: hidden;text-align: left;background-color: #f0f8ff;}#sk-container-id-1 div.sk-toggleable__content pre {margin: 0.2em;color: black;border-radius: 0.25em;background-color: #f0f8ff;}#sk-container-id-1 input.sk-toggleable__control:checked~div.sk-toggleable__content {max-height: 200px;max-width: 100%;overflow: auto;}#sk-container-id-1 input.sk-toggleable__control:checked~label.sk-toggleable__label-arrow:before {content: \"▾\";}#sk-container-id-1 div.sk-estimator input.sk-toggleable__control:checked~label.sk-toggleable__label {background-color: #d4ebff;}#sk-container-id-1 div.sk-label input.sk-toggleable__control:checked~label.sk-toggleable__label {background-color: #d4ebff;}#sk-container-id-1 input.sk-hidden--visually {border: 0;clip: rect(1px 1px 1px 1px);clip: rect(1px, 1px, 1px, 1px);height: 1px;margin: -1px;overflow: hidden;padding: 0;position: absolute;width: 1px;}#sk-container-id-1 div.sk-estimator {font-family: monospace;background-color: #f0f8ff;border: 1px dotted black;border-radius: 0.25em;box-sizing: border-box;margin-bottom: 0.5em;}#sk-container-id-1 div.sk-estimator:hover {background-color: #d4ebff;}#sk-container-id-1 div.sk-parallel-item::after {content: \"\";width: 100%;border-bottom: 1px solid gray;flex-grow: 1;}#sk-container-id-1 div.sk-label:hover label.sk-toggleable__label {background-color: #d4ebff;}#sk-container-id-1 div.sk-serial::before {content: \"\";position: absolute;border-left: 1px solid gray;box-sizing: border-box;top: 0;bottom: 0;left: 50%;z-index: 0;}#sk-container-id-1 div.sk-serial {display: flex;flex-direction: column;align-items: center;background-color: white;padding-right: 0.2em;padding-left: 0.2em;position: relative;}#sk-container-id-1 div.sk-item {position: relative;z-index: 1;}#sk-container-id-1 div.sk-parallel {display: flex;align-items: stretch;justify-content: center;background-color: white;position: relative;}#sk-container-id-1 div.sk-item::before, #sk-container-id-1 div.sk-parallel-item::before {content: \"\";position: absolute;border-left: 1px solid gray;box-sizing: border-box;top: 0;bottom: 0;left: 50%;z-index: -1;}#sk-container-id-1 div.sk-parallel-item {display: flex;flex-direction: column;z-index: 1;position: relative;background-color: white;}#sk-container-id-1 div.sk-parallel-item:first-child::after {align-self: flex-end;width: 50%;}#sk-container-id-1 div.sk-parallel-item:last-child::after {align-self: flex-start;width: 50%;}#sk-container-id-1 div.sk-parallel-item:only-child::after {width: 0;}#sk-container-id-1 div.sk-dashed-wrapped {border: 1px dashed gray;margin: 0 0.4em 0.5em 0.4em;box-sizing: border-box;padding-bottom: 0.4em;background-color: white;}#sk-container-id-1 div.sk-label label {font-family: monospace;font-weight: bold;display: inline-block;line-height: 1.2em;}#sk-container-id-1 div.sk-label-container {text-align: center;}#sk-container-id-1 div.sk-container {/* jupyter's `normalize.less` sets `[hidden] { display: none; }` but bootstrap.min.css set `[hidden] { display: none !important; }` so we also need the `!important` here to be able to override the default hidden behavior on the sphinx rendered scikit-learn.org. See: https://github.com/scikit-learn/scikit-learn/issues/21755 */display: inline-block !important;position: relative;}#sk-container-id-1 div.sk-text-repr-fallback {display: none;}</style><div id=\"sk-container-id-1\" class=\"sk-top-container\"><div class=\"sk-text-repr-fallback\"><pre>XGBClassifier(base_score=0.5, booster=&#x27;gbtree&#x27;, callbacks=None,\n",
       "              colsample_bylevel=1, colsample_bynode=1, colsample_bytree=0.8,\n",
       "              early_stopping_rounds=None, enable_categorical=False,\n",
       "              eval_metric=None, gamma=0, gpu_id=-1, grow_policy=&#x27;depthwise&#x27;,\n",
       "              importance_type=None, interaction_constraints=&#x27;&#x27;,\n",
       "              learning_rate=0.1, max_bin=256, max_cat_to_onehot=4,\n",
       "              max_delta_step=0, max_depth=5, max_leaves=0, min_child_weight=1,\n",
       "              missing=nan, monotone_constraints=&#x27;()&#x27;, n_estimators=1000,\n",
       "              n_jobs=-1, nthread=-1, num_parallel_tree=1, predictor=&#x27;auto&#x27;,\n",
       "              random_state=0, reg_alpha=0, ...)</pre><b>In a Jupyter environment, please rerun this cell to show the HTML representation or trust the notebook. <br />On GitHub, the HTML representation is unable to render, please try loading this page with nbviewer.org.</b></div><div class=\"sk-container\" hidden><div class=\"sk-item\"><div class=\"sk-estimator sk-toggleable\"><input class=\"sk-toggleable__control sk-hidden--visually\" id=\"sk-estimator-id-1\" type=\"checkbox\" checked><label for=\"sk-estimator-id-1\" class=\"sk-toggleable__label sk-toggleable__label-arrow\">XGBClassifier</label><div class=\"sk-toggleable__content\"><pre>XGBClassifier(base_score=0.5, booster=&#x27;gbtree&#x27;, callbacks=None,\n",
       "              colsample_bylevel=1, colsample_bynode=1, colsample_bytree=0.8,\n",
       "              early_stopping_rounds=None, enable_categorical=False,\n",
       "              eval_metric=None, gamma=0, gpu_id=-1, grow_policy=&#x27;depthwise&#x27;,\n",
       "              importance_type=None, interaction_constraints=&#x27;&#x27;,\n",
       "              learning_rate=0.1, max_bin=256, max_cat_to_onehot=4,\n",
       "              max_delta_step=0, max_depth=5, max_leaves=0, min_child_weight=1,\n",
       "              missing=nan, monotone_constraints=&#x27;()&#x27;, n_estimators=1000,\n",
       "              n_jobs=-1, nthread=-1, num_parallel_tree=1, predictor=&#x27;auto&#x27;,\n",
       "              random_state=0, reg_alpha=0, ...)</pre></div></div></div></div></div>"
      ],
      "text/plain": [
       "XGBClassifier(base_score=0.5, booster='gbtree', callbacks=None,\n",
       "              colsample_bylevel=1, colsample_bynode=1, colsample_bytree=0.8,\n",
       "              early_stopping_rounds=None, enable_categorical=False,\n",
       "              eval_metric=None, gamma=0, gpu_id=-1, grow_policy='depthwise',\n",
       "              importance_type=None, interaction_constraints='',\n",
       "              learning_rate=0.1, max_bin=256, max_cat_to_onehot=4,\n",
       "              max_delta_step=0, max_depth=5, max_leaves=0, min_child_weight=1,\n",
       "              missing=nan, monotone_constraints='()', n_estimators=1000,\n",
       "              n_jobs=-1, nthread=-1, num_parallel_tree=1, predictor='auto',\n",
       "              random_state=0, reg_alpha=0, ...)"
      ]
     },
     "execution_count": 35,
     "metadata": {},
     "output_type": "execute_result"
    }
   ],
   "source": [
    "xgb1 = XGBClassifier(\n",
    "    learning_rate =0.1,\n",
    "    n_estimators=1000,\n",
    "    max_depth=5,\n",
    "    min_child_weight=1,\n",
    "    gamma=0,\n",
    "    subsample=0.8,\n",
    "    colsample_bytree=0.8,\n",
    "    objective= 'binary:logistic',\n",
    "    nthread=-1,\n",
    "    scale_pos_weight=1,\n",
    "    )\n",
    "#%%\n",
    "xgb1.fit( x_train, y_train)"
   ]
  },
  {
   "cell_type": "code",
   "execution_count": 36,
   "id": "5b241201",
   "metadata": {},
   "outputs": [],
   "source": [
    "pred = xgb1.predict(x_val)"
   ]
  },
  {
   "cell_type": "code",
   "execution_count": 37,
   "id": "18519fba",
   "metadata": {},
   "outputs": [
    {
     "name": "stdout",
     "output_type": "stream",
     "text": [
      "              precision    recall  f1-score   support\n",
      "\n",
      "     class 0       0.95      1.00      0.97   2056872\n",
      "     class 1       0.55      0.06      0.11    114477\n",
      "\n",
      "    accuracy                           0.95   2171349\n",
      "   macro avg       0.75      0.53      0.54   2171349\n",
      "weighted avg       0.93      0.95      0.93   2171349\n",
      "\n"
     ]
    }
   ],
   "source": [
    "print(classification_report(y_val, pred, target_names=['class 0', 'class 1']))"
   ]
  },
  {
   "cell_type": "code",
   "execution_count": 38,
   "id": "b4dbd4d6",
   "metadata": {},
   "outputs": [
    {
     "name": "stdout",
     "output_type": "stream",
     "text": [
      "roc_auc_score 0.5297184042320676\n"
     ]
    }
   ],
   "source": [
    "from sklearn.metrics import roc_auc_score\n",
    "print('roc_auc_score {}'.format(roc_auc_score(y_val, pred)))"
   ]
  },
  {
   "cell_type": "code",
   "execution_count": 39,
   "id": "b8262eae",
   "metadata": {},
   "outputs": [
    {
     "name": "stdout",
     "output_type": "stream",
     "text": [
      "샘플 추츨\n",
      "\n",
      "thr idx: [     1      7     13 ... 364549 364555 364561]\n",
      "thr thresholds value: [9.5277625e-01 8.8894200e-01 8.7321401e-01 ... 1.3083764e-05 1.0334584e-05\n",
      " 5.1821607e-06]\n",
      "thr thresholds value: [4.86175124e-07 1.94470050e-06 4.37557612e-06 ... 9.98350894e-01\n",
      " 9.98848251e-01 9.99663567e-01]\n",
      "thr thresholds value: [0.00000000e+00 6.98830333e-05 1.39766067e-04 ... 1.00000000e+00\n",
      " 1.00000000e+00 1.00000000e+00]\n"
     ]
    }
   ],
   "source": [
    "from sklearn.metrics import roc_curve\n",
    "\n",
    "pred_positive_label = xgb1.predict_proba(x_val)[:,1]\n",
    "\n",
    "fprs, tprs, thresholds = roc_curve(y_val, pred_positive_label)\n",
    "\n",
    "print('샘플 추츨')\n",
    "print()\n",
    "\n",
    "thr_idx = np.arange(1, thresholds.shape[0], 6)\n",
    "print('thr idx:', thr_idx)\n",
    "print('thr thresholds value:', thresholds[thr_idx])\n",
    "print('thr thresholds value:', fprs[thr_idx])\n",
    "print('thr thresholds value:', tprs[thr_idx])"
   ]
  },
  {
   "cell_type": "code",
   "execution_count": 40,
   "id": "d3e574a4",
   "metadata": {},
   "outputs": [
    {
     "data": {
      "image/png": "[encoded data removed]",
      "text/plain": [
       "<Figure size 1080x360 with 1 Axes>"
      ]
     },
     "metadata": {
      "needs_background": "light"
     },
     "output_type": "display_data"
    }
   ],
   "source": [
    "pred_positive_label = xgb1.predict_proba(x_val)[:,1]\n",
    "fprs, tprs, thresholds = roc_curve(y_val, pred_positive_label)\n",
    "\n",
    "precisions, recalls, thresholds = roc_curve(y_val, pred_positive_label)\n",
    "\n",
    "plt.figure(figsize=(15, 5))\n",
    "\n",
    "plt.plot([0,1], [0, 1], label='STR')\n",
    "\n",
    "plt.plot(fprs, tprs, label='ROC')\n",
    "\n",
    "plt.xlabel('FPR')\n",
    "plt.ylabel('TPR')\n",
    "plt.legend()\n",
    "plt.grid()\n",
    "plt.show()"
   ]
  },
  {
   "cell_type": "markdown",
   "id": "76533578",
   "metadata": {},
   "source": [
    "## test set 모델링"
   ]
  },
  {
   "cell_type": "code",
   "execution_count": 41,
   "id": "3304733b",
   "metadata": {},
   "outputs": [
    {
     "data": {
      "text/plain": [
       "application_id             0\n",
       "is_applied           2858748\n",
       "gender                     0\n",
       "income_type                0\n",
       "employment_type            0\n",
       "houseown_type              0\n",
       "purpose                    0\n",
       "bank_id                    0\n",
       "product_id                 0\n",
       "loan_limit                 0\n",
       "loan_rate                  0\n",
       "credit_score               0\n",
       "yearly_income              0\n",
       "desired_amount             0\n",
       "existing_loan_cnt          0\n",
       "existing_loan_amt          0\n",
       "근속개월                       0\n",
       "age                        0\n",
       "dtype: int64"
      ]
     },
     "execution_count": 41,
     "metadata": {},
     "output_type": "execute_result"
    }
   ],
   "source": [
    "test_gen_sca.isnull().sum()"
   ]
  },
  {
   "cell_type": "code",
   "execution_count": 42,
   "id": "6fe9516c",
   "metadata": {},
   "outputs": [],
   "source": [
    "## 더미변수 생성\n",
    "test=pd.get_dummies(test_gen_sca, columns=['income_type', 'employment_type', 'houseown_type', 'purpose'])"
   ]
  },
  {
   "cell_type": "code",
   "execution_count": 43,
   "id": "bdc8ada3",
   "metadata": {},
   "outputs": [],
   "source": [
    "test_x=test.drop(['is_applied','houseown_type_자가'], axis=1)"
   ]
  },
  {
   "cell_type": "code",
   "execution_count": 48,
   "id": "f19151d0",
   "metadata": {},
   "outputs": [
    {
     "data": {
      "text/html": [
       "<div>\n",
       "<style scoped>\n",
       "    .dataframe tbody tr th:only-of-type {\n",
       "        vertical-align: middle;\n",
       "    }\n",
       "\n",
       "    .dataframe tbody tr th {\n",
       "        vertical-align: top;\n",
       "    }\n",
       "\n",
       "    .dataframe thead th {\n",
       "        text-align: right;\n",
       "    }\n",
       "</style>\n",
       "<table border=\"1\" class=\"dataframe\">\n",
       "  <thead>\n",
       "    <tr style=\"text-align: right;\">\n",
       "      <th></th>\n",
       "      <th>application_id</th>\n",
       "      <th>gender</th>\n",
       "      <th>bank_id</th>\n",
       "      <th>product_id</th>\n",
       "      <th>loan_limit</th>\n",
       "      <th>loan_rate</th>\n",
       "      <th>credit_score</th>\n",
       "      <th>yearly_income</th>\n",
       "      <th>desired_amount</th>\n",
       "      <th>existing_loan_cnt</th>\n",
       "      <th>...</th>\n",
       "      <th>houseown_type_배우자</th>\n",
       "      <th>houseown_type_전월세</th>\n",
       "      <th>purpose_기타</th>\n",
       "      <th>purpose_대환대출</th>\n",
       "      <th>purpose_사업자금</th>\n",
       "      <th>purpose_생활비</th>\n",
       "      <th>purpose_자동차구입</th>\n",
       "      <th>purpose_전월세보증금</th>\n",
       "      <th>purpose_주택구입</th>\n",
       "      <th>purpose_투자</th>\n",
       "    </tr>\n",
       "  </thead>\n",
       "  <tbody>\n",
       "    <tr>\n",
       "      <th>2858743</th>\n",
       "      <td>2167778</td>\n",
       "      <td>1.0</td>\n",
       "      <td>0.296296</td>\n",
       "      <td>0.744828</td>\n",
       "      <td>-0.625000</td>\n",
       "      <td>0.177419</td>\n",
       "      <td>-0.142857</td>\n",
       "      <td>0.00</td>\n",
       "      <td>-0.425</td>\n",
       "      <td>2.000000</td>\n",
       "      <td>...</td>\n",
       "      <td>0</td>\n",
       "      <td>0</td>\n",
       "      <td>0</td>\n",
       "      <td>0</td>\n",
       "      <td>0</td>\n",
       "      <td>1</td>\n",
       "      <td>0</td>\n",
       "      <td>0</td>\n",
       "      <td>0</td>\n",
       "      <td>0</td>\n",
       "    </tr>\n",
       "    <tr>\n",
       "      <th>2858744</th>\n",
       "      <td>2167791</td>\n",
       "      <td>1.0</td>\n",
       "      <td>0.037037</td>\n",
       "      <td>-0.834483</td>\n",
       "      <td>-0.541667</td>\n",
       "      <td>-0.080645</td>\n",
       "      <td>-0.238095</td>\n",
       "      <td>0.70</td>\n",
       "      <td>-0.175</td>\n",
       "      <td>0.666667</td>\n",
       "      <td>...</td>\n",
       "      <td>0</td>\n",
       "      <td>0</td>\n",
       "      <td>0</td>\n",
       "      <td>0</td>\n",
       "      <td>1</td>\n",
       "      <td>0</td>\n",
       "      <td>0</td>\n",
       "      <td>0</td>\n",
       "      <td>0</td>\n",
       "      <td>0</td>\n",
       "    </tr>\n",
       "    <tr>\n",
       "      <th>2858745</th>\n",
       "      <td>2167822</td>\n",
       "      <td>1.0</td>\n",
       "      <td>-0.888889</td>\n",
       "      <td>-0.006897</td>\n",
       "      <td>-0.333333</td>\n",
       "      <td>0.370968</td>\n",
       "      <td>-0.761905</td>\n",
       "      <td>-1.15</td>\n",
       "      <td>-0.500</td>\n",
       "      <td>0.000000</td>\n",
       "      <td>...</td>\n",
       "      <td>0</td>\n",
       "      <td>0</td>\n",
       "      <td>0</td>\n",
       "      <td>0</td>\n",
       "      <td>0</td>\n",
       "      <td>1</td>\n",
       "      <td>0</td>\n",
       "      <td>0</td>\n",
       "      <td>0</td>\n",
       "      <td>0</td>\n",
       "    </tr>\n",
       "    <tr>\n",
       "      <th>2858746</th>\n",
       "      <td>2167822</td>\n",
       "      <td>1.0</td>\n",
       "      <td>-0.888889</td>\n",
       "      <td>-0.586207</td>\n",
       "      <td>-0.291667</td>\n",
       "      <td>0.370968</td>\n",
       "      <td>-0.761905</td>\n",
       "      <td>-1.15</td>\n",
       "      <td>-0.500</td>\n",
       "      <td>0.000000</td>\n",
       "      <td>...</td>\n",
       "      <td>0</td>\n",
       "      <td>0</td>\n",
       "      <td>0</td>\n",
       "      <td>0</td>\n",
       "      <td>0</td>\n",
       "      <td>1</td>\n",
       "      <td>0</td>\n",
       "      <td>0</td>\n",
       "      <td>0</td>\n",
       "      <td>0</td>\n",
       "    </tr>\n",
       "    <tr>\n",
       "      <th>2858747</th>\n",
       "      <td>2167822</td>\n",
       "      <td>1.0</td>\n",
       "      <td>0.074074</td>\n",
       "      <td>0.048276</td>\n",
       "      <td>-0.291667</td>\n",
       "      <td>0.806452</td>\n",
       "      <td>-0.761905</td>\n",
       "      <td>-1.15</td>\n",
       "      <td>-0.500</td>\n",
       "      <td>0.000000</td>\n",
       "      <td>...</td>\n",
       "      <td>0</td>\n",
       "      <td>0</td>\n",
       "      <td>0</td>\n",
       "      <td>0</td>\n",
       "      <td>0</td>\n",
       "      <td>1</td>\n",
       "      <td>0</td>\n",
       "      <td>0</td>\n",
       "      <td>0</td>\n",
       "      <td>0</td>\n",
       "    </tr>\n",
       "  </tbody>\n",
       "</table>\n",
       "<p>5 rows × 34 columns</p>\n",
       "</div>"
      ],
      "text/plain": [
       "         application_id  gender   bank_id  product_id  loan_limit  loan_rate  \\\n",
       "2858743         2167778     1.0  0.296296    0.744828   -0.625000   0.177419   \n",
       "2858744         2167791     1.0  0.037037   -0.834483   -0.541667  -0.080645   \n",
       "2858745         2167822     1.0 -0.888889   -0.006897   -0.333333   0.370968   \n",
       "2858746         2167822     1.0 -0.888889   -0.586207   -0.291667   0.370968   \n",
       "2858747         2167822     1.0  0.074074    0.048276   -0.291667   0.806452   \n",
       "\n",
       "         credit_score  yearly_income  desired_amount  existing_loan_cnt  ...  \\\n",
       "2858743     -0.142857           0.00          -0.425           2.000000  ...   \n",
       "2858744     -0.238095           0.70          -0.175           0.666667  ...   \n",
       "2858745     -0.761905          -1.15          -0.500           0.000000  ...   \n",
       "2858746     -0.761905          -1.15          -0.500           0.000000  ...   \n",
       "2858747     -0.761905          -1.15          -0.500           0.000000  ...   \n",
       "\n",
       "         houseown_type_배우자  houseown_type_전월세  purpose_기타  purpose_대환대출  \\\n",
       "2858743                  0                  0           0             0   \n",
       "2858744                  0                  0           0             0   \n",
       "2858745                  0                  0           0             0   \n",
       "2858746                  0                  0           0             0   \n",
       "2858747                  0                  0           0             0   \n",
       "\n",
       "         purpose_사업자금  purpose_생활비  purpose_자동차구입  purpose_전월세보증금  \\\n",
       "2858743             0            1              0               0   \n",
       "2858744             1            0              0               0   \n",
       "2858745             0            1              0               0   \n",
       "2858746             0            1              0               0   \n",
       "2858747             0            1              0               0   \n",
       "\n",
       "         purpose_주택구입  purpose_투자  \n",
       "2858743             0           0  \n",
       "2858744             0           0  \n",
       "2858745             0           0  \n",
       "2858746             0           0  \n",
       "2858747             0           0  \n",
       "\n",
       "[5 rows x 34 columns]"
      ]
     },
     "execution_count": 48,
     "metadata": {},
     "output_type": "execute_result"
    }
   ],
   "source": [
    "xgb1_pred=xgb1.predict(test_x)\n",
    "test_x.tail()"
   ]
  },
  {
   "cell_type": "code",
   "execution_count": 49,
   "id": "7fc99894",
   "metadata": {},
   "outputs": [
    {
     "data": {
      "text/html": [
       "<div>\n",
       "<style scoped>\n",
       "    .dataframe tbody tr th:only-of-type {\n",
       "        vertical-align: middle;\n",
       "    }\n",
       "\n",
       "    .dataframe tbody tr th {\n",
       "        vertical-align: top;\n",
       "    }\n",
       "\n",
       "    .dataframe thead th {\n",
       "        text-align: right;\n",
       "    }\n",
       "</style>\n",
       "<table border=\"1\" class=\"dataframe\">\n",
       "  <thead>\n",
       "    <tr style=\"text-align: right;\">\n",
       "      <th></th>\n",
       "      <th>0</th>\n",
       "    </tr>\n",
       "  </thead>\n",
       "  <tbody>\n",
       "    <tr>\n",
       "      <th>2858743</th>\n",
       "      <td>0</td>\n",
       "    </tr>\n",
       "    <tr>\n",
       "      <th>2858744</th>\n",
       "      <td>0</td>\n",
       "    </tr>\n",
       "    <tr>\n",
       "      <th>2858745</th>\n",
       "      <td>0</td>\n",
       "    </tr>\n",
       "    <tr>\n",
       "      <th>2858746</th>\n",
       "      <td>0</td>\n",
       "    </tr>\n",
       "    <tr>\n",
       "      <th>2858747</th>\n",
       "      <td>0</td>\n",
       "    </tr>\n",
       "  </tbody>\n",
       "</table>\n",
       "</div>"
      ],
      "text/plain": [
       "         0\n",
       "2858743  0\n",
       "2858744  0\n",
       "2858745  0\n",
       "2858746  0\n",
       "2858747  0"
      ]
     },
     "execution_count": 49,
     "metadata": {},
     "output_type": "execute_result"
    }
   ],
   "source": [
    "a1 = pd.DataFrame(xgb1_pred)\n",
    "a1.tail()"
   ]
  },
  {
   "cell_type": "code",
   "execution_count": 50,
   "id": "c3d85720",
   "metadata": {
    "scrolled": true
   },
   "outputs": [
    {
     "data": {
      "text/html": [
       "<div>\n",
       "<style scoped>\n",
       "    .dataframe tbody tr th:only-of-type {\n",
       "        vertical-align: middle;\n",
       "    }\n",
       "\n",
       "    .dataframe tbody tr th {\n",
       "        vertical-align: top;\n",
       "    }\n",
       "\n",
       "    .dataframe thead th {\n",
       "        text-align: right;\n",
       "    }\n",
       "</style>\n",
       "<table border=\"1\" class=\"dataframe\">\n",
       "  <thead>\n",
       "    <tr style=\"text-align: right;\">\n",
       "      <th></th>\n",
       "      <th>0</th>\n",
       "    </tr>\n",
       "  </thead>\n",
       "  <tbody>\n",
       "    <tr>\n",
       "      <th>0</th>\n",
       "      <td>0</td>\n",
       "    </tr>\n",
       "    <tr>\n",
       "      <th>1</th>\n",
       "      <td>0</td>\n",
       "    </tr>\n",
       "    <tr>\n",
       "      <th>2</th>\n",
       "      <td>0</td>\n",
       "    </tr>\n",
       "    <tr>\n",
       "      <th>3</th>\n",
       "      <td>0</td>\n",
       "    </tr>\n",
       "    <tr>\n",
       "      <th>4</th>\n",
       "      <td>1</td>\n",
       "    </tr>\n",
       "  </tbody>\n",
       "</table>\n",
       "</div>"
      ],
      "text/plain": [
       "   0\n",
       "0  0\n",
       "1  0\n",
       "2  0\n",
       "3  0\n",
       "4  1"
      ]
     },
     "execution_count": 50,
     "metadata": {},
     "output_type": "execute_result"
    }
   ],
   "source": [
    "a1.head()"
   ]
  },
  {
   "cell_type": "code",
   "execution_count": 51,
   "id": "100e1611",
   "metadata": {},
   "outputs": [
    {
     "data": {
      "text/html": [
       "<div>\n",
       "<style scoped>\n",
       "    .dataframe tbody tr th:only-of-type {\n",
       "        vertical-align: middle;\n",
       "    }\n",
       "\n",
       "    .dataframe tbody tr th {\n",
       "        vertical-align: top;\n",
       "    }\n",
       "\n",
       "    .dataframe thead th {\n",
       "        text-align: right;\n",
       "    }\n",
       "</style>\n",
       "<table border=\"1\" class=\"dataframe\">\n",
       "  <thead>\n",
       "    <tr style=\"text-align: right;\">\n",
       "      <th></th>\n",
       "      <th>application_id</th>\n",
       "      <th>is_applied</th>\n",
       "      <th>gender</th>\n",
       "      <th>income_type</th>\n",
       "      <th>employment_type</th>\n",
       "      <th>houseown_type</th>\n",
       "      <th>purpose</th>\n",
       "      <th>bank_id</th>\n",
       "      <th>product_id</th>\n",
       "      <th>loan_limit</th>\n",
       "      <th>loan_rate</th>\n",
       "      <th>credit_score</th>\n",
       "      <th>yearly_income</th>\n",
       "      <th>desired_amount</th>\n",
       "      <th>existing_loan_cnt</th>\n",
       "      <th>existing_loan_amt</th>\n",
       "      <th>근속개월</th>\n",
       "      <th>age</th>\n",
       "    </tr>\n",
       "  </thead>\n",
       "  <tbody>\n",
       "    <tr>\n",
       "      <th>2858743</th>\n",
       "      <td>2167778</td>\n",
       "      <td>0</td>\n",
       "      <td>1.0</td>\n",
       "      <td>EARNEDINCOME2</td>\n",
       "      <td>계약직</td>\n",
       "      <td>자가</td>\n",
       "      <td>생활비</td>\n",
       "      <td>0.296296</td>\n",
       "      <td>0.744828</td>\n",
       "      <td>-0.625000</td>\n",
       "      <td>0.177419</td>\n",
       "      <td>-0.142857</td>\n",
       "      <td>0.00</td>\n",
       "      <td>-0.425</td>\n",
       "      <td>2.000000</td>\n",
       "      <td>4.960115</td>\n",
       "      <td>-0.254902</td>\n",
       "      <td>-0.357143</td>\n",
       "    </tr>\n",
       "    <tr>\n",
       "      <th>2858744</th>\n",
       "      <td>2167791</td>\n",
       "      <td>0</td>\n",
       "      <td>1.0</td>\n",
       "      <td>PRIVATEBUSINESS</td>\n",
       "      <td>기타</td>\n",
       "      <td>기타가족소유</td>\n",
       "      <td>사업자금</td>\n",
       "      <td>0.037037</td>\n",
       "      <td>-0.834483</td>\n",
       "      <td>-0.541667</td>\n",
       "      <td>-0.080645</td>\n",
       "      <td>-0.238095</td>\n",
       "      <td>0.70</td>\n",
       "      <td>-0.175</td>\n",
       "      <td>0.666667</td>\n",
       "      <td>0.027912</td>\n",
       "      <td>-0.392157</td>\n",
       "      <td>0.928571</td>\n",
       "    </tr>\n",
       "    <tr>\n",
       "      <th>2858745</th>\n",
       "      <td>2167822</td>\n",
       "      <td>0</td>\n",
       "      <td>1.0</td>\n",
       "      <td>EARNEDINCOME</td>\n",
       "      <td>기타</td>\n",
       "      <td>기타가족소유</td>\n",
       "      <td>생활비</td>\n",
       "      <td>-0.888889</td>\n",
       "      <td>-0.006897</td>\n",
       "      <td>-0.333333</td>\n",
       "      <td>0.370968</td>\n",
       "      <td>-0.761905</td>\n",
       "      <td>-1.15</td>\n",
       "      <td>-0.500</td>\n",
       "      <td>0.000000</td>\n",
       "      <td>-0.497512</td>\n",
       "      <td>-0.549020</td>\n",
       "      <td>-0.857143</td>\n",
       "    </tr>\n",
       "    <tr>\n",
       "      <th>2858746</th>\n",
       "      <td>2167822</td>\n",
       "      <td>0</td>\n",
       "      <td>1.0</td>\n",
       "      <td>EARNEDINCOME</td>\n",
       "      <td>기타</td>\n",
       "      <td>기타가족소유</td>\n",
       "      <td>생활비</td>\n",
       "      <td>-0.888889</td>\n",
       "      <td>-0.586207</td>\n",
       "      <td>-0.291667</td>\n",
       "      <td>0.370968</td>\n",
       "      <td>-0.761905</td>\n",
       "      <td>-1.15</td>\n",
       "      <td>-0.500</td>\n",
       "      <td>0.000000</td>\n",
       "      <td>-0.497512</td>\n",
       "      <td>-0.549020</td>\n",
       "      <td>-0.857143</td>\n",
       "    </tr>\n",
       "    <tr>\n",
       "      <th>2858747</th>\n",
       "      <td>2167822</td>\n",
       "      <td>0</td>\n",
       "      <td>1.0</td>\n",
       "      <td>EARNEDINCOME</td>\n",
       "      <td>기타</td>\n",
       "      <td>기타가족소유</td>\n",
       "      <td>생활비</td>\n",
       "      <td>0.074074</td>\n",
       "      <td>0.048276</td>\n",
       "      <td>-0.291667</td>\n",
       "      <td>0.806452</td>\n",
       "      <td>-0.761905</td>\n",
       "      <td>-1.15</td>\n",
       "      <td>-0.500</td>\n",
       "      <td>0.000000</td>\n",
       "      <td>-0.497512</td>\n",
       "      <td>-0.549020</td>\n",
       "      <td>-0.857143</td>\n",
       "    </tr>\n",
       "  </tbody>\n",
       "</table>\n",
       "</div>"
      ],
      "text/plain": [
       "         application_id  is_applied  gender      income_type employment_type  \\\n",
       "2858743         2167778           0     1.0    EARNEDINCOME2             계약직   \n",
       "2858744         2167791           0     1.0  PRIVATEBUSINESS              기타   \n",
       "2858745         2167822           0     1.0     EARNEDINCOME              기타   \n",
       "2858746         2167822           0     1.0     EARNEDINCOME              기타   \n",
       "2858747         2167822           0     1.0     EARNEDINCOME              기타   \n",
       "\n",
       "        houseown_type purpose   bank_id  product_id  loan_limit  loan_rate  \\\n",
       "2858743            자가     생활비  0.296296    0.744828   -0.625000   0.177419   \n",
       "2858744        기타가족소유    사업자금  0.037037   -0.834483   -0.541667  -0.080645   \n",
       "2858745        기타가족소유     생활비 -0.888889   -0.006897   -0.333333   0.370968   \n",
       "2858746        기타가족소유     생활비 -0.888889   -0.586207   -0.291667   0.370968   \n",
       "2858747        기타가족소유     생활비  0.074074    0.048276   -0.291667   0.806452   \n",
       "\n",
       "         credit_score  yearly_income  desired_amount  existing_loan_cnt  \\\n",
       "2858743     -0.142857           0.00          -0.425           2.000000   \n",
       "2858744     -0.238095           0.70          -0.175           0.666667   \n",
       "2858745     -0.761905          -1.15          -0.500           0.000000   \n",
       "2858746     -0.761905          -1.15          -0.500           0.000000   \n",
       "2858747     -0.761905          -1.15          -0.500           0.000000   \n",
       "\n",
       "         existing_loan_amt      근속개월       age  \n",
       "2858743           4.960115 -0.254902 -0.357143  \n",
       "2858744           0.027912 -0.392157  0.928571  \n",
       "2858745          -0.497512 -0.549020 -0.857143  \n",
       "2858746          -0.497512 -0.549020 -0.857143  \n",
       "2858747          -0.497512 -0.549020 -0.857143  "
      ]
     },
     "execution_count": 51,
     "metadata": {},
     "output_type": "execute_result"
    }
   ],
   "source": [
    "gen_drop_na = test_gen_sca.copy()\n",
    "gen_drop_na['is_applied']=xgb1_pred\n",
    "gen_drop_na.tail()"
   ]
  },
  {
   "cell_type": "code",
   "execution_count": 52,
   "id": "719f9eab",
   "metadata": {},
   "outputs": [],
   "source": [
    "gen_drop_na.to_csv('C:\\\\Users\\\\222-04\\\\Desktop\\\\gen_drop_na예측완_1014.csv')"
   ]
  },
  {
   "cell_type": "code",
   "execution_count": 52,
   "id": "0f1cd06c",
   "metadata": {},
   "outputs": [
    {
     "data": {
      "text/plain": [
       "0    2838969\n",
       "1      19779\n",
       "Name: is_applied, dtype: int64"
      ]
     },
     "execution_count": 52,
     "metadata": {},
     "output_type": "execute_result"
    }
   ],
   "source": [
    "test.is_applied.value_counts()"
   ]
  },
  {
   "cell_type": "code",
   "execution_count": 53,
   "id": "7487c6cd",
   "metadata": {},
   "outputs": [
    {
     "data": {
      "text/plain": [
       "0    0.993081\n",
       "1    0.006919\n",
       "Name: is_applied, dtype: float64"
      ]
     },
     "execution_count": 53,
     "metadata": {},
     "output_type": "execute_result"
    }
   ],
   "source": [
    "test.is_applied.value_counts()/len(test)"
   ]
  },
  {
   "cell_type": "code",
   "execution_count": null,
   "id": "feec39a6",
   "metadata": {},
   "outputs": [],
   "source": []
  }
 ],
 "metadata": {
  "kernelspec": {
   "display_name": "Python 3 (ipykernel)",
   "language": "python",
   "name": "python3"
  },
  "language_info": {
   "codemirror_mode": {
    "name": "ipython",
    "version": 3
   },
   "file_extension": ".py",
   "mimetype": "text/x-python",
   "name": "python",
   "nbconvert_exporter": "python",
   "pygments_lexer": "ipython3",
   "version": "3.9.12"
  }
 },
 "nbformat": 4,
 "nbformat_minor": 5
}
