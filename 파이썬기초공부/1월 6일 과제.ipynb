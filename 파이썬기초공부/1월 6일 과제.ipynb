{
 "cells": [
  {
   "cell_type": "code",
   "execution_count": 6,
   "metadata": {},
   "outputs": [],
   "source": [
    "import pandas as pd\n",
    "import numpy as np\n",
    "import matplotlib.pyplot as plt\n",
    "import seaborn as sns\n",
    "from sklearn import linear_model"
   ]
  },
  {
   "cell_type": "code",
   "execution_count": 7,
   "metadata": {},
   "outputs": [
    {
     "name": "stdout",
     "output_type": "stream",
     "text": [
      "     total_bill   tip     sex smoker   day    time  size\n",
      "0         16.99  1.01  Female     No   Sun  Dinner     2\n",
      "1         10.34  1.66    Male     No   Sun  Dinner     3\n",
      "2         21.01  3.50    Male     No   Sun  Dinner     3\n",
      "3         23.68  3.31    Male     No   Sun  Dinner     2\n",
      "4         24.59  3.61  Female     No   Sun  Dinner     4\n",
      "..          ...   ...     ...    ...   ...     ...   ...\n",
      "239       29.03  5.92    Male     No   Sat  Dinner     3\n",
      "240       27.18  2.00  Female    Yes   Sat  Dinner     2\n",
      "241       22.67  2.00    Male    Yes   Sat  Dinner     2\n",
      "242       17.82  1.75    Male     No   Sat  Dinner     2\n",
      "243       18.78  3.00  Female     No  Thur  Dinner     2\n",
      "\n",
      "[244 rows x 7 columns]\n",
      "\n",
      "\n",
      "total_bill     float64\n",
      "tip            float64\n",
      "sex           category\n",
      "smoker        category\n",
      "day           category\n",
      "time          category\n",
      "size             int64\n",
      "dtype: object\n",
      "\n",
      "\n",
      "<class 'pandas.core.frame.DataFrame'>\n",
      "RangeIndex: 244 entries, 0 to 243\n",
      "Data columns (total 7 columns):\n",
      " #   Column      Non-Null Count  Dtype   \n",
      "---  ------      --------------  -----   \n",
      " 0   total_bill  244 non-null    float64 \n",
      " 1   tip         244 non-null    float64 \n",
      " 2   sex         244 non-null    category\n",
      " 3   smoker      244 non-null    category\n",
      " 4   day         244 non-null    category\n",
      " 5   time        244 non-null    category\n",
      " 6   size        244 non-null    int64   \n",
      "dtypes: category(4), float64(2), int64(1)\n",
      "memory usage: 7.3 KB\n",
      "\n",
      "\n",
      "(244, 7)\n",
      "\n",
      "\n",
      "\n",
      "\n"
     ]
    },
    {
     "data": {
      "text/html": [
       "<div>\n",
       "<style scoped>\n",
       "    .dataframe tbody tr th:only-of-type {\n",
       "        vertical-align: middle;\n",
       "    }\n",
       "\n",
       "    .dataframe tbody tr th {\n",
       "        vertical-align: top;\n",
       "    }\n",
       "\n",
       "    .dataframe thead th {\n",
       "        text-align: right;\n",
       "    }\n",
       "</style>\n",
       "<table border=\"1\" class=\"dataframe\">\n",
       "  <thead>\n",
       "    <tr style=\"text-align: right;\">\n",
       "      <th></th>\n",
       "      <th>total_bill</th>\n",
       "      <th>tip</th>\n",
       "      <th>size</th>\n",
       "    </tr>\n",
       "  </thead>\n",
       "  <tbody>\n",
       "    <tr>\n",
       "      <th>count</th>\n",
       "      <td>244.000000</td>\n",
       "      <td>244.000000</td>\n",
       "      <td>244.000000</td>\n",
       "    </tr>\n",
       "    <tr>\n",
       "      <th>mean</th>\n",
       "      <td>19.785943</td>\n",
       "      <td>2.998279</td>\n",
       "      <td>2.569672</td>\n",
       "    </tr>\n",
       "    <tr>\n",
       "      <th>std</th>\n",
       "      <td>8.902412</td>\n",
       "      <td>1.383638</td>\n",
       "      <td>0.951100</td>\n",
       "    </tr>\n",
       "    <tr>\n",
       "      <th>min</th>\n",
       "      <td>3.070000</td>\n",
       "      <td>1.000000</td>\n",
       "      <td>1.000000</td>\n",
       "    </tr>\n",
       "    <tr>\n",
       "      <th>25%</th>\n",
       "      <td>13.347500</td>\n",
       "      <td>2.000000</td>\n",
       "      <td>2.000000</td>\n",
       "    </tr>\n",
       "    <tr>\n",
       "      <th>50%</th>\n",
       "      <td>17.795000</td>\n",
       "      <td>2.900000</td>\n",
       "      <td>2.000000</td>\n",
       "    </tr>\n",
       "    <tr>\n",
       "      <th>75%</th>\n",
       "      <td>24.127500</td>\n",
       "      <td>3.562500</td>\n",
       "      <td>3.000000</td>\n",
       "    </tr>\n",
       "    <tr>\n",
       "      <th>max</th>\n",
       "      <td>50.810000</td>\n",
       "      <td>10.000000</td>\n",
       "      <td>6.000000</td>\n",
       "    </tr>\n",
       "  </tbody>\n",
       "</table>\n",
       "</div>"
      ],
      "text/plain": [
       "       total_bill         tip        size\n",
       "count  244.000000  244.000000  244.000000\n",
       "mean    19.785943    2.998279    2.569672\n",
       "std      8.902412    1.383638    0.951100\n",
       "min      3.070000    1.000000    1.000000\n",
       "25%     13.347500    2.000000    2.000000\n",
       "50%     17.795000    2.900000    2.000000\n",
       "75%     24.127500    3.562500    3.000000\n",
       "max     50.810000   10.000000    6.000000"
      ]
     },
     "execution_count": 7,
     "metadata": {},
     "output_type": "execute_result"
    }
   ],
   "source": [
    "tips=sns.load_dataset('tips') # tips 패키지 불러오기\n",
    "print(tips)\n",
    "print('\\n')\n",
    "print(tips.dtypes) # 데이터 형 확인\n",
    "print('\\n')\n",
    "tips.info() # 데이터형 확인\n",
    "print('\\n')\n",
    "print(tips.shape) # 데이터형 확인 \n",
    "print('\\n')\n",
    "tips.isnull().sum() #변수별 결측치 확인\n",
    "print('\\n')\n",
    "tips.describe() # 수치형 자료 요약통계량"
   ]
  },
  {
   "cell_type": "markdown",
   "metadata": {},
   "source": [
    "# tips 회귀분석하기 "
   ]
  },
  {
   "cell_type": "code",
   "execution_count": 8,
   "metadata": {},
   "outputs": [
    {
     "data": {
      "text/plain": [
       "tip           0\n",
       "total_bill    0\n",
       "dtype: int64"
      ]
     },
     "execution_count": 8,
     "metadata": {},
     "output_type": "execute_result"
    }
   ],
   "source": [
    "# 연속형 변수 추출\n",
    "lm_df=tips[['tip','total_bill']]\n",
    "lm_df.isnull().sum() # 결측값 x"
   ]
  },
  {
   "cell_type": "code",
   "execution_count": 9,
   "metadata": {},
   "outputs": [
    {
     "data": {
      "text/html": [
       "<div>\n",
       "<style scoped>\n",
       "    .dataframe tbody tr th:only-of-type {\n",
       "        vertical-align: middle;\n",
       "    }\n",
       "\n",
       "    .dataframe tbody tr th {\n",
       "        vertical-align: top;\n",
       "    }\n",
       "\n",
       "    .dataframe thead th {\n",
       "        text-align: right;\n",
       "    }\n",
       "</style>\n",
       "<table border=\"1\" class=\"dataframe\">\n",
       "  <thead>\n",
       "    <tr style=\"text-align: right;\">\n",
       "      <th></th>\n",
       "      <th>tip</th>\n",
       "      <th>total_bill</th>\n",
       "    </tr>\n",
       "  </thead>\n",
       "  <tbody>\n",
       "    <tr>\n",
       "      <th>tip</th>\n",
       "      <td>1.000000</td>\n",
       "      <td>0.675734</td>\n",
       "    </tr>\n",
       "    <tr>\n",
       "      <th>total_bill</th>\n",
       "      <td>0.675734</td>\n",
       "      <td>1.000000</td>\n",
       "    </tr>\n",
       "  </tbody>\n",
       "</table>\n",
       "</div>"
      ],
      "text/plain": [
       "                 tip  total_bill\n",
       "tip         1.000000    0.675734\n",
       "total_bill  0.675734    1.000000"
      ]
     },
     "execution_count": 9,
     "metadata": {},
     "output_type": "execute_result"
    }
   ],
   "source": [
    "lm_df.corr() # 0.61"
   ]
  },
  {
   "cell_type": "code",
   "execution_count": 10,
   "metadata": {},
   "outputs": [
    {
     "data": {
      "text/plain": [
       "(244, 2)"
      ]
     },
     "execution_count": 10,
     "metadata": {},
     "output_type": "execute_result"
    }
   ],
   "source": [
    "lm_df.shape"
   ]
  },
  {
   "cell_type": "code",
   "execution_count": 11,
   "metadata": {},
   "outputs": [],
   "source": [
    "linear_regression=linear_model.LinearRegression() #선형 회귀모델 생성"
   ]
  },
  {
   "cell_type": "code",
   "execution_count": 12,
   "metadata": {},
   "outputs": [
    {
     "data": {
      "text/plain": [
       "LinearRegression()"
      ]
     },
     "execution_count": 12,
     "metadata": {},
     "output_type": "execute_result"
    }
   ],
   "source": [
    "linear_regression.fit(X=pd.DataFrame(lm_df['total_bill']),y=lm_df['tip']) # 모델학습 독립변수 X는 대문자로 넣고 종속변수는 소문자로 지정"
   ]
  },
  {
   "cell_type": "code",
   "execution_count": 13,
   "metadata": {},
   "outputs": [
    {
     "data": {
      "text/plain": [
       "array([2.70463616, 2.00622312, 3.12683472, 3.40725019, 3.5028225 ,\n",
       "       3.57633966, 1.84133463, 3.74332864, 2.49983836, 2.47253198,\n",
       "       1.99887141, 4.6234341 , 2.53974767, 2.85587147, 2.47778321,\n",
       "       3.1866987 , 2.00517288, 2.631119  , 2.70253567, 3.0890259 ,\n",
       "       2.80230897, 3.05121707, 2.57650625, 5.06033609, 3.00185555,\n",
       "       2.79075627, 2.32444741, 2.25303074, 3.19930164, 2.98400138,\n",
       "       1.92325375, 2.84746951, 2.50193885, 3.09322688, 2.78760553,\n",
       "       3.4471595 , 2.63321949, 2.69833469, 2.88317784, 4.20438627,\n",
       "       2.60486287, 2.75399769, 2.38431139, 1.93690694, 4.11301494,\n",
       "       2.84116804, 3.25496464, 4.32306398, 3.91871958, 2.81491191,\n",
       "       2.23727706, 2.0009719 , 4.57617306, 1.96421332, 3.60469628,\n",
       "       2.96719746, 4.91225152, 3.69396712, 2.10074519, 5.98980307,\n",
       "       3.05121707, 2.3706582 , 2.0776398 , 2.84116804, 2.76765087,\n",
       "       3.02916192, 2.64792292, 1.24269488, 3.0449156 , 2.49668762,\n",
       "       2.18266431, 2.71303813, 3.74122815, 3.57528941, 2.46728075,\n",
       "       2.02407729, 2.80230897, 3.77693649, 3.31062763, 2.73614352,\n",
       "       2.96194623, 2.66997807, 1.9778665 , 4.35247084, 2.5985614 ,\n",
       "       4.57827355, 2.28873908, 2.84011779, 3.51542544, 3.1425884 ,\n",
       "       3.96282988, 3.28227101, 1.52416059, 2.63426974, 3.30957738,\n",
       "       5.13910448, 3.78533845, 2.18371456, 3.12683472, 2.2288751 ,\n",
       "       2.11229789, 2.53554669, 5.57285573, 3.27491929, 3.11738252,\n",
       "       2.5334462 , 3.07222197, 3.5679377 , 2.83591681, 2.42317046,\n",
       "       2.39061286, 1.68169736, 4.91855299, 3.4356068 , 3.62044996,\n",
       "       2.73824401, 4.06365342, 2.03878072, 2.22572436, 3.44925999,\n",
       "       2.14800622, 2.32969864, 2.41791923, 2.59541067, 2.23097559,\n",
       "       4.05000023, 1.8150785 , 2.44522561, 2.11544862, 3.3169291 ,\n",
       "       2.92413741, 3.04911658, 2.09339347, 2.2078702 , 2.8380173 ,\n",
       "       1.81402826, 2.00517288, 2.40636653, 2.60066189, 2.30239226,\n",
       "       2.75504793, 4.52261056, 5.24622948, 3.76118281, 2.64582243,\n",
       "       1.79722433, 2.87792662, 2.16691063, 1.94740939, 1.70900374,\n",
       "       2.39796457, 2.29924153, 2.73299278, 3.49862152, 2.99660432,\n",
       "       4.05525146, 5.97930062, 3.54588255, 2.3265479 , 2.65212391,\n",
       "       3.17829674, 2.24988   , 2.62271704, 2.3706582 , 2.75924891,\n",
       "       3.49547078, 3.10057859, 4.25059706, 2.03247925, 2.03668023,\n",
       "       6.25656534, 2.58070723, 1.68169736, 4.26530049, 2.686782  ,\n",
       "       4.37557624, 2.79915823, 2.44102463, 1.92850498, 4.55726865,\n",
       "       4.55936914, 3.3704916 , 5.68313148, 3.35368768, 5.17901379,\n",
       "       3.09322688, 3.11528203, 4.11931641, 2.8264646 , 3.34633597,\n",
       "       2.56810429, 3.0008053 , 3.90716689, 2.54604914, 2.66157611,\n",
       "       1.71425496, 2.00622312, 5.44787656, 2.28558834, 2.33915084,\n",
       "       2.88527833, 2.25828197, 2.28558834, 2.6426717 , 3.07642296,\n",
       "       2.65002341, 3.71287153, 4.98786917, 3.46921465, 2.26038246,\n",
       "       4.07730661, 3.63935437, 5.99610454, 2.31394496, 3.87881027,\n",
       "       2.27508589, 3.87670978, 2.13750377, 1.73315938, 4.08570857,\n",
       "       2.19736774, 2.32969864, 1.82137997, 2.5985614 , 2.32969864,\n",
       "       2.62901851, 1.97996699, 3.06802099, 2.3149952 , 3.24341194,\n",
       "       3.44190828, 2.56810429, 2.13960426, 2.05138367, 2.55130037,\n",
       "       1.9778665 , 2.24357853, 4.36822452, 4.68329807, 3.96913135,\n",
       "       3.774836  , 3.30117542, 2.79180651, 2.89263005])"
      ]
     },
     "execution_count": 13,
     "metadata": {},
     "output_type": "execute_result"
    }
   ],
   "source": [
    "#생성된 모델을 통한 예측값 출력\n",
    "prediction= linear_regression.predict(X=pd.DataFrame(lm_df['total_bill']))\n",
    "prediction"
   ]
  },
  {
   "cell_type": "code",
   "execution_count": 14,
   "metadata": {},
   "outputs": [
    {
     "data": {
      "text/plain": [
       "0.9202696135546731"
      ]
     },
     "execution_count": 14,
     "metadata": {},
     "output_type": "execute_result"
    }
   ],
   "source": [
    "linear_regression.intercept_ # 절편"
   ]
  },
  {
   "cell_type": "code",
   "execution_count": 15,
   "metadata": {},
   "outputs": [
    {
     "data": {
      "text/plain": [
       "array([0.10502452])"
      ]
     },
     "execution_count": 15,
     "metadata": {},
     "output_type": "execute_result"
    }
   ],
   "source": [
    "linear_regression.coef_ # 계수 회귀식  y= 0.92 + 0.105*tip"
   ]
  },
  {
   "cell_type": "code",
   "execution_count": 16,
   "metadata": {},
   "outputs": [
    {
     "data": {
      "text/plain": [
       "0     -1.694636\n",
       "1     -0.346223\n",
       "2      0.373165\n",
       "3     -0.097250\n",
       "4      0.107178\n",
       "         ...   \n",
       "239    1.950869\n",
       "240   -1.774836\n",
       "241   -1.301175\n",
       "242   -1.041807\n",
       "243    0.107370\n",
       "Name: tip, Length: 244, dtype: float64"
      ]
     },
     "execution_count": 16,
     "metadata": {},
     "output_type": "execute_result"
    }
   ],
   "source": [
    "residuals=lm_df['tip']-prediction  # 잔차 - 실제값 - 예측값\n",
    "residuals"
   ]
  },
  {
   "cell_type": "code",
   "execution_count": 17,
   "metadata": {},
   "outputs": [
    {
     "data": {
      "image/png": "[encoded data removed]",
      "text/plain": [
       "<Figure size 432x288 with 1 Axes>"
      ]
     },
     "metadata": {
      "needs_background": "light"
     },
     "output_type": "display_data"
    }
   ],
   "source": [
    "lm_df.plot(kind='scatter',x='total_bill',y='tip')\n",
    "plt.plot(lm_df['total_bill'],prediction)\n",
    "plt.show() #양의 상관관계를 보임"
   ]
  },
  {
   "cell_type": "code",
   "execution_count": 18,
   "metadata": {},
   "outputs": [
    {
     "name": "stdout",
     "output_type": "stream",
     "text": [
      "1.0360194420113769\n",
      "1.0178504025697377\n"
     ]
    }
   ],
   "source": [
    "mse=(residuals**2).mean() \n",
    "print(mse)\n",
    "rmse=np.sqrt(mse)\n",
    "print(rmse)"
   ]
  },
  {
   "cell_type": "markdown",
   "metadata": {},
   "source": [
    "# 모델의 설명력이 0.46 정도로 조금 약하다고 볼 수 있음"
   ]
  },
  {
   "cell_type": "code",
   "execution_count": 19,
   "metadata": {},
   "outputs": [
    {
     "name": "stdout",
     "output_type": "stream",
     "text": [
      "score= 0.45661658635167657\n"
     ]
    }
   ],
   "source": [
    "from sklearn.metrics import mean_squared_error\n",
    "print('score=',linear_regression.score(X=pd.DataFrame(lm_df['total_bill']),y=lm_df['tip'])) "
   ]
  },
  {
   "cell_type": "code",
   "execution_count": 20,
   "metadata": {},
   "outputs": [
    {
     "name": "stdout",
     "output_type": "stream",
     "text": [
      "MSE= 1.036019442011377\n"
     ]
    }
   ],
   "source": [
    "print('MSE=',mean_squared_error(prediction,lm_df['tip']))"
   ]
  },
  {
   "cell_type": "code",
   "execution_count": 21,
   "metadata": {},
   "outputs": [
    {
     "name": "stdout",
     "output_type": "stream",
     "text": [
      "RMSE= 1.0178504025697377\n"
     ]
    }
   ],
   "source": [
    "print('RMSE=',mean_squared_error(prediction,lm_df['tip'])**0.5)"
   ]
  },
  {
   "cell_type": "markdown",
   "metadata": {},
   "source": [
    "# 검정값이 6.35e-09 확률이 0.000, 5%유의수준에서 봤을 때 유의확률이 많이 적으므로 귀무가설을 기각 대립가설 채택\n",
    "# 회귀모형이 유의하며 식사대금이 팁에 유의한 영향을 끼친다"
   ]
  },
  {
   "cell_type": "code",
   "execution_count": 22,
   "metadata": {},
   "outputs": [
    {
     "data": {
      "text/html": [
       "<table class=\"simpletable\">\n",
       "<caption>OLS Regression Results</caption>\n",
       "<tr>\n",
       "  <th>Dep. Variable:</th>           <td>tip</td>       <th>  R-squared:         </th> <td>   0.457</td>\n",
       "</tr>\n",
       "<tr>\n",
       "  <th>Model:</th>                   <td>OLS</td>       <th>  Adj. R-squared:    </th> <td>   0.454</td>\n",
       "</tr>\n",
       "<tr>\n",
       "  <th>Method:</th>             <td>Least Squares</td>  <th>  F-statistic:       </th> <td>   203.4</td>\n",
       "</tr>\n",
       "<tr>\n",
       "  <th>Date:</th>             <td>Fri, 07 Jan 2022</td> <th>  Prob (F-statistic):</th> <td>6.69e-34</td>\n",
       "</tr>\n",
       "<tr>\n",
       "  <th>Time:</th>                 <td>08:15:02</td>     <th>  Log-Likelihood:    </th> <td> -350.54</td>\n",
       "</tr>\n",
       "<tr>\n",
       "  <th>No. Observations:</th>      <td>   244</td>      <th>  AIC:               </th> <td>   705.1</td>\n",
       "</tr>\n",
       "<tr>\n",
       "  <th>Df Residuals:</th>          <td>   242</td>      <th>  BIC:               </th> <td>   712.1</td>\n",
       "</tr>\n",
       "<tr>\n",
       "  <th>Df Model:</th>              <td>     1</td>      <th>                     </th>     <td> </td>   \n",
       "</tr>\n",
       "<tr>\n",
       "  <th>Covariance Type:</th>      <td>nonrobust</td>    <th>                     </th>     <td> </td>   \n",
       "</tr>\n",
       "</table>\n",
       "<table class=\"simpletable\">\n",
       "<tr>\n",
       "       <td></td>         <th>coef</th>     <th>std err</th>      <th>t</th>      <th>P>|t|</th>  <th>[0.025</th>    <th>0.975]</th>  \n",
       "</tr>\n",
       "<tr>\n",
       "  <th>const</th>      <td>    0.9203</td> <td>    0.160</td> <td>    5.761</td> <td> 0.000</td> <td>    0.606</td> <td>    1.235</td>\n",
       "</tr>\n",
       "<tr>\n",
       "  <th>total_bill</th> <td>    0.1050</td> <td>    0.007</td> <td>   14.260</td> <td> 0.000</td> <td>    0.091</td> <td>    0.120</td>\n",
       "</tr>\n",
       "</table>\n",
       "<table class=\"simpletable\">\n",
       "<tr>\n",
       "  <th>Omnibus:</th>       <td>20.185</td> <th>  Durbin-Watson:     </th> <td>   2.151</td>\n",
       "</tr>\n",
       "<tr>\n",
       "  <th>Prob(Omnibus):</th> <td> 0.000</td> <th>  Jarque-Bera (JB):  </th> <td>  37.750</td>\n",
       "</tr>\n",
       "<tr>\n",
       "  <th>Skew:</th>          <td> 0.443</td> <th>  Prob(JB):          </th> <td>6.35e-09</td>\n",
       "</tr>\n",
       "<tr>\n",
       "  <th>Kurtosis:</th>      <td> 4.711</td> <th>  Cond. No.          </th> <td>    53.0</td>\n",
       "</tr>\n",
       "</table><br/><br/>Warnings:<br/>[1] Standard Errors assume that the covariance matrix of the errors is correctly specified."
      ],
      "text/plain": [
       "<class 'statsmodels.iolib.summary.Summary'>\n",
       "\"\"\"\n",
       "                            OLS Regression Results                            \n",
       "==============================================================================\n",
       "Dep. Variable:                    tip   R-squared:                       0.457\n",
       "Model:                            OLS   Adj. R-squared:                  0.454\n",
       "Method:                 Least Squares   F-statistic:                     203.4\n",
       "Date:                Fri, 07 Jan 2022   Prob (F-statistic):           6.69e-34\n",
       "Time:                        08:15:02   Log-Likelihood:                -350.54\n",
       "No. Observations:                 244   AIC:                             705.1\n",
       "Df Residuals:                     242   BIC:                             712.1\n",
       "Df Model:                           1                                         \n",
       "Covariance Type:            nonrobust                                         \n",
       "==============================================================================\n",
       "                 coef    std err          t      P>|t|      [0.025      0.975]\n",
       "------------------------------------------------------------------------------\n",
       "const          0.9203      0.160      5.761      0.000       0.606       1.235\n",
       "total_bill     0.1050      0.007     14.260      0.000       0.091       0.120\n",
       "==============================================================================\n",
       "Omnibus:                       20.185   Durbin-Watson:                   2.151\n",
       "Prob(Omnibus):                  0.000   Jarque-Bera (JB):               37.750\n",
       "Skew:                           0.443   Prob(JB):                     6.35e-09\n",
       "Kurtosis:                       4.711   Cond. No.                         53.0\n",
       "==============================================================================\n",
       "\n",
       "Warnings:\n",
       "[1] Standard Errors assume that the covariance matrix of the errors is correctly specified.\n",
       "\"\"\""
      ]
     },
     "execution_count": 22,
     "metadata": {},
     "output_type": "execute_result"
    }
   ],
   "source": [
    "import statsmodels.api as sm\n",
    "lmd=sm.OLS(lm_df['tip'],sm.add_constant(lm_df['total_bill'])).fit()\n",
    "lmd.summary()"
   ]
  },
  {
   "cell_type": "code",
   "execution_count": 23,
   "metadata": {},
   "outputs": [
    {
     "data": {
      "image/png": "[encoded data removed]",
      "text/plain": [
       "<Figure size 432x288 with 1 Axes>"
      ]
     },
     "metadata": {
      "needs_background": "light"
     },
     "output_type": "display_data"
    }
   ],
   "source": [
    "tips.boxplot(column=['tip'])\n",
    "plt.show() #boxplot 시각화 범주+ 연속"
   ]
  },
  {
   "cell_type": "code",
   "execution_count": 24,
   "metadata": {},
   "outputs": [
    {
     "data": {
      "image/png": "[encoded data removed]",
      "text/plain": [
       "<Figure size 432x288 with 1 Axes>"
      ]
     },
     "metadata": {
      "needs_background": "light"
     },
     "output_type": "display_data"
    }
   ],
   "source": [
    "tips.boxplot(column=['total_bill'])\n",
    "plt.show() #boxplot 시각화 범주+ 연속"
   ]
  },
  {
   "cell_type": "code",
   "execution_count": 25,
   "metadata": {},
   "outputs": [
    {
     "name": "stdout",
     "output_type": "stream",
     "text": [
      "     total_bill   tip     sex smoker   day    time  size\n",
      "0         16.99  1.01  Female     No   Sun  Dinner     2\n",
      "1         10.34  1.66    Male     No   Sun  Dinner     3\n",
      "2         21.01  3.50    Male     No   Sun  Dinner     3\n",
      "3         23.68  3.31    Male     No   Sun  Dinner     2\n",
      "4         24.59  3.61  Female     No   Sun  Dinner     4\n",
      "..          ...   ...     ...    ...   ...     ...   ...\n",
      "239       29.03  5.92    Male     No   Sat  Dinner     3\n",
      "240       27.18  2.00  Female    Yes   Sat  Dinner     2\n",
      "241       22.67  2.00    Male    Yes   Sat  Dinner     2\n",
      "242       17.82  1.75    Male     No   Sat  Dinner     2\n",
      "243       18.78  3.00  Female     No  Thur  Dinner     2\n",
      "\n",
      "[244 rows x 7 columns]\n"
     ]
    }
   ],
   "source": [
    "tips=sns.load_dataset('tips') # tips 패키지 불러오기\n",
    "print(tips)"
   ]
  },
  {
   "cell_type": "code",
   "execution_count": 26,
   "metadata": {},
   "outputs": [
    {
     "data": {
      "text/plain": [
       "tip           0\n",
       "total_bill    0\n",
       "dtype: int64"
      ]
     },
     "execution_count": 26,
     "metadata": {},
     "output_type": "execute_result"
    }
   ],
   "source": [
    "# 연속형 변수 추출\n",
    "lm_df=tips[['tip','total_bill']]\n",
    "lm_df.isnull().sum() # 결측값 x"
   ]
  },
  {
   "cell_type": "code",
   "execution_count": 27,
   "metadata": {},
   "outputs": [],
   "source": [
    "lm_df=lm_df[lm_df['tip']<=5.9] # 3.5625+(1.5*(3.5625-2))\n",
    "lm_df=lm_df[lm_df['total_bill']<=40.5] # 24.1275+(1.5*(24.1275-13.1475))"
   ]
  },
  {
   "cell_type": "code",
   "execution_count": 28,
   "metadata": {},
   "outputs": [
    {
     "data": {
      "text/plain": [
       "(229, 2)"
      ]
     },
     "execution_count": 28,
     "metadata": {},
     "output_type": "execute_result"
    }
   ],
   "source": [
    "lm_df.shape"
   ]
  },
  {
   "cell_type": "code",
   "execution_count": 29,
   "metadata": {},
   "outputs": [
    {
     "data": {
      "image/png": "[encoded data removed]",
      "text/plain": [
       "<Figure size 432x288 with 1 Axes>"
      ]
     },
     "metadata": {
      "needs_background": "light"
     },
     "output_type": "display_data"
    }
   ],
   "source": [
    "lm_df.boxplot(column=['total_bill'])\n",
    "plt.show() #boxplot 시각화 범주+ 연속"
   ]
  },
  {
   "cell_type": "code",
   "execution_count": 30,
   "metadata": {},
   "outputs": [
    {
     "data": {
      "image/png": "[encoded data removed]",
      "text/plain": [
       "<Figure size 432x288 with 1 Axes>"
      ]
     },
     "metadata": {
      "needs_background": "light"
     },
     "output_type": "display_data"
    }
   ],
   "source": [
    "lm_df.boxplot(column=['tip'])\n",
    "plt.show() #boxplot 시각화 범주+ 연속"
   ]
  },
  {
   "cell_type": "code",
   "execution_count": 31,
   "metadata": {},
   "outputs": [],
   "source": [
    "linear_regression=linear_model.LinearRegression() #선형 회귀모델 생성"
   ]
  },
  {
   "cell_type": "code",
   "execution_count": 32,
   "metadata": {},
   "outputs": [
    {
     "data": {
      "text/plain": [
       "LinearRegression()"
      ]
     },
     "execution_count": 32,
     "metadata": {},
     "output_type": "execute_result"
    }
   ],
   "source": [
    "linear_regression.fit(X=pd.DataFrame(lm_df['total_bill']),y=lm_df['tip']) # 모델학습 독립변수 X는 대문자로 넣고 종속변수는 소문자로 지정"
   ]
  },
  {
   "cell_type": "code",
   "execution_count": 33,
   "metadata": {},
   "outputs": [
    {
     "data": {
      "text/plain": [
       "array([2.67177077, 2.06994286, 3.03558253, 3.2772187 , 3.3595741 ,\n",
       "       3.4229244 , 1.92785717, 3.5668201 , 2.49529491, 2.4717648 ,\n",
       "       2.06360783, 4.32521377, 2.52968508, 2.8020914 , 2.47628982,\n",
       "       3.08716778, 2.06903785, 2.60842046, 2.66996076, 3.00300237,\n",
       "       2.75593618, 2.97042221, 2.56136023, 2.92788701, 2.74598113,\n",
       "       2.34415918, 2.28261889, 3.09802783, 2.91250193, 1.99844751,\n",
       "       2.79485136, 2.49710492, 3.00662239, 2.74326611, 3.31160886,\n",
       "       2.61023047, 2.66634074, 2.82562151, 3.96411702, 2.58579535,\n",
       "       2.71430597, 2.39574443, 2.01021257, 3.88538164, 2.78942134,\n",
       "       3.14599306, 3.71795583, 2.76679623, 2.26904382, 2.06541784,\n",
       "       4.28448857, 2.03374268, 3.44735952, 2.89802186, 4.57408997,\n",
       "       3.52428489, 2.15139325, 2.97042221, 2.38397938, 2.13148315,\n",
       "       2.78942134, 2.72607103, 2.95141712, 2.62290053, 1.41200467,\n",
       "       2.96499219, 2.4925799 , 2.22198359, 2.6790108 , 3.56501009,\n",
       "       3.4220194 , 2.46723978, 2.08532793, 2.75593618, 3.59578024,\n",
       "       3.19395829, 2.6989209 , 2.89349684, 2.64190562, 2.04550774,\n",
       "       4.09172264, 2.58036533, 4.28629858, 2.31338903, 2.78851633,\n",
       "       3.37043415, 3.04915759, 3.75596601, 3.16952318, 1.65454585,\n",
       "       2.61113548, 3.19305329, 4.76957092, 3.60302027, 2.2228886 ,\n",
       "       3.03558253, 2.26180379, 2.1613483 , 2.52606506, 3.16318815,\n",
       "       3.02743749, 2.52425505, 2.9885223 , 3.41568437, 2.78489632,\n",
       "       2.4292296 , 2.40117446, 1.7902965 , 4.57952   , 3.30165382,\n",
       "       3.46093459, 2.70073091, 3.84284643, 2.09799799, 2.25908877,\n",
       "       3.31341887, 2.19211845, 2.34868421, 2.42470457, 2.57765031,\n",
       "       2.26361379, 3.83108138, 1.90523206, 2.44823469, 2.16406331,\n",
       "       3.19938832, 2.86091668, 2.9686122 , 2.14505822, 2.2437037 ,\n",
       "       2.78670632, 1.90432706, 2.06903785, 2.41474953, 2.58217533,\n",
       "       2.32515409, 2.71521098, 3.58220517, 2.62109052, 1.88984699,\n",
       "       2.82109649, 2.20840853, 2.01926261, 1.81382662, 2.40750949,\n",
       "       2.32243908, 2.69620589, 3.35595408, 2.92336199, 3.8356064 ,\n",
       "       3.39667927, 2.34596919, 2.62652055, 3.07992774, 2.27990387,\n",
       "       2.60118043, 2.38397938, 2.718831  , 3.35323906, 3.01295742,\n",
       "       4.00393721, 2.09256797, 2.09618798, 2.56498025, 1.7902965 ,\n",
       "       4.01660727, 2.65638569, 4.11163273, 2.75322116, 2.44461467,\n",
       "       2.00297253, 4.26819849, 4.2700085 , 3.24554354, 3.00662239,\n",
       "       3.02562748, 3.89081166, 2.77675128, 3.22472844, 2.5541202 ,\n",
       "       2.926982  , 3.70800078, 2.53511511, 2.63466559, 1.81835164,\n",
       "       2.06994286, 2.31067402, 2.35682924, 2.82743152, 2.28714391,\n",
       "       2.31067402, 2.61837551, 2.99214232, 2.62471054, 3.54057497,\n",
       "       4.63925029, 3.33061396, 2.28895392, 3.85461149, 3.47722466,\n",
       "       2.33510914, 2.30162398, 3.68175565, 2.1830684 , 1.83464172,\n",
       "       3.86185152, 2.23465365, 2.34868421, 1.91066209, 2.58036533,\n",
       "       2.34868421, 2.60661045, 2.04731775, 2.98490228, 2.33601414,\n",
       "       3.13603801, 3.30708384, 2.5541202 , 2.18487841, 2.10885805,\n",
       "       2.53964013, 2.04550774, 2.27447385, 4.1052977 , 4.37679902,\n",
       "       3.59397023, 3.18581325, 2.74688613, 2.83376655])"
      ]
     },
     "execution_count": 33,
     "metadata": {},
     "output_type": "execute_result"
    }
   ],
   "source": [
    "#생성된 모델을 통한 예측값 출력\n",
    "prediction= linear_regression.predict(X=pd.DataFrame(lm_df['total_bill']))\n",
    "prediction"
   ]
  },
  {
   "cell_type": "code",
   "execution_count": 34,
   "metadata": {},
   "outputs": [
    {
     "data": {
      "text/plain": [
       "1.1341683309306456"
      ]
     },
     "execution_count": 34,
     "metadata": {},
     "output_type": "execute_result"
    }
   ],
   "source": [
    "linear_regression.intercept_ # 절편"
   ]
  },
  {
   "cell_type": "code",
   "execution_count": 35,
   "metadata": {},
   "outputs": [
    {
     "data": {
      "text/plain": [
       "array([0.09050044])"
      ]
     },
     "execution_count": 35,
     "metadata": {},
     "output_type": "execute_result"
    }
   ],
   "source": [
    "linear_regression.coef_ # 절편"
   ]
  },
  {
   "cell_type": "code",
   "execution_count": 136,
   "metadata": {},
   "outputs": [
    {
     "data": {
      "text/plain": [
       "0     -1.661187\n",
       "1     -0.369212\n",
       "2      0.440732\n",
       "3     -0.007024\n",
       "4      0.205127\n",
       "         ...   \n",
       "238    0.180045\n",
       "240   -1.654905\n",
       "241   -1.219521\n",
       "242   -1.001313\n",
       "243    0.156011\n",
       "Name: tip, Length: 224, dtype: float64"
      ]
     },
     "execution_count": 136,
     "metadata": {},
     "output_type": "execute_result"
    }
   ],
   "source": [
    "residuals=lm_df['tip']-prediction  # 잔차 - 실제값 - 예측값\n",
    "residuals"
   ]
  },
  {
   "cell_type": "code",
   "execution_count": 137,
   "metadata": {
    "scrolled": true
   },
   "outputs": [
    {
     "data": {
      "image/png": "[encoded data removed]",
      "text/plain": [
       "<Figure size 432x288 with 1 Axes>"
      ]
     },
     "metadata": {
      "needs_background": "light"
     },
     "output_type": "display_data"
    }
   ],
   "source": [
    "lm_df.plot(kind='scatter',x='total_bill',y='tip')\n",
    "plt.plot(lm_df['total_bill'],prediction)\n",
    "plt.show() #양의 상관관계를 보임"
   ]
  },
  {
   "cell_type": "code",
   "execution_count": null,
   "metadata": {},
   "outputs": [],
   "source": [
    "mse=(residuals**2).mean() \n",
    "print(mse)\n",
    "rmse=np.sqrt(mse)\n",
    "print(rmse)"
   ]
  },
  {
   "cell_type": "markdown",
   "metadata": {},
   "source": [
    "# 결정계수 0.37으로 이상치 제거이전보다 더 약한 설명력을 가진다"
   ]
  },
  {
   "cell_type": "code",
   "execution_count": 139,
   "metadata": {},
   "outputs": [
    {
     "name": "stdout",
     "output_type": "stream",
     "text": [
      "score= 0.37233817431228355\n"
     ]
    }
   ],
   "source": [
    "from sklearn.metrics import mean_squared_error\n",
    "print('score=',linear_regression.score(X=pd.DataFrame(lm_df['total_bill']),y=lm_df['tip'])) "
   ]
  },
  {
   "cell_type": "code",
   "execution_count": 107,
   "metadata": {},
   "outputs": [
    {
     "data": {
      "text/html": [
       "<table class=\"simpletable\">\n",
       "<caption>OLS Regression Results</caption>\n",
       "<tr>\n",
       "  <th>Dep. Variable:</th>           <td>tip</td>       <th>  R-squared:         </th> <td>   0.372</td>\n",
       "</tr>\n",
       "<tr>\n",
       "  <th>Model:</th>                   <td>OLS</td>       <th>  Adj. R-squared:    </th> <td>   0.370</td>\n",
       "</tr>\n",
       "<tr>\n",
       "  <th>Method:</th>             <td>Least Squares</td>  <th>  F-statistic:       </th> <td>   131.7</td>\n",
       "</tr>\n",
       "<tr>\n",
       "  <th>Date:</th>             <td>Thu, 06 Jan 2022</td> <th>  Prob (F-statistic):</th> <td>3.07e-24</td>\n",
       "</tr>\n",
       "<tr>\n",
       "  <th>Time:</th>                 <td>14:37:32</td>     <th>  Log-Likelihood:    </th> <td> -279.69</td>\n",
       "</tr>\n",
       "<tr>\n",
       "  <th>No. Observations:</th>      <td>   224</td>      <th>  AIC:               </th> <td>   563.4</td>\n",
       "</tr>\n",
       "<tr>\n",
       "  <th>Df Residuals:</th>          <td>   222</td>      <th>  BIC:               </th> <td>   570.2</td>\n",
       "</tr>\n",
       "<tr>\n",
       "  <th>Df Model:</th>              <td>     1</td>      <th>                     </th>     <td> </td>   \n",
       "</tr>\n",
       "<tr>\n",
       "  <th>Covariance Type:</th>      <td>nonrobust</td>    <th>                     </th>     <td> </td>   \n",
       "</tr>\n",
       "</table>\n",
       "<table class=\"simpletable\">\n",
       "<tr>\n",
       "       <td></td>         <th>coef</th>     <th>std err</th>      <th>t</th>      <th>P>|t|</th>  <th>[0.025</th>    <th>0.975]</th>  \n",
       "</tr>\n",
       "<tr>\n",
       "  <th>const</th>      <td>    1.0310</td> <td>    0.162</td> <td>    6.351</td> <td> 0.000</td> <td>    0.711</td> <td>    1.351</td>\n",
       "</tr>\n",
       "<tr>\n",
       "  <th>total_bill</th> <td>    0.0965</td> <td>    0.008</td> <td>   11.476</td> <td> 0.000</td> <td>    0.080</td> <td>    0.113</td>\n",
       "</tr>\n",
       "</table>\n",
       "<table class=\"simpletable\">\n",
       "<tr>\n",
       "  <th>Omnibus:</th>       <td>10.924</td> <th>  Durbin-Watson:     </th> <td>   2.042</td>\n",
       "</tr>\n",
       "<tr>\n",
       "  <th>Prob(Omnibus):</th> <td> 0.004</td> <th>  Jarque-Bera (JB):  </th> <td>  18.983</td>\n",
       "</tr>\n",
       "<tr>\n",
       "  <th>Skew:</th>          <td> 0.236</td> <th>  Prob(JB):          </th> <td>7.55e-05</td>\n",
       "</tr>\n",
       "<tr>\n",
       "  <th>Kurtosis:</th>      <td> 4.346</td> <th>  Cond. No.          </th> <td>    55.5</td>\n",
       "</tr>\n",
       "</table><br/><br/>Notes:<br/>[1] Standard Errors assume that the covariance matrix of the errors is correctly specified."
      ],
      "text/plain": [
       "<class 'statsmodels.iolib.summary.Summary'>\n",
       "\"\"\"\n",
       "                            OLS Regression Results                            \n",
       "==============================================================================\n",
       "Dep. Variable:                    tip   R-squared:                       0.372\n",
       "Model:                            OLS   Adj. R-squared:                  0.370\n",
       "Method:                 Least Squares   F-statistic:                     131.7\n",
       "Date:                Thu, 06 Jan 2022   Prob (F-statistic):           3.07e-24\n",
       "Time:                        14:37:32   Log-Likelihood:                -279.69\n",
       "No. Observations:                 224   AIC:                             563.4\n",
       "Df Residuals:                     222   BIC:                             570.2\n",
       "Df Model:                           1                                         \n",
       "Covariance Type:            nonrobust                                         \n",
       "==============================================================================\n",
       "                 coef    std err          t      P>|t|      [0.025      0.975]\n",
       "------------------------------------------------------------------------------\n",
       "const          1.0310      0.162      6.351      0.000       0.711       1.351\n",
       "total_bill     0.0965      0.008     11.476      0.000       0.080       0.113\n",
       "==============================================================================\n",
       "Omnibus:                       10.924   Durbin-Watson:                   2.042\n",
       "Prob(Omnibus):                  0.004   Jarque-Bera (JB):               18.983\n",
       "Skew:                           0.236   Prob(JB):                     7.55e-05\n",
       "Kurtosis:                       4.346   Cond. No.                         55.5\n",
       "==============================================================================\n",
       "\n",
       "Notes:\n",
       "[1] Standard Errors assume that the covariance matrix of the errors is correctly specified.\n",
       "\"\"\""
      ]
     },
     "execution_count": 107,
     "metadata": {},
     "output_type": "execute_result"
    }
   ],
   "source": [
    "import statsmodels.api as sm\n",
    "lmd=sm.OLS(lm_df['tip'],sm.add_constant(lm_df['total_bill'])).fit()\n",
    "lmd.summary()"
   ]
  },
  {
   "cell_type": "code",
   "execution_count": 120,
   "metadata": {},
   "outputs": [
    {
     "data": {
      "text/plain": [
       "40.29749999999999"
      ]
     },
     "execution_count": 120,
     "metadata": {},
     "output_type": "execute_result"
    }
   ],
   "source": [
    "ddd=np.quantile(tips.total_bill,0.75)-np.quantile(tips.total_bill,0.25)\n",
    "np.quantile(tips.total_bill,0.75)+(1.5*ddd)"
   ]
  },
  {
   "cell_type": "code",
   "execution_count": 122,
   "metadata": {},
   "outputs": [
    {
     "data": {
      "text/plain": [
       "5.906249999999998"
      ]
     },
     "execution_count": 122,
     "metadata": {},
     "output_type": "execute_result"
    }
   ],
   "source": [
    "ddd=np.quantile(tips.tip,0.75)-np.quantile(tips.tip,0.25)\n",
    "np.quantile(tips.tip,0.75)+(1.5*ddd)"
   ]
  },
  {
   "cell_type": "code",
   "execution_count": 142,
   "metadata": {},
   "outputs": [],
   "source": [
    "new_tips=tips.loc[(tips.total_bill<=40)&(tips.tip<=5.9)]"
   ]
  },
  {
   "cell_type": "code",
   "execution_count": 143,
   "metadata": {},
   "outputs": [
    {
     "data": {
      "text/plain": [
       "LinearRegression()"
      ]
     },
     "execution_count": 143,
     "metadata": {},
     "output_type": "execute_result"
    }
   ],
   "source": [
    "linear_regression.fit(X=pd.DataFrame(new_tips['total_bill']),y=new_tips['tip']) # 모델학습 독립변수 X는 대문자로 넣고 종속변수는 소문자로 지정"
   ]
  },
  {
   "cell_type": "code",
   "execution_count": 147,
   "metadata": {},
   "outputs": [
    {
     "data": {
      "text/plain": [
       "array([2.67183897, 2.06950763, 3.03595506, 3.27779335, 3.36021764,\n",
       "       3.42362094, 1.92730308, 3.56763701, 2.49521549, 2.47166569,\n",
       "       2.0631673 , 4.32666507, 2.52963443, 2.80226861, 2.4761945 ,\n",
       "       3.08758346, 2.06860186, 2.60843567, 2.67002744, 3.00334765,\n",
       "       2.75607478, 2.97074023, 2.56133607, 2.92816945, 2.7461114 ,\n",
       "       2.34395333, 2.28236156, 3.09845259, 2.9127715 , 1.99795247,\n",
       "       2.79502252, 2.49702701, 3.00697069, 2.74339412, 3.31221229,\n",
       "       2.61024719, 2.6664044 , 2.82581841, 3.96526627, 2.58579163,\n",
       "       2.71440975, 2.39558174, 2.00972737, 3.88646502, 2.78958795,\n",
       "       3.14645795, 3.71889916, 2.76694392, 2.26877514, 2.06497882,\n",
       "       4.28590581, 2.03327717, 3.4480765 , 2.89827932, 4.57574946,\n",
       "       3.52506622, 2.15102615, 2.97074023, 2.38380684, 2.1310994 ,\n",
       "       2.78958795, 2.72618465, 2.95171924, 2.62292785, 1.41101908,\n",
       "       2.96530567, 2.49249821, 2.22167554, 2.67908506, 3.56582548,\n",
       "       3.42271518, 2.46713689, 2.08490557, 2.75607478, 3.59662137,\n",
       "       3.1944633 , 2.69901181, 2.89375051, 2.64194884, 2.04505207,\n",
       "       4.09297863, 2.58035706, 4.28771733, 2.31315745, 2.78868219,\n",
       "       3.37108678, 3.04954148, 3.75694114, 3.17000775, 1.65376314,\n",
       "       2.61115295, 3.19355754, 3.60386746, 2.22258131, 3.03595506,\n",
       "       2.26152905, 2.16098953, 2.52601138, 3.16366742, 3.0278032 ,\n",
       "       2.52419986, 2.98885546, 3.41637485, 2.78505914, 2.42909491,\n",
       "       2.4010163 , 1.78962735, 4.58118403, 3.30224891, 3.46166292,\n",
       "       2.70082333, 3.84389424, 2.09758623, 2.25881176, 3.31402381,\n",
       "       2.19178542, 2.34848214, 2.4245661 , 2.57763978, 2.26334057,\n",
       "       3.83211934, 1.90465905, 2.4481159 , 2.16370681, 3.19989787,\n",
       "       2.8611431 , 2.96892871, 2.14468582, 2.24341382, 2.78687067,\n",
       "       1.90375329, 2.06860186, 2.41460273, 2.58216859, 2.32493235,\n",
       "       2.71531552, 3.58303495, 2.62111633, 1.8892611 , 2.8212896 ,\n",
       "       2.20808912, 2.01878499, 1.81317715, 2.40735663, 2.32221506,\n",
       "       2.69629453, 3.3565946 , 2.92364064, 3.83664815, 3.39735386,\n",
       "       2.34576486, 2.6265509 , 3.08033737, 2.27964427, 2.60118958,\n",
       "       2.38380684, 2.71893856, 3.35387731, 3.01331102, 4.00511977,\n",
       "       2.09215166, 2.09577471, 2.56495912, 1.78962735, 4.01780043,\n",
       "       2.65644102, 4.11290538, 2.75335749, 2.44449285, 2.00248128,\n",
       "       4.2696021 , 4.27141363, 3.2460917 , 3.00697069, 3.02599168,\n",
       "       3.89189959, 2.77690729, 3.22525919, 2.55408998, 2.92726369,\n",
       "       3.70893579, 2.53506899, 2.63470275, 1.81770595, 2.06950763,\n",
       "       2.31044016, 2.35663399, 2.82762993, 2.28689037, 2.31044016,\n",
       "       2.61839904, 2.99247851, 2.62473937, 3.54136993, 4.64096428,\n",
       "       3.33123328, 2.28870189, 3.85566914, 3.47796663, 2.33489572,\n",
       "       2.30138255, 3.68266871, 2.1827278 , 1.83400966, 3.86291523,\n",
       "       2.2343562 , 2.34848214, 1.91009362, 2.58035706, 2.34848214,\n",
       "       2.60662415, 2.04686359, 2.98523242, 2.33580148, 3.13649457,\n",
       "       3.30768348, 2.55408998, 2.18453933, 2.10845537, 2.5395978 ,\n",
       "       2.04505207, 2.27420971, 4.10656505, 4.37829347, 3.59480985,\n",
       "       3.18631145, 2.74701716, 2.83397026])"
      ]
     },
     "execution_count": 147,
     "metadata": {},
     "output_type": "execute_result"
    }
   ],
   "source": [
    "#생성된 모델을 통한 예측값 출력\n",
    "prediction= linear_regression.predict(X=pd.DataFrame(new_tips['total_bill']))\n",
    "prediction"
   ]
  },
  {
   "cell_type": "code",
   "execution_count": 148,
   "metadata": {},
   "outputs": [
    {
     "data": {
      "text/plain": [
       "0     -1.661839\n",
       "1     -0.409508\n",
       "2      0.464045\n",
       "3      0.032207\n",
       "4      0.249782\n",
       "         ...   \n",
       "238    0.291707\n",
       "240   -1.594810\n",
       "241   -1.186311\n",
       "242   -0.997017\n",
       "243    0.166030\n",
       "Name: tip, Length: 228, dtype: float64"
      ]
     },
     "execution_count": 148,
     "metadata": {},
     "output_type": "execute_result"
    }
   ],
   "source": [
    "residuals=new_tips['tip']-prediction  # 잔차 - 실제값 - 예측값\n",
    "residuals"
   ]
  },
  {
   "cell_type": "code",
   "execution_count": 150,
   "metadata": {},
   "outputs": [
    {
     "data": {
      "image/png": "[encoded data removed]",
      "text/plain": [
       "<Figure size 432x288 with 1 Axes>"
      ]
     },
     "metadata": {
      "needs_background": "light"
     },
     "output_type": "display_data"
    }
   ],
   "source": [
    "new_tips.plot(kind='scatter',x='total_bill',y='tip')\n",
    "plt.plot(new_tips['total_bill'],prediction)\n",
    "plt.show() #양의 상관관계를 보임"
   ]
  },
  {
   "cell_type": "code",
   "execution_count": 152,
   "metadata": {},
   "outputs": [
    {
     "name": "stdout",
     "output_type": "stream",
     "text": [
      "0.7516080154828293\n",
      "0.8669532948682007\n"
     ]
    }
   ],
   "source": [
    "mse=(residuals**2).mean() \n",
    "print(mse)\n",
    "rmse=np.sqrt(mse)\n",
    "print(rmse)"
   ]
  },
  {
   "cell_type": "code",
   "execution_count": 153,
   "metadata": {},
   "outputs": [
    {
     "name": "stdout",
     "output_type": "stream",
     "text": [
      "score= 0.3708877044282215\n"
     ]
    }
   ],
   "source": [
    "print('score=',linear_regression.score(X=pd.DataFrame(lm_df['total_bill']),y=lm_df['tip'])) "
   ]
  },
  {
   "cell_type": "code",
   "execution_count": 157,
   "metadata": {},
   "outputs": [
    {
     "data": {
      "text/html": [
       "<div>\n",
       "<style scoped>\n",
       "    .dataframe tbody tr th:only-of-type {\n",
       "        vertical-align: middle;\n",
       "    }\n",
       "\n",
       "    .dataframe tbody tr th {\n",
       "        vertical-align: top;\n",
       "    }\n",
       "\n",
       "    .dataframe thead th {\n",
       "        text-align: right;\n",
       "    }\n",
       "</style>\n",
       "<table border=\"1\" class=\"dataframe\">\n",
       "  <thead>\n",
       "    <tr style=\"text-align: right;\">\n",
       "      <th></th>\n",
       "      <th>tip</th>\n",
       "      <th>total_bill</th>\n",
       "    </tr>\n",
       "  </thead>\n",
       "  <tbody>\n",
       "    <tr>\n",
       "      <th>tip</th>\n",
       "      <td>1.000000</td>\n",
       "      <td>0.594011</td>\n",
       "    </tr>\n",
       "    <tr>\n",
       "      <th>total_bill</th>\n",
       "      <td>0.594011</td>\n",
       "      <td>1.000000</td>\n",
       "    </tr>\n",
       "  </tbody>\n",
       "</table>\n",
       "</div>"
      ],
      "text/plain": [
       "                 tip  total_bill\n",
       "tip         1.000000    0.594011\n",
       "total_bill  0.594011    1.000000"
      ]
     },
     "execution_count": 157,
     "metadata": {},
     "output_type": "execute_result"
    }
   ],
   "source": [
    "ne=new_tips[['tip','total_bill']]\n",
    "ne.corr() # 0.59  이상치 제거 이전보다 상관계수가 줄어듦."
   ]
  }
 ],
 "metadata": {
  "kernelspec": {
   "display_name": "Python 3",
   "language": "python",
   "name": "python3"
  },
  "language_info": {
   "codemirror_mode": {
    "name": "ipython",
    "version": 3
   },
   "file_extension": ".py",
   "mimetype": "text/x-python",
   "name": "python",
   "nbconvert_exporter": "python",
   "pygments_lexer": "ipython3",
   "version": "3.8.3"
  }
 },
 "nbformat": 4,
 "nbformat_minor": 4
}
