{
 "cells": [
  {
   "cell_type": "markdown",
   "metadata": {},
   "source": [
    "### 1000보다 작은 자연수 중 2또는 3의 배수의 합을 출력하는 프로그램을 작성하시오"
   ]
  },
  {
   "cell_type": "code",
   "execution_count": null,
   "metadata": {},
   "outputs": [],
   "source": [
    "a=0\n",
    "while True:\n",
    "    for i in range(1,1000):  \n",
    "        if i%2==0 or i%3==0:\n",
    "            a+=i\n",
    "    break        \n",
    "print(f'합은 {a}이다')"
   ]
  },
  {
   "cell_type": "markdown",
   "metadata": {},
   "source": [
    "- 문제해설 : 1000보다 작은 수 이므로 range를 이용하여 종료값을 설정해준 경우 종료 값미만으로 해서 1~1000미만\n",
    "- if i%2==0 or i%3==0: 짝수 또는 홀수를 표현해줌\n",
    "- a += i 로 2또는 3의 배수의 값을 담은 변수 i를 반복문을 통해 처음부터 a에 더해줌 이때 a = 0으로 초기값을 지정해줌\n",
    "- 그리고 규칙이 끝나면 break"
   ]
  },
  {
   "cell_type": "markdown",
   "metadata": {},
   "source": [
    "# 120의 약수를 구하고 개수를 구해라"
   ]
  },
  {
   "cell_type": "code",
   "execution_count": null,
   "metadata": {},
   "outputs": [],
   "source": [
    "a=[]  \n",
    "b=range(1,121)\n",
    "while True:\n",
    "    for i in b:\n",
    "        if 120%i==0:\n",
    "            a.append(i)\n",
    "    break\n",
    "print(a)\n",
    "print(f'120의 약수의 총 개수는 {len(a)}입니다.')"
   ]
  },
  {
   "cell_type": "markdown",
   "metadata": {},
   "source": [
    "- 조건에 맞는 값을 담기 위해 a라는 변수에 빈 리스트형태로 지정해줌\n",
    "- range로 120까지 포함하는 약수를 구해야하니까 종료값을 121로 지정\n",
    "- if 120%i==0: 인수로 나누어줫을 때 0이 나와야하는 약수의 조건을 설정\n",
    "- 약수를 추출하면 그 값들을 i에 담고 i에 담긴 값들을 append를 이용하여 하나씩 a에 담아줌\n",
    "- 그리고 break로 구문깨줌"
   ]
  },
  {
   "cell_type": "markdown",
   "metadata": {},
   "source": [
    "# 주어진 자연수가 홀수인지 짝수인지 판별해주는 함수를 만드시오"
   ]
  },
  {
   "cell_type": "code",
   "execution_count": 2,
   "metadata": {},
   "outputs": [
    {
     "name": "stdout",
     "output_type": "stream",
     "text": [
      "값 입력해12\n"
     ]
    },
    {
     "data": {
      "text/plain": [
       "'짝수'"
      ]
     },
     "execution_count": 2,
     "metadata": {},
     "output_type": "execute_result"
    }
   ],
   "source": [
    "a=int(input('값 입력해'))\n",
    "def is_odd(b): \n",
    "    if b % 2==0:\n",
    "        return '짝수'\n",
    "    else:\n",
    "        return '홀수'\n",
    "is_odd(a)"
   ]
  },
  {
   "cell_type": "markdown",
   "metadata": {},
   "source": [
    "- a라는 변수에 input을 이용해 실행할때마다 내가 원하는 수를 넣어줄 수 있도록 설정\n",
    "- if로 짝수 조건 설정 else로 홀수 조건설정\n",
    "- 만들어진 함수안에 변수 a를 인수로 넣어줌으로써 내가 값을 입력해줄 수 있음"
   ]
  },
  {
   "cell_type": "markdown",
   "metadata": {},
   "source": [
    "# 입력으로 들어오는 모든 수의 평균값을 계산해 주는 함수를 작성해 보자.(단 입력으로 들어오는 수의 갯수는 정해져 있지 않다.),, 어려움"
   ]
  },
  {
   "cell_type": "code",
   "execution_count": 15,
   "metadata": {},
   "outputs": [
    {
     "data": {
      "text/plain": [
       "3.0"
      ]
     },
     "execution_count": 15,
     "metadata": {},
     "output_type": "execute_result"
    }
   ],
   "source": [
    "def men_abc(*args):\n",
    "    b = 0\n",
    "    a = []\n",
    "    for arg in args:\n",
    "        b += arg\n",
    "        a.append(arg)\n",
    "    c=b/len(a)\n",
    "    return c\n",
    "men_abc(1,2,3,4,5)"
   ]
  },
  {
   "cell_type": "markdown",
   "metadata": {},
   "source": [
    "- 갯수를 정해주지 않고 인수를 넣겠다는 것은 가변 매개변수를 이용한다는 뜻\n",
    "- *args를 이용함 *이 가변 매개변수를 이용한다고 컴퓨터에 말해주는것 args말고 다른걸로 해도 됨\n",
    "- b에 초기값 0을 설정해주고 arg의 각 들어올때마나 인수를 더해줘서 값 추출\n",
    "- a에는 빈 리스트를 형성하고 append를 이용하여 인수추가하고 그걸로 길이를 이용해 갯수구해줌\n",
    "- 평균은 값/갯수 이므로 구해준 b/a를 이용해 c에 담고 c를 반환해줌"
   ]
  },
  {
   "cell_type": "code",
   "execution_count": 14,
   "metadata": {},
   "outputs": [
    {
     "data": {
      "text/plain": [
       "3.0"
      ]
     },
     "execution_count": 14,
     "metadata": {},
     "output_type": "execute_result"
    }
   ],
   "source": [
    "a=[]  # 함수 밖에서 강제로 끌어오기\n",
    "b=0\n",
    "def men_abc(*args):\n",
    "    for arg in args:\n",
    "        global b\n",
    "        b += arg\n",
    "        a.append(arg)\n",
    "        c = b/len(a)\n",
    "    return c\n",
    "men_abc(1,2,3,4,5)"
   ]
  },
  {
   "cell_type": "markdown",
   "metadata": {},
   "source": [
    "- 위의 과정과 같은 데 a와b를 함수 밖에 설정해주고 원래 함수 내에서 쓰는 변수는 밖에서 뭐라고 지정했든 영향 안받음\n",
    "- 예를 들어 밖에서 a라는 변수에 12345를 넣어도 def를 이용해 만드는 코드 내에서 a는 밖에서 지정해준게 아니라 함수 내에서 따로 쓰는 거임\n",
    "- 그래서 그냥 설정해준걸 global 전역변수,, 함수 내에서 따로 설정해둔 변수 local 지역변수임 이걸 이용해서 밖에서 a와b를 설정하고\n",
    "- 그걸 def men_abc 함수내에 a와 b로 불러와줌"
   ]
  },
  {
   "cell_type": "code",
   "execution_count": null,
   "metadata": {},
   "outputs": [],
   "source": []
  }
 ],
 "metadata": {
  "kernelspec": {
   "display_name": "Python 3",
   "language": "python",
   "name": "python3"
  },
  "language_info": {
   "codemirror_mode": {
    "name": "ipython",
    "version": 3
   },
   "file_extension": ".py",
   "mimetype": "text/x-python",
   "name": "python",
   "nbconvert_exporter": "python",
   "pygments_lexer": "ipython3",
   "version": "3.8.3"
  }
 },
 "nbformat": 4,
 "nbformat_minor": 4
}
