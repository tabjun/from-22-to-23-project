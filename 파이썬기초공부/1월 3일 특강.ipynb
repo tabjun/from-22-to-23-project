{
 "cells": [
  {
   "cell_type": "code",
   "execution_count": 1,
   "metadata": {},
   "outputs": [
    {
     "name": "stdout",
     "output_type": "stream",
     "text": [
      "The Zen of Python, by Tim Peters\n",
      "\n",
      "Beautiful is better than ugly.\n",
      "Explicit is better than implicit.\n",
      "Simple is better than complex.\n",
      "Complex is better than complicated.\n",
      "Flat is better than nested.\n",
      "Sparse is better than dense.\n",
      "Readability counts.\n",
      "Special cases aren't special enough to break the rules.\n",
      "Although practicality beats purity.\n",
      "Errors should never pass silently.\n",
      "Unless explicitly silenced.\n",
      "In the face of ambiguity, refuse the temptation to guess.\n",
      "There should be one-- and preferably only one --obvious way to do it.\n",
      "Although that way may not be obvious at first unless you're Dutch.\n",
      "Now is better than never.\n",
      "Although never is often better than *right* now.\n",
      "If the implementation is hard to explain, it's a bad idea.\n",
      "If the implementation is easy to explain, it may be a good idea.\n",
      "Namespaces are one honking great idea -- let's do more of those!\n"
     ]
    }
   ],
   "source": [
    "import this #파이썬 프로그램 철학 글귀"
   ]
  },
  {
   "cell_type": "code",
   "execution_count": 14,
   "metadata": {},
   "outputs": [
    {
     "name": "stdout",
     "output_type": "stream",
     "text": [
      "Python 3.8.5\n"
     ]
    }
   ],
   "source": [
    "! python -V #파이썬 버전 확인"
   ]
  },
  {
   "cell_type": "markdown",
   "metadata": {},
   "source": [
    "## 단축키\n",
    "# shift + enter = 셀 실행 후 다음 셀로 이동\n",
    "# alt + enter= 셀 실행 후 다음 셀 추가\n",
    "# ctrl+/ = 주석\n",
    "# tap = 들여쓰기\n",
    "# shift + tab = 들여쓰기 해제\n",
    "# Esc+m = 마크다운 모드 변경\n",
    "# Esc + a = 위에 셀 추가\n",
    "# Esc + b = 아래 셀 추가\n",
    "## dd = 현재 셀 삭제"
   ]
  },
  {
   "cell_type": "code",
   "execution_count": 9,
   "metadata": {},
   "outputs": [
    {
     "name": "stdout",
     "output_type": "stream",
     "text": [
      "what is your name?25\n"
     ]
    }
   ],
   "source": [
    "# 데이터 입력\n",
    "name=input (\"what is your name?\")"
   ]
  },
  {
   "cell_type": "code",
   "execution_count": null,
   "metadata": {},
   "outputs": [],
   "source": [
    "age_int=int(input(\"how old?\")) # 정수형으로 추출"
   ]
  },
  {
   "cell_type": "code",
   "execution_count": 36,
   "metadata": {},
   "outputs": [
    {
     "name": "stdout",
     "output_type": "stream",
     "text": [
      "how old?25\n"
     ]
    }
   ],
   "source": [
    " age=input(\"how old?\") #결과값에 ''가 붙어서 나옴 문자형으로 추출됨"
   ]
  },
  {
   "cell_type": "code",
   "execution_count": 20,
   "metadata": {},
   "outputs": [
    {
     "name": "stdout",
     "output_type": "stream",
     "text": [
      "25\n",
      "<class 'str'>\n",
      "<class 'int'>\n"
     ]
    }
   ],
   "source": [
    "#데이터 출력\n",
    "print(age_chr)\n",
    "print(type(age_chr)) # 데이터 형태 확인 문자형\n",
    "print(type(age_int)) # 데이터 형태 확인 정수형"
   ]
  },
  {
   "cell_type": "code",
   "execution_count": 39,
   "metadata": {},
   "outputs": [
    {
     "name": "stdout",
     "output_type": "stream",
     "text": [
      "name is ytj11\n",
      "age is 20year-old\n",
      "hobby is walk and dream is money\n"
     ]
    }
   ],
   "source": [
    "name= 'ytj'\n",
    "age= 20\n",
    "hobby = 'walk'\n",
    "dream= 'money'\n",
    "print('name is '+ name + \"11\")\n",
    "print('age is '+str(age)+'year-old') #같은 구조끼리만 결합가능하기 때문에 정수인 age를 str을 이용하여 문자로 바꿈\n",
    "print('hobby is '+hobby +' and '+'dream is ' + dream)"
   ]
  },
  {
   "cell_type": "markdown",
   "metadata": {},
   "source": [
    "# 정수형 "
   ]
  },
  {
   "cell_type": "code",
   "execution_count": 43,
   "metadata": {},
   "outputs": [
    {
     "name": "stdout",
     "output_type": "stream",
     "text": [
      "12345\n"
     ]
    }
   ],
   "source": [
    "a=12345\n",
    "print(a)"
   ]
  },
  {
   "cell_type": "code",
   "execution_count": 46,
   "metadata": {},
   "outputs": [
    {
     "name": "stdout",
     "output_type": "stream",
     "text": [
      "<class 'int'>\n"
     ]
    }
   ],
   "source": [
    "print(type(a))"
   ]
  },
  {
   "cell_type": "code",
   "execution_count": 48,
   "metadata": {},
   "outputs": [],
   "source": [
    "b=100"
   ]
  },
  {
   "cell_type": "code",
   "execution_count": 50,
   "metadata": {},
   "outputs": [],
   "source": [
    "c=a+b"
   ]
  },
  {
   "cell_type": "code",
   "execution_count": 53,
   "metadata": {},
   "outputs": [
    {
     "name": "stdout",
     "output_type": "stream",
     "text": [
      "12445\n",
      "<class 'int'>\n"
     ]
    }
   ],
   "source": [
    "print(c) ; print(type(c))"
   ]
  },
  {
   "cell_type": "markdown",
   "metadata": {},
   "source": [
    "# 실수형: float"
   ]
  },
  {
   "cell_type": "code",
   "execution_count": 55,
   "metadata": {},
   "outputs": [
    {
     "name": "stdout",
     "output_type": "stream",
     "text": [
      "10.54\n",
      "<class 'float'>\n"
     ]
    }
   ],
   "source": [
    "f=10.54\n",
    "print(f); print(type(f))"
   ]
  },
  {
   "cell_type": "code",
   "execution_count": 57,
   "metadata": {},
   "outputs": [
    {
     "data": {
      "text/plain": [
       "100.0"
      ]
     },
     "execution_count": 57,
     "metadata": {},
     "output_type": "execute_result"
    }
   ],
   "source": [
    "float(b) # 정수 실수형 변환"
   ]
  },
  {
   "cell_type": "code",
   "execution_count": 61,
   "metadata": {},
   "outputs": [
    {
     "data": {
      "text/plain": [
       "10"
      ]
     },
     "execution_count": 61,
     "metadata": {},
     "output_type": "execute_result"
    }
   ],
   "source": [
    "int(f)# 실수 정수형 변환"
   ]
  },
  {
   "cell_type": "code",
   "execution_count": 62,
   "metadata": {},
   "outputs": [],
   "source": [
    "# 객체: 파이썬의 모든 변수, data type은 객체(Object)에 저장된다."
   ]
  },
  {
   "cell_type": "code",
   "execution_count": 66,
   "metadata": {},
   "outputs": [
    {
     "name": "stdout",
     "output_type": "stream",
     "text": [
      "140720184306368\n",
      "140720184307008\n",
      "140720184306368\n",
      "140720184306688\n"
     ]
    }
   ],
   "source": [
    "a= 30\n",
    "print(id(a)) # 저장되는지 확인 id를 이용하여\n",
    "b=50 \n",
    "print(id(b)) #값이 다르기 때문에 저장되는 곳 또한 다름\n",
    "c=a\n",
    "print(id(c)) # 같은 값을 가지면 같은 공간에 저장된다\n",
    "b=40\n",
    "print(id(b))"
   ]
  },
  {
   "cell_type": "markdown",
   "metadata": {},
   "source": [
    "# 사칙연산"
   ]
  },
  {
   "cell_type": "code",
   "execution_count": 70,
   "metadata": {},
   "outputs": [
    {
     "name": "stdout",
     "output_type": "stream",
     "text": [
      "13\n",
      "7\n",
      "30\n",
      "3.3333333333333335\n"
     ]
    }
   ],
   "source": [
    "a=10\n",
    "b=3\n",
    "c=a+b\n",
    "d=a-b\n",
    "f=a*b\n",
    "g=a/b\n",
    "print(c);print(d); print(f) ;print(g)"
   ]
  },
  {
   "cell_type": "code",
   "execution_count": 72,
   "metadata": {},
   "outputs": [
    {
     "data": {
      "text/plain": [
       "3.33"
      ]
     },
     "execution_count": 72,
     "metadata": {},
     "output_type": "execute_result"
    }
   ],
   "source": [
    "round(g,2) # 소숫점이 존재하는 값을 원하는 자릿수까지 반올림해줌"
   ]
  },
  {
   "cell_type": "code",
   "execution_count": 74,
   "metadata": {},
   "outputs": [
    {
     "name": "stdout",
     "output_type": "stream",
     "text": [
      "1\n"
     ]
    }
   ],
   "source": [
    "f=a%b\n",
    "print(f) # %를 이용하면 값을 나누고 난 후 나머지를 구해짐"
   ]
  },
  {
   "cell_type": "code",
   "execution_count": 76,
   "metadata": {},
   "outputs": [
    {
     "name": "stdout",
     "output_type": "stream",
     "text": [
      "3\n"
     ]
    }
   ],
   "source": [
    "f= a//b\n",
    "print(f) # //를 이용하면 몫만 구해짐"
   ]
  },
  {
   "cell_type": "code",
   "execution_count": 78,
   "metadata": {},
   "outputs": [
    {
     "data": {
      "text/plain": [
       "1000"
      ]
     },
     "execution_count": 78,
     "metadata": {},
     "output_type": "execute_result"
    }
   ],
   "source": [
    "10**3 # 세제곱"
   ]
  },
  {
   "cell_type": "code",
   "execution_count": 97,
   "metadata": {},
   "outputs": [
    {
     "name": "stdout",
     "output_type": "stream",
     "text": [
      "1300원\n",
      "price?55\n",
      "price is 1300won\n",
      "apple?5\n",
      "orra?5\n",
      "1500 won\n"
     ]
    }
   ],
   "source": [
    "# 문제 \n",
    "# 사과1개는 200원, 귤1개는 100원이다. 사과 5개, 귤3개 지불 금액\n",
    "a=200 ;ac=5; b= 100 ;bc=3; c=(ac*a)+(bc*b) ; print(str(c)+'원')\n",
    "input(\"price?\")\n",
    "d=1300\n",
    "print('price is '+ str(d)+'won')\n",
    "a=200\n",
    "b=100\n",
    "c=int(input(\"apple?\"))\n",
    "d=int(input(\"orra?\"))\n",
    "f= (a*c)+(b*d)\n",
    "print(f,'won') # , 쉼표를 이용해줌으로써 서로 독립된 개체로 적용시켜 굳이 데이터형 변환을 안 시켜줘도 됨"
   ]
  },
  {
   "cell_type": "code",
   "execution_count": 98,
   "metadata": {},
   "outputs": [
    {
     "name": "stdout",
     "output_type": "stream",
     "text": [
      "40000\n",
      "40000원\n",
      "price?5\n",
      "price is 40000won\n"
     ]
    }
   ],
   "source": [
    "# 자율문제\n",
    "a=1500 ; ac=10; b=500; bc=50; c=(a*ac)+(bc*b) ;print(c);print(str(c)+'원')\n",
    "input('price?')\n",
    "d=40000\n",
    "print('price is '+ str(d)+'won')"
   ]
  },
  {
   "cell_type": "markdown",
   "metadata": {},
   "source": [
    "# print formatting: %사용"
   ]
  },
  {
   "cell_type": "code",
   "execution_count": 101,
   "metadata": {},
   "outputs": [],
   "source": [
    "n_1=10\n",
    "n_2=1.234\n",
    "n_3='hellow python'"
   ]
  },
  {
   "cell_type": "code",
   "execution_count": 103,
   "metadata": {},
   "outputs": [
    {
     "name": "stdout",
     "output_type": "stream",
     "text": [
      "int형=10\n"
     ]
    }
   ],
   "source": [
    "print('int형=%d' %n_1) #들어가는 값이 정수형일 때 d로 표현"
   ]
  },
  {
   "cell_type": "code",
   "execution_count": 104,
   "metadata": {},
   "outputs": [
    {
     "name": "stdout",
     "output_type": "stream",
     "text": [
      "float=1.234000\n"
     ]
    }
   ],
   "source": [
    "print('float=%f' %n_2) #float f표현"
   ]
  },
  {
   "cell_type": "code",
   "execution_count": 106,
   "metadata": {},
   "outputs": [
    {
     "name": "stdout",
     "output_type": "stream",
     "text": [
      "str=hellow python\n"
     ]
    }
   ],
   "source": [
    "print('str=%s' %n_3) #string s로 표현"
   ]
  },
  {
   "cell_type": "code",
   "execution_count": 108,
   "metadata": {},
   "outputs": [
    {
     "name": "stdout",
     "output_type": "stream",
     "text": [
      "문자형=hellow python int형=10 float=1.234000\n"
     ]
    }
   ],
   "source": [
    "print('문자형=%s int형=%d float=%f'%(n_3,n_1,n_2)) "
   ]
  },
  {
   "cell_type": "code",
   "execution_count": 110,
   "metadata": {},
   "outputs": [
    {
     "name": "stdout",
     "output_type": "stream",
     "text": [
      "1.234560\n"
     ]
    }
   ],
   "source": [
    "print(format(1.23456,'7.6f')) #전체 7자리 소숫점 이하 6자리라고 해서 뒤에 0하나 붙음"
   ]
  },
  {
   "cell_type": "code",
   "execution_count": 112,
   "metadata": {},
   "outputs": [
    {
     "name": "stdout",
     "output_type": "stream",
     "text": [
      "apple/7.77\n"
     ]
    }
   ],
   "source": [
    "print('{}/{}' . format('apple',7.77))"
   ]
  },
  {
   "cell_type": "code",
   "execution_count": 114,
   "metadata": {},
   "outputs": [
    {
     "name": "stdout",
     "output_type": "stream",
     "text": [
      "apple     /  7.770\n"
     ]
    }
   ],
   "source": [
    "print('{0:<10}/{1:7.3f}'. format('apple',7.77)) #왼쪽 정렬 (10자리 이동)"
   ]
  },
  {
   "cell_type": "code",
   "execution_count": 121,
   "metadata": {},
   "outputs": [
    {
     "name": "stdout",
     "output_type": "stream",
     "text": [
      "     apple/  7.770\n"
     ]
    }
   ],
   "source": [
    "print('{0:>10}/{1:7.3f}'. format('apple',7.77)) #오른쪽 정렬 (10자리 이동)"
   ]
  },
  {
   "cell_type": "code",
   "execution_count": 116,
   "metadata": {},
   "outputs": [
    {
     "name": "stdout",
     "output_type": "stream",
     "text": [
      "  apple   /  7.770\n"
     ]
    }
   ],
   "source": [
    "print('{0:^10}/{1:7.3f}'. format('apple',7.77)) #가운데 정렬"
   ]
  },
  {
   "cell_type": "code",
   "execution_count": 118,
   "metadata": {},
   "outputs": [
    {
     "name": "stdout",
     "output_type": "stream",
     "text": [
      "apple=====/  7.770\n"
     ]
    }
   ],
   "source": [
    "print('{0:=<10}/{1:7.3f}'. format('apple',7.77)) #왼쪽 정렬 (10자리 이동) 빈 10자리 =로 메꾸기"
   ]
  },
  {
   "cell_type": "code",
   "execution_count": 120,
   "metadata": {},
   "outputs": [
    {
     "name": "stdout",
     "output_type": "stream",
     "text": [
      "**apple***/  7.770\n"
     ]
    }
   ],
   "source": [
    "print('{0:*^10}/{1:7.3f}'. format('apple',7.77)) #10칸 띄우고 난 자리 *로 채우기"
   ]
  },
  {
   "cell_type": "markdown",
   "metadata": {},
   "source": [
    "# eval()함수\n",
    "# 문자열로 표현된 파이썬 식을 인자로 받아서 실행"
   ]
  },
  {
   "cell_type": "code",
   "execution_count": 126,
   "metadata": {},
   "outputs": [
    {
     "name": "stdout",
     "output_type": "stream",
     "text": [
      "a+20\n",
      "<class 'str'>\n",
      "30\n"
     ]
    }
   ],
   "source": [
    "a=10\n",
    "express='a'+'+'+'20'\n",
    "print(express) #여기서는 그냥 문자열로 받아서 출력\n",
    "print(type(express)) #\n",
    "b=a+20\n",
    "b=eval('a+20') #eval함수를 이용하면 값을 적용시켜 출력\n",
    "print(b)"
   ]
  },
  {
   "cell_type": "markdown",
   "metadata": {},
   "source": [
    "# 문제:속도와 거리를 입력받아 시간을 계산하는 프로그램을 작성\n",
    "# 속도 = 거리/시간"
   ]
  },
  {
   "cell_type": "code",
   "execution_count": 134,
   "metadata": {},
   "outputs": [
    {
     "name": "stdout",
     "output_type": "stream",
     "text": [
      "s/t\n",
      "0.5\n"
     ]
    }
   ],
   "source": [
    "s=10 # 거리\n",
    "t=20 # 시간\n",
    "velo='s'+'/'+'t'\n",
    "print(velo)\n",
    "velo=eval('s/t')\n",
    "print(velo)"
   ]
  },
  {
   "cell_type": "markdown",
   "metadata": {},
   "source": [
    "# 문제: 길이와 너비를 입력받아 면적과 둘레를 계산\n",
    "# 면적=길이*너비\n",
    "# 둘레= 길이*2+너비*2"
   ]
  },
  {
   "cell_type": "code",
   "execution_count": 148,
   "metadata": {},
   "outputs": [
    {
     "name": "stdout",
     "output_type": "stream",
     "text": [
      "5000\n",
      "300\n",
      "길이?500\n",
      "너비?500\n",
      "250000 m^2\n",
      "2000\n",
      "250000/m_2\n",
      "둘레= 2000\n"
     ]
    }
   ],
   "source": [
    "x=100\n",
    "y=50\n",
    "m_2=eval('x*y')\n",
    "r=eval('(x*2)+(y*2)')\n",
    "print(m_2);print(r)\n",
    "x1=int(input(\"길이?\"))\n",
    "y1=int(input(\"너비?\"))\n",
    "print(x1*y1,'m^2')\n",
    "print(x1*2+y1*2)\n",
    "print('{}/{}' . format(x1*y1,'m_2'))\n",
    "print('{}= {}' . format('둘레',x1*2+y1*2))"
   ]
  },
  {
   "cell_type": "markdown",
   "metadata": {},
   "source": [
    "# 화씨 온도 입력하여 섭씨 온도로 변환\n",
    "# 섭씨=(화씨-32)/1.8"
   ]
  },
  {
   "cell_type": "code",
   "execution_count": 144,
   "metadata": {},
   "outputs": [
    {
     "name": "stdout",
     "output_type": "stream",
     "text": [
      "F?500\n",
      "260.0 *c\n"
     ]
    }
   ],
   "source": [
    "F=int(input('F?'))\n",
    "C=eval('(F-32)/1.8')\n",
    "print(C,'*c')"
   ]
  },
  {
   "cell_type": "code",
   "execution_count": null,
   "metadata": {},
   "outputs": [],
   "source": [
    "score = int(input(''))"
   ]
  }
 ],
 "metadata": {
  "kernelspec": {
   "display_name": "Python 3",
   "language": "python",
   "name": "python3"
  },
  "language_info": {
   "codemirror_mode": {
    "name": "ipython",
    "version": 3
   },
   "file_extension": ".py",
   "mimetype": "text/x-python",
   "name": "python",
   "nbconvert_exporter": "python",
   "pygments_lexer": "ipython3",
   "version": "3.8.3"
  }
 },
 "nbformat": 4,
 "nbformat_minor": 4
}
