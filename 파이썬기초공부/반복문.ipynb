{
 "cells": [
  {
   "cell_type": "markdown",
   "metadata": {},
   "source": [
    "#### 반복문\n",
    "- 1회 이상 반복해서 수행하는 일을 반복문으로 쉽게 해결 가능\n",
    "- 반드시 list,tuple,dict,set등 집합에 대한 순회를 돌며 일을 처리할 때 쓰임\n",
    "- list,tuple,dict,set,문자열모두 순회가능한 (iterable)객체\n",
    "- 순회가능한 객체는 반복문을 통해 순회가능"
   ]
  },
  {
   "cell_type": "code",
   "execution_count": 2,
   "metadata": {},
   "outputs": [
    {
     "data": {
      "text/plain": [
       "6"
      ]
     },
     "execution_count": 2,
     "metadata": {},
     "output_type": "execute_result"
    }
   ],
   "source": [
    "a = [1,2,3,4,5,6,7,8,9,10]\n",
    "a[0]\n",
    "a[1]\n",
    "a[2]\n",
    "a[3]\n",
    "a[4]\n",
    "a[5] #값 하나씩 출력하려면 인덱스로 지정해서 다 해줘야함"
   ]
  },
  {
   "cell_type": "markdown",
   "metadata": {},
   "source": [
    "#### for ~ in 구문 (반복문 1)\n",
    "- for (하나씩 꺼내올 때 사용할 변수) in [꺼내올 집합,순회가능한 객체 다 올 수 있음] :\n",
    " -    (들여쓰기 필수)\n",
    " - for 뒤에는 for 구문동안 사용할 변수 in 뒤에는 for 구문동안 사용할 변수에 뭐를 담을건지\n",
    " - 그래서 실행을 하면 첫번째 값 출력하고 그 첫번째 값 받아서 또 출력해주고 반복해줌"
   ]
  },
  {
   "cell_type": "code",
   "execution_count": 3,
   "metadata": {},
   "outputs": [
    {
     "name": "stdout",
     "output_type": "stream",
     "text": [
      "1\n",
      "2\n",
      "3\n",
      "4\n",
      "5\n",
      "6\n",
      "7\n",
      "8\n",
      "9\n",
      "10\n"
     ]
    },
    {
     "data": {
      "text/plain": [
       "[1, 2, 3, 4, 5, 6, 7, 8, 9, 10]"
      ]
     },
     "execution_count": 3,
     "metadata": {},
     "output_type": "execute_result"
    }
   ],
   "source": [
    "# 리스트를 사용한 for in 구문\n",
    "a = [1,2,3,4,5,6,7,8,9,10]\n",
    "for i in a :   # i는 for구문 내에서 쓰일 변수로 in a로 for 구문내에서 쓰일 i값에 a값을 담아줌\n",
    "    print(i)    # 반복문을 통해 i 에 담긴 1~10까지의 값들을 순서대로 다 넣어줌\n",
    "a"
   ]
  },
  {
   "cell_type": "code",
   "execution_count": 4,
   "metadata": {},
   "outputs": [
    {
     "data": {
      "text/plain": [
       "tuple"
      ]
     },
     "execution_count": 4,
     "metadata": {},
     "output_type": "execute_result"
    }
   ],
   "source": [
    "# 튜플 사용해줘보기\n",
    "a = (1,2,3,4,5,6,7,8,9,10)\n",
    "type(a)"
   ]
  },
  {
   "cell_type": "code",
   "execution_count": 5,
   "metadata": {},
   "outputs": [
    {
     "name": "stdout",
     "output_type": "stream",
     "text": [
      "1\n",
      "2\n",
      "3\n",
      "4\n",
      "5\n",
      "6\n",
      "7\n",
      "8\n",
      "9\n",
      "10\n"
     ]
    }
   ],
   "source": [
    "for i in a :\n",
    "    print(i)"
   ]
  },
  {
   "cell_type": "code",
   "execution_count": 7,
   "metadata": {},
   "outputs": [
    {
     "name": "stdout",
     "output_type": "stream",
     "text": [
      "('rrrr', 10)\n",
      "rrrr\n",
      "10\n"
     ]
    },
    {
     "data": {
      "text/plain": [
       "tuple"
      ]
     },
     "execution_count": 7,
     "metadata": {},
     "output_type": "execute_result"
    }
   ],
   "source": [
    "a = ( 'rrrr' , 10)# 한번에 담아서 인덱싱으로 출력\n",
    "print(a)\n",
    "print(a[0])\n",
    "print(a[1])\n",
    "type(a)"
   ]
  },
  {
   "cell_type": "code",
   "execution_count": 8,
   "metadata": {},
   "outputs": [
    {
     "name": "stdout",
     "output_type": "stream",
     "text": [
      "ㄱㄱㄱㄱ\n",
      "10\n"
     ]
    }
   ],
   "source": [
    "a , b = ('ㄱㄱㄱㄱ' , 10) # 앞에서 배운 튜플 언패킹을 동한 개별값 출력 \n",
    "print(a)\n",
    "print(b)"
   ]
  },
  {
   "cell_type": "code",
   "execution_count": 13,
   "metadata": {},
   "outputs": [
    {
     "data": {
      "text/plain": [
       "10"
      ]
     },
     "execution_count": 13,
     "metadata": {},
     "output_type": "execute_result"
    }
   ],
   "source": [
    "tuple_list = [('rrrr' , 10) , ('dddd' , 20) , ('zzzzz',30)  ]\n",
    "type(tuple_list)\n",
    "tuple_list[0][1] "
   ]
  },
  {
   "cell_type": "code",
   "execution_count": 14,
   "metadata": {},
   "outputs": [
    {
     "name": "stdout",
     "output_type": "stream",
     "text": [
      "10\n",
      "\n",
      "\n",
      "rrrr\n",
      "\n",
      "\n",
      "rrrr 10\n",
      "20\n",
      "\n",
      "\n",
      "dddd\n",
      "\n",
      "\n",
      "dddd 20\n",
      "30\n",
      "\n",
      "\n",
      "zzzzz\n",
      "\n",
      "\n",
      "zzzzz 30\n"
     ]
    }
   ],
   "source": [
    "for i in tuple_list:\n",
    "    print(i[1])  # i[0] = 리스트 내 튜플 값의 문자열 , i[1] = 리스트 내 튜플 값의 수치형, 이건 글보다는 나중에 말로 설명들으러 오세요\n",
    "    print('\\n')\n",
    "    print(i[0])\n",
    "    print('\\n')\n",
    "    print(i[0],i[1])"
   ]
  },
  {
   "cell_type": "code",
   "execution_count": 15,
   "metadata": {},
   "outputs": [
    {
     "name": "stdout",
     "output_type": "stream",
     "text": [
      "rrrr 10\n",
      "dddd 20\n",
      "zzzzz 30\n"
     ]
    }
   ],
   "source": [
    "tuple_list = [('rrrr' , 10) , ('dddd' , 20) , ('zzzzz',30)  ] # 이것또한 나중에 설명들으러 오세요\n",
    "type(tuple_list)   \n",
    "for a , b in tuple_list :\n",
    "    print(a,b)"
   ]
  },
  {
   "cell_type": "code",
   "execution_count": 2,
   "metadata": {},
   "outputs": [
    {
     "data": {
      "text/plain": [
       "dict_keys(['vvv', 'dsds', 'asdf'])"
      ]
     },
     "execution_count": 2,
     "metadata": {},
     "output_type": "execute_result"
    }
   ],
   "source": [
    "a = {'vvv':10 , \"dsds\" : 20 , \"asdf\": 30}\n",
    "a.keys()"
   ]
  },
  {
   "cell_type": "code",
   "execution_count": 3,
   "metadata": {},
   "outputs": [
    {
     "name": "stdout",
     "output_type": "stream",
     "text": [
      "vvv\n",
      "dsds\n",
      "asdf\n"
     ]
    }
   ],
   "source": [
    "for i in a.keys():\n",
    "    print(i)\n"
   ]
  },
  {
   "cell_type": "code",
   "execution_count": 4,
   "metadata": {},
   "outputs": [
    {
     "name": "stdout",
     "output_type": "stream",
     "text": [
      "10\n",
      "20\n",
      "30\n"
     ]
    }
   ],
   "source": [
    "for i in a.values():\n",
    "    print(i)"
   ]
  },
  {
   "cell_type": "code",
   "execution_count": 5,
   "metadata": {},
   "outputs": [
    {
     "name": "stdout",
     "output_type": "stream",
     "text": [
      "vvv 10\n",
      "dsds 20\n",
      "asdf 30\n"
     ]
    }
   ],
   "source": [
    "a.items() # 튜플 리스트 형태 , 리스트 안의 리스트 형식을 이용하여 인덱싱을 사용해서 언패킹으로 각 변수마다 할당.\n",
    "\n",
    "for key, value in a.items():  # 이것도 설명들으러 오세요\n",
    "    print(key,value)"
   ]
  },
  {
   "cell_type": "code",
   "execution_count": 6,
   "metadata": {},
   "outputs": [
    {
     "name": "stdout",
     "output_type": "stream",
     "text": [
      "0\n",
      "1\n",
      "2\n",
      "3\n",
      "4\n",
      "5\n",
      "6\n",
      "7\n",
      "8\n",
      "9\n"
     ]
    }
   ],
   "source": [
    "for i in range(10): #기본 인덱싱 0부터 시작해서 10개의 값 9까지 나옴\n",
    "    print(i)"
   ]
  },
  {
   "cell_type": "code",
   "execution_count": 21,
   "metadata": {},
   "outputs": [
    {
     "name": "stdout",
     "output_type": "stream",
     "text": [
      "2\n",
      "3\n",
      "4\n",
      "5\n",
      "6\n",
      "7\n",
      "8\n"
     ]
    }
   ],
   "source": [
    "### start, step 지정해준 경우\n",
    "for i in range(2,9):\n",
    "    print(i)"
   ]
  },
  {
   "cell_type": "code",
   "execution_count": 22,
   "metadata": {},
   "outputs": [
    {
     "name": "stdout",
     "output_type": "stream",
     "text": [
      "1\n",
      "3\n",
      "5\n",
      "7\n",
      "9\n"
     ]
    }
   ],
   "source": [
    "for i in range(1, 10, 2):\n",
    "    print(i)"
   ]
  },
  {
   "cell_type": "code",
   "execution_count": 27,
   "metadata": {},
   "outputs": [
    {
     "name": "stdout",
     "output_type": "stream",
     "text": [
      "(i=1)+ (j=1) = 2\n",
      "====\n",
      "(i=1)+ (j=2) = 3\n",
      "====\n",
      "(i=1)+ (j=3) = 4\n",
      "====\n",
      "(i=2)+ (j=1) = 3\n",
      "====\n",
      "(i=2)+ (j=2) = 4\n",
      "====\n",
      "(i=2)+ (j=3) = 5\n",
      "====\n",
      "(i=3)+ (j=1) = 4\n",
      "====\n",
      "(i=3)+ (j=2) = 5\n",
      "====\n",
      "(i=3)+ (j=3) = 6\n",
      "====\n"
     ]
    }
   ],
   "source": [
    "for i in range(1, 4):\n",
    "    for j in range(1, 4):\n",
    "        print(f'(i={i})+ (j={j}) = {i+j}') # 포맷팅을 이용하여 들어가는 순서를 보여줌\n",
    "        print('====') # 구분자"
   ]
  },
  {
   "cell_type": "code",
   "execution_count": 25,
   "metadata": {},
   "outputs": [
    {
     "name": "stdout",
     "output_type": "stream",
     "text": [
      "2\n",
      "3\n",
      "4\n",
      "3\n",
      "4\n",
      "5\n",
      "4\n",
      "5\n",
      "6\n"
     ]
    }
   ],
   "source": [
    "for i in range(1, 4):\n",
    "    for j in range(1, 4):  # 굳이 포맷팅을 이용해주어서 안보여주고 최종 출력값만 실행하고 싶으면 이렇게\n",
    "        print(i + j)"
   ]
  },
  {
   "cell_type": "markdown",
   "metadata": {},
   "source": [
    "### continue는 만족하는 조건 값은 건너뛰고 다음 값 넣어줘,, break는 만족하는 조건 만나면 그냥 끝"
   ]
  },
  {
   "cell_type": "code",
   "execution_count": 28,
   "metadata": {},
   "outputs": [
    {
     "name": "stdout",
     "output_type": "stream",
     "text": [
      "2\n",
      "4\n",
      "6\n",
      "8\n",
      "10\n"
     ]
    }
   ],
   "source": [
    "a = [1, 2, 3, 4, 5, 6, 7, 8, 9, 10]\n",
    "\n",
    "for i in a:\n",
    "    if i % 2 == 1: ## 홀수는 2로 나눴을 때 나머지가 1이 나오므로 홀수 홀수 값은 건너뛰고 짝수만 continue로 인해 건너뜀\n",
    "        continue\n",
    "    print(i)    \n"
   ]
  },
  {
   "cell_type": "code",
   "execution_count": 29,
   "metadata": {},
   "outputs": [
    {
     "name": "stdout",
     "output_type": "stream",
     "text": [
      "1\n",
      "2\n",
      "3\n",
      "4\n",
      "5\n"
     ]
    }
   ],
   "source": [
    "a = [1, 2, 3, 4, 5, 6, 7, 8, 9, 10]\n",
    "for i in a:\n",
    "    if i >= 6:  # 반복문을 통해 1부터 차례로 i에 담아줄때 6이상되면 멈추라 6만나면 구문깨지니까 5까지 출력\n",
    "        break\n",
    "    print(i)"
   ]
  },
  {
   "cell_type": "markdown",
   "metadata": {},
   "source": [
    "### 들여쓰기 tab을 통하여 할 수 있고 스페이스바 기준 4번 띄워주면 되는데 이것을 통해 같은 문장임을 선언해줌"
   ]
  },
  {
   "cell_type": "code",
   "execution_count": 7,
   "metadata": {},
   "outputs": [],
   "source": [
    "a = [1, 2, 3, 4, 5, 6, 7, 8, 9, 10] # 실행이 안됨 왜? 들여쓰기 오류\n",
    "for i in a:\n",
    "    if i >= 6:\n",
    "        break\n",
    "        print(i)"
   ]
  },
  {
   "cell_type": "code",
   "execution_count": 33,
   "metadata": {},
   "outputs": [
    {
     "name": "stdout",
     "output_type": "stream",
     "text": [
      "0\n",
      "1\n",
      "2\n",
      "3\n",
      "4\n"
     ]
    }
   ],
   "source": [
    "for i in range(10): # 5가 되면 정지\n",
    "    if i == 5:\n",
    "        break\n",
    "    print(i)"
   ]
  },
  {
   "cell_type": "code",
   "execution_count": 34,
   "metadata": {},
   "outputs": [
    {
     "name": "stdout",
     "output_type": "stream",
     "text": [
      "0\n",
      "1\n",
      "2\n",
      "3\n",
      "4\n",
      "6\n",
      "7\n",
      "8\n",
      "9\n"
     ]
    }
   ],
   "source": [
    "for i in range(10): # 5는 건너뜀\n",
    "    if i == 5:\n",
    "        continue\n",
    "    print(i)"
   ]
  },
  {
   "cell_type": "markdown",
   "metadata": {},
   "source": [
    "### while반복문 조건이 참일 동안만 실행"
   ]
  },
  {
   "cell_type": "markdown",
   "metadata": {},
   "source": [
    "#### a = 5\n",
    "#### while a > 0: # 5만 반복 0보다 크다는 조건이 계속되기 때문, 이거 실행시키면 위에 run옆에 있는 네모 눌러줘야함 계속 실행됨 \n",
    "#### print(a)\n",
    "실행하면 무한루프"
   ]
  },
  {
   "cell_type": "code",
   "execution_count": 36,
   "metadata": {},
   "outputs": [
    {
     "name": "stdout",
     "output_type": "stream",
     "text": [
      "5\n",
      "4\n",
      "3\n",
      "2\n",
      "1\n"
     ]
    }
   ],
   "source": [
    "a = 5\n",
    "while a > 0: # a값이 0보다 클동안만 진행 계속 1씩 빼주므로 0이 되는순간 종료\n",
    "    print(a)\n",
    "    a -= 1"
   ]
  },
  {
   "cell_type": "code",
   "execution_count": 37,
   "metadata": {},
   "outputs": [
    {
     "name": "stdout",
     "output_type": "stream",
     "text": [
      "1\n",
      "2\n",
      "3\n",
      "4\n",
      "5\n",
      "6\n",
      "7\n",
      "8\n",
      "9\n",
      "10\n"
     ]
    }
   ],
   "source": [
    "a = 1\n",
    "while a <= 10 : # 10이상 되면 종료 break와 다른 점은 break는 같은 조건이면 9까지만 출력\n",
    "    print(a)\n",
    "    a += 1 "
   ]
  },
  {
   "cell_type": "code",
   "execution_count": 38,
   "metadata": {},
   "outputs": [
    {
     "name": "stdout",
     "output_type": "stream",
     "text": [
      "1\n",
      "2\n",
      "3\n",
      "4\n",
      "5\n",
      "6\n",
      "7\n",
      "8\n",
      "9\n"
     ]
    }
   ],
   "source": [
    "a = 1\n",
    "while a < 10 :  \n",
    "    print(a)\n",
    "    a += 1 "
   ]
  },
  {
   "cell_type": "code",
   "execution_count": 39,
   "metadata": {},
   "outputs": [
    {
     "name": "stdout",
     "output_type": "stream",
     "text": [
      "1\n",
      "2\n",
      "3\n",
      "4\n",
      "5\n"
     ]
    }
   ],
   "source": [
    "a = 1\n",
    "while True : #위랑 다른건 규칙이 다르기 때문 , 일단 조건을 통한 반복문 실행이 아니라 if를 통해 조건을 걸어줌\n",
    "    print(a)\n",
    "    a += 1\n",
    "    if a > 5:\n",
    "        break"
   ]
  },
  {
   "cell_type": "markdown",
   "metadata": {},
   "source": [
    "### 연습문제 구구단\n",
    "\n",
    "- 1. 짝수의 구구단만 나오게 하시오\n",
    "- 2. 홀수의 구구단만 나오게 하시오"
   ]
  },
  {
   "cell_type": "code",
   "execution_count": 1,
   "metadata": {},
   "outputs": [
    {
     "name": "stdout",
     "output_type": "stream",
     "text": [
      "i:2, j:1 , i*j:2\n",
      "=========================\n",
      "i:2, j:2 , i*j:4\n",
      "=========================\n",
      "i:2, j:3 , i*j:6\n",
      "=========================\n",
      "i:2, j:4 , i*j:8\n",
      "=========================\n",
      "i:2, j:5 , i*j:10\n",
      "=========================\n",
      "i:2, j:6 , i*j:12\n",
      "=========================\n",
      "i:2, j:7 , i*j:14\n",
      "=========================\n",
      "i:2, j:8 , i*j:16\n",
      "=========================\n",
      "i:2, j:9 , i*j:18\n",
      "=========================\n",
      "i:4, j:1 , i*j:4\n",
      "=========================\n",
      "i:4, j:2 , i*j:8\n",
      "=========================\n",
      "i:4, j:3 , i*j:12\n",
      "=========================\n",
      "i:4, j:4 , i*j:16\n",
      "=========================\n",
      "i:4, j:5 , i*j:20\n",
      "=========================\n",
      "i:4, j:6 , i*j:24\n",
      "=========================\n",
      "i:4, j:7 , i*j:28\n",
      "=========================\n",
      "i:4, j:8 , i*j:32\n",
      "=========================\n",
      "i:4, j:9 , i*j:36\n",
      "=========================\n",
      "i:6, j:1 , i*j:6\n",
      "=========================\n",
      "i:6, j:2 , i*j:12\n",
      "=========================\n",
      "i:6, j:3 , i*j:18\n",
      "=========================\n",
      "i:6, j:4 , i*j:24\n",
      "=========================\n",
      "i:6, j:5 , i*j:30\n",
      "=========================\n",
      "i:6, j:6 , i*j:36\n",
      "=========================\n",
      "i:6, j:7 , i*j:42\n",
      "=========================\n",
      "i:6, j:8 , i*j:48\n",
      "=========================\n",
      "i:6, j:9 , i*j:54\n",
      "=========================\n",
      "i:8, j:1 , i*j:8\n",
      "=========================\n",
      "i:8, j:2 , i*j:16\n",
      "=========================\n",
      "i:8, j:3 , i*j:24\n",
      "=========================\n",
      "i:8, j:4 , i*j:32\n",
      "=========================\n",
      "i:8, j:5 , i*j:40\n",
      "=========================\n",
      "i:8, j:6 , i*j:48\n",
      "=========================\n",
      "i:8, j:7 , i*j:56\n",
      "=========================\n",
      "i:8, j:8 , i*j:64\n",
      "=========================\n",
      "i:8, j:9 , i*j:72\n",
      "=========================\n"
     ]
    }
   ],
   "source": [
    "a = [1,2,3,4,5,6,7,8,9]\n",
    "\n",
    "for i in a:\n",
    "    if i % 2 ==0:\n",
    "        for j in a:\n",
    "                print(f'i:{i}, j:{j} , i*j:{i*j}')\n",
    "                print('====='*5)\n",
    "    "
   ]
  },
  {
   "cell_type": "code",
   "execution_count": 2,
   "metadata": {},
   "outputs": [
    {
     "name": "stdout",
     "output_type": "stream",
     "text": [
      "i:1, j:1 , i*j:1\n",
      "=========================\n",
      "i:1, j:3 , i*j:3\n",
      "=========================\n",
      "i:1, j:5 , i*j:5\n",
      "=========================\n",
      "i:1, j:7 , i*j:7\n",
      "=========================\n",
      "i:1, j:9 , i*j:9\n",
      "=========================\n",
      "i:3, j:1 , i*j:3\n",
      "=========================\n",
      "i:3, j:3 , i*j:9\n",
      "=========================\n",
      "i:3, j:5 , i*j:15\n",
      "=========================\n",
      "i:3, j:7 , i*j:21\n",
      "=========================\n",
      "i:3, j:9 , i*j:27\n",
      "=========================\n",
      "i:5, j:1 , i*j:5\n",
      "=========================\n",
      "i:5, j:3 , i*j:15\n",
      "=========================\n",
      "i:5, j:5 , i*j:25\n",
      "=========================\n",
      "i:5, j:7 , i*j:35\n",
      "=========================\n",
      "i:5, j:9 , i*j:45\n",
      "=========================\n",
      "i:7, j:1 , i*j:7\n",
      "=========================\n",
      "i:7, j:3 , i*j:21\n",
      "=========================\n",
      "i:7, j:5 , i*j:35\n",
      "=========================\n",
      "i:7, j:7 , i*j:49\n",
      "=========================\n",
      "i:7, j:9 , i*j:63\n",
      "=========================\n",
      "i:9, j:1 , i*j:9\n",
      "=========================\n",
      "i:9, j:3 , i*j:27\n",
      "=========================\n",
      "i:9, j:5 , i*j:45\n",
      "=========================\n",
      "i:9, j:7 , i*j:63\n",
      "=========================\n",
      "i:9, j:9 , i*j:81\n",
      "=========================\n"
     ]
    }
   ],
   "source": [
    "a = [1,2,3,4,5,6,7,8,9]\n",
    "\n",
    "while True:\n",
    "    for i in a:\n",
    "        if i % 2 ==1:\n",
    "            for j in a:\n",
    "                if j % 2 ==1:\n",
    "                    print(f'i:{i}, j:{j} , i*j:{i*j}')\n",
    "                    print('====='*5)\n",
    "    if i*j == 81:\n",
    "        break\n"
   ]
  }
 ],
 "metadata": {
  "kernelspec": {
   "display_name": "Python 3",
   "language": "python",
   "name": "python3"
  },
  "language_info": {
   "codemirror_mode": {
    "name": "ipython",
    "version": 3
   },
   "file_extension": ".py",
   "mimetype": "text/x-python",
   "name": "python",
   "nbconvert_exporter": "python",
   "pygments_lexer": "ipython3",
   "version": "3.8.5"
  }
 },
 "nbformat": 4,
 "nbformat_minor": 4
}
