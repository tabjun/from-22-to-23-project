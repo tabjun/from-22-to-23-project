{
 "cells": [
  {
   "attachments": {},
   "cell_type": "markdown",
   "metadata": {},
   "source": [
    "# 신경망 생성\n",
    "- `torch.nn` 패키지 사용\n",
    "\n",
    "- `nn.Module`을 상속받고, 해당 모듈은 계층과 `output`을 반환하는 `forward`메소드를 포함\n",
    "\n",
    "- 파이토치에서 신경망 생성을 위한 기본 틀\n",
    "\n",
    "      1. class Net(nn.Module):\n",
    "\n",
    "           def __init__(self):\n",
    "               super(Net, self).__init__()\n",
    "\n",
    "      2. class MyModel(nn.Module):\n",
    "\n",
    "            def __init__(self):\n",
    "                super(MyModel, self).__init__()\n",
    "\n",
    "- `conv2d` 레이어를 쌓을 때, 필터의 갯수를 계산하고 `in_channels`에 넣어줘야함"
   ]
  },
  {
   "attachments": {},
   "cell_type": "markdown",
   "metadata": {},
   "source": [
    "#### 신경망 정의"
   ]
  },
  {
   "cell_type": "code",
   "execution_count": 1,
   "metadata": {},
   "outputs": [],
   "source": [
    "import torch\n",
    "import torch.nn as nn\n",
    "import torch.nn.functional as F"
   ]
  },
  {
   "cell_type": "code",
   "execution_count": 3,
   "metadata": {},
   "outputs": [
    {
     "name": "stdout",
     "output_type": "stream",
     "text": [
      "Net(\n",
      "  (conv1): Conv2d(1, 6, kernel_size=(3, 3), stride=(1, 1))\n",
      "  (conv2): Conv2d(6, 16, kernel_size=(3, 3), stride=(1, 1))\n",
      "  (fc1): Linear(in_features=576, out_features=120, bias=True)\n",
      "  (fc2): Linear(in_features=84, out_features=10, bias=True)\n",
      ")\n"
     ]
    }
   ],
   "source": [
    "# class Net(nn.Module):    #nn에 있는 모듈을 상속 받게 \n",
    "\n",
    "#     def __init__(self):\n",
    "#         super(Net, self).__init__()\n",
    "\n",
    "#         self.conv1 = nn.Conv2d(1, 6, 3)  # 신경망의 구조 정의\n",
    "#         self.conv2 = nn.Conv2d(6, 16, 3)\n",
    "#         self.fc1 = nn.Linear(16 * 6 * 6, 120 )\n",
    "#         self.fc2 = nn.Linear(120, 84)\n",
    "#         self.fc2 = nn.Linear(84, 10)\n",
    "\n",
    "# def forward(self, x): \n",
    "#     x = F.max_pool2d(F.relu(self.conv1(x)), (2, 2)) #입력으로 통과한 x가 현재 conv통과하고 relu계산하고 pooling거침\n",
    "#     x = F.max_pool2d(F.relu(self.conv2(x)), 2)\n",
    "#     x = x.view(-1, self.num_flat_features(x))\n",
    "#     x = F.relu(self.fc1(x))\n",
    "#     x = F.relu(self.fc2(x))\n",
    "#     x = self.fc3(x)\n",
    "#     return x\n",
    "\n",
    "# def num_flat_features(self, x):\n",
    "#     size = x.size()[1:]\n",
    "#     num_features = 1\n",
    "#     for s in size:\n",
    "#         num_features *= s\n",
    "\n",
    "#         return num_features\n",
    "\n",
    "# net =Net()\n",
    "# print(net)"
   ]
  },
  {
   "cell_type": "markdown",
   "metadata": {},
   "source": [
    "#### 선형회귀(Linear Regression) 모델 생성"
   ]
  },
  {
   "cell_type": "code",
   "execution_count": 10,
   "metadata": {},
   "outputs": [
    {
     "name": "stderr",
     "output_type": "stream",
     "text": [
      "C:\\Users\\Owner\\AppData\\Local\\Temp\\ipykernel_34196\\379376291.py:5: MatplotlibDeprecationWarning: The seaborn styles shipped by Matplotlib are deprecated since 3.6, as they no longer correspond to the styles shipped by seaborn. However, they will remain available as 'seaborn-v0_8-<style>'. Alternatively, directly use the seaborn API instead.\n",
      "  plt.style.use('seaborn-white')\n"
     ]
    }
   ],
   "source": [
    "# modules import\n",
    "import torch.optim as optim\n",
    "import numpy as np\n",
    "import matplotlib.pyplot as plt\n",
    "plt.style.use('seaborn-white')"
   ]
  },
  {
   "attachments": {},
   "cell_type": "markdown",
   "metadata": {},
   "source": [
    "#### 데이터 생성 및 회귀식 설정\n",
    "- torch.rand(): 0, 1 분포 안에서 랜덤한 tensor생성\n",
    "- torch.randn(): 정규분포 안에서 랜덤한 tensor 생성,  x < high로 생성 \n",
    "- torch.randint(): 정수로 채워진 랜덤한 tensor 생성"
   ]
  },
  {
   "cell_type": "code",
   "execution_count": 23,
   "metadata": {},
   "outputs": [
    {
     "data": {
      "image/png": "[encoded data removed]",
      "text/plain": [
       "<Figure size 640x480 with 1 Axes>"
      ]
     },
     "metadata": {},
     "output_type": "display_data"
    }
   ],
   "source": [
    "X = torch.randn(100, 1)*10\n",
    "y = torch.randint(low=0, high=2, size=(100, 1)) # 정수로 (0, 1) 100개 생성\n",
    "plt.plot(X.numpy(), y.numpy(), 'o')\n",
    "plt.ylabel('y')\n",
    "plt.xlabel('x')\n",
    "plt.grid()\n",
    "plt.show()"
   ]
  },
  {
   "attachments": {},
   "cell_type": "markdown",
   "metadata": {},
   "source": [
    "##### 신경망 구성\n",
    "[로지스틱 참고 링크](https://wikidocs.net/58686)"
   ]
  },
  {
   "cell_type": "code",
   "execution_count": 33,
   "metadata": {},
   "outputs": [],
   "source": [
    "model = nn.Sequential(\n",
    "   nn.Linear(1, 1), # input_dim = 2, output_dim = 1\n",
    "   nn.Sigmoid() # 출력은 시그모이드 함수를 거친다\n",
    ")"
   ]
  },
  {
   "cell_type": "code",
   "execution_count": 24,
   "metadata": {},
   "outputs": [],
   "source": [
    "# class LogisticRegressionModel(nn.Module):\n",
    "\n",
    "#     def __init__(self):\n",
    "#         super(LogisticRegressionModel, self).__init__()\n",
    "#         self.logistic = nn.LogSigmoid() # 하나의 레이어만 존재하는 신경망\n",
    "\n",
    "#     def forward(self, x):\n",
    "#         pred = self.logistic(x)\n",
    "#         return pred"
   ]
  },
  {
   "cell_type": "markdown",
   "metadata": {},
   "source": [
    "##### 모델 생성 및 파라미터 확인"
   ]
  },
  {
   "cell_type": "code",
   "execution_count": 34,
   "metadata": {},
   "outputs": [],
   "source": [
    "# torch.manual_seed(111)\n",
    "\n",
    "# model = LogisticRegressionModel()\n",
    "# print(model)"
   ]
  },
  {
   "cell_type": "code",
   "execution_count": 35,
   "metadata": {},
   "outputs": [
    {
     "name": "stdout",
     "output_type": "stream",
     "text": [
      "[Parameter containing:\n",
      "tensor([[0.4311]], requires_grad=True), Parameter containing:\n",
      "tensor([0.8280], requires_grad=True)]\n"
     ]
    }
   ],
   "source": [
    "# 모델 parameter 확인\n",
    "print(list(model.parameters()))"
   ]
  },
  {
   "cell_type": "code",
   "execution_count": 36,
   "metadata": {},
   "outputs": [
    {
     "data": {
      "text/plain": [
       "tensor([[7.5985e-01],\n",
       "        [9.9989e-01],\n",
       "        [2.4116e-04],\n",
       "        [9.9736e-01],\n",
       "        [9.9971e-01],\n",
       "        [2.0406e-03],\n",
       "        [9.8985e-01],\n",
       "        [8.7999e-01],\n",
       "        [9.5616e-01],\n",
       "        [8.4701e-01],\n",
       "        [9.1551e-01],\n",
       "        [9.8265e-01],\n",
       "        [9.6690e-01],\n",
       "        [7.6875e-03],\n",
       "        [5.2761e-02],\n",
       "        [8.5262e-01],\n",
       "        [8.6453e-01],\n",
       "        [9.9916e-01],\n",
       "        [9.9877e-01],\n",
       "        [9.1638e-01],\n",
       "        [1.3332e-02],\n",
       "        [1.5548e-02],\n",
       "        [4.5408e-03],\n",
       "        [9.9766e-01],\n",
       "        [9.5460e-01],\n",
       "        [6.3266e-02],\n",
       "        [9.9956e-01],\n",
       "        [9.9739e-01],\n",
       "        [9.4344e-01],\n",
       "        [6.3487e-01],\n",
       "        [9.4716e-01],\n",
       "        [1.0460e-01],\n",
       "        [9.9109e-01],\n",
       "        [9.9951e-01],\n",
       "        [8.3132e-01],\n",
       "        [2.8642e-01],\n",
       "        [9.9268e-01],\n",
       "        [9.9014e-01],\n",
       "        [9.9672e-01],\n",
       "        [5.6900e-01],\n",
       "        [9.9994e-01],\n",
       "        [9.7873e-01],\n",
       "        [9.9709e-01],\n",
       "        [9.7975e-01],\n",
       "        [1.0587e-03],\n",
       "        [2.7977e-02],\n",
       "        [4.5171e-02],\n",
       "        [9.8080e-03],\n",
       "        [1.9210e-06],\n",
       "        [9.9917e-01],\n",
       "        [1.7282e-02],\n",
       "        [2.2608e-01],\n",
       "        [2.8389e-03],\n",
       "        [9.9575e-01],\n",
       "        [1.7710e-01],\n",
       "        [9.4242e-01],\n",
       "        [9.6555e-01],\n",
       "        [6.9949e-01],\n",
       "        [8.4230e-01],\n",
       "        [1.2576e-03],\n",
       "        [9.8746e-01],\n",
       "        [6.0426e-01],\n",
       "        [9.7778e-01],\n",
       "        [4.9586e-01],\n",
       "        [4.7442e-01],\n",
       "        [8.5099e-01],\n",
       "        [9.6762e-01],\n",
       "        [2.6318e-02],\n",
       "        [1.2720e-01],\n",
       "        [9.5094e-01],\n",
       "        [2.0002e-03],\n",
       "        [8.1761e-01],\n",
       "        [1.7016e-02],\n",
       "        [8.6207e-02],\n",
       "        [9.8100e-01],\n",
       "        [4.9457e-01],\n",
       "        [9.5974e-01],\n",
       "        [3.8260e-01],\n",
       "        [9.9753e-01],\n",
       "        [9.9586e-01],\n",
       "        [2.5848e-03],\n",
       "        [9.6404e-01],\n",
       "        [7.9061e-01],\n",
       "        [7.1684e-01],\n",
       "        [9.3719e-01],\n",
       "        [1.1414e-02],\n",
       "        [2.5212e-03],\n",
       "        [8.4872e-01],\n",
       "        [4.2460e-01],\n",
       "        [9.4553e-01],\n",
       "        [9.8120e-01],\n",
       "        [4.3003e-02],\n",
       "        [4.8994e-01],\n",
       "        [8.4852e-01],\n",
       "        [9.9962e-01],\n",
       "        [1.0637e-02],\n",
       "        [2.7245e-01],\n",
       "        [9.9852e-01],\n",
       "        [8.8520e-01],\n",
       "        [9.8791e-01]], grad_fn=<SigmoidBackward0>)"
      ]
     },
     "execution_count": 36,
     "metadata": {},
     "output_type": "execute_result"
    }
   ],
   "source": [
    "# W와 b는 초기화된 상태, X를 넣어 예측값 출력\n",
    "model(X)"
   ]
  },
  {
   "cell_type": "code",
   "execution_count": null,
   "metadata": {},
   "outputs": [],
   "source": [
    "# # weight, bias 받아오기\n",
    "# w, b = model.parameters()\n",
    "# def get_params():\n",
    "#     return w[0][0].item(), b[0].item()\n",
    "\n",
    "# def plot_fit(title):\n",
    "#     plt.title = title\n",
    "#     w1, b1 = get_params()\n",
    "#     x1 = np.array([-30, 30])\n",
    "#     y1 = w1 * x1 * b1\n",
    "#     plt.plot(x1, y1, 'r')\n",
    "#     plt.scatter(X, y)\n",
    "#     plt.show()\n",
    "\n",
    "# plot_fit('Initial Model') # 가중치랑 bias값 초기화돼서 나오는 초기값"
   ]
  },
  {
   "cell_type": "markdown",
   "metadata": {},
   "source": [
    "##### 손실함수와 옵티마이저"
   ]
  },
  {
   "cell_type": "code",
   "execution_count": 27,
   "metadata": {},
   "outputs": [],
   "source": [
    "criterion = nn.MSELoss()\n",
    "optimizer = optim.SGD(model.parameters(), lr=0.001)"
   ]
  },
  {
   "cell_type": "markdown",
   "metadata": {},
   "source": [
    "##### 모델 학습"
   ]
  },
  {
   "cell_type": "code",
   "execution_count": null,
   "metadata": {},
   "outputs": [],
   "source": [
    "# epochs = 100\n",
    "# losses = []\n",
    "# for epoch in range(epochs):\n",
    "#     optimizer.zero_grad()\n",
    "\n",
    "#     y_pred = model(X)\n",
    "#     loss = criterion(y_pred, y)\n",
    "#     losses.append(loss)\n",
    "#     loss.backward()\n",
    "\n",
    "#     optimizer.step()\n",
    "\n",
    "#     if epoch % 10 ==0:\n",
    "#         print(f'Epoch: {epoch +1}, loss: {loss}')"
   ]
  },
  {
   "cell_type": "markdown",
   "metadata": {},
   "source": [
    "##### 로지스틱 설정해둔거 경사 하강법을 사용해서 훈련, 100번의 에포크 수행"
   ]
  },
  {
   "cell_type": "code",
   "execution_count": 42,
   "metadata": {},
   "outputs": [],
   "source": [
    "# y값 float으로 변경\n",
    "y = y.to(torch.float32)"
   ]
  },
  {
   "cell_type": "code",
   "execution_count": 43,
   "metadata": {},
   "outputs": [
    {
     "name": "stdout",
     "output_type": "stream",
     "text": [
      "Epoch    0/1000 Cost: 2.238053 Accuracy 48.00%\n",
      "Epoch   10/1000 Cost: 24.222754 Accuracy 49.00%\n",
      "Epoch   20/1000 Cost: 6.440084 Accuracy 53.00%\n",
      "Epoch   30/1000 Cost: 24.187807 Accuracy 49.00%\n",
      "Epoch   40/1000 Cost: 4.248149 Accuracy 52.00%\n",
      "Epoch   50/1000 Cost: 1.776781 Accuracy 49.00%\n",
      "Epoch   60/1000 Cost: 1.898992 Accuracy 49.00%\n",
      "Epoch   70/1000 Cost: 23.767471 Accuracy 51.00%\n",
      "Epoch   80/1000 Cost: 2.336026 Accuracy 53.00%\n",
      "Epoch   90/1000 Cost: 15.876796 Accuracy 52.00%\n",
      "Epoch  100/1000 Cost: 8.414845 Accuracy 49.00%\n",
      "Epoch  110/1000 Cost: 21.390684 Accuracy 51.00%\n",
      "Epoch  120/1000 Cost: 23.821796 Accuracy 51.00%\n",
      "Epoch  130/1000 Cost: 15.937926 Accuracy 53.00%\n",
      "Epoch  140/1000 Cost: 21.467222 Accuracy 52.00%\n",
      "Epoch  150/1000 Cost: 8.269907 Accuracy 50.00%\n",
      "Epoch  160/1000 Cost: 1.273208 Accuracy 51.00%\n",
      "Epoch  170/1000 Cost: 3.201570 Accuracy 49.00%\n",
      "Epoch  180/1000 Cost: 23.807995 Accuracy 52.00%\n",
      "Epoch  190/1000 Cost: 23.823606 Accuracy 52.00%\n",
      "Epoch  200/1000 Cost: 8.220888 Accuracy 49.00%\n",
      "Epoch  210/1000 Cost: 8.385809 Accuracy 53.00%\n",
      "Epoch  220/1000 Cost: 13.395860 Accuracy 53.00%\n",
      "Epoch  230/1000 Cost: 1.913501 Accuracy 48.00%\n",
      "Epoch  240/1000 Cost: 21.327465 Accuracy 52.00%\n",
      "Epoch  250/1000 Cost: 18.368990 Accuracy 52.00%\n",
      "Epoch  260/1000 Cost: 17.107962 Accuracy 53.00%\n",
      "Epoch  270/1000 Cost: 23.961494 Accuracy 52.00%\n",
      "Epoch  280/1000 Cost: 0.827546 Accuracy 49.00%\n",
      "Epoch  290/1000 Cost: 24.274189 Accuracy 49.00%\n",
      "Epoch  300/1000 Cost: 23.993923 Accuracy 51.00%\n",
      "Epoch  310/1000 Cost: 0.776116 Accuracy 43.00%\n",
      "Epoch  320/1000 Cost: 17.402702 Accuracy 49.00%\n",
      "Epoch  330/1000 Cost: 24.229519 Accuracy 49.00%\n",
      "Epoch  340/1000 Cost: 8.436693 Accuracy 48.00%\n",
      "Epoch  350/1000 Cost: 17.768396 Accuracy 51.00%\n",
      "Epoch  360/1000 Cost: 27.656607 Accuracy 49.00%\n",
      "Epoch  370/1000 Cost: 0.996613 Accuracy 53.00%\n",
      "Epoch  380/1000 Cost: 21.302031 Accuracy 51.00%\n",
      "Epoch  390/1000 Cost: 16.073906 Accuracy 52.00%\n",
      "Epoch  400/1000 Cost: 0.723095 Accuracy 47.00%\n",
      "Epoch  410/1000 Cost: 4.306813 Accuracy 52.00%\n",
      "Epoch  420/1000 Cost: 15.075269 Accuracy 51.00%\n",
      "Epoch  430/1000 Cost: 1.944225 Accuracy 49.00%\n",
      "Epoch  440/1000 Cost: 15.028010 Accuracy 52.00%\n",
      "Epoch  450/1000 Cost: 2.396010 Accuracy 50.00%\n",
      "Epoch  460/1000 Cost: 17.044441 Accuracy 53.00%\n",
      "Epoch  470/1000 Cost: 14.892351 Accuracy 52.00%\n",
      "Epoch  480/1000 Cost: 6.192640 Accuracy 49.00%\n",
      "Epoch  490/1000 Cost: 1.491493 Accuracy 51.00%\n",
      "Epoch  500/1000 Cost: 17.072016 Accuracy 53.00%\n",
      "Epoch  510/1000 Cost: 21.403198 Accuracy 49.00%\n",
      "Epoch  520/1000 Cost: 7.189213 Accuracy 49.00%\n",
      "Epoch  530/1000 Cost: 28.294836 Accuracy 49.00%\n",
      "Epoch  540/1000 Cost: 17.810123 Accuracy 49.00%\n",
      "Epoch  550/1000 Cost: 21.454676 Accuracy 52.00%\n",
      "Epoch  560/1000 Cost: 25.222866 Accuracy 49.00%\n",
      "Epoch  570/1000 Cost: 22.437201 Accuracy 52.00%\n",
      "Epoch  580/1000 Cost: 23.525486 Accuracy 49.00%\n",
      "Epoch  590/1000 Cost: 18.456745 Accuracy 52.00%\n",
      "Epoch  600/1000 Cost: 22.471611 Accuracy 52.00%\n",
      "Epoch  610/1000 Cost: 13.482403 Accuracy 52.00%\n",
      "Epoch  620/1000 Cost: 6.342828 Accuracy 53.00%\n",
      "Epoch  630/1000 Cost: 6.000748 Accuracy 49.00%\n",
      "Epoch  640/1000 Cost: 3.950346 Accuracy 53.00%\n",
      "Epoch  650/1000 Cost: 3.122672 Accuracy 49.00%\n",
      "Epoch  660/1000 Cost: 21.411476 Accuracy 51.00%\n",
      "Epoch  670/1000 Cost: 22.435366 Accuracy 52.00%\n",
      "Epoch  680/1000 Cost: 3.237703 Accuracy 49.00%\n",
      "Epoch  690/1000 Cost: 15.951342 Accuracy 53.00%\n",
      "Epoch  700/1000 Cost: 10.184264 Accuracy 49.00%\n",
      "Epoch  710/1000 Cost: 23.911226 Accuracy 51.00%\n",
      "Epoch  720/1000 Cost: 17.144835 Accuracy 52.00%\n",
      "Epoch  730/1000 Cost: 21.320951 Accuracy 49.00%\n",
      "Epoch  740/1000 Cost: 23.601206 Accuracy 49.00%\n",
      "Epoch  750/1000 Cost: 23.806768 Accuracy 51.00%\n",
      "Epoch  760/1000 Cost: 21.528875 Accuracy 52.00%\n",
      "Epoch  770/1000 Cost: 1.899093 Accuracy 50.00%\n",
      "Epoch  780/1000 Cost: 16.113245 Accuracy 52.00%\n",
      "Epoch  790/1000 Cost: 1.476888 Accuracy 48.00%\n",
      "Epoch  800/1000 Cost: 17.885836 Accuracy 49.00%\n",
      "Epoch  810/1000 Cost: 1.651609 Accuracy 50.00%\n",
      "Epoch  820/1000 Cost: 1.300958 Accuracy 51.00%\n",
      "Epoch  830/1000 Cost: 23.956388 Accuracy 52.00%\n",
      "Epoch  840/1000 Cost: 5.723505 Accuracy 50.00%\n",
      "Epoch  850/1000 Cost: 23.084404 Accuracy 52.00%\n",
      "Epoch  860/1000 Cost: 17.271486 Accuracy 49.00%\n",
      "Epoch  870/1000 Cost: 8.100324 Accuracy 49.00%\n",
      "Epoch  880/1000 Cost: 21.213146 Accuracy 49.00%\n",
      "Epoch  890/1000 Cost: 17.114017 Accuracy 52.00%\n",
      "Epoch  900/1000 Cost: 24.301092 Accuracy 49.00%\n",
      "Epoch  910/1000 Cost: 17.264450 Accuracy 51.00%\n",
      "Epoch  920/1000 Cost: 22.519722 Accuracy 52.00%\n",
      "Epoch  930/1000 Cost: 21.380465 Accuracy 49.00%\n",
      "Epoch  940/1000 Cost: 2.537510 Accuracy 49.00%\n",
      "Epoch  950/1000 Cost: 15.982105 Accuracy 52.00%\n",
      "Epoch  960/1000 Cost: 1.810126 Accuracy 48.00%\n",
      "Epoch  970/1000 Cost: 0.805643 Accuracy 51.00%\n",
      "Epoch  980/1000 Cost: 5.994138 Accuracy 49.00%\n",
      "Epoch  990/1000 Cost: 7.273270 Accuracy 53.00%\n",
      "Epoch 1000/1000 Cost: 23.702393 Accuracy 52.00%\n"
     ]
    }
   ],
   "source": [
    "# optimizer 설정\n",
    "optimizer = optim.SGD(model.parameters(), lr=1)\n",
    "\n",
    "nb_epochs = 1000\n",
    "for epoch in range(nb_epochs + 1):\n",
    "\n",
    "    # H(x) 계산\n",
    "    hypothesis = model(X)\n",
    "\n",
    "    # cost 계산\n",
    "    cost = F.binary_cross_entropy(hypothesis, y)\n",
    "\n",
    "    # cost로 H(x) 개선\n",
    "    optimizer.zero_grad()\n",
    "    cost.backward()\n",
    "    optimizer.step()\n",
    "\n",
    "    # 20번마다 로그 출력\n",
    "    if epoch % 10 == 0:\n",
    "        prediction = hypothesis >= torch.FloatTensor([0.5]) # 예측값이 0.5를 넘으면 True로 간주\n",
    "        correct_prediction = prediction.float() == y # 실제값과 일치하는 경우만 True로 간주\n",
    "        accuracy = correct_prediction.sum().item() / len(correct_prediction) # 정확도를 계산\n",
    "        print('Epoch {:4d}/{} Cost: {:.6f} Accuracy {:2.2f}%'.format( # 각 에포크마다 정확도를 출력\n",
    "            epoch, nb_epochs, cost.item(), accuracy * 100,\n",
    "        ))"
   ]
  },
  {
   "attachments": {},
   "cell_type": "markdown",
   "metadata": {},
   "source": [
    "##### Model parameter 후 예측값 확인\n",
    "- 0.5를 넘으면 True, 그보다 낮으면 False, 실제값은 [[0], [0], [0], [1], [1], [1]], 이는 False False False True True True에 해당되므로 실제값과 일치하도록 예측한 것을 확인 가능"
   ]
  },
  {
   "cell_type": "code",
   "execution_count": 45,
   "metadata": {},
   "outputs": [
    {
     "data": {
      "text/plain": [
       "tensor([[1.5115e-01],\n",
       "        [1.7069e-24],\n",
       "        [1.0000e+00],\n",
       "        [2.4730e-15],\n",
       "        [8.6674e-22],\n",
       "        [1.0000e+00],\n",
       "        [2.0606e-11],\n",
       "        [6.5184e-04],\n",
       "        [4.5221e-07],\n",
       "        [4.2377e-03],\n",
       "        [4.8171e-05],\n",
       "        [7.7557e-10],\n",
       "        [6.4313e-08],\n",
       "        [1.0000e+00],\n",
       "        [1.0000e+00],\n",
       "        [3.1636e-03],\n",
       "        [1.6459e-03],\n",
       "        [1.1444e-18],\n",
       "        [1.4966e-17],\n",
       "        [4.4639e-05],\n",
       "        [1.0000e+00],\n",
       "        [1.0000e+00],\n",
       "        [1.0000e+00],\n",
       "        [1.0846e-15],\n",
       "        [5.7725e-07],\n",
       "        [1.0000e+00],\n",
       "        [1.4625e-20],\n",
       "        [2.2676e-15],\n",
       "        [2.7074e-06],\n",
       "        [9.0632e-01],\n",
       "        [1.6750e-06],\n",
       "        [1.0000e+00],\n",
       "        [8.5444e-12],\n",
       "        [3.1986e-20],\n",
       "        [9.1621e-03],\n",
       "        [9.9999e-01],\n",
       "        [2.2864e-12],\n",
       "        [1.7008e-11],\n",
       "        [1.0378e-14],\n",
       "        [9.8382e-01],\n",
       "        [1.4865e-26],\n",
       "        [3.0997e-09],\n",
       "        [4.7461e-15],\n",
       "        [2.2171e-09],\n",
       "        [1.0000e+00],\n",
       "        [1.0000e+00],\n",
       "        [1.0000e+00],\n",
       "        [1.0000e+00],\n",
       "        [1.0000e+00],\n",
       "        [1.0821e-18],\n",
       "        [1.0000e+00],\n",
       "        [1.0000e+00],\n",
       "        [1.0000e+00],\n",
       "        [5.9573e-14],\n",
       "        [1.0000e+00],\n",
       "        [3.0703e-06],\n",
       "        [8.4827e-08],\n",
       "        [5.8007e-01],\n",
       "        [5.3788e-03],\n",
       "        [1.0000e+00],\n",
       "        [8.5800e-11],\n",
       "        [9.5839e-01],\n",
       "        [4.1756e-09],\n",
       "        [9.9770e-01],\n",
       "        [9.9870e-01],\n",
       "        [3.4467e-03],\n",
       "        [5.5242e-08],\n",
       "        [1.0000e+00],\n",
       "        [1.0000e+00],\n",
       "        [9.9271e-07],\n",
       "        [1.0000e+00],\n",
       "        [1.7111e-02],\n",
       "        [1.0000e+00],\n",
       "        [1.0000e+00],\n",
       "        [1.4382e-09],\n",
       "        [9.9778e-01],\n",
       "        [2.4990e-07],\n",
       "        [9.9989e-01],\n",
       "        [1.5817e-15],\n",
       "        [4.9841e-14],\n",
       "        [1.0000e+00],\n",
       "        [1.1411e-07],\n",
       "        [5.1894e-02],\n",
       "        [4.4094e-01],\n",
       "        [5.6954e-06],\n",
       "        [1.0000e+00],\n",
       "        [1.0000e+00],\n",
       "        [3.8799e-03],\n",
       "        [9.9966e-01],\n",
       "        [2.0728e-06],\n",
       "        [1.3354e-09],\n",
       "        [1.0000e+00],\n",
       "        [9.9803e-01],\n",
       "        [3.9203e-03],\n",
       "        [5.9723e-21],\n",
       "        [1.0000e+00],\n",
       "        [1.0000e+00],\n",
       "        [5.0420e-17],\n",
       "        [4.6623e-04],\n",
       "        [6.6994e-11]], grad_fn=<SigmoidBackward0>)"
      ]
     },
     "execution_count": 45,
     "metadata": {},
     "output_type": "execute_result"
    }
   ],
   "source": [
    "model(X)"
   ]
  },
  {
   "cell_type": "code",
   "execution_count": 46,
   "metadata": {},
   "outputs": [
    {
     "name": "stdout",
     "output_type": "stream",
     "text": [
      "[Parameter containing:\n",
      "tensor([[-2.8773]], requires_grad=True), Parameter containing:\n",
      "tensor([0.4356], requires_grad=True)]\n"
     ]
    }
   ],
   "source": [
    "print(list(model.parameters()))"
   ]
  },
  {
   "cell_type": "markdown",
   "metadata": {},
   "source": [
    "##### 시각화"
   ]
  },
  {
   "cell_type": "code",
   "execution_count": null,
   "metadata": {},
   "outputs": [],
   "source": [
    "# fi_los = [fl.item() for fl in losses ]\n",
    "# plt.plot(range(epochs), fi_los)\n",
    "# plt.ylabel('Loss')\n",
    "# plt.xlabel('Epoch')\n",
    "# plt.show()"
   ]
  },
  {
   "cell_type": "code",
   "execution_count": null,
   "metadata": {},
   "outputs": [],
   "source": [
    "# plot_fit('Trained Model')"
   ]
  }
 ],
 "metadata": {
  "kernelspec": {
   "display_name": "'cnntorch'",
   "language": "python",
   "name": "python3"
  },
  "language_info": {
   "codemirror_mode": {
    "name": "ipython",
    "version": 3
   },
   "file_extension": ".py",
   "mimetype": "text/x-python",
   "name": "python",
   "nbconvert_exporter": "python",
   "pygments_lexer": "ipython3",
   "version": "3.9.16"
  },
  "orig_nbformat": 4,
  "vscode": {
   "interpreter": {
    "hash": "6ca0f013a782bb24e591e63d5d27e705638e2419a7aa6c0d5fa1b63289c7ab43"
   }
  }
 },
 "nbformat": 4,
 "nbformat_minor": 2
}
