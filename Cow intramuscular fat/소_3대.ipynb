{
 "cells": [
  {
   "attachments": {},
   "cell_type": "markdown",
   "metadata": {},
   "source": [
    "# <h5 style = 'font-size:45px'> <span style = 'color:yellow'> Link <span> </h5>\n",
    "[Markdown꾸미기](https://leedakyeong.tistory.com/entry/Markdown-Jupyter-Notebook-%EC%A3%BC%ED%94%BC%ED%84%B0-%EB%85%B8%ED%8A%B8%EB%B6%81-%EB%A7%88%ED%81%AC%EB%8B%A4%EC%9A%B4-%EC%A0%95%EB%A6%AC)  \n",
    "[Notion](https://gravel-turnover-821.notion.site/850bc7ba43a44299ae41bd4144d7462f)"
   ]
  },
  {
   "attachments": {},
   "cell_type": "markdown",
   "metadata": {},
   "source": [
    "<h5> <span style = 'color:blue'> Cow Project<span> </h5>"
   ]
  },
  {
   "attachments": {},
   "cell_type": "markdown",
   "metadata": {},
   "source": [
    "<img src = 'https://www.newsworks.co.kr/news/photo/202103/537213_423279_554.jpg' width = '500px' height ='300px' title = 'Cow project' alt = 'Error image'></img><br/>"
   ]
  },
  {
   "cell_type": "code",
   "execution_count": 1,
   "metadata": {},
   "outputs": [],
   "source": [
    "# Using package\n",
    "import pandas as pd\n",
    "import os\n",
    "import matplotlib.pyplot as plt\n",
    "import seaborn as sns\n",
    "import numpy as np\n",
    "# plot korean title\n",
    "from matplotlib import font_manager, rc\n",
    "font_path = \"C:/Windows/Fonts/NGULIM.TTF\"\n",
    "font = font_manager.FontProperties(fname=font_path).get_name()\n",
    "rc('font', family=font)\n",
    "from sklearn.model_selection import train_test_split"
   ]
  },
  {
   "attachments": {},
   "cell_type": "markdown",
   "metadata": {},
   "source": [
    "<h4> 파일에 존재하는 데이터 한꺼번에 불러오기 </h4>"
   ]
  },
  {
   "cell_type": "code",
   "execution_count": 2,
   "metadata": {},
   "outputs": [
    {
     "data": {
      "text/plain": [
       "'C:\\\\Users\\\\Owner\\\\Desktop\\\\윤태준\\\\소\\\\윤태준_김다은\\\\2022-11-25근내지방 3계대'"
      ]
     },
     "execution_count": 2,
     "metadata": {},
     "output_type": "execute_result"
    }
   ],
   "source": [
    "os.chdir('C:\\\\Users\\\\Owner\\\\Desktop\\\\윤태준\\\\소\\\\윤태준_김다은\\\\2022-11-25근내지방 3계대')\n",
    "os.getcwd()"
   ]
  },
  {
   "cell_type": "code",
   "execution_count": 3,
   "metadata": {},
   "outputs": [
    {
     "data": {
      "text/plain": [
       "['근내지방_0.xlsx',\n",
       " '근내지방_1.xlsx',\n",
       " '근내지방_10.xlsx',\n",
       " '근내지방_11.xlsx',\n",
       " '근내지방_12.xlsx',\n",
       " '근내지방_13.xlsx',\n",
       " '근내지방_14.xlsx',\n",
       " '근내지방_15.xlsx',\n",
       " '근내지방_16.xlsx',\n",
       " '근내지방_17.xlsx',\n",
       " '근내지방_2.xlsx',\n",
       " '근내지방_3.xlsx',\n",
       " '근내지방_4.xlsx',\n",
       " '근내지방_5.xlsx',\n",
       " '근내지방_6.xlsx',\n",
       " '근내지방_7.xlsx',\n",
       " '근내지방_8.xlsx',\n",
       " '근내지방_9.xlsx']"
      ]
     },
     "execution_count": 3,
     "metadata": {},
     "output_type": "execute_result"
    }
   ],
   "source": [
    "# 파일이 존재하는 경로 불러오기 및 리스트\n",
    "path = os.getcwd()\n",
    "file_lst = os.listdir(path)# 파일 이름 담기\n",
    "file_lst"
   ]
  },
  {
   "attachments": {},
   "cell_type": "markdown",
   "metadata": {},
   "source": [
    "##### ↓ 반복문으로 파일 불러오면서, 하나의 DataFrame으로 합침 "
   ]
  },
  {
   "cell_type": "code",
   "execution_count": 4,
   "metadata": {},
   "outputs": [],
   "source": [
    "df_3 = pd.DataFrame()\n",
    "for i in file_lst:\n",
    "    data_3 = pd.read_excel(path +'/'+i)\n",
    "    df_3 = pd.concat([df_3, data_3])\n",
    "    \n",
    "df_3 = df_3.reset_index(drop = True)"
   ]
  },
  {
   "cell_type": "code",
   "execution_count": 5,
   "metadata": {},
   "outputs": [
    {
     "name": "stdout",
     "output_type": "stream",
     "text": [
      "<class 'pandas.core.frame.DataFrame'>\n",
      "RangeIndex: 532653 entries, 0 to 532652\n",
      "Data columns (total 33 columns):\n",
      " #   Column          Non-Null Count   Dtype  \n",
      "---  ------          --------------   -----  \n",
      " 0   이표번호            532653 non-null  int64  \n",
      " 1   KPN             532653 non-null  object \n",
      " 2   성별              532653 non-null  object \n",
      " 3   출생일             532653 non-null  object \n",
      " 4   도축개월            532650 non-null  float64\n",
      " 5   도축일             532653 non-null  object \n",
      " 6   등급              532653 non-null  object \n",
      " 7   도체중             532653 non-null  int64  \n",
      " 8   등심단면적           532085 non-null  float64\n",
      " 9   등지방두께           532123 non-null  float64\n",
      " 10  근내지방도           531728 non-null  float64\n",
      " 11  육색              532653 non-null  int64  \n",
      " 12  지방색             532653 non-null  int64  \n",
      " 13  성숙도             532653 non-null  int64  \n",
      " 14  조직도             532653 non-null  int64  \n",
      " 15  어미 이표번호         532653 non-null  int64  \n",
      " 16  형매 도체중 평균       532653 non-null  float64\n",
      " 17  형매 등심단면적 평균     532653 non-null  float64\n",
      " 18  형매 등지방 평균       532653 non-null  float64\n",
      " 19  형매 근내지방 평균      532653 non-null  float64\n",
      " 20  형매 마릿수          532653 non-null  int64  \n",
      " 21  외할미 이표번호        532653 non-null  int64  \n",
      " 22  어미형매 도체중 평균     532653 non-null  float64\n",
      " 23  어미형매 등심단면적 평균   532653 non-null  float64\n",
      " 24  어미형매 등지방 평균     532653 non-null  float64\n",
      " 25  어미형매 근내지방 평균    532653 non-null  float64\n",
      " 26  어미형매 마릿수        532653 non-null  int64  \n",
      " 27  외증조할미 이표번호      532653 non-null  int64  \n",
      " 28  외할미형매 도체중 평균    532653 non-null  float64\n",
      " 29  외할미형매 등심단면적 평균  532653 non-null  float64\n",
      " 30  외할미형매 등지방 평균    532653 non-null  float64\n",
      " 31  외할미형매 근내지방 평균   532653 non-null  float64\n",
      " 32  외할미형매 마릿수       532653 non-null  int64  \n",
      "dtypes: float64(16), int64(12), object(5)\n",
      "memory usage: 134.1+ MB\n"
     ]
    }
   ],
   "source": [
    "# 데이터 확인\n",
    "df_3.info()"
   ]
  },
  {
   "cell_type": "code",
   "execution_count": 13,
   "metadata": {},
   "outputs": [
    {
     "data": {
      "text/html": [
       "<div>\n",
       "<style scoped>\n",
       "    .dataframe tbody tr th:only-of-type {\n",
       "        vertical-align: middle;\n",
       "    }\n",
       "\n",
       "    .dataframe tbody tr th {\n",
       "        vertical-align: top;\n",
       "    }\n",
       "\n",
       "    .dataframe thead th {\n",
       "        text-align: right;\n",
       "    }\n",
       "</style>\n",
       "<table border=\"1\" class=\"dataframe\">\n",
       "  <thead>\n",
       "    <tr style=\"text-align: right;\">\n",
       "      <th></th>\n",
       "      <th>이표번호</th>\n",
       "      <th>KPN</th>\n",
       "      <th>성별</th>\n",
       "      <th>출생일</th>\n",
       "      <th>도축개월</th>\n",
       "      <th>도축일</th>\n",
       "      <th>등급</th>\n",
       "      <th>도체중</th>\n",
       "      <th>등심단면적</th>\n",
       "      <th>등지방두께</th>\n",
       "      <th>...</th>\n",
       "      <th>어미형매 등심단면적 평균</th>\n",
       "      <th>어미형매 등지방 평균</th>\n",
       "      <th>어미형매 근내지방 평균</th>\n",
       "      <th>어미형매 마릿수</th>\n",
       "      <th>외증조할미 이표번호</th>\n",
       "      <th>외할미형매 도체중 평균</th>\n",
       "      <th>외할미형매 등심단면적 평균</th>\n",
       "      <th>외할미형매 등지방 평균</th>\n",
       "      <th>외할미형매 근내지방 평균</th>\n",
       "      <th>외할미형매 마릿수</th>\n",
       "    </tr>\n",
       "  </thead>\n",
       "  <tbody>\n",
       "    <tr>\n",
       "      <th>0</th>\n",
       "      <td>2146424082</td>\n",
       "      <td>KPN1233</td>\n",
       "      <td>암</td>\n",
       "      <td>2019-11-01</td>\n",
       "      <td>31.0</td>\n",
       "      <td>2022-05-23</td>\n",
       "      <td>1B</td>\n",
       "      <td>484</td>\n",
       "      <td>112.0</td>\n",
       "      <td>12.0</td>\n",
       "      <td>...</td>\n",
       "      <td>97.0</td>\n",
       "      <td>8.0</td>\n",
       "      <td>5.0</td>\n",
       "      <td>1</td>\n",
       "      <td>2078801406</td>\n",
       "      <td>427.25</td>\n",
       "      <td>86.75</td>\n",
       "      <td>15.00</td>\n",
       "      <td>2.75</td>\n",
       "      <td>4</td>\n",
       "    </tr>\n",
       "    <tr>\n",
       "      <th>1</th>\n",
       "      <td>2122073288</td>\n",
       "      <td>KPN946</td>\n",
       "      <td>거세</td>\n",
       "      <td>2017-09-30</td>\n",
       "      <td>30.0</td>\n",
       "      <td>2020-03-25</td>\n",
       "      <td>1+A</td>\n",
       "      <td>471</td>\n",
       "      <td>106.0</td>\n",
       "      <td>10.0</td>\n",
       "      <td>...</td>\n",
       "      <td>87.5</td>\n",
       "      <td>11.0</td>\n",
       "      <td>2.0</td>\n",
       "      <td>2</td>\n",
       "      <td>2016613635</td>\n",
       "      <td>386.00</td>\n",
       "      <td>87.25</td>\n",
       "      <td>20.50</td>\n",
       "      <td>5.50</td>\n",
       "      <td>4</td>\n",
       "    </tr>\n",
       "    <tr>\n",
       "      <th>2</th>\n",
       "      <td>2113675893</td>\n",
       "      <td>KPN1009</td>\n",
       "      <td>암</td>\n",
       "      <td>2016-12-17</td>\n",
       "      <td>71.0</td>\n",
       "      <td>2022-10-25</td>\n",
       "      <td>2B</td>\n",
       "      <td>407</td>\n",
       "      <td>82.0</td>\n",
       "      <td>13.0</td>\n",
       "      <td>...</td>\n",
       "      <td>81.2</td>\n",
       "      <td>11.2</td>\n",
       "      <td>4.4</td>\n",
       "      <td>5</td>\n",
       "      <td>162626314</td>\n",
       "      <td>363.40</td>\n",
       "      <td>76.40</td>\n",
       "      <td>14.00</td>\n",
       "      <td>5.00</td>\n",
       "      <td>5</td>\n",
       "    </tr>\n",
       "    <tr>\n",
       "      <th>3</th>\n",
       "      <td>2147230382</td>\n",
       "      <td>KPN1240</td>\n",
       "      <td>거세</td>\n",
       "      <td>2020-02-02</td>\n",
       "      <td>34.0</td>\n",
       "      <td>2022-11-21</td>\n",
       "      <td>1+B</td>\n",
       "      <td>554</td>\n",
       "      <td>96.0</td>\n",
       "      <td>13.0</td>\n",
       "      <td>...</td>\n",
       "      <td>85.0</td>\n",
       "      <td>16.5</td>\n",
       "      <td>4.5</td>\n",
       "      <td>2</td>\n",
       "      <td>196448808</td>\n",
       "      <td>347.67</td>\n",
       "      <td>87.00</td>\n",
       "      <td>10.33</td>\n",
       "      <td>5.67</td>\n",
       "      <td>3</td>\n",
       "    </tr>\n",
       "    <tr>\n",
       "      <th>4</th>\n",
       "      <td>2153357549</td>\n",
       "      <td>KPN1488</td>\n",
       "      <td>수</td>\n",
       "      <td>2020-06-03</td>\n",
       "      <td>24.0</td>\n",
       "      <td>2022-05-10</td>\n",
       "      <td>1A</td>\n",
       "      <td>356</td>\n",
       "      <td>69.0</td>\n",
       "      <td>7.0</td>\n",
       "      <td>...</td>\n",
       "      <td>95.5</td>\n",
       "      <td>9.0</td>\n",
       "      <td>4.5</td>\n",
       "      <td>2</td>\n",
       "      <td>192515207</td>\n",
       "      <td>368.57</td>\n",
       "      <td>87.14</td>\n",
       "      <td>9.57</td>\n",
       "      <td>3.29</td>\n",
       "      <td>7</td>\n",
       "    </tr>\n",
       "  </tbody>\n",
       "</table>\n",
       "<p>5 rows × 33 columns</p>\n",
       "</div>"
      ],
      "text/plain": [
       "         이표번호      KPN  성별         출생일  도축개월         도축일   등급  도체중  등심단면적  \\\n",
       "0  2146424082  KPN1233   암  2019-11-01  31.0  2022-05-23   1B  484  112.0   \n",
       "1  2122073288   KPN946  거세  2017-09-30  30.0  2020-03-25  1+A  471  106.0   \n",
       "2  2113675893  KPN1009   암  2016-12-17  71.0  2022-10-25   2B  407   82.0   \n",
       "3  2147230382  KPN1240  거세  2020-02-02  34.0  2022-11-21  1+B  554   96.0   \n",
       "4  2153357549  KPN1488   수  2020-06-03  24.0  2022-05-10   1A  356   69.0   \n",
       "\n",
       "   등지방두께  ...  어미형매 등심단면적 평균  어미형매 등지방 평균  어미형매 근내지방 평균  어미형매 마릿수  외증조할미 이표번호  \\\n",
       "0   12.0  ...           97.0          8.0           5.0         1  2078801406   \n",
       "1   10.0  ...           87.5         11.0           2.0         2  2016613635   \n",
       "2   13.0  ...           81.2         11.2           4.4         5   162626314   \n",
       "3   13.0  ...           85.0         16.5           4.5         2   196448808   \n",
       "4    7.0  ...           95.5          9.0           4.5         2   192515207   \n",
       "\n",
       "   외할미형매 도체중 평균  외할미형매 등심단면적 평균  외할미형매 등지방 평균  외할미형매 근내지방 평균  외할미형매 마릿수  \n",
       "0        427.25           86.75         15.00           2.75          4  \n",
       "1        386.00           87.25         20.50           5.50          4  \n",
       "2        363.40           76.40         14.00           5.00          5  \n",
       "3        347.67           87.00         10.33           5.67          3  \n",
       "4        368.57           87.14          9.57           3.29          7  \n",
       "\n",
       "[5 rows x 33 columns]"
      ]
     },
     "execution_count": 13,
     "metadata": {},
     "output_type": "execute_result"
    }
   ],
   "source": [
    "df_3.head()"
   ]
  },
  {
   "attachments": {},
   "cell_type": "markdown",
   "metadata": {},
   "source": [
    "<h5> 근내지방도 7,8,9 : 1, 나머지: 0 변환 </h5>"
   ]
  },
  {
   "cell_type": "code",
   "execution_count": 14,
   "metadata": {},
   "outputs": [
    {
     "data": {
      "text/plain": [
       "1.0     16822\n",
       "2.0     41856\n",
       "3.0     45031\n",
       "4.0     86311\n",
       "5.0     62474\n",
       "6.0    131721\n",
       "7.0     57172\n",
       "8.0     47055\n",
       "9.0     43286\n",
       "Name: 근내지방도, dtype: int64"
      ]
     },
     "execution_count": 14,
     "metadata": {},
     "output_type": "execute_result"
    }
   ],
   "source": [
    "df_3.근내지방도.value_counts().sort_index()"
   ]
  },
  {
   "cell_type": "code",
   "execution_count": 15,
   "metadata": {},
   "outputs": [
    {
     "name": "stdout",
     "output_type": "stream",
     "text": [
      "0.0    384215\n",
      "1.0    147513\n",
      "Name: 근내지방도, dtype: int64\n",
      "\n",
      "\n",
      "<class 'pandas.core.frame.DataFrame'>\n",
      "RangeIndex: 532653 entries, 0 to 532652\n",
      "Data columns (total 33 columns):\n",
      " #   Column          Non-Null Count   Dtype  \n",
      "---  ------          --------------   -----  \n",
      " 0   이표번호            532653 non-null  int64  \n",
      " 1   KPN             532653 non-null  object \n",
      " 2   성별              532653 non-null  object \n",
      " 3   출생일             532653 non-null  object \n",
      " 4   도축개월            532650 non-null  float64\n",
      " 5   도축일             532653 non-null  object \n",
      " 6   등급              532653 non-null  object \n",
      " 7   도체중             532653 non-null  int64  \n",
      " 8   등심단면적           532085 non-null  float64\n",
      " 9   등지방두께           532123 non-null  float64\n",
      " 10  근내지방도           531728 non-null  float64\n",
      " 11  육색              532653 non-null  int64  \n",
      " 12  지방색             532653 non-null  int64  \n",
      " 13  성숙도             532653 non-null  int64  \n",
      " 14  조직도             532653 non-null  int64  \n",
      " 15  어미 이표번호         532653 non-null  int64  \n",
      " 16  형매 도체중 평균       532653 non-null  float64\n",
      " 17  형매 등심단면적 평균     532653 non-null  float64\n",
      " 18  형매 등지방 평균       532653 non-null  float64\n",
      " 19  형매 근내지방 평균      532653 non-null  float64\n",
      " 20  형매 마릿수          532653 non-null  int64  \n",
      " 21  외할미 이표번호        532653 non-null  int64  \n",
      " 22  어미형매 도체중 평균     532653 non-null  float64\n",
      " 23  어미형매 등심단면적 평균   532653 non-null  float64\n",
      " 24  어미형매 등지방 평균     532653 non-null  float64\n",
      " 25  어미형매 근내지방 평균    532653 non-null  float64\n",
      " 26  어미형매 마릿수        532653 non-null  int64  \n",
      " 27  외증조할미 이표번호      532653 non-null  int64  \n",
      " 28  외할미형매 도체중 평균    532653 non-null  float64\n",
      " 29  외할미형매 등심단면적 평균  532653 non-null  float64\n",
      " 30  외할미형매 등지방 평균    532653 non-null  float64\n",
      " 31  외할미형매 근내지방 평균   532653 non-null  float64\n",
      " 32  외할미형매 마릿수       532653 non-null  int64  \n",
      "dtypes: float64(16), int64(12), object(5)\n",
      "memory usage: 134.1+ MB\n"
     ]
    }
   ],
   "source": [
    "cow_3 = df_3.copy()\n",
    "cow_3['근내지방도'] = cow_3['근내지방도'].apply(lambda x: 1 if x >= 7 else 0 if x < 7 else x)\n",
    "print(cow_3.근내지방도.value_counts())\n",
    "print('\\n')\n",
    "cow_3.info()"
   ]
  },
  {
   "cell_type": "markdown",
   "metadata": {},
   "source": [
    "<h5> train_test_split, 7:3 </h5>"
   ]
  },
  {
   "cell_type": "code",
   "execution_count": 20,
   "metadata": {},
   "outputs": [],
   "source": [
    "X_3 = cow_3.drop(['근내지방도'],axis=1)\n",
    "Y_3 = cow_3.근내지방도\n",
    "X_train_3, X_test_3, Y_train_3, Y_test_3 = train_test_split(X, Y, test_size=0.3, random_state = 7777)"
   ]
  },
  {
   "cell_type": "markdown",
   "metadata": {},
   "source": [
    "<h5> 독립변수, 종속변수 합치기 나중에 데이터 불러오기 쉽게 </h5>"
   ]
  },
  {
   "cell_type": "code",
   "execution_count": 21,
   "metadata": {},
   "outputs": [],
   "source": [
    "train_3 = pd.concat([X_train_3,Y_train_3], axis=1)\n",
    "test_3 = pd.concat([X_test_3,Y_test_3], axis=1)"
   ]
  },
  {
   "cell_type": "code",
   "execution_count": 24,
   "metadata": {},
   "outputs": [
    {
     "data": {
      "text/plain": [
       "(372857, 33)"
      ]
     },
     "execution_count": 24,
     "metadata": {},
     "output_type": "execute_result"
    }
   ],
   "source": [
    "train_3.shape"
   ]
  },
  {
   "cell_type": "code",
   "execution_count": 27,
   "metadata": {},
   "outputs": [],
   "source": [
    "train_3.to_csv('C:\\\\Users\\\\Owner\\\\Desktop\\\\윤태준\\\\소\\\\윤태준_김다은\\\\3계대 정리\\\\3_train.csv',encoding='cp949',index=False)\n",
    "test_3.to_csv('C:\\\\Users\\\\Owner\\\\Desktop\\\\윤태준\\\\소\\\\윤태준_김다은\\\\3계대 정리\\\\3_test.csv',encoding='cp949',index=False)"
   ]
  }
 ],
 "metadata": {
  "kernelspec": {
   "display_name": "'venv1'",
   "language": "python",
   "name": "conda"
  },
  "language_info": {
   "codemirror_mode": {
    "name": "ipython",
    "version": 3
   },
   "file_extension": ".py",
   "mimetype": "text/x-python",
   "name": "python",
   "nbconvert_exporter": "python",
   "pygments_lexer": "ipython3",
   "version": "3.7.4"
  },
  "orig_nbformat": 4,
  "vscode": {
   "interpreter": {
    "hash": "12d37d03e29907ddf2c648e7ca97c2664521e3e6dbb13ba26dd677f6ee98ebe1"
   }
  }
 },
 "nbformat": 4,
 "nbformat_minor": 2
}
