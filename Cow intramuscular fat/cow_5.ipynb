{
 "cells": [
  {
   "cell_type": "markdown",
   "metadata": {},
   "source": [
    "#### Module import"
   ]
  },
  {
   "cell_type": "code",
   "execution_count": 1,
   "metadata": {},
   "outputs": [],
   "source": [
    "import pandas as pd\n",
    "import os\n",
    "import numpy as np"
   ]
  },
  {
   "cell_type": "code",
   "execution_count": 2,
   "metadata": {},
   "outputs": [
    {
     "data": {
      "text/plain": [
       "'c:\\\\Users\\\\Owner\\\\Desktop\\\\윤태준\\\\소'"
      ]
     },
     "execution_count": 2,
     "metadata": {},
     "output_type": "execute_result"
    }
   ],
   "source": [
    "os.getcwd()"
   ]
  },
  {
   "attachments": {},
   "cell_type": "markdown",
   "metadata": {},
   "source": [
    "##### Path"
   ]
  },
  {
   "cell_type": "code",
   "execution_count": 4,
   "metadata": {},
   "outputs": [
    {
     "data": {
      "text/plain": [
       "'c:\\\\Users\\\\Owner\\\\Desktop\\\\윤태준\\\\소\\\\3차 요청자료\\\\2023-02-07근내지방_5'"
      ]
     },
     "execution_count": 4,
     "metadata": {},
     "output_type": "execute_result"
    }
   ],
   "source": [
    "os.chdir('./3차 요청자료/2023-02-07근내지방_5')\n",
    "os.getcwd()"
   ]
  },
  {
   "attachments": {},
   "cell_type": "markdown",
   "metadata": {},
   "source": [
    "##### Check\n",
    "> 또 마지막 변수명 외증조로 중복돼있음, 일단 파일 한번에 불러서 합친 다음 변수명 다시 바꾸기"
   ]
  },
  {
   "cell_type": "code",
   "execution_count": 5,
   "metadata": {},
   "outputs": [
    {
     "data": {
      "text/html": [
       "<div>\n",
       "<style scoped>\n",
       "    .dataframe tbody tr th:only-of-type {\n",
       "        vertical-align: middle;\n",
       "    }\n",
       "\n",
       "    .dataframe tbody tr th {\n",
       "        vertical-align: top;\n",
       "    }\n",
       "\n",
       "    .dataframe thead th {\n",
       "        text-align: right;\n",
       "    }\n",
       "</style>\n",
       "<table border=\"1\" class=\"dataframe\">\n",
       "  <thead>\n",
       "    <tr style=\"text-align: right;\">\n",
       "      <th></th>\n",
       "      <th>이표번호</th>\n",
       "      <th>KPN</th>\n",
       "      <th>성별</th>\n",
       "      <th>출생일</th>\n",
       "      <th>농가코드</th>\n",
       "      <th>농가등급</th>\n",
       "      <th>도축개월</th>\n",
       "      <th>도축일</th>\n",
       "      <th>등급</th>\n",
       "      <th>도체중</th>\n",
       "      <th>...</th>\n",
       "      <th>외증조할미형매 등심단면적 평균</th>\n",
       "      <th>외증조할미형매 등지방 평균</th>\n",
       "      <th>외증조할미형매 근내지방 평균</th>\n",
       "      <th>외증조할미형매 마릿수</th>\n",
       "      <th>외고고조할미 이표번호</th>\n",
       "      <th>외증조할미형매 도체중 평균.1</th>\n",
       "      <th>외증조할미형매 등심단면적 평균.1</th>\n",
       "      <th>외증조할미형매 등지방 평균.1</th>\n",
       "      <th>외증조할미형매 근내지방 평균.1</th>\n",
       "      <th>외증조할미형매 마릿수.1</th>\n",
       "    </tr>\n",
       "  </thead>\n",
       "  <tbody>\n",
       "    <tr>\n",
       "      <th>0</th>\n",
       "      <td>2153702904</td>\n",
       "      <td>KPN1159</td>\n",
       "      <td>암</td>\n",
       "      <td>2020-07-10</td>\n",
       "      <td>471813</td>\n",
       "      <td>1+B</td>\n",
       "      <td>31</td>\n",
       "      <td>2023-01-26</td>\n",
       "      <td>1+B</td>\n",
       "      <td>423</td>\n",
       "      <td>...</td>\n",
       "      <td>84.17</td>\n",
       "      <td>14.33</td>\n",
       "      <td>4.0</td>\n",
       "      <td>6</td>\n",
       "      <td>191430013</td>\n",
       "      <td>367.0</td>\n",
       "      <td>81.0</td>\n",
       "      <td>8.00</td>\n",
       "      <td>4.00</td>\n",
       "      <td>1</td>\n",
       "    </tr>\n",
       "    <tr>\n",
       "      <th>1</th>\n",
       "      <td>2151092783</td>\n",
       "      <td>KPN1124</td>\n",
       "      <td>거세</td>\n",
       "      <td>2020-05-04</td>\n",
       "      <td>465561</td>\n",
       "      <td>1+B</td>\n",
       "      <td>31</td>\n",
       "      <td>2022-11-28</td>\n",
       "      <td>1A</td>\n",
       "      <td>459</td>\n",
       "      <td>...</td>\n",
       "      <td>93.33</td>\n",
       "      <td>13.00</td>\n",
       "      <td>5.0</td>\n",
       "      <td>3</td>\n",
       "      <td>195655634</td>\n",
       "      <td>428.0</td>\n",
       "      <td>91.0</td>\n",
       "      <td>18.67</td>\n",
       "      <td>6.33</td>\n",
       "      <td>3</td>\n",
       "    </tr>\n",
       "    <tr>\n",
       "      <th>2</th>\n",
       "      <td>2152856190</td>\n",
       "      <td>KPN1243</td>\n",
       "      <td>거세</td>\n",
       "      <td>2020-06-03</td>\n",
       "      <td>463150</td>\n",
       "      <td>1+C</td>\n",
       "      <td>32</td>\n",
       "      <td>2023-01-13</td>\n",
       "      <td>1+B</td>\n",
       "      <td>502</td>\n",
       "      <td>...</td>\n",
       "      <td>59.00</td>\n",
       "      <td>11.00</td>\n",
       "      <td>5.5</td>\n",
       "      <td>2</td>\n",
       "      <td>111579762</td>\n",
       "      <td>357.0</td>\n",
       "      <td>84.5</td>\n",
       "      <td>18.00</td>\n",
       "      <td>4.00</td>\n",
       "      <td>2</td>\n",
       "    </tr>\n",
       "    <tr>\n",
       "      <th>3</th>\n",
       "      <td>2132846585</td>\n",
       "      <td>KPN1078</td>\n",
       "      <td>암</td>\n",
       "      <td>2018-07-29</td>\n",
       "      <td>349362</td>\n",
       "      <td>1+C</td>\n",
       "      <td>54</td>\n",
       "      <td>2023-01-02</td>\n",
       "      <td>1+B</td>\n",
       "      <td>331</td>\n",
       "      <td>...</td>\n",
       "      <td>83.00</td>\n",
       "      <td>7.00</td>\n",
       "      <td>3.0</td>\n",
       "      <td>1</td>\n",
       "      <td>175535796</td>\n",
       "      <td>347.0</td>\n",
       "      <td>87.0</td>\n",
       "      <td>15.00</td>\n",
       "      <td>3.00</td>\n",
       "      <td>1</td>\n",
       "    </tr>\n",
       "    <tr>\n",
       "      <th>4</th>\n",
       "      <td>2143085535</td>\n",
       "      <td>KPN1060</td>\n",
       "      <td>거세</td>\n",
       "      <td>2019-08-27</td>\n",
       "      <td>227596</td>\n",
       "      <td>1+C</td>\n",
       "      <td>35</td>\n",
       "      <td>2022-07-13</td>\n",
       "      <td>1++B</td>\n",
       "      <td>572</td>\n",
       "      <td>...</td>\n",
       "      <td>73.50</td>\n",
       "      <td>17.00</td>\n",
       "      <td>1.5</td>\n",
       "      <td>2</td>\n",
       "      <td>195224694</td>\n",
       "      <td>332.0</td>\n",
       "      <td>79.0</td>\n",
       "      <td>20.00</td>\n",
       "      <td>5.00</td>\n",
       "      <td>3</td>\n",
       "    </tr>\n",
       "  </tbody>\n",
       "</table>\n",
       "<p>5 rows × 47 columns</p>\n",
       "</div>"
      ],
      "text/plain": [
       "         이표번호      KPN  성별         출생일    농가코드 농가등급  도축개월         도축일    등급  \\\n",
       "0  2153702904  KPN1159   암  2020-07-10  471813  1+B    31  2023-01-26   1+B   \n",
       "1  2151092783  KPN1124  거세  2020-05-04  465561  1+B    31  2022-11-28    1A   \n",
       "2  2152856190  KPN1243  거세  2020-06-03  463150  1+C    32  2023-01-13   1+B   \n",
       "3  2132846585  KPN1078   암  2018-07-29  349362  1+C    54  2023-01-02   1+B   \n",
       "4  2143085535  KPN1060  거세  2019-08-27  227596  1+C    35  2022-07-13  1++B   \n",
       "\n",
       "   도체중  ...  외증조할미형매 등심단면적 평균  외증조할미형매 등지방 평균  외증조할미형매 근내지방 평균  외증조할미형매 마릿수  \\\n",
       "0  423  ...             84.17           14.33              4.0            6   \n",
       "1  459  ...             93.33           13.00              5.0            3   \n",
       "2  502  ...             59.00           11.00              5.5            2   \n",
       "3  331  ...             83.00            7.00              3.0            1   \n",
       "4  572  ...             73.50           17.00              1.5            2   \n",
       "\n",
       "   외고고조할미 이표번호  외증조할미형매 도체중 평균.1  외증조할미형매 등심단면적 평균.1  외증조할미형매 등지방 평균.1  \\\n",
       "0    191430013             367.0                81.0              8.00   \n",
       "1    195655634             428.0                91.0             18.67   \n",
       "2    111579762             357.0                84.5             18.00   \n",
       "3    175535796             347.0                87.0             15.00   \n",
       "4    195224694             332.0                79.0             20.00   \n",
       "\n",
       "   외증조할미형매 근내지방 평균.1  외증조할미형매 마릿수.1  \n",
       "0               4.00              1  \n",
       "1               6.33              3  \n",
       "2               4.00              2  \n",
       "3               3.00              1  \n",
       "4               5.00              3  \n",
       "\n",
       "[5 rows x 47 columns]"
      ]
     },
     "execution_count": 5,
     "metadata": {},
     "output_type": "execute_result"
    }
   ],
   "source": [
    "# 확인\n",
    "a1 = pd.read_excel('근내지방5_0.xlsx')\n",
    "a1.head()"
   ]
  },
  {
   "cell_type": "code",
   "execution_count": 6,
   "metadata": {},
   "outputs": [
    {
     "data": {
      "text/plain": [
       "['근내지방5_0.xlsx',\n",
       " '근내지방5_1.xlsx',\n",
       " '근내지방5_2.xlsx',\n",
       " '근내지방5_3.xlsx',\n",
       " '근내지방5_4.xlsx',\n",
       " '근내지방5_5.xlsx',\n",
       " '근내지방5_6.xlsx',\n",
       " '근내지방5_7.xlsx',\n",
       " '근내지방5_8.xlsx']"
      ]
     },
     "execution_count": 6,
     "metadata": {},
     "output_type": "execute_result"
    }
   ],
   "source": [
    "# 파일이 존재하는 경로 불러오기 및 리스트\n",
    "path = os.getcwd()\n",
    "file_lst = os.listdir(path)# 파일 이름 담기\n",
    "file_lst"
   ]
  },
  {
   "attachments": {},
   "cell_type": "markdown",
   "metadata": {},
   "source": [
    "##### ↓ 반복문으로 파일 불러오면서, 하나의 DataFrame으로 합침 "
   ]
  },
  {
   "cell_type": "code",
   "execution_count": 13,
   "metadata": {},
   "outputs": [],
   "source": [
    "df_5 = pd.DataFrame()\n",
    "for i in file_lst:\n",
    "    data_5 = pd.read_excel(path +'/'+i)\n",
    "    df_5 = pd.concat([df_5, data_5])\n",
    "    \n",
    "df_5 = df_5.reset_index(drop = True)"
   ]
  },
  {
   "cell_type": "code",
   "execution_count": 14,
   "metadata": {},
   "outputs": [
    {
     "name": "stdout",
     "output_type": "stream",
     "text": [
      "(4388, 47)\n"
     ]
    },
    {
     "data": {
      "text/html": [
       "<div>\n",
       "<style scoped>\n",
       "    .dataframe tbody tr th:only-of-type {\n",
       "        vertical-align: middle;\n",
       "    }\n",
       "\n",
       "    .dataframe tbody tr th {\n",
       "        vertical-align: top;\n",
       "    }\n",
       "\n",
       "    .dataframe thead th {\n",
       "        text-align: right;\n",
       "    }\n",
       "</style>\n",
       "<table border=\"1\" class=\"dataframe\">\n",
       "  <thead>\n",
       "    <tr style=\"text-align: right;\">\n",
       "      <th></th>\n",
       "      <th>이표번호</th>\n",
       "      <th>KPN</th>\n",
       "      <th>성별</th>\n",
       "      <th>출생일</th>\n",
       "      <th>농가코드</th>\n",
       "      <th>농가등급</th>\n",
       "      <th>도축개월</th>\n",
       "      <th>도축일</th>\n",
       "      <th>등급</th>\n",
       "      <th>도체중</th>\n",
       "      <th>...</th>\n",
       "      <th>외증조할미형매 등심단면적 평균</th>\n",
       "      <th>외증조할미형매 등지방 평균</th>\n",
       "      <th>외증조할미형매 근내지방 평균</th>\n",
       "      <th>외증조할미형매 마릿수</th>\n",
       "      <th>외고고조할미 이표번호</th>\n",
       "      <th>외증조할미형매 도체중 평균.1</th>\n",
       "      <th>외증조할미형매 등심단면적 평균.1</th>\n",
       "      <th>외증조할미형매 등지방 평균.1</th>\n",
       "      <th>외증조할미형매 근내지방 평균.1</th>\n",
       "      <th>외증조할미형매 마릿수.1</th>\n",
       "    </tr>\n",
       "  </thead>\n",
       "  <tbody>\n",
       "    <tr>\n",
       "      <th>0</th>\n",
       "      <td>2153702904</td>\n",
       "      <td>KPN1159</td>\n",
       "      <td>암</td>\n",
       "      <td>2020-07-10</td>\n",
       "      <td>471813</td>\n",
       "      <td>1+B</td>\n",
       "      <td>31</td>\n",
       "      <td>2023-01-26</td>\n",
       "      <td>1+B</td>\n",
       "      <td>423</td>\n",
       "      <td>...</td>\n",
       "      <td>84.17</td>\n",
       "      <td>14.33</td>\n",
       "      <td>4.0</td>\n",
       "      <td>6</td>\n",
       "      <td>191430013</td>\n",
       "      <td>367.0</td>\n",
       "      <td>81.0</td>\n",
       "      <td>8.00</td>\n",
       "      <td>4.00</td>\n",
       "      <td>1</td>\n",
       "    </tr>\n",
       "    <tr>\n",
       "      <th>1</th>\n",
       "      <td>2151092783</td>\n",
       "      <td>KPN1124</td>\n",
       "      <td>거세</td>\n",
       "      <td>2020-05-04</td>\n",
       "      <td>465561</td>\n",
       "      <td>1+B</td>\n",
       "      <td>31</td>\n",
       "      <td>2022-11-28</td>\n",
       "      <td>1A</td>\n",
       "      <td>459</td>\n",
       "      <td>...</td>\n",
       "      <td>93.33</td>\n",
       "      <td>13.00</td>\n",
       "      <td>5.0</td>\n",
       "      <td>3</td>\n",
       "      <td>195655634</td>\n",
       "      <td>428.0</td>\n",
       "      <td>91.0</td>\n",
       "      <td>18.67</td>\n",
       "      <td>6.33</td>\n",
       "      <td>3</td>\n",
       "    </tr>\n",
       "    <tr>\n",
       "      <th>2</th>\n",
       "      <td>2152856190</td>\n",
       "      <td>KPN1243</td>\n",
       "      <td>거세</td>\n",
       "      <td>2020-06-03</td>\n",
       "      <td>463150</td>\n",
       "      <td>1+C</td>\n",
       "      <td>32</td>\n",
       "      <td>2023-01-13</td>\n",
       "      <td>1+B</td>\n",
       "      <td>502</td>\n",
       "      <td>...</td>\n",
       "      <td>59.00</td>\n",
       "      <td>11.00</td>\n",
       "      <td>5.5</td>\n",
       "      <td>2</td>\n",
       "      <td>111579762</td>\n",
       "      <td>357.0</td>\n",
       "      <td>84.5</td>\n",
       "      <td>18.00</td>\n",
       "      <td>4.00</td>\n",
       "      <td>2</td>\n",
       "    </tr>\n",
       "    <tr>\n",
       "      <th>3</th>\n",
       "      <td>2132846585</td>\n",
       "      <td>KPN1078</td>\n",
       "      <td>암</td>\n",
       "      <td>2018-07-29</td>\n",
       "      <td>349362</td>\n",
       "      <td>1+C</td>\n",
       "      <td>54</td>\n",
       "      <td>2023-01-02</td>\n",
       "      <td>1+B</td>\n",
       "      <td>331</td>\n",
       "      <td>...</td>\n",
       "      <td>83.00</td>\n",
       "      <td>7.00</td>\n",
       "      <td>3.0</td>\n",
       "      <td>1</td>\n",
       "      <td>175535796</td>\n",
       "      <td>347.0</td>\n",
       "      <td>87.0</td>\n",
       "      <td>15.00</td>\n",
       "      <td>3.00</td>\n",
       "      <td>1</td>\n",
       "    </tr>\n",
       "    <tr>\n",
       "      <th>4</th>\n",
       "      <td>2143085535</td>\n",
       "      <td>KPN1060</td>\n",
       "      <td>거세</td>\n",
       "      <td>2019-08-27</td>\n",
       "      <td>227596</td>\n",
       "      <td>1+C</td>\n",
       "      <td>35</td>\n",
       "      <td>2022-07-13</td>\n",
       "      <td>1++B</td>\n",
       "      <td>572</td>\n",
       "      <td>...</td>\n",
       "      <td>73.50</td>\n",
       "      <td>17.00</td>\n",
       "      <td>1.5</td>\n",
       "      <td>2</td>\n",
       "      <td>195224694</td>\n",
       "      <td>332.0</td>\n",
       "      <td>79.0</td>\n",
       "      <td>20.00</td>\n",
       "      <td>5.00</td>\n",
       "      <td>3</td>\n",
       "    </tr>\n",
       "  </tbody>\n",
       "</table>\n",
       "<p>5 rows × 47 columns</p>\n",
       "</div>"
      ],
      "text/plain": [
       "         이표번호      KPN  성별         출생일    농가코드 농가등급  도축개월         도축일    등급  \\\n",
       "0  2153702904  KPN1159   암  2020-07-10  471813  1+B    31  2023-01-26   1+B   \n",
       "1  2151092783  KPN1124  거세  2020-05-04  465561  1+B    31  2022-11-28    1A   \n",
       "2  2152856190  KPN1243  거세  2020-06-03  463150  1+C    32  2023-01-13   1+B   \n",
       "3  2132846585  KPN1078   암  2018-07-29  349362  1+C    54  2023-01-02   1+B   \n",
       "4  2143085535  KPN1060  거세  2019-08-27  227596  1+C    35  2022-07-13  1++B   \n",
       "\n",
       "   도체중  ...  외증조할미형매 등심단면적 평균  외증조할미형매 등지방 평균  외증조할미형매 근내지방 평균  외증조할미형매 마릿수  \\\n",
       "0  423  ...             84.17           14.33              4.0            6   \n",
       "1  459  ...             93.33           13.00              5.0            3   \n",
       "2  502  ...             59.00           11.00              5.5            2   \n",
       "3  331  ...             83.00            7.00              3.0            1   \n",
       "4  572  ...             73.50           17.00              1.5            2   \n",
       "\n",
       "   외고고조할미 이표번호  외증조할미형매 도체중 평균.1  외증조할미형매 등심단면적 평균.1  외증조할미형매 등지방 평균.1  \\\n",
       "0    191430013             367.0                81.0              8.00   \n",
       "1    195655634             428.0                91.0             18.67   \n",
       "2    111579762             357.0                84.5             18.00   \n",
       "3    175535796             347.0                87.0             15.00   \n",
       "4    195224694             332.0                79.0             20.00   \n",
       "\n",
       "   외증조할미형매 근내지방 평균.1  외증조할미형매 마릿수.1  \n",
       "0               4.00              1  \n",
       "1               6.33              3  \n",
       "2               4.00              2  \n",
       "3               3.00              1  \n",
       "4               5.00              3  \n",
       "\n",
       "[5 rows x 47 columns]"
      ]
     },
     "execution_count": 14,
     "metadata": {},
     "output_type": "execute_result"
    }
   ],
   "source": [
    "# 확인\n",
    "print(df_5.shape)\n",
    "df_5.head()"
   ]
  },
  {
   "cell_type": "markdown",
   "metadata": {},
   "source": [
    "##### 변수명 재설정"
   ]
  },
  {
   "cell_type": "code",
   "execution_count": 16,
   "metadata": {},
   "outputs": [
    {
     "data": {
      "text/plain": [
       "Index(['이표번호', 'KPN', '성별', '출생일', '농가코드', '농가등급', '도축개월', '도축일', '등급', '도체중',\n",
       "       '등심단면적', '등지방두께', '근내지방도', '육색', '지방색', '성숙도', '조직도', '어미 이표번호',\n",
       "       '형매 도체중 평균', '형매 등심단면적 평균', '형매 등지방 평균', '형매 근내지방 평균', '형매 마릿수',\n",
       "       '외할미 이표번호', '어미형매 도체중 평균', '어미형매 등심단면적 평균', '어미형매 등지방 평균',\n",
       "       '어미형매 근내지방 평균', '어미형매 마릿수', '외증조할미 이표번호', '외할미형매 도체중 평균',\n",
       "       '외할미형매 등심단면적 평균', '외할미형매 등지방 평균', '외할미형매 근내지방 평균', '외할미형매 마릿수',\n",
       "       '외고조할미 이표번호', '외증조할미형매 도체중 평균', '외증조할미형매 등심단면적 평균', '외증조할미형매 등지방 평균',\n",
       "       '외증조할미형매 근내지방 평균', '외증조할미형매 마릿수', '외고고조할미 이표번호', '외증조할미형매 도체중 평균.1',\n",
       "       '외증조할미형매 등심단면적 평균.1', '외증조할미형매 등지방 평균.1', '외증조할미형매 근내지방 평균.1',\n",
       "       '외증조할미형매 마릿수.1'],\n",
       "      dtype='object')"
      ]
     },
     "execution_count": 16,
     "metadata": {},
     "output_type": "execute_result"
    }
   ],
   "source": [
    "df_5.columns"
   ]
  },
  {
   "cell_type": "code",
   "execution_count": 17,
   "metadata": {},
   "outputs": [],
   "source": [
    "# 원래 변수명\n",
    "df_5_c = df_5.copy()\n",
    "df_5.columns = ['이표번호', 'KPN', '성별', '출생일', '농가코드', '농가등급', '도축개월', '도축일', '등급', '도체중',\n",
    "       '등심단면적', '등지방두께', '근내지방도', '육색', '지방색', '성숙도', '조직도', '어미 이표번호',\n",
    "       '형매 도체중 평균', '형매 등심단면적 평균', '형매 등지방 평균', '형매 근내지방 평균', '형매 마릿수',\n",
    "       '외할미 이표번호', '어미형매 도체중 평균', '어미형매 등심단면적 평균', '어미형매 등지방 평균',\n",
    "       '어미형매 근내지방 평균', '어미형매 마릿수', '외증조할미 이표번호', '외할미형매 도체중 평균',\n",
    "       '외할미형매 등심단면적 평균', '외할미형매 등지방 평균', '외할미형매 근내지방 평균', '외할미형매 마릿수',\n",
    "       '외고조할미 이표번호', '외증조할미형매 도체중 평균', '외증조할미형매 등심단면적 평균', '외증조할미형매 등지방 평균',\n",
    "       '외증조할미형매 근내지방 평균', '외증조할미형매 마릿수', '외고고조할미 이표번호', '외고조할미형매_도체중_평균', '외고조할미형매_등심단면적_평균', '외고조할미형매_등지방_평균', '외고조할미형매_근내지방_평균',\n",
    "    '외고조할미형매_마릿수'\n",
    "]"
   ]
  },
  {
   "cell_type": "code",
   "execution_count": 18,
   "metadata": {},
   "outputs": [
    {
     "data": {
      "text/plain": [
       "Index(['이표번호', 'KPN', '성별', '출생일', '농가코드', '농가등급', '도축개월', '도축일', '등급', '도체중',\n",
       "       '등심단면적', '등지방두께', '근내지방도', '육색', '지방색', '성숙도', '조직도', '어미 이표번호',\n",
       "       '형매 도체중 평균', '형매 등심단면적 평균', '형매 등지방 평균', '형매 근내지방 평균', '형매 마릿수',\n",
       "       '외할미 이표번호', '어미형매 도체중 평균', '어미형매 등심단면적 평균', '어미형매 등지방 평균',\n",
       "       '어미형매 근내지방 평균', '어미형매 마릿수', '외증조할미 이표번호', '외할미형매 도체중 평균',\n",
       "       '외할미형매 등심단면적 평균', '외할미형매 등지방 평균', '외할미형매 근내지방 평균', '외할미형매 마릿수',\n",
       "       '외고조할미 이표번호', '외증조할미형매 도체중 평균', '외증조할미형매 등심단면적 평균', '외증조할미형매 등지방 평균',\n",
       "       '외증조할미형매 근내지방 평균', '외증조할미형매 마릿수', '외고고조할미 이표번호', '외고조할미형매_도체중_평균',\n",
       "       '외고조할미형매_등심단면적_평균', '외고조할미형매_등지방_평균', '외고조할미형매_근내지방_평균', '외고조할미형매_마릿수'],\n",
       "      dtype='object')"
      ]
     },
     "execution_count": 18,
     "metadata": {},
     "output_type": "execute_result"
    }
   ],
   "source": [
    "df_5.columns"
   ]
  },
  {
   "cell_type": "code",
   "execution_count": 24,
   "metadata": {},
   "outputs": [
    {
     "name": "stdout",
     "output_type": "stream",
     "text": [
      "변경 후 변수명 : ['외고조할미형매_근내지방_평균' '외고조할미형매_도체중_평균' '외고조할미형매_등심단면적_평균' '외고조할미형매_등지방_평균'\n",
      " '외고조할미형매_마릿수']\n",
      "변경 전 변수명 : ['외증조할미형매 근내지방 평균.1' '외증조할미형매 도체중 평균.1' '외증조할미형매 등심단면적 평균.1'\n",
      " '외증조할미형매 등지방 평균.1' '외증조할미형매 마릿수.1']\n"
     ]
    }
   ],
   "source": [
    "# 원 데이터와 변수명 변경 후 데이터 차이 확인\n",
    "# numpy의 setdiff1d(a, b)를 이용해서, a와 b를 비교하여 b에 없는 것 확인\n",
    "print(f'변경 후 변수명 : {np.setdiff1d(df_5.columns, df_5_c.columns)}')\n",
    "print(f'변경 전 변수명 : {np.setdiff1d(df_5_c.columns, df_5.columns)}')"
   ]
  },
  {
   "cell_type": "code",
   "execution_count": 25,
   "metadata": {},
   "outputs": [
    {
     "data": {
      "text/plain": [
       "거세    2871\n",
       "암     1517\n",
       "Name: 성별, dtype: int64"
      ]
     },
     "execution_count": 25,
     "metadata": {},
     "output_type": "execute_result"
    }
   ],
   "source": [
    "df_5.성별.value_counts()"
   ]
  },
  {
   "cell_type": "code",
   "execution_count": 27,
   "metadata": {},
   "outputs": [
    {
     "data": {
      "text/plain": [
       "거세    264\n",
       "암     206\n",
       "Name: 성별, dtype: int64"
      ]
     },
     "execution_count": 27,
     "metadata": {},
     "output_type": "execute_result"
    }
   ],
   "source": [
    "a1.성별.value_counts()"
   ]
  },
  {
   "attachments": {},
   "cell_type": "markdown",
   "metadata": {},
   "source": [
    "##### 성별 및 근내지방도 변수변환\n",
    "> <p> <span style = 'color : orange' > 성별 : {F:암, N_M:거세} <span> </p>\n",
    "> <p> <span style = 'color : orange' > 근내지방도 : {1 : (7~9), 0: (1~6)} <span> </p>"
   ]
  },
  {
   "cell_type": "code",
   "execution_count": 34,
   "metadata": {},
   "outputs": [
    {
     "name": "stdout",
     "output_type": "stream",
     "text": [
      "변경 전 성별 unique 및 counts\n",
      "거세    2871\n",
      "암     1517\n",
      "Name: 성별, dtype: int64\n",
      "\n",
      "\n",
      "변경 후 성별 unique 및 counts\n",
      "N_M    2871\n",
      "F      1517\n",
      "Name: 성별, dtype: int64\n"
     ]
    }
   ],
   "source": [
    "# 성별 암, 거세 => F, N_M 변환\n",
    "df_5.성별 = df_5.성별.apply(lambda x: 'F' if x == '암' else 'N_M' if x =='거세' else x )\n",
    "print('변경 전 성별 unique 및 counts')\n",
    "print(df_5_c.성별.value_counts())\n",
    "print('\\n')\n",
    "print('변경 후 성별 unique 및 counts')\n",
    "print(df_5.성별.value_counts())"
   ]
  },
  {
   "cell_type": "code",
   "execution_count": 35,
   "metadata": {},
   "outputs": [
    {
     "name": "stdout",
     "output_type": "stream",
     "text": [
      "변경 전 근내지방도 unique 및 counts\n",
      "6.0    1211\n",
      "4.0     641\n",
      "7.0     483\n",
      "5.0     480\n",
      "9.0     445\n",
      "8.0     443\n",
      "3.0     334\n",
      "2.0     268\n",
      "1.0      76\n",
      "Name: 근내지방도, dtype: int64\n",
      "\n",
      "\n",
      "변경 후 근내지방도 unique 및 counts\n",
      "0.0    3010\n",
      "1.0    1371\n",
      "Name: 근내지방도, dtype: int64\n"
     ]
    }
   ],
   "source": [
    "# 근내지방도 0, 1 변경\n",
    "df_5['근내지방도'] = df_5['근내지방도'].apply(lambda x: 1 if x >= 7 else 0 if x < 7 else x)\n",
    "print('변경 전 근내지방도 unique 및 counts')\n",
    "print(df_5_c.근내지방도.value_counts())\n",
    "print('\\n')\n",
    "print('변경 후 근내지방도 unique 및 counts')\n",
    "print(df_5.근내지방도.value_counts())"
   ]
  },
  {
   "cell_type": "code",
   "execution_count": 40,
   "metadata": {},
   "outputs": [],
   "source": [
    "df_5.to_csv('../소_5대 정리/5_total_utf.csv', index= False)"
   ]
  },
  {
   "cell_type": "markdown",
   "metadata": {},
   "source": [
    "#### Data import"
   ]
  },
  {
   "cell_type": "code",
   "execution_count": 3,
   "metadata": {},
   "outputs": [
    {
     "data": {
      "text/plain": [
       "'c:\\\\Users\\\\Owner\\\\Desktop\\\\윤태준\\\\소\\\\3차 요청자료\\\\소_5대 정리'"
      ]
     },
     "execution_count": 3,
     "metadata": {},
     "output_type": "execute_result"
    }
   ],
   "source": [
    "# path\n",
    "os.chdir('./3차 요청자료/소_5대 정리')\n",
    "os.getcwd()"
   ]
  },
  {
   "cell_type": "code",
   "execution_count": 4,
   "metadata": {},
   "outputs": [],
   "source": [
    "full_df = pd.read_csv('5_total_cp.csv', encoding='cp949')"
   ]
  },
  {
   "attachments": {},
   "cell_type": "markdown",
   "metadata": {},
   "source": [
    "#### 농가 분류를 위한 작업\n",
    "> 1. 농가 id 고유값 확인\n",
    "> 2. 농가 id에 따른 등급이 있는데, 각 id별 farm_class가 동일한지 확인"
   ]
  },
  {
   "cell_type": "code",
   "execution_count": 5,
   "metadata": {},
   "outputs": [
    {
     "name": "stdout",
     "output_type": "stream",
     "text": [
      "(4388, 47)\n",
      "농가_id, unique 개수:2957\n",
      "\n",
      "\n",
      "73569     22\n",
      "228166    15\n",
      "407775    14\n",
      "75021     13\n",
      "124549    12\n",
      "          ..\n",
      "375557     1\n",
      "87562      1\n",
      "450045     1\n",
      "86732      1\n",
      "379072     1\n",
      "Name: farm_id, Length: 2957, dtype: int64\n"
     ]
    }
   ],
   "source": [
    "print(full_df.shape)\n",
    "print(f'농가_id, unique 개수:{len(full_df.farm_id.unique())}')\n",
    "print('\\n')\n",
    "print(full_df.farm_id.value_counts())"
   ]
  },
  {
   "cell_type": "code",
   "execution_count": 6,
   "metadata": {},
   "outputs": [
    {
     "name": "stdout",
     "output_type": "stream",
     "text": [
      "73569농가의 등급\n",
      "657     1+C\n",
      "792     1+C\n",
      "3871    1+C\n",
      "3872    1+C\n",
      "3873    1+C\n",
      "Name: farm_class, dtype: object\n",
      "4082    1+C\n",
      "4083    1+C\n",
      "4084    1+C\n",
      "4085    1+C\n",
      "4086    1+C\n",
      "Name: farm_class, dtype: object\n",
      "\n",
      "\n",
      "228166농가의 등급\n",
      "104     1+B\n",
      "1454    1+B\n",
      "1822    1+B\n",
      "1828    1+B\n",
      "1847    1+B\n",
      "Name: farm_class, dtype: object\n",
      "2161    1+B\n",
      "3672    1+B\n",
      "3728    1+B\n",
      "3788    1+B\n",
      "4307    1+B\n",
      "Name: farm_class, dtype: object\n"
     ]
    }
   ],
   "source": [
    "print('73569농가의 등급')\n",
    "print(full_df[full_df['farm_id']==73569]['farm_class'].head())\n",
    "print(full_df[full_df['farm_id']==73569]['farm_class'].tail())\n",
    "print('\\n')\n",
    "print('228166농가의 등급')\n",
    "print(full_df[full_df['farm_id']==228166]['farm_class'].head())\n",
    "print(full_df[full_df['farm_id']==228166]['farm_class'].tail())"
   ]
  },
  {
   "cell_type": "code",
   "execution_count": 7,
   "metadata": {},
   "outputs": [],
   "source": [
    "# 농가 id별 class 최빈값\n",
    "a1 = full_df.groupby('farm_id')['farm_class'].agg(**{\n",
    "    'most_common_value':lambda x:x.mode()\n",
    "}).reset_index()"
   ]
  },
  {
   "cell_type": "markdown",
   "metadata": {},
   "source": [
    "#### 농가 id별 target 평균"
   ]
  },
  {
   "cell_type": "code",
   "execution_count": 8,
   "metadata": {},
   "outputs": [],
   "source": [
    "gr_target = full_df.groupby(['farm_id'])['target'].agg(**{'mean_target':'mean'}).reset_index()\n",
    "\n",
    "# 소숫점 2자리까지 반올림\n",
    "gr_target.mean_target = gr_target.mean_target.round(2)"
   ]
  },
  {
   "cell_type": "code",
   "execution_count": 9,
   "metadata": {},
   "outputs": [
    {
     "name": "stdout",
     "output_type": "stream",
     "text": [
      "      farm_id  mean_target\n",
      "0        1605          1.0\n",
      "2664   452678          1.0\n",
      "2372   436357          1.0\n",
      "2370   436312          1.0\n",
      "932    227473          1.0\n"
     ]
    }
   ],
   "source": [
    "# 내림차순 정렬 및 원래 농가 등급을 id별로 붙여 넣어 비교해보기\n",
    "\n",
    "# 1. target 평균 기준으로 내림차순 정렬\n",
    "gr_t = gr_target.copy()\n",
    "gr_t.sort_values('mean_target', ascending=False, inplace=True)\n",
    "print(gr_t.head())\n",
    "\n",
    "# 2. target 평균 값과 비교하여 농가 등급이 진짜 우수한지, 원 데이터의 농가 등급 변수를 추가하기\n",
    "farm = full_df[['farm_id', 'farm_class']].reset_index()\n",
    "df_mer = pd.merge(gr_t, farm, how='left', left_on= 'farm_id', right_on='farm_id')"
   ]
  }
 ],
 "metadata": {
  "kernelspec": {
   "display_name": "'venv1'",
   "language": "python",
   "name": "conda"
  },
  "language_info": {
   "codemirror_mode": {
    "name": "ipython",
    "version": 3
   },
   "file_extension": ".py",
   "mimetype": "text/x-python",
   "name": "python",
   "nbconvert_exporter": "python",
   "pygments_lexer": "ipython3",
   "version": "3.7.4"
  },
  "orig_nbformat": 4,
  "vscode": {
   "interpreter": {
    "hash": "544c7e72ceabb8b5baf00146d00b7c3a5bfd60d2cf41bb549c5c035fb33480da"
   }
  }
 },
 "nbformat": 4,
 "nbformat_minor": 2
}
