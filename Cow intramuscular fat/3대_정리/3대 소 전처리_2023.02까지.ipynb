{
 "cells": [
  {
   "cell_type": "markdown",
   "metadata": {},
   "source": [
    "#### Module import"
   ]
  },
  {
   "cell_type": "code",
   "execution_count": 2,
   "metadata": {},
   "outputs": [],
   "source": [
    "import pandas as pd\n",
    "import os\n",
    "import numpy as np\n",
    "from sklearn.model_selection import train_test_split # Data Split\n",
    "import statsmodels.api as sm\n",
    "import matplotlib.pyplot as plt\n",
    "import seaborn as sns"
   ]
  },
  {
   "cell_type": "code",
   "execution_count": 7,
   "metadata": {},
   "outputs": [],
   "source": [
    "from matplotlib import font_manager, rc\n",
    "font_path = \"C:/Windows/Fonts/NGULIM.TTF\"\n",
    "font = font_manager.FontProperties(fname=font_path).get_name()\n",
    "rc('font', family=font)"
   ]
  },
  {
   "cell_type": "code",
   "execution_count": 3,
   "metadata": {},
   "outputs": [
    {
     "data": {
      "text/plain": [
       "'c:\\\\Users\\\\Owner\\\\Desktop\\\\윤태준\\\\소'"
      ]
     },
     "execution_count": 3,
     "metadata": {},
     "output_type": "execute_result"
    }
   ],
   "source": [
    "os.getcwd()"
   ]
  },
  {
   "attachments": {},
   "cell_type": "markdown",
   "metadata": {},
   "source": [
    "##### Path"
   ]
  },
  {
   "cell_type": "code",
   "execution_count": 4,
   "metadata": {},
   "outputs": [
    {
     "data": {
      "text/plain": [
       "'c:\\\\Users\\\\Owner\\\\Desktop\\\\윤태준\\\\소\\\\3차 요청자료\\\\소_3대 정리'"
      ]
     },
     "execution_count": 4,
     "metadata": {},
     "output_type": "execute_result"
    }
   ],
   "source": [
    "os.chdir('./3차 요청자료/소_3대 정리')\n",
    "os.getcwd()"
   ]
  },
  {
   "cell_type": "code",
   "execution_count": 3,
   "metadata": {},
   "outputs": [
    {
     "data": {
      "text/plain": [
       "'c:\\\\Users\\\\Owner\\\\Desktop\\\\윤태준\\\\소\\\\3차 요청자료\\\\2023-02-07근내지방_3'"
      ]
     },
     "execution_count": 3,
     "metadata": {},
     "output_type": "execute_result"
    }
   ],
   "source": [
    "os.chdir('./3차 요청자료/2023-02-07근내지방_3')\n",
    "os.getcwd()"
   ]
  },
  {
   "attachments": {},
   "cell_type": "markdown",
   "metadata": {},
   "source": [
    "##### Check\n",
    "> 또 마지막 변수명 외증조로 중복돼있음, 일단 파일 한번에 불러서 합친 다음 변수명 다시 바꾸기"
   ]
  },
  {
   "cell_type": "code",
   "execution_count": 5,
   "metadata": {},
   "outputs": [
    {
     "data": {
      "text/plain": [
       "['근내지방3_0.xlsx',\n",
       " '근내지방3_1.xlsx',\n",
       " '근내지방3_2.xlsx',\n",
       " '근내지방3_3.xlsx',\n",
       " '근내지방3_4.xlsx',\n",
       " '근내지방3_5.xlsx',\n",
       " '근내지방3_6.xlsx',\n",
       " '근내지방3_7.xlsx']"
      ]
     },
     "execution_count": 5,
     "metadata": {},
     "output_type": "execute_result"
    }
   ],
   "source": [
    "# 파일이 존재하는 경로 불러오기 및 리스트\n",
    "path = 'C:/Users/Owner/Desktop/윤태준/소/3차 요청자료/2023-02-07근내지방_3'\n",
    "file_lst = os.listdir(path)# 파일 이름 담기\n",
    "file_lst"
   ]
  },
  {
   "attachments": {},
   "cell_type": "markdown",
   "metadata": {},
   "source": [
    "##### ↓ 반복문으로 파일 불러오면서, 하나의 DataFrame으로 합침 "
   ]
  },
  {
   "cell_type": "code",
   "execution_count": 10,
   "metadata": {},
   "outputs": [],
   "source": [
    "df_3 = pd.DataFrame()\n",
    "for i in file_lst:\n",
    "    data_3 = pd.read_excel(path +'/'+i)\n",
    "    df_3 = pd.concat([df_3, data_3])\n",
    "    \n",
    "df_3 = df_3.reset_index(drop = True)"
   ]
  },
  {
   "cell_type": "code",
   "execution_count": 12,
   "metadata": {},
   "outputs": [
    {
     "name": "stdout",
     "output_type": "stream",
     "text": [
      "(110345, 47)\n"
     ]
    },
    {
     "data": {
      "text/html": [
       "<div>\n",
       "<style scoped>\n",
       "    .dataframe tbody tr th:only-of-type {\n",
       "        vertical-align: middle;\n",
       "    }\n",
       "\n",
       "    .dataframe tbody tr th {\n",
       "        vertical-align: top;\n",
       "    }\n",
       "\n",
       "    .dataframe thead th {\n",
       "        text-align: right;\n",
       "    }\n",
       "</style>\n",
       "<table border=\"1\" class=\"dataframe\">\n",
       "  <thead>\n",
       "    <tr style=\"text-align: right;\">\n",
       "      <th></th>\n",
       "      <th>이표번호</th>\n",
       "      <th>KPN</th>\n",
       "      <th>성별</th>\n",
       "      <th>출생일</th>\n",
       "      <th>농가코드</th>\n",
       "      <th>농가등급</th>\n",
       "      <th>도축개월</th>\n",
       "      <th>도축일</th>\n",
       "      <th>등급</th>\n",
       "      <th>도체중</th>\n",
       "      <th>...</th>\n",
       "      <th>외증조할미형매 등심단면적 평균</th>\n",
       "      <th>외증조할미형매 등지방 평균</th>\n",
       "      <th>외증조할미형매 근내지방 평균</th>\n",
       "      <th>외증조할미형매 마릿수</th>\n",
       "      <th>외고고조할미 이표번호</th>\n",
       "      <th>외증조할미형매 도체중 평균.1</th>\n",
       "      <th>외증조할미형매 등심단면적 평균.1</th>\n",
       "      <th>외증조할미형매 등지방 평균.1</th>\n",
       "      <th>외증조할미형매 근내지방 평균.1</th>\n",
       "      <th>외증조할미형매 마릿수.1</th>\n",
       "    </tr>\n",
       "  </thead>\n",
       "  <tbody>\n",
       "    <tr>\n",
       "      <th>0</th>\n",
       "      <td>2137173111</td>\n",
       "      <td>KPN1053</td>\n",
       "      <td>암</td>\n",
       "      <td>2019-03-28</td>\n",
       "      <td>398841</td>\n",
       "      <td>1+C</td>\n",
       "      <td>42</td>\n",
       "      <td>2022-09-21</td>\n",
       "      <td>1B</td>\n",
       "      <td>374</td>\n",
       "      <td>...</td>\n",
       "      <td>89.00</td>\n",
       "      <td>16.33</td>\n",
       "      <td>2.33</td>\n",
       "      <td>3</td>\n",
       "      <td>198856328.0</td>\n",
       "      <td>0.0</td>\n",
       "      <td>0.0</td>\n",
       "      <td>0.0</td>\n",
       "      <td>0.0</td>\n",
       "      <td>0</td>\n",
       "    </tr>\n",
       "    <tr>\n",
       "      <th>1</th>\n",
       "      <td>2150109802</td>\n",
       "      <td>KPN1060</td>\n",
       "      <td>거세</td>\n",
       "      <td>2020-04-28</td>\n",
       "      <td>263150</td>\n",
       "      <td>1A</td>\n",
       "      <td>28</td>\n",
       "      <td>2022-08-22</td>\n",
       "      <td>1++C</td>\n",
       "      <td>524</td>\n",
       "      <td>...</td>\n",
       "      <td>83.33</td>\n",
       "      <td>13.67</td>\n",
       "      <td>6.00</td>\n",
       "      <td>3</td>\n",
       "      <td>172418108.0</td>\n",
       "      <td>0.0</td>\n",
       "      <td>0.0</td>\n",
       "      <td>0.0</td>\n",
       "      <td>0.0</td>\n",
       "      <td>0</td>\n",
       "    </tr>\n",
       "    <tr>\n",
       "      <th>2</th>\n",
       "      <td>2133835356</td>\n",
       "      <td>KPN1099</td>\n",
       "      <td>암</td>\n",
       "      <td>2018-09-28</td>\n",
       "      <td>189147</td>\n",
       "      <td>1A</td>\n",
       "      <td>52</td>\n",
       "      <td>2023-01-03</td>\n",
       "      <td>1A</td>\n",
       "      <td>333</td>\n",
       "      <td>...</td>\n",
       "      <td>0.00</td>\n",
       "      <td>0.00</td>\n",
       "      <td>0.00</td>\n",
       "      <td>0</td>\n",
       "      <td>NaN</td>\n",
       "      <td>0.0</td>\n",
       "      <td>0.0</td>\n",
       "      <td>0.0</td>\n",
       "      <td>0.0</td>\n",
       "      <td>0</td>\n",
       "    </tr>\n",
       "    <tr>\n",
       "      <th>3</th>\n",
       "      <td>2156452289</td>\n",
       "      <td>KPN1284</td>\n",
       "      <td>암</td>\n",
       "      <td>2020-11-18</td>\n",
       "      <td>451221</td>\n",
       "      <td>1A</td>\n",
       "      <td>27</td>\n",
       "      <td>2023-01-26</td>\n",
       "      <td>1A</td>\n",
       "      <td>372</td>\n",
       "      <td>...</td>\n",
       "      <td>0.00</td>\n",
       "      <td>0.00</td>\n",
       "      <td>0.00</td>\n",
       "      <td>0</td>\n",
       "      <td>NaN</td>\n",
       "      <td>0.0</td>\n",
       "      <td>0.0</td>\n",
       "      <td>0.0</td>\n",
       "      <td>0.0</td>\n",
       "      <td>0</td>\n",
       "    </tr>\n",
       "    <tr>\n",
       "      <th>4</th>\n",
       "      <td>2147835365</td>\n",
       "      <td>KPN1060</td>\n",
       "      <td>암</td>\n",
       "      <td>2019-10-23</td>\n",
       "      <td>190620</td>\n",
       "      <td>1A</td>\n",
       "      <td>32</td>\n",
       "      <td>2022-06-07</td>\n",
       "      <td>2A</td>\n",
       "      <td>378</td>\n",
       "      <td>...</td>\n",
       "      <td>0.00</td>\n",
       "      <td>0.00</td>\n",
       "      <td>0.00</td>\n",
       "      <td>0</td>\n",
       "      <td>NaN</td>\n",
       "      <td>0.0</td>\n",
       "      <td>0.0</td>\n",
       "      <td>0.0</td>\n",
       "      <td>0.0</td>\n",
       "      <td>0</td>\n",
       "    </tr>\n",
       "  </tbody>\n",
       "</table>\n",
       "<p>5 rows × 47 columns</p>\n",
       "</div>"
      ],
      "text/plain": [
       "         이표번호      KPN  성별         출생일    농가코드 농가등급  도축개월         도축일    등급  \\\n",
       "0  2137173111  KPN1053   암  2019-03-28  398841  1+C    42  2022-09-21    1B   \n",
       "1  2150109802  KPN1060  거세  2020-04-28  263150   1A    28  2022-08-22  1++C   \n",
       "2  2133835356  KPN1099   암  2018-09-28  189147   1A    52  2023-01-03    1A   \n",
       "3  2156452289  KPN1284   암  2020-11-18  451221   1A    27  2023-01-26    1A   \n",
       "4  2147835365  KPN1060   암  2019-10-23  190620   1A    32  2022-06-07    2A   \n",
       "\n",
       "   도체중  ...  외증조할미형매 등심단면적 평균  외증조할미형매 등지방 평균  외증조할미형매 근내지방 평균  외증조할미형매 마릿수  \\\n",
       "0  374  ...             89.00           16.33             2.33            3   \n",
       "1  524  ...             83.33           13.67             6.00            3   \n",
       "2  333  ...              0.00            0.00             0.00            0   \n",
       "3  372  ...              0.00            0.00             0.00            0   \n",
       "4  378  ...              0.00            0.00             0.00            0   \n",
       "\n",
       "   외고고조할미 이표번호  외증조할미형매 도체중 평균.1  외증조할미형매 등심단면적 평균.1  외증조할미형매 등지방 평균.1  \\\n",
       "0  198856328.0               0.0                 0.0               0.0   \n",
       "1  172418108.0               0.0                 0.0               0.0   \n",
       "2          NaN               0.0                 0.0               0.0   \n",
       "3          NaN               0.0                 0.0               0.0   \n",
       "4          NaN               0.0                 0.0               0.0   \n",
       "\n",
       "   외증조할미형매 근내지방 평균.1  외증조할미형매 마릿수.1  \n",
       "0                0.0              0  \n",
       "1                0.0              0  \n",
       "2                0.0              0  \n",
       "3                0.0              0  \n",
       "4                0.0              0  \n",
       "\n",
       "[5 rows x 47 columns]"
      ]
     },
     "execution_count": 12,
     "metadata": {},
     "output_type": "execute_result"
    }
   ],
   "source": [
    "# 확인\n",
    "print(df_3.shape)\n",
    "df_3.head()"
   ]
  },
  {
   "cell_type": "markdown",
   "metadata": {},
   "source": [
    "##### 변수명 재설정"
   ]
  },
  {
   "cell_type": "code",
   "execution_count": 13,
   "metadata": {},
   "outputs": [
    {
     "data": {
      "text/plain": [
       "Index(['이표번호', 'KPN', '성별', '출생일', '농가코드', '농가등급', '도축개월', '도축일', '등급', '도체중',\n",
       "       '등심단면적', '등지방두께', '근내지방도', '육색', '지방색', '성숙도', '조직도', '어미 이표번호',\n",
       "       '형매 도체중 평균', '형매 등심단면적 평균', '형매 등지방 평균', '형매 근내지방 평균', '형매 마릿수',\n",
       "       '외할미 이표번호', '어미형매 도체중 평균', '어미형매 등심단면적 평균', '어미형매 등지방 평균',\n",
       "       '어미형매 근내지방 평균', '어미형매 마릿수', '외증조할미 이표번호', '외할미형매 도체중 평균',\n",
       "       '외할미형매 등심단면적 평균', '외할미형매 등지방 평균', '외할미형매 근내지방 평균', '외할미형매 마릿수',\n",
       "       '외고조할미 이표번호', '외증조할미형매 도체중 평균', '외증조할미형매 등심단면적 평균', '외증조할미형매 등지방 평균',\n",
       "       '외증조할미형매 근내지방 평균', '외증조할미형매 마릿수', '외고고조할미 이표번호', '외증조할미형매 도체중 평균.1',\n",
       "       '외증조할미형매 등심단면적 평균.1', '외증조할미형매 등지방 평균.1', '외증조할미형매 근내지방 평균.1',\n",
       "       '외증조할미형매 마릿수.1'],\n",
       "      dtype='object')"
      ]
     },
     "execution_count": 13,
     "metadata": {},
     "output_type": "execute_result"
    }
   ],
   "source": [
    "df_3.columns"
   ]
  },
  {
   "cell_type": "code",
   "execution_count": 14,
   "metadata": {},
   "outputs": [],
   "source": [
    "# 원래 변수명\n",
    "df_3.columns = ['이표번호', 'KPN', '성별', '출생일', '농가코드', '농가등급', '도축개월', '도축일', '등급', '도체중',\n",
    "       '등심단면적', '등지방두께', '근내지방도', '육색', '지방색', '성숙도', '조직도', '어미 이표번호',\n",
    "       '형매 도체중 평균', '형매 등심단면적 평균', '형매 등지방 평균', '형매 근내지방 평균', '형매 마릿수',\n",
    "       '외할미 이표번호', '어미형매 도체중 평균', '어미형매 등심단면적 평균', '어미형매 등지방 평균',\n",
    "       '어미형매 근내지방 평균', '어미형매 마릿수', '외증조할미 이표번호', '외할미형매 도체중 평균',\n",
    "       '외할미형매 등심단면적 평균', '외할미형매 등지방 평균', '외할미형매 근내지방 평균', '외할미형매 마릿수',\n",
    "       '외고조할미 이표번호', '외증조할미형매 도체중 평균', '외증조할미형매 등심단면적 평균', '외증조할미형매 등지방 평균',\n",
    "       '외증조할미형매 근내지방 평균', '외증조할미형매 마릿수', '외고고조할미 이표번호', '외고조할미형매_도체중_평균', '외고조할미형매_등심단면적_평균', '외고조할미형매_등지방_평균', '외고조할미형매_근내지방_평균',\n",
    "    '외고조할미형매_마릿수'\n",
    "]"
   ]
  },
  {
   "cell_type": "code",
   "execution_count": 15,
   "metadata": {},
   "outputs": [],
   "source": [
    "cow_3 = df_3.copy()\n",
    "cow_3 = cow_3[['이표번호', 'KPN', '성별', '출생일', '농가코드', '농가등급', '도축개월', '도축일', '등급', '도체중',\n",
    "       '등심단면적', '등지방두께', '근내지방도', '육색', '지방색', '성숙도', '조직도', '어미 이표번호',\n",
    "       '형매 도체중 평균', '형매 등심단면적 평균', '형매 등지방 평균', '형매 근내지방 평균', '형매 마릿수',\n",
    "       '외할미 이표번호', '어미형매 도체중 평균', '어미형매 등심단면적 평균', '어미형매 등지방 평균',\n",
    "       '어미형매 근내지방 평균', '어미형매 마릿수', '외증조할미 이표번호', '외할미형매 도체중 평균',\n",
    "       '외할미형매 등심단면적 평균', '외할미형매 등지방 평균', '외할미형매 근내지방 평균', '외할미형매 마릿수']]"
   ]
  },
  {
   "cell_type": "code",
   "execution_count": 16,
   "metadata": {},
   "outputs": [
    {
     "name": "stdout",
     "output_type": "stream",
     "text": [
      "(110345, 35)\n"
     ]
    },
    {
     "data": {
      "text/plain": [
       "Index(['이표번호', 'KPN', '성별', '출생일', '농가코드', '농가등급', '도축개월', '도축일', '등급', '도체중',\n",
       "       '등심단면적', '등지방두께', '근내지방도', '육색', '지방색', '성숙도', '조직도', '어미 이표번호',\n",
       "       '형매 도체중 평균', '형매 등심단면적 평균', '형매 등지방 평균', '형매 근내지방 평균', '형매 마릿수',\n",
       "       '외할미 이표번호', '어미형매 도체중 평균', '어미형매 등심단면적 평균', '어미형매 등지방 평균',\n",
       "       '어미형매 근내지방 평균', '어미형매 마릿수', '외증조할미 이표번호', '외할미형매 도체중 평균',\n",
       "       '외할미형매 등심단면적 평균', '외할미형매 등지방 평균', '외할미형매 근내지방 평균', '외할미형매 마릿수'],\n",
       "      dtype='object')"
      ]
     },
     "execution_count": 16,
     "metadata": {},
     "output_type": "execute_result"
    }
   ],
   "source": [
    "print(cow_3.shape)\n",
    "cow_3.columns"
   ]
  },
  {
   "cell_type": "code",
   "execution_count": 17,
   "metadata": {},
   "outputs": [
    {
     "name": "stdout",
     "output_type": "stream",
     "text": [
      "변경 후 변수명 : ['외고고조할미 이표번호' '외고조할미 이표번호' '외고조할미형매_근내지방_평균' '외고조할미형매_도체중_평균'\n",
      " '외고조할미형매_등심단면적_평균' '외고조할미형매_등지방_평균' '외고조할미형매_마릿수' '외증조할미형매 근내지방 평균'\n",
      " '외증조할미형매 도체중 평균' '외증조할미형매 등심단면적 평균' '외증조할미형매 등지방 평균' '외증조할미형매 마릿수']\n",
      "변경 전 변수명 : []\n"
     ]
    }
   ],
   "source": [
    "# 원 데이터와 변수명 변경 후 데이터 차이 확인\n",
    "# numpy의 setdiff1d(a, b)를 이용해서, a와 b를 비교하여 b에 없는 것 확인\n",
    "print(f'변경 후 변수명 : {np.setdiff1d(df_3.columns, cow_3.columns)}')\n",
    "print(f'변경 전 변수명 : {np.setdiff1d(cow_3.columns, df_3.columns)}')"
   ]
  },
  {
   "cell_type": "code",
   "execution_count": 18,
   "metadata": {},
   "outputs": [
    {
     "data": {
      "text/plain": [
       "거세    68328\n",
       "암     42017\n",
       "Name: 성별, dtype: int64"
      ]
     },
     "execution_count": 18,
     "metadata": {},
     "output_type": "execute_result"
    }
   ],
   "source": [
    "cow_3.성별.value_counts()"
   ]
  },
  {
   "attachments": {},
   "cell_type": "markdown",
   "metadata": {},
   "source": [
    "##### 성별 및 근내지방도 변수변환\n",
    "> <p> <span style = 'color : orange' > 성별 : {F:암, N_M:거세} <span> </p>\n",
    "> <p> <span style = 'color : orange' > 근내지방도 : {1 : (7~9), 0: (0~6)} <span> </p>"
   ]
  },
  {
   "cell_type": "code",
   "execution_count": 19,
   "metadata": {},
   "outputs": [
    {
     "name": "stdout",
     "output_type": "stream",
     "text": [
      "변경 전 성별 unique 및 counts\n",
      "거세    68328\n",
      "암     42017\n",
      "Name: 성별, dtype: int64\n",
      "\n",
      "\n",
      "변경 후 성별 unique 및 counts\n",
      "N_M    68328\n",
      "F      42017\n",
      "Name: 성별, dtype: int64\n"
     ]
    }
   ],
   "source": [
    "# 성별 암, 거세 => F, N_M 변환\n",
    "cow_3.성별 = cow_3.성별.apply(lambda x: 'F' if x == '암' else 'N_M' if x =='거세' else x )\n",
    "print('변경 전 성별 unique 및 counts')\n",
    "print(df_3.성별.value_counts())\n",
    "print('\\n')\n",
    "print('변경 후 성별 unique 및 counts')\n",
    "print(cow_3.성별.value_counts())"
   ]
  },
  {
   "cell_type": "code",
   "execution_count": 20,
   "metadata": {},
   "outputs": [
    {
     "name": "stdout",
     "output_type": "stream",
     "text": [
      "변경 전 근내지방도 unique 및 counts\n",
      "6.0    27779\n",
      "4.0    17824\n",
      "5.0    13561\n",
      "7.0    12600\n",
      "8.0    10126\n",
      "3.0     9495\n",
      "9.0     8984\n",
      "2.0     7891\n",
      "1.0     1911\n",
      "Name: 근내지방도, dtype: int64\n",
      "\n",
      "\n",
      "변경 후 근내지방도 unique 및 counts\n",
      "0.0    78461\n",
      "1.0    31710\n",
      "Name: 근내지방도, dtype: int64\n"
     ]
    }
   ],
   "source": [
    "# 근내지방도 0, 1 변경\n",
    "cow_3['근내지방도'] = cow_3['근내지방도'].apply(lambda x: 1 if x >= 7 else 0 if x < 7 else x)\n",
    "print('변경 전 근내지방도 unique 및 counts')\n",
    "print(df_3.근내지방도.value_counts())\n",
    "print('\\n')\n",
    "print('변경 후 근내지방도 unique 및 counts')\n",
    "print(cow_3.근내지방도.value_counts())"
   ]
  },
  {
   "cell_type": "markdown",
   "metadata": {},
   "source": [
    "##### full data export"
   ]
  },
  {
   "cell_type": "code",
   "execution_count": 21,
   "metadata": {},
   "outputs": [],
   "source": [
    "cow_3.to_csv('3차 요청자료/소_3대 정리/다시/3대_소_789_cp.csv', encoding='cp949', index=False)\n",
    "cow_3.to_csv('3차 요청자료/소_3대 정리/다시/3대_소_789.csv', index=False)"
   ]
  },
  {
   "attachments": {},
   "cell_type": "markdown",
   "metadata": {},
   "source": [
    "<h5> train_test_split, 7:3 </h5>"
   ]
  },
  {
   "cell_type": "code",
   "execution_count": 22,
   "metadata": {},
   "outputs": [],
   "source": [
    "X_3 = cow_3.drop(['근내지방도'],axis=1)\n",
    "Y_3 = cow_3.근내지방도\n",
    "X_train_3, X_test_3, Y_train_3, Y_test_3 = train_test_split(X_3, Y_3, test_size=0.3, random_state = 2023)"
   ]
  },
  {
   "cell_type": "markdown",
   "metadata": {},
   "source": [
    "<h5> 값 다 같은 인덱스, 원래 같은 행이므로 이대로 합쳐도 원래 데이터 셋이 됨 </h5>"
   ]
  },
  {
   "cell_type": "code",
   "execution_count": 23,
   "metadata": {},
   "outputs": [],
   "source": [
    "train_3 = pd.concat([X_train_3,Y_train_3], axis=1)\n",
    "test_3 = pd.concat([X_test_3,Y_test_3], axis=1)"
   ]
  },
  {
   "cell_type": "code",
   "execution_count": 24,
   "metadata": {},
   "outputs": [
    {
     "name": "stdout",
     "output_type": "stream",
     "text": [
      "(77241, 35)\n",
      "(33104, 35)\n"
     ]
    }
   ],
   "source": [
    "print(train_3.shape)\n",
    "print(test_3.shape)"
   ]
  },
  {
   "attachments": {},
   "cell_type": "markdown",
   "metadata": {},
   "source": [
    "#### Export Data"
   ]
  },
  {
   "cell_type": "code",
   "execution_count": null,
   "metadata": {},
   "outputs": [],
   "source": [
    "# train export\n",
    "train_3.to_csv('../소_3대 정리/3_train_utf.csv', index=False) # utf\n",
    "train_3.to_csv('../소_3대 정리/3_train_cp.csv',encoding= 'cp949', index=False) # cp949\n",
    "# test export \n",
    "test_3.to_csv('../소_3대 정리/3_test_utf.csv', index=False) # utf\n",
    "test_3.to_csv('../소_3대 정리/3_test_cp.csv',encoding= 'cp949', index=False) # cp949"
   ]
  },
  {
   "cell_type": "code",
   "execution_count": 33,
   "metadata": {},
   "outputs": [
    {
     "data": {
      "text/plain": [
       "Index(['이표번호', 'KPN', '성별', '출생일', '농가코드', '농가등급', '도축개월', '도축일', '등급', '도체중',\n",
       "       '등심단면적', '등지방두께', '육색', '지방색', '성숙도', '조직도', '어미 이표번호', '형매 도체중 평균',\n",
       "       '형매 등심단면적 평균', '형매 등지방 평균', '형매 근내지방 평균', '형매 마릿수', '외할미 이표번호',\n",
       "       '어미형매 도체중 평균', '어미형매 등심단면적 평균', '어미형매 등지방 평균', '어미형매 근내지방 평균',\n",
       "       '어미형매 마릿수', '외증조할미 이표번호', '외할미형매 도체중 평균', '외할미형매 등심단면적 평균',\n",
       "       '외할미형매 등지방 평균', '외할미형매 근내지방 평균', '외할미형매 마릿수', '근내지방도'],\n",
       "      dtype='object')"
      ]
     },
     "execution_count": 33,
     "metadata": {},
     "output_type": "execute_result"
    }
   ],
   "source": [
    "train_3.columns"
   ]
  },
  {
   "attachments": {},
   "cell_type": "markdown",
   "metadata": {},
   "source": [
    "##### 농장 번호에 따라 소들의 근내지방평균\n",
    "> 1. <font color = pink> Pivot table </font>\n",
    "> 2. <font color = pink> 시각화 </font>"
   ]
  },
  {
   "cell_type": "markdown",
   "metadata": {},
   "source": [
    "##### Import Data"
   ]
  },
  {
   "cell_type": "code",
   "execution_count": null,
   "metadata": {},
   "outputs": [],
   "source": [
    "cow_3 = pd.read_csv('3_total_cp.csv', encoding='cp949')\n",
    "train_3 = pd.read_csv('3_train_cp.csv', encoding='cp949')\n",
    "test_3 = pd.read_csv('3_test_cp.csv', encoding = 'cp949')"
   ]
  },
  {
   "attachments": {},
   "cell_type": "markdown",
   "metadata": {},
   "source": [
    "#### 농가 분류를 위한 작업\n",
    "> 1. 농가 id 고유값 확인\n",
    "> 2. 농가 id에 따른 등급이 있는데, 각 id별 farm_class가 동일한지 확인"
   ]
  },
  {
   "cell_type": "code",
   "execution_count": 26,
   "metadata": {},
   "outputs": [
    {
     "data": {
      "text/plain": [
       "Index(['이표번호', 'KPN', '성별', '출생일', '농가코드', '농가등급', '도축개월', '도축일', '등급', '도체중',\n",
       "       '등심단면적', '등지방두께', '육색', '지방색', '성숙도', '조직도', '어미 이표번호', '형매 도체중 평균',\n",
       "       '형매 등심단면적 평균', '형매 등지방 평균', '형매 근내지방 평균', '형매 마릿수', '외할미 이표번호',\n",
       "       '어미형매 도체중 평균', '어미형매 등심단면적 평균', '어미형매 등지방 평균', '어미형매 근내지방 평균',\n",
       "       '어미형매 마릿수', '외증조할미 이표번호', '외할미형매 도체중 평균', '외할미형매 등심단면적 평균',\n",
       "       '외할미형매 등지방 평균', '외할미형매 근내지방 평균', '외할미형매 마릿수', '근내지방도'],\n",
       "      dtype='object')"
      ]
     },
     "execution_count": 26,
     "metadata": {},
     "output_type": "execute_result"
    }
   ],
   "source": [
    "train_3.columns"
   ]
  },
  {
   "cell_type": "markdown",
   "metadata": {},
   "source": [
    "#### 농가 등급 A, B, C으로 변수 추가"
   ]
  },
  {
   "cell_type": "code",
   "execution_count": 27,
   "metadata": {},
   "outputs": [
    {
     "name": "stdout",
     "output_type": "stream",
     "text": [
      "['1+C' '1A' '1++C' '1C' '1+B' '2A' '1B' '1+A' '1++B' '2B' '3A' '2C' '3B'\n",
      " '1++A' '3C' '등외']\n",
      "1++A       65\n",
      "1++B      273\n",
      "1++C      870\n",
      "1+A      4220\n",
      "1+B     17657\n",
      "1+C     32803\n",
      "1A      28067\n",
      "1B      15885\n",
      "1C       6804\n",
      "2A       2231\n",
      "2B        927\n",
      "2C        306\n",
      "3A         87\n",
      "3B        103\n",
      "3C         29\n",
      "등외         18\n",
      "Name: 농가등급, dtype: int64\n"
     ]
    }
   ],
   "source": [
    "print(cow_3.농가등급.unique())\n",
    "print(cow_3.농가등급.value_counts().sort_index())"
   ]
  },
  {
   "cell_type": "code",
   "execution_count": 29,
   "metadata": {},
   "outputs": [],
   "source": [
    "cow_3['농가_등급_1'] = cow_3['농가등급'].apply(lambda x: 'A' if ((x == '1++A')|(x == '1++B')|(x == '1++C'))  else 'B' if ((x == '1+A')|(x == '1+B')|(x == '1+C')) else 'C')"
   ]
  },
  {
   "cell_type": "code",
   "execution_count": 30,
   "metadata": {},
   "outputs": [],
   "source": [
    "a_cl = cow_3[cow_3['농가_등급_1']=='A']\n",
    "b_cl = cow_3[cow_3['농가_등급_1']=='B']\n",
    "c_cl = cow_3[cow_3['농가_등급_1']=='C']\n",
    "a_cl = a_cl[['농가코드','농가등급','농가_등급_1']]\n",
    "b_cl = b_cl[['농가코드','농가등급','농가_등급_1']]\n",
    "c_cl = c_cl[['농가코드','농가등급','농가_등급_1']]"
   ]
  },
  {
   "cell_type": "code",
   "execution_count": 31,
   "metadata": {},
   "outputs": [
    {
     "name": "stdout",
     "output_type": "stream",
     "text": [
      "['1++C' '1++B' '1++A']\n",
      "['1+C' '1+B' '1+A']\n",
      "['1A' '1C' '2A' '1B' '2B' '3A' '2C' '3B' '3C' '등외']\n"
     ]
    }
   ],
   "source": [
    "print(a_cl.농가등급.unique())\n",
    "print(b_cl.농가등급.unique())\n",
    "print(c_cl.농가등급.unique())"
   ]
  },
  {
   "cell_type": "code",
   "execution_count": 37,
   "metadata": {},
   "outputs": [],
   "source": [
    "cow_3.drop(['농가등급'], axis=1, inplace=True)"
   ]
  },
  {
   "cell_type": "code",
   "execution_count": 38,
   "metadata": {},
   "outputs": [
    {
     "name": "stdout",
     "output_type": "stream",
     "text": [
      "(110345, 35)\n"
     ]
    }
   ],
   "source": [
    "print(cow_3.shape)"
   ]
  },
  {
   "cell_type": "code",
   "execution_count": 39,
   "metadata": {},
   "outputs": [],
   "source": [
    "cow_3.to_csv('C:/Users/Owner/Desktop/윤태준/소/3차 요청자료/소_3대 정리/다시/3대_농가등급추가_789_cp.csv', encoding='cp949', index=False)"
   ]
  },
  {
   "cell_type": "code",
   "execution_count": 5,
   "metadata": {},
   "outputs": [
    {
     "name": "stdout",
     "output_type": "stream",
     "text": [
      "(110345, 35)\n"
     ]
    }
   ],
   "source": [
    "df = pd.read_csv('C:/Users/Owner/Desktop/윤태준/소/3차 요청자료/소_3대 정리/다시/3대_농가등급추가_789_cp.csv', encoding='cp949')\n",
    "print(df.shape)"
   ]
  },
  {
   "cell_type": "markdown",
   "metadata": {},
   "source": [
    "##### 변수명 영어 변경"
   ]
  },
  {
   "cell_type": "code",
   "execution_count": 45,
   "metadata": {},
   "outputs": [
    {
     "data": {
      "text/plain": [
       "Index(['이표번호', 'KPN', '성별', '출생일', '농가코드', '도축개월', '도축일', '등급', '도체중', '등심단면적',\n",
       "       '등지방두께', '근내지방도', '육색', '지방색', '성숙도', '조직도', '어미 이표번호', '형매 도체중 평균',\n",
       "       '형매 등심단면적 평균', '형매 등지방 평균', '형매 근내지방 평균', '형매 마릿수', '외할미 이표번호',\n",
       "       '어미형매 도체중 평균', '어미형매 등심단면적 평균', '어미형매 등지방 평균', '어미형매 근내지방 평균',\n",
       "       '어미형매 마릿수', '외증조할미 이표번호', '외할미형매 도체중 평균', '외할미형매 등심단면적 평균',\n",
       "       '외할미형매 등지방 평균', '외할미형매 근내지방 평균', '외할미형매 마릿수', '농가_등급_1'],\n",
       "      dtype='object')"
      ]
     },
     "execution_count": 45,
     "metadata": {},
     "output_type": "execute_result"
    }
   ],
   "source": [
    "df.columns"
   ]
  },
  {
   "cell_type": "code",
   "execution_count": 46,
   "metadata": {},
   "outputs": [],
   "source": [
    "df.columns = ['id', 'KPN', 'gender', 'bir', 'farm_id', 'sl_m', 'sl_d', 'class', 's_w', 'i_a',\n",
    "       'f_t', 'target', 'b_c', 'f_c', 'm_l', 'organ', 'mom_id', 's_m_w',\n",
    "       's_m_i', 's_f_m', 's_t_m', 's_c', 'a_id', 'a_s_m_w', 'a_s_m_i', 'a_s_f_m', 'a_s_t_m',\n",
    "       'a_s_c', 'b_id', 'b_s_m_w', 'b_s_m_i', 'b_s_f_m', 'b_s_t_m', 'b_s_c', 'farm_level']"
   ]
  },
  {
   "attachments": {},
   "cell_type": "markdown",
   "metadata": {},
   "source": [
    "##### 농장 등급 추가한 것, train_test_split, export"
   ]
  },
  {
   "cell_type": "code",
   "execution_count": 48,
   "metadata": {},
   "outputs": [],
   "source": [
    "X_3 = df.drop(['target'],axis=1)\n",
    "Y_3 = df.target\n",
    "X_train_3, X_test_3, Y_train_3, Y_test_3 = train_test_split(X_3, Y_3, test_size=0.3, random_state = 7777)"
   ]
  },
  {
   "cell_type": "code",
   "execution_count": 49,
   "metadata": {},
   "outputs": [],
   "source": [
    "train_3 = pd.concat([X_train_3,Y_train_3], axis=1)\n",
    "test_3 = pd.concat([X_test_3,Y_test_3], axis=1)"
   ]
  },
  {
   "cell_type": "code",
   "execution_count": 50,
   "metadata": {},
   "outputs": [],
   "source": [
    "train_3.to_csv('3차 요청자료/소_3대 정리/다시/train_789.csv', encoding='cp949', index=False)\n",
    "test_3.to_csv('3차 요청자료/소_3대 정리/다시/test_789.csv', encoding='cp949', index=False)"
   ]
  },
  {
   "cell_type": "code",
   "execution_count": 51,
   "metadata": {},
   "outputs": [
    {
     "name": "stdout",
     "output_type": "stream",
     "text": [
      "N_M    47859\n",
      "F      29382\n",
      "Name: gender, dtype: int64\n",
      "B    38337\n",
      "C    38046\n",
      "A      858\n",
      "Name: farm_level, dtype: int64\n"
     ]
    }
   ],
   "source": [
    "print(train_3.gender.value_counts())\n",
    "print(train_3.farm_level.value_counts())"
   ]
  },
  {
   "cell_type": "markdown",
   "metadata": {},
   "source": [
    "#### 반복문을 이용하여 단변량 로지스틱 돌리기"
   ]
  },
  {
   "attachments": {},
   "cell_type": "markdown",
   "metadata": {},
   "source": [
    "##### full data set univariate logistic regression"
   ]
  },
  {
   "cell_type": "code",
   "execution_count": null,
   "metadata": {},
   "outputs": [],
   "source": [
    "for i in range(0,19):\n",
    "    print(f'순서:{i+1}번째 변수')\n",
    "    model = sm.Logit.from_formula('target ~ uni_logit_df.iloc[:,i]', uni_logit_df).fit()\n",
    "    print(f'독립변수 이름: {uni_logit_df.columns[i]}')\n",
    "    print(model.summary())\n",
    "    print('============='*3)\n",
    "    print(f'모델 AIC:{model.aic}')\n",
    "    print('\\n')\n",
    "    print(f'오즈비{np.exp(model.params)}')"
   ]
  },
  {
   "cell_type": "markdown",
   "metadata": {},
   "source": [
    "##### split data set(train) univariate logistic regression"
   ]
  },
  {
   "cell_type": "code",
   "execution_count": 5,
   "metadata": {},
   "outputs": [],
   "source": [
    "train_3 = pd.read_csv('등급추가_train_cp.csv', encoding='cp949')\n",
    "test_3 = pd.read_csv('등급추가_test_cp.csv', encoding='cp949')"
   ]
  },
  {
   "cell_type": "code",
   "execution_count": null,
   "metadata": {},
   "outputs": [],
   "source": [
    "# train data set\n",
    "for i in range(0,19):\n",
    "    print(f'순서:{i+1}번째 변수')\n",
    "    model = sm.Logit.from_formula('target ~ train_3.iloc[:,i]', train_3).fit()\n",
    "    print(f'독립변수 이름: {train_3.columns[i]}')\n",
    "    print(model.summary())\n",
    "    print('============='*3)\n",
    "    print(f'모델 AIC:{model.aic}')\n",
    "    print('\\n')\n",
    "    print(f'오즈비{np.exp(model.params)}')\n",
    "    print('\\n')"
   ]
  },
  {
   "cell_type": "markdown",
   "metadata": {},
   "source": [
    "##### confusion matrix"
   ]
  },
  {
   "cell_type": "code",
   "execution_count": 8,
   "metadata": {},
   "outputs": [],
   "source": [
    "# confusion matrix 사용을 위한 라이브러리\n",
    "from sklearn.metrics import confusion_matrix\n",
    "\n",
    "# confusion matrix 그리는 함수 \n",
    "def plot_confusion_matrix(con_mat, labels, title='Confusion Matrix', cmap=plt.cm.get_cmap('Blues'), normalize=False):\n",
    "    plt.imshow(con_mat, interpolation='nearest', cmap=cmap)\n",
    "    plt.title(title)\n",
    "    plt.colorbar()\n",
    "    marks = np.arange(len(labels))\n",
    "    nlabels = []\n",
    "    for k in range(len(con_mat)):\n",
    "        n = sum(con_mat[k])\n",
    "        nlabel = '{0}(n={1})'.format(labels[k],n)\n",
    "        nlabels.append(nlabel)\n",
    "    plt.xticks(marks, labels)\n",
    "    plt.yticks(marks, nlabels)\n",
    "\n",
    "    thresh = con_mat.max() / 2.\n",
    "    if normalize:\n",
    "        for i, j in itertools.product(range(con_mat.shape[0]), range(con_mat.shape[1])):\n",
    "            plt.text(j, i, '{0}%'.format(con_mat[i, j] * 100 / n), horizontalalignment=\"center\", color=\"white\" if con_mat[i, j] > thresh else \"black\")\n",
    "    else:\n",
    "        for i, j in itertools.product(range(con_mat.shape[0]), range(con_mat.shape[1])):\n",
    "            plt.text(j, i, con_mat[i, j], horizontalalignment=\"center\", color=\"white\" if con_mat[i, j] > thresh else \"black\")\n",
    "    plt.tight_layout()\n",
    "    plt.ylabel('True label')\n",
    "    plt.xlabel('Predicted label')\n",
    "    plt.show()\n"
   ]
  },
  {
   "cell_type": "code",
   "execution_count": null,
   "metadata": {},
   "outputs": [],
   "source": [
    "# 예측값과 참값 \n",
    "pred_labels = np.argmax(predictions, axis=1)\n",
    "true_labels = test_set.labels\n",
    "\n",
    "#메인 실행 \n",
    "confusion_matrix = confusion_matrix(true_labels, pred_labels)\n",
    "plot_confusion_matrix(confusion_matrix, labels=labels, normalize=True)"
   ]
  },
  {
   "cell_type": "code",
   "execution_count": null,
   "metadata": {},
   "outputs": [],
   "source": [
    "from sklearn.metrics import roc_auc_score \n",
    "roc_auc = roc_auc_score(y_true, y_pred) print(\"ROC AUC Score: {}\".format(roc_auc))"
   ]
  },
  {
   "cell_type": "code",
   "execution_count": 14,
   "metadata": {},
   "outputs": [
    {
     "name": "stderr",
     "output_type": "stream",
     "text": [
      "C:\\Users\\Owner\\AppData\\Local\\Temp\\ipykernel_70676\\2566102714.py:2: UserWarning: \n",
      "\n",
      "`distplot` is a deprecated function and will be removed in seaborn v0.14.0.\n",
      "\n",
      "Please adapt your code to use either `displot` (a figure-level function with\n",
      "similar flexibility) or `histplot` (an axes-level function for histograms).\n",
      "\n",
      "For a guide to updating your code to use the new functions, please see\n",
      "https://gist.github.com/mwaskom/de44147ed2974457ad6372750bbe5751\n",
      "\n",
      "  sns.distplot(df['도축개월'], label= '도축개월')\n"
     ]
    },
    {
     "data": {
      "image/png": "[encoded data removed]",
      "text/plain": [
       "<Figure size 1000x700 with 1 Axes>"
      ]
     },
     "metadata": {},
     "output_type": "display_data"
    }
   ],
   "source": [
    "plt.figure(figsize=(10,7))\n",
    "sns.distplot(df['도축개월'], label= '도축개월')\n",
    "\n",
    "plt.title('소 3대 도축개월 히스토그램')\n",
    "plt.show()"
   ]
  },
  {
   "cell_type": "code",
   "execution_count": 16,
   "metadata": {},
   "outputs": [
    {
     "name": "stderr",
     "output_type": "stream",
     "text": [
      "C:\\Users\\Owner\\AppData\\Local\\Temp\\ipykernel_70676\\3171815918.py:2: UserWarning: \n",
      "\n",
      "`distplot` is a deprecated function and will be removed in seaborn v0.14.0.\n",
      "\n",
      "Please adapt your code to use either `displot` (a figure-level function with\n",
      "similar flexibility) or `histplot` (an axes-level function for histograms).\n",
      "\n",
      "For a guide to updating your code to use the new functions, please see\n",
      "https://gist.github.com/mwaskom/de44147ed2974457ad6372750bbe5751\n",
      "\n",
      "  sns.distplot(df['도축개월'], label= '도축개월')\n"
     ]
    },
    {
     "data": {
      "image/png": "[encoded data removed]",
      "text/plain": [
       "<Figure size 1000x700 with 1 Axes>"
      ]
     },
     "metadata": {},
     "output_type": "display_data"
    }
   ],
   "source": [
    "plt.figure(figsize=(10,7))\n",
    "sns.distplot(df['도축개월'], label= '도축개월')\n",
    "\n",
    "plt.title('소 3대 도축개월 히스토그램')\n",
    "plt.xlim(20,40)\n",
    "plt.show()"
   ]
  },
  {
   "cell_type": "code",
   "execution_count": 4,
   "metadata": {},
   "outputs": [
    {
     "name": "stdout",
     "output_type": "stream",
     "text": [
      "789target확인: 원래28679개, 변경 후 28679개\n",
      "9target확인: 원래8333개, 변경 후 8333개\n",
      "7:3=61998.0:26570.0\n"
     ]
    }
   ],
   "source": [
    "# null drop => 110121\n",
    "# codition : 25 <= age <=40 => 88568\n",
    "# split data 7:3 => \n",
    "print(f'789target확인: 원래{11221+9125+8333 }개, 변경 후 {28679 }개')\n",
    "print(f'9target확인: 원래{8333}개, 변경 후 {8333}개')\n",
    "print(f'7:3={round(88568*0.7,0)}:{round(88568*0.3,0)}')"
   ]
  }
 ],
 "metadata": {
  "kernelspec": {
   "display_name": "'cow'",
   "language": "python",
   "name": "python3"
  },
  "language_info": {
   "codemirror_mode": {
    "name": "ipython",
    "version": 3
   },
   "file_extension": ".py",
   "mimetype": "text/x-python",
   "name": "python",
   "nbconvert_exporter": "python",
   "pygments_lexer": "ipython3",
   "version": "3.10.0"
  },
  "orig_nbformat": 4,
  "vscode": {
   "interpreter": {
    "hash": "643e8b1da7b496eadedb6813c3048d428a1881cf2325a1f39b02fd04f838288a"
   }
  }
 },
 "nbformat": 4,
 "nbformat_minor": 2
}
