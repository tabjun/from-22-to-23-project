{
 "cells": [
  {
   "attachments": {},
   "cell_type": "markdown",
   "metadata": {},
   "source": [
    "# <h5 style = 'font-size:45px'> <span style = 'color:yellow'> Link <span> </h5>\n",
    "[Markdown꾸미기](https://leedakyeong.tistory.com/entry/Markdown-Jupyter-Notebook-%EC%A3%BC%ED%94%BC%ED%84%B0-%EB%85%B8%ED%8A%B8%EB%B6%81-%EB%A7%88%ED%81%AC%EB%8B%A4%EC%9A%B4-%EC%A0%95%EB%A6%AC)  \n",
    "[Notion](https://gravel-turnover-821.notion.site/850bc7ba43a44299ae41bd4144d7462f)"
   ]
  },
  {
   "attachments": {},
   "cell_type": "markdown",
   "metadata": {},
   "source": [
    "<h5> <span style = 'color:blue'> Cow Project<span> </h5>"
   ]
  },
  {
   "attachments": {},
   "cell_type": "markdown",
   "metadata": {},
   "source": [
    "<img src = 'https://www.newsworks.co.kr/news/photo/202103/537213_423279_554.jpg' width = '500px' height ='300px' title = 'Cow project' alt = 'Error image'></img><br/>"
   ]
  },
  {
   "cell_type": "code",
   "execution_count": 1,
   "metadata": {
    "vscode": {
     "languageId": "python"
    }
   },
   "outputs": [],
   "source": [
    "# Using package\n",
    "import pandas as pd\n",
    "import os\n",
    "import matplotlib.pyplot as plt\n",
    "import seaborn as sns\n",
    "import numpy as np\n",
    "# plot korean title\n",
    "from matplotlib import font_manager, rc\n",
    "font_path = \"C:/Windows/Fonts/NGULIM.TTF\"\n",
    "font = font_manager.FontProperties(fname=font_path).get_name()\n",
    "rc('font', family=font)\n",
    "from sklearn.model_selection import train_test_split\n",
    "from sklearn.metrics import confusion_matrix, classification_report, roc_auc_score\n",
    "import statsmodels.api as sm"
   ]
  },
  {
   "attachments": {},
   "cell_type": "markdown",
   "metadata": {},
   "source": [
    "<h4> 파일에 존재하는 데이터 한꺼번에 불러오기 </h4>"
   ]
  },
  {
   "cell_type": "code",
   "execution_count": 3,
   "metadata": {
    "vscode": {
     "languageId": "python"
    }
   },
   "outputs": [
    {
     "data": {
      "text/plain": [
       "'C:\\\\Users\\\\Owner\\\\Desktop\\\\윤태준\\\\소\\\\real\\\\3대'"
      ]
     },
     "execution_count": 3,
     "metadata": {},
     "output_type": "execute_result"
    }
   ],
   "source": [
    "os.chdir('C:/Users/Owner/Desktop/윤태준/소/real/3대')\n",
    "os.getcwd()"
   ]
  },
  {
   "cell_type": "code",
   "execution_count": 4,
   "metadata": {
    "vscode": {
     "languageId": "python"
    }
   },
   "outputs": [
    {
     "data": {
      "text/plain": [
       "['a0(1981).txt',\n",
       " 'a1(1686).txt',\n",
       " 'a10(2908).txt',\n",
       " 'a11(2543).txt',\n",
       " 'a12(2414).txt',\n",
       " 'a13(2350).txt',\n",
       " 'a14(2114).txt',\n",
       " 'a15(2115).txt',\n",
       " 'a16(2295).txt',\n",
       " 'a17(2158).txt',\n",
       " 'a18(2187).txt',\n",
       " 'a19(1893).txt',\n",
       " 'a2(1925).txt',\n",
       " 'a20(2240).txt',\n",
       " 'a21(2656).txt',\n",
       " 'a22(2108).txt',\n",
       " 'a23(2219).txt',\n",
       " 'a24(1952).txt',\n",
       " 'a25(2150).txt',\n",
       " 'a26(1712).txt',\n",
       " 'a27(2526).txt',\n",
       " 'a28(1988).txt',\n",
       " 'a29(2119).txt',\n",
       " 'a3(2614).txt',\n",
       " 'a30(2210).txt',\n",
       " 'a31(1287).txt',\n",
       " 'a32(1675).txt',\n",
       " 'a33(3215).txt',\n",
       " 'a34(1824).txt',\n",
       " 'a35(1240).txt',\n",
       " 'a4(2319).txt',\n",
       " 'a5(2576).txt',\n",
       " 'a6(3051).txt',\n",
       " 'a7(3123).txt',\n",
       " 'a8(3194).txt',\n",
       " 'a9(3029).txt']"
      ]
     },
     "execution_count": 4,
     "metadata": {},
     "output_type": "execute_result"
    }
   ],
   "source": [
    "# 파일이 존재하는 경로 불러오기 및 리스트\n",
    "path = os.getcwd()\n",
    "file_lst = os.listdir(path)# 파일 이름 담기\n",
    "file_lst"
   ]
  },
  {
   "attachments": {},
   "cell_type": "markdown",
   "metadata": {},
   "source": [
    "##### ↓ 반복문으로 파일 불러오면서, 하나의 DataFrame으로 합침 "
   ]
  },
  {
   "cell_type": "code",
   "execution_count": 4,
   "metadata": {
    "vscode": {
     "languageId": "python"
    }
   },
   "outputs": [],
   "source": [
    "df_3 = pd.DataFrame()\n",
    "for i in file_lst:\n",
    "    data_3 = pd.read_excel(path +'/'+i)\n",
    "    df_3 = pd.concat([df_3, data_3])\n",
    "    \n",
    "df_3 = df_3.reset_index(drop = True)"
   ]
  },
  {
   "cell_type": "code",
   "execution_count": 11,
   "metadata": {
    "vscode": {
     "languageId": "python"
    }
   },
   "outputs": [
    {
     "ename": "UnicodeDecodeError",
     "evalue": "'cp949' codec can't decode byte 0xec in position 7: illegal multibyte sequence",
     "output_type": "error",
     "traceback": [
      "\u001b[1;31m---------------------------------------------------------------------------\u001b[0m",
      "\u001b[1;31mUnicodeDecodeError\u001b[0m                        Traceback (most recent call last)",
      "\u001b[1;32m~\\AppData\\Local\\Temp\\ipykernel_5668\\2227886610.py\u001b[0m in \u001b[0;36m<module>\u001b[1;34m\u001b[0m\n\u001b[0;32m      4\u001b[0m \u001b[1;32mfor\u001b[0m \u001b[0mi\u001b[0m \u001b[1;32min\u001b[0m \u001b[0mfile_lst\u001b[0m\u001b[1;33m:\u001b[0m\u001b[1;33m\u001b[0m\u001b[1;33m\u001b[0m\u001b[0m\n\u001b[0;32m      5\u001b[0m     \u001b[1;32mwith\u001b[0m \u001b[0mopen\u001b[0m\u001b[1;33m(\u001b[0m\u001b[0mfile_path\u001b[0m\u001b[1;33m+\u001b[0m\u001b[1;34m'/'\u001b[0m\u001b[1;33m+\u001b[0m\u001b[0mi\u001b[0m\u001b[1;33m,\u001b[0m \u001b[1;34m'r'\u001b[0m\u001b[1;33m)\u001b[0m \u001b[1;32mas\u001b[0m \u001b[0mfile\u001b[0m\u001b[1;33m:\u001b[0m\u001b[1;33m\u001b[0m\u001b[1;33m\u001b[0m\u001b[0m\n\u001b[1;32m----> 6\u001b[1;33m         \u001b[0mdata\u001b[0m \u001b[1;33m=\u001b[0m \u001b[0mjson\u001b[0m\u001b[1;33m.\u001b[0m\u001b[0mload\u001b[0m\u001b[1;33m(\u001b[0m\u001b[0mfile\u001b[0m\u001b[1;33m)\u001b[0m\u001b[1;33m\u001b[0m\u001b[1;33m\u001b[0m\u001b[0m\n\u001b[0m\u001b[0;32m      7\u001b[0m         \u001b[0mprint\u001b[0m\u001b[1;33m(\u001b[0m\u001b[0mtype\u001b[0m\u001b[1;33m(\u001b[0m\u001b[0mdata\u001b[0m\u001b[1;33m)\u001b[0m\u001b[1;33m)\u001b[0m\u001b[1;33m\u001b[0m\u001b[1;33m\u001b[0m\u001b[0m\n\u001b[0;32m      8\u001b[0m         \u001b[0mprint\u001b[0m\u001b[1;33m(\u001b[0m\u001b[0mdata\u001b[0m\u001b[1;33m)\u001b[0m\u001b[1;33m\u001b[0m\u001b[1;33m\u001b[0m\u001b[0m\n",
      "\u001b[1;32mC:\\ProgramData\\Anaconda3\\lib\\json\\__init__.py\u001b[0m in \u001b[0;36mload\u001b[1;34m(fp, cls, object_hook, parse_float, parse_int, parse_constant, object_pairs_hook, **kw)\u001b[0m\n\u001b[0;32m    291\u001b[0m     \u001b[0mkwarg\u001b[0m\u001b[1;33m;\u001b[0m \u001b[0motherwise\u001b[0m\u001b[0;31m \u001b[0m\u001b[0;31m`\u001b[0m\u001b[0;31m`\u001b[0m\u001b[0mJSONDecoder\u001b[0m\u001b[0;31m`\u001b[0m\u001b[0;31m`\u001b[0m \u001b[1;32mis\u001b[0m \u001b[0mused\u001b[0m\u001b[1;33m.\u001b[0m\u001b[1;33m\u001b[0m\u001b[1;33m\u001b[0m\u001b[0m\n\u001b[0;32m    292\u001b[0m     \"\"\"\n\u001b[1;32m--> 293\u001b[1;33m     return loads(fp.read(),\n\u001b[0m\u001b[0;32m    294\u001b[0m         \u001b[0mcls\u001b[0m\u001b[1;33m=\u001b[0m\u001b[0mcls\u001b[0m\u001b[1;33m,\u001b[0m \u001b[0mobject_hook\u001b[0m\u001b[1;33m=\u001b[0m\u001b[0mobject_hook\u001b[0m\u001b[1;33m,\u001b[0m\u001b[1;33m\u001b[0m\u001b[1;33m\u001b[0m\u001b[0m\n\u001b[0;32m    295\u001b[0m         \u001b[0mparse_float\u001b[0m\u001b[1;33m=\u001b[0m\u001b[0mparse_float\u001b[0m\u001b[1;33m,\u001b[0m \u001b[0mparse_int\u001b[0m\u001b[1;33m=\u001b[0m\u001b[0mparse_int\u001b[0m\u001b[1;33m,\u001b[0m\u001b[1;33m\u001b[0m\u001b[1;33m\u001b[0m\u001b[0m\n",
      "\u001b[1;31mUnicodeDecodeError\u001b[0m: 'cp949' codec can't decode byte 0xec in position 7: illegal multibyte sequence"
     ]
    }
   ],
   "source": [
    "import json\n",
    "\n",
    "file_path = os.getcwd()\n",
    "for i in file_lst:\n",
    "    with open(file_path+'/'+i, 'r') as file:\n",
    "        data = json.load(file)\n",
    "        print(type(data))\n",
    "        print(data)\n",
    "        print(data[\"Tyler\"])"
   ]
  },
  {
   "cell_type": "code",
   "execution_count": 5,
   "metadata": {
    "vscode": {
     "languageId": "python"
    }
   },
   "outputs": [
    {
     "name": "stdout",
     "output_type": "stream",
     "text": [
      "<class 'pandas.core.frame.DataFrame'>\n",
      "RangeIndex: 532653 entries, 0 to 532652\n",
      "Data columns (total 33 columns):\n",
      " #   Column          Non-Null Count   Dtype  \n",
      "---  ------          --------------   -----  \n",
      " 0   이표번호            532653 non-null  int64  \n",
      " 1   KPN             532653 non-null  object \n",
      " 2   성별              532653 non-null  object \n",
      " 3   출생일             532653 non-null  object \n",
      " 4   도축개월            532650 non-null  float64\n",
      " 5   도축일             532653 non-null  object \n",
      " 6   등급              532653 non-null  object \n",
      " 7   도체중             532653 non-null  int64  \n",
      " 8   등심단면적           532085 non-null  float64\n",
      " 9   등지방두께           532123 non-null  float64\n",
      " 10  근내지방도           531728 non-null  float64\n",
      " 11  육색              532653 non-null  int64  \n",
      " 12  지방색             532653 non-null  int64  \n",
      " 13  성숙도             532653 non-null  int64  \n",
      " 14  조직도             532653 non-null  int64  \n",
      " 15  어미 이표번호         532653 non-null  int64  \n",
      " 16  형매 도체중 평균       532653 non-null  float64\n",
      " 17  형매 등심단면적 평균     532653 non-null  float64\n",
      " 18  형매 등지방 평균       532653 non-null  float64\n",
      " 19  형매 근내지방 평균      532653 non-null  float64\n",
      " 20  형매 마릿수          532653 non-null  int64  \n",
      " 21  외할미 이표번호        532653 non-null  int64  \n",
      " 22  어미형매 도체중 평균     532653 non-null  float64\n",
      " 23  어미형매 등심단면적 평균   532653 non-null  float64\n",
      " 24  어미형매 등지방 평균     532653 non-null  float64\n",
      " 25  어미형매 근내지방 평균    532653 non-null  float64\n",
      " 26  어미형매 마릿수        532653 non-null  int64  \n",
      " 27  외증조할미 이표번호      532653 non-null  int64  \n",
      " 28  외할미형매 도체중 평균    532653 non-null  float64\n",
      " 29  외할미형매 등심단면적 평균  532653 non-null  float64\n",
      " 30  외할미형매 등지방 평균    532653 non-null  float64\n",
      " 31  외할미형매 근내지방 평균   532653 non-null  float64\n",
      " 32  외할미형매 마릿수       532653 non-null  int64  \n",
      "dtypes: float64(16), int64(12), object(5)\n",
      "memory usage: 134.1+ MB\n"
     ]
    }
   ],
   "source": [
    "# 데이터 확인\n",
    "df_3.info()"
   ]
  }
 ],
 "metadata": {
  "kernelspec": {
   "display_name": "'venv1'",
   "language": "python",
   "name": "conda"
  },
  "orig_nbformat": 4,
  "vscode": {
   "interpreter": {
    "hash": "12d37d03e29907ddf2c648e7ca97c2664521e3e6dbb13ba26dd677f6ee98ebe1"
   }
  }
 },
 "nbformat": 4,
 "nbformat_minor": 2
}
