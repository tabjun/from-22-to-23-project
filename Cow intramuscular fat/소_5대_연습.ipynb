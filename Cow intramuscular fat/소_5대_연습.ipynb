{
 "cells": [
  {
   "attachments": {},
   "cell_type": "markdown",
   "metadata": {},
   "source": [
    "# <h5 style = 'font-size:45px'> <span style = 'color:yellow'> Link <span> </h5>\n",
    "[Markdown꾸미기](https://leedakyeong.tistory.com/entry/Markdown-Jupyter-Notebook-%EC%A3%BC%ED%94%BC%ED%84%B0-%EB%85%B8%ED%8A%B8%EB%B6%81-%EB%A7%88%ED%81%AC%EB%8B%A4%EC%9A%B4-%EC%A0%95%EB%A6%AC)  \n",
    "[Notion](https://gravel-turnover-821.notion.site/850bc7ba43a44299ae41bd4144d7462f)"
   ]
  },
  {
   "attachments": {},
   "cell_type": "markdown",
   "metadata": {},
   "source": [
    "<h5> <span style = 'color:blue'> Cow Project<span> </h5>"
   ]
  },
  {
   "attachments": {},
   "cell_type": "markdown",
   "metadata": {},
   "source": [
    "<img src = 'https://www.newsworks.co.kr/news/photo/202103/537213_423279_554.jpg' width = '500px' height ='300px' title = 'Cow project' alt = 'Error image'></img><br/>"
   ]
  },
  {
   "cell_type": "code",
   "execution_count": 1,
   "metadata": {
    "vscode": {
     "languageId": "python"
    }
   },
   "outputs": [],
   "source": [
    "# Using package\n",
    "import pandas as pd\n",
    "import os\n",
    "import matplotlib.pyplot as plt\n",
    "import seaborn as sns\n",
    "import numpy as np\n",
    "# plot korean title\n",
    "from matplotlib import font_manager, rc\n",
    "font_path = \"C:/Windows/Fonts/NGULIM.TTF\"\n",
    "font = font_manager.FontProperties(fname=font_path).get_name()\n",
    "rc('font', family=font)\n",
    "from sklearn.model_selection import train_test_split\n",
    "from sklearn.metrics import confusion_matrix, classification_report, roc_auc_score\n",
    "import statsmodels.api as sm"
   ]
  },
  {
   "attachments": {},
   "cell_type": "markdown",
   "metadata": {},
   "source": [
    "<h4> 파일에 존재하는 데이터 한꺼번에 불러오기 </h4>"
   ]
  },
  {
   "cell_type": "code",
   "execution_count": 2,
   "metadata": {
    "vscode": {
     "languageId": "python"
    }
   },
   "outputs": [
    {
     "data": {
      "text/plain": [
       "'C:\\\\Users\\\\Owner\\\\Desktop\\\\윤태준\\\\소\\\\윤태준_김다은\\\\2022-11-25근내지방 5계대'"
      ]
     },
     "execution_count": 2,
     "metadata": {},
     "output_type": "execute_result"
    }
   ],
   "source": [
    "os.chdir('C:\\\\Users\\\\Owner\\\\Desktop\\\\윤태준\\\\소\\\\윤태준_김다은\\\\2022-11-25근내지방 5계대')\n",
    "os.getcwd()"
   ]
  },
  {
   "cell_type": "code",
   "execution_count": 3,
   "metadata": {
    "vscode": {
     "languageId": "python"
    }
   },
   "outputs": [
    {
     "data": {
      "text/plain": [
       "['근내지방5_0.xlsx',\n",
       " '근내지방5_1.xlsx',\n",
       " '근내지방5_10.xlsx',\n",
       " '근내지방5_11.xlsx',\n",
       " '근내지방5_12.xlsx',\n",
       " '근내지방5_13.xlsx',\n",
       " '근내지방5_14.xlsx',\n",
       " '근내지방5_15.xlsx',\n",
       " '근내지방5_16.xlsx',\n",
       " '근내지방5_17.xlsx',\n",
       " '근내지방5_2.xlsx',\n",
       " '근내지방5_3.xlsx',\n",
       " '근내지방5_4.xlsx',\n",
       " '근내지방5_5.xlsx',\n",
       " '근내지방5_6.xlsx',\n",
       " '근내지방5_7.xlsx',\n",
       " '근내지방5_8.xlsx',\n",
       " '근내지방5_9.xlsx']"
      ]
     },
     "execution_count": 3,
     "metadata": {},
     "output_type": "execute_result"
    }
   ],
   "source": [
    "# 파일이 존재하는 경로 불러오기 및 리스트\n",
    "path = os.getcwd()\n",
    "file_lst = os.listdir(path)# 파일 이름 담기\n",
    "file_lst"
   ]
  },
  {
   "attachments": {},
   "cell_type": "markdown",
   "metadata": {},
   "source": [
    "##### ↓ 반복문으로 파일 불러오면서, 하나의 DataFrame으로 합침 "
   ]
  },
  {
   "cell_type": "code",
   "execution_count": 4,
   "metadata": {
    "vscode": {
     "languageId": "python"
    }
   },
   "outputs": [],
   "source": [
    "df = pd.DataFrame()\n",
    "for i in file_lst:\n",
    "    data = pd.read_excel(path +'/'+i)\n",
    "    df = pd.concat([df,data])\n",
    "    \n",
    "df = df.reset_index(drop = True)"
   ]
  },
  {
   "cell_type": "code",
   "execution_count": 5,
   "metadata": {
    "vscode": {
     "languageId": "python"
    }
   },
   "outputs": [
    {
     "name": "stdout",
     "output_type": "stream",
     "text": [
      "<class 'pandas.core.frame.DataFrame'>\n",
      "RangeIndex: 46310 entries, 0 to 46309\n",
      "Data columns (total 45 columns):\n",
      " #   Column              Non-Null Count  Dtype  \n",
      "---  ------              --------------  -----  \n",
      " 0   이표번호                46310 non-null  int64  \n",
      " 1   KPN                 46310 non-null  object \n",
      " 2   성별                  46310 non-null  object \n",
      " 3   출생일                 46310 non-null  object \n",
      " 4   도축개월                46310 non-null  int64  \n",
      " 5   도축일                 46310 non-null  object \n",
      " 6   등급                  46310 non-null  object \n",
      " 7   도체중                 46310 non-null  int64  \n",
      " 8   등심단면적               46251 non-null  float64\n",
      " 9   등지방두께               46258 non-null  float64\n",
      " 10  근내지방도               46228 non-null  float64\n",
      " 11  육색                  46310 non-null  int64  \n",
      " 12  지방색                 46310 non-null  int64  \n",
      " 13  성숙도                 46310 non-null  int64  \n",
      " 14  조직도                 46310 non-null  int64  \n",
      " 15  어미 이표번호             46310 non-null  int64  \n",
      " 16  형매 도체중 평균           46310 non-null  float64\n",
      " 17  형매 등심단면적 평균         46310 non-null  float64\n",
      " 18  형매 등지방 평균           46310 non-null  float64\n",
      " 19  형매 근내지방 평균          46310 non-null  float64\n",
      " 20  형매 마릿수              46310 non-null  int64  \n",
      " 21  외할미 이표번호            46310 non-null  int64  \n",
      " 22  어미형매 도체중 평균         46310 non-null  float64\n",
      " 23  어미형매 등심단면적 평균       46310 non-null  float64\n",
      " 24  어미형매 등지방 평균         46310 non-null  float64\n",
      " 25  어미형매 근내지방 평균        46310 non-null  float64\n",
      " 26  어미형매 마릿수            46310 non-null  int64  \n",
      " 27  외증조할미 이표번호          46310 non-null  int64  \n",
      " 28  외할미형매 도체중 평균        46310 non-null  float64\n",
      " 29  외할미형매 등심단면적 평균      46310 non-null  float64\n",
      " 30  외할미형매 등지방 평균        46310 non-null  float64\n",
      " 31  외할미형매 근내지방 평균       46310 non-null  float64\n",
      " 32  외할미형매 마릿수           46310 non-null  int64  \n",
      " 33  외고조할미 이표번호          46310 non-null  int64  \n",
      " 34  외증조할미형매 도체중 평균      46310 non-null  float64\n",
      " 35  외증조할미형매 등심단면적 평균    46310 non-null  float64\n",
      " 36  외증조할미형매 등지방 평균      46310 non-null  float64\n",
      " 37  외증조할미형매 근내지방 평균     46310 non-null  float64\n",
      " 38  외증조할미형매 마릿수         46310 non-null  int64  \n",
      " 39  외고고조할미 이표번호         46310 non-null  int64  \n",
      " 40  외증조할미형매 도체중 평균.1    46310 non-null  float64\n",
      " 41  외증조할미형매 등심단면적 평균.1  46310 non-null  float64\n",
      " 42  외증조할미형매 등지방 평균.1    46310 non-null  float64\n",
      " 43  외증조할미형매 근내지방 평균.1   46310 non-null  float64\n",
      " 44  외증조할미형매 마릿수.1       46310 non-null  int64  \n",
      "dtypes: float64(23), int64(17), object(5)\n",
      "memory usage: 15.9+ MB\n"
     ]
    }
   ],
   "source": [
    "# 데이터 확인\n",
    "df.info()"
   ]
  },
  {
   "attachments": {},
   "cell_type": "markdown",
   "metadata": {},
   "source": [
    "<h5> 데이터 셋 자체 변수명 중복, 변수명 재설정 필요 </h5>"
   ]
  },
  {
   "cell_type": "code",
   "execution_count": 6,
   "metadata": {
    "vscode": {
     "languageId": "python"
    }
   },
   "outputs": [],
   "source": [
    "# 원래 변수명\n",
    "df.columns = ['이표번호', 'KPN','성별','출생일','도축개월','도축일','등급','도체중','등심단면적','등지방두께', '근내지방도', '육색', '지방색',\n",
    "\t'성숙도', '조직도', '어미_이표번호','형매_도체중_평균', '형매_등심단면적_평균', '형매_등지방_평균', '형매_근내지방_평균',\n",
    "    '형매_마릿수', '외할미_이표번호', '어미형매_도체중_평균', '어미형매_등심단면적_평균', '어미형매_등지방_평균', '어미형매_근내지방_평균',\n",
    "    '어미형매_마릿수', '외증조할미_이표번호', '외할미형매_도체중_평균', '외할미형매_등심단면적_평균', '외할미형매_등지방_평균',\n",
    "    '외할미형매_근내지방_평균', '외할미형매_마릿수', '외고조할미_이표번호', '외증조할미형매_도체중_평균', '외증조할미형매_등심단면적_평균',\n",
    "    '외증조할미형매_등지방_평균', '외증조할미형매_근내지방_평균', '외증조할미형매_마릿수', '외고고조할미_이표번호',\n",
    "    '외고조할미형매_도체중_평균', '외고조할미형매_등심단면적_평균', '외고조할미형매_등지방_평균', '외고조할미형매_근내지방_평균',\n",
    "    '외고조할미형매_마릿수'\n",
    "]"
   ]
  },
  {
   "attachments": {},
   "cell_type": "markdown",
   "metadata": {},
   "source": [
    "<h5> 근내지방도 7,8,9 : 1, 나머지: 0 변환 </h5>"
   ]
  },
  {
   "cell_type": "code",
   "execution_count": 7,
   "metadata": {
    "vscode": {
     "languageId": "python"
    }
   },
   "outputs": [
    {
     "data": {
      "text/plain": [
       "1.0     1143\n",
       "2.0     2986\n",
       "3.0     3368\n",
       "4.0     6786\n",
       "5.0     5015\n",
       "6.0    12689\n",
       "7.0     5003\n",
       "8.0     4517\n",
       "9.0     4721\n",
       "Name: 근내지방도, dtype: int64"
      ]
     },
     "execution_count": 7,
     "metadata": {},
     "output_type": "execute_result"
    }
   ],
   "source": [
    "df.근내지방도.value_counts().sort_index()"
   ]
  },
  {
   "cell_type": "code",
   "execution_count": 8,
   "metadata": {
    "vscode": {
     "languageId": "python"
    }
   },
   "outputs": [
    {
     "data": {
      "text/html": [
       "<div>\n",
       "<style scoped>\n",
       "    .dataframe tbody tr th:only-of-type {\n",
       "        vertical-align: middle;\n",
       "    }\n",
       "\n",
       "    .dataframe tbody tr th {\n",
       "        vertical-align: top;\n",
       "    }\n",
       "\n",
       "    .dataframe thead th {\n",
       "        text-align: right;\n",
       "    }\n",
       "</style>\n",
       "<table border=\"1\" class=\"dataframe\">\n",
       "  <thead>\n",
       "    <tr style=\"text-align: right;\">\n",
       "      <th></th>\n",
       "      <th>이표번호</th>\n",
       "      <th>KPN</th>\n",
       "      <th>성별</th>\n",
       "      <th>출생일</th>\n",
       "      <th>도축개월</th>\n",
       "      <th>도축일</th>\n",
       "      <th>등급</th>\n",
       "      <th>도체중</th>\n",
       "      <th>등심단면적</th>\n",
       "      <th>등지방두께</th>\n",
       "      <th>...</th>\n",
       "      <th>외증조할미형매_등심단면적_평균</th>\n",
       "      <th>외증조할미형매_등지방_평균</th>\n",
       "      <th>외증조할미형매_근내지방_평균</th>\n",
       "      <th>외증조할미형매_마릿수</th>\n",
       "      <th>외고고조할미_이표번호</th>\n",
       "      <th>외고조할미형매_도체중_평균</th>\n",
       "      <th>외고조할미형매_등심단면적_평균</th>\n",
       "      <th>외고조할미형매_등지방_평균</th>\n",
       "      <th>외고조할미형매_근내지방_평균</th>\n",
       "      <th>외고조할미형매_마릿수</th>\n",
       "    </tr>\n",
       "  </thead>\n",
       "  <tbody>\n",
       "    <tr>\n",
       "      <th>0</th>\n",
       "      <td>2144933791</td>\n",
       "      <td>KPN969</td>\n",
       "      <td>수</td>\n",
       "      <td>2019-09-15</td>\n",
       "      <td>31</td>\n",
       "      <td>2022-03-28</td>\n",
       "      <td>1+B</td>\n",
       "      <td>410</td>\n",
       "      <td>97.0</td>\n",
       "      <td>14.0</td>\n",
       "      <td>...</td>\n",
       "      <td>76.57</td>\n",
       "      <td>11.43</td>\n",
       "      <td>2.86</td>\n",
       "      <td>7</td>\n",
       "      <td>138524360</td>\n",
       "      <td>280.0</td>\n",
       "      <td>64.0</td>\n",
       "      <td>10.0</td>\n",
       "      <td>2.0</td>\n",
       "      <td>1</td>\n",
       "    </tr>\n",
       "    <tr>\n",
       "      <th>1</th>\n",
       "      <td>2133571629</td>\n",
       "      <td>KPN1116</td>\n",
       "      <td>거세</td>\n",
       "      <td>2018-10-14</td>\n",
       "      <td>30</td>\n",
       "      <td>2021-03-29</td>\n",
       "      <td>2A</td>\n",
       "      <td>296</td>\n",
       "      <td>73.0</td>\n",
       "      <td>5.0</td>\n",
       "      <td>...</td>\n",
       "      <td>76.57</td>\n",
       "      <td>11.43</td>\n",
       "      <td>2.86</td>\n",
       "      <td>7</td>\n",
       "      <td>138524360</td>\n",
       "      <td>280.0</td>\n",
       "      <td>64.0</td>\n",
       "      <td>10.0</td>\n",
       "      <td>2.0</td>\n",
       "      <td>1</td>\n",
       "    </tr>\n",
       "    <tr>\n",
       "      <th>2</th>\n",
       "      <td>2144063782</td>\n",
       "      <td>KPN1053</td>\n",
       "      <td>수</td>\n",
       "      <td>2020-01-01</td>\n",
       "      <td>35</td>\n",
       "      <td>2022-11-23</td>\n",
       "      <td>1B</td>\n",
       "      <td>472</td>\n",
       "      <td>99.0</td>\n",
       "      <td>12.0</td>\n",
       "      <td>...</td>\n",
       "      <td>86.00</td>\n",
       "      <td>12.00</td>\n",
       "      <td>4.33</td>\n",
       "      <td>3</td>\n",
       "      <td>2018926674</td>\n",
       "      <td>427.0</td>\n",
       "      <td>82.0</td>\n",
       "      <td>11.0</td>\n",
       "      <td>3.0</td>\n",
       "      <td>1</td>\n",
       "    </tr>\n",
       "    <tr>\n",
       "      <th>3</th>\n",
       "      <td>2139632868</td>\n",
       "      <td>KPN1130</td>\n",
       "      <td>암</td>\n",
       "      <td>2019-06-19</td>\n",
       "      <td>42</td>\n",
       "      <td>2022-11-23</td>\n",
       "      <td>1++A</td>\n",
       "      <td>326</td>\n",
       "      <td>77.0</td>\n",
       "      <td>8.0</td>\n",
       "      <td>...</td>\n",
       "      <td>79.67</td>\n",
       "      <td>8.00</td>\n",
       "      <td>4.67</td>\n",
       "      <td>3</td>\n",
       "      <td>182624452</td>\n",
       "      <td>347.0</td>\n",
       "      <td>84.0</td>\n",
       "      <td>10.0</td>\n",
       "      <td>5.0</td>\n",
       "      <td>1</td>\n",
       "    </tr>\n",
       "    <tr>\n",
       "      <th>4</th>\n",
       "      <td>2144690939</td>\n",
       "      <td>KPN1202</td>\n",
       "      <td>암</td>\n",
       "      <td>2019-08-14</td>\n",
       "      <td>40</td>\n",
       "      <td>2022-11-23</td>\n",
       "      <td>1C</td>\n",
       "      <td>403</td>\n",
       "      <td>84.0</td>\n",
       "      <td>17.0</td>\n",
       "      <td>...</td>\n",
       "      <td>83.00</td>\n",
       "      <td>8.00</td>\n",
       "      <td>2.00</td>\n",
       "      <td>1</td>\n",
       "      <td>175189104</td>\n",
       "      <td>276.0</td>\n",
       "      <td>67.0</td>\n",
       "      <td>16.0</td>\n",
       "      <td>3.0</td>\n",
       "      <td>1</td>\n",
       "    </tr>\n",
       "  </tbody>\n",
       "</table>\n",
       "<p>5 rows × 45 columns</p>\n",
       "</div>"
      ],
      "text/plain": [
       "         이표번호      KPN  성별         출생일  도축개월         도축일    등급  도체중  등심단면적  \\\n",
       "0  2144933791   KPN969   수  2019-09-15    31  2022-03-28   1+B  410   97.0   \n",
       "1  2133571629  KPN1116  거세  2018-10-14    30  2021-03-29    2A  296   73.0   \n",
       "2  2144063782  KPN1053   수  2020-01-01    35  2022-11-23    1B  472   99.0   \n",
       "3  2139632868  KPN1130   암  2019-06-19    42  2022-11-23  1++A  326   77.0   \n",
       "4  2144690939  KPN1202   암  2019-08-14    40  2022-11-23    1C  403   84.0   \n",
       "\n",
       "   등지방두께  ...  외증조할미형매_등심단면적_평균  외증조할미형매_등지방_평균  외증조할미형매_근내지방_평균  외증조할미형매_마릿수  \\\n",
       "0   14.0  ...             76.57           11.43             2.86            7   \n",
       "1    5.0  ...             76.57           11.43             2.86            7   \n",
       "2   12.0  ...             86.00           12.00             4.33            3   \n",
       "3    8.0  ...             79.67            8.00             4.67            3   \n",
       "4   17.0  ...             83.00            8.00             2.00            1   \n",
       "\n",
       "   외고고조할미_이표번호  외고조할미형매_도체중_평균  외고조할미형매_등심단면적_평균  외고조할미형매_등지방_평균  \\\n",
       "0    138524360           280.0              64.0            10.0   \n",
       "1    138524360           280.0              64.0            10.0   \n",
       "2   2018926674           427.0              82.0            11.0   \n",
       "3    182624452           347.0              84.0            10.0   \n",
       "4    175189104           276.0              67.0            16.0   \n",
       "\n",
       "   외고조할미형매_근내지방_평균  외고조할미형매_마릿수  \n",
       "0              2.0            1  \n",
       "1              2.0            1  \n",
       "2              3.0            1  \n",
       "3              5.0            1  \n",
       "4              3.0            1  \n",
       "\n",
       "[5 rows x 45 columns]"
      ]
     },
     "execution_count": 8,
     "metadata": {},
     "output_type": "execute_result"
    }
   ],
   "source": [
    "cow = df.copy()\n",
    "cow.head()"
   ]
  },
  {
   "cell_type": "code",
   "execution_count": 9,
   "metadata": {
    "vscode": {
     "languageId": "python"
    }
   },
   "outputs": [
    {
     "name": "stdout",
     "output_type": "stream",
     "text": [
      "0.0    31987\n",
      "1.0    14241\n",
      "Name: 근내지방도, dtype: int64\n",
      "\n",
      "\n",
      "<class 'pandas.core.frame.DataFrame'>\n",
      "RangeIndex: 46310 entries, 0 to 46309\n",
      "Data columns (total 45 columns):\n",
      " #   Column            Non-Null Count  Dtype  \n",
      "---  ------            --------------  -----  \n",
      " 0   이표번호              46310 non-null  int64  \n",
      " 1   KPN               46310 non-null  object \n",
      " 2   성별                46310 non-null  object \n",
      " 3   출생일               46310 non-null  object \n",
      " 4   도축개월              46310 non-null  int64  \n",
      " 5   도축일               46310 non-null  object \n",
      " 6   등급                46310 non-null  object \n",
      " 7   도체중               46310 non-null  int64  \n",
      " 8   등심단면적             46251 non-null  float64\n",
      " 9   등지방두께             46258 non-null  float64\n",
      " 10  근내지방도             46228 non-null  float64\n",
      " 11  육색                46310 non-null  int64  \n",
      " 12  지방색               46310 non-null  int64  \n",
      " 13  성숙도               46310 non-null  int64  \n",
      " 14  조직도               46310 non-null  int64  \n",
      " 15  어미_이표번호           46310 non-null  int64  \n",
      " 16  형매_도체중_평균         46310 non-null  float64\n",
      " 17  형매_등심단면적_평균       46310 non-null  float64\n",
      " 18  형매_등지방_평균         46310 non-null  float64\n",
      " 19  형매_근내지방_평균        46310 non-null  float64\n",
      " 20  형매_마릿수            46310 non-null  int64  \n",
      " 21  외할미_이표번호          46310 non-null  int64  \n",
      " 22  어미형매_도체중_평균       46310 non-null  float64\n",
      " 23  어미형매_등심단면적_평균     46310 non-null  float64\n",
      " 24  어미형매_등지방_평균       46310 non-null  float64\n",
      " 25  어미형매_근내지방_평균      46310 non-null  float64\n",
      " 26  어미형매_마릿수          46310 non-null  int64  \n",
      " 27  외증조할미_이표번호        46310 non-null  int64  \n",
      " 28  외할미형매_도체중_평균      46310 non-null  float64\n",
      " 29  외할미형매_등심단면적_평균    46310 non-null  float64\n",
      " 30  외할미형매_등지방_평균      46310 non-null  float64\n",
      " 31  외할미형매_근내지방_평균     46310 non-null  float64\n",
      " 32  외할미형매_마릿수         46310 non-null  int64  \n",
      " 33  외고조할미_이표번호        46310 non-null  int64  \n",
      " 34  외증조할미형매_도체중_평균    46310 non-null  float64\n",
      " 35  외증조할미형매_등심단면적_평균  46310 non-null  float64\n",
      " 36  외증조할미형매_등지방_평균    46310 non-null  float64\n",
      " 37  외증조할미형매_근내지방_평균   46310 non-null  float64\n",
      " 38  외증조할미형매_마릿수       46310 non-null  int64  \n",
      " 39  외고고조할미_이표번호       46310 non-null  int64  \n",
      " 40  외고조할미형매_도체중_평균    46310 non-null  float64\n",
      " 41  외고조할미형매_등심단면적_평균  46310 non-null  float64\n",
      " 42  외고조할미형매_등지방_평균    46310 non-null  float64\n",
      " 43  외고조할미형매_근내지방_평균   46310 non-null  float64\n",
      " 44  외고조할미형매_마릿수       46310 non-null  int64  \n",
      "dtypes: float64(23), int64(17), object(5)\n",
      "memory usage: 15.9+ MB\n"
     ]
    }
   ],
   "source": [
    "cow['근내지방도'] = cow['근내지방도'].apply(lambda x: 1 if x >= 7 else 0 if x < 7 else x)\n",
    "print(cow.근내지방도.value_counts())\n",
    "print('\\n')\n",
    "cow.info()"
   ]
  },
  {
   "cell_type": "markdown",
   "metadata": {},
   "source": [
    "<h5> 성별 프리마틴, 기타 미경산 제거</h5>"
   ]
  },
  {
   "cell_type": "code",
   "execution_count": 10,
   "metadata": {
    "vscode": {
     "languageId": "python"
    }
   },
   "outputs": [
    {
     "data": {
      "text/plain": [
       "수             16641\n",
       "암             14950\n",
       "거세            14637\n",
       "프리마틴             79\n",
       "기타(프리마틴 등)        2\n",
       "미경산               1\n",
       "Name: 성별, dtype: int64"
      ]
     },
     "execution_count": 10,
     "metadata": {},
     "output_type": "execute_result"
    }
   ],
   "source": [
    "cow.성별.value_counts()"
   ]
  },
  {
   "cell_type": "code",
   "execution_count": 11,
   "metadata": {
    "vscode": {
     "languageId": "python"
    }
   },
   "outputs": [
    {
     "data": {
      "text/plain": [
       "0.0    31987\n",
       "1.0    14241\n",
       "Name: 근내지방도, dtype: int64"
      ]
     },
     "execution_count": 11,
     "metadata": {},
     "output_type": "execute_result"
    }
   ],
   "source": [
    "cow.근내지방도.value_counts()"
   ]
  },
  {
   "cell_type": "code",
   "execution_count": 12,
   "metadata": {
    "vscode": {
     "languageId": "python"
    }
   },
   "outputs": [],
   "source": [
    "# target의 결측치 제거\n",
    "cow.dropna(subset=['근내지방도'], inplace=True)"
   ]
  },
  {
   "cell_type": "code",
   "execution_count": 17,
   "metadata": {
    "vscode": {
     "languageId": "python"
    }
   },
   "outputs": [
    {
     "name": "stdout",
     "output_type": "stream",
     "text": [
      "(46228, 45)\n",
      "성별 제거할 행 개수:82\n",
      "(46146, 45)\n",
      "\n",
      "\n",
      "수     16621\n",
      "암     14895\n",
      "거세    14630\n",
      "Name: 성별, dtype: int64\n"
     ]
    }
   ],
   "source": [
    "c_c_5 = cow.copy()\n",
    "# indexNames = df[ (df['Price'] >= 30) & (df['Price'] <= 70) ].index\n",
    "ind = c_c_5[(c_c_5['성별']=='프리마틴')|(c_c_5['성별']=='미경산')|(c_c_5['성별']=='기타(프리마틴 등)')].index\n",
    "c_c_5.drop(ind, inplace=True)\n",
    "print(cow.shape)\n",
    "print(f'성별 제거할 행 개수:{len(ind)}')\n",
    "print(c_c_5.shape)\n",
    "print('\\n')\n",
    "print(c_c_5.성별.value_counts())"
   ]
  },
  {
   "cell_type": "code",
   "execution_count": 18,
   "metadata": {
    "vscode": {
     "languageId": "python"
    }
   },
   "outputs": [
    {
     "data": {
      "text/html": [
       "<div>\n",
       "<style scoped>\n",
       "    .dataframe tbody tr th:only-of-type {\n",
       "        vertical-align: middle;\n",
       "    }\n",
       "\n",
       "    .dataframe tbody tr th {\n",
       "        vertical-align: top;\n",
       "    }\n",
       "\n",
       "    .dataframe thead th {\n",
       "        text-align: right;\n",
       "    }\n",
       "</style>\n",
       "<table border=\"1\" class=\"dataframe\">\n",
       "  <thead>\n",
       "    <tr style=\"text-align: right;\">\n",
       "      <th></th>\n",
       "      <th>이표번호</th>\n",
       "      <th>KPN</th>\n",
       "      <th>성별</th>\n",
       "      <th>출생일</th>\n",
       "      <th>도축개월</th>\n",
       "      <th>도축일</th>\n",
       "      <th>등급</th>\n",
       "      <th>도체중</th>\n",
       "      <th>등심단면적</th>\n",
       "      <th>등지방두께</th>\n",
       "      <th>...</th>\n",
       "      <th>외증조할미형매_등심단면적_평균</th>\n",
       "      <th>외증조할미형매_등지방_평균</th>\n",
       "      <th>외증조할미형매_근내지방_평균</th>\n",
       "      <th>외증조할미형매_마릿수</th>\n",
       "      <th>외고고조할미_이표번호</th>\n",
       "      <th>외고조할미형매_도체중_평균</th>\n",
       "      <th>외고조할미형매_등심단면적_평균</th>\n",
       "      <th>외고조할미형매_등지방_평균</th>\n",
       "      <th>외고조할미형매_근내지방_평균</th>\n",
       "      <th>외고조할미형매_마릿수</th>\n",
       "    </tr>\n",
       "  </thead>\n",
       "  <tbody>\n",
       "    <tr>\n",
       "      <th>0</th>\n",
       "      <td>2144933791</td>\n",
       "      <td>KPN969</td>\n",
       "      <td>수</td>\n",
       "      <td>2019-09-15</td>\n",
       "      <td>31</td>\n",
       "      <td>2022-03-28</td>\n",
       "      <td>1+B</td>\n",
       "      <td>410</td>\n",
       "      <td>97.0</td>\n",
       "      <td>14.0</td>\n",
       "      <td>...</td>\n",
       "      <td>76.57</td>\n",
       "      <td>11.43</td>\n",
       "      <td>2.86</td>\n",
       "      <td>7</td>\n",
       "      <td>138524360</td>\n",
       "      <td>280.0</td>\n",
       "      <td>64.0</td>\n",
       "      <td>10.0</td>\n",
       "      <td>2.0</td>\n",
       "      <td>1</td>\n",
       "    </tr>\n",
       "    <tr>\n",
       "      <th>1</th>\n",
       "      <td>2133571629</td>\n",
       "      <td>KPN1116</td>\n",
       "      <td>거세</td>\n",
       "      <td>2018-10-14</td>\n",
       "      <td>30</td>\n",
       "      <td>2021-03-29</td>\n",
       "      <td>2A</td>\n",
       "      <td>296</td>\n",
       "      <td>73.0</td>\n",
       "      <td>5.0</td>\n",
       "      <td>...</td>\n",
       "      <td>76.57</td>\n",
       "      <td>11.43</td>\n",
       "      <td>2.86</td>\n",
       "      <td>7</td>\n",
       "      <td>138524360</td>\n",
       "      <td>280.0</td>\n",
       "      <td>64.0</td>\n",
       "      <td>10.0</td>\n",
       "      <td>2.0</td>\n",
       "      <td>1</td>\n",
       "    </tr>\n",
       "    <tr>\n",
       "      <th>2</th>\n",
       "      <td>2144063782</td>\n",
       "      <td>KPN1053</td>\n",
       "      <td>수</td>\n",
       "      <td>2020-01-01</td>\n",
       "      <td>35</td>\n",
       "      <td>2022-11-23</td>\n",
       "      <td>1B</td>\n",
       "      <td>472</td>\n",
       "      <td>99.0</td>\n",
       "      <td>12.0</td>\n",
       "      <td>...</td>\n",
       "      <td>86.00</td>\n",
       "      <td>12.00</td>\n",
       "      <td>4.33</td>\n",
       "      <td>3</td>\n",
       "      <td>2018926674</td>\n",
       "      <td>427.0</td>\n",
       "      <td>82.0</td>\n",
       "      <td>11.0</td>\n",
       "      <td>3.0</td>\n",
       "      <td>1</td>\n",
       "    </tr>\n",
       "    <tr>\n",
       "      <th>3</th>\n",
       "      <td>2139632868</td>\n",
       "      <td>KPN1130</td>\n",
       "      <td>암</td>\n",
       "      <td>2019-06-19</td>\n",
       "      <td>42</td>\n",
       "      <td>2022-11-23</td>\n",
       "      <td>1++A</td>\n",
       "      <td>326</td>\n",
       "      <td>77.0</td>\n",
       "      <td>8.0</td>\n",
       "      <td>...</td>\n",
       "      <td>79.67</td>\n",
       "      <td>8.00</td>\n",
       "      <td>4.67</td>\n",
       "      <td>3</td>\n",
       "      <td>182624452</td>\n",
       "      <td>347.0</td>\n",
       "      <td>84.0</td>\n",
       "      <td>10.0</td>\n",
       "      <td>5.0</td>\n",
       "      <td>1</td>\n",
       "    </tr>\n",
       "    <tr>\n",
       "      <th>4</th>\n",
       "      <td>2144690939</td>\n",
       "      <td>KPN1202</td>\n",
       "      <td>암</td>\n",
       "      <td>2019-08-14</td>\n",
       "      <td>40</td>\n",
       "      <td>2022-11-23</td>\n",
       "      <td>1C</td>\n",
       "      <td>403</td>\n",
       "      <td>84.0</td>\n",
       "      <td>17.0</td>\n",
       "      <td>...</td>\n",
       "      <td>83.00</td>\n",
       "      <td>8.00</td>\n",
       "      <td>2.00</td>\n",
       "      <td>1</td>\n",
       "      <td>175189104</td>\n",
       "      <td>276.0</td>\n",
       "      <td>67.0</td>\n",
       "      <td>16.0</td>\n",
       "      <td>3.0</td>\n",
       "      <td>1</td>\n",
       "    </tr>\n",
       "  </tbody>\n",
       "</table>\n",
       "<p>5 rows × 45 columns</p>\n",
       "</div>"
      ],
      "text/plain": [
       "         이표번호      KPN  성별         출생일  도축개월         도축일    등급  도체중  등심단면적  \\\n",
       "0  2144933791   KPN969   수  2019-09-15    31  2022-03-28   1+B  410   97.0   \n",
       "1  2133571629  KPN1116  거세  2018-10-14    30  2021-03-29    2A  296   73.0   \n",
       "2  2144063782  KPN1053   수  2020-01-01    35  2022-11-23    1B  472   99.0   \n",
       "3  2139632868  KPN1130   암  2019-06-19    42  2022-11-23  1++A  326   77.0   \n",
       "4  2144690939  KPN1202   암  2019-08-14    40  2022-11-23    1C  403   84.0   \n",
       "\n",
       "   등지방두께  ...  외증조할미형매_등심단면적_평균  외증조할미형매_등지방_평균  외증조할미형매_근내지방_평균  외증조할미형매_마릿수  \\\n",
       "0   14.0  ...             76.57           11.43             2.86            7   \n",
       "1    5.0  ...             76.57           11.43             2.86            7   \n",
       "2   12.0  ...             86.00           12.00             4.33            3   \n",
       "3    8.0  ...             79.67            8.00             4.67            3   \n",
       "4   17.0  ...             83.00            8.00             2.00            1   \n",
       "\n",
       "   외고고조할미_이표번호  외고조할미형매_도체중_평균  외고조할미형매_등심단면적_평균  외고조할미형매_등지방_평균  \\\n",
       "0    138524360           280.0              64.0            10.0   \n",
       "1    138524360           280.0              64.0            10.0   \n",
       "2   2018926674           427.0              82.0            11.0   \n",
       "3    182624452           347.0              84.0            10.0   \n",
       "4    175189104           276.0              67.0            16.0   \n",
       "\n",
       "   외고조할미형매_근내지방_평균  외고조할미형매_마릿수  \n",
       "0              2.0            1  \n",
       "1              2.0            1  \n",
       "2              3.0            1  \n",
       "3              5.0            1  \n",
       "4              3.0            1  \n",
       "\n",
       "[5 rows x 45 columns]"
      ]
     },
     "execution_count": 18,
     "metadata": {},
     "output_type": "execute_result"
    }
   ],
   "source": [
    "c_c_5.head()"
   ]
  },
  {
   "cell_type": "code",
   "execution_count": 19,
   "metadata": {
    "vscode": {
     "languageId": "python"
    }
   },
   "outputs": [
    {
     "data": {
      "text/plain": [
       "수     16621\n",
       "암     14895\n",
       "거세    14630\n",
       "Name: 성별, dtype: int64"
      ]
     },
     "execution_count": 19,
     "metadata": {},
     "output_type": "execute_result"
    }
   ],
   "source": [
    "c_c_5.성별.value_counts()"
   ]
  },
  {
   "cell_type": "markdown",
   "metadata": {},
   "source": [
    "<h5> train_test_split, 7:3 </h5>"
   ]
  },
  {
   "cell_type": "code",
   "execution_count": 20,
   "metadata": {
    "vscode": {
     "languageId": "python"
    }
   },
   "outputs": [],
   "source": [
    "X = c_c_5.drop(['근내지방도'],axis=1)\n",
    "Y = c_c_5.근내지방도\n",
    "X_train, X_test, Y_train, Y_test = train_test_split(X, Y, test_size=0.3, random_state = 7777)"
   ]
  },
  {
   "cell_type": "markdown",
   "metadata": {},
   "source": [
    "<h5> 독립변수, 종속변수 합치기 나중에 데이터 불러오기 쉽게 </h5>"
   ]
  },
  {
   "cell_type": "code",
   "execution_count": 21,
   "metadata": {
    "vscode": {
     "languageId": "python"
    }
   },
   "outputs": [
    {
     "data": {
      "text/html": [
       "<div>\n",
       "<style scoped>\n",
       "    .dataframe tbody tr th:only-of-type {\n",
       "        vertical-align: middle;\n",
       "    }\n",
       "\n",
       "    .dataframe tbody tr th {\n",
       "        vertical-align: top;\n",
       "    }\n",
       "\n",
       "    .dataframe thead th {\n",
       "        text-align: right;\n",
       "    }\n",
       "</style>\n",
       "<table border=\"1\" class=\"dataframe\">\n",
       "  <thead>\n",
       "    <tr style=\"text-align: right;\">\n",
       "      <th></th>\n",
       "      <th>이표번호</th>\n",
       "      <th>KPN</th>\n",
       "      <th>성별</th>\n",
       "      <th>출생일</th>\n",
       "      <th>도축개월</th>\n",
       "      <th>도축일</th>\n",
       "      <th>등급</th>\n",
       "      <th>도체중</th>\n",
       "      <th>등심단면적</th>\n",
       "      <th>등지방두께</th>\n",
       "      <th>...</th>\n",
       "      <th>외증조할미형매_등심단면적_평균</th>\n",
       "      <th>외증조할미형매_등지방_평균</th>\n",
       "      <th>외증조할미형매_근내지방_평균</th>\n",
       "      <th>외증조할미형매_마릿수</th>\n",
       "      <th>외고고조할미_이표번호</th>\n",
       "      <th>외고조할미형매_도체중_평균</th>\n",
       "      <th>외고조할미형매_등심단면적_평균</th>\n",
       "      <th>외고조할미형매_등지방_평균</th>\n",
       "      <th>외고조할미형매_근내지방_평균</th>\n",
       "      <th>외고조할미형매_마릿수</th>\n",
       "    </tr>\n",
       "  </thead>\n",
       "  <tbody>\n",
       "    <tr>\n",
       "      <th>33973</th>\n",
       "      <td>2141238667</td>\n",
       "      <td>KPN1062</td>\n",
       "      <td>거세</td>\n",
       "      <td>2019-05-25</td>\n",
       "      <td>30</td>\n",
       "      <td>2021-10-25</td>\n",
       "      <td>1+C</td>\n",
       "      <td>445</td>\n",
       "      <td>96.0</td>\n",
       "      <td>23.0</td>\n",
       "      <td>...</td>\n",
       "      <td>77.17</td>\n",
       "      <td>10.17</td>\n",
       "      <td>3.00</td>\n",
       "      <td>6</td>\n",
       "      <td>177872226</td>\n",
       "      <td>302.00</td>\n",
       "      <td>74.00</td>\n",
       "      <td>17.00</td>\n",
       "      <td>4.0</td>\n",
       "      <td>1</td>\n",
       "    </tr>\n",
       "    <tr>\n",
       "      <th>35829</th>\n",
       "      <td>2104865596</td>\n",
       "      <td>KPN883</td>\n",
       "      <td>암</td>\n",
       "      <td>2016-02-12</td>\n",
       "      <td>43</td>\n",
       "      <td>2019-08-30</td>\n",
       "      <td>2A</td>\n",
       "      <td>382</td>\n",
       "      <td>86.0</td>\n",
       "      <td>5.0</td>\n",
       "      <td>...</td>\n",
       "      <td>82.83</td>\n",
       "      <td>12.33</td>\n",
       "      <td>2.67</td>\n",
       "      <td>6</td>\n",
       "      <td>159665888</td>\n",
       "      <td>330.83</td>\n",
       "      <td>77.50</td>\n",
       "      <td>9.83</td>\n",
       "      <td>3.0</td>\n",
       "      <td>6</td>\n",
       "    </tr>\n",
       "    <tr>\n",
       "      <th>12190</th>\n",
       "      <td>2097962920</td>\n",
       "      <td>KPN879</td>\n",
       "      <td>거세</td>\n",
       "      <td>2015-04-23</td>\n",
       "      <td>36</td>\n",
       "      <td>2018-04-03</td>\n",
       "      <td>1C</td>\n",
       "      <td>537</td>\n",
       "      <td>85.0</td>\n",
       "      <td>12.0</td>\n",
       "      <td>...</td>\n",
       "      <td>90.14</td>\n",
       "      <td>12.86</td>\n",
       "      <td>4.43</td>\n",
       "      <td>7</td>\n",
       "      <td>158655228</td>\n",
       "      <td>349.50</td>\n",
       "      <td>77.75</td>\n",
       "      <td>20.25</td>\n",
       "      <td>2.5</td>\n",
       "      <td>4</td>\n",
       "    </tr>\n",
       "    <tr>\n",
       "      <th>9952</th>\n",
       "      <td>2133015227</td>\n",
       "      <td>KPN1087</td>\n",
       "      <td>수</td>\n",
       "      <td>2019-02-20</td>\n",
       "      <td>31</td>\n",
       "      <td>2021-09-13</td>\n",
       "      <td>1+B</td>\n",
       "      <td>437</td>\n",
       "      <td>80.0</td>\n",
       "      <td>11.0</td>\n",
       "      <td>...</td>\n",
       "      <td>93.00</td>\n",
       "      <td>14.00</td>\n",
       "      <td>7.00</td>\n",
       "      <td>1</td>\n",
       "      <td>188895917</td>\n",
       "      <td>405.00</td>\n",
       "      <td>93.00</td>\n",
       "      <td>16.00</td>\n",
       "      <td>8.0</td>\n",
       "      <td>1</td>\n",
       "    </tr>\n",
       "    <tr>\n",
       "      <th>13930</th>\n",
       "      <td>2135155404</td>\n",
       "      <td>KPN1133</td>\n",
       "      <td>수</td>\n",
       "      <td>2019-03-05</td>\n",
       "      <td>28</td>\n",
       "      <td>2021-06-28</td>\n",
       "      <td>1++A</td>\n",
       "      <td>346</td>\n",
       "      <td>89.0</td>\n",
       "      <td>10.0</td>\n",
       "      <td>...</td>\n",
       "      <td>72.25</td>\n",
       "      <td>14.00</td>\n",
       "      <td>3.75</td>\n",
       "      <td>4</td>\n",
       "      <td>148539052</td>\n",
       "      <td>0.00</td>\n",
       "      <td>0.00</td>\n",
       "      <td>0.00</td>\n",
       "      <td>0.0</td>\n",
       "      <td>1</td>\n",
       "    </tr>\n",
       "  </tbody>\n",
       "</table>\n",
       "<p>5 rows × 44 columns</p>\n",
       "</div>"
      ],
      "text/plain": [
       "             이표번호      KPN  성별         출생일  도축개월         도축일    등급  도체중  \\\n",
       "33973  2141238667  KPN1062  거세  2019-05-25    30  2021-10-25   1+C  445   \n",
       "35829  2104865596   KPN883   암  2016-02-12    43  2019-08-30    2A  382   \n",
       "12190  2097962920   KPN879  거세  2015-04-23    36  2018-04-03    1C  537   \n",
       "9952   2133015227  KPN1087   수  2019-02-20    31  2021-09-13   1+B  437   \n",
       "13930  2135155404  KPN1133   수  2019-03-05    28  2021-06-28  1++A  346   \n",
       "\n",
       "       등심단면적  등지방두께  ...  외증조할미형매_등심단면적_평균  외증조할미형매_등지방_평균  외증조할미형매_근내지방_평균  \\\n",
       "33973   96.0   23.0  ...             77.17           10.17             3.00   \n",
       "35829   86.0    5.0  ...             82.83           12.33             2.67   \n",
       "12190   85.0   12.0  ...             90.14           12.86             4.43   \n",
       "9952    80.0   11.0  ...             93.00           14.00             7.00   \n",
       "13930   89.0   10.0  ...             72.25           14.00             3.75   \n",
       "\n",
       "       외증조할미형매_마릿수  외고고조할미_이표번호  외고조할미형매_도체중_평균  외고조할미형매_등심단면적_평균  \\\n",
       "33973            6    177872226          302.00             74.00   \n",
       "35829            6    159665888          330.83             77.50   \n",
       "12190            7    158655228          349.50             77.75   \n",
       "9952             1    188895917          405.00             93.00   \n",
       "13930            4    148539052            0.00              0.00   \n",
       "\n",
       "       외고조할미형매_등지방_평균  외고조할미형매_근내지방_평균  외고조할미형매_마릿수  \n",
       "33973           17.00              4.0            1  \n",
       "35829            9.83              3.0            6  \n",
       "12190           20.25              2.5            4  \n",
       "9952            16.00              8.0            1  \n",
       "13930            0.00              0.0            1  \n",
       "\n",
       "[5 rows x 44 columns]"
      ]
     },
     "execution_count": 21,
     "metadata": {},
     "output_type": "execute_result"
    }
   ],
   "source": [
    "X_test.head()"
   ]
  },
  {
   "cell_type": "code",
   "execution_count": 22,
   "metadata": {
    "vscode": {
     "languageId": "python"
    }
   },
   "outputs": [
    {
     "data": {
      "text/plain": [
       "33973    0.0\n",
       "35829    0.0\n",
       "12190    0.0\n",
       "9952     0.0\n",
       "13930    1.0\n",
       "Name: 근내지방도, dtype: float64"
      ]
     },
     "execution_count": 22,
     "metadata": {},
     "output_type": "execute_result"
    }
   ],
   "source": [
    "Y_test.head()"
   ]
  },
  {
   "cell_type": "code",
   "execution_count": 23,
   "metadata": {
    "vscode": {
     "languageId": "python"
    }
   },
   "outputs": [],
   "source": [
    "train = pd.concat([X_train,Y_train], axis=1)\n",
    "test = pd.concat([X_test,Y_test], axis=1)"
   ]
  },
  {
   "cell_type": "code",
   "execution_count": 46,
   "metadata": {
    "vscode": {
     "languageId": "python"
    }
   },
   "outputs": [],
   "source": [
    "train.to_csv('C:\\\\Users\\\\Owner\\\\Desktop\\\\윤태준\\\\소\\\\윤태준_김다은\\\\5계대 정리\\\\5_train.csv',encoding='cp949',index=False)\n",
    "test.to_csv('C:\\\\Users\\\\Owner\\\\Desktop\\\\윤태준\\\\소\\\\윤태준_김다은\\\\5계대 정리\\\\5_test.csv',encoding='cp949',index=False)\n",
    "cow.to_csv('C:\\\\Users\\\\Owner\\\\Desktop\\\\윤태준\\\\소\\\\윤태준_김다은\\\\5계대 정리\\\\5__data_full.csv',encoding='cp949',index=False)"
   ]
  },
  {
   "cell_type": "code",
   "execution_count": 2,
   "metadata": {
    "vscode": {
     "languageId": "python"
    }
   },
   "outputs": [],
   "source": [
    "train = pd.read_csv('C:\\\\Users\\\\Owner\\\\Desktop\\\\윤태준\\\\소\\\\윤태준_김다은\\\\5계대 정리\\\\5_train.csv',encoding='cp949')\n",
    "test = pd.read_csv('C:\\\\Users\\\\Owner\\\\Desktop\\\\윤태준\\\\소\\\\윤태준_김다은\\\\5계대 정리\\\\5_test.csv',encoding='cp949')"
   ]
  },
  {
   "cell_type": "code",
   "execution_count": 24,
   "metadata": {
    "vscode": {
     "languageId": "python"
    }
   },
   "outputs": [
    {
     "data": {
      "text/html": [
       "<div>\n",
       "<style scoped>\n",
       "    .dataframe tbody tr th:only-of-type {\n",
       "        vertical-align: middle;\n",
       "    }\n",
       "\n",
       "    .dataframe tbody tr th {\n",
       "        vertical-align: top;\n",
       "    }\n",
       "\n",
       "    .dataframe thead th {\n",
       "        text-align: right;\n",
       "    }\n",
       "</style>\n",
       "<table border=\"1\" class=\"dataframe\">\n",
       "  <thead>\n",
       "    <tr style=\"text-align: right;\">\n",
       "      <th></th>\n",
       "      <th>이표번호</th>\n",
       "      <th>KPN</th>\n",
       "      <th>성별</th>\n",
       "      <th>출생일</th>\n",
       "      <th>도축개월</th>\n",
       "      <th>도축일</th>\n",
       "      <th>등급</th>\n",
       "      <th>도체중</th>\n",
       "      <th>등심단면적</th>\n",
       "      <th>등지방두께</th>\n",
       "      <th>...</th>\n",
       "      <th>외증조할미형매_등지방_평균</th>\n",
       "      <th>외증조할미형매_근내지방_평균</th>\n",
       "      <th>외증조할미형매_마릿수</th>\n",
       "      <th>외고고조할미_이표번호</th>\n",
       "      <th>외고조할미형매_도체중_평균</th>\n",
       "      <th>외고조할미형매_등심단면적_평균</th>\n",
       "      <th>외고조할미형매_등지방_평균</th>\n",
       "      <th>외고조할미형매_근내지방_평균</th>\n",
       "      <th>외고조할미형매_마릿수</th>\n",
       "      <th>근내지방도</th>\n",
       "    </tr>\n",
       "  </thead>\n",
       "  <tbody>\n",
       "    <tr>\n",
       "      <th>16915</th>\n",
       "      <td>2129058010</td>\n",
       "      <td>KPN1076</td>\n",
       "      <td>거세</td>\n",
       "      <td>2018-10-29</td>\n",
       "      <td>30</td>\n",
       "      <td>2021-04-20</td>\n",
       "      <td>1+B</td>\n",
       "      <td>446</td>\n",
       "      <td>83.0</td>\n",
       "      <td>13.0</td>\n",
       "      <td>...</td>\n",
       "      <td>15.33</td>\n",
       "      <td>4.33</td>\n",
       "      <td>6</td>\n",
       "      <td>157475180</td>\n",
       "      <td>281.00</td>\n",
       "      <td>69.00</td>\n",
       "      <td>8.00</td>\n",
       "      <td>2.00</td>\n",
       "      <td>1</td>\n",
       "      <td>0.0</td>\n",
       "    </tr>\n",
       "    <tr>\n",
       "      <th>7437</th>\n",
       "      <td>2144699219</td>\n",
       "      <td>KPN1339</td>\n",
       "      <td>거세</td>\n",
       "      <td>2019-09-08</td>\n",
       "      <td>30</td>\n",
       "      <td>2022-03-07</td>\n",
       "      <td>1++C</td>\n",
       "      <td>500</td>\n",
       "      <td>95.0</td>\n",
       "      <td>17.0</td>\n",
       "      <td>...</td>\n",
       "      <td>19.00</td>\n",
       "      <td>6.00</td>\n",
       "      <td>2</td>\n",
       "      <td>182942587</td>\n",
       "      <td>390.82</td>\n",
       "      <td>88.36</td>\n",
       "      <td>16.91</td>\n",
       "      <td>5.45</td>\n",
       "      <td>11</td>\n",
       "      <td>1.0</td>\n",
       "    </tr>\n",
       "    <tr>\n",
       "      <th>22509</th>\n",
       "      <td>2101922016</td>\n",
       "      <td>KPN953</td>\n",
       "      <td>수</td>\n",
       "      <td>2016-04-04</td>\n",
       "      <td>30</td>\n",
       "      <td>2018-09-05</td>\n",
       "      <td>1++B</td>\n",
       "      <td>466</td>\n",
       "      <td>101.0</td>\n",
       "      <td>10.0</td>\n",
       "      <td>...</td>\n",
       "      <td>6.25</td>\n",
       "      <td>3.75</td>\n",
       "      <td>4</td>\n",
       "      <td>162359014</td>\n",
       "      <td>332.67</td>\n",
       "      <td>85.67</td>\n",
       "      <td>11.00</td>\n",
       "      <td>3.33</td>\n",
       "      <td>3</td>\n",
       "      <td>1.0</td>\n",
       "    </tr>\n",
       "    <tr>\n",
       "      <th>9446</th>\n",
       "      <td>2115911563</td>\n",
       "      <td>KPN1030</td>\n",
       "      <td>수</td>\n",
       "      <td>2017-03-21</td>\n",
       "      <td>30</td>\n",
       "      <td>2019-08-21</td>\n",
       "      <td>1++A</td>\n",
       "      <td>411</td>\n",
       "      <td>103.0</td>\n",
       "      <td>7.0</td>\n",
       "      <td>...</td>\n",
       "      <td>16.43</td>\n",
       "      <td>4.57</td>\n",
       "      <td>7</td>\n",
       "      <td>186370454</td>\n",
       "      <td>381.00</td>\n",
       "      <td>88.50</td>\n",
       "      <td>15.75</td>\n",
       "      <td>4.75</td>\n",
       "      <td>4</td>\n",
       "      <td>1.0</td>\n",
       "    </tr>\n",
       "    <tr>\n",
       "      <th>12306</th>\n",
       "      <td>2137954953</td>\n",
       "      <td>KPN1085</td>\n",
       "      <td>거세</td>\n",
       "      <td>2019-03-31</td>\n",
       "      <td>28</td>\n",
       "      <td>2021-07-28</td>\n",
       "      <td>1B</td>\n",
       "      <td>409</td>\n",
       "      <td>95.0</td>\n",
       "      <td>16.0</td>\n",
       "      <td>...</td>\n",
       "      <td>21.25</td>\n",
       "      <td>3.50</td>\n",
       "      <td>4</td>\n",
       "      <td>197918690</td>\n",
       "      <td>317.75</td>\n",
       "      <td>77.50</td>\n",
       "      <td>10.75</td>\n",
       "      <td>6.25</td>\n",
       "      <td>4</td>\n",
       "      <td>0.0</td>\n",
       "    </tr>\n",
       "  </tbody>\n",
       "</table>\n",
       "<p>5 rows × 45 columns</p>\n",
       "</div>"
      ],
      "text/plain": [
       "             이표번호      KPN  성별         출생일  도축개월         도축일    등급  도체중  \\\n",
       "16915  2129058010  KPN1076  거세  2018-10-29    30  2021-04-20   1+B  446   \n",
       "7437   2144699219  KPN1339  거세  2019-09-08    30  2022-03-07  1++C  500   \n",
       "22509  2101922016   KPN953   수  2016-04-04    30  2018-09-05  1++B  466   \n",
       "9446   2115911563  KPN1030   수  2017-03-21    30  2019-08-21  1++A  411   \n",
       "12306  2137954953  KPN1085  거세  2019-03-31    28  2021-07-28    1B  409   \n",
       "\n",
       "       등심단면적  등지방두께  ...  외증조할미형매_등지방_평균  외증조할미형매_근내지방_평균  외증조할미형매_마릿수  \\\n",
       "16915   83.0   13.0  ...           15.33             4.33            6   \n",
       "7437    95.0   17.0  ...           19.00             6.00            2   \n",
       "22509  101.0   10.0  ...            6.25             3.75            4   \n",
       "9446   103.0    7.0  ...           16.43             4.57            7   \n",
       "12306   95.0   16.0  ...           21.25             3.50            4   \n",
       "\n",
       "       외고고조할미_이표번호  외고조할미형매_도체중_평균  외고조할미형매_등심단면적_평균  외고조할미형매_등지방_평균  \\\n",
       "16915    157475180          281.00             69.00            8.00   \n",
       "7437     182942587          390.82             88.36           16.91   \n",
       "22509    162359014          332.67             85.67           11.00   \n",
       "9446     186370454          381.00             88.50           15.75   \n",
       "12306    197918690          317.75             77.50           10.75   \n",
       "\n",
       "       외고조할미형매_근내지방_평균  외고조할미형매_마릿수  근내지방도  \n",
       "16915             2.00            1    0.0  \n",
       "7437              5.45           11    1.0  \n",
       "22509             3.33            3    1.0  \n",
       "9446              4.75            4    1.0  \n",
       "12306             6.25            4    0.0  \n",
       "\n",
       "[5 rows x 45 columns]"
      ]
     },
     "execution_count": 24,
     "metadata": {},
     "output_type": "execute_result"
    }
   ],
   "source": [
    "train.head()"
   ]
  },
  {
   "cell_type": "markdown",
   "metadata": {},
   "source": [
    "<h5> Logistic Regression </h5>"
   ]
  },
  {
   "cell_type": "code",
   "execution_count": 27,
   "metadata": {
    "vscode": {
     "languageId": "python"
    }
   },
   "outputs": [
    {
     "data": {
      "text/plain": [
       "이표번호                   int64\n",
       "KPN                   object\n",
       "성별                    object\n",
       "출생일                   object\n",
       "도축개월                   int64\n",
       "도축일                   object\n",
       "등급                    object\n",
       "도체중                    int64\n",
       "등심단면적                float64\n",
       "등지방두께                float64\n",
       "육색                     int64\n",
       "지방색                    int64\n",
       "성숙도                    int64\n",
       "조직도                    int64\n",
       "어미_이표번호                int64\n",
       "형매_도체중_평균            float64\n",
       "형매_등심단면적_평균          float64\n",
       "형매_등지방_평균            float64\n",
       "형매_근내지방_평균           float64\n",
       "형매_마릿수                 int64\n",
       "외할미_이표번호               int64\n",
       "어미형매_도체중_평균          float64\n",
       "어미형매_등심단면적_평균        float64\n",
       "어미형매_등지방_평균          float64\n",
       "어미형매_근내지방_평균         float64\n",
       "어미형매_마릿수               int64\n",
       "외증조할미_이표번호             int64\n",
       "외할미형매_도체중_평균         float64\n",
       "외할미형매_등심단면적_평균       float64\n",
       "외할미형매_등지방_평균         float64\n",
       "외할미형매_근내지방_평균        float64\n",
       "외할미형매_마릿수              int64\n",
       "외고조할미_이표번호             int64\n",
       "외증조할미형매_도체중_평균       float64\n",
       "외증조할미형매_등심단면적_평균     float64\n",
       "외증조할미형매_등지방_평균       float64\n",
       "외증조할미형매_근내지방_평균      float64\n",
       "외증조할미형매_마릿수            int64\n",
       "외고고조할미_이표번호            int64\n",
       "외고조할미형매_도체중_평균       float64\n",
       "외고조할미형매_등심단면적_평균     float64\n",
       "외고조할미형매_등지방_평균       float64\n",
       "외고조할미형매_근내지방_평균      float64\n",
       "외고조할미형매_마릿수            int64\n",
       "근내지방도               category\n",
       "dtype: object"
      ]
     },
     "execution_count": 27,
     "metadata": {},
     "output_type": "execute_result"
    }
   ],
   "source": [
    "train = train.astype({'근내지방도':'int64'})\n",
    "train = train.astype({'근내지방도':'category'})\n",
    "train.dtypes\n",
    "test = test.astype({'근내지방도':'int64'})\n",
    "test = test.astype({'근내지방도':'category'})\n",
    "test.dtypes"
   ]
  },
  {
   "cell_type": "code",
   "execution_count": 28,
   "metadata": {
    "vscode": {
     "languageId": "python"
    }
   },
   "outputs": [
    {
     "name": "stdout",
     "output_type": "stream",
     "text": [
      "[0, 1]\n",
      "Categories (2, int64): [0, 1]\n",
      "[0, 1]\n",
      "Categories (2, int64): [0, 1]\n"
     ]
    }
   ],
   "source": [
    "print(train.근내지방도.unique())\n",
    "print(test.근내지방도.unique())"
   ]
  },
  {
   "cell_type": "code",
   "execution_count": 31,
   "metadata": {
    "vscode": {
     "languageId": "python"
    }
   },
   "outputs": [],
   "source": [
    "train_x = train.drop(['이표번호', 'KPN', '출생일', '도축일', '등급', '등심단면적',\n",
    "       '등지방두께', '육색', '지방색', '성숙도', '조직도', '어미_이표번호', '외할미_이표번호',\n",
    "       '외증조할미_이표번호', '외고조할미_이표번호', '외고고조할미_이표번호', '근내지방도'],axis=1)\n",
    "train_y = train['근내지방도']"
   ]
  },
  {
   "cell_type": "code",
   "execution_count": 32,
   "metadata": {
    "vscode": {
     "languageId": "python"
    }
   },
   "outputs": [],
   "source": [
    "test_x = test.drop(['이표번호','KPN','출생일','도축일','등급','등심단면적','등지방두께','육색','지방색','성숙도','조직도','어미_이표번호','외할미_이표번호',\n",
    "    '외증조할미_이표번호','외고조할미_이표번호','외고고조할미_이표번호','근내지방도'],axis=1)\n",
    "test_y = test['근내지방도']"
   ]
  },
  {
   "cell_type": "code",
   "execution_count": 33,
   "metadata": {
    "vscode": {
     "languageId": "python"
    }
   },
   "outputs": [],
   "source": [
    "t_x = train_x.copy()\n",
    "t_x = pd.get_dummies(t_x, columns=['성별'], drop_first=True)\n",
    "\n",
    "te_x = test_x.copy()\n",
    "te_x = pd.get_dummies(te_x, columns=['성별'], drop_first=True)"
   ]
  },
  {
   "cell_type": "code",
   "execution_count": 34,
   "metadata": {
    "vscode": {
     "languageId": "python"
    }
   },
   "outputs": [
    {
     "data": {
      "text/plain": [
       "[0, 1]\n",
       "Categories (2, int64): [0, 1]"
      ]
     },
     "execution_count": 34,
     "metadata": {},
     "output_type": "execute_result"
    }
   ],
   "source": [
    "train_y.unique()"
   ]
  },
  {
   "cell_type": "code",
   "execution_count": 35,
   "metadata": {
    "vscode": {
     "languageId": "python"
    }
   },
   "outputs": [
    {
     "data": {
      "text/plain": [
       "CategoricalDtype(categories=[0, 1], ordered=False)"
      ]
     },
     "execution_count": 35,
     "metadata": {},
     "output_type": "execute_result"
    }
   ],
   "source": [
    "train_y.dtype"
   ]
  },
  {
   "cell_type": "code",
   "execution_count": 36,
   "metadata": {
    "vscode": {
     "languageId": "python"
    }
   },
   "outputs": [],
   "source": [
    "model = sm.Logit(train_y, t_x)"
   ]
  },
  {
   "cell_type": "code",
   "execution_count": 37,
   "metadata": {
    "vscode": {
     "languageId": "python"
    }
   },
   "outputs": [
    {
     "name": "stdout",
     "output_type": "stream",
     "text": [
      "Optimization terminated successfully.\n",
      "         Current function value: 0.357308\n",
      "         Iterations 7\n",
      "                           Logit Regression Results                           \n",
      "==============================================================================\n",
      "Dep. Variable:                  근내지방도   No. Observations:                32302\n",
      "Model:                          Logit   Df Residuals:                    32273\n",
      "Method:                           MLE   Df Model:                           28\n",
      "Date:                Fri, 27 Jan 2023   Pseudo R-squ.:                  0.4203\n",
      "Time:                        14:27:42   Log-Likelihood:                -11542.\n",
      "converged:                       True   LL-Null:                       -19910.\n",
      "Covariance Type:            nonrobust   LLR p-value:                     0.000\n",
      "====================================================================================\n",
      "                       coef    std err          z      P>|z|      [0.025      0.975]\n",
      "------------------------------------------------------------------------------------\n",
      "도축개월                -0.0269      0.003    -10.470      0.000      -0.032      -0.022\n",
      "도체중                  0.0114      0.000     25.719      0.000       0.011       0.012\n",
      "형매_도체중_평균           -0.0169      0.001    -28.053      0.000      -0.018      -0.016\n",
      "형매_등심단면적_평균         -0.0065      0.002     -2.819      0.005      -0.011      -0.002\n",
      "형매_등지방_평균           -0.0138      0.005     -2.931      0.003      -0.023      -0.005\n",
      "형매_근내지방_평균           1.5872      0.020     78.853      0.000       1.548       1.627\n",
      "형매_마릿수               0.1292      0.013     10.333      0.000       0.105       0.154\n",
      "어미형매_도체중_평균         -0.0009      0.000     -1.809      0.070      -0.002    7.43e-05\n",
      "어미형매_등심단면적_평균       -0.0139      0.002     -5.686      0.000      -0.019      -0.009\n",
      "어미형매_등지방_평균         -0.0112      0.005     -2.471      0.013      -0.020      -0.002\n",
      "어미형매_근내지방_평균         0.0196      0.013      1.493      0.135      -0.006       0.045\n",
      "어미형매_마릿수            -0.0079      0.010     -0.778      0.436      -0.028       0.012\n",
      "외할미형매_도체중_평균        -0.0010      0.001     -1.749      0.080      -0.002       0.000\n",
      "외할미형매_등심단면적_평균      -0.0171      0.003     -6.513      0.000      -0.022      -0.012\n",
      "외할미형매_등지방_평균        -0.0036      0.005     -0.776      0.438      -0.013       0.005\n",
      "외할미형매_근내지방_평균        0.0260      0.014      1.855      0.064      -0.001       0.053\n",
      "외할미형매_마릿수            0.0076      0.008      0.926      0.354      -0.008       0.024\n",
      "외증조할미형매_도체중_평균      -0.0008      0.001     -1.271      0.204      -0.002       0.000\n",
      "외증조할미형매_등심단면적_평균    -0.0195      0.003     -7.181      0.000      -0.025      -0.014\n",
      "외증조할미형매_등지방_평균      -0.0079      0.005     -1.748      0.080      -0.017       0.001\n",
      "외증조할미형매_근내지방_평균      0.0277      0.014      1.943      0.052      -0.000       0.056\n",
      "외증조할미형매_마릿수         -0.0059      0.007     -0.812      0.417      -0.020       0.008\n",
      "외고조할미형매_도체중_평균      -0.0013      0.001     -2.291      0.022      -0.002      -0.000\n",
      "외고조할미형매_등심단면적_평균    -0.0113      0.002     -4.730      0.000      -0.016      -0.007\n",
      "외고조할미형매_등지방_평균       0.0053      0.004      1.344      0.179      -0.002       0.013\n",
      "외고조할미형매_근내지방_평균      0.0089      0.012      0.729      0.466      -0.015       0.033\n",
      "외고조할미형매_마릿수          0.0058      0.008      0.765      0.444      -0.009       0.021\n",
      "성별_수                -0.0737      0.038     -1.958      0.050      -0.147    5.88e-05\n",
      "성별_암                -0.4558      0.058     -7.798      0.000      -0.570      -0.341\n",
      "====================================================================================\n"
     ]
    }
   ],
   "source": [
    "results = model.fit(method='newton')\n",
    "pr_y = results.predict(te_x)\n",
    "print(results.summary())"
   ]
  },
  {
   "cell_type": "code",
   "execution_count": 38,
   "metadata": {
    "vscode": {
     "languageId": "python"
    }
   },
   "outputs": [
    {
     "data": {
      "text/plain": [
       "33973    0.213445\n",
       "35829    0.000529\n",
       "12190    0.157204\n",
       "9952     0.310293\n",
       "13930    0.928849\n",
       "           ...   \n",
       "21566    0.318415\n",
       "42615    0.133082\n",
       "37045    0.951623\n",
       "42279    0.844393\n",
       "18791    0.029206\n",
       "Length: 13844, dtype: float64"
      ]
     },
     "execution_count": 38,
     "metadata": {},
     "output_type": "execute_result"
    }
   ],
   "source": [
    "pr_y"
   ]
  },
  {
   "cell_type": "code",
   "execution_count": 39,
   "metadata": {
    "vscode": {
     "languageId": "python"
    }
   },
   "outputs": [
    {
     "name": "stdout",
     "output_type": "stream",
     "text": [
      "0.5보다 작은 것 개수:3742\n",
      "0.5보다 큰 것 개수:10102\n",
      "0.5 개수:0\n"
     ]
    }
   ],
   "source": [
    "print(f'0.5보다 작은 것 개수:{len(pr_y[pr_y>0.5])}')\n",
    "print(f'0.5보다 큰 것 개수:{len(pr_y[pr_y<=0.5])}')\n",
    "print(f'0.5 개수:{len(pr_y[pr_y==0.5])}')"
   ]
  },
  {
   "cell_type": "code",
   "execution_count": 40,
   "metadata": {
    "vscode": {
     "languageId": "python"
    }
   },
   "outputs": [],
   "source": [
    "pr_y = pr_y.apply(lambda x: 1 if x > 0.5 else 0 )"
   ]
  },
  {
   "cell_type": "code",
   "execution_count": 41,
   "metadata": {
    "vscode": {
     "languageId": "python"
    }
   },
   "outputs": [
    {
     "data": {
      "text/plain": [
       "0    10102\n",
       "1     3742\n",
       "dtype: int64"
      ]
     },
     "execution_count": 41,
     "metadata": {},
     "output_type": "execute_result"
    }
   ],
   "source": [
    "pr_y.value_counts()"
   ]
  },
  {
   "cell_type": "markdown",
   "metadata": {},
   "source": [
    "<h5> 성과지표 </h5>"
   ]
  },
  {
   "cell_type": "code",
   "execution_count": 42,
   "metadata": {
    "vscode": {
     "languageId": "python"
    }
   },
   "outputs": [
    {
     "name": "stdout",
     "output_type": "stream",
     "text": [
      "              precision    recall  f1-score   support\n",
      "\n",
      "     class 0       0.86      0.91      0.89      9533\n",
      "     class 1       0.78      0.68      0.73      4311\n",
      "\n",
      "    accuracy                           0.84     13844\n",
      "   macro avg       0.82      0.80      0.81     13844\n",
      "weighted avg       0.84      0.84      0.84     13844\n",
      "\n"
     ]
    }
   ],
   "source": [
    "print(classification_report(test_y, pr_y, target_names=['class 0', 'class 1']))"
   ]
  },
  {
   "cell_type": "code",
   "execution_count": 43,
   "metadata": {
    "vscode": {
     "languageId": "python"
    }
   },
   "outputs": [],
   "source": [
    "import sklearn.metrics as metrics"
   ]
  },
  {
   "cell_type": "code",
   "execution_count": 45,
   "metadata": {
    "vscode": {
     "languageId": "python"
    }
   },
   "outputs": [
    {
     "name": "stdout",
     "output_type": "stream",
     "text": [
      "AUC:0.7955551268113258\n"
     ]
    },
    {
     "data": {
      "image/png": "[encoded data removed]",
      "text/plain": [
       "<Figure size 640x480 with 1 Axes>"
      ]
     },
     "metadata": {},
     "output_type": "display_data"
    },
    {
     "data": {
      "image/png": "[encoded data removed]",
      "text/plain": [
       "<Figure size 1500x500 with 1 Axes>"
      ]
     },
     "metadata": {},
     "output_type": "display_data"
    }
   ],
   "source": [
    "# sklearn에서 ROC 패키지 활용\n",
    "fpr, tpr, thresholds = metrics.roc_curve(test_y, pr_y,pos_label = 1)\n",
    "\n",
    "# ROC curve\n",
    "plt.plot(fpr,tpr)\n",
    "\n",
    "# AUC\n",
    "auc = np.trapz(tpr,fpr)\n",
    "print(f'AUC:{auc}')\n",
    "\n",
    "\n",
    "plt.figure(figsize=(15, 5))\n",
    "\n",
    "plt.plot([0,1], [0, 1], label='STR')\n",
    "\n",
    "\n",
    "plt.plot(fpr, tpr, label='ROC')\n",
    "plt.title('ROC 커브')\n",
    "plt.show()"
   ]
  },
  {
   "cell_type": "code",
   "execution_count": 48,
   "metadata": {
    "vscode": {
     "languageId": "python"
    }
   },
   "outputs": [
    {
     "data": {
      "text/plain": [
       "array([[2920, 1391],\n",
       "       [ 822, 8711]], dtype=int64)"
      ]
     },
     "execution_count": 48,
     "metadata": {},
     "output_type": "execute_result"
    }
   ],
   "source": [
    "confusion_matrix(test_y,pr_y, labels=[1,0])"
   ]
  }
 ],
 "metadata": {
  "kernelspec": {
   "display_name": "'venv1'",
   "language": "python",
   "name": "conda"
  },
  "orig_nbformat": 4,
  "vscode": {
   "interpreter": {
    "hash": "12d37d03e29907ddf2c648e7ca97c2664521e3e6dbb13ba26dd677f6ee98ebe1"
   }
  }
 },
 "nbformat": 4,
 "nbformat_minor": 2
}
