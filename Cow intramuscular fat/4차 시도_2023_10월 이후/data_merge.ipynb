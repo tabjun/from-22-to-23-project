{
 "cells": [
  {
   "cell_type": "code",
   "execution_count": 1,
   "metadata": {},
   "outputs": [],
   "source": [
    "import pandas as pd\n",
    "import numpy as np\n",
    "import os\n",
    "import statsmodels.api as sm"
   ]
  },
  {
   "cell_type": "markdown",
   "metadata": {},
   "source": [
    "#### 농가 데이터 분할된 파일 합치기"
   ]
  },
  {
   "cell_type": "code",
   "execution_count": 3,
   "metadata": {},
   "outputs": [
    {
     "data": {
      "text/plain": [
       "['2022-12.xlsx',\n",
       " '2023-01.xlsx',\n",
       " '2023-02.xlsx',\n",
       " '2023-03.xlsx',\n",
       " '2023-04.xlsx',\n",
       " '2023-05.xlsx',\n",
       " '2023-06.xlsx',\n",
       " '2023-07.xlsx',\n",
       " '2023-08.xlsx']"
      ]
     },
     "execution_count": 3,
     "metadata": {},
     "output_type": "execute_result"
    }
   ],
   "source": [
    "# 파일이 존재하는 경로 불러오기 및 리스트\n",
    "path = '../data'\n",
    "file_lst = os.listdir(path)# 폴더 내 파일 리스트\n",
    "file_lst"
   ]
  },
  {
   "cell_type": "code",
   "execution_count": 4,
   "metadata": {},
   "outputs": [
    {
     "data": {
      "text/html": [
       "<div>\n",
       "<style scoped>\n",
       "    .dataframe tbody tr th:only-of-type {\n",
       "        vertical-align: middle;\n",
       "    }\n",
       "\n",
       "    .dataframe tbody tr th {\n",
       "        vertical-align: top;\n",
       "    }\n",
       "\n",
       "    .dataframe thead th {\n",
       "        text-align: right;\n",
       "    }\n",
       "</style>\n",
       "<table border=\"1\" class=\"dataframe\">\n",
       "  <thead>\n",
       "    <tr style=\"text-align: right;\">\n",
       "      <th></th>\n",
       "      <th>개월령</th>\n",
       "      <th>생시체중</th>\n",
       "      <th>근내평균</th>\n",
       "      <th>도체범위근내평균</th>\n",
       "      <th>체고</th>\n",
       "      <th>체장</th>\n",
       "      <th>형매도축수</th>\n",
       "      <th>형매도체평균</th>\n",
       "      <th>형매근내평균</th>\n",
       "      <th>형매근내평균가산</th>\n",
       "      <th>6개월내출산</th>\n",
       "      <th>농가근내평균</th>\n",
       "      <th>농가근내평균가산</th>\n",
       "      <th>근내EPD</th>\n",
       "      <th>근내</th>\n",
       "      <th>점수</th>\n",
       "    </tr>\n",
       "  </thead>\n",
       "  <tbody>\n",
       "    <tr>\n",
       "      <th>0</th>\n",
       "      <td>46</td>\n",
       "      <td>644.64</td>\n",
       "      <td>3.34</td>\n",
       "      <td>3.23</td>\n",
       "      <td>131.4</td>\n",
       "      <td>158.9</td>\n",
       "      <td>NaN</td>\n",
       "      <td>NaN</td>\n",
       "      <td>NaN</td>\n",
       "      <td>NaN</td>\n",
       "      <td>N</td>\n",
       "      <td>4.16</td>\n",
       "      <td>-1.05</td>\n",
       "      <td>0.18</td>\n",
       "      <td>6</td>\n",
       "      <td>4</td>\n",
       "    </tr>\n",
       "    <tr>\n",
       "      <th>1</th>\n",
       "      <td>46</td>\n",
       "      <td>633.93</td>\n",
       "      <td>4.59</td>\n",
       "      <td>4.52</td>\n",
       "      <td>129.7</td>\n",
       "      <td>148.4</td>\n",
       "      <td>NaN</td>\n",
       "      <td>NaN</td>\n",
       "      <td>NaN</td>\n",
       "      <td>NaN</td>\n",
       "      <td>Y</td>\n",
       "      <td>4.16</td>\n",
       "      <td>-1.05</td>\n",
       "      <td>0.17</td>\n",
       "      <td>4</td>\n",
       "      <td>3</td>\n",
       "    </tr>\n",
       "  </tbody>\n",
       "</table>\n",
       "</div>"
      ],
      "text/plain": [
       "   개월령    생시체중  근내평균  도체범위근내평균     체고     체장  형매도축수  형매도체평균  형매근내평균  형매근내평균가산  \\\n",
       "0   46  644.64  3.34      3.23  131.4  158.9    NaN     NaN     NaN       NaN   \n",
       "1   46  633.93  4.59      4.52  129.7  148.4    NaN     NaN     NaN       NaN   \n",
       "\n",
       "  6개월내출산  농가근내평균 농가근내평균가산  근내EPD  근내  점수  \n",
       "0      N    4.16    -1.05   0.18   6   4  \n",
       "1      Y    4.16    -1.05   0.17   4   3  "
      ]
     },
     "execution_count": 4,
     "metadata": {},
     "output_type": "execute_result"
    }
   ],
   "source": [
    "df = pd.DataFrame()\n",
    "for i in file_lst: # i에 파일명 담기\n",
    "    data_3 = pd.read_excel(path +'/'+i) # 파일 불러오기\n",
    "    df = pd.concat([df, data_3])\n",
    "    \n",
    "df = df.reset_index(drop = True)\n",
    "\n",
    "df.head(2)"
   ]
  },
  {
   "cell_type": "code",
   "execution_count": 5,
   "metadata": {},
   "outputs": [
    {
     "name": "stdout",
     "output_type": "stream",
     "text": [
      "(92358, 16)\n"
     ]
    }
   ],
   "source": [
    "a = df.columns\n",
    "print(df.shape)"
   ]
  },
  {
   "cell_type": "markdown",
   "metadata": {},
   "source": [
    "#### 우시장 암소 데이터 불러오기"
   ]
  },
  {
   "cell_type": "code",
   "execution_count": 6,
   "metadata": {},
   "outputs": [
    {
     "data": {
      "text/plain": [
       "Index(['개월령', '생시체중', '근내평균', '도체범위근내평균', '체고', '체장', '형매도축수', '형매도체평균',\n",
       "       '형매근내평균', '형매근내평균가산', '6개월내출산', '농가근내평균', '농가근내평균가산', '근내EPD', '근내',\n",
       "       '도축등급점수'],\n",
       "      dtype='object')"
      ]
     },
     "execution_count": 6,
     "metadata": {},
     "output_type": "execute_result"
    }
   ],
   "source": [
    "df1 = pd.read_excel('../2023-01-2023-09-우시장.xlsx') \n",
    "df1.columns"
   ]
  },
  {
   "cell_type": "code",
   "execution_count": 7,
   "metadata": {},
   "outputs": [
    {
     "data": {
      "text/html": [
       "<div>\n",
       "<style scoped>\n",
       "    .dataframe tbody tr th:only-of-type {\n",
       "        vertical-align: middle;\n",
       "    }\n",
       "\n",
       "    .dataframe tbody tr th {\n",
       "        vertical-align: top;\n",
       "    }\n",
       "\n",
       "    .dataframe thead th {\n",
       "        text-align: right;\n",
       "    }\n",
       "</style>\n",
       "<table border=\"1\" class=\"dataframe\">\n",
       "  <thead>\n",
       "    <tr style=\"text-align: right;\">\n",
       "      <th></th>\n",
       "      <th>개월령</th>\n",
       "      <th>생시체중</th>\n",
       "      <th>근내평균</th>\n",
       "      <th>도체범위근내평균</th>\n",
       "      <th>체고</th>\n",
       "      <th>체장</th>\n",
       "      <th>형매도축수</th>\n",
       "      <th>형매도체평균</th>\n",
       "      <th>형매근내평균</th>\n",
       "      <th>형매근내평균가산</th>\n",
       "      <th>6개월내출산</th>\n",
       "      <th>농가근내평균</th>\n",
       "      <th>농가근내평균가산</th>\n",
       "      <th>근내EPD</th>\n",
       "      <th>근내</th>\n",
       "      <th>점수</th>\n",
       "    </tr>\n",
       "  </thead>\n",
       "  <tbody>\n",
       "    <tr>\n",
       "      <th>0</th>\n",
       "      <td>37</td>\n",
       "      <td>620</td>\n",
       "      <td>4.27</td>\n",
       "      <td>4.32</td>\n",
       "      <td>130.3</td>\n",
       "      <td>153.2</td>\n",
       "      <td>NaN</td>\n",
       "      <td>NaN</td>\n",
       "      <td>NaN</td>\n",
       "      <td>NaN</td>\n",
       "      <td>Y</td>\n",
       "      <td>4.75</td>\n",
       "      <td>-0.20</td>\n",
       "      <td>0.39</td>\n",
       "      <td>2</td>\n",
       "      <td>2</td>\n",
       "    </tr>\n",
       "    <tr>\n",
       "      <th>1</th>\n",
       "      <td>34</td>\n",
       "      <td>608</td>\n",
       "      <td>5.49</td>\n",
       "      <td>4.95</td>\n",
       "      <td>130.3</td>\n",
       "      <td>157.4</td>\n",
       "      <td>NaN</td>\n",
       "      <td>NaN</td>\n",
       "      <td>NaN</td>\n",
       "      <td>NaN</td>\n",
       "      <td>Y</td>\n",
       "      <td>4.75</td>\n",
       "      <td>-0.20</td>\n",
       "      <td>0.45</td>\n",
       "      <td>4</td>\n",
       "      <td>3</td>\n",
       "    </tr>\n",
       "    <tr>\n",
       "      <th>2</th>\n",
       "      <td>35</td>\n",
       "      <td>576</td>\n",
       "      <td>3.77</td>\n",
       "      <td>2.33</td>\n",
       "      <td>133.3</td>\n",
       "      <td>159.9</td>\n",
       "      <td>NaN</td>\n",
       "      <td>NaN</td>\n",
       "      <td>NaN</td>\n",
       "      <td>NaN</td>\n",
       "      <td>Y</td>\n",
       "      <td>4.75</td>\n",
       "      <td>-0.20</td>\n",
       "      <td>-0.01</td>\n",
       "      <td>3</td>\n",
       "      <td>2</td>\n",
       "    </tr>\n",
       "    <tr>\n",
       "      <th>3</th>\n",
       "      <td>37</td>\n",
       "      <td>600</td>\n",
       "      <td>5.16</td>\n",
       "      <td>5.46</td>\n",
       "      <td>129.4</td>\n",
       "      <td>148.4</td>\n",
       "      <td>NaN</td>\n",
       "      <td>NaN</td>\n",
       "      <td>NaN</td>\n",
       "      <td>NaN</td>\n",
       "      <td>N</td>\n",
       "      <td>NaN</td>\n",
       "      <td>NaN</td>\n",
       "      <td>0.29</td>\n",
       "      <td>8</td>\n",
       "      <td>5</td>\n",
       "    </tr>\n",
       "    <tr>\n",
       "      <th>4</th>\n",
       "      <td>60</td>\n",
       "      <td>563</td>\n",
       "      <td>4.38</td>\n",
       "      <td>3.90</td>\n",
       "      <td>128.0</td>\n",
       "      <td>148.5</td>\n",
       "      <td>2.0</td>\n",
       "      <td>429.5</td>\n",
       "      <td>4.0</td>\n",
       "      <td>-1.48</td>\n",
       "      <td>N</td>\n",
       "      <td>5.56</td>\n",
       "      <td>1.31</td>\n",
       "      <td>0.26</td>\n",
       "      <td>3</td>\n",
       "      <td>2</td>\n",
       "    </tr>\n",
       "  </tbody>\n",
       "</table>\n",
       "</div>"
      ],
      "text/plain": [
       "   개월령  생시체중  근내평균  도체범위근내평균     체고     체장  형매도축수  형매도체평균  형매근내평균  형매근내평균가산  \\\n",
       "0   37   620  4.27      4.32  130.3  153.2    NaN     NaN     NaN       NaN   \n",
       "1   34   608  5.49      4.95  130.3  157.4    NaN     NaN     NaN       NaN   \n",
       "2   35   576  3.77      2.33  133.3  159.9    NaN     NaN     NaN       NaN   \n",
       "3   37   600  5.16      5.46  129.4  148.4    NaN     NaN     NaN       NaN   \n",
       "4   60   563  4.38      3.90  128.0  148.5    2.0   429.5     4.0     -1.48   \n",
       "\n",
       "  6개월내출산  농가근내평균  농가근내평균가산  근내EPD  근내  점수  \n",
       "0      Y    4.75     -0.20   0.39   2   2  \n",
       "1      Y    4.75     -0.20   0.45   4   3  \n",
       "2      Y    4.75     -0.20  -0.01   3   2  \n",
       "3      N     NaN       NaN   0.29   8   5  \n",
       "4      N    5.56      1.31   0.26   3   2  "
      ]
     },
     "execution_count": 7,
     "metadata": {},
     "output_type": "execute_result"
    }
   ],
   "source": [
    "df1_copy = df1.copy()\n",
    "df1_copy.columns = a\n",
    "df1_copy.head()"
   ]
  },
  {
   "cell_type": "code",
   "execution_count": 8,
   "metadata": {},
   "outputs": [
    {
     "data": {
      "text/plain": [
       "(7540, 16)"
      ]
     },
     "execution_count": 8,
     "metadata": {},
     "output_type": "execute_result"
    }
   ],
   "source": [
    "df1_copy.shape"
   ]
  },
  {
   "cell_type": "code",
   "execution_count": 9,
   "metadata": {},
   "outputs": [],
   "source": [
    "# full 데이터 셋 내보내기\n",
    "# df.to_csv('../data/full.csv',index=False)"
   ]
  },
  {
   "cell_type": "code",
   "execution_count": 10,
   "metadata": {},
   "outputs": [
    {
     "name": "stdout",
     "output_type": "stream",
     "text": [
      "0   -1.05\n",
      "1   -1.05\n",
      "2    0.53\n",
      "3   -0.91\n",
      "4   -1.35\n",
      "Name: 농가근내평균가산, dtype: object\n"
     ]
    },
    {
     "data": {
      "text/plain": [
       "0   -1.05\n",
       "1   -1.05\n",
       "2    0.53\n",
       "3   -0.91\n",
       "4   -1.35\n",
       "Name: 농가근내평균가산, dtype: float64"
      ]
     },
     "execution_count": 10,
     "metadata": {},
     "output_type": "execute_result"
    }
   ],
   "source": [
    "print(df['농가근내평균가산'][:5])\n",
    "cow = df[df['농가근내평균가산']!='\\\\N'].copy()\n",
    "cow['농가근내평균가산'] = cow['농가근내평균가산'].astype('float64')\n",
    "cow['농가근내평균가산'].head()"
   ]
  },
  {
   "cell_type": "markdown",
   "metadata": {},
   "source": [
    "##### 데이터 합치기"
   ]
  },
  {
   "cell_type": "code",
   "execution_count": 11,
   "metadata": {},
   "outputs": [],
   "source": [
    "cow['농가구분'] = '농가소'\n",
    "df1_copy['농가구분'] = '우시장소'"
   ]
  },
  {
   "cell_type": "code",
   "execution_count": 12,
   "metadata": {},
   "outputs": [
    {
     "data": {
      "text/plain": [
       "0        농가소\n",
       "1        농가소\n",
       "2        농가소\n",
       "3        농가소\n",
       "4        농가소\n",
       "        ... \n",
       "92353    농가소\n",
       "92354    농가소\n",
       "92355    농가소\n",
       "92356    농가소\n",
       "92357    농가소\n",
       "Name: 농가구분, Length: 92315, dtype: object"
      ]
     },
     "execution_count": 12,
     "metadata": {},
     "output_type": "execute_result"
    }
   ],
   "source": [
    "cow['농가구분']"
   ]
  },
  {
   "cell_type": "code",
   "execution_count": 13,
   "metadata": {},
   "outputs": [
    {
     "name": "stdout",
     "output_type": "stream",
     "text": [
      "농가소 마릿수:92315\n",
      "우시장 소 마릿수:7540\n",
      "합친 거 마릿수 확인:99855\n",
      "합친 거 마릿수:99855\n"
     ]
    }
   ],
   "source": [
    "df_merge = pd.concat([cow, df1_copy])\n",
    "print(f'농가소 마릿수:{cow.shape[0]}');print(f'우시장 소 마릿수:{df1_copy.shape[0]}')\n",
    "print(f'합친 거 마릿수 확인:{cow.shape[0] + df1_copy.shape[0]}')\n",
    "print(f'합친 거 마릿수:{df_merge.shape[0]}')\n"
   ]
  },
  {
   "cell_type": "code",
   "execution_count": 14,
   "metadata": {},
   "outputs": [
    {
     "name": "stdout",
     "output_type": "stream",
     "text": [
      "   개월령    생시체중  근내평균  도체범위근내평균     체고     체장  형매도축수  형매도체평균  형매근내평균  형매근내평균가산  \\\n",
      "0   46  644.64  3.34      3.23  131.4  158.9    NaN     NaN     NaN       NaN   \n",
      "\n",
      "  6개월내출산  농가근내평균  농가근내평균가산  근내EPD  근내  점수 농가구분  \n",
      "0      N    4.16     -1.05   0.18   6   4  농가소  \n",
      "       개월령   생시체중  근내평균  도체범위근내평균     체고     체장  형매도축수  형매도체평균  형매근내평균  \\\n",
      "99854   30  606.0  5.66      4.98  128.6  149.9    NaN     NaN     NaN   \n",
      "\n",
      "       형매근내평균가산 6개월내출산  농가근내평균  농가근내평균가산  근내EPD  근내  점수  농가구분  \n",
      "99854       NaN      N     NaN       NaN   0.06   5   3  우시장소  \n"
     ]
    }
   ],
   "source": [
    "df_merge = df_merge.reset_index(drop=True)\n",
    "# df_merge.drop(columns='level_0', axis=1, inplace=True)\n",
    "print(df_merge.head(1))\n",
    "print(df_merge.tail(1))"
   ]
  },
  {
   "cell_type": "code",
   "execution_count": 15,
   "metadata": {},
   "outputs": [],
   "source": [
    "df_merge.to_csv('../data_2/merge_data.csv')"
   ]
  },
  {
   "cell_type": "code",
   "execution_count": 21,
   "metadata": {},
   "outputs": [
    {
     "data": {
      "text/html": [
       "<div>\n",
       "<style scoped>\n",
       "    .dataframe tbody tr th:only-of-type {\n",
       "        vertical-align: middle;\n",
       "    }\n",
       "\n",
       "    .dataframe tbody tr th {\n",
       "        vertical-align: top;\n",
       "    }\n",
       "\n",
       "    .dataframe thead th {\n",
       "        text-align: right;\n",
       "    }\n",
       "</style>\n",
       "<table border=\"1\" class=\"dataframe\">\n",
       "  <thead>\n",
       "    <tr style=\"text-align: right;\">\n",
       "      <th></th>\n",
       "      <th>점수</th>\n",
       "      <th>TARGET1</th>\n",
       "    </tr>\n",
       "  </thead>\n",
       "  <tbody>\n",
       "    <tr>\n",
       "      <th>0</th>\n",
       "      <td>4</td>\n",
       "      <td>0</td>\n",
       "    </tr>\n",
       "    <tr>\n",
       "      <th>1</th>\n",
       "      <td>3</td>\n",
       "      <td>0</td>\n",
       "    </tr>\n",
       "    <tr>\n",
       "      <th>2</th>\n",
       "      <td>5</td>\n",
       "      <td>1</td>\n",
       "    </tr>\n",
       "  </tbody>\n",
       "</table>\n",
       "</div>"
      ],
      "text/plain": [
       "   점수  TARGET1\n",
       "0   4        0\n",
       "1   3        0\n",
       "2   5        1"
      ]
     },
     "execution_count": 21,
     "metadata": {},
     "output_type": "execute_result"
    }
   ],
   "source": [
    "df_merge['TARGET1'] = df_merge['점수'].apply(lambda x: 1 if 5 == x else 0 if 4 >= x else 0)\n",
    "df_merge[['점수','TARGET1']].head(3)"
   ]
  },
  {
   "cell_type": "code",
   "execution_count": 22,
   "metadata": {},
   "outputs": [],
   "source": [
    "df_merge.to_csv('../data_2/merge_data.csv')"
   ]
  },
  {
   "cell_type": "markdown",
   "metadata": {},
   "source": [
    "##### 로지스틱 반복문"
   ]
  },
  {
   "cell_type": "code",
   "execution_count": null,
   "metadata": {},
   "outputs": [],
   "source": [
    "for i in cow.columns:\n",
    "    model = sm.Logit.from_formula('점수 ~ cow[i]', cow).fit()\n",
    "    print(f'독립변수 이름: {i}')\n",
    "    print(model.summary())\n",
    "    print('============='*3)\n",
    "    print(f'cow:{model.aic}')\n",
    "    print('\\n')\n",
    "    print(np.exp(model.params))"
   ]
  }
 ],
 "metadata": {
  "kernelspec": {
   "display_name": "cow",
   "language": "python",
   "name": "python3"
  },
  "language_info": {
   "codemirror_mode": {
    "name": "ipython",
    "version": 3
   },
   "file_extension": ".py",
   "mimetype": "text/x-python",
   "name": "python",
   "nbconvert_exporter": "python",
   "pygments_lexer": "ipython3",
   "version": "3.11.3"
  }
 },
 "nbformat": 4,
 "nbformat_minor": 2
}
