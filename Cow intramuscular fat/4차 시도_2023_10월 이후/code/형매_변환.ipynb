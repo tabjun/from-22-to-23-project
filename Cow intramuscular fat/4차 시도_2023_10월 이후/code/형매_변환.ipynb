{
 "cells": [
  {
   "cell_type": "code",
   "execution_count": 16,
   "metadata": {},
   "outputs": [],
   "source": [
    "import pandas as pd\n",
    "import numpy as np\n",
    "import os\n",
    "import statsmodels.api as sm"
   ]
  },
  {
   "cell_type": "code",
   "execution_count": 17,
   "metadata": {},
   "outputs": [
    {
     "data": {
      "text/html": [
       "<div>\n",
       "<style scoped>\n",
       "    .dataframe tbody tr th:only-of-type {\n",
       "        vertical-align: middle;\n",
       "    }\n",
       "\n",
       "    .dataframe tbody tr th {\n",
       "        vertical-align: top;\n",
       "    }\n",
       "\n",
       "    .dataframe thead th {\n",
       "        text-align: right;\n",
       "    }\n",
       "</style>\n",
       "<table border=\"1\" class=\"dataframe\">\n",
       "  <thead>\n",
       "    <tr style=\"text-align: right;\">\n",
       "      <th></th>\n",
       "      <th>개월령</th>\n",
       "      <th>생시체중</th>\n",
       "      <th>근내평균</th>\n",
       "      <th>도체범위근내평균</th>\n",
       "      <th>체고</th>\n",
       "      <th>체장</th>\n",
       "      <th>형매도축수</th>\n",
       "      <th>형매도체평균</th>\n",
       "      <th>형매근내평균</th>\n",
       "      <th>형매근내평균가산</th>\n",
       "      <th>6개월내출산</th>\n",
       "      <th>농가근내평균</th>\n",
       "      <th>농가근내평균가산</th>\n",
       "      <th>근내EPD</th>\n",
       "      <th>근내</th>\n",
       "      <th>점수</th>\n",
       "      <th>농가구분</th>\n",
       "      <th>TARGET1</th>\n",
       "    </tr>\n",
       "  </thead>\n",
       "  <tbody>\n",
       "    <tr>\n",
       "      <th>0</th>\n",
       "      <td>46</td>\n",
       "      <td>644.64</td>\n",
       "      <td>3.34</td>\n",
       "      <td>3.23</td>\n",
       "      <td>131.4</td>\n",
       "      <td>158.9</td>\n",
       "      <td>NaN</td>\n",
       "      <td>NaN</td>\n",
       "      <td>NaN</td>\n",
       "      <td>NaN</td>\n",
       "      <td>N</td>\n",
       "      <td>4.16</td>\n",
       "      <td>-1.05</td>\n",
       "      <td>0.18</td>\n",
       "      <td>6</td>\n",
       "      <td>4</td>\n",
       "      <td>농가소</td>\n",
       "      <td>0</td>\n",
       "    </tr>\n",
       "    <tr>\n",
       "      <th>1</th>\n",
       "      <td>46</td>\n",
       "      <td>633.93</td>\n",
       "      <td>4.59</td>\n",
       "      <td>4.52</td>\n",
       "      <td>129.7</td>\n",
       "      <td>148.4</td>\n",
       "      <td>NaN</td>\n",
       "      <td>NaN</td>\n",
       "      <td>NaN</td>\n",
       "      <td>NaN</td>\n",
       "      <td>Y</td>\n",
       "      <td>4.16</td>\n",
       "      <td>-1.05</td>\n",
       "      <td>0.17</td>\n",
       "      <td>4</td>\n",
       "      <td>3</td>\n",
       "      <td>농가소</td>\n",
       "      <td>0</td>\n",
       "    </tr>\n",
       "    <tr>\n",
       "      <th>2</th>\n",
       "      <td>32</td>\n",
       "      <td>567.86</td>\n",
       "      <td>5.50</td>\n",
       "      <td>4.89</td>\n",
       "      <td>130.3</td>\n",
       "      <td>158.0</td>\n",
       "      <td>NaN</td>\n",
       "      <td>NaN</td>\n",
       "      <td>NaN</td>\n",
       "      <td>NaN</td>\n",
       "      <td>N</td>\n",
       "      <td>5.58</td>\n",
       "      <td>0.53</td>\n",
       "      <td>0.42</td>\n",
       "      <td>7</td>\n",
       "      <td>5</td>\n",
       "      <td>농가소</td>\n",
       "      <td>1</td>\n",
       "    </tr>\n",
       "    <tr>\n",
       "      <th>3</th>\n",
       "      <td>33</td>\n",
       "      <td>564.29</td>\n",
       "      <td>6.13</td>\n",
       "      <td>5.56</td>\n",
       "      <td>130.7</td>\n",
       "      <td>155.9</td>\n",
       "      <td>NaN</td>\n",
       "      <td>NaN</td>\n",
       "      <td>NaN</td>\n",
       "      <td>NaN</td>\n",
       "      <td>Y</td>\n",
       "      <td>3.78</td>\n",
       "      <td>-0.91</td>\n",
       "      <td>0.42</td>\n",
       "      <td>2</td>\n",
       "      <td>2</td>\n",
       "      <td>농가소</td>\n",
       "      <td>0</td>\n",
       "    </tr>\n",
       "    <tr>\n",
       "      <th>4</th>\n",
       "      <td>48</td>\n",
       "      <td>692.86</td>\n",
       "      <td>4.79</td>\n",
       "      <td>4.61</td>\n",
       "      <td>131.2</td>\n",
       "      <td>146.1</td>\n",
       "      <td>NaN</td>\n",
       "      <td>NaN</td>\n",
       "      <td>NaN</td>\n",
       "      <td>NaN</td>\n",
       "      <td>Y</td>\n",
       "      <td>3.90</td>\n",
       "      <td>-1.35</td>\n",
       "      <td>0.82</td>\n",
       "      <td>4</td>\n",
       "      <td>3</td>\n",
       "      <td>농가소</td>\n",
       "      <td>0</td>\n",
       "    </tr>\n",
       "  </tbody>\n",
       "</table>\n",
       "</div>"
      ],
      "text/plain": [
       "   개월령    생시체중  근내평균  도체범위근내평균     체고     체장  형매도축수  형매도체평균  형매근내평균  형매근내평균가산  \\\n",
       "0   46  644.64  3.34      3.23  131.4  158.9    NaN     NaN     NaN       NaN   \n",
       "1   46  633.93  4.59      4.52  129.7  148.4    NaN     NaN     NaN       NaN   \n",
       "2   32  567.86  5.50      4.89  130.3  158.0    NaN     NaN     NaN       NaN   \n",
       "3   33  564.29  6.13      5.56  130.7  155.9    NaN     NaN     NaN       NaN   \n",
       "4   48  692.86  4.79      4.61  131.2  146.1    NaN     NaN     NaN       NaN   \n",
       "\n",
       "  6개월내출산  농가근내평균  농가근내평균가산  근내EPD  근내  점수 농가구분  TARGET1  \n",
       "0      N    4.16     -1.05   0.18   6   4  농가소        0  \n",
       "1      Y    4.16     -1.05   0.17   4   3  농가소        0  \n",
       "2      N    5.58      0.53   0.42   7   5  농가소        1  \n",
       "3      Y    3.78     -0.91   0.42   2   2  농가소        0  \n",
       "4      Y    3.90     -1.35   0.82   4   3  농가소        0  "
      ]
     },
     "execution_count": 17,
     "metadata": {},
     "output_type": "execute_result"
    }
   ],
   "source": [
    "df = pd.read_csv('../data_2/cow_체고0제거.csv')\n",
    "df.head()"
   ]
  },
  {
   "cell_type": "code",
   "execution_count": 3,
   "metadata": {},
   "outputs": [
    {
     "data": {
      "text/plain": [
       "2.0     0.136277\n",
       "3.0     0.067042\n",
       "4.0     0.036055\n",
       "5.0     0.020491\n",
       "6.0     0.010907\n",
       "7.0     0.006099\n",
       "8.0     0.003165\n",
       "9.0     0.001723\n",
       "10.0    0.000871\n",
       "11.0    0.000371\n",
       "12.0    0.000090\n",
       "13.0    0.000040\n",
       "14.0    0.000010\n",
       "Name: 형매도축수, dtype: float64"
      ]
     },
     "execution_count": 3,
     "metadata": {},
     "output_type": "execute_result"
    }
   ],
   "source": [
    "df['형매도축수'].value_counts()/len(df)"
   ]
  },
  {
   "cell_type": "code",
   "execution_count": 5,
   "metadata": {},
   "outputs": [
    {
     "name": "stdout",
     "output_type": "stream",
     "text": [
      "gt 3    14664\n",
      "st 3    13607\n",
      "Name: 형매_bi, dtype: int64\n",
      "2.0     13607\n",
      "3.0      6694\n",
      "4.0      3600\n",
      "5.0      2046\n",
      "6.0      1089\n",
      "7.0       609\n",
      "8.0       316\n",
      "9.0       172\n",
      "10.0       87\n",
      "11.0       37\n",
      "12.0        9\n",
      "13.0        4\n",
      "14.0        1\n",
      "Name: 형매도축수, dtype: int64\n",
      "14664\n"
     ]
    }
   ],
   "source": [
    "df['형매_bi'] = df['형매도축수'].apply(lambda x: 'st 3' if 0<=x<3 else 'gt 3' if 3 <= x else x)\n",
    "print(df['형매_bi'].value_counts())\n",
    "print(df['형매도축수'].value_counts())\n",
    "print(6694+3600+2046+1089+609+316+172+87+37+9+4+1)"
   ]
  },
  {
   "cell_type": "code",
   "execution_count": 6,
   "metadata": {},
   "outputs": [
    {
     "data": {
      "text/plain": [
       "Index(['개월령', '생시체중', '근내평균', '도체범위근내평균', '체고', '체장', '형매도축수', '형매도체평균',\n",
       "       '형매근내평균', '형매근내평균가산', '6개월내출산', '농가근내평균', '농가근내평균가산', '근내EPD', '근내',\n",
       "       '점수', '농가구분', 'TARGET1', '형매_bi'],\n",
       "      dtype='object')"
      ]
     },
     "execution_count": 6,
     "metadata": {},
     "output_type": "execute_result"
    }
   ],
   "source": [
    "df.columns"
   ]
  },
  {
   "cell_type": "code",
   "execution_count": 7,
   "metadata": {},
   "outputs": [],
   "source": [
    "df_copy = df.copy()\n",
    "\n",
    "# 변수명 변경\n",
    "df_copy.columns = ['개월령', '생시체중', '근내평균', '도체범위근내평균', '체고', '체장', '형매도축수', '형매도체평균',\n",
    "       '형매근내평균', '형매근내평균가산', '출산여부_6개월내', '농가근내평균', '농가근내평균가산', '근내EPD', '근내',\n",
    "       '점수', '농가구분', 'TARGET1', '형매_bi']"
   ]
  },
  {
   "cell_type": "code",
   "execution_count": 31,
   "metadata": {},
   "outputs": [],
   "source": [
    "df_2 = df_copy[(df_copy['개월령']<=40)]"
   ]
  },
  {
   "cell_type": "code",
   "execution_count": 9,
   "metadata": {},
   "outputs": [],
   "source": [
    "df_copy.to_csv('../data_2/sas사용.csv', index=False, encoding='cp949')"
   ]
  },
  {
   "cell_type": "code",
   "execution_count": 32,
   "metadata": {},
   "outputs": [],
   "source": [
    "df_2.to_csv('../data_2/df_40개월.csv', index=False)"
   ]
  },
  {
   "cell_type": "code",
   "execution_count": 18,
   "metadata": {},
   "outputs": [],
   "source": [
    "df = pd.read_csv('../data_2/sas사용2.csv', encoding='cp949')"
   ]
  },
  {
   "cell_type": "code",
   "execution_count": 19,
   "metadata": {},
   "outputs": [
    {
     "data": {
      "text/html": [
       "<div>\n",
       "<style scoped>\n",
       "    .dataframe tbody tr th:only-of-type {\n",
       "        vertical-align: middle;\n",
       "    }\n",
       "\n",
       "    .dataframe tbody tr th {\n",
       "        vertical-align: top;\n",
       "    }\n",
       "\n",
       "    .dataframe thead th {\n",
       "        text-align: right;\n",
       "    }\n",
       "</style>\n",
       "<table border=\"1\" class=\"dataframe\">\n",
       "  <thead>\n",
       "    <tr style=\"text-align: right;\">\n",
       "      <th></th>\n",
       "      <th>출산여부_6개월내</th>\n",
       "      <th>농가구분</th>\n",
       "      <th>형매_bi</th>\n",
       "    </tr>\n",
       "  </thead>\n",
       "  <tbody>\n",
       "    <tr>\n",
       "      <th>count</th>\n",
       "      <td>76307</td>\n",
       "      <td>76307</td>\n",
       "      <td>76307</td>\n",
       "    </tr>\n",
       "    <tr>\n",
       "      <th>unique</th>\n",
       "      <td>2</td>\n",
       "      <td>2</td>\n",
       "      <td>3</td>\n",
       "    </tr>\n",
       "    <tr>\n",
       "      <th>top</th>\n",
       "      <td>Y</td>\n",
       "      <td>농가소</td>\n",
       "      <td>0</td>\n",
       "    </tr>\n",
       "    <tr>\n",
       "      <th>freq</th>\n",
       "      <td>44959</td>\n",
       "      <td>71212</td>\n",
       "      <td>55263</td>\n",
       "    </tr>\n",
       "  </tbody>\n",
       "</table>\n",
       "</div>"
      ],
      "text/plain": [
       "       출산여부_6개월내   농가구분  형매_bi\n",
       "count      76307  76307  76307\n",
       "unique         2      2      3\n",
       "top            Y    농가소      0\n",
       "freq       44959  71212  55263"
      ]
     },
     "execution_count": 19,
     "metadata": {},
     "output_type": "execute_result"
    }
   ],
   "source": [
    "df.describe(include='object')"
   ]
  }
 ],
 "metadata": {
  "kernelspec": {
   "display_name": "cow",
   "language": "python",
   "name": "python3"
  },
  "language_info": {
   "codemirror_mode": {
    "name": "ipython",
    "version": 3
   },
   "file_extension": ".py",
   "mimetype": "text/x-python",
   "name": "python",
   "nbconvert_exporter": "python",
   "pygments_lexer": "ipython3",
   "version": "3.10.3"
  }
 },
 "nbformat": 4,
 "nbformat_minor": 2
}
