{
 "cells": [
  {
   "cell_type": "markdown",
   "metadata": {},
   "source": [
    "#### Module import"
   ]
  },
  {
   "cell_type": "code",
   "execution_count": 101,
   "metadata": {},
   "outputs": [],
   "source": [
    "import pandas as pd\n",
    "import os\n",
    "import numpy as np\n",
    "from sklearn.model_selection import train_test_split # Data Split\n",
    "import statsmodels.api as sm"
   ]
  },
  {
   "cell_type": "code",
   "execution_count": 2,
   "metadata": {},
   "outputs": [
    {
     "data": {
      "text/plain": [
       "'c:\\\\Users\\\\Owner\\\\Desktop\\\\윤태준\\\\소'"
      ]
     },
     "execution_count": 2,
     "metadata": {},
     "output_type": "execute_result"
    }
   ],
   "source": [
    "os.getcwd()"
   ]
  },
  {
   "attachments": {},
   "cell_type": "markdown",
   "metadata": {},
   "source": [
    "##### Path"
   ]
  },
  {
   "cell_type": "code",
   "execution_count": 3,
   "metadata": {},
   "outputs": [
    {
     "data": {
      "text/plain": [
       "'c:\\\\Users\\\\Owner\\\\Desktop\\\\윤태준\\\\소\\\\3차 요청자료\\\\소_3대 정리'"
      ]
     },
     "execution_count": 3,
     "metadata": {},
     "output_type": "execute_result"
    }
   ],
   "source": [
    "os.chdir('./3차 요청자료/소_3대 정리')\n",
    "os.getcwd()"
   ]
  },
  {
   "attachments": {},
   "cell_type": "markdown",
   "metadata": {},
   "source": [
    "##### Check\n",
    "> 또 마지막 변수명 외증조로 중복돼있음, 일단 파일 한번에 불러서 합친 다음 변수명 다시 바꾸기"
   ]
  },
  {
   "cell_type": "code",
   "execution_count": null,
   "metadata": {},
   "outputs": [],
   "source": [
    "# 확인\n",
    "a1 = pd.read_excel('근내지방3_0.xlsx')\n",
    "a1.head()"
   ]
  },
  {
   "cell_type": "code",
   "execution_count": 5,
   "metadata": {},
   "outputs": [
    {
     "data": {
      "text/plain": [
       "Index(['이표번호', 'KPN', '성별', '출생일', '농가코드', '농가등급', '도축개월', '도축일', '등급', '도체중',\n",
       "       '등심단면적', '등지방두께', '근내지방도', '육색', '지방색', '성숙도', '조직도', '어미 이표번호',\n",
       "       '형매 도체중 평균', '형매 등심단면적 평균', '형매 등지방 평균', '형매 근내지방 평균', '형매 마릿수',\n",
       "       '외할미 이표번호', '어미형매 도체중 평균', '어미형매 등심단면적 평균', '어미형매 등지방 평균',\n",
       "       '어미형매 근내지방 평균', '어미형매 마릿수', '외증조할미 이표번호', '외할미형매 도체중 평균',\n",
       "       '외할미형매 등심단면적 평균', '외할미형매 등지방 평균', '외할미형매 근내지방 평균', '외할미형매 마릿수',\n",
       "       '외고조할미 이표번호', '외증조할미형매 도체중 평균', '외증조할미형매 등심단면적 평균', '외증조할미형매 등지방 평균',\n",
       "       '외증조할미형매 근내지방 평균', '외증조할미형매 마릿수', '외고고조할미 이표번호', '외증조할미형매 도체중 평균.1',\n",
       "       '외증조할미형매 등심단면적 평균.1', '외증조할미형매 등지방 평균.1', '외증조할미형매 근내지방 평균.1',\n",
       "       '외증조할미형매 마릿수.1'],\n",
       "      dtype='object')"
      ]
     },
     "execution_count": 5,
     "metadata": {},
     "output_type": "execute_result"
    }
   ],
   "source": [
    "a1.columns"
   ]
  },
  {
   "cell_type": "code",
   "execution_count": 6,
   "metadata": {},
   "outputs": [
    {
     "data": {
      "text/plain": [
       "['근내지방3_0.xlsx',\n",
       " '근내지방3_1.xlsx',\n",
       " '근내지방3_2.xlsx',\n",
       " '근내지방3_3.xlsx',\n",
       " '근내지방3_4.xlsx',\n",
       " '근내지방3_5.xlsx',\n",
       " '근내지방3_6.xlsx',\n",
       " '근내지방3_7.xlsx']"
      ]
     },
     "execution_count": 6,
     "metadata": {},
     "output_type": "execute_result"
    }
   ],
   "source": [
    "# 파일이 존재하는 경로 불러오기 및 리스트\n",
    "path = os.getcwd()\n",
    "file_lst = os.listdir(path)# 파일 이름 담기\n",
    "file_lst"
   ]
  },
  {
   "attachments": {},
   "cell_type": "markdown",
   "metadata": {},
   "source": [
    "##### ↓ 반복문으로 파일 불러오면서, 하나의 DataFrame으로 합침 "
   ]
  },
  {
   "cell_type": "code",
   "execution_count": 7,
   "metadata": {},
   "outputs": [],
   "source": [
    "df_3 = pd.DataFrame()\n",
    "for i in file_lst:\n",
    "    data_3 = pd.read_excel(path +'/'+i)\n",
    "    df_3 = pd.concat([df_3, data_3])\n",
    "    \n",
    "df_3 = df_3.reset_index(drop = True)"
   ]
  },
  {
   "cell_type": "code",
   "execution_count": 8,
   "metadata": {},
   "outputs": [
    {
     "name": "stdout",
     "output_type": "stream",
     "text": [
      "(110345, 47)\n"
     ]
    },
    {
     "data": {
      "text/html": [
       "<div>\n",
       "<style scoped>\n",
       "    .dataframe tbody tr th:only-of-type {\n",
       "        vertical-align: middle;\n",
       "    }\n",
       "\n",
       "    .dataframe tbody tr th {\n",
       "        vertical-align: top;\n",
       "    }\n",
       "\n",
       "    .dataframe thead th {\n",
       "        text-align: right;\n",
       "    }\n",
       "</style>\n",
       "<table border=\"1\" class=\"dataframe\">\n",
       "  <thead>\n",
       "    <tr style=\"text-align: right;\">\n",
       "      <th></th>\n",
       "      <th>이표번호</th>\n",
       "      <th>KPN</th>\n",
       "      <th>성별</th>\n",
       "      <th>출생일</th>\n",
       "      <th>농가코드</th>\n",
       "      <th>농가등급</th>\n",
       "      <th>도축개월</th>\n",
       "      <th>도축일</th>\n",
       "      <th>등급</th>\n",
       "      <th>도체중</th>\n",
       "      <th>...</th>\n",
       "      <th>외증조할미형매 등심단면적 평균</th>\n",
       "      <th>외증조할미형매 등지방 평균</th>\n",
       "      <th>외증조할미형매 근내지방 평균</th>\n",
       "      <th>외증조할미형매 마릿수</th>\n",
       "      <th>외고고조할미 이표번호</th>\n",
       "      <th>외증조할미형매 도체중 평균.1</th>\n",
       "      <th>외증조할미형매 등심단면적 평균.1</th>\n",
       "      <th>외증조할미형매 등지방 평균.1</th>\n",
       "      <th>외증조할미형매 근내지방 평균.1</th>\n",
       "      <th>외증조할미형매 마릿수.1</th>\n",
       "    </tr>\n",
       "  </thead>\n",
       "  <tbody>\n",
       "    <tr>\n",
       "      <th>0</th>\n",
       "      <td>2137173111</td>\n",
       "      <td>KPN1053</td>\n",
       "      <td>암</td>\n",
       "      <td>2019-03-28</td>\n",
       "      <td>398841</td>\n",
       "      <td>1+C</td>\n",
       "      <td>42</td>\n",
       "      <td>2022-09-21</td>\n",
       "      <td>1B</td>\n",
       "      <td>374</td>\n",
       "      <td>...</td>\n",
       "      <td>89.00</td>\n",
       "      <td>16.33</td>\n",
       "      <td>2.33</td>\n",
       "      <td>3</td>\n",
       "      <td>198856328.0</td>\n",
       "      <td>0.0</td>\n",
       "      <td>0.0</td>\n",
       "      <td>0.0</td>\n",
       "      <td>0.0</td>\n",
       "      <td>0</td>\n",
       "    </tr>\n",
       "    <tr>\n",
       "      <th>1</th>\n",
       "      <td>2150109802</td>\n",
       "      <td>KPN1060</td>\n",
       "      <td>거세</td>\n",
       "      <td>2020-04-28</td>\n",
       "      <td>263150</td>\n",
       "      <td>1A</td>\n",
       "      <td>28</td>\n",
       "      <td>2022-08-22</td>\n",
       "      <td>1++C</td>\n",
       "      <td>524</td>\n",
       "      <td>...</td>\n",
       "      <td>83.33</td>\n",
       "      <td>13.67</td>\n",
       "      <td>6.00</td>\n",
       "      <td>3</td>\n",
       "      <td>172418108.0</td>\n",
       "      <td>0.0</td>\n",
       "      <td>0.0</td>\n",
       "      <td>0.0</td>\n",
       "      <td>0.0</td>\n",
       "      <td>0</td>\n",
       "    </tr>\n",
       "    <tr>\n",
       "      <th>2</th>\n",
       "      <td>2133835356</td>\n",
       "      <td>KPN1099</td>\n",
       "      <td>암</td>\n",
       "      <td>2018-09-28</td>\n",
       "      <td>189147</td>\n",
       "      <td>1A</td>\n",
       "      <td>52</td>\n",
       "      <td>2023-01-03</td>\n",
       "      <td>1A</td>\n",
       "      <td>333</td>\n",
       "      <td>...</td>\n",
       "      <td>0.00</td>\n",
       "      <td>0.00</td>\n",
       "      <td>0.00</td>\n",
       "      <td>0</td>\n",
       "      <td>NaN</td>\n",
       "      <td>0.0</td>\n",
       "      <td>0.0</td>\n",
       "      <td>0.0</td>\n",
       "      <td>0.0</td>\n",
       "      <td>0</td>\n",
       "    </tr>\n",
       "    <tr>\n",
       "      <th>3</th>\n",
       "      <td>2156452289</td>\n",
       "      <td>KPN1284</td>\n",
       "      <td>암</td>\n",
       "      <td>2020-11-18</td>\n",
       "      <td>451221</td>\n",
       "      <td>1A</td>\n",
       "      <td>27</td>\n",
       "      <td>2023-01-26</td>\n",
       "      <td>1A</td>\n",
       "      <td>372</td>\n",
       "      <td>...</td>\n",
       "      <td>0.00</td>\n",
       "      <td>0.00</td>\n",
       "      <td>0.00</td>\n",
       "      <td>0</td>\n",
       "      <td>NaN</td>\n",
       "      <td>0.0</td>\n",
       "      <td>0.0</td>\n",
       "      <td>0.0</td>\n",
       "      <td>0.0</td>\n",
       "      <td>0</td>\n",
       "    </tr>\n",
       "    <tr>\n",
       "      <th>4</th>\n",
       "      <td>2147835365</td>\n",
       "      <td>KPN1060</td>\n",
       "      <td>암</td>\n",
       "      <td>2019-10-23</td>\n",
       "      <td>190620</td>\n",
       "      <td>1A</td>\n",
       "      <td>32</td>\n",
       "      <td>2022-06-07</td>\n",
       "      <td>2A</td>\n",
       "      <td>378</td>\n",
       "      <td>...</td>\n",
       "      <td>0.00</td>\n",
       "      <td>0.00</td>\n",
       "      <td>0.00</td>\n",
       "      <td>0</td>\n",
       "      <td>NaN</td>\n",
       "      <td>0.0</td>\n",
       "      <td>0.0</td>\n",
       "      <td>0.0</td>\n",
       "      <td>0.0</td>\n",
       "      <td>0</td>\n",
       "    </tr>\n",
       "  </tbody>\n",
       "</table>\n",
       "<p>5 rows × 47 columns</p>\n",
       "</div>"
      ],
      "text/plain": [
       "         이표번호      KPN  성별         출생일    농가코드 농가등급  도축개월         도축일    등급  \\\n",
       "0  2137173111  KPN1053   암  2019-03-28  398841  1+C    42  2022-09-21    1B   \n",
       "1  2150109802  KPN1060  거세  2020-04-28  263150   1A    28  2022-08-22  1++C   \n",
       "2  2133835356  KPN1099   암  2018-09-28  189147   1A    52  2023-01-03    1A   \n",
       "3  2156452289  KPN1284   암  2020-11-18  451221   1A    27  2023-01-26    1A   \n",
       "4  2147835365  KPN1060   암  2019-10-23  190620   1A    32  2022-06-07    2A   \n",
       "\n",
       "   도체중  ...  외증조할미형매 등심단면적 평균  외증조할미형매 등지방 평균  외증조할미형매 근내지방 평균  외증조할미형매 마릿수  \\\n",
       "0  374  ...             89.00           16.33             2.33            3   \n",
       "1  524  ...             83.33           13.67             6.00            3   \n",
       "2  333  ...              0.00            0.00             0.00            0   \n",
       "3  372  ...              0.00            0.00             0.00            0   \n",
       "4  378  ...              0.00            0.00             0.00            0   \n",
       "\n",
       "   외고고조할미 이표번호  외증조할미형매 도체중 평균.1  외증조할미형매 등심단면적 평균.1  외증조할미형매 등지방 평균.1  \\\n",
       "0  198856328.0               0.0                 0.0               0.0   \n",
       "1  172418108.0               0.0                 0.0               0.0   \n",
       "2          NaN               0.0                 0.0               0.0   \n",
       "3          NaN               0.0                 0.0               0.0   \n",
       "4          NaN               0.0                 0.0               0.0   \n",
       "\n",
       "   외증조할미형매 근내지방 평균.1  외증조할미형매 마릿수.1  \n",
       "0                0.0              0  \n",
       "1                0.0              0  \n",
       "2                0.0              0  \n",
       "3                0.0              0  \n",
       "4                0.0              0  \n",
       "\n",
       "[5 rows x 47 columns]"
      ]
     },
     "execution_count": 8,
     "metadata": {},
     "output_type": "execute_result"
    }
   ],
   "source": [
    "# 확인\n",
    "print(df_3.shape)\n",
    "df_3.head()"
   ]
  },
  {
   "cell_type": "markdown",
   "metadata": {},
   "source": [
    "##### 변수명 재설정"
   ]
  },
  {
   "cell_type": "code",
   "execution_count": 9,
   "metadata": {},
   "outputs": [
    {
     "data": {
      "text/plain": [
       "Index(['이표번호', 'KPN', '성별', '출생일', '농가코드', '농가등급', '도축개월', '도축일', '등급', '도체중',\n",
       "       '등심단면적', '등지방두께', '근내지방도', '육색', '지방색', '성숙도', '조직도', '어미 이표번호',\n",
       "       '형매 도체중 평균', '형매 등심단면적 평균', '형매 등지방 평균', '형매 근내지방 평균', '형매 마릿수',\n",
       "       '외할미 이표번호', '어미형매 도체중 평균', '어미형매 등심단면적 평균', '어미형매 등지방 평균',\n",
       "       '어미형매 근내지방 평균', '어미형매 마릿수', '외증조할미 이표번호', '외할미형매 도체중 평균',\n",
       "       '외할미형매 등심단면적 평균', '외할미형매 등지방 평균', '외할미형매 근내지방 평균', '외할미형매 마릿수',\n",
       "       '외고조할미 이표번호', '외증조할미형매 도체중 평균', '외증조할미형매 등심단면적 평균', '외증조할미형매 등지방 평균',\n",
       "       '외증조할미형매 근내지방 평균', '외증조할미형매 마릿수', '외고고조할미 이표번호', '외증조할미형매 도체중 평균.1',\n",
       "       '외증조할미형매 등심단면적 평균.1', '외증조할미형매 등지방 평균.1', '외증조할미형매 근내지방 평균.1',\n",
       "       '외증조할미형매 마릿수.1'],\n",
       "      dtype='object')"
      ]
     },
     "execution_count": 9,
     "metadata": {},
     "output_type": "execute_result"
    }
   ],
   "source": [
    "df_3.columns"
   ]
  },
  {
   "cell_type": "code",
   "execution_count": 10,
   "metadata": {},
   "outputs": [],
   "source": [
    "# 원래 변수명\n",
    "df_3.columns = ['이표번호', 'KPN', '성별', '출생일', '농가코드', '농가등급', '도축개월', '도축일', '등급', '도체중',\n",
    "       '등심단면적', '등지방두께', '근내지방도', '육색', '지방색', '성숙도', '조직도', '어미 이표번호',\n",
    "       '형매 도체중 평균', '형매 등심단면적 평균', '형매 등지방 평균', '형매 근내지방 평균', '형매 마릿수',\n",
    "       '외할미 이표번호', '어미형매 도체중 평균', '어미형매 등심단면적 평균', '어미형매 등지방 평균',\n",
    "       '어미형매 근내지방 평균', '어미형매 마릿수', '외증조할미 이표번호', '외할미형매 도체중 평균',\n",
    "       '외할미형매 등심단면적 평균', '외할미형매 등지방 평균', '외할미형매 근내지방 평균', '외할미형매 마릿수',\n",
    "       '외고조할미 이표번호', '외증조할미형매 도체중 평균', '외증조할미형매 등심단면적 평균', '외증조할미형매 등지방 평균',\n",
    "       '외증조할미형매 근내지방 평균', '외증조할미형매 마릿수', '외고고조할미 이표번호', '외고조할미형매_도체중_평균', '외고조할미형매_등심단면적_평균', '외고조할미형매_등지방_평균', '외고조할미형매_근내지방_평균',\n",
    "    '외고조할미형매_마릿수'\n",
    "]"
   ]
  },
  {
   "cell_type": "code",
   "execution_count": 11,
   "metadata": {},
   "outputs": [],
   "source": [
    "cow_3 = df_3.copy()\n",
    "cow_3 = cow_3[['이표번호', 'KPN', '성별', '출생일', '농가코드', '농가등급', '도축개월', '도축일', '등급', '도체중',\n",
    "       '등심단면적', '등지방두께', '근내지방도', '육색', '지방색', '성숙도', '조직도', '어미 이표번호',\n",
    "       '형매 도체중 평균', '형매 등심단면적 평균', '형매 등지방 평균', '형매 근내지방 평균', '형매 마릿수',\n",
    "       '외할미 이표번호', '어미형매 도체중 평균', '어미형매 등심단면적 평균', '어미형매 등지방 평균',\n",
    "       '어미형매 근내지방 평균', '어미형매 마릿수', '외증조할미 이표번호', '외할미형매 도체중 평균',\n",
    "       '외할미형매 등심단면적 평균', '외할미형매 등지방 평균', '외할미형매 근내지방 평균', '외할미형매 마릿수']]"
   ]
  },
  {
   "cell_type": "code",
   "execution_count": 13,
   "metadata": {},
   "outputs": [
    {
     "name": "stdout",
     "output_type": "stream",
     "text": [
      "(110345, 35)\n"
     ]
    },
    {
     "data": {
      "text/plain": [
       "Index(['이표번호', 'KPN', '성별', '출생일', '농가코드', '농가등급', '도축개월', '도축일', '등급', '도체중',\n",
       "       '등심단면적', '등지방두께', '근내지방도', '육색', '지방색', '성숙도', '조직도', '어미 이표번호',\n",
       "       '형매 도체중 평균', '형매 등심단면적 평균', '형매 등지방 평균', '형매 근내지방 평균', '형매 마릿수',\n",
       "       '외할미 이표번호', '어미형매 도체중 평균', '어미형매 등심단면적 평균', '어미형매 등지방 평균',\n",
       "       '어미형매 근내지방 평균', '어미형매 마릿수', '외증조할미 이표번호', '외할미형매 도체중 평균',\n",
       "       '외할미형매 등심단면적 평균', '외할미형매 등지방 평균', '외할미형매 근내지방 평균', '외할미형매 마릿수'],\n",
       "      dtype='object')"
      ]
     },
     "execution_count": 13,
     "metadata": {},
     "output_type": "execute_result"
    }
   ],
   "source": [
    "print(cow_3.shape)\n",
    "cow_3.columns"
   ]
  },
  {
   "cell_type": "code",
   "execution_count": 14,
   "metadata": {},
   "outputs": [
    {
     "name": "stdout",
     "output_type": "stream",
     "text": [
      "변경 후 변수명 : ['외고고조할미 이표번호' '외고조할미 이표번호' '외고조할미형매_근내지방_평균' '외고조할미형매_도체중_평균'\n",
      " '외고조할미형매_등심단면적_평균' '외고조할미형매_등지방_평균' '외고조할미형매_마릿수' '외증조할미형매 근내지방 평균'\n",
      " '외증조할미형매 도체중 평균' '외증조할미형매 등심단면적 평균' '외증조할미형매 등지방 평균' '외증조할미형매 마릿수']\n",
      "변경 전 변수명 : []\n"
     ]
    }
   ],
   "source": [
    "# 원 데이터와 변수명 변경 후 데이터 차이 확인\n",
    "# numpy의 setdiff1d(a, b)를 이용해서, a와 b를 비교하여 b에 없는 것 확인\n",
    "print(f'변경 후 변수명 : {np.setdiff1d(df_3.columns, cow_3.columns)}')\n",
    "print(f'변경 전 변수명 : {np.setdiff1d(cow_3.columns, df_3.columns)}')"
   ]
  },
  {
   "cell_type": "code",
   "execution_count": 15,
   "metadata": {},
   "outputs": [
    {
     "data": {
      "text/plain": [
       "거세    68328\n",
       "암     42017\n",
       "Name: 성별, dtype: int64"
      ]
     },
     "execution_count": 15,
     "metadata": {},
     "output_type": "execute_result"
    }
   ],
   "source": [
    "cow_3.성별.value_counts()"
   ]
  },
  {
   "attachments": {},
   "cell_type": "markdown",
   "metadata": {},
   "source": [
    "##### 성별 및 근내지방도 변수변환\n",
    "> <p> <span style = 'color : orange' > 성별 : {F:암, N_M:거세} <span> </p>\n",
    "> <p> <span style = 'color : orange' > 근내지방도 : {1 : (7~9), 0: (0~6)} <span> </p>"
   ]
  },
  {
   "cell_type": "code",
   "execution_count": 16,
   "metadata": {},
   "outputs": [
    {
     "name": "stdout",
     "output_type": "stream",
     "text": [
      "변경 전 성별 unique 및 counts\n",
      "거세    68328\n",
      "암     42017\n",
      "Name: 성별, dtype: int64\n",
      "\n",
      "\n",
      "변경 후 성별 unique 및 counts\n",
      "N_M    68328\n",
      "F      42017\n",
      "Name: 성별, dtype: int64\n"
     ]
    }
   ],
   "source": [
    "# 성별 암, 거세 => F, N_M 변환\n",
    "cow_3.성별 = cow_3.성별.apply(lambda x: 'F' if x == '암' else 'N_M' if x =='거세' else x )\n",
    "print('변경 전 성별 unique 및 counts')\n",
    "print(df_3.성별.value_counts())\n",
    "print('\\n')\n",
    "print('변경 후 성별 unique 및 counts')\n",
    "print(cow_3.성별.value_counts())"
   ]
  },
  {
   "cell_type": "code",
   "execution_count": 20,
   "metadata": {},
   "outputs": [
    {
     "name": "stdout",
     "output_type": "stream",
     "text": [
      "변경 전 근내지방도 unique 및 counts\n",
      "6.0    27779\n",
      "4.0    17824\n",
      "5.0    13561\n",
      "7.0    12600\n",
      "8.0    10126\n",
      "3.0     9495\n",
      "9.0     8984\n",
      "2.0     7891\n",
      "1.0     1911\n",
      "Name: 근내지방도, dtype: int64\n",
      "\n",
      "\n",
      "변경 후 근내지방도 unique 및 counts\n",
      "0.0    78461\n",
      "1.0    31710\n",
      "Name: 근내지방도, dtype: int64\n"
     ]
    }
   ],
   "source": [
    "# 근내지방도 0, 1 변경\n",
    "cow_3['근내지방도'] = cow_3['근내지방도'].apply(lambda x: 1 if x >= 7 else 0 if x < 7 else x)\n",
    "print('변경 전 근내지방도 unique 및 counts')\n",
    "print(df_3.근내지방도.value_counts())\n",
    "print('\\n')\n",
    "print('변경 후 근내지방도 unique 및 counts')\n",
    "print(cow_3.근내지방도.value_counts())"
   ]
  },
  {
   "cell_type": "markdown",
   "metadata": {},
   "source": [
    "##### full data export"
   ]
  },
  {
   "cell_type": "code",
   "execution_count": 21,
   "metadata": {},
   "outputs": [],
   "source": [
    "cow_3.to_csv('../소_3대 정리/3_total_utf.csv', index=False)\n",
    "cow_3.to_csv('../소_3대 정리/3_total_cp.csv',encoding= 'cp949', index=False)"
   ]
  },
  {
   "attachments": {},
   "cell_type": "markdown",
   "metadata": {},
   "source": [
    "<h5> train_test_split, 7:3 </h5>"
   ]
  },
  {
   "cell_type": "code",
   "execution_count": 28,
   "metadata": {},
   "outputs": [],
   "source": [
    "X_3 = cow_3.drop(['근내지방도'],axis=1)\n",
    "Y_3 = cow_3.근내지방도\n",
    "X_train_3, X_test_3, Y_train_3, Y_test_3 = train_test_split(X_3, Y_3, test_size=0.3, random_state = 2023)"
   ]
  },
  {
   "cell_type": "markdown",
   "metadata": {},
   "source": [
    "<h5> 값 다 같은 인덱스, 원래 같은 행이므로 이대로 합쳐도 원래 데이터 셋이 됨 </h5>"
   ]
  },
  {
   "cell_type": "code",
   "execution_count": 24,
   "metadata": {},
   "outputs": [],
   "source": [
    "train_3 = pd.concat([X_train_3,Y_train_3], axis=1)\n",
    "test_3 = pd.concat([X_test_3,Y_test_3], axis=1)"
   ]
  },
  {
   "cell_type": "code",
   "execution_count": 25,
   "metadata": {},
   "outputs": [
    {
     "name": "stdout",
     "output_type": "stream",
     "text": [
      "(77241, 35)\n",
      "(33104, 35)\n"
     ]
    }
   ],
   "source": [
    "print(train_3.shape)\n",
    "print(test_3.shape)"
   ]
  },
  {
   "attachments": {},
   "cell_type": "markdown",
   "metadata": {},
   "source": [
    "#### Export Data"
   ]
  },
  {
   "cell_type": "code",
   "execution_count": null,
   "metadata": {},
   "outputs": [],
   "source": [
    "# train export\n",
    "train_3.to_csv('../소_3대 정리/3_train_utf.csv', index=False) # utf\n",
    "train_3.to_csv('../소_3대 정리/3_train_cp.csv',encoding= 'cp949', index=False) # cp949\n",
    "# test export \n",
    "test_3.to_csv('../소_3대 정리/3_test_utf.csv', index=False) # utf\n",
    "test_3.to_csv('../소_3대 정리/3_test_cp.csv',encoding= 'cp949', index=False) # cp949"
   ]
  },
  {
   "cell_type": "code",
   "execution_count": 33,
   "metadata": {},
   "outputs": [
    {
     "data": {
      "text/plain": [
       "Index(['이표번호', 'KPN', '성별', '출생일', '농가코드', '농가등급', '도축개월', '도축일', '등급', '도체중',\n",
       "       '등심단면적', '등지방두께', '육색', '지방색', '성숙도', '조직도', '어미 이표번호', '형매 도체중 평균',\n",
       "       '형매 등심단면적 평균', '형매 등지방 평균', '형매 근내지방 평균', '형매 마릿수', '외할미 이표번호',\n",
       "       '어미형매 도체중 평균', '어미형매 등심단면적 평균', '어미형매 등지방 평균', '어미형매 근내지방 평균',\n",
       "       '어미형매 마릿수', '외증조할미 이표번호', '외할미형매 도체중 평균', '외할미형매 등심단면적 평균',\n",
       "       '외할미형매 등지방 평균', '외할미형매 근내지방 평균', '외할미형매 마릿수', '근내지방도'],\n",
       "      dtype='object')"
      ]
     },
     "execution_count": 33,
     "metadata": {},
     "output_type": "execute_result"
    }
   ],
   "source": [
    "train_3.columns"
   ]
  },
  {
   "attachments": {},
   "cell_type": "markdown",
   "metadata": {},
   "source": [
    "##### 농장 번호에 따라 소들의 근내지방평균\n",
    "> 1. <font color = pink> Pivot table </font>\n",
    "> 2. <font color = pink> 시각화 </font>"
   ]
  },
  {
   "cell_type": "markdown",
   "metadata": {},
   "source": [
    "##### Import Data"
   ]
  },
  {
   "cell_type": "code",
   "execution_count": 5,
   "metadata": {},
   "outputs": [],
   "source": [
    "full_df = pd.read_csv('3_total_cp.csv', encoding='cp949')\n",
    "train = pd.read_csv('3_train_cp.csv', encoding='cp949')\n",
    "test = pd.read_csv('3_test_cp.csv', encoding = 'cp949')"
   ]
  },
  {
   "attachments": {},
   "cell_type": "markdown",
   "metadata": {},
   "source": [
    "#### 농가 분류를 위한 작업\n",
    "> 1. 농가 id 고유값 확인\n",
    "> 2. 농가 id에 따른 등급이 있는데, 각 id별 farm_class가 동일한지 확인"
   ]
  },
  {
   "cell_type": "code",
   "execution_count": 6,
   "metadata": {},
   "outputs": [
    {
     "name": "stdout",
     "output_type": "stream",
     "text": [
      "(110345, 35)\n",
      "농가_id, unique 개수:26248\n",
      "\n",
      "\n",
      "407775    256\n",
      "228166    188\n",
      "380843    164\n",
      "125221    162\n",
      "254273    153\n",
      "         ... \n",
      "404599      1\n",
      "462766      1\n",
      "204315      1\n",
      "409968      1\n",
      "400158      1\n",
      "Name: farm_id, Length: 26248, dtype: int64\n"
     ]
    }
   ],
   "source": [
    "print(full_df.shape)\n",
    "print(f'농가_id, unique 개수:{len(full_df.farm_id.unique())}')\n",
    "print('\\n')\n",
    "print(full_df.farm_id.value_counts())"
   ]
  },
  {
   "cell_type": "code",
   "execution_count": 85,
   "metadata": {},
   "outputs": [
    {
     "name": "stdout",
     "output_type": "stream",
     "text": [
      "        farm_id_count\n",
      "407775            256\n",
      "228166            188\n",
      "380843            164\n",
      "125221            162\n",
      "254273            153\n",
      "\n",
      "\n",
      "1119\n"
     ]
    }
   ],
   "source": [
    "co_a = pd.DataFrame(full_df.farm_id.value_counts())\n",
    "co_a.columns=['farm_id_count']\n",
    "print(co_a.head())\n",
    "print('\\n')\n",
    "print(len(co_a[co_a['farm_id_count']==5]))"
   ]
  },
  {
   "cell_type": "code",
   "execution_count": null,
   "metadata": {},
   "outputs": [],
   "source": []
  },
  {
   "attachments": {},
   "cell_type": "markdown",
   "metadata": {},
   "source": [
    "##### Farm_id별 class를 확인했을 때, 전부 같은 등급인 것 같음\n",
    "> ☞ 중복값 제거를 통해 각 id 고유값 개수인 26248개의 행만 남으면 농가 등급은 id 별로 모두 동일한 것"
   ]
  },
  {
   "cell_type": "code",
   "execution_count": 73,
   "metadata": {},
   "outputs": [
    {
     "name": "stdout",
     "output_type": "stream",
     "text": [
      "263150농가의 등급\n",
      "1       1A\n",
      "64      1A\n",
      "2302    1A\n",
      "3876    1A\n",
      "4658    1A\n",
      "Name: farm_class, dtype: object\n",
      "99531     1A\n",
      "101280    1A\n",
      "103353    1A\n",
      "105053    1A\n",
      "106937    1A\n",
      "Name: farm_class, dtype: object\n",
      "\n",
      "\n",
      "407775농가의 등급\n",
      "1828    1+B\n",
      "2313    1+B\n",
      "2340    1+B\n",
      "6899    1+B\n",
      "7429    1+B\n",
      "Name: farm_class, dtype: object\n",
      "92602    1+B\n",
      "93066    1+B\n",
      "93313    1+B\n",
      "93327    1+B\n",
      "97281    1+B\n",
      "Name: farm_class, dtype: object\n"
     ]
    }
   ],
   "source": [
    "print('263150농가의 등급')\n",
    "print(full_df[full_df['farm_id']==263150]['farm_class'].head())\n",
    "print(full_df[full_df['farm_id']==263150]['farm_class'].tail())\n",
    "print('\\n')\n",
    "print('407775농가의 등급')\n",
    "print(full_df[full_df['farm_id']==407775]['farm_class'].head())\n",
    "print(full_df[full_df['farm_id']==407775]['farm_class'].tail())"
   ]
  },
  {
   "cell_type": "markdown",
   "metadata": {},
   "source": [
    "##### 등급 중복 확인을 위한 중복값 제거 작업"
   ]
  },
  {
   "cell_type": "code",
   "execution_count": 22,
   "metadata": {},
   "outputs": [
    {
     "name": "stdout",
     "output_type": "stream",
     "text": [
      "(26248, 35)\n",
      "           id      kpn gender         bir  farm_id farm_class  sl_m  \\\n",
      "0  2137173111  KPN1053      F  2019-03-28   398841        1+C    42   \n",
      "1  2150109802  KPN1060    N_M  2020-04-28   263150         1A    28   \n",
      "2  2133835356  KPN1099      F  2018-09-28   189147         1A    52   \n",
      "3  2156452289  KPN1284      F  2020-11-18   451221         1A    27   \n",
      "4  2147835365  KPN1060      F  2019-10-23   190620         1A    32   \n",
      "\n",
      "         sl_d class  s_w  ...  a_s_m_i  a_s_f_m  a_s_t_m  a_s_c        b_id  \\\n",
      "0  2022-09-21    1B  374  ...    78.33      9.0     5.33      3  2054234523   \n",
      "1  2022-08-22  1++C  524  ...   105.83     16.0     7.33      6  2019892786   \n",
      "2  2023-01-03    1A  333  ...    90.50     13.0     4.00      2  2060071317   \n",
      "3  2023-01-26    1A  372  ...   109.00     18.0     8.00      1  2069804608   \n",
      "4  2022-06-07    2A  378  ...   109.00     18.0     8.00      1  2069804608   \n",
      "\n",
      "   b_s_m_w  b_s_m_i  b_s_f_m  b_s_t_m  b_s_c  \n",
      "0    571.0     95.0     10.0      5.0      1  \n",
      "1    283.0     81.0     13.0      6.0      1  \n",
      "2    329.0     81.0     12.0      6.0      1  \n",
      "3    441.0     81.0     11.5      5.0      2  \n",
      "4    441.0     81.0     11.5      5.0      2  \n",
      "\n",
      "[5 rows x 35 columns]\n"
     ]
    }
   ],
   "source": [
    "du_full = full_df.copy()\n",
    "du_1 = du_full.drop_duplicates(['farm_id','farm_class'], keep='first') \n",
    "print(du_1.shape)\n",
    "print(du_1.head())\n",
    "# 결과가 애매함, 애초에 farm_id로 중복값을 제거먼저 해줬으므로 정확하다고 할 수 없음"
   ]
  },
  {
   "cell_type": "markdown",
   "metadata": {},
   "source": [
    "##### 중복 제거로 확인할 수 없으므로 피벗테이블로 최빈, 최소값 등 비교를 통해 각 id내 다른 값이 있는지 확인"
   ]
  },
  {
   "cell_type": "code",
   "execution_count": 24,
   "metadata": {},
   "outputs": [],
   "source": [
    "# 농가 id별 class 최빈값\n",
    "a1 = full_df.groupby('farm_id')['farm_class'].agg(**{\n",
    "    'most_common_value':lambda x:x.mode()\n",
    "}).reset_index()"
   ]
  },
  {
   "cell_type": "code",
   "execution_count": 25,
   "metadata": {},
   "outputs": [
    {
     "data": {
      "text/html": [
       "<div>\n",
       "<style scoped>\n",
       "    .dataframe tbody tr th:only-of-type {\n",
       "        vertical-align: middle;\n",
       "    }\n",
       "\n",
       "    .dataframe tbody tr th {\n",
       "        vertical-align: top;\n",
       "    }\n",
       "\n",
       "    .dataframe thead th {\n",
       "        text-align: right;\n",
       "    }\n",
       "</style>\n",
       "<table border=\"1\" class=\"dataframe\">\n",
       "  <thead>\n",
       "    <tr style=\"text-align: right;\">\n",
       "      <th></th>\n",
       "      <th>farm_id</th>\n",
       "      <th>most_common_value</th>\n",
       "    </tr>\n",
       "  </thead>\n",
       "  <tbody>\n",
       "    <tr>\n",
       "      <th>0</th>\n",
       "      <td>1571</td>\n",
       "      <td>1+B</td>\n",
       "    </tr>\n",
       "    <tr>\n",
       "      <th>1</th>\n",
       "      <td>1580</td>\n",
       "      <td>1A</td>\n",
       "    </tr>\n",
       "    <tr>\n",
       "      <th>2</th>\n",
       "      <td>1591</td>\n",
       "      <td>1A</td>\n",
       "    </tr>\n",
       "    <tr>\n",
       "      <th>3</th>\n",
       "      <td>1597</td>\n",
       "      <td>1+B</td>\n",
       "    </tr>\n",
       "    <tr>\n",
       "      <th>4</th>\n",
       "      <td>1598</td>\n",
       "      <td>1B</td>\n",
       "    </tr>\n",
       "    <tr>\n",
       "      <th>...</th>\n",
       "      <td>...</td>\n",
       "      <td>...</td>\n",
       "    </tr>\n",
       "    <tr>\n",
       "      <th>26243</th>\n",
       "      <td>471434</td>\n",
       "      <td>1+C</td>\n",
       "    </tr>\n",
       "    <tr>\n",
       "      <th>26244</th>\n",
       "      <td>471736</td>\n",
       "      <td>1B</td>\n",
       "    </tr>\n",
       "    <tr>\n",
       "      <th>26245</th>\n",
       "      <td>471813</td>\n",
       "      <td>1+B</td>\n",
       "    </tr>\n",
       "    <tr>\n",
       "      <th>26246</th>\n",
       "      <td>471837</td>\n",
       "      <td>1C</td>\n",
       "    </tr>\n",
       "    <tr>\n",
       "      <th>26247</th>\n",
       "      <td>517575</td>\n",
       "      <td>2B</td>\n",
       "    </tr>\n",
       "  </tbody>\n",
       "</table>\n",
       "<p>26248 rows × 2 columns</p>\n",
       "</div>"
      ],
      "text/plain": [
       "       farm_id most_common_value\n",
       "0         1571               1+B\n",
       "1         1580                1A\n",
       "2         1591                1A\n",
       "3         1597               1+B\n",
       "4         1598                1B\n",
       "...        ...               ...\n",
       "26243   471434               1+C\n",
       "26244   471736                1B\n",
       "26245   471813               1+B\n",
       "26246   471837                1C\n",
       "26247   517575                2B\n",
       "\n",
       "[26248 rows x 2 columns]"
      ]
     },
     "execution_count": 25,
     "metadata": {},
     "output_type": "execute_result"
    }
   ],
   "source": [
    "a1"
   ]
  },
  {
   "cell_type": "code",
   "execution_count": 77,
   "metadata": {},
   "outputs": [],
   "source": [
    "a2 = full_df.groupby(['farm_id', 'farm_class'])[['target']].agg(['count'])"
   ]
  },
  {
   "cell_type": "code",
   "execution_count": 34,
   "metadata": {},
   "outputs": [],
   "source": [
    "a2.to_csv('각id별_class확인.csv', encoding='cp949', index=False)"
   ]
  },
  {
   "cell_type": "markdown",
   "metadata": {},
   "source": [
    "#### 농가 id별 target 평균"
   ]
  },
  {
   "cell_type": "code",
   "execution_count": 65,
   "metadata": {},
   "outputs": [],
   "source": [
    "gr_target = full_df.groupby(['farm_id'])['target'].agg(**{'mean_target':'mean'}).reset_index()"
   ]
  },
  {
   "cell_type": "code",
   "execution_count": 66,
   "metadata": {},
   "outputs": [],
   "source": [
    "# 소숫점 2자리까지 반올림\n",
    "gr_target.mean_target = gr_target.mean_target.round(2)"
   ]
  },
  {
   "cell_type": "code",
   "execution_count": 67,
   "metadata": {},
   "outputs": [
    {
     "name": "stdout",
     "output_type": "stream",
     "text": [
      "       farm_id  mean_target\n",
      "13132   315432          1.0\n",
      "18623   399342          1.0\n",
      "18749   401012          1.0\n",
      "18735   400761          1.0\n",
      "18732   400733          1.0\n"
     ]
    }
   ],
   "source": [
    "# 내림차순 정렬 및 원래 농가 등급을 id별로 붙여 넣어 비교해보기\n",
    "\n",
    "# 1. target 평균 기준으로 내림차순 정렬\n",
    "gr_t = gr_target.copy()\n",
    "gr_t.sort_values('mean_target', ascending=False, inplace=True)\n",
    "print(gr_t.head())\n",
    "\n",
    "# 2. target 평균 값과 비교하여 농가 등급이 진짜 우수한지, 원 데이터의 농가 등급 변수를 추가하기\n",
    "farm = full_df[['farm_id', 'farm_class']].reset_index()\n",
    "df_mer = pd.merge(gr_t, farm, how='left', left_on= 'farm_id', right_on='farm_id')\n"
   ]
  },
  {
   "cell_type": "code",
   "execution_count": 70,
   "metadata": {},
   "outputs": [],
   "source": [
    "df_mer.to_csv('소_농가별_근내지방도평균.csv',index=False, encoding='cp949')"
   ]
  },
  {
   "cell_type": "markdown",
   "metadata": {},
   "source": [
    "#### 농가 등급 A, B, C으로 변수 추가"
   ]
  },
  {
   "cell_type": "code",
   "execution_count": 90,
   "metadata": {},
   "outputs": [
    {
     "name": "stdout",
     "output_type": "stream",
     "text": [
      "['1+C' '1A' '1++C' '1C' '1+B' '2A' '1B' '1+A' '1++B' '2B' '3A' '2C' '3B'\n",
      " '1++A' '3C' '등외']\n",
      "1++A       65\n",
      "1++B      273\n",
      "1++C      870\n",
      "1+A      4220\n",
      "1+B     17657\n",
      "1+C     32803\n",
      "1A      28067\n",
      "1B      15885\n",
      "1C       6804\n",
      "2A       2231\n",
      "2B        927\n",
      "2C        306\n",
      "3A         87\n",
      "3B        103\n",
      "3C         29\n",
      "등외         18\n",
      "Name: farm_class, dtype: int64\n"
     ]
    }
   ],
   "source": [
    "print(full_df.farm_class.unique())\n",
    "print(full_df.farm_class.value_counts().sort_index())"
   ]
  },
  {
   "cell_type": "code",
   "execution_count": 94,
   "metadata": {},
   "outputs": [],
   "source": [
    "full_df['farm_level'] = full_df['farm_class'].apply(lambda x: 'A' if ((x == '1++A')|(x == '1++B')|(x == '1++C'))  else 'B' if ((x == '1+A')|(x == '1+B')|(x == '1+C')) else 'C')"
   ]
  },
  {
   "cell_type": "code",
   "execution_count": 98,
   "metadata": {},
   "outputs": [],
   "source": [
    "a_cl = full_df[full_df['farm_level']=='A']\n",
    "b_cl = full_df[full_df['farm_level']=='B']\n",
    "c_cl = full_df[full_df['farm_level']=='C']\n",
    "a_cl = a_cl[['farm_id','farm_class','farm_level']]\n",
    "b_cl = b_cl[['farm_id','farm_class','farm_level']]\n",
    "c_cl = c_cl[['farm_id','farm_class','farm_level']]"
   ]
  },
  {
   "cell_type": "code",
   "execution_count": 100,
   "metadata": {},
   "outputs": [
    {
     "name": "stdout",
     "output_type": "stream",
     "text": [
      "['1++C' '1++B' '1++A']\n",
      "['1+C' '1+B' '1+A']\n",
      "['1A' '1C' '2A' '1B' '2B' '3A' '2C' '3B' '3C' '등외']\n"
     ]
    }
   ],
   "source": [
    "print(a_cl.farm_class.unique())\n",
    "print(b_cl.farm_class.unique())\n",
    "print(c_cl.farm_class.unique())"
   ]
  },
  {
   "cell_type": "code",
   "execution_count": 86,
   "metadata": {},
   "outputs": [
    {
     "data": {
      "text/plain": [
       "0"
      ]
     },
     "execution_count": 86,
     "metadata": {},
     "output_type": "execute_result"
    }
   ],
   "source": [
    "# 결측치 확인\n",
    "full_df.farm_class.isnull().sum()"
   ]
  },
  {
   "cell_type": "code",
   "execution_count": 105,
   "metadata": {},
   "outputs": [],
   "source": [
    "full_df.to_csv('등급추가_full_cp.csv', encoding='cp949', index=False)"
   ]
  },
  {
   "cell_type": "markdown",
   "metadata": {},
   "source": [
    "#### Univariate Logistic Regression"
   ]
  },
  {
   "cell_type": "code",
   "execution_count": 102,
   "metadata": {},
   "outputs": [
    {
     "data": {
      "text/plain": [
       "Index(['id', 'kpn', 'gender', 'bir', 'farm_id', 'farm_class', 'sl_m', 'sl_d',\n",
       "       'class', 's_w', 'i_a', 'f_t', 'target', 'b_c', 'f_c', 'm_l', 'organ',\n",
       "       'mom_id', 's_m_w', 's_m_i', 's_f_m', 's_t_m', 's_c', 'a_id', 'a_s_m_w',\n",
       "       'a_s_m_i', 'a_s_f_m', 'a_s_t_m', 'a_s_c', 'b_id', 'b_s_m_w', 'b_s_m_i',\n",
       "       'b_s_f_m', 'b_s_t_m', 'b_s_c', 'farm_level'],\n",
       "      dtype='object')"
      ]
     },
     "execution_count": 102,
     "metadata": {},
     "output_type": "execute_result"
    }
   ],
   "source": [
    "full_df.columns"
   ]
  },
  {
   "cell_type": "code",
   "execution_count": 119,
   "metadata": {},
   "outputs": [
    {
     "name": "stdout",
     "output_type": "stream",
     "text": [
      "(110345, 20)\n",
      "Index(['gender', 's_w', 'sl_m', 's_m_w', 's_m_i', 's_f_m', 's_t_m', 's_c',\n",
      "       'a_s_m_w', 'a_s_m_i', 'a_s_f_m', 'a_s_t_m', 'a_s_c', 'b_s_m_w',\n",
      "       'b_s_m_i', 'b_s_f_m', 'b_s_t_m', 'b_s_c', 'farm_level', 'target'],\n",
      "      dtype='object')\n"
     ]
    }
   ],
   "source": [
    "# 사용할 변수만 고르기\n",
    "logit_df = full_df.copy()\n",
    "uni_logit_df = full_df[['gender', 's_w', 'sl_m',  's_m_w', 's_m_i', 's_f_m', 's_t_m', 's_c', 'a_s_m_w',\n",
    "       'a_s_m_i', 'a_s_f_m', 'a_s_t_m', 'a_s_c', 'b_s_m_w', 'b_s_m_i',\n",
    "       'b_s_f_m', 'b_s_t_m', 'b_s_c', 'farm_level','target']]\n",
    "print(uni_logit_df.shape)\n",
    "print(uni_logit_df.columns)"
   ]
  },
  {
   "cell_type": "code",
   "execution_count": 122,
   "metadata": {},
   "outputs": [
    {
     "data": {
      "text/plain": [
       "B    54680\n",
       "C    54457\n",
       "A     1208\n",
       "Name: farm_level, dtype: int64"
      ]
     },
     "execution_count": 122,
     "metadata": {},
     "output_type": "execute_result"
    }
   ],
   "source": [
    "full_df.farm_level.value_counts()"
   ]
  },
  {
   "cell_type": "markdown",
   "metadata": {},
   "source": [
    "#### 반복문을 이용하여 단변량 로지스틱 돌리기"
   ]
  },
  {
   "cell_type": "code",
   "execution_count": 121,
   "metadata": {},
   "outputs": [
    {
     "name": "stdout",
     "output_type": "stream",
     "text": [
      "순서:1번째 변수\n",
      "Optimization terminated successfully.\n",
      "         Current function value: 0.577376\n",
      "         Iterations 5\n",
      "독립변수 이름: gender\n",
      "                           Logit Regression Results                           \n",
      "==============================================================================\n",
      "Dep. Variable:                 target   No. Observations:               110171\n",
      "Model:                          Logit   Df Residuals:                   110169\n",
      "Method:                           MLE   Df Model:                            1\n",
      "Date:                Thu, 09 Feb 2023   Pseudo R-squ.:                 0.03802\n",
      "Time:                        17:52:13   Log-Likelihood:                -63610.\n",
      "converged:                       True   LL-Null:                       -66124.\n",
      "Covariance Type:            nonrobust   LLR p-value:                     0.000\n",
      "==================================================================================================\n",
      "                                     coef    std err          z      P>|z|      [0.025      0.975]\n",
      "--------------------------------------------------------------------------------------------------\n",
      "Intercept                         -1.6037      0.013   -122.539      0.000      -1.629      -1.578\n",
      "uni_logit_df.iloc[:, i][T.N_M]     1.0354      0.015     67.584      0.000       1.005       1.065\n",
      "==================================================================================================\n",
      "=======================================\n",
      "모델 AIC:127224.1576924467\n",
      "\n",
      "\n",
      "오즈비Intercept                         0.201153\n",
      "uni_logit_df.iloc[:, i][T.N_M]    2.816184\n",
      "dtype: float64\n",
      "\n",
      "\n",
      "순서:2번째 변수\n",
      "Optimization terminated successfully.\n",
      "         Current function value: 0.564845\n",
      "         Iterations 6\n",
      "독립변수 이름: s_w\n",
      "                           Logit Regression Results                           \n",
      "==============================================================================\n",
      "Dep. Variable:                 target   No. Observations:               110171\n",
      "Model:                          Logit   Df Residuals:                   110169\n",
      "Method:                           MLE   Df Model:                            1\n",
      "Date:                Thu, 09 Feb 2023   Pseudo R-squ.:                 0.05889\n",
      "Time:                        17:52:13   Log-Likelihood:                -62230.\n",
      "converged:                       True   LL-Null:                       -66124.\n",
      "Covariance Type:            nonrobust   LLR p-value:                     0.000\n",
      "===========================================================================================\n",
      "                              coef    std err          z      P>|z|      [0.025      0.975]\n",
      "-------------------------------------------------------------------------------------------\n",
      "Intercept                  -4.7901      0.048    -99.665      0.000      -4.884      -4.696\n",
      "uni_logit_df.iloc[:, i]     0.0091      0.000     83.145      0.000       0.009       0.009\n",
      "===========================================================================================\n",
      "=======================================\n",
      "모델 AIC:124463.00204733525\n",
      "\n",
      "\n",
      "오즈비Intercept                  0.008312\n",
      "uni_logit_df.iloc[:, i]    1.009114\n",
      "dtype: float64\n",
      "\n",
      "\n",
      "순서:3번째 변수\n",
      "Optimization terminated successfully.\n",
      "         Current function value: 0.591954\n",
      "         Iterations 5\n",
      "독립변수 이름: sl_m\n",
      "                           Logit Regression Results                           \n",
      "==============================================================================\n",
      "Dep. Variable:                 target   No. Observations:               110171\n",
      "Model:                          Logit   Df Residuals:                   110169\n",
      "Method:                           MLE   Df Model:                            1\n",
      "Date:                Thu, 09 Feb 2023   Pseudo R-squ.:                 0.01373\n",
      "Time:                        17:52:14   Log-Likelihood:                -65216.\n",
      "converged:                       True   LL-Null:                       -66124.\n",
      "Covariance Type:            nonrobust   LLR p-value:                     0.000\n",
      "===========================================================================================\n",
      "                              coef    std err          z      P>|z|      [0.025      0.975]\n",
      "-------------------------------------------------------------------------------------------\n",
      "Intercept                   0.3693      0.032     11.598      0.000       0.307       0.432\n",
      "uni_logit_df.iloc[:, i]    -0.0378      0.001    -40.277      0.000      -0.040      -0.036\n",
      "===========================================================================================\n",
      "=======================================\n",
      "모델 AIC:130436.37878648053\n",
      "\n",
      "\n",
      "오즈비Intercept                  1.446693\n",
      "uni_logit_df.iloc[:, i]    0.962876\n",
      "dtype: float64\n",
      "\n",
      "\n",
      "순서:4번째 변수\n",
      "Optimization terminated successfully.\n",
      "         Current function value: 0.598993\n",
      "         Iterations 5\n",
      "독립변수 이름: s_m_w\n",
      "                           Logit Regression Results                           \n",
      "==============================================================================\n",
      "Dep. Variable:                 target   No. Observations:               110171\n",
      "Model:                          Logit   Df Residuals:                   110169\n",
      "Method:                           MLE   Df Model:                            1\n",
      "Date:                Thu, 09 Feb 2023   Pseudo R-squ.:                0.001999\n",
      "Time:                        17:52:14   Log-Likelihood:                -65992.\n",
      "converged:                       True   LL-Null:                       -66124.\n",
      "Covariance Type:            nonrobust   LLR p-value:                 1.921e-59\n",
      "===========================================================================================\n",
      "                              coef    std err          z      P>|z|      [0.025      0.975]\n",
      "-------------------------------------------------------------------------------------------\n",
      "Intercept                  -1.6737      0.048    -34.811      0.000      -1.768      -1.579\n",
      "uni_logit_df.iloc[:, i]     0.0018      0.000     16.176      0.000       0.002       0.002\n",
      "===========================================================================================\n",
      "=======================================\n",
      "모델 AIC:131987.35862206345\n",
      "\n",
      "\n",
      "오즈비Intercept                  0.187560\n",
      "uni_logit_df.iloc[:, i]    1.001828\n",
      "dtype: float64\n",
      "\n",
      "\n",
      "순서:5번째 변수\n",
      "Optimization terminated successfully.\n",
      "         Current function value: 0.597705\n",
      "         Iterations 5\n",
      "독립변수 이름: s_m_i\n",
      "                           Logit Regression Results                           \n",
      "==============================================================================\n",
      "Dep. Variable:                 target   No. Observations:               110171\n",
      "Model:                          Logit   Df Residuals:                   110169\n",
      "Method:                           MLE   Df Model:                            1\n",
      "Date:                Thu, 09 Feb 2023   Pseudo R-squ.:                0.004146\n",
      "Time:                        17:52:14   Log-Likelihood:                -65850.\n",
      "converged:                       True   LL-Null:                       -66124.\n",
      "Covariance Type:            nonrobust   LLR p-value:                3.007e-121\n",
      "===========================================================================================\n",
      "                              coef    std err          z      P>|z|      [0.025      0.975]\n",
      "-------------------------------------------------------------------------------------------\n",
      "Intercept                  -2.1530      0.054    -39.605      0.000      -2.260      -2.046\n",
      "uni_logit_df.iloc[:, i]     0.0136      0.001     23.210      0.000       0.012       0.015\n",
      "===========================================================================================\n",
      "=======================================\n",
      "모델 AIC:131703.459591996\n",
      "\n",
      "\n",
      "오즈비Intercept                  0.116133\n",
      "uni_logit_df.iloc[:, i]    1.013696\n",
      "dtype: float64\n",
      "\n",
      "\n",
      "순서:6번째 변수\n",
      "Optimization terminated successfully.\n",
      "         Current function value: 0.600180\n",
      "         Iterations 5\n",
      "독립변수 이름: s_f_m\n",
      "                           Logit Regression Results                           \n",
      "==============================================================================\n",
      "Dep. Variable:                 target   No. Observations:               110171\n",
      "Model:                          Logit   Df Residuals:                   110169\n",
      "Method:                           MLE   Df Model:                            1\n",
      "Date:                Thu, 09 Feb 2023   Pseudo R-squ.:               2.219e-05\n",
      "Time:                        17:52:15   Log-Likelihood:                -66122.\n",
      "converged:                       True   LL-Null:                       -66124.\n",
      "Covariance Type:            nonrobust   LLR p-value:                   0.08672\n",
      "===========================================================================================\n",
      "                              coef    std err          z      P>|z|      [0.025      0.975]\n",
      "-------------------------------------------------------------------------------------------\n",
      "Intercept                  -0.8705      0.022    -40.025      0.000      -0.913      -0.828\n",
      "uni_logit_df.iloc[:, i]    -0.0026      0.002     -1.712      0.087      -0.006       0.000\n",
      "===========================================================================================\n",
      "=======================================\n",
      "모델 AIC:132248.78733533557\n",
      "\n",
      "\n",
      "오즈비Intercept                  0.418742\n",
      "uni_logit_df.iloc[:, i]    0.997393\n",
      "dtype: float64\n",
      "\n",
      "\n",
      "순서:7번째 변수\n",
      "Optimization terminated successfully.\n",
      "         Current function value: 0.590628\n",
      "         Iterations 5\n",
      "독립변수 이름: s_t_m\n",
      "                           Logit Regression Results                           \n",
      "==============================================================================\n",
      "Dep. Variable:                 target   No. Observations:               110171\n",
      "Model:                          Logit   Df Residuals:                   110169\n",
      "Method:                           MLE   Df Model:                            1\n",
      "Date:                Thu, 09 Feb 2023   Pseudo R-squ.:                 0.01594\n",
      "Time:                        17:52:15   Log-Likelihood:                -65070.\n",
      "converged:                       True   LL-Null:                       -66124.\n",
      "Covariance Type:            nonrobust   LLR p-value:                     0.000\n",
      "===========================================================================================\n",
      "                              coef    std err          z      P>|z|      [0.025      0.975]\n",
      "-------------------------------------------------------------------------------------------\n",
      "Intercept                  -1.9172      0.024    -80.640      0.000      -1.964      -1.871\n",
      "uni_logit_df.iloc[:, i]     0.1816      0.004     45.205      0.000       0.174       0.190\n",
      "===========================================================================================\n",
      "=======================================\n",
      "모델 AIC:130144.08924067777\n",
      "\n",
      "\n",
      "오즈비Intercept                  0.147019\n",
      "uni_logit_df.iloc[:, i]    1.199179\n",
      "dtype: float64\n",
      "\n",
      "\n",
      "순서:8번째 변수\n",
      "Optimization terminated successfully.\n",
      "         Current function value: 0.600192\n",
      "         Iterations 5\n",
      "독립변수 이름: s_c\n",
      "                           Logit Regression Results                           \n",
      "==============================================================================\n",
      "Dep. Variable:                 target   No. Observations:               110171\n",
      "Model:                          Logit   Df Residuals:                   110169\n",
      "Method:                           MLE   Df Model:                            1\n",
      "Date:                Thu, 09 Feb 2023   Pseudo R-squ.:               1.660e-06\n",
      "Time:                        17:52:15   Log-Likelihood:                -66124.\n",
      "converged:                       True   LL-Null:                       -66124.\n",
      "Covariance Type:            nonrobust   LLR p-value:                    0.6394\n",
      "===========================================================================================\n",
      "                              coef    std err          z      P>|z|      [0.025      0.975]\n",
      "-------------------------------------------------------------------------------------------\n",
      "Intercept                  -0.9110      0.013    -72.295      0.000      -0.936      -0.886\n",
      "uni_logit_df.iloc[:, i]     0.0025      0.005      0.469      0.639      -0.008       0.013\n",
      "===========================================================================================\n",
      "=======================================\n",
      "모델 AIC:132251.50207948612\n",
      "\n",
      "\n",
      "오즈비Intercept                  0.402129\n",
      "uni_logit_df.iloc[:, i]    1.002484\n",
      "dtype: float64\n",
      "\n",
      "\n",
      "순서:9번째 변수\n",
      "Optimization terminated successfully.\n",
      "         Current function value: 0.599474\n",
      "         Iterations 5\n",
      "독립변수 이름: a_s_m_w\n",
      "                           Logit Regression Results                           \n",
      "==============================================================================\n",
      "Dep. Variable:                 target   No. Observations:               110171\n",
      "Model:                          Logit   Df Residuals:                   110169\n",
      "Method:                           MLE   Df Model:                            1\n",
      "Date:                Thu, 09 Feb 2023   Pseudo R-squ.:                0.001198\n",
      "Time:                        17:52:16   Log-Likelihood:                -66045.\n",
      "converged:                       True   LL-Null:                       -66124.\n",
      "Covariance Type:            nonrobust   LLR p-value:                 2.458e-36\n",
      "===========================================================================================\n",
      "                              coef    std err          z      P>|z|      [0.025      0.975]\n",
      "-------------------------------------------------------------------------------------------\n",
      "Intercept                  -1.5042      0.048    -31.177      0.000      -1.599      -1.410\n",
      "uni_logit_df.iloc[:, i]     0.0015      0.000     12.550      0.000       0.001       0.002\n",
      "===========================================================================================\n",
      "=======================================\n",
      "모델 AIC:132093.26410836854\n",
      "\n",
      "\n",
      "오즈비Intercept                  0.222201\n",
      "uni_logit_df.iloc[:, i]    1.001495\n",
      "dtype: float64\n",
      "\n",
      "\n",
      "순서:10번째 변수\n",
      "Optimization terminated successfully.\n",
      "         Current function value: 0.599249\n",
      "         Iterations 5\n",
      "독립변수 이름: a_s_m_i\n",
      "                           Logit Regression Results                           \n",
      "==============================================================================\n",
      "Dep. Variable:                 target   No. Observations:               110171\n",
      "Model:                          Logit   Df Residuals:                   110169\n",
      "Method:                           MLE   Df Model:                            1\n",
      "Date:                Thu, 09 Feb 2023   Pseudo R-squ.:                0.001573\n",
      "Time:                        17:52:16   Log-Likelihood:                -66020.\n",
      "converged:                       True   LL-Null:                       -66124.\n",
      "Covariance Type:            nonrobust   LLR p-value:                 3.642e-47\n",
      "===========================================================================================\n",
      "                              coef    std err          z      P>|z|      [0.025      0.975]\n",
      "-------------------------------------------------------------------------------------------\n",
      "Intercept                  -1.7044      0.056    -30.334      0.000      -1.815      -1.594\n",
      "uni_logit_df.iloc[:, i]     0.0091      0.001     14.347      0.000       0.008       0.010\n",
      "===========================================================================================\n",
      "=======================================\n",
      "모델 AIC:132043.66279333274\n",
      "\n",
      "\n",
      "오즈비Intercept                  0.181878\n",
      "uni_logit_df.iloc[:, i]    1.009095\n",
      "dtype: float64\n",
      "\n",
      "\n",
      "순서:11번째 변수\n",
      "Optimization terminated successfully.\n",
      "         Current function value: 0.600189\n",
      "         Iterations 5\n",
      "독립변수 이름: a_s_f_m\n",
      "                           Logit Regression Results                           \n",
      "==============================================================================\n",
      "Dep. Variable:                 target   No. Observations:               110171\n",
      "Model:                          Logit   Df Residuals:                   110169\n",
      "Method:                           MLE   Df Model:                            1\n",
      "Date:                Thu, 09 Feb 2023   Pseudo R-squ.:               6.959e-06\n",
      "Time:                        17:52:16   Log-Likelihood:                -66123.\n",
      "converged:                       True   LL-Null:                       -66124.\n",
      "Covariance Type:            nonrobust   LLR p-value:                    0.3374\n",
      "===========================================================================================\n",
      "                              coef    std err          z      P>|z|      [0.025      0.975]\n",
      "-------------------------------------------------------------------------------------------\n",
      "Intercept                  -0.9258      0.022    -42.695      0.000      -0.968      -0.883\n",
      "uni_logit_df.iloc[:, i]     0.0015      0.002      0.960      0.337      -0.002       0.004\n",
      "===========================================================================================\n",
      "=======================================\n",
      "모델 AIC:132250.8012591169\n",
      "\n",
      "\n",
      "오즈비Intercept                  0.396227\n",
      "uni_logit_df.iloc[:, i]    1.001467\n",
      "dtype: float64\n",
      "\n",
      "\n",
      "순서:12번째 변수\n",
      "Optimization terminated successfully.\n",
      "         Current function value: 0.595955\n",
      "         Iterations 5\n",
      "독립변수 이름: a_s_t_m\n",
      "                           Logit Regression Results                           \n",
      "==============================================================================\n",
      "Dep. Variable:                 target   No. Observations:               110171\n",
      "Model:                          Logit   Df Residuals:                   110169\n",
      "Method:                           MLE   Df Model:                            1\n",
      "Date:                Thu, 09 Feb 2023   Pseudo R-squ.:                0.007061\n",
      "Time:                        17:52:17   Log-Likelihood:                -65657.\n",
      "converged:                       True   LL-Null:                       -66124.\n",
      "Covariance Type:            nonrobust   LLR p-value:                4.451e-205\n",
      "===========================================================================================\n",
      "                              coef    std err          z      P>|z|      [0.025      0.975]\n",
      "-------------------------------------------------------------------------------------------\n",
      "Intercept                  -1.5350      0.022    -69.675      0.000      -1.578      -1.492\n",
      "uni_logit_df.iloc[:, i]     0.1228      0.004     30.377      0.000       0.115       0.131\n",
      "===========================================================================================\n",
      "=======================================\n",
      "모델 AIC:131317.94081461843\n",
      "\n",
      "\n",
      "오즈비Intercept                  0.215460\n",
      "uni_logit_df.iloc[:, i]    1.130701\n",
      "dtype: float64\n",
      "\n",
      "\n",
      "순서:13번째 변수\n",
      "Optimization terminated successfully.\n",
      "         Current function value: 0.600178\n",
      "         Iterations 5\n",
      "독립변수 이름: a_s_c\n",
      "                           Logit Regression Results                           \n",
      "==============================================================================\n",
      "Dep. Variable:                 target   No. Observations:               110171\n",
      "Model:                          Logit   Df Residuals:                   110169\n",
      "Method:                           MLE   Df Model:                            1\n",
      "Date:                Thu, 09 Feb 2023   Pseudo R-squ.:               2.485e-05\n",
      "Time:                        17:52:17   Log-Likelihood:                -66122.\n",
      "converged:                       True   LL-Null:                       -66124.\n",
      "Covariance Type:            nonrobust   LLR p-value:                   0.06984\n",
      "===========================================================================================\n",
      "                              coef    std err          z      P>|z|      [0.025      0.975]\n",
      "-------------------------------------------------------------------------------------------\n",
      "Intercept                  -0.9251      0.012    -74.072      0.000      -0.950      -0.901\n",
      "uni_logit_df.iloc[:, i]     0.0084      0.005      1.815      0.070      -0.001       0.018\n",
      "===========================================================================================\n",
      "=======================================\n",
      "모델 AIC:132248.43484440658\n",
      "\n",
      "\n",
      "오즈비Intercept                  0.396483\n",
      "uni_logit_df.iloc[:, i]    1.008463\n",
      "dtype: float64\n",
      "\n",
      "\n",
      "순서:14번째 변수\n",
      "Optimization terminated successfully.\n",
      "         Current function value: 0.599936\n",
      "         Iterations 5\n",
      "독립변수 이름: b_s_m_w\n",
      "                           Logit Regression Results                           \n",
      "==============================================================================\n",
      "Dep. Variable:                 target   No. Observations:               110171\n",
      "Model:                          Logit   Df Residuals:                   110169\n",
      "Method:                           MLE   Df Model:                            1\n",
      "Date:                Thu, 09 Feb 2023   Pseudo R-squ.:               0.0004280\n",
      "Time:                        17:52:17   Log-Likelihood:                -66096.\n",
      "converged:                       True   LL-Null:                       -66124.\n",
      "Covariance Type:            nonrobust   LLR p-value:                 5.322e-14\n",
      "===========================================================================================\n",
      "                              coef    std err          z      P>|z|      [0.025      0.975]\n",
      "-------------------------------------------------------------------------------------------\n",
      "Intercept                  -1.2527      0.047    -26.824      0.000      -1.344      -1.161\n",
      "uni_logit_df.iloc[:, i]     0.0009      0.000      7.512      0.000       0.001       0.001\n",
      "===========================================================================================\n",
      "=======================================\n",
      "모델 AIC:132195.11471680988\n",
      "\n",
      "\n",
      "오즈비Intercept                  0.285739\n",
      "uni_logit_df.iloc[:, i]    1.000901\n",
      "dtype: float64\n",
      "\n",
      "\n",
      "순서:15번째 변수\n",
      "Optimization terminated successfully.\n",
      "         Current function value: 0.599863\n",
      "         Iterations 5\n",
      "독립변수 이름: b_s_m_i\n",
      "                           Logit Regression Results                           \n",
      "==============================================================================\n",
      "Dep. Variable:                 target   No. Observations:               110171\n",
      "Model:                          Logit   Df Residuals:                   110169\n",
      "Method:                           MLE   Df Model:                            1\n",
      "Date:                Thu, 09 Feb 2023   Pseudo R-squ.:               0.0005502\n",
      "Time:                        17:52:17   Log-Likelihood:                -66087.\n",
      "converged:                       True   LL-Null:                       -66124.\n",
      "Covariance Type:            nonrobust   LLR p-value:                 1.466e-17\n",
      "===========================================================================================\n",
      "                              coef    std err          z      P>|z|      [0.025      0.975]\n",
      "-------------------------------------------------------------------------------------------\n",
      "Intercept                  -1.3799      0.056    -24.550      0.000      -1.490      -1.270\n",
      "uni_logit_df.iloc[:, i]     0.0055      0.001      8.504      0.000       0.004       0.007\n",
      "===========================================================================================\n",
      "=======================================\n",
      "모델 AIC:132178.9641990307\n",
      "\n",
      "\n",
      "오즈비Intercept                  0.251609\n",
      "uni_logit_df.iloc[:, i]    1.005554\n",
      "dtype: float64\n",
      "\n",
      "\n",
      "순서:16번째 변수\n",
      "Optimization terminated successfully.\n",
      "         Current function value: 0.600133\n",
      "         Iterations 5\n",
      "독립변수 이름: b_s_f_m\n",
      "                           Logit Regression Results                           \n",
      "==============================================================================\n",
      "Dep. Variable:                 target   No. Observations:               110171\n",
      "Model:                          Logit   Df Residuals:                   110169\n",
      "Method:                           MLE   Df Model:                            1\n",
      "Date:                Thu, 09 Feb 2023   Pseudo R-squ.:               0.0001001\n",
      "Time:                        17:52:18   Log-Likelihood:                -66117.\n",
      "converged:                       True   LL-Null:                       -66124.\n",
      "Covariance Type:            nonrobust   LLR p-value:                 0.0002736\n",
      "===========================================================================================\n",
      "                              coef    std err          z      P>|z|      [0.025      0.975]\n",
      "-------------------------------------------------------------------------------------------\n",
      "Intercept                  -0.9778      0.021    -46.945      0.000      -1.019      -0.937\n",
      "uni_logit_df.iloc[:, i]     0.0055      0.002      3.645      0.000       0.003       0.008\n",
      "===========================================================================================\n",
      "=======================================\n",
      "모델 AIC:132238.4785506309\n",
      "\n",
      "\n",
      "오즈비Intercept                  0.376147\n",
      "uni_logit_df.iloc[:, i]    1.005496\n",
      "dtype: float64\n",
      "\n",
      "\n",
      "순서:17번째 변수\n",
      "Optimization terminated successfully.\n",
      "         Current function value: 0.598959\n",
      "         Iterations 5\n",
      "독립변수 이름: b_s_t_m\n",
      "                           Logit Regression Results                           \n",
      "==============================================================================\n",
      "Dep. Variable:                 target   No. Observations:               110171\n",
      "Model:                          Logit   Df Residuals:                   110169\n",
      "Method:                           MLE   Df Model:                            1\n",
      "Date:                Thu, 09 Feb 2023   Pseudo R-squ.:                0.002056\n",
      "Time:                        17:52:18   Log-Likelihood:                -65988.\n",
      "converged:                       True   LL-Null:                       -66124.\n",
      "Covariance Type:            nonrobust   LLR p-value:                 4.363e-61\n",
      "===========================================================================================\n",
      "                              coef    std err          z      P>|z|      [0.025      0.975]\n",
      "-------------------------------------------------------------------------------------------\n",
      "Intercept                  -1.2162      0.020    -60.457      0.000      -1.256      -1.177\n",
      "uni_logit_df.iloc[:, i]     0.0651      0.004     16.475      0.000       0.057       0.073\n",
      "===========================================================================================\n",
      "=======================================\n",
      "모델 AIC:131979.8170142323\n",
      "\n",
      "\n",
      "오즈비Intercept                  0.296366\n",
      "uni_logit_df.iloc[:, i]    1.067308\n",
      "dtype: float64\n",
      "\n",
      "\n",
      "순서:18번째 변수\n",
      "Optimization terminated successfully.\n",
      "         Current function value: 0.600175\n",
      "         Iterations 5\n",
      "독립변수 이름: b_s_c\n",
      "                           Logit Regression Results                           \n",
      "==============================================================================\n",
      "Dep. Variable:                 target   No. Observations:               110171\n",
      "Model:                          Logit   Df Residuals:                   110169\n",
      "Method:                           MLE   Df Model:                            1\n",
      "Date:                Thu, 09 Feb 2023   Pseudo R-squ.:               2.917e-05\n",
      "Time:                        17:52:18   Log-Likelihood:                -66122.\n",
      "converged:                       True   LL-Null:                       -66124.\n",
      "Covariance Type:            nonrobust   LLR p-value:                   0.04950\n",
      "===========================================================================================\n",
      "                              coef    std err          z      P>|z|      [0.025      0.975]\n",
      "-------------------------------------------------------------------------------------------\n",
      "Intercept                  -0.9267      0.012    -74.303      0.000      -0.951      -0.902\n",
      "uni_logit_df.iloc[:, i]     0.0094      0.005      1.967      0.049    3.33e-05       0.019\n",
      "===========================================================================================\n",
      "=======================================\n",
      "모델 AIC:132247.86334114388\n",
      "\n",
      "\n",
      "오즈비Intercept                  0.395865\n",
      "uni_logit_df.iloc[:, i]    1.009467\n",
      "dtype: float64\n",
      "\n",
      "\n",
      "순서:19번째 변수\n",
      "Optimization terminated successfully.\n",
      "         Current function value: 0.565042\n",
      "         Iterations 5\n",
      "독립변수 이름: farm_level\n",
      "                           Logit Regression Results                           \n",
      "==============================================================================\n",
      "Dep. Variable:                 target   No. Observations:               110171\n",
      "Model:                          Logit   Df Residuals:                   110168\n",
      "Method:                           MLE   Df Model:                            2\n",
      "Date:                Thu, 09 Feb 2023   Pseudo R-squ.:                 0.05857\n",
      "Time:                        17:52:19   Log-Likelihood:                -62251.\n",
      "converged:                       True   LL-Null:                       -66124.\n",
      "Covariance Type:            nonrobust   LLR p-value:                     0.000\n",
      "================================================================================================\n",
      "                                   coef    std err          z      P>|z|      [0.025      0.975]\n",
      "------------------------------------------------------------------------------------------------\n",
      "Intercept                        1.2300      0.069     17.878      0.000       1.095       1.365\n",
      "uni_logit_df.iloc[:, i][T.B]    -1.6731      0.069    -24.122      0.000      -1.809      -1.537\n",
      "uni_logit_df.iloc[:, i][T.C]    -2.7932      0.070    -40.058      0.000      -2.930      -2.657\n",
      "================================================================================================\n",
      "=======================================\n",
      "모델 AIC:124508.43461613306\n",
      "\n",
      "\n",
      "오즈비Intercept                       3.421245\n",
      "uni_logit_df.iloc[:, i][T.B]    0.187671\n",
      "uni_logit_df.iloc[:, i][T.C]    0.061225\n",
      "dtype: float64\n",
      "\n",
      "\n"
     ]
    }
   ],
   "source": [
    "for i in range(0,19):\n",
    "    print(f'순서:{i+1}번째 변수')\n",
    "    model = sm.Logit.from_formula('target ~ uni_logit_df.iloc[:,i]', uni_logit_df).fit()\n",
    "    print(f'독립변수 이름: {uni_logit_df.columns[i]}')\n",
    "    print(model.summary())\n",
    "    print('============='*3)\n",
    "    print(f'모델 AIC:{model.aic}')\n",
    "    print('\\n')\n",
    "    print(f'오즈비{np.exp(model.params)}')\n",
    "    print('\\n')"
   ]
  }
 ],
 "metadata": {
  "kernelspec": {
   "display_name": "'venv1'",
   "language": "python",
   "name": "conda"
  },
  "language_info": {
   "codemirror_mode": {
    "name": "ipython",
    "version": 3
   },
   "file_extension": ".py",
   "mimetype": "text/x-python",
   "name": "python",
   "nbconvert_exporter": "python",
   "pygments_lexer": "ipython3",
   "version": "3.7.4"
  },
  "orig_nbformat": 4,
  "vscode": {
   "interpreter": {
    "hash": "544c7e72ceabb8b5baf00146d00b7c3a5bfd60d2cf41bb549c5c035fb33480da"
   }
  }
 },
 "nbformat": 4,
 "nbformat_minor": 2
}
