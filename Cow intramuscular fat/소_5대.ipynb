{
 "cells": [
  {
   "attachments": {},
   "cell_type": "markdown",
   "metadata": {},
   "source": [
    "# <h5 style = 'font-size:45px'> <span style = 'color:yellow'> Link <span> </h5>\n",
    "[Markdown꾸미기](https://leedakyeong.tistory.com/entry/Markdown-Jupyter-Notebook-%EC%A3%BC%ED%94%BC%ED%84%B0-%EB%85%B8%ED%8A%B8%EB%B6%81-%EB%A7%88%ED%81%AC%EB%8B%A4%EC%9A%B4-%EC%A0%95%EB%A6%AC)  \n",
    "[Notion](https://gravel-turnover-821.notion.site/850bc7ba43a44299ae41bd4144d7462f)"
   ]
  },
  {
   "attachments": {},
   "cell_type": "markdown",
   "metadata": {},
   "source": [
    "<h5> <span style = 'color:blue'> Cow Project<span> </h5>"
   ]
  },
  {
   "attachments": {},
   "cell_type": "markdown",
   "metadata": {},
   "source": [
    "<img src = 'https://www.newsworks.co.kr/news/photo/202103/537213_423279_554.jpg' width = '500px' height ='300px' title = 'Cow project' alt = 'Error image'></img><br/>"
   ]
  },
  {
   "cell_type": "code",
   "execution_count": 1,
   "metadata": {},
   "outputs": [],
   "source": [
    "# Using package\n",
    "import pandas as pd\n",
    "import os\n",
    "import matplotlib.pyplot as plt\n",
    "import seaborn as sns\n",
    "import numpy as np\n",
    "# plot korean title\n",
    "from matplotlib import font_manager, rc\n",
    "font_path = \"C:/Windows/Fonts/NGULIM.TTF\"\n",
    "font = font_manager.FontProperties(fname=font_path).get_name()\n",
    "rc('font', family=font)\n",
    "from sklearn.model_selection import train_test_split"
   ]
  },
  {
   "attachments": {},
   "cell_type": "markdown",
   "metadata": {},
   "source": [
    "<h4> 파일에 존재하는 데이터 한꺼번에 불러오기 </h4>"
   ]
  },
  {
   "cell_type": "code",
   "execution_count": 2,
   "metadata": {},
   "outputs": [
    {
     "data": {
      "text/plain": [
       "'C:\\\\Users\\\\Owner\\\\Desktop\\\\윤태준\\\\소\\\\윤태준_김다은\\\\2022-11-25근내지방 5계대'"
      ]
     },
     "execution_count": 2,
     "metadata": {},
     "output_type": "execute_result"
    }
   ],
   "source": [
    "os.chdir('C:\\\\Users\\\\Owner\\\\Desktop\\\\윤태준\\\\소\\\\윤태준_김다은\\\\2022-11-25근내지방 5계대')\n",
    "os.getcwd()"
   ]
  },
  {
   "cell_type": "code",
   "execution_count": 3,
   "metadata": {},
   "outputs": [
    {
     "data": {
      "text/plain": [
       "['근내지방5_0.xlsx',\n",
       " '근내지방5_1.xlsx',\n",
       " '근내지방5_10.xlsx',\n",
       " '근내지방5_11.xlsx',\n",
       " '근내지방5_12.xlsx',\n",
       " '근내지방5_13.xlsx',\n",
       " '근내지방5_14.xlsx',\n",
       " '근내지방5_15.xlsx',\n",
       " '근내지방5_16.xlsx',\n",
       " '근내지방5_17.xlsx',\n",
       " '근내지방5_2.xlsx',\n",
       " '근내지방5_3.xlsx',\n",
       " '근내지방5_4.xlsx',\n",
       " '근내지방5_5.xlsx',\n",
       " '근내지방5_6.xlsx',\n",
       " '근내지방5_7.xlsx',\n",
       " '근내지방5_8.xlsx',\n",
       " '근내지방5_9.xlsx']"
      ]
     },
     "execution_count": 3,
     "metadata": {},
     "output_type": "execute_result"
    }
   ],
   "source": [
    "# 파일이 존재하는 경로 불러오기 및 리스트\n",
    "path = os.getcwd()\n",
    "file_lst = os.listdir(path)# 파일 이름 담기\n",
    "file_lst"
   ]
  },
  {
   "attachments": {},
   "cell_type": "markdown",
   "metadata": {},
   "source": [
    "##### ↓ 반복문으로 파일 불러오면서, 하나의 DataFrame으로 합침 "
   ]
  },
  {
   "cell_type": "code",
   "execution_count": 4,
   "metadata": {},
   "outputs": [],
   "source": [
    "df = pd.DataFrame()\n",
    "for i in file_lst:\n",
    "    data = pd.read_excel(path +'/'+i)\n",
    "    df = pd.concat([df,data])\n",
    "    \n",
    "df = df.reset_index(drop = True)"
   ]
  },
  {
   "cell_type": "code",
   "execution_count": null,
   "metadata": {},
   "outputs": [],
   "source": [
    "# 데이터 확인\n",
    "df.info()"
   ]
  },
  {
   "attachments": {},
   "cell_type": "markdown",
   "metadata": {},
   "source": [
    "<h5> 데이터 셋 자체 변수명 중복, 변수명 재설정 필요 </h5>"
   ]
  },
  {
   "cell_type": "code",
   "execution_count": 10,
   "metadata": {},
   "outputs": [],
   "source": [
    "# 원래 변수명\n",
    "df.columns = ['이표번호', 'KPN','성별','출생일','도축개월','도축일','등급','도체중','등심단면적','등지방두께', '근내지방도', '육색', '지방색',\n",
    "\t'성숙도', '조직도', '어미_이표번호','형매_도체중_평균', '형매_등심단면적_평균', '형매_등지방_평균', '형매_근내지방_평균',\n",
    "    '형매_마릿수', '외할미_이표번호', '어미형매_도체중_평균', '어미형매_등심단면적_평균', '어미형매_등지방_평균', '어미형매_근내지방_평균',\n",
    "    '어미형매_마릿수', '외증조할미_이표번호', '외할미형매_도체중_평균', '외할미형매_등심단면적_평균', '외할미형매_등지방_평균',\n",
    "    '외할미형매_근내지방_평균', '외할미형매_마릿수', '외고조할미_이표번호', '외증조할미형매_도체중_평균', '외증조할미형매_등심단면적_평균',\n",
    "    '외증조할미형매_등지방_평균', '외증조할미형매_근내지방_평균', '외증조할미형매_마릿수', '외고고조할미_이표번호',\n",
    "    '외고조할미형매_도체중_평균', '외고조할미형매_등심단면적_평균', '외고조할미형매_등지방_평균', '외고조할미형매_근내지방_평균',\n",
    "    '외고조할미형매_마릿수'\n",
    "]"
   ]
  },
  {
   "cell_type": "code",
   "execution_count": 18,
   "metadata": {},
   "outputs": [
    {
     "data": {
      "text/html": [
       "<div>\n",
       "<style scoped>\n",
       "    .dataframe tbody tr th:only-of-type {\n",
       "        vertical-align: middle;\n",
       "    }\n",
       "\n",
       "    .dataframe tbody tr th {\n",
       "        vertical-align: top;\n",
       "    }\n",
       "\n",
       "    .dataframe thead th {\n",
       "        text-align: right;\n",
       "    }\n",
       "</style>\n",
       "<table border=\"1\" class=\"dataframe\">\n",
       "  <thead>\n",
       "    <tr style=\"text-align: right;\">\n",
       "      <th></th>\n",
       "      <th>이표번호</th>\n",
       "      <th>KPN</th>\n",
       "      <th>성별</th>\n",
       "      <th>출생일</th>\n",
       "      <th>도축개월</th>\n",
       "      <th>도축일</th>\n",
       "      <th>등급</th>\n",
       "      <th>도체중</th>\n",
       "      <th>등심단면적</th>\n",
       "      <th>등지방두께</th>\n",
       "      <th>...</th>\n",
       "      <th>외증조할미형매_등심단면적_평균</th>\n",
       "      <th>외증조할미형매_등지방_평균</th>\n",
       "      <th>외증조할미형매_근내지방_평균</th>\n",
       "      <th>외증조할미형매_마릿수</th>\n",
       "      <th>외고고조할미_이표번호</th>\n",
       "      <th>외고조할미형매_도체중_평균</th>\n",
       "      <th>외고조할미형매_등심단면적_평균</th>\n",
       "      <th>외고조할미형매_등지방_평균</th>\n",
       "      <th>외고조할미형매_근내지방_평균</th>\n",
       "      <th>외고조할미형매_마릿수</th>\n",
       "    </tr>\n",
       "  </thead>\n",
       "  <tbody>\n",
       "    <tr>\n",
       "      <th>0</th>\n",
       "      <td>2144933791</td>\n",
       "      <td>KPN969</td>\n",
       "      <td>수</td>\n",
       "      <td>2019-09-15</td>\n",
       "      <td>31</td>\n",
       "      <td>2022-03-28</td>\n",
       "      <td>1+B</td>\n",
       "      <td>410</td>\n",
       "      <td>97.0</td>\n",
       "      <td>14.0</td>\n",
       "      <td>...</td>\n",
       "      <td>76.57</td>\n",
       "      <td>11.43</td>\n",
       "      <td>2.86</td>\n",
       "      <td>7</td>\n",
       "      <td>138524360</td>\n",
       "      <td>280.0</td>\n",
       "      <td>64.0</td>\n",
       "      <td>10.0</td>\n",
       "      <td>2.0</td>\n",
       "      <td>1</td>\n",
       "    </tr>\n",
       "    <tr>\n",
       "      <th>1</th>\n",
       "      <td>2133571629</td>\n",
       "      <td>KPN1116</td>\n",
       "      <td>거세</td>\n",
       "      <td>2018-10-14</td>\n",
       "      <td>30</td>\n",
       "      <td>2021-03-29</td>\n",
       "      <td>2A</td>\n",
       "      <td>296</td>\n",
       "      <td>73.0</td>\n",
       "      <td>5.0</td>\n",
       "      <td>...</td>\n",
       "      <td>76.57</td>\n",
       "      <td>11.43</td>\n",
       "      <td>2.86</td>\n",
       "      <td>7</td>\n",
       "      <td>138524360</td>\n",
       "      <td>280.0</td>\n",
       "      <td>64.0</td>\n",
       "      <td>10.0</td>\n",
       "      <td>2.0</td>\n",
       "      <td>1</td>\n",
       "    </tr>\n",
       "    <tr>\n",
       "      <th>2</th>\n",
       "      <td>2144063782</td>\n",
       "      <td>KPN1053</td>\n",
       "      <td>수</td>\n",
       "      <td>2020-01-01</td>\n",
       "      <td>35</td>\n",
       "      <td>2022-11-23</td>\n",
       "      <td>1B</td>\n",
       "      <td>472</td>\n",
       "      <td>99.0</td>\n",
       "      <td>12.0</td>\n",
       "      <td>...</td>\n",
       "      <td>86.00</td>\n",
       "      <td>12.00</td>\n",
       "      <td>4.33</td>\n",
       "      <td>3</td>\n",
       "      <td>2018926674</td>\n",
       "      <td>427.0</td>\n",
       "      <td>82.0</td>\n",
       "      <td>11.0</td>\n",
       "      <td>3.0</td>\n",
       "      <td>1</td>\n",
       "    </tr>\n",
       "    <tr>\n",
       "      <th>3</th>\n",
       "      <td>2139632868</td>\n",
       "      <td>KPN1130</td>\n",
       "      <td>암</td>\n",
       "      <td>2019-06-19</td>\n",
       "      <td>42</td>\n",
       "      <td>2022-11-23</td>\n",
       "      <td>1++A</td>\n",
       "      <td>326</td>\n",
       "      <td>77.0</td>\n",
       "      <td>8.0</td>\n",
       "      <td>...</td>\n",
       "      <td>79.67</td>\n",
       "      <td>8.00</td>\n",
       "      <td>4.67</td>\n",
       "      <td>3</td>\n",
       "      <td>182624452</td>\n",
       "      <td>347.0</td>\n",
       "      <td>84.0</td>\n",
       "      <td>10.0</td>\n",
       "      <td>5.0</td>\n",
       "      <td>1</td>\n",
       "    </tr>\n",
       "    <tr>\n",
       "      <th>4</th>\n",
       "      <td>2144690939</td>\n",
       "      <td>KPN1202</td>\n",
       "      <td>암</td>\n",
       "      <td>2019-08-14</td>\n",
       "      <td>40</td>\n",
       "      <td>2022-11-23</td>\n",
       "      <td>1C</td>\n",
       "      <td>403</td>\n",
       "      <td>84.0</td>\n",
       "      <td>17.0</td>\n",
       "      <td>...</td>\n",
       "      <td>83.00</td>\n",
       "      <td>8.00</td>\n",
       "      <td>2.00</td>\n",
       "      <td>1</td>\n",
       "      <td>175189104</td>\n",
       "      <td>276.0</td>\n",
       "      <td>67.0</td>\n",
       "      <td>16.0</td>\n",
       "      <td>3.0</td>\n",
       "      <td>1</td>\n",
       "    </tr>\n",
       "  </tbody>\n",
       "</table>\n",
       "<p>5 rows × 45 columns</p>\n",
       "</div>"
      ],
      "text/plain": [
       "         이표번호      KPN  성별         출생일  도축개월         도축일    등급  도체중  등심단면적  \\\n",
       "0  2144933791   KPN969   수  2019-09-15    31  2022-03-28   1+B  410   97.0   \n",
       "1  2133571629  KPN1116  거세  2018-10-14    30  2021-03-29    2A  296   73.0   \n",
       "2  2144063782  KPN1053   수  2020-01-01    35  2022-11-23    1B  472   99.0   \n",
       "3  2139632868  KPN1130   암  2019-06-19    42  2022-11-23  1++A  326   77.0   \n",
       "4  2144690939  KPN1202   암  2019-08-14    40  2022-11-23    1C  403   84.0   \n",
       "\n",
       "   등지방두께  ...  외증조할미형매_등심단면적_평균  외증조할미형매_등지방_평균  외증조할미형매_근내지방_평균  외증조할미형매_마릿수  \\\n",
       "0   14.0  ...             76.57           11.43             2.86            7   \n",
       "1    5.0  ...             76.57           11.43             2.86            7   \n",
       "2   12.0  ...             86.00           12.00             4.33            3   \n",
       "3    8.0  ...             79.67            8.00             4.67            3   \n",
       "4   17.0  ...             83.00            8.00             2.00            1   \n",
       "\n",
       "   외고고조할미_이표번호  외고조할미형매_도체중_평균  외고조할미형매_등심단면적_평균  외고조할미형매_등지방_평균  \\\n",
       "0    138524360           280.0              64.0            10.0   \n",
       "1    138524360           280.0              64.0            10.0   \n",
       "2   2018926674           427.0              82.0            11.0   \n",
       "3    182624452           347.0              84.0            10.0   \n",
       "4    175189104           276.0              67.0            16.0   \n",
       "\n",
       "   외고조할미형매_근내지방_평균  외고조할미형매_마릿수  \n",
       "0              2.0            1  \n",
       "1              2.0            1  \n",
       "2              3.0            1  \n",
       "3              5.0            1  \n",
       "4              3.0            1  \n",
       "\n",
       "[5 rows x 45 columns]"
      ]
     },
     "execution_count": 18,
     "metadata": {},
     "output_type": "execute_result"
    }
   ],
   "source": [
    "cow = df.copy()\n",
    "cow.head()"
   ]
  },
  {
   "attachments": {},
   "cell_type": "markdown",
   "metadata": {},
   "source": [
    "<h5> 근내지방도 7,8,9 : 1, 나머지: 0 변환 </h5>"
   ]
  },
  {
   "cell_type": "code",
   "execution_count": 21,
   "metadata": {},
   "outputs": [
    {
     "data": {
      "text/plain": [
       "1.0     1143\n",
       "2.0     2986\n",
       "3.0     3368\n",
       "4.0     6786\n",
       "5.0     5015\n",
       "6.0    12689\n",
       "7.0     5003\n",
       "8.0     4517\n",
       "9.0     4721\n",
       "Name: 근내지방도, dtype: int64"
      ]
     },
     "execution_count": 21,
     "metadata": {},
     "output_type": "execute_result"
    }
   ],
   "source": [
    "df.근내지방도.value_counts().sort_index()"
   ]
  },
  {
   "cell_type": "code",
   "execution_count": null,
   "metadata": {},
   "outputs": [],
   "source": [
    "cow['근내지방도'] = cow['근내지방도'].apply(lambda x: 1 if x >= 7 else 0 if x < 7 else x)\n",
    "print(cow.근내지방도.value_counts())\n",
    "cow.info()"
   ]
  },
  {
   "cell_type": "markdown",
   "metadata": {},
   "source": [
    "<h5> train_test_split, 7:3 </h5>"
   ]
  },
  {
   "cell_type": "code",
   "execution_count": 36,
   "metadata": {},
   "outputs": [],
   "source": [
    "X = cow.drop(['근내지방도'],axis=1)\n",
    "Y = cow.근내지방도\n",
    "X_train, X_test, Y_train, Y_test = train_test_split(X, Y, test_size=0.3, random_state = 7777)"
   ]
  },
  {
   "cell_type": "markdown",
   "metadata": {},
   "source": [
    "<h5> 독립변수, 종속변수 합치기 나중에 데이터 불러오기 쉽게 </h5>"
   ]
  },
  {
   "cell_type": "code",
   "execution_count": 38,
   "metadata": {},
   "outputs": [],
   "source": [
    "train = pd.concat([X_train,Y_train], axis=1)\n",
    "test = pd.concat([X_test,Y_test], axis=1)"
   ]
  },
  {
   "cell_type": "code",
   "execution_count": 44,
   "metadata": {},
   "outputs": [],
   "source": [
    "train.to_csv('C:\\\\Users\\\\Owner\\\\Desktop\\\\윤태준\\\\소\\\\윤태준_김다은\\\\5계대 정리\\\\5_train.csv',encoding='cp949',index=False)\n",
    "test.to_csv('C:\\\\Users\\\\Owner\\\\Desktop\\\\윤태준\\\\소\\\\윤태준_김다은\\\\5계대 정리\\\\5_test.csv',encoding='cp949',index=False)"
   ]
  }
 ],
 "metadata": {
  "kernelspec": {
   "display_name": "'venv1'",
   "language": "python",
   "name": "conda"
  },
  "language_info": {
   "codemirror_mode": {
    "name": "ipython",
    "version": 3
   },
   "file_extension": ".py",
   "mimetype": "text/x-python",
   "name": "python",
   "nbconvert_exporter": "python",
   "pygments_lexer": "ipython3",
   "version": "3.7.4"
  },
  "orig_nbformat": 4,
  "vscode": {
   "interpreter": {
    "hash": "12d37d03e29907ddf2c648e7ca97c2664521e3e6dbb13ba26dd677f6ee98ebe1"
   }
  }
 },
 "nbformat": 4,
 "nbformat_minor": 2
}
