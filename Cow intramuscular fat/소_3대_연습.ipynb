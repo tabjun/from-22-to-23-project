{
 "cells": [
  {
   "attachments": {},
   "cell_type": "markdown",
   "metadata": {},
   "source": [
    "# <h5 style = 'font-size:45px'> <span style = 'color:yellow'> Link <span> </h5>\n",
    "[Markdown꾸미기](https://leedakyeong.tistory.com/entry/Markdown-Jupyter-Notebook-%EC%A3%BC%ED%94%BC%ED%84%B0-%EB%85%B8%ED%8A%B8%EB%B6%81-%EB%A7%88%ED%81%AC%EB%8B%A4%EC%9A%B4-%EC%A0%95%EB%A6%AC)  \n",
    "[Notion](https://gravel-turnover-821.notion.site/850bc7ba43a44299ae41bd4144d7462f)"
   ]
  },
  {
   "attachments": {},
   "cell_type": "markdown",
   "metadata": {},
   "source": [
    "<h5> <span style = 'color:blue'> Cow Project<span> </h5>"
   ]
  },
  {
   "attachments": {},
   "cell_type": "markdown",
   "metadata": {},
   "source": [
    "<img src = 'https://www.newsworks.co.kr/news/photo/202103/537213_423279_554.jpg' width = '500px' height ='300px' title = 'Cow project' alt = 'Error image'></img><br/>"
   ]
  },
  {
   "cell_type": "code",
   "execution_count": 9,
   "metadata": {},
   "outputs": [],
   "source": [
    "# Using package\n",
    "import pandas as pd\n",
    "import os\n",
    "import matplotlib.pyplot as plt\n",
    "import seaborn as sns\n",
    "import numpy as np\n",
    "# plot korean title\n",
    "from matplotlib import font_manager, rc\n",
    "font_path = \"C:/Windows/Fonts/NGULIM.TTF\"\n",
    "font = font_manager.FontProperties(fname=font_path).get_name()\n",
    "rc('font', family=font)\n",
    "from sklearn.model_selection import train_test_split\n",
    "from sklearn.metrics import confusion_matrix, classification_report, roc_auc_score\n",
    "import statsmodels.api as sm"
   ]
  },
  {
   "attachments": {},
   "cell_type": "markdown",
   "metadata": {},
   "source": [
    "<h4> 파일에 존재하는 데이터 한꺼번에 불러오기 </h4>"
   ]
  },
  {
   "cell_type": "code",
   "execution_count": 10,
   "metadata": {},
   "outputs": [
    {
     "data": {
      "text/plain": [
       "'C:\\\\Users\\\\Owner\\\\Desktop\\\\윤태준\\\\소\\\\윤태준_김다은\\\\2022-11-25근내지방 3계대'"
      ]
     },
     "execution_count": 10,
     "metadata": {},
     "output_type": "execute_result"
    }
   ],
   "source": [
    "os.chdir('C:\\\\Users\\\\Owner\\\\Desktop\\\\윤태준\\\\소\\\\윤태준_김다은\\\\2022-11-25근내지방 3계대')\n",
    "os.getcwd()"
   ]
  },
  {
   "cell_type": "code",
   "execution_count": 11,
   "metadata": {},
   "outputs": [
    {
     "data": {
      "text/plain": [
       "['근내지방_0.xlsx',\n",
       " '근내지방_1.xlsx',\n",
       " '근내지방_10.xlsx',\n",
       " '근내지방_11.xlsx',\n",
       " '근내지방_12.xlsx',\n",
       " '근내지방_13.xlsx',\n",
       " '근내지방_14.xlsx',\n",
       " '근내지방_15.xlsx',\n",
       " '근내지방_16.xlsx',\n",
       " '근내지방_17.xlsx',\n",
       " '근내지방_2.xlsx',\n",
       " '근내지방_3.xlsx',\n",
       " '근내지방_4.xlsx',\n",
       " '근내지방_5.xlsx',\n",
       " '근내지방_6.xlsx',\n",
       " '근내지방_7.xlsx',\n",
       " '근내지방_8.xlsx',\n",
       " '근내지방_9.xlsx']"
      ]
     },
     "execution_count": 11,
     "metadata": {},
     "output_type": "execute_result"
    }
   ],
   "source": [
    "# 파일이 존재하는 경로 불러오기 및 리스트\n",
    "path = os.getcwd()\n",
    "file_lst = os.listdir(path)# 파일 이름 담기\n",
    "file_lst"
   ]
  },
  {
   "attachments": {},
   "cell_type": "markdown",
   "metadata": {},
   "source": [
    "##### ↓ 반복문으로 파일 불러오면서, 하나의 DataFrame으로 합침 "
   ]
  },
  {
   "cell_type": "code",
   "execution_count": 12,
   "metadata": {},
   "outputs": [],
   "source": [
    "df_3 = pd.DataFrame()\n",
    "for i in file_lst:\n",
    "    data_3 = pd.read_excel(path +'/'+i)\n",
    "    df_3 = pd.concat([df_3, data_3])\n",
    "    \n",
    "df_3 = df_3.reset_index(drop = True)"
   ]
  },
  {
   "cell_type": "code",
   "execution_count": 13,
   "metadata": {},
   "outputs": [
    {
     "name": "stdout",
     "output_type": "stream",
     "text": [
      "<class 'pandas.core.frame.DataFrame'>\n",
      "RangeIndex: 532653 entries, 0 to 532652\n",
      "Data columns (total 33 columns):\n",
      " #   Column          Non-Null Count   Dtype  \n",
      "---  ------          --------------   -----  \n",
      " 0   이표번호            532653 non-null  int64  \n",
      " 1   KPN             532653 non-null  object \n",
      " 2   성별              532653 non-null  object \n",
      " 3   출생일             532653 non-null  object \n",
      " 4   도축개월            532650 non-null  float64\n",
      " 5   도축일             532653 non-null  object \n",
      " 6   등급              532653 non-null  object \n",
      " 7   도체중             532653 non-null  int64  \n",
      " 8   등심단면적           532085 non-null  float64\n",
      " 9   등지방두께           532123 non-null  float64\n",
      " 10  근내지방도           531728 non-null  float64\n",
      " 11  육색              532653 non-null  int64  \n",
      " 12  지방색             532653 non-null  int64  \n",
      " 13  성숙도             532653 non-null  int64  \n",
      " 14  조직도             532653 non-null  int64  \n",
      " 15  어미 이표번호         532653 non-null  int64  \n",
      " 16  형매 도체중 평균       532653 non-null  float64\n",
      " 17  형매 등심단면적 평균     532653 non-null  float64\n",
      " 18  형매 등지방 평균       532653 non-null  float64\n",
      " 19  형매 근내지방 평균      532653 non-null  float64\n",
      " 20  형매 마릿수          532653 non-null  int64  \n",
      " 21  외할미 이표번호        532653 non-null  int64  \n",
      " 22  어미형매 도체중 평균     532653 non-null  float64\n",
      " 23  어미형매 등심단면적 평균   532653 non-null  float64\n",
      " 24  어미형매 등지방 평균     532653 non-null  float64\n",
      " 25  어미형매 근내지방 평균    532653 non-null  float64\n",
      " 26  어미형매 마릿수        532653 non-null  int64  \n",
      " 27  외증조할미 이표번호      532653 non-null  int64  \n",
      " 28  외할미형매 도체중 평균    532653 non-null  float64\n",
      " 29  외할미형매 등심단면적 평균  532653 non-null  float64\n",
      " 30  외할미형매 등지방 평균    532653 non-null  float64\n",
      " 31  외할미형매 근내지방 평균   532653 non-null  float64\n",
      " 32  외할미형매 마릿수       532653 non-null  int64  \n",
      "dtypes: float64(16), int64(12), object(5)\n",
      "memory usage: 134.1+ MB\n"
     ]
    }
   ],
   "source": [
    "# 데이터 확인\n",
    "df_3.info()"
   ]
  },
  {
   "cell_type": "code",
   "execution_count": 6,
   "metadata": {},
   "outputs": [
    {
     "data": {
      "text/html": [
       "<div>\n",
       "<style scoped>\n",
       "    .dataframe tbody tr th:only-of-type {\n",
       "        vertical-align: middle;\n",
       "    }\n",
       "\n",
       "    .dataframe tbody tr th {\n",
       "        vertical-align: top;\n",
       "    }\n",
       "\n",
       "    .dataframe thead th {\n",
       "        text-align: right;\n",
       "    }\n",
       "</style>\n",
       "<table border=\"1\" class=\"dataframe\">\n",
       "  <thead>\n",
       "    <tr style=\"text-align: right;\">\n",
       "      <th></th>\n",
       "      <th>이표번호</th>\n",
       "      <th>KPN</th>\n",
       "      <th>성별</th>\n",
       "      <th>출생일</th>\n",
       "      <th>도축개월</th>\n",
       "      <th>도축일</th>\n",
       "      <th>등급</th>\n",
       "      <th>도체중</th>\n",
       "      <th>등심단면적</th>\n",
       "      <th>등지방두께</th>\n",
       "      <th>...</th>\n",
       "      <th>어미형매 등심단면적 평균</th>\n",
       "      <th>어미형매 등지방 평균</th>\n",
       "      <th>어미형매 근내지방 평균</th>\n",
       "      <th>어미형매 마릿수</th>\n",
       "      <th>외증조할미 이표번호</th>\n",
       "      <th>외할미형매 도체중 평균</th>\n",
       "      <th>외할미형매 등심단면적 평균</th>\n",
       "      <th>외할미형매 등지방 평균</th>\n",
       "      <th>외할미형매 근내지방 평균</th>\n",
       "      <th>외할미형매 마릿수</th>\n",
       "    </tr>\n",
       "  </thead>\n",
       "  <tbody>\n",
       "    <tr>\n",
       "      <th>0</th>\n",
       "      <td>2146424082</td>\n",
       "      <td>KPN1233</td>\n",
       "      <td>암</td>\n",
       "      <td>2019-11-01</td>\n",
       "      <td>31.0</td>\n",
       "      <td>2022-05-23</td>\n",
       "      <td>1B</td>\n",
       "      <td>484</td>\n",
       "      <td>112.0</td>\n",
       "      <td>12.0</td>\n",
       "      <td>...</td>\n",
       "      <td>97.0</td>\n",
       "      <td>8.0</td>\n",
       "      <td>5.0</td>\n",
       "      <td>1</td>\n",
       "      <td>2078801406</td>\n",
       "      <td>427.25</td>\n",
       "      <td>86.75</td>\n",
       "      <td>15.00</td>\n",
       "      <td>2.75</td>\n",
       "      <td>4</td>\n",
       "    </tr>\n",
       "    <tr>\n",
       "      <th>1</th>\n",
       "      <td>2122073288</td>\n",
       "      <td>KPN946</td>\n",
       "      <td>거세</td>\n",
       "      <td>2017-09-30</td>\n",
       "      <td>30.0</td>\n",
       "      <td>2020-03-25</td>\n",
       "      <td>1+A</td>\n",
       "      <td>471</td>\n",
       "      <td>106.0</td>\n",
       "      <td>10.0</td>\n",
       "      <td>...</td>\n",
       "      <td>87.5</td>\n",
       "      <td>11.0</td>\n",
       "      <td>2.0</td>\n",
       "      <td>2</td>\n",
       "      <td>2016613635</td>\n",
       "      <td>386.00</td>\n",
       "      <td>87.25</td>\n",
       "      <td>20.50</td>\n",
       "      <td>5.50</td>\n",
       "      <td>4</td>\n",
       "    </tr>\n",
       "    <tr>\n",
       "      <th>2</th>\n",
       "      <td>2113675893</td>\n",
       "      <td>KPN1009</td>\n",
       "      <td>암</td>\n",
       "      <td>2016-12-17</td>\n",
       "      <td>71.0</td>\n",
       "      <td>2022-10-25</td>\n",
       "      <td>2B</td>\n",
       "      <td>407</td>\n",
       "      <td>82.0</td>\n",
       "      <td>13.0</td>\n",
       "      <td>...</td>\n",
       "      <td>81.2</td>\n",
       "      <td>11.2</td>\n",
       "      <td>4.4</td>\n",
       "      <td>5</td>\n",
       "      <td>162626314</td>\n",
       "      <td>363.40</td>\n",
       "      <td>76.40</td>\n",
       "      <td>14.00</td>\n",
       "      <td>5.00</td>\n",
       "      <td>5</td>\n",
       "    </tr>\n",
       "    <tr>\n",
       "      <th>3</th>\n",
       "      <td>2147230382</td>\n",
       "      <td>KPN1240</td>\n",
       "      <td>거세</td>\n",
       "      <td>2020-02-02</td>\n",
       "      <td>34.0</td>\n",
       "      <td>2022-11-21</td>\n",
       "      <td>1+B</td>\n",
       "      <td>554</td>\n",
       "      <td>96.0</td>\n",
       "      <td>13.0</td>\n",
       "      <td>...</td>\n",
       "      <td>85.0</td>\n",
       "      <td>16.5</td>\n",
       "      <td>4.5</td>\n",
       "      <td>2</td>\n",
       "      <td>196448808</td>\n",
       "      <td>347.67</td>\n",
       "      <td>87.00</td>\n",
       "      <td>10.33</td>\n",
       "      <td>5.67</td>\n",
       "      <td>3</td>\n",
       "    </tr>\n",
       "    <tr>\n",
       "      <th>4</th>\n",
       "      <td>2153357549</td>\n",
       "      <td>KPN1488</td>\n",
       "      <td>수</td>\n",
       "      <td>2020-06-03</td>\n",
       "      <td>24.0</td>\n",
       "      <td>2022-05-10</td>\n",
       "      <td>1A</td>\n",
       "      <td>356</td>\n",
       "      <td>69.0</td>\n",
       "      <td>7.0</td>\n",
       "      <td>...</td>\n",
       "      <td>95.5</td>\n",
       "      <td>9.0</td>\n",
       "      <td>4.5</td>\n",
       "      <td>2</td>\n",
       "      <td>192515207</td>\n",
       "      <td>368.57</td>\n",
       "      <td>87.14</td>\n",
       "      <td>9.57</td>\n",
       "      <td>3.29</td>\n",
       "      <td>7</td>\n",
       "    </tr>\n",
       "  </tbody>\n",
       "</table>\n",
       "<p>5 rows × 33 columns</p>\n",
       "</div>"
      ],
      "text/plain": [
       "         이표번호      KPN  성별         출생일  도축개월         도축일   등급  도체중  등심단면적  \\\n",
       "0  2146424082  KPN1233   암  2019-11-01  31.0  2022-05-23   1B  484  112.0   \n",
       "1  2122073288   KPN946  거세  2017-09-30  30.0  2020-03-25  1+A  471  106.0   \n",
       "2  2113675893  KPN1009   암  2016-12-17  71.0  2022-10-25   2B  407   82.0   \n",
       "3  2147230382  KPN1240  거세  2020-02-02  34.0  2022-11-21  1+B  554   96.0   \n",
       "4  2153357549  KPN1488   수  2020-06-03  24.0  2022-05-10   1A  356   69.0   \n",
       "\n",
       "   등지방두께  ...  어미형매 등심단면적 평균  어미형매 등지방 평균  어미형매 근내지방 평균  어미형매 마릿수  외증조할미 이표번호  \\\n",
       "0   12.0  ...           97.0          8.0           5.0         1  2078801406   \n",
       "1   10.0  ...           87.5         11.0           2.0         2  2016613635   \n",
       "2   13.0  ...           81.2         11.2           4.4         5   162626314   \n",
       "3   13.0  ...           85.0         16.5           4.5         2   196448808   \n",
       "4    7.0  ...           95.5          9.0           4.5         2   192515207   \n",
       "\n",
       "   외할미형매 도체중 평균  외할미형매 등심단면적 평균  외할미형매 등지방 평균  외할미형매 근내지방 평균  외할미형매 마릿수  \n",
       "0        427.25           86.75         15.00           2.75          4  \n",
       "1        386.00           87.25         20.50           5.50          4  \n",
       "2        363.40           76.40         14.00           5.00          5  \n",
       "3        347.67           87.00         10.33           5.67          3  \n",
       "4        368.57           87.14          9.57           3.29          7  \n",
       "\n",
       "[5 rows x 33 columns]"
      ]
     },
     "execution_count": 6,
     "metadata": {},
     "output_type": "execute_result"
    }
   ],
   "source": [
    "df_3.head()"
   ]
  },
  {
   "attachments": {},
   "cell_type": "markdown",
   "metadata": {},
   "source": [
    "<h5> 근내지방도 7,8,9 : 1, 나머지: 0 변환 </h5>"
   ]
  },
  {
   "cell_type": "code",
   "execution_count": 7,
   "metadata": {},
   "outputs": [
    {
     "data": {
      "text/plain": [
       "1.0     16822\n",
       "2.0     41856\n",
       "3.0     45031\n",
       "4.0     86311\n",
       "5.0     62474\n",
       "6.0    131721\n",
       "7.0     57172\n",
       "8.0     47055\n",
       "9.0     43286\n",
       "Name: 근내지방도, dtype: int64"
      ]
     },
     "execution_count": 7,
     "metadata": {},
     "output_type": "execute_result"
    }
   ],
   "source": [
    "df_3.근내지방도.value_counts().sort_index()"
   ]
  },
  {
   "cell_type": "code",
   "execution_count": 8,
   "metadata": {},
   "outputs": [
    {
     "name": "stdout",
     "output_type": "stream",
     "text": [
      "0.0    384215\n",
      "1.0    147513\n",
      "Name: 근내지방도, dtype: int64\n",
      "\n",
      "\n",
      "<class 'pandas.core.frame.DataFrame'>\n",
      "RangeIndex: 532653 entries, 0 to 532652\n",
      "Data columns (total 33 columns):\n",
      " #   Column          Non-Null Count   Dtype  \n",
      "---  ------          --------------   -----  \n",
      " 0   이표번호            532653 non-null  int64  \n",
      " 1   KPN             532653 non-null  object \n",
      " 2   성별              532653 non-null  object \n",
      " 3   출생일             532653 non-null  object \n",
      " 4   도축개월            532650 non-null  float64\n",
      " 5   도축일             532653 non-null  object \n",
      " 6   등급              532653 non-null  object \n",
      " 7   도체중             532653 non-null  int64  \n",
      " 8   등심단면적           532085 non-null  float64\n",
      " 9   등지방두께           532123 non-null  float64\n",
      " 10  근내지방도           531728 non-null  float64\n",
      " 11  육색              532653 non-null  int64  \n",
      " 12  지방색             532653 non-null  int64  \n",
      " 13  성숙도             532653 non-null  int64  \n",
      " 14  조직도             532653 non-null  int64  \n",
      " 15  어미 이표번호         532653 non-null  int64  \n",
      " 16  형매 도체중 평균       532653 non-null  float64\n",
      " 17  형매 등심단면적 평균     532653 non-null  float64\n",
      " 18  형매 등지방 평균       532653 non-null  float64\n",
      " 19  형매 근내지방 평균      532653 non-null  float64\n",
      " 20  형매 마릿수          532653 non-null  int64  \n",
      " 21  외할미 이표번호        532653 non-null  int64  \n",
      " 22  어미형매 도체중 평균     532653 non-null  float64\n",
      " 23  어미형매 등심단면적 평균   532653 non-null  float64\n",
      " 24  어미형매 등지방 평균     532653 non-null  float64\n",
      " 25  어미형매 근내지방 평균    532653 non-null  float64\n",
      " 26  어미형매 마릿수        532653 non-null  int64  \n",
      " 27  외증조할미 이표번호      532653 non-null  int64  \n",
      " 28  외할미형매 도체중 평균    532653 non-null  float64\n",
      " 29  외할미형매 등심단면적 평균  532653 non-null  float64\n",
      " 30  외할미형매 등지방 평균    532653 non-null  float64\n",
      " 31  외할미형매 근내지방 평균   532653 non-null  float64\n",
      " 32  외할미형매 마릿수       532653 non-null  int64  \n",
      "dtypes: float64(16), int64(12), object(5)\n",
      "memory usage: 134.1+ MB\n"
     ]
    }
   ],
   "source": [
    "cow_3 = df_3.copy()\n",
    "cow_3['근내지방도'] = cow_3['근내지방도'].apply(lambda x: 1 if x >= 7 else 0 if x < 7 else x)\n",
    "print(cow_3.근내지방도.value_counts())\n",
    "print('\\n')\n",
    "cow_3.info()"
   ]
  },
  {
   "cell_type": "markdown",
   "metadata": {},
   "source": [
    "<h5> 성별 프리마틴, 기타 미경산 제거</h5>"
   ]
  },
  {
   "cell_type": "code",
   "execution_count": 9,
   "metadata": {},
   "outputs": [
    {
     "data": {
      "text/plain": [
       "암             198319\n",
       "수             172240\n",
       "거세            161215\n",
       "프리마틴             859\n",
       "미경산               11\n",
       "기타(프리마틴 등)         9\n",
       "Name: 성별, dtype: int64"
      ]
     },
     "execution_count": 9,
     "metadata": {},
     "output_type": "execute_result"
    }
   ],
   "source": [
    "cow_3.성별.value_counts()"
   ]
  },
  {
   "cell_type": "code",
   "execution_count": 32,
   "metadata": {},
   "outputs": [
    {
     "data": {
      "text/plain": [
       "(531721, 33)"
      ]
     },
     "execution_count": 32,
     "metadata": {},
     "output_type": "execute_result"
    }
   ],
   "source": [
    "# target의 결측치 제거\n",
    "cow_3.dropna(inplace=True)\n",
    "cow_3.shape"
   ]
  },
  {
   "cell_type": "code",
   "execution_count": 33,
   "metadata": {},
   "outputs": [
    {
     "name": "stdout",
     "output_type": "stream",
     "text": [
      "(531721, 33)\n",
      "성별 제거할 행 개수:877\n",
      "(530844, 33)\n",
      "\n",
      "\n",
      "암     197662\n",
      "수     172065\n",
      "거세    161117\n",
      "Name: 성별, dtype: int64\n"
     ]
    }
   ],
   "source": [
    "c_c = cow_3.copy()\n",
    "# indexNames = df[ (df['Price'] >= 30) & (df['Price'] <= 70) ].index\n",
    "ind = c_c[(c_c['성별']=='프리마틴')|(c_c['성별']=='미경산')|(c_c['성별']=='기타(프리마틴 등)')].index\n",
    "c_c.drop(ind, inplace=True)\n",
    "print(cow_3.shape)\n",
    "print(f'성별 제거할 행 개수:{len(ind)}')\n",
    "print(c_c.shape)\n",
    "print('\\n')\n",
    "print(c_c.성별.value_counts())"
   ]
  },
  {
   "cell_type": "code",
   "execution_count": 34,
   "metadata": {},
   "outputs": [
    {
     "data": {
      "text/html": [
       "<div>\n",
       "<style scoped>\n",
       "    .dataframe tbody tr th:only-of-type {\n",
       "        vertical-align: middle;\n",
       "    }\n",
       "\n",
       "    .dataframe tbody tr th {\n",
       "        vertical-align: top;\n",
       "    }\n",
       "\n",
       "    .dataframe thead th {\n",
       "        text-align: right;\n",
       "    }\n",
       "</style>\n",
       "<table border=\"1\" class=\"dataframe\">\n",
       "  <thead>\n",
       "    <tr style=\"text-align: right;\">\n",
       "      <th></th>\n",
       "      <th>이표번호</th>\n",
       "      <th>KPN</th>\n",
       "      <th>성별</th>\n",
       "      <th>출생일</th>\n",
       "      <th>도축개월</th>\n",
       "      <th>도축일</th>\n",
       "      <th>등급</th>\n",
       "      <th>도체중</th>\n",
       "      <th>등심단면적</th>\n",
       "      <th>등지방두께</th>\n",
       "      <th>...</th>\n",
       "      <th>어미형매 등심단면적 평균</th>\n",
       "      <th>어미형매 등지방 평균</th>\n",
       "      <th>어미형매 근내지방 평균</th>\n",
       "      <th>어미형매 마릿수</th>\n",
       "      <th>외증조할미 이표번호</th>\n",
       "      <th>외할미형매 도체중 평균</th>\n",
       "      <th>외할미형매 등심단면적 평균</th>\n",
       "      <th>외할미형매 등지방 평균</th>\n",
       "      <th>외할미형매 근내지방 평균</th>\n",
       "      <th>외할미형매 마릿수</th>\n",
       "    </tr>\n",
       "  </thead>\n",
       "  <tbody>\n",
       "    <tr>\n",
       "      <th>0</th>\n",
       "      <td>2146424082</td>\n",
       "      <td>KPN1233</td>\n",
       "      <td>암</td>\n",
       "      <td>2019-11-01</td>\n",
       "      <td>31.0</td>\n",
       "      <td>2022-05-23</td>\n",
       "      <td>1B</td>\n",
       "      <td>484</td>\n",
       "      <td>112.0</td>\n",
       "      <td>12.0</td>\n",
       "      <td>...</td>\n",
       "      <td>97.0</td>\n",
       "      <td>8.0</td>\n",
       "      <td>5.0</td>\n",
       "      <td>1</td>\n",
       "      <td>2078801406</td>\n",
       "      <td>427.25</td>\n",
       "      <td>86.75</td>\n",
       "      <td>15.00</td>\n",
       "      <td>2.75</td>\n",
       "      <td>4</td>\n",
       "    </tr>\n",
       "    <tr>\n",
       "      <th>1</th>\n",
       "      <td>2122073288</td>\n",
       "      <td>KPN946</td>\n",
       "      <td>거세</td>\n",
       "      <td>2017-09-30</td>\n",
       "      <td>30.0</td>\n",
       "      <td>2020-03-25</td>\n",
       "      <td>1+A</td>\n",
       "      <td>471</td>\n",
       "      <td>106.0</td>\n",
       "      <td>10.0</td>\n",
       "      <td>...</td>\n",
       "      <td>87.5</td>\n",
       "      <td>11.0</td>\n",
       "      <td>2.0</td>\n",
       "      <td>2</td>\n",
       "      <td>2016613635</td>\n",
       "      <td>386.00</td>\n",
       "      <td>87.25</td>\n",
       "      <td>20.50</td>\n",
       "      <td>5.50</td>\n",
       "      <td>4</td>\n",
       "    </tr>\n",
       "    <tr>\n",
       "      <th>2</th>\n",
       "      <td>2113675893</td>\n",
       "      <td>KPN1009</td>\n",
       "      <td>암</td>\n",
       "      <td>2016-12-17</td>\n",
       "      <td>71.0</td>\n",
       "      <td>2022-10-25</td>\n",
       "      <td>2B</td>\n",
       "      <td>407</td>\n",
       "      <td>82.0</td>\n",
       "      <td>13.0</td>\n",
       "      <td>...</td>\n",
       "      <td>81.2</td>\n",
       "      <td>11.2</td>\n",
       "      <td>4.4</td>\n",
       "      <td>5</td>\n",
       "      <td>162626314</td>\n",
       "      <td>363.40</td>\n",
       "      <td>76.40</td>\n",
       "      <td>14.00</td>\n",
       "      <td>5.00</td>\n",
       "      <td>5</td>\n",
       "    </tr>\n",
       "    <tr>\n",
       "      <th>3</th>\n",
       "      <td>2147230382</td>\n",
       "      <td>KPN1240</td>\n",
       "      <td>거세</td>\n",
       "      <td>2020-02-02</td>\n",
       "      <td>34.0</td>\n",
       "      <td>2022-11-21</td>\n",
       "      <td>1+B</td>\n",
       "      <td>554</td>\n",
       "      <td>96.0</td>\n",
       "      <td>13.0</td>\n",
       "      <td>...</td>\n",
       "      <td>85.0</td>\n",
       "      <td>16.5</td>\n",
       "      <td>4.5</td>\n",
       "      <td>2</td>\n",
       "      <td>196448808</td>\n",
       "      <td>347.67</td>\n",
       "      <td>87.00</td>\n",
       "      <td>10.33</td>\n",
       "      <td>5.67</td>\n",
       "      <td>3</td>\n",
       "    </tr>\n",
       "    <tr>\n",
       "      <th>4</th>\n",
       "      <td>2153357549</td>\n",
       "      <td>KPN1488</td>\n",
       "      <td>수</td>\n",
       "      <td>2020-06-03</td>\n",
       "      <td>24.0</td>\n",
       "      <td>2022-05-10</td>\n",
       "      <td>1A</td>\n",
       "      <td>356</td>\n",
       "      <td>69.0</td>\n",
       "      <td>7.0</td>\n",
       "      <td>...</td>\n",
       "      <td>95.5</td>\n",
       "      <td>9.0</td>\n",
       "      <td>4.5</td>\n",
       "      <td>2</td>\n",
       "      <td>192515207</td>\n",
       "      <td>368.57</td>\n",
       "      <td>87.14</td>\n",
       "      <td>9.57</td>\n",
       "      <td>3.29</td>\n",
       "      <td>7</td>\n",
       "    </tr>\n",
       "  </tbody>\n",
       "</table>\n",
       "<p>5 rows × 33 columns</p>\n",
       "</div>"
      ],
      "text/plain": [
       "         이표번호      KPN  성별         출생일  도축개월         도축일   등급  도체중  등심단면적  \\\n",
       "0  2146424082  KPN1233   암  2019-11-01  31.0  2022-05-23   1B  484  112.0   \n",
       "1  2122073288   KPN946  거세  2017-09-30  30.0  2020-03-25  1+A  471  106.0   \n",
       "2  2113675893  KPN1009   암  2016-12-17  71.0  2022-10-25   2B  407   82.0   \n",
       "3  2147230382  KPN1240  거세  2020-02-02  34.0  2022-11-21  1+B  554   96.0   \n",
       "4  2153357549  KPN1488   수  2020-06-03  24.0  2022-05-10   1A  356   69.0   \n",
       "\n",
       "   등지방두께  ...  어미형매 등심단면적 평균  어미형매 등지방 평균  어미형매 근내지방 평균  어미형매 마릿수  외증조할미 이표번호  \\\n",
       "0   12.0  ...           97.0          8.0           5.0         1  2078801406   \n",
       "1   10.0  ...           87.5         11.0           2.0         2  2016613635   \n",
       "2   13.0  ...           81.2         11.2           4.4         5   162626314   \n",
       "3   13.0  ...           85.0         16.5           4.5         2   196448808   \n",
       "4    7.0  ...           95.5          9.0           4.5         2   192515207   \n",
       "\n",
       "   외할미형매 도체중 평균  외할미형매 등심단면적 평균  외할미형매 등지방 평균  외할미형매 근내지방 평균  외할미형매 마릿수  \n",
       "0        427.25           86.75         15.00           2.75          4  \n",
       "1        386.00           87.25         20.50           5.50          4  \n",
       "2        363.40           76.40         14.00           5.00          5  \n",
       "3        347.67           87.00         10.33           5.67          3  \n",
       "4        368.57           87.14          9.57           3.29          7  \n",
       "\n",
       "[5 rows x 33 columns]"
      ]
     },
     "execution_count": 34,
     "metadata": {},
     "output_type": "execute_result"
    }
   ],
   "source": [
    "# 확인\n",
    "c_c.head()"
   ]
  },
  {
   "cell_type": "markdown",
   "metadata": {},
   "source": [
    "<h5> train_test_split, 7:3 </h5>"
   ]
  },
  {
   "cell_type": "code",
   "execution_count": 35,
   "metadata": {},
   "outputs": [],
   "source": [
    "X_3 = c_c.drop(['근내지방도'],axis=1)\n",
    "Y_3 = c_c.근내지방도\n",
    "X_train_3, X_test_3, Y_train_3, Y_test_3 = train_test_split(X_3, Y_3, test_size=0.3, random_state = 7777)"
   ]
  },
  {
   "cell_type": "markdown",
   "metadata": {},
   "source": [
    "<h5> 독립변수, 종속변수 합치기 나중에 데이터 불러오기 쉽게 </h5>"
   ]
  },
  {
   "cell_type": "code",
   "execution_count": 36,
   "metadata": {},
   "outputs": [
    {
     "data": {
      "text/html": [
       "<div>\n",
       "<style scoped>\n",
       "    .dataframe tbody tr th:only-of-type {\n",
       "        vertical-align: middle;\n",
       "    }\n",
       "\n",
       "    .dataframe tbody tr th {\n",
       "        vertical-align: top;\n",
       "    }\n",
       "\n",
       "    .dataframe thead th {\n",
       "        text-align: right;\n",
       "    }\n",
       "</style>\n",
       "<table border=\"1\" class=\"dataframe\">\n",
       "  <thead>\n",
       "    <tr style=\"text-align: right;\">\n",
       "      <th></th>\n",
       "      <th>이표번호</th>\n",
       "      <th>KPN</th>\n",
       "      <th>성별</th>\n",
       "      <th>출생일</th>\n",
       "      <th>도축개월</th>\n",
       "      <th>도축일</th>\n",
       "      <th>등급</th>\n",
       "      <th>도체중</th>\n",
       "      <th>등심단면적</th>\n",
       "      <th>등지방두께</th>\n",
       "      <th>...</th>\n",
       "      <th>어미형매 등심단면적 평균</th>\n",
       "      <th>어미형매 등지방 평균</th>\n",
       "      <th>어미형매 근내지방 평균</th>\n",
       "      <th>어미형매 마릿수</th>\n",
       "      <th>외증조할미 이표번호</th>\n",
       "      <th>외할미형매 도체중 평균</th>\n",
       "      <th>외할미형매 등심단면적 평균</th>\n",
       "      <th>외할미형매 등지방 평균</th>\n",
       "      <th>외할미형매 근내지방 평균</th>\n",
       "      <th>외할미형매 마릿수</th>\n",
       "    </tr>\n",
       "  </thead>\n",
       "  <tbody>\n",
       "    <tr>\n",
       "      <th>479827</th>\n",
       "      <td>2115671506</td>\n",
       "      <td>KPN1012</td>\n",
       "      <td>암</td>\n",
       "      <td>2017-03-26</td>\n",
       "      <td>29.0</td>\n",
       "      <td>2019-08-01</td>\n",
       "      <td>1A</td>\n",
       "      <td>309</td>\n",
       "      <td>89.0</td>\n",
       "      <td>12.0</td>\n",
       "      <td>...</td>\n",
       "      <td>82.38</td>\n",
       "      <td>11.88</td>\n",
       "      <td>4.25</td>\n",
       "      <td>8</td>\n",
       "      <td>182317033</td>\n",
       "      <td>394.9</td>\n",
       "      <td>86.70</td>\n",
       "      <td>13.90</td>\n",
       "      <td>4.70</td>\n",
       "      <td>10</td>\n",
       "    </tr>\n",
       "    <tr>\n",
       "      <th>212485</th>\n",
       "      <td>2098978583</td>\n",
       "      <td>KPN923</td>\n",
       "      <td>수</td>\n",
       "      <td>2015-05-26</td>\n",
       "      <td>33.0</td>\n",
       "      <td>2018-02-05</td>\n",
       "      <td>1+C</td>\n",
       "      <td>435</td>\n",
       "      <td>95.0</td>\n",
       "      <td>18.0</td>\n",
       "      <td>...</td>\n",
       "      <td>79.75</td>\n",
       "      <td>8.50</td>\n",
       "      <td>4.25</td>\n",
       "      <td>4</td>\n",
       "      <td>182979736</td>\n",
       "      <td>371.0</td>\n",
       "      <td>83.67</td>\n",
       "      <td>11.67</td>\n",
       "      <td>5.33</td>\n",
       "      <td>6</td>\n",
       "    </tr>\n",
       "    <tr>\n",
       "      <th>330849</th>\n",
       "      <td>2131393509</td>\n",
       "      <td>KPN1059</td>\n",
       "      <td>거세</td>\n",
       "      <td>2018-09-03</td>\n",
       "      <td>31.0</td>\n",
       "      <td>2021-03-08</td>\n",
       "      <td>1+B</td>\n",
       "      <td>470</td>\n",
       "      <td>98.0</td>\n",
       "      <td>14.0</td>\n",
       "      <td>...</td>\n",
       "      <td>107.60</td>\n",
       "      <td>13.60</td>\n",
       "      <td>6.20</td>\n",
       "      <td>5</td>\n",
       "      <td>191535367</td>\n",
       "      <td>418.0</td>\n",
       "      <td>81.00</td>\n",
       "      <td>16.50</td>\n",
       "      <td>4.00</td>\n",
       "      <td>2</td>\n",
       "    </tr>\n",
       "    <tr>\n",
       "      <th>209099</th>\n",
       "      <td>2112876195</td>\n",
       "      <td>KPN912</td>\n",
       "      <td>수</td>\n",
       "      <td>2016-09-27</td>\n",
       "      <td>36.0</td>\n",
       "      <td>2019-08-28</td>\n",
       "      <td>1B</td>\n",
       "      <td>459</td>\n",
       "      <td>95.0</td>\n",
       "      <td>11.0</td>\n",
       "      <td>...</td>\n",
       "      <td>90.67</td>\n",
       "      <td>14.67</td>\n",
       "      <td>6.00</td>\n",
       "      <td>3</td>\n",
       "      <td>169320056</td>\n",
       "      <td>401.5</td>\n",
       "      <td>85.50</td>\n",
       "      <td>14.25</td>\n",
       "      <td>5.25</td>\n",
       "      <td>4</td>\n",
       "    </tr>\n",
       "    <tr>\n",
       "      <th>439989</th>\n",
       "      <td>2119299118</td>\n",
       "      <td>KPN872</td>\n",
       "      <td>암</td>\n",
       "      <td>2017-06-26</td>\n",
       "      <td>50.0</td>\n",
       "      <td>2021-07-26</td>\n",
       "      <td>1+B</td>\n",
       "      <td>433</td>\n",
       "      <td>95.0</td>\n",
       "      <td>14.0</td>\n",
       "      <td>...</td>\n",
       "      <td>81.67</td>\n",
       "      <td>11.00</td>\n",
       "      <td>6.00</td>\n",
       "      <td>3</td>\n",
       "      <td>183681928</td>\n",
       "      <td>418.2</td>\n",
       "      <td>91.80</td>\n",
       "      <td>19.00</td>\n",
       "      <td>4.60</td>\n",
       "      <td>5</td>\n",
       "    </tr>\n",
       "  </tbody>\n",
       "</table>\n",
       "<p>5 rows × 32 columns</p>\n",
       "</div>"
      ],
      "text/plain": [
       "              이표번호      KPN  성별         출생일  도축개월         도축일   등급  도체중  \\\n",
       "479827  2115671506  KPN1012   암  2017-03-26  29.0  2019-08-01   1A  309   \n",
       "212485  2098978583   KPN923   수  2015-05-26  33.0  2018-02-05  1+C  435   \n",
       "330849  2131393509  KPN1059  거세  2018-09-03  31.0  2021-03-08  1+B  470   \n",
       "209099  2112876195   KPN912   수  2016-09-27  36.0  2019-08-28   1B  459   \n",
       "439989  2119299118   KPN872   암  2017-06-26  50.0  2021-07-26  1+B  433   \n",
       "\n",
       "        등심단면적  등지방두께  ...  어미형매 등심단면적 평균  어미형매 등지방 평균  어미형매 근내지방 평균  어미형매 마릿수  \\\n",
       "479827   89.0   12.0  ...          82.38        11.88          4.25         8   \n",
       "212485   95.0   18.0  ...          79.75         8.50          4.25         4   \n",
       "330849   98.0   14.0  ...         107.60        13.60          6.20         5   \n",
       "209099   95.0   11.0  ...          90.67        14.67          6.00         3   \n",
       "439989   95.0   14.0  ...          81.67        11.00          6.00         3   \n",
       "\n",
       "        외증조할미 이표번호  외할미형매 도체중 평균  외할미형매 등심단면적 평균  외할미형매 등지방 평균  외할미형매 근내지방 평균  \\\n",
       "479827   182317033         394.9           86.70         13.90           4.70   \n",
       "212485   182979736         371.0           83.67         11.67           5.33   \n",
       "330849   191535367         418.0           81.00         16.50           4.00   \n",
       "209099   169320056         401.5           85.50         14.25           5.25   \n",
       "439989   183681928         418.2           91.80         19.00           4.60   \n",
       "\n",
       "        외할미형매 마릿수  \n",
       "479827         10  \n",
       "212485          6  \n",
       "330849          2  \n",
       "209099          4  \n",
       "439989          5  \n",
       "\n",
       "[5 rows x 32 columns]"
      ]
     },
     "execution_count": 36,
     "metadata": {},
     "output_type": "execute_result"
    }
   ],
   "source": [
    "X_test_3.head()"
   ]
  },
  {
   "cell_type": "code",
   "execution_count": 37,
   "metadata": {},
   "outputs": [
    {
     "data": {
      "text/plain": [
       "479827    0.0\n",
       "212485    0.0\n",
       "330849    0.0\n",
       "209099    0.0\n",
       "439989    0.0\n",
       "Name: 근내지방도, dtype: float64"
      ]
     },
     "execution_count": 37,
     "metadata": {},
     "output_type": "execute_result"
    }
   ],
   "source": [
    "Y_test_3.head()"
   ]
  },
  {
   "cell_type": "markdown",
   "metadata": {},
   "source": [
    "<h5> 값 다 같은 인덱스, 원래 같은 행이므로 이대로 합쳐도 원래 데이터 셋이 됨 </h5>"
   ]
  },
  {
   "cell_type": "code",
   "execution_count": 38,
   "metadata": {},
   "outputs": [],
   "source": [
    "train_3 = pd.concat([X_train_3,Y_train_3], axis=1)\n",
    "test_3 = pd.concat([X_test_3,Y_test_3], axis=1)"
   ]
  },
  {
   "cell_type": "code",
   "execution_count": 39,
   "metadata": {},
   "outputs": [
    {
     "name": "stdout",
     "output_type": "stream",
     "text": [
      "(371590, 33)\n",
      "(159254, 33)\n"
     ]
    }
   ],
   "source": [
    "print(train_3.shape)\n",
    "print(test_3.shape)"
   ]
  },
  {
   "cell_type": "code",
   "execution_count": 40,
   "metadata": {},
   "outputs": [],
   "source": [
    "train_3.to_csv('C:\\\\Users\\\\Owner\\\\Desktop\\\\윤태준\\\\소\\\\윤태준_김다은\\\\3계대 정리\\\\3_train.csv',encoding='cp949',index=False)\n",
    "test_3.to_csv('C:\\\\Users\\\\Owner\\\\Desktop\\\\윤태준\\\\소\\\\윤태준_김다은\\\\3계대 정리\\\\3_test.csv',encoding='cp949',index=False)\n",
    "df_3.to_csv('C:\\\\Users\\\\Owner\\\\Desktop\\\\윤태준\\\\소\\\\윤태준_김다은\\\\3계대 정리\\\\3_data_full.csv',encoding='cp949',index=False)"
   ]
  },
  {
   "cell_type": "markdown",
   "metadata": {},
   "source": [
    "<h5> Logistic Regression </h5>"
   ]
  },
  {
   "cell_type": "code",
   "execution_count": 2,
   "metadata": {},
   "outputs": [],
   "source": [
    "train_3 = pd.read_csv('C:\\\\Users\\\\Owner\\\\Desktop\\\\윤태준\\\\소\\\\윤태준_김다은\\\\3계대 정리\\\\3_train.csv',encoding='cp949')\n",
    "test_3 = pd.read_csv('C:\\\\Users\\\\Owner\\\\Desktop\\\\윤태준\\\\소\\\\윤태준_김다은\\\\3계대 정리\\\\3_test.csv',encoding='cp949')"
   ]
  },
  {
   "cell_type": "code",
   "execution_count": 41,
   "metadata": {},
   "outputs": [
    {
     "data": {
      "text/html": [
       "<div>\n",
       "<style scoped>\n",
       "    .dataframe tbody tr th:only-of-type {\n",
       "        vertical-align: middle;\n",
       "    }\n",
       "\n",
       "    .dataframe tbody tr th {\n",
       "        vertical-align: top;\n",
       "    }\n",
       "\n",
       "    .dataframe thead th {\n",
       "        text-align: right;\n",
       "    }\n",
       "</style>\n",
       "<table border=\"1\" class=\"dataframe\">\n",
       "  <thead>\n",
       "    <tr style=\"text-align: right;\">\n",
       "      <th></th>\n",
       "      <th>이표번호</th>\n",
       "      <th>KPN</th>\n",
       "      <th>성별</th>\n",
       "      <th>출생일</th>\n",
       "      <th>도축개월</th>\n",
       "      <th>도축일</th>\n",
       "      <th>등급</th>\n",
       "      <th>도체중</th>\n",
       "      <th>등심단면적</th>\n",
       "      <th>등지방두께</th>\n",
       "      <th>...</th>\n",
       "      <th>어미형매 등지방 평균</th>\n",
       "      <th>어미형매 근내지방 평균</th>\n",
       "      <th>어미형매 마릿수</th>\n",
       "      <th>외증조할미 이표번호</th>\n",
       "      <th>외할미형매 도체중 평균</th>\n",
       "      <th>외할미형매 등심단면적 평균</th>\n",
       "      <th>외할미형매 등지방 평균</th>\n",
       "      <th>외할미형매 근내지방 평균</th>\n",
       "      <th>외할미형매 마릿수</th>\n",
       "      <th>근내지방도</th>\n",
       "    </tr>\n",
       "  </thead>\n",
       "  <tbody>\n",
       "    <tr>\n",
       "      <th>346839</th>\n",
       "      <td>2069207019</td>\n",
       "      <td>KPN654</td>\n",
       "      <td>거세</td>\n",
       "      <td>2011-10-20</td>\n",
       "      <td>35.0</td>\n",
       "      <td>2014-09-02</td>\n",
       "      <td>1++C</td>\n",
       "      <td>437</td>\n",
       "      <td>85.0</td>\n",
       "      <td>19.0</td>\n",
       "      <td>...</td>\n",
       "      <td>11.00</td>\n",
       "      <td>3.75</td>\n",
       "      <td>4</td>\n",
       "      <td>184472655</td>\n",
       "      <td>286.50</td>\n",
       "      <td>66.50</td>\n",
       "      <td>7.50</td>\n",
       "      <td>1.00</td>\n",
       "      <td>2</td>\n",
       "      <td>1.0</td>\n",
       "    </tr>\n",
       "    <tr>\n",
       "      <th>70214</th>\n",
       "      <td>2109254264</td>\n",
       "      <td>KPN967</td>\n",
       "      <td>거세</td>\n",
       "      <td>2016-05-08</td>\n",
       "      <td>35.0</td>\n",
       "      <td>2019-03-25</td>\n",
       "      <td>1+A</td>\n",
       "      <td>438</td>\n",
       "      <td>110.0</td>\n",
       "      <td>7.0</td>\n",
       "      <td>...</td>\n",
       "      <td>14.00</td>\n",
       "      <td>5.50</td>\n",
       "      <td>6</td>\n",
       "      <td>2003505994</td>\n",
       "      <td>319.00</td>\n",
       "      <td>99.00</td>\n",
       "      <td>5.00</td>\n",
       "      <td>2.00</td>\n",
       "      <td>1</td>\n",
       "      <td>1.0</td>\n",
       "    </tr>\n",
       "    <tr>\n",
       "      <th>313439</th>\n",
       "      <td>2149556227</td>\n",
       "      <td>KPN1053</td>\n",
       "      <td>수</td>\n",
       "      <td>2020-03-20</td>\n",
       "      <td>28.0</td>\n",
       "      <td>2022-07-06</td>\n",
       "      <td>1++B</td>\n",
       "      <td>487</td>\n",
       "      <td>100.0</td>\n",
       "      <td>10.0</td>\n",
       "      <td>...</td>\n",
       "      <td>10.00</td>\n",
       "      <td>5.00</td>\n",
       "      <td>1</td>\n",
       "      <td>105572201</td>\n",
       "      <td>388.00</td>\n",
       "      <td>90.00</td>\n",
       "      <td>15.00</td>\n",
       "      <td>4.00</td>\n",
       "      <td>1</td>\n",
       "      <td>1.0</td>\n",
       "    </tr>\n",
       "    <tr>\n",
       "      <th>237325</th>\n",
       "      <td>2115913532</td>\n",
       "      <td>KPN995</td>\n",
       "      <td>암</td>\n",
       "      <td>2017-03-02</td>\n",
       "      <td>51.0</td>\n",
       "      <td>2021-05-24</td>\n",
       "      <td>1++B</td>\n",
       "      <td>362</td>\n",
       "      <td>86.0</td>\n",
       "      <td>12.0</td>\n",
       "      <td>...</td>\n",
       "      <td>11.67</td>\n",
       "      <td>3.67</td>\n",
       "      <td>6</td>\n",
       "      <td>185790956</td>\n",
       "      <td>316.67</td>\n",
       "      <td>78.17</td>\n",
       "      <td>12.17</td>\n",
       "      <td>2.67</td>\n",
       "      <td>6</td>\n",
       "      <td>1.0</td>\n",
       "    </tr>\n",
       "    <tr>\n",
       "      <th>48740</th>\n",
       "      <td>2144415304</td>\n",
       "      <td>KPN1124</td>\n",
       "      <td>수</td>\n",
       "      <td>2019-09-21</td>\n",
       "      <td>30.0</td>\n",
       "      <td>2022-03-02</td>\n",
       "      <td>1C</td>\n",
       "      <td>578</td>\n",
       "      <td>97.0</td>\n",
       "      <td>32.0</td>\n",
       "      <td>...</td>\n",
       "      <td>13.00</td>\n",
       "      <td>1.00</td>\n",
       "      <td>1</td>\n",
       "      <td>2003273693</td>\n",
       "      <td>347.00</td>\n",
       "      <td>72.00</td>\n",
       "      <td>6.00</td>\n",
       "      <td>3.00</td>\n",
       "      <td>1</td>\n",
       "      <td>0.0</td>\n",
       "    </tr>\n",
       "  </tbody>\n",
       "</table>\n",
       "<p>5 rows × 33 columns</p>\n",
       "</div>"
      ],
      "text/plain": [
       "              이표번호      KPN  성별         출생일  도축개월         도축일    등급  도체중  \\\n",
       "346839  2069207019   KPN654  거세  2011-10-20  35.0  2014-09-02  1++C  437   \n",
       "70214   2109254264   KPN967  거세  2016-05-08  35.0  2019-03-25   1+A  438   \n",
       "313439  2149556227  KPN1053   수  2020-03-20  28.0  2022-07-06  1++B  487   \n",
       "237325  2115913532   KPN995   암  2017-03-02  51.0  2021-05-24  1++B  362   \n",
       "48740   2144415304  KPN1124   수  2019-09-21  30.0  2022-03-02    1C  578   \n",
       "\n",
       "        등심단면적  등지방두께  ...  어미형매 등지방 평균  어미형매 근내지방 평균  어미형매 마릿수  외증조할미 이표번호  \\\n",
       "346839   85.0   19.0  ...        11.00          3.75         4   184472655   \n",
       "70214   110.0    7.0  ...        14.00          5.50         6  2003505994   \n",
       "313439  100.0   10.0  ...        10.00          5.00         1   105572201   \n",
       "237325   86.0   12.0  ...        11.67          3.67         6   185790956   \n",
       "48740    97.0   32.0  ...        13.00          1.00         1  2003273693   \n",
       "\n",
       "        외할미형매 도체중 평균  외할미형매 등심단면적 평균  외할미형매 등지방 평균  외할미형매 근내지방 평균  외할미형매 마릿수  \\\n",
       "346839        286.50           66.50          7.50           1.00          2   \n",
       "70214         319.00           99.00          5.00           2.00          1   \n",
       "313439        388.00           90.00         15.00           4.00          1   \n",
       "237325        316.67           78.17         12.17           2.67          6   \n",
       "48740         347.00           72.00          6.00           3.00          1   \n",
       "\n",
       "        근내지방도  \n",
       "346839    1.0  \n",
       "70214     1.0  \n",
       "313439    1.0  \n",
       "237325    1.0  \n",
       "48740     0.0  \n",
       "\n",
       "[5 rows x 33 columns]"
      ]
     },
     "execution_count": 41,
     "metadata": {},
     "output_type": "execute_result"
    }
   ],
   "source": [
    "train_3.head()"
   ]
  },
  {
   "cell_type": "code",
   "execution_count": 42,
   "metadata": {},
   "outputs": [
    {
     "name": "stdout",
     "output_type": "stream",
     "text": [
      "[1. 0.]\n",
      "[0. 1.]\n"
     ]
    }
   ],
   "source": [
    "print(train_3.근내지방도.unique())\n",
    "print(test_3.근내지방도.unique())"
   ]
  },
  {
   "cell_type": "code",
   "execution_count": 43,
   "metadata": {},
   "outputs": [
    {
     "ename": "NameError",
     "evalue": "name 'train' is not defined",
     "output_type": "error",
     "traceback": [
      "\u001b[1;31m---------------------------------------------------------------------------\u001b[0m",
      "\u001b[1;31mNameError\u001b[0m                                 Traceback (most recent call last)",
      "\u001b[1;32m~\\AppData\\Local\\Temp\\ipykernel_29200\\4167172441.py\u001b[0m in \u001b[0;36m<module>\u001b[1;34m\u001b[0m\n\u001b[1;32m----> 1\u001b[1;33m \u001b[0mtrain\u001b[0m\u001b[1;33m.\u001b[0m\u001b[0mcolumns\u001b[0m\u001b[1;33m\u001b[0m\u001b[1;33m\u001b[0m\u001b[0m\n\u001b[0m",
      "\u001b[1;31mNameError\u001b[0m: name 'train' is not defined"
     ]
    }
   ],
   "source": [
    "train.columns"
   ]
  },
  {
   "cell_type": "code",
   "execution_count": 44,
   "metadata": {},
   "outputs": [
    {
     "data": {
      "text/plain": [
       "이표번호                 int64\n",
       "KPN                 object\n",
       "성별                  object\n",
       "출생일                 object\n",
       "도축개월               float64\n",
       "도축일                 object\n",
       "등급                  object\n",
       "도체중                  int64\n",
       "등심단면적              float64\n",
       "등지방두께              float64\n",
       "육색                   int64\n",
       "지방색                  int64\n",
       "성숙도                  int64\n",
       "조직도                  int64\n",
       "어미 이표번호              int64\n",
       "형매 도체중 평균          float64\n",
       "형매 등심단면적 평균        float64\n",
       "형매 등지방 평균          float64\n",
       "형매 근내지방 평균         float64\n",
       "형매 마릿수               int64\n",
       "외할미 이표번호             int64\n",
       "어미형매 도체중 평균        float64\n",
       "어미형매 등심단면적 평균      float64\n",
       "어미형매 등지방 평균        float64\n",
       "어미형매 근내지방 평균       float64\n",
       "어미형매 마릿수             int64\n",
       "외증조할미 이표번호           int64\n",
       "외할미형매 도체중 평균       float64\n",
       "외할미형매 등심단면적 평균     float64\n",
       "외할미형매 등지방 평균       float64\n",
       "외할미형매 근내지방 평균      float64\n",
       "외할미형매 마릿수            int64\n",
       "근내지방도             category\n",
       "dtype: object"
      ]
     },
     "execution_count": 44,
     "metadata": {},
     "output_type": "execute_result"
    }
   ],
   "source": [
    "train_3 = train_3.astype({'근내지방도':'int64'})\n",
    "train_3 = train_3.astype({'근내지방도':'category'})\n",
    "train_3.dtypes\n",
    "test_3 = test_3.astype({'근내지방도':'int64'})\n",
    "test_3 = test_3.astype({'근내지방도':'category'})\n",
    "test_3.dtypes"
   ]
  },
  {
   "cell_type": "code",
   "execution_count": 45,
   "metadata": {},
   "outputs": [],
   "source": [
    "train_x = train_3.drop(['이표번호', 'KPN', '출생일', '도축일', '등급', '등심단면적',\n",
    "       '등지방두께', '육색', '지방색', '성숙도', '조직도', '어미 이표번호', '외할미 이표번호',\n",
    "       '외증조할미 이표번호', '근내지방도'],axis=1)\n",
    "train_y = train_3['근내지방도']"
   ]
  },
  {
   "cell_type": "code",
   "execution_count": 46,
   "metadata": {},
   "outputs": [
    {
     "data": {
      "text/plain": [
       "Index(['이표번호', 'KPN', '성별', '출생일', '도축개월', '도축일', '등급', '도체중', '등심단면적',\n",
       "       '등지방두께', '육색', '지방색', '성숙도', '조직도', '어미 이표번호', '형매 도체중 평균',\n",
       "       '형매 등심단면적 평균', '형매 등지방 평균', '형매 근내지방 평균', '형매 마릿수', '외할미 이표번호',\n",
       "       '어미형매 도체중 평균', '어미형매 등심단면적 평균', '어미형매 등지방 평균', '어미형매 근내지방 평균',\n",
       "       '어미형매 마릿수', '외증조할미 이표번호', '외할미형매 도체중 평균', '외할미형매 등심단면적 평균',\n",
       "       '외할미형매 등지방 평균', '외할미형매 근내지방 평균', '외할미형매 마릿수', '근내지방도'],\n",
       "      dtype='object')"
      ]
     },
     "execution_count": 46,
     "metadata": {},
     "output_type": "execute_result"
    }
   ],
   "source": [
    "test_3.columns"
   ]
  },
  {
   "cell_type": "code",
   "execution_count": 47,
   "metadata": {},
   "outputs": [],
   "source": [
    "test_x = test_3.drop(['이표번호', 'KPN', '출생일', '도축일', '등급', '등심단면적',\n",
    "       '등지방두께', '육색', '지방색', '성숙도', '조직도', '어미 이표번호', '외할미 이표번호',\n",
    "       '외증조할미 이표번호', '근내지방도'],axis=1)\n",
    "test_y = test_3['근내지방도']"
   ]
  },
  {
   "cell_type": "code",
   "execution_count": 48,
   "metadata": {},
   "outputs": [],
   "source": [
    "t_x = train_x.copy()\n",
    "t_x = pd.get_dummies(t_x, columns=['성별'], drop_first=True)\n",
    "\n",
    "te_x = test_x.copy()\n",
    "te_x = pd.get_dummies(te_x, columns=['성별'], drop_first=True)"
   ]
  },
  {
   "cell_type": "code",
   "execution_count": 49,
   "metadata": {},
   "outputs": [
    {
     "name": "stdout",
     "output_type": "stream",
     "text": [
      "[1, 0]\n",
      "Categories (2, int64): [0, 1]\n",
      "[0, 1]\n",
      "Categories (2, int64): [0, 1]\n"
     ]
    }
   ],
   "source": [
    "print(train_y.unique())\n",
    "print(test_y.unique())"
   ]
  },
  {
   "cell_type": "code",
   "execution_count": 50,
   "metadata": {},
   "outputs": [],
   "source": [
    "model = sm.Logit(train_y, t_x)"
   ]
  },
  {
   "cell_type": "code",
   "execution_count": 51,
   "metadata": {},
   "outputs": [
    {
     "name": "stdout",
     "output_type": "stream",
     "text": [
      "Optimization terminated successfully.\n",
      "         Current function value: 0.392327\n",
      "         Iterations 7\n",
      "                           Logit Regression Results                           \n",
      "==============================================================================\n",
      "Dep. Variable:                  근내지방도   No. Observations:               371590\n",
      "Model:                          Logit   Df Residuals:                   371571\n",
      "Method:                           MLE   Df Model:                           18\n",
      "Date:                Fri, 27 Jan 2023   Pseudo R-squ.:                  0.3356\n",
      "Time:                        14:46:39   Log-Likelihood:            -1.4578e+05\n",
      "converged:                       True   LL-Null:                   -2.1941e+05\n",
      "Covariance Type:            nonrobust   LLR p-value:                     0.000\n",
      "==================================================================================\n",
      "                     coef    std err          z      P>|z|      [0.025      0.975]\n",
      "----------------------------------------------------------------------------------\n",
      "도축개월              -0.0192      0.001    -34.953      0.000      -0.020      -0.018\n",
      "도체중                0.0104      0.000     92.121      0.000       0.010       0.011\n",
      "형매 도체중 평균         -0.0173      0.000    -99.023      0.000      -0.018      -0.017\n",
      "형매 등심단면적 평균       -0.0105      0.001    -14.916      0.000      -0.012      -0.009\n",
      "형매 등지방 평균         -0.0167      0.001    -11.868      0.000      -0.019      -0.014\n",
      "형매 근내지방 평균         1.3513      0.005    249.202      0.000       1.341       1.362\n",
      "형매 마릿수             0.0494      0.003     19.089      0.000       0.044       0.054\n",
      "어미형매 도체중 평균       -0.0011      0.000     -7.170      0.000      -0.001      -0.001\n",
      "어미형매 등심단면적 평균     -0.0187      0.001    -26.470      0.000      -0.020      -0.017\n",
      "어미형매 등지방 평균       -0.0109      0.001     -8.578      0.000      -0.013      -0.008\n",
      "어미형매 근내지방 평균       0.0191      0.004      5.055      0.000       0.012       0.027\n",
      "어미형매 마릿수          -0.0145      0.002     -6.183      0.000      -0.019      -0.010\n",
      "외할미형매 도체중 평균      -0.0018      0.000    -11.385      0.000      -0.002      -0.001\n",
      "외할미형매 등심단면적 평균    -0.0152      0.001    -22.364      0.000      -0.017      -0.014\n",
      "외할미형매 등지방 평균      -0.0061      0.001     -5.216      0.000      -0.008      -0.004\n",
      "외할미형매 근내지방 평균      0.0194      0.004      5.423      0.000       0.012       0.026\n",
      "외할미형매 마릿수          0.0082      0.002      3.620      0.000       0.004       0.013\n",
      "성별_수              -0.0770      0.011     -7.172      0.000      -0.098      -0.056\n",
      "성별_암              -0.4983      0.016    -30.812      0.000      -0.530      -0.467\n",
      "==================================================================================\n"
     ]
    }
   ],
   "source": [
    "results = model.fit(method='newton')\n",
    "pr_y = results.predict(te_x)\n",
    "print(results.summary())"
   ]
  },
  {
   "cell_type": "code",
   "execution_count": 52,
   "metadata": {},
   "outputs": [
    {
     "name": "stdout",
     "output_type": "stream",
     "text": [
      "0.5보다 작은 것 개수:35201\n",
      "0.5보다 큰 것 개수:124053\n"
     ]
    }
   ],
   "source": [
    "print(f'0.5보다 작은 것 개수:{len(pr_y[pr_y>0.5])}')\n",
    "print(f'0.5보다 큰 것 개수:{len(pr_y[pr_y<=0.5])}')"
   ]
  },
  {
   "cell_type": "code",
   "execution_count": 53,
   "metadata": {},
   "outputs": [
    {
     "data": {
      "text/plain": [
       "330849    0.759061\n",
       "335402    0.939709\n",
       "49593     0.615539\n",
       "382966    0.526006\n",
       "295193    0.508098\n",
       "            ...   \n",
       "1031      0.581018\n",
       "239214    0.608716\n",
       "325737    0.962415\n",
       "274452    0.689344\n",
       "170709    0.513256\n",
       "Length: 35201, dtype: float64"
      ]
     },
     "execution_count": 53,
     "metadata": {},
     "output_type": "execute_result"
    }
   ],
   "source": [
    "pr_y[pr_y>0.5]"
   ]
  },
  {
   "cell_type": "code",
   "execution_count": 54,
   "metadata": {},
   "outputs": [
    {
     "data": {
      "text/plain": [
       "479827    0.384133\n",
       "212485    0.065023\n",
       "209099    0.328494\n",
       "439989    0.039812\n",
       "99814     0.202010\n",
       "            ...   \n",
       "461757    0.029411\n",
       "400257    0.439751\n",
       "82397     0.048109\n",
       "26520     0.272583\n",
       "458939    0.396945\n",
       "Length: 124053, dtype: float64"
      ]
     },
     "execution_count": 54,
     "metadata": {},
     "output_type": "execute_result"
    }
   ],
   "source": [
    "pr_y[pr_y<=0.5]"
   ]
  },
  {
   "cell_type": "code",
   "execution_count": 55,
   "metadata": {},
   "outputs": [
    {
     "data": {
      "text/plain": [
       "0    124053\n",
       "1     35201\n",
       "dtype: int64"
      ]
     },
     "execution_count": 55,
     "metadata": {},
     "output_type": "execute_result"
    }
   ],
   "source": [
    "pr_y = pr_y.apply(lambda x: 1 if x > 0.5 else 0 )\n",
    "pr_y.value_counts()"
   ]
  },
  {
   "cell_type": "markdown",
   "metadata": {},
   "source": [
    "<h5> 성과지표 </h5>"
   ]
  },
  {
   "cell_type": "code",
   "execution_count": 56,
   "metadata": {},
   "outputs": [
    {
     "name": "stdout",
     "output_type": "stream",
     "text": [
      "              precision    recall  f1-score   support\n",
      "\n",
      "     class 0       0.85      0.92      0.88    115131\n",
      "     class 1       0.72      0.58      0.64     44123\n",
      "\n",
      "    accuracy                           0.82    159254\n",
      "   macro avg       0.79      0.75      0.76    159254\n",
      "weighted avg       0.81      0.82      0.82    159254\n",
      "\n"
     ]
    }
   ],
   "source": [
    "print(classification_report(test_y, pr_y, target_names=['class 0', 'class 1']))"
   ]
  },
  {
   "cell_type": "code",
   "execution_count": 57,
   "metadata": {},
   "outputs": [
    {
     "name": "stdout",
     "output_type": "stream",
     "text": [
      "AUC: 0.7464898235006716\n"
     ]
    },
    {
     "data": {
      "image/png": "[encoded data removed]",
      "text/plain": [
       "<Figure size 640x480 with 1 Axes>"
      ]
     },
     "metadata": {},
     "output_type": "display_data"
    },
    {
     "data": {
      "image/png": "[encoded data removed]",
      "text/plain": [
       "<Figure size 1500x500 with 1 Axes>"
      ]
     },
     "metadata": {},
     "output_type": "display_data"
    }
   ],
   "source": [
    "import sklearn.metrics as metrics\n",
    "\n",
    "# sklearn에서 ROC 패키지 활용\n",
    "fpr, tpr, thresholds = metrics.roc_curve(test_y, pr_y,pos_label = 1)\n",
    "\n",
    "# ROC curve\n",
    "plt.plot(fpr,tpr)\n",
    "\n",
    "# AUC\n",
    "auc = np.trapz(tpr,fpr)\n",
    "print(\"AUC:\",auc)\n",
    "\n",
    "\n",
    "plt.figure(figsize=(15, 5))\n",
    "\n",
    "plt.plot([0,1], [0, 1], label='STR')\n",
    "plt.title('ROC 커브')\n",
    "plt.plot(fpr, tpr, label='ROC')\n",
    "plt.show()"
   ]
  },
  {
   "cell_type": "markdown",
   "metadata": {},
   "source": [
    "##### chatGPT code "
   ]
  },
  {
   "cell_type": "code",
   "execution_count": 1,
   "metadata": {},
   "outputs": [],
   "source": [
    "import numpy as np\n",
    "import keras\n",
    "from keras.models import Sequential\n",
    "from keras.layers import Dense, Dropout, Flatten\n",
    "from keras.layers import Conv2D, MaxPooling2D\n",
    "from keras.optimizers import SGD"
   ]
  },
  {
   "cell_type": "code",
   "execution_count": 2,
   "metadata": {},
   "outputs": [
    {
     "name": "stdout",
     "output_type": "stream",
     "text": [
      "Downloading data from https://storage.googleapis.com/tensorflow/tf-keras-datasets/mnist.npz\n",
      "11490434/11490434 [==============================] - 1s 0us/step\n"
     ]
    }
   ],
   "source": [
    "import tensorflow.keras as tk\n",
    "mnist = tk.datasets.mnist\n",
    "(x_train, y_train), (x_test, y_test) = mnist.load_data()"
   ]
  },
  {
   "cell_type": "code",
   "execution_count": 3,
   "metadata": {},
   "outputs": [],
   "source": [
    "# Preprocess the data\n",
    "x_train = x_train.reshape(x_train.shape[0], 28, 28, 1).astype('float32')\n",
    "x_test = x_test.reshape(x_test.shape[0], 28, 28, 1).astype('float32')\n",
    "x_train /= 255\n",
    "x_test /= 255"
   ]
  },
  {
   "cell_type": "code",
   "execution_count": 4,
   "metadata": {},
   "outputs": [],
   "source": [
    "# Convert class vectors to binary class matrices\n",
    "y_train = keras.utils.to_categorical(y_train, 10)\n",
    "y_test = keras.utils.to_categorical(y_test, 10)"
   ]
  },
  {
   "cell_type": "code",
   "execution_count": 5,
   "metadata": {},
   "outputs": [],
   "source": [
    "# Build the model\n",
    "model = Sequential()\n",
    "model.add(Conv2D(32, (3, 3), activation='relu', input_shape=(28, 28, 1)))\n",
    "model.add(MaxPooling2D(pool_size=(2, 2)))\n",
    "model.add(Flatten())\n",
    "model.add(Dense(128, activation='relu'))\n",
    "model.add(Dense(10, activation='softmax'))"
   ]
  },
  {
   "cell_type": "code",
   "execution_count": 6,
   "metadata": {},
   "outputs": [],
   "source": [
    "# Compile the model\n",
    "model.compile(loss='categorical_crossentropy', optimizer=SGD(), metrics=['accuracy'])"
   ]
  },
  {
   "cell_type": "code",
   "execution_count": 7,
   "metadata": {},
   "outputs": [
    {
     "name": "stdout",
     "output_type": "stream",
     "text": [
      "Epoch 1/10\n",
      "1875/1875 [==============================] - 31s 16ms/step - loss: 0.4805 - accuracy: 0.8674 - val_loss: 0.2288 - val_accuracy: 0.9328\n",
      "Epoch 2/10\n",
      "1875/1875 [==============================] - 25s 13ms/step - loss: 0.2189 - accuracy: 0.9350 - val_loss: 0.1710 - val_accuracy: 0.9512\n",
      "Epoch 3/10\n",
      "1875/1875 [==============================] - 26s 14ms/step - loss: 0.1656 - accuracy: 0.9519 - val_loss: 0.1416 - val_accuracy: 0.9572\n",
      "Epoch 4/10\n",
      "1875/1875 [==============================] - 28s 15ms/step - loss: 0.1349 - accuracy: 0.9593 - val_loss: 0.1262 - val_accuracy: 0.9619\n",
      "Epoch 5/10\n",
      "1875/1875 [==============================] - 28s 15ms/step - loss: 0.1138 - accuracy: 0.9663 - val_loss: 0.1109 - val_accuracy: 0.9663\n",
      "Epoch 6/10\n",
      "1875/1875 [==============================] - 24s 13ms/step - loss: 0.0993 - accuracy: 0.9706 - val_loss: 0.0968 - val_accuracy: 0.9707\n",
      "Epoch 7/10\n",
      "1875/1875 [==============================] - 24s 13ms/step - loss: 0.0881 - accuracy: 0.9731 - val_loss: 0.0849 - val_accuracy: 0.9736\n",
      "Epoch 8/10\n",
      "1875/1875 [==============================] - 28s 15ms/step - loss: 0.0786 - accuracy: 0.9760 - val_loss: 0.0871 - val_accuracy: 0.9730\n",
      "Epoch 9/10\n",
      "1875/1875 [==============================] - 24s 13ms/step - loss: 0.0711 - accuracy: 0.9788 - val_loss: 0.0794 - val_accuracy: 0.9746\n",
      "Epoch 10/10\n",
      "1875/1875 [==============================] - 28s 15ms/step - loss: 0.0651 - accuracy: 0.9808 - val_loss: 0.0693 - val_accuracy: 0.9777\n"
     ]
    },
    {
     "data": {
      "text/plain": [
       "<keras.callbacks.History at 0x1b56b574508>"
      ]
     },
     "execution_count": 7,
     "metadata": {},
     "output_type": "execute_result"
    }
   ],
   "source": [
    "# Train the model\n",
    "model.fit(x_train, y_train, batch_size=32, epochs=10, validation_data=(x_test, y_test))"
   ]
  },
  {
   "cell_type": "code",
   "execution_count": 8,
   "metadata": {},
   "outputs": [
    {
     "name": "stdout",
     "output_type": "stream",
     "text": [
      "313/313 [==============================] - 2s 5ms/step - loss: 0.0693 - accuracy: 0.9777\n",
      "Test loss: 0.06932095438241959\n",
      "Test accuracy: 0.9776999950408936\n"
     ]
    }
   ],
   "source": [
    "# Evaluate the model\n",
    "score = model.evaluate(x_test, y_test, batch_size=32)\n",
    "print(\"Test loss:\", score[0])\n",
    "print(\"Test accuracy:\", score[1])"
   ]
  }
 ],
 "metadata": {
  "kernelspec": {
   "display_name": "'venv1'",
   "language": "python",
   "name": "conda"
  },
  "language_info": {
   "codemirror_mode": {
    "name": "ipython",
    "version": 3
   },
   "file_extension": ".py",
   "mimetype": "text/x-python",
   "name": "python",
   "nbconvert_exporter": "python",
   "pygments_lexer": "ipython3",
   "version": "3.7.4"
  },
  "orig_nbformat": 4,
  "vscode": {
   "interpreter": {
    "hash": "12d37d03e29907ddf2c648e7ca97c2664521e3e6dbb13ba26dd677f6ee98ebe1"
   }
  }
 },
 "nbformat": 4,
 "nbformat_minor": 2
}
