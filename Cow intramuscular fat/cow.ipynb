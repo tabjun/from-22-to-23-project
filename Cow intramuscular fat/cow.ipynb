{
 "cells": [
  {
   "attachments": {},
   "cell_type": "markdown",
   "metadata": {},
   "source": [
    "# <p style = 'font-size:45px'> <span style = 'color:yellow'> Link <span> </p>\n",
    "[Markdown꾸미기](https://leedakyeong.tistory.com/entry/Markdown-Jupyter-Notebook-%EC%A3%BC%ED%94%BC%ED%84%B0-%EB%85%B8%ED%8A%B8%EB%B6%81-%EB%A7%88%ED%81%AC%EB%8B%A4%EC%9A%B4-%EC%A0%95%EB%A6%AC)  \n",
    "[Notion](https://gravel-turnover-821.notion.site/850bc7ba43a44299ae41bd4144d7462f)"
   ]
  },
  {
   "attachments": {},
   "cell_type": "markdown",
   "metadata": {},
   "source": [
    "<h5> <span style = 'color:blue'> Cow Project<span> </h5>"
   ]
  },
  {
   "attachments": {},
   "cell_type": "markdown",
   "metadata": {},
   "source": [
    "<img src = 'https://www.newsworks.co.kr/news/photo/202103/537213_423279_554.jpg' width = '500px' height ='300px' title = 'Cow project' alt = 'Error image'></img><br/>"
   ]
  },
  {
   "cell_type": "code",
   "execution_count": 11,
   "metadata": {},
   "outputs": [],
   "source": [
    "# Using package\n",
    "import pandas as pd\n",
    "import os\n",
    "import pandas_profiling\n",
    "import statsmodels.api as sm\n",
    "import numpy as np"
   ]
  },
  {
   "attachments": {},
   "cell_type": "markdown",
   "metadata": {},
   "source": [
    "<h4> EDA </h4>"
   ]
  },
  {
   "cell_type": "code",
   "execution_count": 2,
   "metadata": {},
   "outputs": [],
   "source": [
    "os.chdir('C:\\\\Users\\\\user\\\\Desktop\\\\윤태준\\\\소')\n",
    "# File형식 cp949\n",
    "cow = pd.read_csv('5대_근내eng.csv', encoding = 'cp949')"
   ]
  },
  {
   "cell_type": "code",
   "execution_count": null,
   "metadata": {},
   "outputs": [],
   "source": [
    "cow.head() # 깨지지 않고 잘 불러와졌나 확인"
   ]
  },
  {
   "cell_type": "code",
   "execution_count": null,
   "metadata": {},
   "outputs": [],
   "source": [
    "pr=cow.profile_report() # Saving in pr what cow data profiling result report\n",
    "# pr.to_file('cow_profiling_report.html') # Saving a report in html \n",
    "# pr # Checking report"
   ]
  },
  {
   "cell_type": "code",
   "execution_count": 38,
   "metadata": {},
   "outputs": [
    {
     "name": "stdout",
     "output_type": "stream",
     "text": [
      "<class 'pandas.core.frame.DataFrame'>\n",
      "RangeIndex: 3743 entries, 0 to 3742\n",
      "Data columns (total 28 columns):\n",
      " #   Column              Non-Null Count  Dtype  \n",
      "---  ------              --------------  -----  \n",
      " 0   a_id                3743 non-null   int64  \n",
      " 1   a_sex               3743 non-null   object \n",
      " 2   a_birth             3743 non-null   object \n",
      " 3   slaughter_month     3743 non-null   int64  \n",
      " 4   slaughter_day       3743 non-null   object \n",
      " 5   class               3743 non-null   object \n",
      " 6   slaughter_weight    3743 non-null   int64  \n",
      " 7   intramusular_fat    3733 non-null   float64\n",
      " 8   b_id                3743 non-null   int64  \n",
      " 9   b_intramusular_fat  3743 non-null   float64\n",
      " 10  b_total             3743 non-null   int64  \n",
      " 11  b_sibling_count     3743 non-null   int64  \n",
      " 12  c_id                3743 non-null   int64  \n",
      " 13  c_intramusular_fat  3743 non-null   float64\n",
      " 14  c_total             3743 non-null   int64  \n",
      " 15  c_sibling_count     3743 non-null   int64  \n",
      " 16  d_id                3743 non-null   int64  \n",
      " 17  d_intramusular_fat  3743 non-null   float64\n",
      " 18  d_total             3743 non-null   int64  \n",
      " 19  d_sibling_count     3743 non-null   int64  \n",
      " 20  e_id                3743 non-null   int64  \n",
      " 21  e_intramusular_fat  3743 non-null   float64\n",
      " 22  e_total             3743 non-null   int64  \n",
      " 23  e_sibling_count     3743 non-null   int64  \n",
      " 24  f_id                3743 non-null   int64  \n",
      " 25  f_intramusular_fat  3743 non-null   float64\n",
      " 26  f_total             3743 non-null   int64  \n",
      " 27  f_sibling_count     3743 non-null   int64  \n",
      "dtypes: float64(6), int64(18), object(4)\n",
      "memory usage: 818.9+ KB\n"
     ]
    }
   ],
   "source": [
    "cow.info()"
   ]
  },
  {
   "cell_type": "code",
   "execution_count": 3,
   "metadata": {},
   "outputs": [
    {
     "data": {
      "text/plain": [
       "Index(['a_id', 'a_sex', 'a_birth', 'slaughter_month', 'slaughter_day', 'class',\n",
       "       'slaughter_weight', 'intramusular_fat', 'b_id', 'b_intramusular_fat',\n",
       "       'b_total', 'b_sibling_count', 'c_id', 'c_intramusular_fat', 'c_total',\n",
       "       'c_sibling_count', 'd_id', 'd_intramusular_fat', 'd_total',\n",
       "       'd_sibling_count', 'e_id', 'e_intramusular_fat', 'e_total',\n",
       "       'e_sibling_count', 'f_id', 'f_intramusular_fat', 'f_total',\n",
       "       'f_sibling_count'],\n",
       "      dtype='object')"
      ]
     },
     "execution_count": 3,
     "metadata": {},
     "output_type": "execute_result"
    }
   ],
   "source": [
    "cow.columns"
   ]
  },
  {
   "cell_type": "code",
   "execution_count": 55,
   "metadata": {},
   "outputs": [],
   "source": [
    "# Remove ID Variable for Using Logistic\n",
    "logit_cow = cow.drop(['a_id','b_id','c_id','d_id','e_id','f_id'],axis=1).copy()\n",
    "bin_cow = logit_cow.copy()"
   ]
  },
  {
   "cell_type": "code",
   "execution_count": 43,
   "metadata": {},
   "outputs": [
    {
     "name": "stdout",
     "output_type": "stream",
     "text": [
      "Index(['a_sex', 'a_birth', 'slaughter_month', 'slaughter_day', 'class',\n",
      "       'slaughter_weight', 'intramusular_fat', 'b_intramusular_fat', 'b_total',\n",
      "       'b_sibling_count', 'c_intramusular_fat', 'c_total', 'c_sibling_count',\n",
      "       'd_intramusular_fat', 'd_total', 'd_sibling_count',\n",
      "       'e_intramusular_fat', 'e_total', 'e_sibling_count',\n",
      "       'f_intramusular_fat', 'f_total', 'f_sibling_count'],\n",
      "      dtype='object')\n"
     ]
    }
   ],
   "source": [
    "print(logit_cow.columns)"
   ]
  },
  {
   "cell_type": "code",
   "execution_count": 5,
   "metadata": {},
   "outputs": [
    {
     "data": {
      "text/plain": [
       "count    3733.000000\n",
       "mean        5.745781\n",
       "std         2.104055\n",
       "min         1.000000\n",
       "25%         4.000000\n",
       "50%         6.000000\n",
       "75%         7.000000\n",
       "max         9.000000\n",
       "Name: intramusular_fat, dtype: float64"
      ]
     },
     "execution_count": 5,
     "metadata": {},
     "output_type": "execute_result"
    }
   ],
   "source": [
    "# Checking target variable Basic Statistics\n",
    "logit_cow.intramusular_fat.describe()"
   ]
  },
  {
   "cell_type": "code",
   "execution_count": 44,
   "metadata": {},
   "outputs": [],
   "source": [
    "logit_cow['in_fat'] = logit_cow['intramusular_fat'].apply(lambda x: 0 if 0 <= x <=5 else 1 ) "
   ]
  },
  {
   "cell_type": "code",
   "execution_count": 45,
   "metadata": {},
   "outputs": [
    {
     "name": "stdout",
     "output_type": "stream",
     "text": [
      "23\n"
     ]
    },
    {
     "data": {
      "text/plain": [
       "Index(['a_sex', 'a_birth', 'slaughter_month', 'slaughter_day', 'class',\n",
       "       'slaughter_weight', 'intramusular_fat', 'b_intramusular_fat', 'b_total',\n",
       "       'b_sibling_count', 'c_intramusular_fat', 'c_total', 'c_sibling_count',\n",
       "       'd_intramusular_fat', 'd_total', 'd_sibling_count',\n",
       "       'e_intramusular_fat', 'e_total', 'e_sibling_count',\n",
       "       'f_intramusular_fat', 'f_total', 'f_sibling_count', 'in_fat'],\n",
       "      dtype='object')"
      ]
     },
     "execution_count": 45,
     "metadata": {},
     "output_type": "execute_result"
    }
   ],
   "source": [
    "print(len(logit_cow.columns))\n",
    "logit_cow.columns"
   ]
  },
  {
   "attachments": {},
   "cell_type": "markdown",
   "metadata": {},
   "source": [
    "<h4 style='font-weight:bold'> Univariate Logistic </h4>\n",
    "<p style = 'font-size:15px'> Multinominal사용하려니 Softmax어쩌구해서 Binary로 변경해서 돌려봄 </p>\n",
    "    <p style = 'font-size:15px'> 1번째, 5이하 : 0, 5초과 1 </p>\n",
    "    <p style = 'font-size:15px'> 2번째, Binning </p>\n",
    "    <p style = 'font-size:15px'> Comparing each Univariate logistic regression </p>\n",
    "    <p style = 'font-size:15px'> 찾아봤을 때 태어난 날짜, 년, 일은 등급을 판정할 때 따로 언급하지 않음, 도축개월만 따짐, 시간에 대한거는 도축개월만 남기고 다 제거 </p>\n",
    "    <p style = 'font-size:15px'> 추후에 날짜에 대해서 해당 계절이 영향을 끼친다 등에 대한 정보를 얻으면 날짜를 이용해서 계절만 추가하고, 날짜는 사용안함,\n",
    "          > 계절 고려하는 것도 \n",
    "              > 1. 태어난 날에 대한 계절인지\n",
    "              > 2. 도축할 때 계절인지\n",
    "              > 3. 태어난 날 ~ 도축한 날에 대한 계절인지 3가지 확인 필요(도축하는 사람한테 물어보기) </p>\n",
    "    <p style = 'font-size:15px'> 만약에 Season 만들면 </p>"
   ]
  },
  {
   "cell_type": "code",
   "execution_count": 46,
   "metadata": {},
   "outputs": [
    {
     "name": "stdout",
     "output_type": "stream",
     "text": [
      "제거 전 변수:Index(['a_sex', 'a_birth', 'slaughter_month', 'slaughter_day', 'class',\n",
      "       'slaughter_weight', 'intramusular_fat', 'b_intramusular_fat', 'b_total',\n",
      "       'b_sibling_count', 'c_intramusular_fat', 'c_total', 'c_sibling_count',\n",
      "       'd_intramusular_fat', 'd_total', 'd_sibling_count',\n",
      "       'e_intramusular_fat', 'e_total', 'e_sibling_count',\n",
      "       'f_intramusular_fat', 'f_total', 'f_sibling_count', 'in_fat'],\n",
      "      dtype='object')\n",
      "제거 전 변수 개수:23\n",
      "제거 후 변수:Index(['a_sex', 'slaughter_month', 'class', 'slaughter_weight',\n",
      "       'b_intramusular_fat', 'b_total', 'b_sibling_count',\n",
      "       'c_intramusular_fat', 'c_total', 'c_sibling_count',\n",
      "       'd_intramusular_fat', 'd_total', 'd_sibling_count',\n",
      "       'e_intramusular_fat', 'e_total', 'e_sibling_count',\n",
      "       'f_intramusular_fat', 'f_total', 'f_sibling_count', 'in_fat'],\n",
      "      dtype='object')\n",
      "제거 후 변수 개수:20\n"
     ]
    }
   ],
   "source": [
    "# First, 0 and 1\n",
    "# Data set: logit_cow\n",
    "print(f'제거 전 변수:{logit_cow.columns}') # Check variable\n",
    "print(f'제거 전 변수 개수:{len(logit_cow.columns)}')\n",
    "# Remove intramusular_fat, birth, day\n",
    "logit_cow.drop(['intramusular_fat','a_birth','slaughter_day'],\n",
    " axis=1, inplace=True) # Remove Multinominal and Birth \n",
    "print(f'제거 후 변수:{logit_cow.columns}') # Check variable\n",
    "print(f'제거 후 변수 개수:{len(logit_cow.columns)}') # Check Number of Variable for Using iloc function\n"
   ]
  },
  {
   "cell_type": "code",
   "execution_count": null,
   "metadata": {},
   "outputs": [],
   "source": [
    "for i in range(0,20): # 첫번째 부터 21번째까지\n",
    "    print(f'순서:{i+1}번째 변수')\n",
    "    model = sm.Logit.from_formula('in_fat ~ logit_cow.iloc[:,i]', logit_cow).fit()\n",
    "    print(f'독립변수 이름: {logit_cow.columns[i]}')\n",
    "    print(model.summary())\n",
    "    # print('============='*3)\n",
    "    # print(f'모델 AIC:{model.aic}')\n",
    "    # print('\\n')\n",
    "    # print(f'오즈비{np.exp(model.params)}')\n",
    "    # print('\\n')"
   ]
  },
  {
   "cell_type": "code",
   "execution_count": 51,
   "metadata": {},
   "outputs": [
    {
     "name": "stdout",
     "output_type": "stream",
     "text": [
      "(5, 9]    2276\n",
      "(0, 5]    1457\n",
      "Name: intramusular_fat, dtype: int64\n",
      "\n",
      "\n",
      "제거 전 변수:Index(['a_sex', 'slaughter_month', 'class', 'slaughter_weight',\n",
      "       'b_intramusular_fat', 'b_total', 'b_sibling_count',\n",
      "       'c_intramusular_fat', 'c_total', 'c_sibling_count',\n",
      "       'd_intramusular_fat', 'd_total', 'd_sibling_count',\n",
      "       'e_intramusular_fat', 'e_total', 'e_sibling_count',\n",
      "       'f_intramusular_fat', 'f_total', 'f_sibling_count'],\n",
      "      dtype='object')\n",
      "제거 전 변수 개수:19\n",
      "\n",
      "\n",
      "제거 후 변수:Index(['a_sex', 'slaughter_month', 'class', 'slaughter_weight',\n",
      "       'b_intramusular_fat', 'b_total', 'b_sibling_count',\n",
      "       'c_intramusular_fat', 'c_total', 'c_sibling_count',\n",
      "       'd_intramusular_fat', 'd_total', 'd_sibling_count',\n",
      "       'e_intramusular_fat', 'e_total', 'e_sibling_count',\n",
      "       'f_intramusular_fat', 'f_total', 'f_sibling_count'],\n",
      "      dtype='object')\n",
      "제거 후 변수 개수:19\n"
     ]
    }
   ],
   "source": [
    "# Second binning\n",
    "bins = [0, 5, 9]\n",
    "bin_cow.bin_fat = pd.cut(bin_cow.intramusular_fat, bins= bins) # Apply Binning\n",
    "print(bin_cow.bin_fat.value_counts()) #Checking\n",
    "print('\\n')\n",
    "# Data set: bin_cow\n",
    "print(f'제거 전 변수:{bin_cow.columns}') # Check variable\n",
    "print(f'제거 전 변수 개수:{len(bin_cow.columns)}')\n",
    "print('\\n')\n",
    "# Remove intramusular_fat, birth, day\n",
    "bin_cow.drop(['intramusular_fat','a_birth','slaughter_day'],\n",
    " axis=1, inplace=True) # Remove Multinominal and Birth \n",
    "print(f'제거 후 변수:{bin_cow.columns}') # Check variable\n",
    "print(f'제거 후 변수 개수:{len(bin_cow.columns)}') # Check Number of Variable for Using iloc function\n"
   ]
  },
  {
   "cell_type": "code",
   "execution_count": null,
   "metadata": {},
   "outputs": [],
   "source": [
    "for i in range(0,20): # 첫번째 부터 21번째까지\n",
    "    print(f'순서:{i+1}번째 변수')\n",
    "    model = sm.Logit.from_formula('in_fat ~ logit_cow.iloc[:,i]', logit_cow).fit()\n",
    "    print(f'독립변수 이름: {logit_cow.columns[i]}')\n",
    "    print(model.summary())\n",
    "    # print('============='*3)\n",
    "    # print(f'모델 AIC:{model.aic}')\n",
    "    # print('\\n')\n",
    "    # print(f'오즈비{np.exp(model.params)}')\n",
    "    # print('\\n')"
   ]
  }
 ],
 "metadata": {
  "kernelspec": {
   "display_name": "Python 3",
   "language": "python",
   "name": "python3"
  },
  "language_info": {
   "codemirror_mode": {
    "name": "ipython",
    "version": 3
   },
   "file_extension": ".py",
   "mimetype": "text/x-python",
   "name": "python",
   "nbconvert_exporter": "python",
   "pygments_lexer": "ipython3",
   "version": "3.10.0"
  },
  "orig_nbformat": 4,
  "vscode": {
   "interpreter": {
    "hash": "fb4569285eef3a3450cb62085a5b1e0da4bce0af555edc33dcf29baf3acc1368"
   }
  }
 },
 "nbformat": 4,
 "nbformat_minor": 2
}
